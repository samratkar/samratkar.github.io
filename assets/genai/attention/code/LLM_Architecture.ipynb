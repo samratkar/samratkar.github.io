{
  "cells": [
    {
      "cell_type": "markdown",
      "metadata": {
        "colab_type": "text",
        "id": "view-in-github"
      },
      "source": [
        "<a href=\"https://colab.research.google.com/github/samratkar/samratkar.github.io/blob/main/LLM_Architecture_(1).ipynb\" target=\"_parent\"><img src=\"https://colab.research.google.com/assets/colab-badge.svg\" alt=\"Open In Colab\"/></a>"
      ]
    },
    {
      "cell_type": "markdown",
      "metadata": {
        "id": "2IMPiLlbR9PN"
      },
      "source": [
        "#### GPT ARCHITECTURE PART 1: LAYER NORMALIZATION\n"
      ]
    },
    {
      "cell_type": "code",
      "execution_count": 1,
      "metadata": {
        "colab": {
          "base_uri": "https://localhost:8080/"
        },
        "id": "YsqymXyrR9PN",
        "outputId": "5e8dea5a-05f8-4079-a3ad-02fe2a88e310"
      },
      "outputs": [
        {
          "name": "stdout",
          "output_type": "stream",
          "text": [
            "tensor([[-0.1115,  0.1204, -0.3696, -0.2404, -1.1969],\n",
            "        [ 0.2093, -0.9724, -0.7550,  0.3239, -0.1085]])\n"
          ]
        }
      ],
      "source": [
        "import torch\n",
        "import torch.nn as nn\n",
        "torch.manual_seed(123)\n",
        "batch_example = torch.randn(2, 5) #A\n",
        "print(batch_example)"
      ]
    },
    {
      "cell_type": "markdown",
      "metadata": {
        "id": "UAWK9WHxR9PN"
      },
      "source": [
        "<div class=\"alert alert-block alert-success\">\n",
        "\n",
        "Before we apply layer normalization to these outputs, let's examine the mean and\n",
        "variance:\n",
        "\n",
        "</div>"
      ]
    },
    {
      "cell_type": "code",
      "execution_count": 2,
      "metadata": {
        "colab": {
          "base_uri": "https://localhost:8080/"
        },
        "id": "OFMuVouMR9PN",
        "outputId": "515d29fa-18ba-4190-9d3b-d4c7f0a3ed7e"
      },
      "outputs": [
        {
          "name": "stdout",
          "output_type": "stream",
          "text": [
            "Mean:\n",
            " tensor([[-0.3596],\n",
            "        [-0.2606]])\n",
            "Variance:\n",
            " tensor([[0.2518],\n",
            "        [0.3342]])\n"
          ]
        }
      ],
      "source": [
        "mean = batch_example.mean(dim=-1, keepdim=True)\n",
        "var = batch_example.var(dim=-1, keepdim=True)\n",
        "print(\"Mean:\\n\", mean)\n",
        "print(\"Variance:\\n\", var)"
      ]
    },
    {
      "cell_type": "markdown",
      "metadata": {
        "id": "cFkLE5x1R9PN"
      },
      "source": [
        "<div class=\"alert alert-block alert-warning\">\n",
        "\n",
        "The first row in the mean tensor above contains the mean value for the first input row, and\n",
        "the second output row contains the mean for the second input row.\n",
        "</div>"
      ]
    },
    {
      "cell_type": "markdown",
      "metadata": {
        "id": "1kR8gBObR9PN"
      },
      "source": [
        "<div class=\"alert alert-block alert-success\">\n",
        "\n",
        "Next, let us apply layer normalization to the layer outputs we obtained earlier. The\n",
        "operation consists of subtracting the mean and dividing by the square root of the variance\n",
        "(also known as standard deviation):\n",
        "\n",
        "</div>"
      ]
    },
    {
      "cell_type": "code",
      "execution_count": 3,
      "metadata": {
        "colab": {
          "base_uri": "https://localhost:8080/"
        },
        "id": "X78pRhZSR9PN",
        "outputId": "b10ad193-ed10-4d49-8334-c5d910828589"
      },
      "outputs": [
        {
          "name": "stdout",
          "output_type": "stream",
          "text": [
            "Normalized layer outputs:\n",
            " tensor([[ 0.4945,  0.9564, -0.0200,  0.2375, -1.6685],\n",
            "        [ 0.8128, -1.2314, -0.8554,  1.0111,  0.2630]])\n",
            "Mean:\n",
            " tensor([[-2.6822e-08],\n",
            "        [ 2.3842e-08]])\n",
            "Variance:\n",
            " tensor([[1.0000],\n",
            "        [1.0000]])\n"
          ]
        }
      ],
      "source": [
        "out_norm = (batch_example - mean) / torch.sqrt(var)\n",
        "mean = out_norm.mean(dim=-1, keepdim=True)\n",
        "var = out_norm.var(dim=-1, keepdim=True)\n",
        "print(\"Normalized layer outputs:\\n\", out_norm)\n",
        "print(\"Mean:\\n\", mean)\n",
        "print(\"Variance:\\n\", var)"
      ]
    },
    {
      "cell_type": "markdown",
      "metadata": {
        "id": "vhCZU6ymR9PN"
      },
      "source": [
        "<div class=\"alert alert-block alert-success\">\n",
        "\n",
        "To improve readability, we can also turn off the scientific notation when printing tensor\n",
        "values by setting sci_mode to False:\n",
        "</div>"
      ]
    },
    {
      "cell_type": "markdown",
      "metadata": {
        "id": "YRfAcb-HR9PN"
      },
      "source": [
        "<div class=\"alert alert-block alert-success\">\n",
        "\n",
        "Let's now encapsulate this process in a PyTorch module that we can use in the GPT\n",
        "model later:\n",
        "</div>"
      ]
    },
    {
      "cell_type": "code",
      "execution_count": 4,
      "metadata": {
        "id": "eWiYvlUBR9PN"
      },
      "outputs": [],
      "source": [
        "class LayerNorm(nn.Module):\n",
        "    def __init__(self, emb_dim):\n",
        "        super().__init__()\n",
        "        self.eps = 1e-5\n",
        "        self.scale = nn.Parameter(torch.ones(emb_dim))\n",
        "        self.shift = nn.Parameter(torch.zeros(emb_dim))\n",
        "\n",
        "    def forward(self, x):\n",
        "        mean = x.mean(dim=-1, keepdim=True)\n",
        "        var = x.var(dim=-1, keepdim=True, unbiased=False)\n",
        "        norm_x = (x - mean) / torch.sqrt(var + self.eps)\n",
        "        return self.scale * norm_x + self.shift"
      ]
    },
    {
      "cell_type": "markdown",
      "metadata": {
        "id": "0JpKRsBAR9PN"
      },
      "source": [
        "<div class=\"alert alert-block alert-warning\">\n",
        "\n",
        "The variable eps is a\n",
        "small constant (epsilon) added to the variance to prevent division by zero during\n",
        "normalization.\n",
        "\n",
        "The scale and shift are two trainable parameters (of the same dimension\n",
        "as the input) that the LLM automatically adjusts during training if it is determined that\n",
        "doing so would improve the model's performance on its training task.\n",
        "\n",
        "This allows the model\n",
        "to learn appropriate scaling and shifting that best suit the data it is processing.\n",
        "\n",
        "</div>"
      ]
    },
    {
      "cell_type": "markdown",
      "metadata": {
        "id": "KBZtBOzIR9PO"
      },
      "source": [
        "<div class=\"alert alert-block alert-success\">\n",
        "\n",
        "Let's now try the LayerNorm module in practice and apply it to the batch input:\n",
        "</div>"
      ]
    },
    {
      "cell_type": "code",
      "execution_count": 5,
      "metadata": {
        "colab": {
          "base_uri": "https://localhost:8080/"
        },
        "id": "dn0iTSOuR9PO",
        "outputId": "27f42b18-cafb-435a-8775-76281bb507ed"
      },
      "outputs": [
        {
          "name": "stdout",
          "output_type": "stream",
          "text": [
            "tensor([[ 0.2103, -0.3908,  0.2350,  0.6653,  0.3528],\n",
            "        [ 0.9728, -0.0386, -0.8861, -0.4709, -0.4269]])\n"
          ]
        }
      ],
      "source": [
        "ln = LayerNorm(emb_dim=5)\n",
        "batch_example = torch.randn(2, 5) #A\n",
        "print(batch_example)\n"
      ]
    },
    {
      "cell_type": "code",
      "execution_count": 6,
      "metadata": {
        "colab": {
          "base_uri": "https://localhost:8080/"
        },
        "id": "fYdM0Ulo1ols",
        "outputId": "23397f2b-1348-4897-a222-39f8c7318315"
      },
      "outputs": [
        {
          "name": "stdout",
          "output_type": "stream",
          "text": [
            "Mean:\n",
            " tensor([[ 4.7684e-08],\n",
            "        [-2.3842e-08]], grad_fn=<MeanBackward1>)\n",
            "Variance:\n",
            " tensor([[0.9999],\n",
            "        [1.0000]], grad_fn=<VarBackward0>)\n"
          ]
        }
      ],
      "source": [
        "out_ln = ln(batch_example)\n",
        "mean = out_ln.mean(dim=-1, keepdim=True)\n",
        "var = out_ln.var(dim=-1, unbiased=False, keepdim=True)\n",
        "print(\"Mean:\\n\", mean)\n",
        "print(\"Variance:\\n\", var)"
      ]
    },
    {
      "cell_type": "markdown",
      "metadata": {
        "id": "YHxWmKY-R9PO"
      },
      "source": [
        "<div class=\"alert alert-block alert-info\">\n",
        "\n",
        "As we can see based on the results, the layer normalization code works as expected and\n",
        "normalizes the values of each of the two inputs such that they have a mean of 0 and a\n",
        "variance of 1:\n",
        "</div>"
      ]
    },
    {
      "cell_type": "markdown",
      "metadata": {
        "id": "bkRfl7wjR9PO"
      },
      "source": [
        "## GPT ARCHITECTURE PART 3: FEEDFORWARD NEURAL NETWORK WITH GELU ACTIVATION"
      ]
    },
    {
      "cell_type": "markdown",
      "metadata": {
        "id": "f4r4ZWS7R9PO"
      },
      "source": [
        "<div class=\"alert alert-block alert-success\">\n",
        "\n",
        "Let's implement the GELU activation function approximation used by GPT-2:\n",
        "</div>"
      ]
    },
    {
      "cell_type": "code",
      "execution_count": 7,
      "metadata": {
        "id": "z-nqLyxtR9PO"
      },
      "outputs": [],
      "source": [
        "class GELU(nn.Module):\n",
        "    def __init__(self):\n",
        "        super().__init__()\n",
        "\n",
        "    def forward(self, x):\n",
        "        return 0.5 * x * (1 + torch.tanh(\n",
        "            torch.sqrt(torch.tensor(2.0 / torch.pi)) *\n",
        "            (x + 0.044715 * torch.pow(x, 3))\n",
        "        ))"
      ]
    },
    {
      "cell_type": "markdown",
      "metadata": {
        "id": "knsp8E6LR9PO"
      },
      "source": [
        "<div class=\"alert alert-block alert-success\">\n",
        "\n",
        "To get an idea of what this GELU function looks like and how it compares to the ReLU\n",
        "function, let's plot these functions side by side:\n",
        "</div>"
      ]
    },
    {
      "cell_type": "code",
      "execution_count": 8,
      "metadata": {
        "colab": {
          "base_uri": "https://localhost:8080/",
          "height": 307
        },
        "id": "mdEZgsjqR9PO",
        "outputId": "848910ad-2148-4a76-a5c4-e711891cc9ae"
      },
      "outputs": [
        {
          "data": {
            "image/png": "[encoded data removed]",
            "text/plain": [
              "<Figure size 800x300 with 2 Axes>"
            ]
          },
          "metadata": {},
          "output_type": "display_data"
        }
      ],
      "source": [
        "import matplotlib.pyplot as plt\n",
        "\n",
        "gelu, relu = GELU(), nn.ReLU()\n",
        "\n",
        "# Some sample data\n",
        "x = torch.linspace(-3, 3, 100)\n",
        "y_gelu, y_relu = gelu(x), relu(x)\n",
        "\n",
        "plt.figure(figsize=(8, 3))\n",
        "for i, (y, label) in enumerate(zip([y_gelu, y_relu], [\"GELU\", \"ReLU\"]), 1):\n",
        "    plt.subplot(1, 2, i)\n",
        "    plt.plot(x, y)\n",
        "    plt.title(f\"{label} activation function\")\n",
        "    plt.xlabel(\"x\")\n",
        "    plt.ylabel(f\"{label}(x)\")\n",
        "    plt.grid(True)\n",
        "\n",
        "plt.tight_layout()\n",
        "plt.show()\n"
      ]
    },
    {
      "cell_type": "markdown",
      "metadata": {
        "id": "Gg7xNVWmR9PO"
      },
      "source": [
        "<div class=\"alert alert-block alert-info\">\n",
        "\n",
        "As we can see in the resulting plot, ReLU is a piecewise linear function that\n",
        "outputs the input directly if it is positive; otherwise, it outputs zero.\n",
        "\n",
        "GELU is a smooth, nonlinear function that approximates ReLU but with a non-zero gradient for negative values.\n",
        "</div>"
      ]
    },
    {
      "cell_type": "markdown",
      "metadata": {
        "id": "Xwzb4JGvR9PO"
      },
      "source": [
        "<div class=\"alert alert-block alert-warning\">\n",
        "\n",
        "The smoothness of GELU, as shown in the above figure, can lead to better optimization properties\n",
        "during training, as it allows for more nuanced adjustments to the model's parameters.\n",
        "\n",
        "In contrast, ReLU has a sharp corner at zero, which can sometimes make optimization harder,\n",
        "especially in networks that are very deep or have complex architectures.\n",
        "\n",
        "Moreover, unlike RELU, which outputs zero for any negative input, GELU allows for a small, non-zero output\n",
        "for negative values.\n",
        "\n",
        "This characteristic means that during the training process, neurons that\n",
        "receive negative input can still contribute to the learning process, albeit to a lesser extent\n",
        "than positive inputs.\n",
        "\n",
        "</div>"
      ]
    },
    {
      "cell_type": "markdown",
      "metadata": {
        "id": "NEXFDyzJR9PO"
      },
      "source": [
        "<div class=\"alert alert-block alert-success\">\n",
        "\n",
        "Next, let's use the GELU function to implement the small neural network module,\n",
        "FeedForward, that we will be using in the LLM's transformer block later:\n",
        "</div>"
      ]
    },
    {
      "cell_type": "code",
      "execution_count": 9,
      "metadata": {
        "id": "B0lS7qjvR9PO"
      },
      "outputs": [],
      "source": [
        "class FeedForward(nn.Module):\n",
        "    def __init__(self, cfg):\n",
        "        super().__init__()\n",
        "        self.layers = nn.Sequential(\n",
        "            nn.Linear(cfg[\"emb_dim\"], 4 * cfg[\"emb_dim\"]),\n",
        "            GELU(),\n",
        "            nn.Linear(4 * cfg[\"emb_dim\"], cfg[\"emb_dim\"]),\n",
        "        )\n",
        "\n",
        "    def forward(self, x):\n",
        "        return self.layers(x)"
      ]
    },
    {
      "cell_type": "markdown",
      "metadata": {
        "id": "HyjFh-bjR9PO"
      },
      "source": [
        "<div class=\"alert alert-block alert-success\">\n",
        "\n",
        "Let's use the GELU function to implement the small neural network module,\n",
        "FeedForward, that we will be using in the LLM's transformer block later:\n",
        "</div>"
      ]
    },
    {
      "cell_type": "code",
      "execution_count": 10,
      "metadata": {
        "id": "mjM7i4ppXICj"
      },
      "outputs": [],
      "source": [
        "GPT_CONFIG_124M = {\n",
        "    \"vocab_size\": 50257,    # Vocabulary size\n",
        "    \"context_length\": 256, # Context length\n",
        "    \"emb_dim\": 768,         # Embedding dimension\n",
        "    \"n_heads\": 12,          # Number of attention heads\n",
        "    \"n_layers\": 12,         # Number of layers\n",
        "    \"drop_rate\": 0.1,       # Dropout rate\n",
        "    \"qkv_bias\": False       # Query-Key-Value bias\n",
        "}"
      ]
    },
    {
      "cell_type": "code",
      "execution_count": 11,
      "metadata": {
        "colab": {
          "base_uri": "https://localhost:8080/"
        },
        "id": "CAaofCetR9PO",
        "outputId": "fae8f273-ce27-4411-e5b9-b7016d9a56dd"
      },
      "outputs": [
        {
          "name": "stdout",
          "output_type": "stream",
          "text": [
            "torch.Size([2, 3, 768])\n"
          ]
        }
      ],
      "source": [
        "ffn = FeedForward(GPT_CONFIG_124M)\n",
        "x = torch.rand(2, 3, 768) #A\n",
        "out = ffn(x)\n",
        "print(out.shape)"
      ]
    },
    {
      "cell_type": "markdown",
      "metadata": {
        "id": "arkZ-zx9R9PP"
      },
      "source": [
        "<div class=\"alert alert-block alert-warning\">\n",
        "\n",
        "The FeedForward module we implemented in this section plays a crucial role in enhancing\n",
        "the model's ability to learn from and generalize the data.\n",
        "\n",
        "\n",
        "Although the input and output dimensions of this module are the same, it internally expands the embedding dimension\n",
        "into a higher-dimensional space through the first linear layer.\n",
        "\n",
        "This expansion is followed by a non-linear GELU activation, and then a contraction back to\n",
        "the original dimension with the second linear transformation.\n",
        "\n",
        "Such a design allows for the\n",
        "exploration of a richer representation space.\n",
        "\n",
        "</div>"
      ]
    },
    {
      "cell_type": "markdown",
      "metadata": {
        "id": "MQHBqJH9R9PP"
      },
      "source": [
        "<div class=\"alert alert-block alert-warning\">\n",
        "\n",
        "Moreover, the uniformity in input and output dimensions simplifies the architecture by\n",
        "enabling the stacking of multiple layers, as we will do later, without the need to adjust\n",
        "dimensions between them, thus making the model more scalable.\n",
        "</div>"
      ]
    },
    {
      "cell_type": "markdown",
      "metadata": {
        "id": "8AxcTqIdR9PP"
      },
      "source": [
        "## GPT ARCHITECTURE PART 4: SHORTCUT CONNECTIONS"
      ]
    },
    {
      "cell_type": "markdown",
      "metadata": {
        "id": "NMJaWM4qR9PP"
      },
      "source": [
        "<div class=\"alert alert-block alert-success\">\n",
        "\n",
        "Let us see how we can add shortcut connections to the forward method:\n",
        "</div>"
      ]
    },
    {
      "cell_type": "code",
      "execution_count": 12,
      "metadata": {
        "id": "QVA0YM28R9PP"
      },
      "outputs": [],
      "source": [
        "class ExampleDeepNeuralNetwork(nn.Module):\n",
        "    def __init__(self, layer_sizes, use_shortcut):\n",
        "        super().__init__()\n",
        "        self.use_shortcut = use_shortcut\n",
        "        self.layers = nn.ModuleList([\n",
        "            nn.Sequential(nn.Linear(layer_sizes[0], layer_sizes[1]), GELU()),\n",
        "            nn.Sequential(nn.Linear(layer_sizes[1], layer_sizes[2]), GELU()),\n",
        "            nn.Sequential(nn.Linear(layer_sizes[2], layer_sizes[3]), GELU()),\n",
        "            nn.Sequential(nn.Linear(layer_sizes[3], layer_sizes[4]), GELU()),\n",
        "            nn.Sequential(nn.Linear(layer_sizes[4], layer_sizes[5]), GELU())\n",
        "        ])\n",
        "\n",
        "    def forward(self, x):\n",
        "        for layer in self.layers:\n",
        "            # Compute the output of the current layer\n",
        "            layer_output = layer(x)\n",
        "            # Check if shortcut can be applied\n",
        "            if self.use_shortcut and x.shape == layer_output.shape:\n",
        "                x = x + layer_output\n",
        "            else:\n",
        "                x = layer_output\n",
        "        return x\n"
      ]
    },
    {
      "cell_type": "markdown",
      "metadata": {
        "id": "5BKHvao7R9PP"
      },
      "source": [
        "<div class=\"alert alert-block alert-info\">\n",
        "\n",
        "The code implements a deep neural network with 5 layers, each consisting of a Linear\n",
        "layer and a GELU activation function.\n",
        "\n",
        "In the forward pass, we iteratively pass the input\n",
        "through the layers and optionally add the shortcut connections  if\n",
        "the self.use_shortcut attribute is set to True.\n",
        "</div>"
      ]
    },
    {
      "cell_type": "markdown",
      "metadata": {
        "id": "evaf1W-uR9PP"
      },
      "source": [
        "<div class=\"alert alert-block alert-success\">\n",
        "\n",
        "Let's use this code to first initialize a neural network without shortcut connections. Here,\n",
        "each layer will be initialized such that it accepts an example with 3 input values and returns\n",
        "3 output values. The last layer returns a single output value:\n",
        "</div>"
      ]
    },
    {
      "cell_type": "code",
      "execution_count": 13,
      "metadata": {
        "id": "o4qu90MvR9PP"
      },
      "outputs": [],
      "source": [
        "layer_sizes = [3, 3, 3, 3, 3, 1]\n",
        "sample_input = torch.tensor([[1., 0., -1.]])\n",
        "torch.manual_seed(123) # specify random seed for the initial weights for reproducibility\n",
        "model_without_shortcut = ExampleDeepNeuralNetwork(\n",
        "layer_sizes, use_shortcut=False\n",
        ")"
      ]
    },
    {
      "cell_type": "markdown",
      "metadata": {
        "id": "SOKR1KCsR9PP"
      },
      "source": [
        "<div class=\"alert alert-block alert-success\">\n",
        "\n",
        "Next, we implement a function that computes the gradients in the the model's backward\n",
        "pass:\n",
        "</div>"
      ]
    },
    {
      "cell_type": "code",
      "execution_count": 14,
      "metadata": {
        "id": "bmd6k243R9PP"
      },
      "outputs": [],
      "source": [
        "def print_gradients(model, x):\n",
        "    # Forward pass\n",
        "    output = model(x)\n",
        "    target = torch.tensor([[0.]])\n",
        "\n",
        "    # Calculate loss based on how close the target\n",
        "    # and output are\n",
        "    loss = nn.MSELoss()\n",
        "    loss = loss(output, target)\n",
        "\n",
        "    # Backward pass to calculate the gradients\n",
        "    loss.backward()\n",
        "\n",
        "    for name, param in model.named_parameters():\n",
        "        if 'weight' in name:\n",
        "            # Print the mean absolute gradient of the weights\n",
        "            print(f\"{name} has gradient mean of {param.grad.abs().mean().item()}\")"
      ]
    },
    {
      "cell_type": "markdown",
      "metadata": {
        "id": "TLkhZM5PR9PP"
      },
      "source": [
        "<div class=\"alert alert-block alert-warning\">\n",
        "\n",
        "In the preceding code, we specify a loss function that computes how close the model output\n",
        "and a user-specified target (here, for simplicity, the value 0) are.\n",
        "\n",
        "Then, when calling loss.backward(), PyTorch computes the loss gradient for each layer in the model.\n",
        "\n",
        "We can iterate through the weight parameters via model.named_parameters().\n",
        "\n",
        "Suppose we have a 3×3 weight parameter matrix for a given layer.\n",
        "\n",
        "In that case, this layer will have 3×3 gradient values, and we print the mean absolute gradient of these 3×3 gradient values to\n",
        "obtain a single gradient value per layer to compare the gradients between layers more\n",
        "easily.\n",
        "</div>"
      ]
    },
    {
      "cell_type": "markdown",
      "metadata": {
        "id": "eCtU4votR9PP"
      },
      "source": [
        "<div class=\"alert alert-block alert-warning\">\n",
        "\n",
        "In short, the .backward() method is a convenient method in PyTorch that computes loss\n",
        "gradients, which are required during model training, without implementing the math for the\n",
        "gradient calculation ourselves, thereby making working with deep neural networks much\n",
        "more accessible.\n",
        "</div>"
      ]
    },
    {
      "cell_type": "markdown",
      "metadata": {
        "id": "YnzLDSAZR9PP"
      },
      "source": [
        "<div class=\"alert alert-block alert-success\">\n",
        "\n",
        "Let's now use the print_gradients function and apply it to the model without skip\n",
        "connections:\n",
        "</div>"
      ]
    },
    {
      "cell_type": "code",
      "execution_count": 15,
      "metadata": {
        "colab": {
          "base_uri": "https://localhost:8080/"
        },
        "id": "3YbQjqYYR9PP",
        "outputId": "77af7039-d70a-42d6-8db4-822f7a2a3f62"
      },
      "outputs": [
        {
          "name": "stdout",
          "output_type": "stream",
          "text": [
            "layers.0.0.weight has gradient mean of 0.00020173590746708214\n",
            "layers.1.0.weight has gradient mean of 0.0001201116101583466\n",
            "layers.2.0.weight has gradient mean of 0.0007152042235247791\n",
            "layers.3.0.weight has gradient mean of 0.0013988739810883999\n",
            "layers.4.0.weight has gradient mean of 0.00504964729771018\n"
          ]
        }
      ],
      "source": [
        "print_gradients(model_without_shortcut, sample_input)"
      ]
    },
    {
      "cell_type": "markdown",
      "metadata": {
        "id": "Zf9JWk8FR9PP"
      },
      "source": [
        "<div class=\"alert alert-block alert-info\">\n",
        "As we can see based on the output of the print_gradients function, the gradients become\n",
        "smaller as we progress from the last layer (layers.4) to the first layer (layers.0), which\n",
        "is a phenomenon called the vanishing gradient problem.\n",
        "    \n",
        "</div>"
      ]
    },
    {
      "cell_type": "markdown",
      "metadata": {
        "id": "7h2O-NNVR9PP"
      },
      "source": [
        "<div class=\"alert alert-block alert-success\">\n",
        "Let's now instantiate a model with skip connections and see how it compares:\n",
        "</div>"
      ]
    },
    {
      "cell_type": "code",
      "execution_count": 16,
      "metadata": {
        "colab": {
          "base_uri": "https://localhost:8080/"
        },
        "id": "6kp3btXiR9PP",
        "outputId": "576708de-2139-44b3-d49a-f8c9181188d3"
      },
      "outputs": [
        {
          "name": "stdout",
          "output_type": "stream",
          "text": [
            "layers.0.0.weight has gradient mean of 0.22169791162014008\n",
            "layers.1.0.weight has gradient mean of 0.20694102346897125\n",
            "layers.2.0.weight has gradient mean of 0.32896995544433594\n",
            "layers.3.0.weight has gradient mean of 0.2665732204914093\n",
            "layers.4.0.weight has gradient mean of 1.3258541822433472\n"
          ]
        }
      ],
      "source": [
        "torch.manual_seed(123)\n",
        "model_with_shortcut = ExampleDeepNeuralNetwork(\n",
        "layer_sizes, use_shortcut=True\n",
        ")\n",
        "print_gradients(model_with_shortcut, sample_input)"
      ]
    },
    {
      "cell_type": "markdown",
      "metadata": {
        "id": "rdpvgR8uR9PQ"
      },
      "source": [
        "<div class=\"alert alert-block alert-info\">\n",
        "As we can see, based on the output, the last layer (layers.4) still has a larger gradient\n",
        "than the other layers.\n",
        "\n",
        "However, the gradient value stabilizes as we progress towards the\n",
        "first layer (layers.0) and doesn't shrink to a vanishingly small value.\n",
        "</div>"
      ]
    },
    {
      "cell_type": "markdown",
      "metadata": {
        "id": "1CptAJoGR9PQ"
      },
      "source": [
        "<div class=\"alert alert-block alert-warning\">\n",
        "\n",
        "In conclusion, shortcut connections are important for overcoming the limitations posed\n",
        "by the vanishing gradient problem in deep neural networks.\n",
        "\n",
        "Shortcut connections are a core building block of very large models such as LLMs, and they will help facilitate more effective\n",
        "training by ensuring consistent gradient flow across layers when we train the GPT model\n",
        "</div>"
      ]
    },
    {
      "cell_type": "markdown",
      "metadata": {
        "id": "-4tw7eA-R9PQ"
      },
      "source": [
        "## GPT ARCHITECTURE PART 5: CODING ATTENTION AND LINEAR LAYERS IN A TRANSFORMER BLOCK"
      ]
    },
    {
      "cell_type": "markdown",
      "metadata": {
        "id": "dPw7zbaGR9PQ"
      },
      "source": [
        "<div class=\"alert alert-block alert-success\">\n",
        "Let us code a transformer block as follows:\n",
        "</div>"
      ]
    },
    {
      "cell_type": "markdown",
      "metadata": {
        "id": "y7Szb1UeR9PQ"
      },
      "source": [
        "<div class=\"alert alert-block alert-info\">\n",
        "\n",
        "Step 1: Shortcut connection for attention block\n",
        "\n",
        "Step 2:  Shortcut connection for feed forward block\n",
        "\n",
        "Step 3: Add the original input back\n",
        "</div>"
      ]
    },
    {
      "cell_type": "code",
      "execution_count": 17,
      "metadata": {
        "id": "wjj_dvylaK9s"
      },
      "outputs": [],
      "source": [
        "import torch.nn as nn\n",
        "\n",
        "class MultiHeadAttention(nn.Module):\n",
        "    def __init__(self, d_in, d_out, context_length, dropout, num_heads, qkv_bias=False):\n",
        "        super().__init__()\n",
        "        assert (d_out % num_heads == 0), \\\n",
        "            \"d_out must be divisible by num_heads\"\n",
        "\n",
        "        self.d_out = d_out\n",
        "        self.num_heads = num_heads\n",
        "        self.head_dim = d_out // num_heads # Reduce the projection dim to match desired output dim\n",
        "\n",
        "        self.W_query = nn.Linear(d_in, d_out, bias=qkv_bias)\n",
        "        self.W_key = nn.Linear(d_in, d_out, bias=qkv_bias)\n",
        "        self.W_value = nn.Linear(d_in, d_out, bias=qkv_bias)\n",
        "        self.out_proj = nn.Linear(d_out, d_out)  # Linear layer to combine head outputs\n",
        "        self.dropout = nn.Dropout(dropout)\n",
        "        self.register_buffer(\n",
        "            \"mask\",\n",
        "            torch.triu(torch.ones(context_length, context_length),\n",
        "                       diagonal=1)\n",
        "        )\n",
        "\n",
        "    def forward(self, x):\n",
        "        b, num_tokens, d_in = x.shape\n",
        "\n",
        "        keys = self.W_key(x) # Shape: (b, num_tokens, d_out)\n",
        "        queries = self.W_query(x)\n",
        "        values = self.W_value(x)\n",
        "\n",
        "        # We implicitly split the matrix by adding a `num_heads` dimension\n",
        "        # Unroll last dim: (b, num_tokens, d_out) -> (b, num_tokens, num_heads, head_dim)\n",
        "        keys = keys.view(b, num_tokens, self.num_heads, self.head_dim)\n",
        "        values = values.view(b, num_tokens, self.num_heads, self.head_dim)\n",
        "        queries = queries.view(b, num_tokens, self.num_heads, self.head_dim)\n",
        "\n",
        "        # Transpose: (b, num_tokens, num_heads, head_dim) -> (b, num_heads, num_tokens, head_dim)\n",
        "        keys = keys.transpose(1, 2)\n",
        "        queries = queries.transpose(1, 2)\n",
        "        values = values.transpose(1, 2)\n",
        "\n",
        "        # Compute scaled dot-product attention (aka self-attention) with a causal mask\n",
        "        attn_scores = queries @ keys.transpose(2, 3)  # Dot product for each head\n",
        "\n",
        "        # Original mask truncated to the number of tokens and converted to boolean\n",
        "        mask_bool = self.mask.bool()[:num_tokens, :num_tokens]\n",
        "\n",
        "        # Use the mask to fill attention scores\n",
        "        attn_scores.masked_fill_(mask_bool, -torch.inf)\n",
        "\n",
        "        attn_weights = torch.softmax(attn_scores / keys.shape[-1]**0.5, dim=-1)\n",
        "        attn_weights = self.dropout(attn_weights)\n",
        "\n",
        "        # Shape: (b, num_tokens, num_heads, head_dim)\n",
        "        context_vec = (attn_weights @ values).transpose(1, 2)\n",
        "\n",
        "        # Combine heads, where self.d_out = self.num_heads * self.head_dim\n",
        "        context_vec = context_vec.contiguous().view(b, num_tokens, self.d_out)\n",
        "        context_vec = self.out_proj(context_vec) # optional projection\n",
        "\n",
        "        return context_vec"
      ]
    },
    {
      "cell_type": "code",
      "execution_count": 18,
      "metadata": {
        "id": "ymcZ6TCwR9PQ"
      },
      "outputs": [],
      "source": [
        "class TransformerBlock(nn.Module):\n",
        "    def __init__(self, cfg):\n",
        "        super().__init__()\n",
        "        self.att = MultiHeadAttention(\n",
        "            d_in=cfg[\"emb_dim\"],\n",
        "            d_out=cfg[\"emb_dim\"],\n",
        "            context_length=cfg[\"context_length\"],\n",
        "            num_heads=cfg[\"n_heads\"],\n",
        "            dropout=cfg[\"drop_rate\"],\n",
        "            qkv_bias=cfg[\"qkv_bias\"])\n",
        "        self.ff = FeedForward(cfg)\n",
        "        self.norm1 = LayerNorm(cfg[\"emb_dim\"])\n",
        "        self.norm2 = LayerNorm(cfg[\"emb_dim\"])\n",
        "        self.drop_shortcut = nn.Dropout(cfg[\"drop_rate\"])\n",
        "\n",
        "    def forward(self, x):\n",
        "        # Shortcut connection for attention block\n",
        "        shortcut = x\n",
        "        x = self.norm1(x)\n",
        "        x = self.att(x)  # Shape [batch_size, num_tokens, emb_size]\n",
        "        x = self.drop_shortcut(x)\n",
        "        x = x + shortcut  # Add the original input back\n",
        "\n",
        "        # Shortcut connection for feed forward block\n",
        "        shortcut = x\n",
        "        x = self.norm2(x)\n",
        "        x = self.ff(x)\n",
        "        x = self.drop_shortcut(x)\n",
        "        x = x + shortcut  # Add the original input back\n",
        "\n",
        "        return x"
      ]
    },
    {
      "cell_type": "markdown",
      "metadata": {
        "id": "pgcbUzQ6R9PQ"
      },
      "source": [
        "<div class=\"alert alert-block alert-warning\">\n",
        "\n",
        "The given code defines a TransformerBlock class in PyTorch that includes a multi-head\n",
        "attention mechanism (MultiHeadAttention) and a feed forward network (FeedForward),\n",
        "both configured based on a provided configuration dictionary (cfg), such as\n",
        "GPT_CONFIG_124M\n",
        "</div>"
      ]
    },
    {
      "cell_type": "markdown",
      "metadata": {
        "id": "Gkjwi9nBR9PQ"
      },
      "source": [
        "<div class=\"alert alert-block alert-warning\">\n",
        "\n",
        "Layer normalization (LayerNorm) is applied before each of these two components, and\n",
        "dropout is applied after them to regularize the model and prevent overfitting.\n",
        "\n",
        "This is also known as Pre-LayerNorm.\n",
        "\n",
        "Older architectures, such as the original transformer model,\n",
        "applied layer normalization after the self-attention and feed-forward networks instead,\n",
        "known as Post-LayerNorm, which often leads to worse training dynamics.\n",
        "</div>"
      ]
    },
    {
      "cell_type": "markdown",
      "metadata": {
        "id": "4hR1NRidR9PQ"
      },
      "source": [
        "<div class=\"alert alert-block alert-warning\">\n",
        "\n",
        "The class also implements the forward pass, where each component is followed by a\n",
        "shortcut connection that adds the input of the block to its output. This critical feature helps\n",
        "gradients flow through the network during training and improves the learning of deep\n",
        "models\n",
        "</div>"
      ]
    },
    {
      "cell_type": "markdown",
      "metadata": {
        "id": "VRT140JpR9PQ"
      },
      "source": [
        "<div class=\"alert alert-block alert-success\">\n",
        "Using the GPT_CONFIG_124M dictionary we defined earlier, let's instantiate a transformer\n",
        "block and feed it some sample data\n",
        "</div>"
      ]
    },
    {
      "cell_type": "markdown",
      "metadata": {
        "id": "kLxMLNVDR9PQ"
      },
      "source": [
        "<div class=\"alert alert-block alert-info\">\n",
        "\n",
        "Create sample input of shape [batch_size, num_tokens, emb_dim]\n",
        "</div>"
      ]
    },
    {
      "cell_type": "code",
      "execution_count": 19,
      "metadata": {
        "colab": {
          "base_uri": "https://localhost:8080/"
        },
        "id": "kFYiqOZVR9PQ",
        "outputId": "fa415c54-c0ef-4380-9894-f5a60c593208"
      },
      "outputs": [
        {
          "name": "stdout",
          "output_type": "stream",
          "text": [
            "Input shape: torch.Size([2, 4, 768])\n",
            "Output shape: torch.Size([2, 4, 768])\n"
          ]
        }
      ],
      "source": [
        "torch.manual_seed(123)\n",
        "x = torch.rand(2, 4, 768) #A\n",
        "block = TransformerBlock(GPT_CONFIG_124M)\n",
        "output = block(x)\n",
        "print(\"Input shape:\", x.shape)\n",
        "print(\"Output shape:\", output.shape)"
      ]
    },
    {
      "cell_type": "markdown",
      "metadata": {
        "id": "f1nBPNqRR9PQ"
      },
      "source": [
        "<div class=\"alert alert-block alert-info\">\n",
        "\n",
        "As we can see from the code output, the transformer block maintains the input dimensions\n",
        "in its output, indicating that the transformer architecture processes sequences of data\n",
        "without altering their shape throughout the network.\n",
        "</div>"
      ]
    },
    {
      "cell_type": "markdown",
      "metadata": {
        "id": "nEryZ8uER9PQ"
      },
      "source": [
        "<div class=\"alert alert-block alert-warning\">\n",
        "    \n",
        "The preservation of shape throughout the transformer block architecture is not incidental\n",
        "but a crucial aspect of its design.\n",
        "\n",
        "This design enables its effective application across a wide\n",
        "range of sequence-to-sequence tasks, where each output vector directly corresponds to an\n",
        "input vector, maintaining a one-to-one relationship.\n",
        "</div>"
      ]
    },
    {
      "cell_type": "markdown",
      "metadata": {
        "id": "IFA6ZhKVR9PQ"
      },
      "source": [
        "<div class=\"alert alert-block alert-warning\">\n",
        "\n",
        "However, the output is a context vector\n",
        "that encapsulates information from the entire input sequence.\n",
        "\n",
        "This means that while the physical dimensions of the sequence (length and feature size)\n",
        "remain unchanged as it passes through the transformer block, the content of each output\n",
        "vector is re-encoded to integrate contextual information from across the entire input\n",
        "sequence.\n",
        "\n",
        "</div>"
      ]
    },
    {
      "cell_type": "markdown",
      "metadata": {
        "id": "wxW5aCVwR9PQ"
      },
      "source": [
        "## GPT ARCHITECTURE PART 6: ENTIRE GPT MODEL ARCHITECTURE IMPLEMENTATION"
      ]
    },
    {
      "cell_type": "markdown",
      "metadata": {
        "id": "S3bYcPlbR9PR"
      },
      "source": [
        "<div class=\"alert alert-block alert-info\">\n",
        "\n",
        "The device setting will allow us to train the model on a CPU or GPU, depending on which device the input\n",
        "data sits\n",
        "    \n",
        "</div>"
      ]
    },
    {
      "cell_type": "code",
      "execution_count": 20,
      "metadata": {
        "colab": {
          "base_uri": "https://localhost:8080/"
        },
        "id": "2V-CxtLTbGoK",
        "outputId": "5b54cdce-9db6-45f3-e1d1-3c4cf662213d"
      },
      "outputs": [
        {
          "name": "stdout",
          "output_type": "stream",
          "text": [
            "Requirement already satisfied: tiktoken in c:\\github\\samratkar.github.io\\.venv\\lib\\site-packages (0.9.0)\n",
            "Requirement already satisfied: regex>=2022.1.18 in c:\\github\\samratkar.github.io\\.venv\\lib\\site-packages (from tiktoken) (2024.11.6)\n",
            "Requirement already satisfied: requests>=2.26.0 in c:\\github\\samratkar.github.io\\.venv\\lib\\site-packages (from tiktoken) (2.32.3)\n",
            "Requirement already satisfied: charset-normalizer<4,>=2 in c:\\github\\samratkar.github.io\\.venv\\lib\\site-packages (from requests>=2.26.0->tiktoken) (3.4.1)\n",
            "Requirement already satisfied: idna<4,>=2.5 in c:\\github\\samratkar.github.io\\.venv\\lib\\site-packages (from requests>=2.26.0->tiktoken) (3.10)\n",
            "Requirement already satisfied: urllib3<3,>=1.21.1 in c:\\github\\samratkar.github.io\\.venv\\lib\\site-packages (from requests>=2.26.0->tiktoken) (2.3.0)\n",
            "Requirement already satisfied: certifi>=2017.4.17 in c:\\github\\samratkar.github.io\\.venv\\lib\\site-packages (from requests>=2.26.0->tiktoken) (2025.1.31)\n"
          ]
        }
      ],
      "source": [
        "!pip install tiktoken\n",
        "import importlib\n",
        "import tiktoken\n",
        "tokenizer = tiktoken.get_encoding(\"gpt2\")"
      ]
    },
    {
      "cell_type": "code",
      "execution_count": 21,
      "metadata": {
        "id": "CupjUL2XR9PR"
      },
      "outputs": [],
      "source": [
        "class GPTModel(nn.Module):\n",
        "    def __init__(self, cfg):\n",
        "        super().__init__()\n",
        "        self.tok_emb = nn.Embedding(cfg[\"vocab_size\"], cfg[\"emb_dim\"])\n",
        "        self.pos_emb = nn.Embedding(cfg[\"context_length\"], cfg[\"emb_dim\"])\n",
        "        self.drop_emb = nn.Dropout(cfg[\"drop_rate\"])\n",
        "\n",
        "        self.trf_blocks = nn.Sequential(\n",
        "            *[TransformerBlock(cfg) for _ in range(cfg[\"n_layers\"])])\n",
        "\n",
        "        self.final_norm = LayerNorm(cfg[\"emb_dim\"])\n",
        "        self.out_head = nn.Linear(\n",
        "            cfg[\"emb_dim\"], cfg[\"vocab_size\"], bias=False\n",
        "        )\n",
        "\n",
        "    def forward(self, in_idx):\n",
        "        batch_size, seq_len = in_idx.shape\n",
        "        tok_embeds = self.tok_emb(in_idx)\n",
        "        pos_embeds = self.pos_emb(torch.arange(seq_len, device=in_idx.device))\n",
        "        x = tok_embeds + pos_embeds  # Shape [batch_size, num_tokens, emb_size]\n",
        "        x = self.drop_emb(x)\n",
        "        x = self.trf_blocks(x)\n",
        "        x = self.final_norm(x)\n",
        "        logits = self.out_head(x)\n",
        "        return logits"
      ]
    },
    {
      "cell_type": "markdown",
      "metadata": {
        "id": "s7kT2p09R9PR"
      },
      "source": [
        "<div class=\"alert alert-block alert-warning\">\n",
        "    \n",
        "The __init__ constructor of this GPTModel class initializes the token and positional\n",
        "embedding layers using the configurations passed in via a Python dictionary, cfg.\n",
        "\n",
        "These\n",
        "embedding layers are responsible for converting input token indices into dense vectors and\n",
        "adding positional information.\n",
        "</div>"
      ]
    },
    {
      "cell_type": "markdown",
      "metadata": {
        "id": "bL1QW4XpR9PR"
      },
      "source": [
        "<div class=\"alert alert-block alert-warning\">\n",
        "    \n",
        "Next, the __init__ method creates a sequential stack of TransformerBlock modules\n",
        "equal to the number of layers specified in cfg.\n",
        "\n",
        "Following the transformer blocks, a\n",
        "LayerNorm layer is applied, standardizing the outputs from the transformer blocks to\n",
        "stabilize the learning process.\n",
        "\n",
        "Finally, a linear output head without bias is defined, which\n",
        "projects the transformer's output into the vocabulary space of the tokenizer to generate\n",
        "logits for each token in the vocabulary.\n",
        "</div>"
      ]
    },
    {
      "cell_type": "markdown",
      "metadata": {
        "id": "x19EZs_sR9PR"
      },
      "source": [
        "<div class=\"alert alert-block alert-warning\">\n",
        "    \n",
        "The forward method takes a batch of input token indices, computes their embeddings,\n",
        "applies the positional embeddings, passes the sequence through the transformer blocks,\n",
        "normalizes the final output, and then computes the logits, representing the next token's\n",
        "unnormalized probabilities. We will convert these logits into tokens and text outputs in the\n",
        "next section.\n",
        "</div>"
      ]
    },
    {
      "cell_type": "markdown",
      "metadata": {
        "id": "Kel5eZTNR9PR"
      },
      "source": [
        "<div class=\"alert alert-block alert-success\">\n",
        "Let's now initialize the 124 million parameter GPT model using the GPT_CONFIG_124M\n",
        "dictionary we pass into the cfg parameter and feed it with the batch text input we created\n",
        "at the beginning of this chapter:\n",
        "</div>"
      ]
    },
    {
      "cell_type": "code",
      "execution_count": 22,
      "metadata": {
        "id": "wVfDil08aW8X"
      },
      "outputs": [],
      "source": [
        "batch = []\n",
        "txt1 = \"Every effort moves you\"\n",
        "txt2 = \"Every day holds a\"\n",
        "batch.append(torch.tensor(tokenizer.encode(txt1)))\n",
        "batch.append(torch.tensor(tokenizer.encode(txt2)))\n",
        "batch = torch.stack(batch, dim=0)"
      ]
    },
    {
      "cell_type": "code",
      "execution_count": 23,
      "metadata": {
        "colab": {
          "base_uri": "https://localhost:8080/"
        },
        "id": "r2Waag3HbRYL",
        "outputId": "4b92c597-2695-4742-d00c-ba4dbd8b6fd0"
      },
      "outputs": [
        {
          "name": "stdout",
          "output_type": "stream",
          "text": [
            "tensor([[6109, 3626, 6100,  345],\n",
            "        [6109, 1110, 6622,  257]])\n"
          ]
        }
      ],
      "source": [
        "print(batch)"
      ]
    },
    {
      "cell_type": "code",
      "execution_count": 24,
      "metadata": {
        "colab": {
          "base_uri": "https://localhost:8080/"
        },
        "id": "Okd93gA9R9PR",
        "outputId": "850f6d25-3544-44c6-ccc1-972ebc79048b"
      },
      "outputs": [
        {
          "name": "stdout",
          "output_type": "stream",
          "text": [
            "Input batch:\n",
            " tensor([[6109, 3626, 6100,  345],\n",
            "        [6109, 1110, 6622,  257]])\n",
            "\n",
            "Output shape: torch.Size([2, 4, 50257])\n",
            "tensor([[[-0.4708,  0.5737, -0.5967,  ...,  0.2019, -0.5665,  0.1800],\n",
            "         [-0.3895, -0.1978, -0.8885,  ...,  0.2242, -1.2341,  0.1752],\n",
            "         [ 0.6973, -0.3432, -0.6080,  ...,  0.3747, -0.6967,  0.1088],\n",
            "         [-0.2962, -0.6957, -1.1371,  ...,  0.3579,  0.3058, -0.2915]],\n",
            "\n",
            "        [[-0.1514,  0.3329, -0.9740,  ..., -0.1368, -0.6974, -0.1851],\n",
            "         [-0.4894, -0.3492, -0.9759,  ...,  0.2951, -0.3396,  0.2109],\n",
            "         [ 0.5082, -0.1425,  0.2549,  ...,  0.1618,  0.1304, -0.3092],\n",
            "         [-0.4146, -0.0514, -0.5187,  ..., -0.1869, -0.1303, -0.4969]]],\n",
            "       grad_fn=<UnsafeViewBackward0>)\n"
          ]
        }
      ],
      "source": [
        "torch.manual_seed(123)\n",
        "model = GPTModel(GPT_CONFIG_124M)\n",
        "out = model(batch)\n",
        "print(\"Input batch:\\n\", batch)\n",
        "print(\"\\nOutput shape:\", out.shape)\n",
        "print(out)"
      ]
    },
    {
      "cell_type": "markdown",
      "metadata": {
        "id": "3TsTZijZR9PR"
      },
      "source": [
        "<div class=\"alert alert-block alert-info\">\n",
        "\n",
        "As we can see, the output tensor has the shape [2, 4, 50257], since we passed in 2 input\n",
        "texts with 4 tokens each. The last dimension, 50,257, corresponds to the vocabulary size of\n",
        "the tokenizer. In the next section, we will see how to convert each of these 50,257-\n",
        "dimensional output vectors back into tokens.\n",
        "    \n",
        "</div>"
      ]
    },
    {
      "cell_type": "markdown",
      "metadata": {
        "id": "tMtmLn3xR9PR"
      },
      "source": [
        "<div class=\"alert alert-block alert-success\">\n",
        "Using the numel() method, short for \"number of elements,\" we can collect the total\n",
        "number of parameters in the model's parameter tensors:\n",
        "</div>"
      ]
    },
    {
      "cell_type": "code",
      "execution_count": 25,
      "metadata": {
        "colab": {
          "base_uri": "https://localhost:8080/"
        },
        "id": "a2TEjuHdR9PR",
        "outputId": "a87861ee-624e-40ff-bcfc-a3602abaf904"
      },
      "outputs": [
        {
          "name": "stdout",
          "output_type": "stream",
          "text": [
            "Total number of parameters: 162,419,712\n"
          ]
        }
      ],
      "source": [
        "total_params = sum(p.numel() for p in model.parameters())\n",
        "print(f\"Total number of parameters: {total_params:,}\")"
      ]
    },
    {
      "cell_type": "markdown",
      "metadata": {
        "id": "vrLNtDOrR9PR"
      },
      "source": [
        "<div class=\"alert alert-block alert-danger\">\n",
        "Earlier, we spoke of initializing a 124\n",
        "million parameter GPT model, so why is the actual number of parameters 163 million, as\n",
        "shown in the preceding code output?\n",
        "</div>"
      ]
    },
    {
      "cell_type": "markdown",
      "metadata": {
        "id": "UzHm0pMIR9PR"
      },
      "source": [
        "<div class=\"alert alert-block alert-warning\">\n",
        "    \n",
        "The reason is a concept called weight tying that is used in the original GPT-2\n",
        "architecture, which means that the original GPT-2 architecture is reusing the weights from\n",
        "the token embedding layer in its output layer.\n",
        "\n",
        "To understand what this means, let's take a\n",
        "look at the shapes of the token embedding layer and linear output layer that we initialized\n",
        "on the model via the GPTModel earlier:\n",
        "\n",
        "</div>"
      ]
    },
    {
      "cell_type": "code",
      "execution_count": 26,
      "metadata": {
        "colab": {
          "base_uri": "https://localhost:8080/"
        },
        "id": "9nMOcuuhR9PR",
        "outputId": "f35973fb-e29e-4340-f1f6-42542beef744"
      },
      "outputs": [
        {
          "name": "stdout",
          "output_type": "stream",
          "text": [
            "Token embedding layer shape: torch.Size([50257, 768])\n",
            "Output layer shape: torch.Size([50257, 768])\n"
          ]
        }
      ],
      "source": [
        "print(\"Token embedding layer shape:\", model.tok_emb.weight.shape)\n",
        "print(\"Output layer shape:\", model.out_head.weight.shape)"
      ]
    },
    {
      "cell_type": "markdown",
      "metadata": {
        "id": "hkO-ZOK4R9PR"
      },
      "source": [
        "<div class=\"alert alert-block alert-info\">\n",
        "\n",
        "As we can see based on the print outputs, the weight tensors for both these layers have the\n",
        "same shape:\n",
        "</div>"
      ]
    },
    {
      "cell_type": "markdown",
      "metadata": {
        "id": "05piP5T4R9PR"
      },
      "source": [
        "<div class=\"alert alert-block alert-success\">\n",
        "The token embedding and output layers are very large due to the number of rows for the\n",
        "50,257 in the tokenizer's vocabulary. Let's remove the output layer parameter count from\n",
        "the total GPT-2 model count according to the weight tying:\n",
        "</div>"
      ]
    },
    {
      "cell_type": "code",
      "execution_count": 27,
      "metadata": {
        "id": "w8rqxaHqR9PR",
        "outputId": "c4557737-743e-4a55-9351-dd03d56776b1"
      },
      "outputs": [
        {
          "name": "stdout",
          "output_type": "stream",
          "text": [
            "Number of trainable parameters considering weight tying: 123,822,336\n"
          ]
        }
      ],
      "source": [
        "total_params_gpt2 = total_params - sum(p.numel() for p in model.out_head.parameters())\n",
        "print(f\"Number of trainable parameters considering weight tying: {total_params_gpt2:,}\")"
      ]
    },
    {
      "cell_type": "markdown",
      "metadata": {
        "id": "v9tX7WbcR9PS"
      },
      "source": [
        "<div class=\"alert alert-block alert-info\">\n",
        "\n",
        "As we can see, the model is now only 124 million parameters large, matching the original\n",
        "size of the GPT-2 model.\n",
        "</div>"
      ]
    },
    {
      "cell_type": "markdown",
      "metadata": {
        "id": "c84mEdnwR9PS"
      },
      "source": [
        "<div class=\"alert alert-block alert-warning\">\n",
        "    \n",
        "Weight tying reduces the overall memory footprint and computational complexity of the\n",
        "model. However, in my experience, using separate token embedding and output layers\n",
        "results in better training and model performance; hence, we are using separate layers in\n",
        "our GPTModel implementation. The same is true for modern LLMs.\n",
        "\n",
        "</div>"
      ]
    },
    {
      "cell_type": "markdown",
      "metadata": {
        "id": "zzfbgi2kR9PS"
      },
      "source": [
        "<div class=\"alert alert-block alert-success\">\n",
        "Lastly, let us compute the memory requirements of the 163 million parameters in our\n",
        "GPTModel object:\n",
        "</div>"
      ]
    },
    {
      "cell_type": "code",
      "execution_count": 28,
      "metadata": {
        "colab": {
          "base_uri": "https://localhost:8080/"
        },
        "id": "CXcEJEtKR9PS",
        "outputId": "b70bb644-79b9-4638-d0f4-32e9b00a8ce1"
      },
      "outputs": [
        {
          "name": "stdout",
          "output_type": "stream",
          "text": [
            "Total size of the model: 619.58 MB\n"
          ]
        }
      ],
      "source": [
        "total_size_bytes = total_params * 4 #A\n",
        "total_size_mb = total_size_bytes / (1024 * 1024) #B\n",
        "print(f\"Total size of the model: {total_size_mb:.2f} MB\")"
      ]
    },
    {
      "cell_type": "markdown",
      "metadata": {
        "id": "Z3dWmGv3R9PS"
      },
      "source": [
        "<div class=\"alert alert-block alert-warning\">\n",
        "    \n",
        "In conclusion, by calculating the memory requirements for the 163 million parameters in\n",
        "our GPTModel object and assuming each parameter is a 32-bit float taking up 4 bytes, we\n",
        "find that the total size of the model amounts to 621.83 MB, illustrating the relatively large\n",
        "storage capacity required to accommodate even relatively small LLMs.\n",
        "\n",
        "</div>"
      ]
    },
    {
      "cell_type": "markdown",
      "metadata": {
        "id": "bqbt-ORxR9PS"
      },
      "source": [
        "<div class=\"alert alert-block alert-warning\">\n",
        "    \n",
        "In this section, we implemented the GPTModel architecture and saw that it outputs\n",
        "numeric tensors of shape [batch_size, num_tokens, vocab_size]. In the next section,\n",
        "we will write the code to convert these output tensors into text.\n",
        "\n",
        "</div>"
      ]
    },
    {
      "cell_type": "markdown",
      "metadata": {
        "id": "N8A7fD3_R9PS"
      },
      "source": [
        "## GPT ARCHITECTURE PART 7: GENERATING TEXT FROM OUTPUT TOKENS"
      ]
    },
    {
      "cell_type": "markdown",
      "metadata": {
        "id": "MX9auO2QR9PS"
      },
      "source": [
        "<div class=\"alert alert-block alert-success\">\n",
        "Let us implement the token-generation process as follows:\n",
        "</div>"
      ]
    },
    {
      "cell_type": "markdown",
      "metadata": {
        "id": "Td6ggURPR9PS"
      },
      "source": [
        "<div class=\"alert alert-block alert-info\">\n",
        "\n",
        "Step 1: idx is a (batch, n_tokens) array of indices in the current context\n",
        "\n",
        "Step 2: Crop current context if it exceeds the supported context size E.g., if LLM supports only 5 tokens, and the\n",
        "context size is 10 then only the last 5 tokens are used as context\n",
        "\n",
        "Step 3: Focus only on the last time step, so that (batch, n_token, vocab_size) becomes (batch, vocab_size)\n",
        "\n",
        "Step 4: probas has shape (batch, vocab_size)\n",
        "\n",
        "Step 5: idx_next has shape (batch, 1)\n",
        "\n",
        "Step 6: Append sampled index to the running sequence, where idx has shape (batch, n_tokens+1)\n",
        "\n",
        "</div>"
      ]
    },
    {
      "cell_type": "code",
      "execution_count": 29,
      "metadata": {
        "id": "y5jdYaEOR9PS"
      },
      "outputs": [],
      "source": [
        "def generate_text_simple(model, idx, max_new_tokens, context_size):\n",
        "    # idx is (batch, n_tokens) array of indices in the current context\n",
        "    for _ in range(max_new_tokens):\n",
        "\n",
        "        # Crop current context if it exceeds the supported context size\n",
        "        # E.g., if LLM supports only 5 tokens, and the context size is 10\n",
        "        # then only the last 5 tokens are used as context\n",
        "        idx_cond = idx[:, -context_size:]\n",
        "\n",
        "        # Get the predictions\n",
        "        with torch.no_grad():\n",
        "            logits = model(idx_cond)\n",
        "\n",
        "        # Focus only on the last time step\n",
        "        # (batch, n_tokens, vocab_size) becomes (batch, vocab_size)\n",
        "        logits = logits[:, -1, :]\n",
        "\n",
        "        # Apply softmax to get probabilities\n",
        "        probas = torch.softmax(logits, dim=-1)  # (batch, vocab_size)\n",
        "\n",
        "        # Get the idx of the vocab entry with the highest probability value\n",
        "        idx_next = torch.argmax(probas, dim=-1, keepdim=True)  # (batch, 1)\n",
        "\n",
        "        # Append sampled index to the running sequence\n",
        "        idx = torch.cat((idx, idx_next), dim=1)  # (batch, n_tokens+1)\n",
        "\n",
        "    return idx"
      ]
    },
    {
      "cell_type": "markdown",
      "metadata": {
        "id": "jqi8A_QGR9PS"
      },
      "source": [
        "<div class=\"alert alert-block alert-warning\">\n",
        "    \n",
        "In the preceeding code, the generate_text_simple function, we use a softmax function to\n",
        "convert the logits into a probability distribution from which we identify the position with the\n",
        "highest value via torch.argmax.\n",
        "\n",
        "The softmax function is monotonic, meaning it preserves\n",
        "the order of its inputs when transformed into outputs.\n",
        "\n",
        "So, in practice, the softmax step is\n",
        "redundant since the position with the highest score in the softmax output tensor is the\n",
        "same position in the logit tensor.\n",
        "\n",
        "In other words, we could apply the torch.argmax function\n",
        "to the logits tensor directly and get identical results.\n",
        "\n",
        "However, we coded the conversion to\n",
        "illustrate the full process of transforming logits to probabilities, which can add additional\n",
        "intuition, such as that the model generates the most likely next token, which is known as\n",
        "greedy decoding.\n",
        "\n",
        "</div>"
      ]
    },
    {
      "cell_type": "markdown",
      "metadata": {
        "id": "aqYZW_0kR9PS"
      },
      "source": [
        "<div class=\"alert alert-block alert-warning\">\n",
        "    \n",
        "In the next chapter, when we will implement the GPT training code, we will also\n",
        "introduce additional sampling techniques where we modify the softmax outputs such that\n",
        "the model doesn't always select the most likely token, which introduces variability and\n",
        "creativity in the generated text.\n",
        "</div>"
      ]
    },
    {
      "cell_type": "markdown",
      "metadata": {
        "id": "momOTgckR9PS"
      },
      "source": [
        "<div class=\"alert alert-block alert-success\">\n",
        "Let's now try out the generate_text_simple function with the \"Hello, I am\" context\n",
        "as model input\n",
        "</div>"
      ]
    },
    {
      "cell_type": "markdown",
      "metadata": {
        "id": "7CQxnULHR9PS"
      },
      "source": [
        "<div class=\"alert alert-block alert-success\">\n",
        "First, we encode the input context into token IDs:\n",
        "</div>"
      ]
    },
    {
      "cell_type": "code",
      "execution_count": 30,
      "metadata": {
        "colab": {
          "base_uri": "https://localhost:8080/"
        },
        "id": "ZYfA1_azR9PS",
        "outputId": "b047a397-e442-49d6-82b0-c957dc110658"
      },
      "outputs": [
        {
          "name": "stdout",
          "output_type": "stream",
          "text": [
            "encoded: [15496, 11, 314, 716]\n",
            "encoded_tensor.shape: torch.Size([1, 4])\n"
          ]
        }
      ],
      "source": [
        "start_context = \"Hello, I am\"\n",
        "encoded = tokenizer.encode(start_context)\n",
        "print(\"encoded:\", encoded)\n",
        "encoded_tensor = torch.tensor(encoded).unsqueeze(0) #A\n",
        "print(\"encoded_tensor.shape:\", encoded_tensor.shape)"
      ]
    },
    {
      "cell_type": "markdown",
      "metadata": {
        "id": "bvHCD4-eR9PS"
      },
      "source": [
        "<div class=\"alert alert-block alert-success\">\n",
        "Next, we put the model into .eval() mode, which disables random components like\n",
        "dropout, which are only used during training, and use the generate_text_simple function\n",
        "on the encoded input tensor:\n",
        "</div>"
      ]
    },
    {
      "cell_type": "markdown",
      "metadata": {
        "id": "1uSB3KKTR9PS"
      },
      "source": [
        "<div class=\"alert alert-block alert-info\">\n",
        "\n",
        "We disable dropout since we are not training the model\n",
        "\n",
        "</div>"
      ]
    },
    {
      "cell_type": "code",
      "execution_count": 31,
      "metadata": {
        "colab": {
          "base_uri": "https://localhost:8080/"
        },
        "id": "yMHMdUYFR9PS",
        "outputId": "1338d1d7-dfd3-4aa4-9d76-f7b78008029a"
      },
      "outputs": [
        {
          "name": "stdout",
          "output_type": "stream",
          "text": [
            "Output: tensor([[15496,    11,   314,   716, 13240, 11381,  4307,  7640, 16620, 34991]])\n",
            "Output length: 10\n"
          ]
        }
      ],
      "source": [
        "model.eval() #A\n",
        "out = generate_text_simple(\n",
        "model=model,\n",
        "idx=encoded_tensor,\n",
        "max_new_tokens=6,\n",
        "context_size=GPT_CONFIG_124M[\"context_length\"]\n",
        ")\n",
        "print(\"Output:\", out)\n",
        "print(\"Output length:\", len(out[0]))"
      ]
    },
    {
      "cell_type": "markdown",
      "metadata": {
        "id": "qXfbyIUAR9PS"
      },
      "source": [
        "<div class=\"alert alert-block alert-success\">\n",
        "Using the .decode method of the tokenizer, we can convert the IDs back into text:\n",
        "</div>"
      ]
    },
    {
      "cell_type": "code",
      "execution_count": 32,
      "metadata": {
        "colab": {
          "base_uri": "https://localhost:8080/"
        },
        "id": "UzYrXDWUR9PT",
        "outputId": "8063948b-87cc-4bad-b9aa-fe237eb42653"
      },
      "outputs": [
        {
          "name": "stdout",
          "output_type": "stream",
          "text": [
            "Hello, I am Laur inhab DistrinetalkQueue\n"
          ]
        }
      ],
      "source": [
        "decoded_text = tokenizer.decode(out.squeeze(0).tolist())\n",
        "print(decoded_text)"
      ]
    },
    {
      "cell_type": "markdown",
      "metadata": {
        "id": "9ReYdxtVR9PT"
      },
      "source": [
        "<div class=\"alert alert-block alert-info\">\n",
        "\n",
        "As we can see, based on the preceding output, the model generated gibberish, which is not\n",
        "at all coherent text.\n",
        "\n",
        "What happened?\n",
        "\n",
        "The reason why the model is unable to produce coherent text is that we haven't trained it yet.\n",
        "\n",
        "So far, we just\n",
        "implemented the GPT architecture and initialized a GPT model instance with initial random\n",
        "weights.\n",
        "\n",
        "</div>"
      ]
    },
    {
      "cell_type": "code",
      "execution_count": null,
      "metadata": {
        "id": "CYa4TvD2q26G"
      },
      "outputs": [],
      "source": []
    }
  ],
  "metadata": {
    "colab": {
      "include_colab_link": true,
      "provenance": []
    },
    "kernelspec": {
      "display_name": ".venv",
      "language": "python",
      "name": "python3"
    },
    "language_info": {
      "codemirror_mode": {
        "name": "ipython",
        "version": 3
      },
      "file_extension": ".py",
      "mimetype": "text/x-python",
      "name": "python",
      "nbconvert_exporter": "python",
      "pygments_lexer": "ipython3",
      "version": "3.12.9"
    }
  },
  "nbformat": 4,
  "nbformat_minor": 0
}
