results = graph.query("""
MATCH (gpt4:Model {id:"Gtp-4"})-[:DEVELOPED_BY]->(org:Organization)
RETURN org
""")