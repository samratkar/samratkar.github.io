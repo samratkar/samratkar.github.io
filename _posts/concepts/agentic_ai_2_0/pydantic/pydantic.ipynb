{
 "cells": [
  {
   "cell_type": "markdown",
   "id": "3e4692fb",
   "metadata": {},
   "source": [
    "#### Pydantic Basics : Creating and using models \n",
    "Pydantic models are foundation of data "
   ]
  },
  {
   "cell_type": "code",
   "execution_count": 1,
   "id": "a1622f2f",
   "metadata": {},
   "outputs": [
    {
     "name": "stdout",
     "output_type": "stream",
     "text": [
      "Hello world\n"
     ]
    }
   ],
   "source": [
    "print (\"Hello world\")"
   ]
  },
  {
   "cell_type": "code",
   "execution_count": 3,
   "id": "c0bac6d2",
   "metadata": {},
   "outputs": [],
   "source": [
    "from dataclasses import dataclass\n",
    "@dataclass\n",
    "class Person():\n",
    "    name: str\n",
    "    age: int\n",
    "    city: str\n",
    "\n",
    "    def __str__(self):\n",
    "        return f\"{self.name}, {self.age}, {self.city}\"\n",
    "\n",
    "    def __repr__(self):\n",
    "        return f\"Person(name={self.name}, age={self.age}, city={self.city})\""
   ]
  },
  {
   "cell_type": "code",
   "execution_count": 4,
   "id": "bc4bbc3d",
   "metadata": {},
   "outputs": [
    {
     "name": "stdout",
     "output_type": "stream",
     "text": [
      "John Doe, 30, New York\n"
     ]
    }
   ],
   "source": [
    "person = Person(name=\"John Doe\", age=30, city=\"New York\")\n",
    "print(person)  # Output: John Doe, 30, New York"
   ]
  },
  {
   "cell_type": "code",
   "execution_count": 6,
   "id": "2a922bab",
   "metadata": {},
   "outputs": [],
   "source": [
    "from pydantic import BaseModel"
   ]
  },
  {
   "cell_type": "code",
   "execution_count": null,
   "id": "df7254a9",
   "metadata": {},
   "outputs": [],
   "source": [
    "class Person1(BaseModel):\n",
    "    name: str\n",
    "    age: int\n",
    "    city: str\n",
    "\n",
    "    def __str__(self):\n",
    "        return f\"{self.name}, {self.age}, {self.city}\"\n",
    "\n",
    "    def __repr__(self):\n",
    "        return f\"Person(name={self.name}, age={self.age}, city={self.city})\""
   ]
  },
  {
   "cell_type": "code",
   "execution_count": null,
   "id": "4981c3de",
   "metadata": {},
   "outputs": [],
   "source": [
    "person = Person1(name=\"John Doe\", age=30, city=\"New York\")\n",
    "print(person)  # Output: name='John Doe' age=30 city='New York'\n"
   ]
  },
  {
   "cell_type": "code",
   "execution_count": null,
   "id": "3eee1fd1",
   "metadata": {},
   "outputs": [],
   "source": [
    "person1 = Person1(name=\"John Doe\", age=30, city=35)\n",
    "print(person1)"
   ]
  },
  {
   "cell_type": "markdown",
   "id": "75870b09",
   "metadata": {},
   "source": [
    "2. Model with Optional Fields"
   ]
  }
 ],
 "metadata": {
  "kernelspec": {
   "display_name": "agentic_2_base",
   "language": "python",
   "name": "python3"
  },
  "language_info": {
   "codemirror_mode": {
    "name": "ipython",
    "version": 3
   },
   "file_extension": ".py",
   "mimetype": "text/x-python",
   "name": "python",
   "nbconvert_exporter": "python",
   "pygments_lexer": "ipython3",
   "version": "3.11.12"
  }
 },
 "nbformat": 4,
 "nbformat_minor": 5
}
