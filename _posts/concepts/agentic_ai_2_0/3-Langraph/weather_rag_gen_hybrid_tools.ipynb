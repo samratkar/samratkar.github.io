{
 "cells": [
  {
   "cell_type": "code",
   "execution_count": 226,
   "id": "80202802",
   "metadata": {},
   "outputs": [],
   "source": [
    "import operator\n",
    "from typing import List\n",
    "from pydantic import BaseModel , Field\n",
    "from langchain.prompts import PromptTemplate\n",
    "from typing import TypedDict, Annotated, Sequence\n",
    "from langchain_core.messages import BaseMessage\n",
    "from langchain_core.output_parsers import StrOutputParser\n",
    "from langchain_core.prompts import ChatPromptTemplate, PromptTemplate\n",
    "from langchain_core.runnables import RunnablePassthrough\n",
    "from langchain_core.messages import HumanMessage, AIMessage\n",
    "from langgraph.graph import StateGraph,END\n",
    "from IPython.display import Image, display\n",
    "from langchain_community.document_loaders import TextLoader, DirectoryLoader\n",
    "from langchain_community.vectorstores import Chroma\n",
    "from langchain.text_splitter import RecursiveCharacterTextSplitter\n",
    "from langchain.output_parsers import PydanticOutputParser\n",
    "from typing import TypedDict, Annotated, Sequence\n",
    "from langchain_core.messages import BaseMessage\n",
    "import operator\n",
    "import asyncio\n",
    "import json\n",
    "import uuid\n",
    "import websockets\n",
    "from typing import Dict, List, Any, Optional\n",
    "\n",
    "## tools related libraries \n",
    "from langchain_core.tools import tool\n",
    "from langchain_core.messages import HumanMessage, AIMessage\n",
    "from langgraph.graph import StateGraph,MessagesState,START,END\n",
    "from langgraph.prebuilt import ToolNode"
   ]
  },
  {
   "cell_type": "code",
   "execution_count": 227,
   "id": "78a2563f",
   "metadata": {},
   "outputs": [],
   "source": [
    "\n",
    "def llm_with_mcp_demo(user_query: str):\n",
    "    \"\"\"return the weather data\"\"\"  \n",
    "    return \"27 degree celsius\"\n"
   ]
  },
  {
   "cell_type": "code",
   "execution_count": 228,
   "id": "a947bde6",
   "metadata": {},
   "outputs": [],
   "source": [
    "# RAG Function\n",
    "@tool\n",
    "def function_2(state:MessagesState):\n",
    "    \"\"\"this is my custom tool for serving RAG Call. It retrieves relevant documents from the vector store and generates a concise answer based on the retrieved context. This is to be called when Supervisor returns \"USA\" \"\"\"\n",
    "    \n",
    "    print(\"-> RAG Call ->\")\n",
    "    \n",
    "    question = state[\"messages\"][0].content\n",
    "    \n",
    "    prompt=PromptTemplate(\n",
    "        template=\"\"\"You are an assistant for question-answering tasks. Use the following pieces of retrieved context to answer the question. If you don't know the answer, just say that you don't know. Use three sentences maximum and keep the answer concise.\\nQuestion: {question} \\nContext: {context} \\nAnswer:\"\"\",\n",
    "        \n",
    "        input_variables=['context', 'question']\n",
    "    )\n",
    "    \n",
    "    rag_chain = (\n",
    "        {\"context\": retriever | format_docs, \"question\": RunnablePassthrough()}\n",
    "        | prompt\n",
    "        | model\n",
    "        | StrOutputParser()\n",
    "    )\n",
    "    result = rag_chain.invoke(question)\n",
    "    ## return {\"messages\": [MessagesState(content=result)]}\n",
    "    return result"
   ]
  },
  {
   "cell_type": "code",
   "execution_count": 229,
   "id": "11bdffb9",
   "metadata": {},
   "outputs": [],
   "source": [
    "# LLM Function\n",
    "@tool\n",
    "def function_3(state:MessagesState):\n",
    "    \"\"\"this is my custom tool for calling the LLM when neither usa nor weather is the topic. This is to be called when Supervisor returns \"Not Related\" \"\"\" \n",
    "    \n",
    "    print(\"-> LLM Call ->\")\n",
    "    question = state[\"messages\"][0].content\n",
    "    \n",
    "    # Normal LLM call\n",
    "    complete_query = \"Answer the following question with you knowledge of the real world. Following is the user question: \" + question\n",
    "    response = model.invoke(complete_query)\n",
    "    return response.content"
   ]
  },
  {
   "cell_type": "code",
   "execution_count": 230,
   "id": "33c9be2f",
   "metadata": {},
   "outputs": [],
   "source": [
    "# weather tool\n",
    "@tool\n",
    "def function_4(state:MessagesState):\n",
    "    \"\"\"this is my custom tool for searching a weather. This is to be called when Supervisor returns \"Weather\" \"\"\"\n",
    "    print(\"-> Weather Call ->\")\n",
    "    question = state[\"messages\"][0].content\n",
    "    \n",
    "    # Normal LLM call\n",
    "    # complete_query = \"Answer the follow question with you knowledge of the real # world. Following is the user question: \" + question\n",
    "    #response = model.invoke(complete_query)\n",
    "    response = llm_with_mcp_demo(question)\n",
    "    return response"
   ]
  },
  {
   "cell_type": "code",
   "execution_count": 231,
   "id": "5ea08662",
   "metadata": {},
   "outputs": [
    {
     "name": "stdout",
     "output_type": "stream",
     "text": [
      "India's capital is New Delhi, which is located in the northern part of the country. It serves as the seat of the government of India and is also the political and administrative center of the country. New Delhi is known for its historic landmarks, government buildings, and cultural attractions. The city is home to famous monuments such as the India Gate, Lotus Temple, and Qutub Minar. New Delhi is also known for its vibrant markets, delicious street food, and diverse cultural heritage.\n"
     ]
    }
   ],
   "source": [
    "from langchain_openai import ChatOpenAI\n",
    "model=ChatOpenAI(model='gpt-3.5-turbo')\n",
    "output = model.invoke(\"can you tell me about the india's capital?\")\n",
    "print(output.content)"
   ]
  },
  {
   "cell_type": "code",
   "execution_count": 232,
   "id": "6e3feb68",
   "metadata": {},
   "outputs": [],
   "source": [
    "tools=[function_2, function_3, function_4]\n",
    "llm_with_tool=model.bind_tools(tools)"
   ]
  },
  {
   "cell_type": "code",
   "execution_count": 233,
   "id": "23c606e8",
   "metadata": {},
   "outputs": [
    {
     "name": "stderr",
     "output_type": "stream",
     "text": [
      "c:\\Users\\samra\\anaconda3\\envs\\agentic_2_base\\Lib\\site-packages\\huggingface_hub\\file_download.py:943: FutureWarning: `resume_download` is deprecated and will be removed in version 1.0.0. Downloads always resume when possible. If you want to force a new download, use `force_download=True`.\n",
      "  warnings.warn(\n"
     ]
    }
   ],
   "source": [
    "# configuring the embedding model\n",
    "from langchain_huggingface import HuggingFaceEmbeddings\n",
    "embeddings = HuggingFaceEmbeddings(\n",
    "    model_name=\"BAAI/bge-small-en\"\n",
    ")"
   ]
  },
  {
   "cell_type": "code",
   "execution_count": 234,
   "id": "6a5ce975",
   "metadata": {},
   "outputs": [],
   "source": [
    "loader=DirectoryLoader(\"../data2\",glob=\"./*.txt\",loader_cls=TextLoader)\n",
    "docs=loader.load()"
   ]
  },
  {
   "cell_type": "code",
   "execution_count": 235,
   "id": "4b445b25",
   "metadata": {},
   "outputs": [],
   "source": [
    "## chunk size to be lesser than context window size of the model\n",
    "## overlapping is not necessary if there are logic delimiter in the text. if there is a passage that is related to each other, without headers etc. in that case overlapping is useful. \n",
    "## heirarchical chunking helps to keep the heirarchical structure of the text, so that the model can understand the context better.\n",
    "text_splitter=RecursiveCharacterTextSplitter(\n",
    "    chunk_size=200,\n",
    "    chunk_overlap=50\n",
    ")"
   ]
  },
  {
   "cell_type": "code",
   "execution_count": 236,
   "id": "59dc6f94",
   "metadata": {},
   "outputs": [],
   "source": [
    "new_docs=text_splitter.split_documents(documents=docs)"
   ]
  },
  {
   "cell_type": "code",
   "execution_count": 237,
   "id": "1892a48b",
   "metadata": {},
   "outputs": [
    {
     "name": "stdout",
     "output_type": "stream",
     "text": [
      "[Document(metadata={'source': '..\\\\data2\\\\usa.txt'}, page_content='🇺🇸 Overview of the U.S. Economy'), Document(metadata={'source': '..\\\\data2\\\\usa.txt'}, page_content='The United States of America possesses the largest economy in the world in terms of nominal GDP, making it the most powerful economic force globally. It operates under a capitalist mixed economy,'), Document(metadata={'source': '..\\\\data2\\\\usa.txt'}, page_content='It operates under a capitalist mixed economy, where the private sector dominates, but the government plays a significant regulatory and fiscal role. With a population of over 335 million people and a'), Document(metadata={'source': '..\\\\data2\\\\usa.txt'}, page_content='a population of over 335 million people and a high level of technological advancement, the U.S. economy thrives on a foundation of consumer spending, innovation, global trade, and financial services.'), Document(metadata={'source': '..\\\\data2\\\\usa.txt'}, page_content='innovation, global trade, and financial services. It has a highly diversified structure with strong sectors in technology, healthcare, finance, real estate, defense, and agriculture.'), Document(metadata={'source': '..\\\\data2\\\\usa.txt'}, page_content='U.S. GDP – Size, Composition, and Global Share'), Document(metadata={'source': '..\\\\data2\\\\usa.txt'}, page_content='As of 2024, the United States’ nominal GDP is estimated to be around $28 trillion USD, accounting for approximately 25% of the global economy. It ranks #1 in the world by nominal GDP, far ahead of'), Document(metadata={'source': '..\\\\data2\\\\usa.txt'}, page_content='#1 in the world by nominal GDP, far ahead of China (which ranks 2nd). The U.S. GDP per capita is also among the highest, hovering around $83,000, which indicates a high standard of living and'), Document(metadata={'source': '..\\\\data2\\\\usa.txt'}, page_content='which indicates a high standard of living and productivity. In terms of Purchasing Power Parity (PPP), the U.S. ranks second, but nominal GDP is considered more reflective of actual economic size and'), Document(metadata={'source': '..\\\\data2\\\\usa.txt'}, page_content='more reflective of actual economic size and financial influence.'), Document(metadata={'source': '..\\\\data2\\\\usa.txt'}, page_content='The GDP is predominantly driven by the services sector, which contributes more than 77% to the total GDP. This includes industries such as finance, insurance, real estate, healthcare, education, and'), Document(metadata={'source': '..\\\\data2\\\\usa.txt'}, page_content='real estate, healthcare, education, and information technology. The industrial sector (manufacturing, construction, mining) makes up around 19%, while agriculture, although technologically advanced'), Document(metadata={'source': '..\\\\data2\\\\usa.txt'}, page_content='agriculture, although technologically advanced and export-oriented, contributes only about 1%. Despite its small share in GDP, U.S. agriculture is globally significant in terms of productivity and'), Document(metadata={'source': '..\\\\data2\\\\usa.txt'}, page_content='globally significant in terms of productivity and exports.'), Document(metadata={'source': '..\\\\data2\\\\usa.txt'}, page_content='GDP Growth Trends and Dynamics'), Document(metadata={'source': '..\\\\data2\\\\usa.txt'}, page_content='Historically, the U.S. economy has enjoyed consistent long-term growth, averaging around 2-3% annually. Post-pandemic, the economy bounced back strongly, but 2022 and 2023 saw rising inflation due to'), Document(metadata={'source': '..\\\\data2\\\\usa.txt'}, page_content='but 2022 and 2023 saw rising inflation due to supply chain issues and stimulus-driven demand. In 2024, the U.S. GDP grew at a modest pace of around 2.1%, as the Federal Reserve’s interest rate hikes'), Document(metadata={'source': '..\\\\data2\\\\usa.txt'}, page_content='as the Federal Reserve’s interest rate hikes aimed at controlling inflation also moderated economic expansion. Consumer spending, which makes up nearly 70% of GDP, remains a dominant force in'), Document(metadata={'source': '..\\\\data2\\\\usa.txt'}, page_content='up nearly 70% of GDP, remains a dominant force in economic stability.'), Document(metadata={'source': '..\\\\data2\\\\usa.txt'}, page_content='The U.S. maintains its GDP growth through strong innovation, entrepreneurship, and investment in R&D. With companies like Apple, Google, Amazon, Microsoft, and Tesla leading global markets, the U.S.'), Document(metadata={'source': '..\\\\data2\\\\usa.txt'}, page_content='and Tesla leading global markets, the U.S. consistently produces high value across sectors, especially in technology and advanced services. Additionally, the economy benefits from intellectual'), Document(metadata={'source': '..\\\\data2\\\\usa.txt'}, page_content='the economy benefits from intellectual property exports, financial services, and higher education, all of which contribute significantly to GDP through both domestic and international markets.'), Document(metadata={'source': '..\\\\data2\\\\usa.txt'}, page_content='Role in the Global Economy'), Document(metadata={'source': '..\\\\data2\\\\usa.txt'}, page_content='The U.S. Dollar (USD) is the global reserve currency, held by over 60% of the world’s central bank reserves. This gives the U.S. an enormous advantage in global trade and borrowing. The U.S. is a key'), Document(metadata={'source': '..\\\\data2\\\\usa.txt'}, page_content='in global trade and borrowing. The U.S. is a key member of international institutions like the World Bank, IMF, G7, G20, and WTO, and plays a central role in setting global economic policy.'), Document(metadata={'source': '..\\\\data2\\\\usa.txt'}, page_content=\"As a global innovation hub, the U.S. attracts billions in foreign investment and hosts many of the world's largest and most valuable companies. Its exports include high-tech machinery, aircraft,\"), Document(metadata={'source': '..\\\\data2\\\\usa.txt'}, page_content='exports include high-tech machinery, aircraft, pharmaceuticals, semiconductors, and financial services, while its imports cover consumer goods, electronics, automobiles, and industrial materials. The'), Document(metadata={'source': '..\\\\data2\\\\usa.txt'}, page_content='automobiles, and industrial materials. The trade deficit remains large (around $900 billion in 2024), primarily because the U.S. consumes more than it exports, but its ability to finance this through'), Document(metadata={'source': '..\\\\data2\\\\usa.txt'}, page_content='exports, but its ability to finance this through capital inflows and reserve currency status sustains balance.'), Document(metadata={'source': '..\\\\data2\\\\usa.txt'}, page_content='Key Economic Strengths'), Document(metadata={'source': '..\\\\data2\\\\usa.txt'}, page_content='The core strength of the U.S. economy lies in its flexible labor market, deep capital markets, technological superiority, and legal system that encourages innovation and property rights. It has a'), Document(metadata={'source': '..\\\\data2\\\\usa.txt'}, page_content='innovation and property rights. It has a large, highly educated workforce, a diverse immigration pipeline, and access to vast natural resources including oil, gas, coal, and farmland. The presence of'), Document(metadata={'source': '..\\\\data2\\\\usa.txt'}, page_content='oil, gas, coal, and farmland. The presence of top-tier universities and research institutions fuels the knowledge economy, with billions spent annually on R&D—over $700 billion USD, more than any'), Document(metadata={'source': '..\\\\data2\\\\usa.txt'}, page_content='on R&D—over $700 billion USD, more than any other country.'), Document(metadata={'source': '..\\\\data2\\\\usa.txt'}, page_content='The U.S. leads in many critical sectors, including software, biotechnology, aerospace, defense, financial services, and media. Its startup ecosystem, especially in Silicon Valley, produces unicorns'), Document(metadata={'source': '..\\\\data2\\\\usa.txt'}, page_content='especially in Silicon Valley, produces unicorns and tech giants at a scale unmatched globally. Its financial markets—particularly Wall Street—are the most liquid and globally integrated in the world.'), Document(metadata={'source': '..\\\\data2\\\\usa.txt'}, page_content='Challenges and Structural Issues'), Document(metadata={'source': '..\\\\data2\\\\usa.txt'}, page_content='Despite its strength, the U.S. economy faces several serious long-term issues. The national debt has surpassed $34 trillion USD, raising concerns about fiscal sustainability, especially as interest'), Document(metadata={'source': '..\\\\data2\\\\usa.txt'}, page_content='fiscal sustainability, especially as interest payments alone are growing rapidly. The income and wealth inequality gap has widened, with a small percentage of Americans owning a disproportionate'), Document(metadata={'source': '..\\\\data2\\\\usa.txt'}, page_content='percentage of Americans owning a disproportionate share of wealth. Access to affordable healthcare, housing shortages, and a declining labor force participation in some sectors are additional'), Document(metadata={'source': '..\\\\data2\\\\usa.txt'}, page_content='participation in some sectors are additional structural issues.'), Document(metadata={'source': '..\\\\data2\\\\usa.txt'}, page_content='Another growing concern is political polarization, which often stalls crucial economic reforms and budget agreements, as seen in recurrent debt ceiling crises. The U.S. also faces challenges from'), Document(metadata={'source': '..\\\\data2\\\\usa.txt'}, page_content='crises. The U.S. also faces challenges from global competition, especially from China in areas like AI, semiconductors, and green technology. Moreover, climate change, cybersecurity threats, and'), Document(metadata={'source': '..\\\\data2\\\\usa.txt'}, page_content='climate change, cybersecurity threats, and geopolitical risks (like Ukraine and Taiwan conflicts) add layers of vulnerability to economic planning.'), Document(metadata={'source': '..\\\\data2\\\\usa.txt'}, page_content='Future Outlook (2025–2030)'), Document(metadata={'source': '..\\\\data2\\\\usa.txt'}, page_content='Looking forward, the U.S. economy is expected to grow at a moderate pace, powered by innovation in AI, green energy, robotics, biotech, and quantum computing. The Biden administration’s Inflation'), Document(metadata={'source': '..\\\\data2\\\\usa.txt'}, page_content='computing. The Biden administration’s Inflation Reduction Act and CHIPS Act are pumping massive investments into semiconductors, clean energy, and infrastructure. There is a strong push for reshoring'), Document(metadata={'source': '..\\\\data2\\\\usa.txt'}, page_content='There is a strong push for reshoring of manufacturing, especially in critical sectors like chips, pharmaceuticals, and batteries.'), Document(metadata={'source': '..\\\\data2\\\\usa.txt'}, page_content='However, economic leadership will depend on managing the national debt, reforming entitlement programs, upgrading infrastructure, and ensuring the next generation is equipped with digital-age skills.'), Document(metadata={'source': '..\\\\data2\\\\usa.txt'}, page_content='generation is equipped with digital-age skills. If the U.S. can handle these challenges, it is well-positioned to remain a global economic powerhouse through 2030 and beyond.'), Document(metadata={'source': '..\\\\data2\\\\usa.txt'}, page_content='Final Summary'), Document(metadata={'source': '..\\\\data2\\\\usa.txt'}, page_content='The U.S. economy remains the engine of global growth, backed by unmatched innovation, financial dominance, and a strong institutional framework. Its $28 trillion GDP and influence over global'), Document(metadata={'source': '..\\\\data2\\\\usa.txt'}, page_content='Its $28 trillion GDP and influence over global finance, trade, and technology make it the centerpiece of the modern economic system. Yet, rising debt, inequality, political gridlock, and competition'), Document(metadata={'source': '..\\\\data2\\\\usa.txt'}, page_content='inequality, political gridlock, and competition from emerging powers demand careful policy navigation. If successfully addressed, the U.S. will continue to dominate the global economy well into the'), Document(metadata={'source': '..\\\\data2\\\\usa.txt'}, page_content='to dominate the global economy well into the future.')]\n"
     ]
    }
   ],
   "source": [
    "print(new_docs)"
   ]
  },
  {
   "cell_type": "code",
   "execution_count": 238,
   "id": "04ec0e38",
   "metadata": {},
   "outputs": [
    {
     "name": "stdout",
     "output_type": "stream",
     "text": [
      "['🇺🇸 Overview of the U.S. Economy', 'The United States of America possesses the largest economy in the world in terms of nominal GDP, making it the most powerful economic force globally. It operates under a capitalist mixed economy,', 'It operates under a capitalist mixed economy, where the private sector dominates, but the government plays a significant regulatory and fiscal role. With a population of over 335 million people and a', 'a population of over 335 million people and a high level of technological advancement, the U.S. economy thrives on a foundation of consumer spending, innovation, global trade, and financial services.', 'innovation, global trade, and financial services. It has a highly diversified structure with strong sectors in technology, healthcare, finance, real estate, defense, and agriculture.', 'U.S. GDP – Size, Composition, and Global Share', 'As of 2024, the United States’ nominal GDP is estimated to be around $28 trillion USD, accounting for approximately 25% of the global economy. It ranks #1 in the world by nominal GDP, far ahead of', '#1 in the world by nominal GDP, far ahead of China (which ranks 2nd). The U.S. GDP per capita is also among the highest, hovering around $83,000, which indicates a high standard of living and', 'which indicates a high standard of living and productivity. In terms of Purchasing Power Parity (PPP), the U.S. ranks second, but nominal GDP is considered more reflective of actual economic size and', 'more reflective of actual economic size and financial influence.', 'The GDP is predominantly driven by the services sector, which contributes more than 77% to the total GDP. This includes industries such as finance, insurance, real estate, healthcare, education, and', 'real estate, healthcare, education, and information technology. The industrial sector (manufacturing, construction, mining) makes up around 19%, while agriculture, although technologically advanced', 'agriculture, although technologically advanced and export-oriented, contributes only about 1%. Despite its small share in GDP, U.S. agriculture is globally significant in terms of productivity and', 'globally significant in terms of productivity and exports.', 'GDP Growth Trends and Dynamics', 'Historically, the U.S. economy has enjoyed consistent long-term growth, averaging around 2-3% annually. Post-pandemic, the economy bounced back strongly, but 2022 and 2023 saw rising inflation due to', 'but 2022 and 2023 saw rising inflation due to supply chain issues and stimulus-driven demand. In 2024, the U.S. GDP grew at a modest pace of around 2.1%, as the Federal Reserve’s interest rate hikes', 'as the Federal Reserve’s interest rate hikes aimed at controlling inflation also moderated economic expansion. Consumer spending, which makes up nearly 70% of GDP, remains a dominant force in', 'up nearly 70% of GDP, remains a dominant force in economic stability.', 'The U.S. maintains its GDP growth through strong innovation, entrepreneurship, and investment in R&D. With companies like Apple, Google, Amazon, Microsoft, and Tesla leading global markets, the U.S.', 'and Tesla leading global markets, the U.S. consistently produces high value across sectors, especially in technology and advanced services. Additionally, the economy benefits from intellectual', 'the economy benefits from intellectual property exports, financial services, and higher education, all of which contribute significantly to GDP through both domestic and international markets.', 'Role in the Global Economy', 'The U.S. Dollar (USD) is the global reserve currency, held by over 60% of the world’s central bank reserves. This gives the U.S. an enormous advantage in global trade and borrowing. The U.S. is a key', 'in global trade and borrowing. The U.S. is a key member of international institutions like the World Bank, IMF, G7, G20, and WTO, and plays a central role in setting global economic policy.', \"As a global innovation hub, the U.S. attracts billions in foreign investment and hosts many of the world's largest and most valuable companies. Its exports include high-tech machinery, aircraft,\", 'exports include high-tech machinery, aircraft, pharmaceuticals, semiconductors, and financial services, while its imports cover consumer goods, electronics, automobiles, and industrial materials. The', 'automobiles, and industrial materials. The trade deficit remains large (around $900 billion in 2024), primarily because the U.S. consumes more than it exports, but its ability to finance this through', 'exports, but its ability to finance this through capital inflows and reserve currency status sustains balance.', 'Key Economic Strengths', 'The core strength of the U.S. economy lies in its flexible labor market, deep capital markets, technological superiority, and legal system that encourages innovation and property rights. It has a', 'innovation and property rights. It has a large, highly educated workforce, a diverse immigration pipeline, and access to vast natural resources including oil, gas, coal, and farmland. The presence of', 'oil, gas, coal, and farmland. The presence of top-tier universities and research institutions fuels the knowledge economy, with billions spent annually on R&D—over $700 billion USD, more than any', 'on R&D—over $700 billion USD, more than any other country.', 'The U.S. leads in many critical sectors, including software, biotechnology, aerospace, defense, financial services, and media. Its startup ecosystem, especially in Silicon Valley, produces unicorns', 'especially in Silicon Valley, produces unicorns and tech giants at a scale unmatched globally. Its financial markets—particularly Wall Street—are the most liquid and globally integrated in the world.', 'Challenges and Structural Issues', 'Despite its strength, the U.S. economy faces several serious long-term issues. The national debt has surpassed $34 trillion USD, raising concerns about fiscal sustainability, especially as interest', 'fiscal sustainability, especially as interest payments alone are growing rapidly. The income and wealth inequality gap has widened, with a small percentage of Americans owning a disproportionate', 'percentage of Americans owning a disproportionate share of wealth. Access to affordable healthcare, housing shortages, and a declining labor force participation in some sectors are additional', 'participation in some sectors are additional structural issues.', 'Another growing concern is political polarization, which often stalls crucial economic reforms and budget agreements, as seen in recurrent debt ceiling crises. The U.S. also faces challenges from', 'crises. The U.S. also faces challenges from global competition, especially from China in areas like AI, semiconductors, and green technology. Moreover, climate change, cybersecurity threats, and', 'climate change, cybersecurity threats, and geopolitical risks (like Ukraine and Taiwan conflicts) add layers of vulnerability to economic planning.', 'Future Outlook (2025–2030)', 'Looking forward, the U.S. economy is expected to grow at a moderate pace, powered by innovation in AI, green energy, robotics, biotech, and quantum computing. The Biden administration’s Inflation', 'computing. The Biden administration’s Inflation Reduction Act and CHIPS Act are pumping massive investments into semiconductors, clean energy, and infrastructure. There is a strong push for reshoring', 'There is a strong push for reshoring of manufacturing, especially in critical sectors like chips, pharmaceuticals, and batteries.', 'However, economic leadership will depend on managing the national debt, reforming entitlement programs, upgrading infrastructure, and ensuring the next generation is equipped with digital-age skills.', 'generation is equipped with digital-age skills. If the U.S. can handle these challenges, it is well-positioned to remain a global economic powerhouse through 2030 and beyond.', 'Final Summary', 'The U.S. economy remains the engine of global growth, backed by unmatched innovation, financial dominance, and a strong institutional framework. Its $28 trillion GDP and influence over global', 'Its $28 trillion GDP and influence over global finance, trade, and technology make it the centerpiece of the modern economic system. Yet, rising debt, inequality, political gridlock, and competition', 'inequality, political gridlock, and competition from emerging powers demand careful policy navigation. If successfully addressed, the U.S. will continue to dominate the global economy well into the', 'to dominate the global economy well into the future.']\n"
     ]
    }
   ],
   "source": [
    "doc_string=[doc.page_content for doc in new_docs]\n",
    "print(doc_string)"
   ]
  },
  {
   "cell_type": "code",
   "execution_count": 239,
   "id": "f2f10b9f",
   "metadata": {},
   "outputs": [],
   "source": [
    "db=Chroma.from_documents(new_docs,embeddings)"
   ]
  },
  {
   "cell_type": "code",
   "execution_count": 240,
   "id": "db04ae54",
   "metadata": {},
   "outputs": [
    {
     "data": {
      "text/plain": [
       "384"
      ]
     },
     "execution_count": 240,
     "metadata": {},
     "output_type": "execute_result"
    }
   ],
   "source": [
    "len(embeddings.embed_query(\"hello world\"))"
   ]
  },
  {
   "cell_type": "code",
   "execution_count": 241,
   "id": "57bda2ee",
   "metadata": {},
   "outputs": [],
   "source": [
    "retriever=db.as_retriever(search_kwargs={\"k\": 3})"
   ]
  },
  {
   "cell_type": "code",
   "execution_count": 242,
   "id": "71de350a",
   "metadata": {},
   "outputs": [
    {
     "data": {
      "text/plain": [
       "[Document(metadata={'source': '..\\\\data2\\\\usa.txt'}, page_content='Looking forward, the U.S. economy is expected to grow at a moderate pace, powered by innovation in AI, green energy, robotics, biotech, and quantum computing. The Biden administration’s Inflation'),\n",
       " Document(metadata={'source': '..\\\\data2\\\\usa.txt'}, page_content='Looking forward, the U.S. economy is expected to grow at a moderate pace, powered by innovation in AI, green energy, robotics, biotech, and quantum computing. The Biden administration’s Inflation'),\n",
       " Document(metadata={'source': '..\\\\data2\\\\usa.txt'}, page_content='Looking forward, the U.S. economy is expected to grow at a moderate pace, powered by innovation in AI, green energy, robotics, biotech, and quantum computing. The Biden administration’s Inflation')]"
      ]
     },
     "execution_count": 242,
     "metadata": {},
     "output_type": "execute_result"
    }
   ],
   "source": [
    "retriever.invoke(\"industrial growth of usa?\")"
   ]
  },
  {
   "cell_type": "code",
   "execution_count": 243,
   "id": "bdbca52a",
   "metadata": {},
   "outputs": [],
   "source": [
    "from pydantic import BaseModel, Field"
   ]
  },
  {
   "cell_type": "code",
   "execution_count": 244,
   "id": "faaa207d",
   "metadata": {},
   "outputs": [],
   "source": [
    "# pydantic class \n",
    "class TopicSelectionParser(BaseModel):\n",
    "    topic: str = Field(description =\"The topic to be selected for the workflow\")\n",
    "    reasoning: str = Field(description=\"The reasoning behind the topic selection\")"
   ]
  },
  {
   "cell_type": "code",
   "execution_count": 245,
   "id": "a62b88f1",
   "metadata": {},
   "outputs": [],
   "source": [
    "parser = PydanticOutputParser(pydantic_object=TopicSelectionParser)"
   ]
  },
  {
   "cell_type": "code",
   "execution_count": 246,
   "id": "fe926a66",
   "metadata": {},
   "outputs": [
    {
     "data": {
      "text/plain": [
       "'The output should be formatted as a JSON instance that conforms to the JSON schema below.\\n\\nAs an example, for the schema {\"properties\": {\"foo\": {\"title\": \"Foo\", \"description\": \"a list of strings\", \"type\": \"array\", \"items\": {\"type\": \"string\"}}}, \"required\": [\"foo\"]}\\nthe object {\"foo\": [\"bar\", \"baz\"]} is a well-formatted instance of the schema. The object {\"properties\": {\"foo\": [\"bar\", \"baz\"]}} is not well-formatted.\\n\\nHere is the output schema:\\n```\\n{\"properties\": {\"topic\": {\"description\": \"The topic to be selected for the workflow\", \"title\": \"Topic\", \"type\": \"string\"}, \"reasoning\": {\"description\": \"The reasoning behind the topic selection\", \"title\": \"Reasoning\", \"type\": \"string\"}}, \"required\": [\"topic\", \"reasoning\"]}\\n```'"
      ]
     },
     "execution_count": 246,
     "metadata": {},
     "output_type": "execute_result"
    }
   ],
   "source": [
    "parser.get_format_instructions()"
   ]
  },
  {
   "cell_type": "code",
   "execution_count": 247,
   "id": "a99e6b37",
   "metadata": {},
   "outputs": [],
   "source": [
    "## The LLM will automatically classify and spit out the category name as mentioned in the template. \n",
    "def function_1(state:MessagesState):\n",
    "    \"\"\"Router that triggers appropriate tool calls\"\"\"\n",
    "    \n",
    "    question = state[\"messages\"][-1].content\n",
    "    print(f\"function_1 is called with question: {question}\")\n",
    "    \n",
    "    # Create a prompt that will make LLM decide which tool to call\n",
    "    tool_prompt = f\"\"\"You need to help answer this question: {question}\n",
    "\n",
    "You have access to these tools:\n",
    "- function_2: For USA-related questions (GDP, economy, etc.)\n",
    "- function_3: For general knowledge questions\n",
    "- function_4: For weather-related questions\n",
    "\n",
    "Please call the appropriate tool to answer the question.\n",
    "\n",
    "CRITICAL: Call EXACTLY ONE tool. Choose the MOST RELEVANT tool and call ONLY that tool. \n",
    "Do not call multiple tools.\"\"\"\n",
    "    \n",
    "    # Use LLM with tools to decide which tool to call\n",
    "    response = llm_with_tool.invoke([HumanMessage(content=tool_prompt)])\n",
    "    \n",
    "    return {\"messages\": [response]}  # This will have tool_calls if LLM decides to use tools"
   ]
  },
  {
   "cell_type": "code",
   "execution_count": 248,
   "id": "41ee8ae8",
   "metadata": {},
   "outputs": [
    {
     "name": "stdout",
     "output_type": "stream",
     "text": [
      "{'messages': [HumanMessage(content=\"what is today's weather?\", additional_kwargs={}, response_metadata={})]}\n"
     ]
    }
   ],
   "source": [
    "state : MessagesState = MessagesState(messages=[HumanMessage(content=\"what is today's weather?\")])\n",
    "print (state)"
   ]
  },
  {
   "cell_type": "code",
   "execution_count": 249,
   "id": "e07378fb",
   "metadata": {},
   "outputs": [
    {
     "name": "stdout",
     "output_type": "stream",
     "text": [
      "function_1 is called with question: what is today's weather?\n"
     ]
    },
    {
     "data": {
      "text/plain": [
       "{'messages': [AIMessage(content='', additional_kwargs={'tool_calls': [{'id': 'call_D5YYvx4nq9JeGdMGYoRNMr9F', 'function': {'arguments': '{\"state\":{\"messages\":[{\"content\":\"What is today\\'s weather?\",\"type\":\"human\"}]}}', 'name': 'function_4'}, 'type': 'function'}], 'refusal': None}, response_metadata={'token_usage': {'completion_tokens': 30, 'prompt_tokens': 9961, 'total_tokens': 9991, 'completion_tokens_details': {'accepted_prediction_tokens': 0, 'audio_tokens': 0, 'reasoning_tokens': 0, 'rejected_prediction_tokens': 0}, 'prompt_tokens_details': {'audio_tokens': 0, 'cached_tokens': 0}}, 'model_name': 'gpt-3.5-turbo-0125', 'system_fingerprint': None, 'id': 'chatcmpl-ByppTSO7KpvT7gxAaYzN7ByJzGhFF', 'service_tier': 'default', 'finish_reason': 'tool_calls', 'logprobs': None}, id='run--fad60cca-1d23-4b22-82fb-d261d0eb8d0e-0', tool_calls=[{'name': 'function_4', 'args': {'state': {'messages': [{'content': \"What is today's weather?\", 'type': 'human'}]}}, 'id': 'call_D5YYvx4nq9JeGdMGYoRNMr9F', 'type': 'tool_call'}], usage_metadata={'input_tokens': 9961, 'output_tokens': 30, 'total_tokens': 9991, 'input_token_details': {'audio': 0, 'cache_read': 0}, 'output_token_details': {'audio': 0, 'reasoning': 0}})]}"
      ]
     },
     "execution_count": 249,
     "metadata": {},
     "output_type": "execute_result"
    }
   ],
   "source": [
    "function_1(state)"
   ]
  },
  {
   "cell_type": "code",
   "execution_count": 250,
   "id": "16557763",
   "metadata": {},
   "outputs": [],
   "source": [
    "state={\"messages\":[HumanMessage(content=\"what is the GDP of USA?\")]}"
   ]
  },
  {
   "cell_type": "code",
   "execution_count": 251,
   "id": "761bee08",
   "metadata": {},
   "outputs": [
    {
     "name": "stdout",
     "output_type": "stream",
     "text": [
      "function_1 is called with question: what is the GDP of USA?\n"
     ]
    },
    {
     "data": {
      "text/plain": [
       "{'messages': [AIMessage(content='', additional_kwargs={'tool_calls': [{'id': 'call_sJyc6lSh2o8vidrvuoVRl7s6', 'function': {'arguments': '{\"state\":{\"messages\":[{\"content\":\"What is the GDP of USA?\"}]}}', 'name': 'function_2'}, 'type': 'function'}], 'refusal': None}, response_metadata={'token_usage': {'completion_tokens': 26, 'prompt_tokens': 9962, 'total_tokens': 9988, 'completion_tokens_details': {'accepted_prediction_tokens': 0, 'audio_tokens': 0, 'reasoning_tokens': 0, 'rejected_prediction_tokens': 0}, 'prompt_tokens_details': {'audio_tokens': 0, 'cached_tokens': 0}}, 'model_name': 'gpt-3.5-turbo-0125', 'system_fingerprint': None, 'id': 'chatcmpl-ByppVeOGbOScYQwx8CutYljL8Whm6', 'service_tier': 'default', 'finish_reason': 'tool_calls', 'logprobs': None}, id='run--a5b4f5b5-f20a-4734-b9d5-c015f1603104-0', tool_calls=[{'name': 'function_2', 'args': {'state': {'messages': [{'content': 'What is the GDP of USA?'}]}}, 'id': 'call_sJyc6lSh2o8vidrvuoVRl7s6', 'type': 'tool_call'}], usage_metadata={'input_tokens': 9962, 'output_tokens': 26, 'total_tokens': 9988, 'input_token_details': {'audio': 0, 'cache_read': 0}, 'output_token_details': {'audio': 0, 'reasoning': 0}})]}"
      ]
     },
     "execution_count": 251,
     "metadata": {},
     "output_type": "execute_result"
    }
   ],
   "source": [
    "function_1(state)"
   ]
  },
  {
   "cell_type": "code",
   "execution_count": 252,
   "id": "347aa841",
   "metadata": {},
   "outputs": [],
   "source": [
    "def router(state:MessagesState):\n",
    "    print (\"-> ROUTER -> \")\n",
    "\n",
    "    last_message = state[\"messages\"][-1]\n",
    "    print (f\"Last message: {last_message}\")\n",
    "\n",
    "    if last_message.tool_calls:\n",
    "        return \"tools\"\n",
    "    return END\n",
    "    "
   ]
  },
  {
   "cell_type": "code",
   "execution_count": 253,
   "id": "e13e0f7f",
   "metadata": {},
   "outputs": [],
   "source": [
    "def format_docs(docs):\n",
    "    return \"\\n\\n\".join(doc.page_content for doc in docs)"
   ]
  },
  {
   "cell_type": "code",
   "execution_count": 254,
   "id": "ae4eb352",
   "metadata": {},
   "outputs": [],
   "source": [
    "response=llm_with_tool.invoke(\"what is a weather is delhi?\")"
   ]
  },
  {
   "cell_type": "code",
   "execution_count": 255,
   "id": "c7e4283d",
   "metadata": {},
   "outputs": [
    {
     "data": {
      "text/plain": [
       "''"
      ]
     },
     "execution_count": 255,
     "metadata": {},
     "output_type": "execute_result"
    }
   ],
   "source": [
    "response.content"
   ]
  },
  {
   "cell_type": "code",
   "execution_count": 256,
   "id": "131f83a3",
   "metadata": {},
   "outputs": [
    {
     "data": {
      "text/plain": [
       "[{'name': 'function_4',\n",
       "  'args': {'state': {'messages': [{'content': 'what is a weather is delhi?',\n",
       "      'type': 'human'}]}},\n",
       "  'id': 'call_7ND6zKgU71jg4xfWR6S3TNzM',\n",
       "  'type': 'tool_call'}]"
      ]
     },
     "execution_count": 256,
     "metadata": {},
     "output_type": "execute_result"
    }
   ],
   "source": [
    "response.tool_calls"
   ]
  },
  {
   "cell_type": "code",
   "execution_count": 257,
   "id": "40c63add",
   "metadata": {},
   "outputs": [],
   "source": [
    "from langgraph.prebuilt import ToolNode\n",
    "\n",
    "tool_node=ToolNode(tools)"
   ]
  },
  {
   "cell_type": "code",
   "execution_count": 258,
   "id": "140aa6da",
   "metadata": {},
   "outputs": [
    {
     "data": {
      "text/plain": [
       "tools(tags=None, recurse=True, explode_args=False, func_accepts_config=True, func_accepts={'store': ('__pregel_store', None)}, tools_by_name={'function_2': StructuredTool(name='function_2', description='this is my custom tool for serving RAG Call. It retrieves relevant documents from the vector store and generates a concise answer based on the retrieved context. This is to be called when Supervisor returns \"USA\"', args_schema=<class 'langchain_core.utils.pydantic.function_2'>, func=<function function_2 at 0x000001EF94D4A020>), 'function_3': StructuredTool(name='function_3', description='this is my custom tool for calling the LLM when neither usa nor weather is the topic. This is to be called when Supervisor returns \"Not Related\"', args_schema=<class 'langchain_core.utils.pydantic.function_3'>, func=<function function_3 at 0x000001EF94D4B100>), 'function_4': StructuredTool(name='function_4', description='this is my custom tool for searching a weather. This is to be called when Supervisor returns \"Weather\"', args_schema=<class 'langchain_core.utils.pydantic.function_4'>, func=<function function_4 at 0x000001EF94D4BEC0>)}, tool_to_state_args={'function_2': {}, 'function_3': {}, 'function_4': {}}, tool_to_store_arg={'function_2': None, 'function_3': None, 'function_4': None}, handle_tool_errors=True, messages_key='messages')"
      ]
     },
     "execution_count": 258,
     "metadata": {},
     "output_type": "execute_result"
    }
   ],
   "source": [
    "tool_node"
   ]
  },
  {
   "cell_type": "code",
   "execution_count": 259,
   "id": "6067e1e4",
   "metadata": {},
   "outputs": [
    {
     "data": {
      "image/png": "[encoded data removed]",
      "text/plain": [
       "<IPython.core.display.Image object>"
      ]
     },
     "metadata": {},
     "output_type": "display_data"
    }
   ],
   "source": [
    "from langgraph.graph import StateGraph,END\n",
    "workflow=StateGraph(MessagesState)\n",
    "workflow.add_node(\"Supervisor\",function_1)\n",
    "workflow.add_node(\"mytools\",tool_node)\n",
    "workflow.set_entry_point(\"Supervisor\")\n",
    "workflow.add_conditional_edges(\n",
    "    \"Supervisor\", \n",
    "    router,\n",
    "    {\n",
    "        \"tools\": \"mytools\",\n",
    "        END:END\n",
    "    }\n",
    ")\n",
    "app=workflow.compile()\n",
    "display(Image(app.get_graph().draw_mermaid_png()))"
   ]
  },
  {
   "cell_type": "code",
   "execution_count": 260,
   "id": "2fbca21a",
   "metadata": {},
   "outputs": [
    {
     "name": "stdout",
     "output_type": "stream",
     "text": [
      "{'messages': [HumanMessage(content='what is the weather of NYC?', additional_kwargs={}, response_metadata={})]}\n"
     ]
    }
   ],
   "source": [
    "from langchain_core.messages import HumanMessage\n",
    "agent_state = MessagesState(messages=[HumanMessage(content=\"what is the GDP of USA?\")])\n",
    "agent_state = MessagesState(messages=[HumanMessage(content=\"what is the weather of NYC?\")])\n",
    "\n",
    "print (agent_state)"
   ]
  },
  {
   "cell_type": "code",
   "execution_count": 261,
   "id": "08b2a3e1",
   "metadata": {},
   "outputs": [
    {
     "name": "stdout",
     "output_type": "stream",
     "text": [
      "function_1 is called with question: what is the weather of NYC?\n",
      "-> ROUTER -> \n",
      "Last message: content='' additional_kwargs={'tool_calls': [{'id': 'call_Wca40By57KqdIVLMNIrhqJNO', 'function': {'arguments': '{\"state\":{\"messages\":[{\"content\":\"What is the weather of NYC?\",\"type\":\"human\"}]}}', 'name': 'function_4'}, 'type': 'function'}], 'refusal': None} response_metadata={'token_usage': {'completion_tokens': 31, 'prompt_tokens': 9962, 'total_tokens': 9993, 'completion_tokens_details': {'accepted_prediction_tokens': 0, 'audio_tokens': 0, 'reasoning_tokens': 0, 'rejected_prediction_tokens': 0}, 'prompt_tokens_details': {'audio_tokens': 0, 'cached_tokens': 0}}, 'model_name': 'gpt-3.5-turbo-0125', 'system_fingerprint': None, 'id': 'chatcmpl-ByppZcN9NWU4qWGTXxmevXW7E32Dl', 'service_tier': 'default', 'finish_reason': 'tool_calls', 'logprobs': None} id='run--4803a8fd-e40a-4b9b-b24e-e452665c051e-0' tool_calls=[{'name': 'function_4', 'args': {'state': {'messages': [{'content': 'What is the weather of NYC?', 'type': 'human'}]}}, 'id': 'call_Wca40By57KqdIVLMNIrhqJNO', 'type': 'tool_call'}] usage_metadata={'input_tokens': 9962, 'output_tokens': 31, 'total_tokens': 9993, 'input_token_details': {'audio': 0, 'cache_read': 0}, 'output_token_details': {'audio': 0, 'reasoning': 0}}\n",
      "-> Weather Call ->\n"
     ]
    },
    {
     "data": {
      "text/plain": [
       "{'messages': [HumanMessage(content='what is the weather of NYC?', additional_kwargs={}, response_metadata={}, id='befb6f93-449f-4130-8095-53a8d086af13'),\n",
       "  AIMessage(content='', additional_kwargs={'tool_calls': [{'id': 'call_Wca40By57KqdIVLMNIrhqJNO', 'function': {'arguments': '{\"state\":{\"messages\":[{\"content\":\"What is the weather of NYC?\",\"type\":\"human\"}]}}', 'name': 'function_4'}, 'type': 'function'}], 'refusal': None}, response_metadata={'token_usage': {'completion_tokens': 31, 'prompt_tokens': 9962, 'total_tokens': 9993, 'completion_tokens_details': {'accepted_prediction_tokens': 0, 'audio_tokens': 0, 'reasoning_tokens': 0, 'rejected_prediction_tokens': 0}, 'prompt_tokens_details': {'audio_tokens': 0, 'cached_tokens': 0}}, 'model_name': 'gpt-3.5-turbo-0125', 'system_fingerprint': None, 'id': 'chatcmpl-ByppZcN9NWU4qWGTXxmevXW7E32Dl', 'service_tier': 'default', 'finish_reason': 'tool_calls', 'logprobs': None}, id='run--4803a8fd-e40a-4b9b-b24e-e452665c051e-0', tool_calls=[{'name': 'function_4', 'args': {'state': {'messages': [{'content': 'What is the weather of NYC?', 'type': 'human'}]}}, 'id': 'call_Wca40By57KqdIVLMNIrhqJNO', 'type': 'tool_call'}], usage_metadata={'input_tokens': 9962, 'output_tokens': 31, 'total_tokens': 9993, 'input_token_details': {'audio': 0, 'cache_read': 0}, 'output_token_details': {'audio': 0, 'reasoning': 0}}),\n",
       "  ToolMessage(content='27 degree celsius', name='function_4', id='320dc8d5-2862-4ea6-8ca1-a2750da130a5', tool_call_id='call_Wca40By57KqdIVLMNIrhqJNO')]}"
      ]
     },
     "execution_count": 261,
     "metadata": {},
     "output_type": "execute_result"
    }
   ],
   "source": [
    "app.invoke(agent_state)"
   ]
  },
  {
   "cell_type": "code",
   "execution_count": 262,
   "id": "63ff0ffa",
   "metadata": {},
   "outputs": [
    {
     "name": "stdout",
     "output_type": "stream",
     "text": [
      "{'messages': [HumanMessage(content='What is the capital of India?', additional_kwargs={}, response_metadata={})]}\n",
      "function_1 is called with question: What is the capital of India?\n",
      "-> ROUTER -> \n",
      "Last message: content='' additional_kwargs={'tool_calls': [{'id': 'call_G1DYKlyTRmDd0SbFtQUqmtAC', 'function': {'arguments': '{\"state\":{\"messages\":[{\"content\":\"What is the capital of India?\",\"type\":\"human\"}]}}', 'name': 'function_3'}, 'type': 'function'}], 'refusal': None} response_metadata={'token_usage': {'completion_tokens': 31, 'prompt_tokens': 9962, 'total_tokens': 9993, 'completion_tokens_details': {'accepted_prediction_tokens': 0, 'audio_tokens': 0, 'reasoning_tokens': 0, 'rejected_prediction_tokens': 0}, 'prompt_tokens_details': {'audio_tokens': 0, 'cached_tokens': 0}}, 'model_name': 'gpt-3.5-turbo-0125', 'system_fingerprint': None, 'id': 'chatcmpl-ByppbnXtMEA6CYHOejULFfgHcV1nz', 'service_tier': 'default', 'finish_reason': 'tool_calls', 'logprobs': None} id='run--afc73437-6e56-43da-b982-52e70fe73247-0' tool_calls=[{'name': 'function_3', 'args': {'state': {'messages': [{'content': 'What is the capital of India?', 'type': 'human'}]}}, 'id': 'call_G1DYKlyTRmDd0SbFtQUqmtAC', 'type': 'tool_call'}] usage_metadata={'input_tokens': 9962, 'output_tokens': 31, 'total_tokens': 9993, 'input_token_details': {'audio': 0, 'cache_read': 0}, 'output_token_details': {'audio': 0, 'reasoning': 0}}\n",
      "-> LLM Call ->\n"
     ]
    },
    {
     "data": {
      "text/plain": [
       "{'messages': [HumanMessage(content='What is the capital of India?', additional_kwargs={}, response_metadata={}, id='5659634b-a511-436e-bdb8-77b0024727a5'),\n",
       "  AIMessage(content='', additional_kwargs={'tool_calls': [{'id': 'call_G1DYKlyTRmDd0SbFtQUqmtAC', 'function': {'arguments': '{\"state\":{\"messages\":[{\"content\":\"What is the capital of India?\",\"type\":\"human\"}]}}', 'name': 'function_3'}, 'type': 'function'}], 'refusal': None}, response_metadata={'token_usage': {'completion_tokens': 31, 'prompt_tokens': 9962, 'total_tokens': 9993, 'completion_tokens_details': {'accepted_prediction_tokens': 0, 'audio_tokens': 0, 'reasoning_tokens': 0, 'rejected_prediction_tokens': 0}, 'prompt_tokens_details': {'audio_tokens': 0, 'cached_tokens': 0}}, 'model_name': 'gpt-3.5-turbo-0125', 'system_fingerprint': None, 'id': 'chatcmpl-ByppbnXtMEA6CYHOejULFfgHcV1nz', 'service_tier': 'default', 'finish_reason': 'tool_calls', 'logprobs': None}, id='run--afc73437-6e56-43da-b982-52e70fe73247-0', tool_calls=[{'name': 'function_3', 'args': {'state': {'messages': [{'content': 'What is the capital of India?', 'type': 'human'}]}}, 'id': 'call_G1DYKlyTRmDd0SbFtQUqmtAC', 'type': 'tool_call'}], usage_metadata={'input_tokens': 9962, 'output_tokens': 31, 'total_tokens': 9993, 'input_token_details': {'audio': 0, 'cache_read': 0}, 'output_token_details': {'audio': 0, 'reasoning': 0}}),\n",
       "  ToolMessage(content='The capital of India is New Delhi.', name='function_3', id='5e457e40-ee15-4c0c-9402-505a5436de70', tool_call_id='call_G1DYKlyTRmDd0SbFtQUqmtAC')]}"
      ]
     },
     "execution_count": 262,
     "metadata": {},
     "output_type": "execute_result"
    }
   ],
   "source": [
    "from langchain_core.messages import HumanMessage\n",
    "agent_state = MessagesState(messages=[HumanMessage(content=\"What is the capital of India?\")])\n",
    "\n",
    "print (agent_state)\n",
    "app.invoke(agent_state)"
   ]
  },
  {
   "cell_type": "code",
   "execution_count": 263,
   "id": "d72476b2",
   "metadata": {},
   "outputs": [
    {
     "name": "stdout",
     "output_type": "stream",
     "text": [
      "{'messages': [HumanMessage(content='What is the weather of NYC?', additional_kwargs={}, response_metadata={})]}\n",
      "function_1 is called with question: What is the weather of NYC?\n",
      "-> ROUTER -> \n",
      "Last message: content='' additional_kwargs={'tool_calls': [{'id': 'call_zt3oZFGKc7likJhW9ZZfercY', 'function': {'arguments': '{\"state\":{\"messages\":[{\"content\":\"What is the weather of NYC?\",\"type\":\"human\"}]}}', 'name': 'function_4'}, 'type': 'function'}], 'refusal': None} response_metadata={'token_usage': {'completion_tokens': 31, 'prompt_tokens': 9962, 'total_tokens': 9993, 'completion_tokens_details': {'accepted_prediction_tokens': 0, 'audio_tokens': 0, 'reasoning_tokens': 0, 'rejected_prediction_tokens': 0}, 'prompt_tokens_details': {'audio_tokens': 0, 'cached_tokens': 0}}, 'model_name': 'gpt-3.5-turbo-0125', 'system_fingerprint': None, 'id': 'chatcmpl-ByppeM6vaeOJYYfAPzwhBjUEOswpW', 'service_tier': 'default', 'finish_reason': 'tool_calls', 'logprobs': None} id='run--741440a3-c8c9-4842-97ac-094132c450cd-0' tool_calls=[{'name': 'function_4', 'args': {'state': {'messages': [{'content': 'What is the weather of NYC?', 'type': 'human'}]}}, 'id': 'call_zt3oZFGKc7likJhW9ZZfercY', 'type': 'tool_call'}] usage_metadata={'input_tokens': 9962, 'output_tokens': 31, 'total_tokens': 9993, 'input_token_details': {'audio': 0, 'cache_read': 0}, 'output_token_details': {'audio': 0, 'reasoning': 0}}\n",
      "-> Weather Call ->\n"
     ]
    },
    {
     "data": {
      "text/plain": [
       "{'messages': [HumanMessage(content='What is the weather of NYC?', additional_kwargs={}, response_metadata={}, id='4155f706-9b3f-4f72-b96a-df1067642f78'),\n",
       "  AIMessage(content='', additional_kwargs={'tool_calls': [{'id': 'call_zt3oZFGKc7likJhW9ZZfercY', 'function': {'arguments': '{\"state\":{\"messages\":[{\"content\":\"What is the weather of NYC?\",\"type\":\"human\"}]}}', 'name': 'function_4'}, 'type': 'function'}], 'refusal': None}, response_metadata={'token_usage': {'completion_tokens': 31, 'prompt_tokens': 9962, 'total_tokens': 9993, 'completion_tokens_details': {'accepted_prediction_tokens': 0, 'audio_tokens': 0, 'reasoning_tokens': 0, 'rejected_prediction_tokens': 0}, 'prompt_tokens_details': {'audio_tokens': 0, 'cached_tokens': 0}}, 'model_name': 'gpt-3.5-turbo-0125', 'system_fingerprint': None, 'id': 'chatcmpl-ByppeM6vaeOJYYfAPzwhBjUEOswpW', 'service_tier': 'default', 'finish_reason': 'tool_calls', 'logprobs': None}, id='run--741440a3-c8c9-4842-97ac-094132c450cd-0', tool_calls=[{'name': 'function_4', 'args': {'state': {'messages': [{'content': 'What is the weather of NYC?', 'type': 'human'}]}}, 'id': 'call_zt3oZFGKc7likJhW9ZZfercY', 'type': 'tool_call'}], usage_metadata={'input_tokens': 9962, 'output_tokens': 31, 'total_tokens': 9993, 'input_token_details': {'audio': 0, 'cache_read': 0}, 'output_token_details': {'audio': 0, 'reasoning': 0}}),\n",
       "  ToolMessage(content='27 degree celsius', name='function_4', id='3e39295c-17af-42ea-9271-98ea6d2bfe24', tool_call_id='call_zt3oZFGKc7likJhW9ZZfercY')]}"
      ]
     },
     "execution_count": 263,
     "metadata": {},
     "output_type": "execute_result"
    }
   ],
   "source": [
    "from langchain_core.messages import HumanMessage\n",
    "agent_state = MessagesState(messages=[HumanMessage(content=\"What is the weather of NYC?\")])\n",
    "\n",
    "print (agent_state)\n",
    "app.invoke(agent_state)"
   ]
  },
  {
   "cell_type": "code",
   "execution_count": 264,
   "id": "09642e22",
   "metadata": {},
   "outputs": [
    {
     "name": "stdout",
     "output_type": "stream",
     "text": [
      "function_1 is called with question: What is economy of usa?\n",
      "-> ROUTER -> \n",
      "Last message: content='' additional_kwargs={'tool_calls': [{'id': 'call_BRZg4wxxsGw7JXiCIGg7vi91', 'function': {'arguments': '{\"state\":{\"messages\":[{}]}}', 'name': 'function_2'}, 'type': 'function'}], 'refusal': None} response_metadata={'token_usage': {'completion_tokens': 17, 'prompt_tokens': 9961, 'total_tokens': 9978, 'completion_tokens_details': {'accepted_prediction_tokens': 0, 'audio_tokens': 0, 'reasoning_tokens': 0, 'rejected_prediction_tokens': 0}, 'prompt_tokens_details': {'audio_tokens': 0, 'cached_tokens': 0}}, 'model_name': 'gpt-3.5-turbo-0125', 'system_fingerprint': None, 'id': 'chatcmpl-ByppfEzItx0s2ZoV55QFfDPRoUH8d', 'service_tier': 'default', 'finish_reason': 'tool_calls', 'logprobs': None} id='run--72023ca5-02e2-4589-b30f-32a1aa099a5d-0' tool_calls=[{'name': 'function_2', 'args': {'state': {'messages': [{}]}}, 'id': 'call_BRZg4wxxsGw7JXiCIGg7vi91', 'type': 'tool_call'}] usage_metadata={'input_tokens': 9961, 'output_tokens': 17, 'total_tokens': 9978, 'input_token_details': {'audio': 0, 'cache_read': 0}, 'output_token_details': {'audio': 0, 'reasoning': 0}}\n",
      "==========================================\n",
      "here is the output from Supervisor\n",
      "=========================================\n",
      "{'messages': [AIMessage(content='', additional_kwargs={'tool_calls': [{'id': 'call_BRZg4wxxsGw7JXiCIGg7vi91', 'function': {'arguments': '{\"state\":{\"messages\":[{}]}}', 'name': 'function_2'}, 'type': 'function'}], 'refusal': None}, response_metadata={'token_usage': {'completion_tokens': 17, 'prompt_tokens': 9961, 'total_tokens': 9978, 'completion_tokens_details': {'accepted_prediction_tokens': 0, 'audio_tokens': 0, 'reasoning_tokens': 0, 'rejected_prediction_tokens': 0}, 'prompt_tokens_details': {'audio_tokens': 0, 'cached_tokens': 0}}, 'model_name': 'gpt-3.5-turbo-0125', 'system_fingerprint': None, 'id': 'chatcmpl-ByppfEzItx0s2ZoV55QFfDPRoUH8d', 'service_tier': 'default', 'finish_reason': 'tool_calls', 'logprobs': None}, id='run--72023ca5-02e2-4589-b30f-32a1aa099a5d-0', tool_calls=[{'name': 'function_2', 'args': {'state': {'messages': [{}]}}, 'id': 'call_BRZg4wxxsGw7JXiCIGg7vi91', 'type': 'tool_call'}], usage_metadata={'input_tokens': 9961, 'output_tokens': 17, 'total_tokens': 9978, 'input_token_details': {'audio': 0, 'cache_read': 0}, 'output_token_details': {'audio': 0, 'reasoning': 0}})]}\n",
      "\n",
      "\n",
      "==========================================\n",
      "here is the output from mytools\n",
      "=========================================\n",
      "{'messages': [ToolMessage(content='Error: TypeError(\"Expected either a dictionary with a \\'type\\' key or an object with a \\'type\\' attribute. Instead got type <class \\'dict\\'>.\")\\n Please fix your mistakes.', name='function_2', id='85a4f09d-9731-4e76-a75e-aca440ce4fda', tool_call_id='call_BRZg4wxxsGw7JXiCIGg7vi91', status='error')]}\n",
      "\n",
      "\n"
     ]
    }
   ],
   "source": [
    "for output in app.stream({\"messages\": [HumanMessage(content=\"What is economy of usa?\")]\n",
    "}):\n",
    "    for key, value in output.items():\n",
    "        ## key is the name of the node, value is the output of the node\n",
    "        print(\"==========================================\")\n",
    "        print(f\"here is the output from {key}\")\n",
    "        print (\"=========================================\")\n",
    "        print(value)\n",
    "        print(\"\\n\")"
   ]
  },
  {
   "cell_type": "markdown",
   "id": "5c10c711",
   "metadata": {},
   "source": [
    "### memory setup\n"
   ]
  },
  {
   "cell_type": "code",
   "execution_count": 265,
   "id": "9c5cbc2d",
   "metadata": {},
   "outputs": [],
   "source": [
    "from langgraph.checkpoint.memory import MemorySaver\n",
    "memory = MemorySaver()\n",
    "app=workflow.compile(checkpointer=memory)\n",
    "config = {\"configurable\": {\"thread_id\":\"1\"}}"
   ]
  },
  {
   "cell_type": "code",
   "execution_count": 278,
   "id": "88ceb206",
   "metadata": {},
   "outputs": [
    {
     "name": "stdout",
     "output_type": "stream",
     "text": [
      "================================\u001b[1m Human Message \u001b[0m=================================\n",
      "\n",
      "What is economy of usa?\n",
      "function_1 is called with question: What is economy of usa?\n",
      "-> ROUTER -> \n",
      "Last message: content='' additional_kwargs={'tool_calls': [{'id': 'call_5zjR1zO6Bentd1N4BxSh2XoE', 'function': {'arguments': '{\"state\":{\"messages\":[{\"content\":\"What is economy of usa?\",\"type\":\"human\"}]}}', 'name': 'function_2'}, 'type': 'function'}], 'refusal': None} response_metadata={'token_usage': {'completion_tokens': 30, 'prompt_tokens': 9961, 'total_tokens': 9991, 'completion_tokens_details': {'accepted_prediction_tokens': 0, 'audio_tokens': 0, 'reasoning_tokens': 0, 'rejected_prediction_tokens': 0}, 'prompt_tokens_details': {'audio_tokens': 0, 'cached_tokens': 0}}, 'model_name': 'gpt-3.5-turbo-0125', 'system_fingerprint': None, 'id': 'chatcmpl-Bypv2qz6EG4JvwTLiixD4InFm8Csr', 'service_tier': 'default', 'finish_reason': 'tool_calls', 'logprobs': None} id='run--81b0664b-713b-4758-879a-9be644c48168-0' tool_calls=[{'name': 'function_2', 'args': {'state': {'messages': [{'content': 'What is economy of usa?', 'type': 'human'}]}}, 'id': 'call_5zjR1zO6Bentd1N4BxSh2XoE', 'type': 'tool_call'}] usage_metadata={'input_tokens': 9961, 'output_tokens': 30, 'total_tokens': 9991, 'input_token_details': {'audio': 0, 'cache_read': 0}, 'output_token_details': {'audio': 0, 'reasoning': 0}}\n",
      "==================================\u001b[1m Ai Message \u001b[0m==================================\n",
      "Tool Calls:\n",
      "  function_2 (call_5zjR1zO6Bentd1N4BxSh2XoE)\n",
      " Call ID: call_5zjR1zO6Bentd1N4BxSh2XoE\n",
      "  Args:\n",
      "    state: {'messages': [{'content': 'What is economy of usa?', 'type': 'human'}]}\n",
      "-> RAG Call ->\n",
      "=================================\u001b[1m Tool Message \u001b[0m=================================\n",
      "Name: function_2\n",
      "\n",
      "The economy of the USA is known for its large size and diversity, encompassing various industries such as technology, healthcare, and finance. It is considered one of the world's largest economies, with a high GDP per capita. The USA has a free-market economy with a mix of private and public enterprises.\n"
     ]
    }
   ],
   "source": [
    "events = app.stream(\n",
    "    {\"messages\": [HumanMessage(content=\"What is economy of usa?\")]}, config=config, stream_mode=\"values\")\n",
    "for event in events:\n",
    "   event[\"messages\"][-1].pretty_print()"
   ]
  },
  {
   "cell_type": "code",
   "execution_count": 279,
   "id": "66edc924",
   "metadata": {},
   "outputs": [
    {
     "name": "stdout",
     "output_type": "stream",
     "text": [
      "================================\u001b[1m Human Message \u001b[0m=================================\n",
      "\n",
      "What weather of Phoenix?\n",
      "function_1 is called with question: What weather of Phoenix?\n",
      "-> ROUTER -> \n",
      "Last message: content='' additional_kwargs={'tool_calls': [{'id': 'call_xBWilkCNQsQ7aJcxo3ch6wtx', 'function': {'arguments': '{\"state\":{\"messages\":[{\"content\":\"What weather of Phoenix?\",\"type\":\"human\"}]}}', 'name': 'function_4'}, 'type': 'function'}], 'refusal': None} response_metadata={'token_usage': {'completion_tokens': 29, 'prompt_tokens': 9960, 'total_tokens': 9989, 'completion_tokens_details': {'accepted_prediction_tokens': 0, 'audio_tokens': 0, 'reasoning_tokens': 0, 'rejected_prediction_tokens': 0}, 'prompt_tokens_details': {'audio_tokens': 0, 'cached_tokens': 0}}, 'model_name': 'gpt-3.5-turbo-0125', 'system_fingerprint': None, 'id': 'chatcmpl-BypvBS2qyxIY3KUASYPEjRqqvKSwK', 'service_tier': 'default', 'finish_reason': 'tool_calls', 'logprobs': None} id='run--9a264918-8ce9-40da-a72d-01fd45078163-0' tool_calls=[{'name': 'function_4', 'args': {'state': {'messages': [{'content': 'What weather of Phoenix?', 'type': 'human'}]}}, 'id': 'call_xBWilkCNQsQ7aJcxo3ch6wtx', 'type': 'tool_call'}] usage_metadata={'input_tokens': 9960, 'output_tokens': 29, 'total_tokens': 9989, 'input_token_details': {'audio': 0, 'cache_read': 0}, 'output_token_details': {'audio': 0, 'reasoning': 0}}\n",
      "==================================\u001b[1m Ai Message \u001b[0m==================================\n",
      "Tool Calls:\n",
      "  function_4 (call_xBWilkCNQsQ7aJcxo3ch6wtx)\n",
      " Call ID: call_xBWilkCNQsQ7aJcxo3ch6wtx\n",
      "  Args:\n",
      "    state: {'messages': [{'content': 'What weather of Phoenix?', 'type': 'human'}]}\n",
      "-> Weather Call ->\n",
      "=================================\u001b[1m Tool Message \u001b[0m=================================\n",
      "Name: function_4\n",
      "\n",
      "27 degree celsius\n"
     ]
    }
   ],
   "source": [
    "events = app.stream(\n",
    "    {\"messages\": [HumanMessage(content=\"What weather of Phoenix?\")]}, config=config, stream_mode=\"values\")\n",
    "for event in events:\n",
    "   event[\"messages\"][-1].pretty_print()"
   ]
  },
  {
   "cell_type": "code",
   "execution_count": 280,
   "id": "36f28a6c",
   "metadata": {},
   "outputs": [
    {
     "name": "stdout",
     "output_type": "stream",
     "text": [
      "================================\u001b[1m Human Message \u001b[0m=================================\n",
      "\n",
      "what does Fromm talk about love?\n",
      "function_1 is called with question: what does Fromm talk about love?\n",
      "-> ROUTER -> \n",
      "Last message: content='' additional_kwargs={'tool_calls': [{'id': 'call_24p8PuCtkVvrpiWL4uesdkuw', 'function': {'arguments': '{\"state\":{\"messages\":[{\"content\":\"What does Fromm talk about love?\",\"type\":\"human\"}]}}', 'name': 'function_3'}, 'type': 'function'}], 'refusal': None} response_metadata={'token_usage': {'completion_tokens': 32, 'prompt_tokens': 9963, 'total_tokens': 9995, 'completion_tokens_details': {'accepted_prediction_tokens': 0, 'audio_tokens': 0, 'reasoning_tokens': 0, 'rejected_prediction_tokens': 0}, 'prompt_tokens_details': {'audio_tokens': 0, 'cached_tokens': 0}}, 'model_name': 'gpt-3.5-turbo-0125', 'system_fingerprint': None, 'id': 'chatcmpl-BypvMXCLCjaCTnEPIu6DCrZFUJgMx', 'service_tier': 'default', 'finish_reason': 'tool_calls', 'logprobs': None} id='run--594bd316-dadc-4acd-8796-0adcdae5d0c1-0' tool_calls=[{'name': 'function_3', 'args': {'state': {'messages': [{'content': 'What does Fromm talk about love?', 'type': 'human'}]}}, 'id': 'call_24p8PuCtkVvrpiWL4uesdkuw', 'type': 'tool_call'}] usage_metadata={'input_tokens': 9963, 'output_tokens': 32, 'total_tokens': 9995, 'input_token_details': {'audio': 0, 'cache_read': 0}, 'output_token_details': {'audio': 0, 'reasoning': 0}}\n",
      "==================================\u001b[1m Ai Message \u001b[0m==================================\n",
      "Tool Calls:\n",
      "  function_3 (call_24p8PuCtkVvrpiWL4uesdkuw)\n",
      " Call ID: call_24p8PuCtkVvrpiWL4uesdkuw\n",
      "  Args:\n",
      "    state: {'messages': [{'content': 'What does Fromm talk about love?', 'type': 'human'}]}\n",
      "-> LLM Call ->\n",
      "=================================\u001b[1m Tool Message \u001b[0m=================================\n",
      "Name: function_3\n",
      "\n",
      "Erich Fromm, a renowned psychologist and philosopher, often discussed the concept of love in his works. Fromm believed that love is not just a feeling or emotion, but rather an active and conscious choice to care for and nurture another person. He emphasized the importance of mutual respect, understanding, and commitment in a loving relationship. Fromm also critiqued societal attitudes towards love, arguing that many people confuse love with possessiveness or selfish desires. Overall, Fromm's writings on love emphasize the need for genuine connection, empathy, and personal growth within relationships.\n"
     ]
    }
   ],
   "source": [
    "events = app.stream(\n",
    "    {\"messages\": [HumanMessage(content=\"what does Fromm talk about love?\")]}, config=config, stream_mode=\"values\")\n",
    "for event in events:\n",
    "   event[\"messages\"][-1].pretty_print()"
   ]
  },
  {
   "cell_type": "code",
   "execution_count": 281,
   "id": "d5fa2851",
   "metadata": {},
   "outputs": [
    {
     "data": {
      "text/plain": [
       "{'v': 3,\n",
       " 'ts': '2025-07-30T01:29:41.607637+00:00',\n",
       " 'id': '1f06ce4a-a6d4-6135-801e-b0749a8b2f94',\n",
       " 'channel_versions': {'__start__': '00000000000000000000000000000030.0.5643749556335311',\n",
       "  'messages': '00000000000000000000000000000032.0.9723623640109283',\n",
       "  'branch:to:Supervisor': '00000000000000000000000000000031.0.18649165099992904',\n",
       "  'branch:to:mytools': '00000000000000000000000000000032.0.5507703518521679'},\n",
       " 'versions_seen': {'__input__': {},\n",
       "  '__start__': {'__start__': '00000000000000000000000000000029.0.46675271446082556'},\n",
       "  'Supervisor': {'branch:to:Supervisor': '00000000000000000000000000000030.0.7156265675383584'},\n",
       "  'mytools': {'branch:to:mytools': '00000000000000000000000000000031.0.2532010678094616'}},\n",
       " 'channel_values': {'messages': [HumanMessage(content='What is weather of San Francisco?', additional_kwargs={}, response_metadata={}, id='214db18d-52f5-4e64-82d4-22cecfc4b4e6'),\n",
       "   AIMessage(content='', additional_kwargs={'tool_calls': [{'id': 'call_1mlh2wkk0PjDILTtUnP7pc2D', 'function': {'arguments': '{\"state\":{\"messages\":[{\"content\":\"What is weather of San Francisco?\",\"type\":\"human\"}]}}', 'name': 'function_4'}, 'type': 'function'}], 'refusal': None}, response_metadata={'token_usage': {'completion_tokens': 31, 'prompt_tokens': 9962, 'total_tokens': 9993, 'completion_tokens_details': {'accepted_prediction_tokens': 0, 'audio_tokens': 0, 'reasoning_tokens': 0, 'rejected_prediction_tokens': 0}, 'prompt_tokens_details': {'audio_tokens': 0, 'cached_tokens': 0}}, 'model_name': 'gpt-3.5-turbo-0125', 'system_fingerprint': None, 'id': 'chatcmpl-BypphvZSy1pG1ZwWoYtlA6lnEK5k5', 'service_tier': 'default', 'finish_reason': 'tool_calls', 'logprobs': None}, id='run--c514fd45-a957-4b7b-9476-be7ffc000826-0', tool_calls=[{'name': 'function_4', 'args': {'state': {'messages': [{'content': 'What is weather of San Francisco?', 'type': 'human'}]}}, 'id': 'call_1mlh2wkk0PjDILTtUnP7pc2D', 'type': 'tool_call'}], usage_metadata={'input_tokens': 9962, 'output_tokens': 31, 'total_tokens': 9993, 'input_token_details': {'audio': 0, 'cache_read': 0}, 'output_token_details': {'audio': 0, 'reasoning': 0}}),\n",
       "   ToolMessage(content='27 degree celsius', name='function_4', id='34571e0c-0315-4b25-8624-bd3f440ee8a8', tool_call_id='call_1mlh2wkk0PjDILTtUnP7pc2D'),\n",
       "   HumanMessage(content='What is weather of San Francisco?', additional_kwargs={}, response_metadata={}, id='c9894d00-76a2-4471-a429-ab03267944a3'),\n",
       "   AIMessage(content='', additional_kwargs={'tool_calls': [{'id': 'call_fwl3otacRKbkXpvYL4SaiRqR', 'function': {'arguments': '{\"state\":{\"messages\":[{\"content\":\"What is the weather of San Francisco?\",\"type\":\"human\"}]}}', 'name': 'function_4'}, 'type': 'function'}], 'refusal': None}, response_metadata={'token_usage': {'completion_tokens': 32, 'prompt_tokens': 9962, 'total_tokens': 9994, 'completion_tokens_details': {'accepted_prediction_tokens': 0, 'audio_tokens': 0, 'reasoning_tokens': 0, 'rejected_prediction_tokens': 0}, 'prompt_tokens_details': {'audio_tokens': 0, 'cached_tokens': 0}}, 'model_name': 'gpt-3.5-turbo-0125', 'system_fingerprint': None, 'id': 'chatcmpl-Byppi4zNg7j4eekgyH7qW6EZAHik2', 'service_tier': 'default', 'finish_reason': 'tool_calls', 'logprobs': None}, id='run--3dcb9e51-19e5-4f60-95ed-1771a89260fb-0', tool_calls=[{'name': 'function_4', 'args': {'state': {'messages': [{'content': 'What is the weather of San Francisco?', 'type': 'human'}]}}, 'id': 'call_fwl3otacRKbkXpvYL4SaiRqR', 'type': 'tool_call'}], usage_metadata={'input_tokens': 9962, 'output_tokens': 32, 'total_tokens': 9994, 'input_token_details': {'audio': 0, 'cache_read': 0}, 'output_token_details': {'audio': 0, 'reasoning': 0}}),\n",
       "   ToolMessage(content='27 degree celsius', name='function_4', id='23459501-08ed-4501-96d4-4a9df646e695', tool_call_id='call_fwl3otacRKbkXpvYL4SaiRqR'),\n",
       "   HumanMessage(content='what is the economy of usa', additional_kwargs={}, response_metadata={}, id='f042567f-7726-47fe-ad86-9ab96fb57d99'),\n",
       "   AIMessage(content='', additional_kwargs={'tool_calls': [{'id': 'call_puYjOCjVpQz3R9zttWASoLIQ', 'function': {'arguments': '{\"state\":{\"messages\":[{\"content\":\"What is the economy of USA?\",\"type\":\"human\"}]}}', 'name': 'function_2'}, 'type': 'function'}], 'refusal': None}, response_metadata={'token_usage': {'completion_tokens': 31, 'prompt_tokens': 9962, 'total_tokens': 9993, 'completion_tokens_details': {'accepted_prediction_tokens': 0, 'audio_tokens': 0, 'reasoning_tokens': 0, 'rejected_prediction_tokens': 0}, 'prompt_tokens_details': {'audio_tokens': 0, 'cached_tokens': 0}}, 'model_name': 'gpt-3.5-turbo-0125', 'system_fingerprint': None, 'id': 'chatcmpl-BypsmwVCo3YMNEy815TAHpK7ydTXt', 'service_tier': 'default', 'finish_reason': 'tool_calls', 'logprobs': None}, id='run--5f09a2ad-176a-4bea-bcb1-15c1eccb3f5f-0', tool_calls=[{'name': 'function_2', 'args': {'state': {'messages': [{'content': 'What is the economy of USA?', 'type': 'human'}]}}, 'id': 'call_puYjOCjVpQz3R9zttWASoLIQ', 'type': 'tool_call'}], usage_metadata={'input_tokens': 9962, 'output_tokens': 31, 'total_tokens': 9993, 'input_token_details': {'audio': 0, 'cache_read': 0}, 'output_token_details': {'audio': 0, 'reasoning': 0}}),\n",
       "   ToolMessage(content='The economy of the USA is one of the largest and most developed in the world. It is characterized by a mixed economy with both private and public sectors playing significant roles. Key industries include finance, healthcare, technology, and manufacturing.', name='function_2', id='5899abaf-7a3f-40ed-9189-3431076579ce', tool_call_id='call_puYjOCjVpQz3R9zttWASoLIQ'),\n",
       "   HumanMessage(content='What is weather of San Francisco?', additional_kwargs={}, response_metadata={}, id='d8da1d32-f2c6-45a1-baf2-4df8b0ac77b1'),\n",
       "   AIMessage(content='', additional_kwargs={'tool_calls': [{'id': 'call_phZ3x4isSpqero6xsXlI5AVD', 'function': {'arguments': '{\"state\":{\"messages\":[{\"content\":\"What is the weather of San Francisco?\",\"type\":\"human\"}]}}', 'name': 'function_4'}, 'type': 'function'}], 'refusal': None}, response_metadata={'token_usage': {'completion_tokens': 32, 'prompt_tokens': 9962, 'total_tokens': 9994, 'completion_tokens_details': {'accepted_prediction_tokens': 0, 'audio_tokens': 0, 'reasoning_tokens': 0, 'rejected_prediction_tokens': 0}, 'prompt_tokens_details': {'audio_tokens': 0, 'cached_tokens': 0}}, 'model_name': 'gpt-3.5-turbo-0125', 'system_fingerprint': None, 'id': 'chatcmpl-ByptEZ0SrXSNIrbMzoLguH78gQrrm', 'service_tier': 'default', 'finish_reason': 'tool_calls', 'logprobs': None}, id='run--426cefd3-9784-4b02-a6de-e49070d34dc5-0', tool_calls=[{'name': 'function_4', 'args': {'state': {'messages': [{'content': 'What is the weather of San Francisco?', 'type': 'human'}]}}, 'id': 'call_phZ3x4isSpqero6xsXlI5AVD', 'type': 'tool_call'}], usage_metadata={'input_tokens': 9962, 'output_tokens': 32, 'total_tokens': 9994, 'input_token_details': {'audio': 0, 'cache_read': 0}, 'output_token_details': {'audio': 0, 'reasoning': 0}}),\n",
       "   ToolMessage(content='27 degree celsius', name='function_4', id='7c8eae9b-3ed9-4aee-8d94-c17ee9e6751a', tool_call_id='call_phZ3x4isSpqero6xsXlI5AVD'),\n",
       "   HumanMessage(content='what is the economy of usa', additional_kwargs={}, response_metadata={}, id='96908af2-0428-4701-97f1-13ed1077cb9a'),\n",
       "   AIMessage(content='', additional_kwargs={'tool_calls': [{'id': 'call_9dPOmeiugTlh2NK1njdOmtIr', 'function': {'arguments': '{\"state\":{\"messages\":[{\"content\":\"what is the economy of usa\"}]}}', 'name': 'function_2'}, 'type': 'function'}], 'refusal': None}, response_metadata={'token_usage': {'completion_tokens': 26, 'prompt_tokens': 9962, 'total_tokens': 9988, 'completion_tokens_details': {'accepted_prediction_tokens': 0, 'audio_tokens': 0, 'reasoning_tokens': 0, 'rejected_prediction_tokens': 0}, 'prompt_tokens_details': {'audio_tokens': 0, 'cached_tokens': 0}}, 'model_name': 'gpt-3.5-turbo-0125', 'system_fingerprint': None, 'id': 'chatcmpl-ByptgLdK9BZ0LnpUvpEEoNCajKd3B', 'service_tier': 'default', 'finish_reason': 'tool_calls', 'logprobs': None}, id='run--f5685474-52da-437c-9c6e-8a439ab55953-0', tool_calls=[{'name': 'function_2', 'args': {'state': {'messages': [{'content': 'what is the economy of usa'}]}}, 'id': 'call_9dPOmeiugTlh2NK1njdOmtIr', 'type': 'tool_call'}], usage_metadata={'input_tokens': 9962, 'output_tokens': 26, 'total_tokens': 9988, 'input_token_details': {'audio': 0, 'cache_read': 0}, 'output_token_details': {'audio': 0, 'reasoning': 0}}),\n",
       "   ToolMessage(content='Error: TypeError(\"Expected either a dictionary with a \\'type\\' key or an object with a \\'type\\' attribute. Instead got type <class \\'dict\\'>.\")\\n Please fix your mistakes.', name='function_2', id='7ac77c34-58c5-40b1-ac5a-2b8b119d21d0', tool_call_id='call_9dPOmeiugTlh2NK1njdOmtIr', status='error'),\n",
       "   HumanMessage(content='What is economy of usa?', additional_kwargs={}, response_metadata={}, id='786d53f6-13d4-4ee2-999c-5f208d2218eb'),\n",
       "   AIMessage(content='', additional_kwargs={'tool_calls': [{'id': 'call_5zjR1zO6Bentd1N4BxSh2XoE', 'function': {'arguments': '{\"state\":{\"messages\":[{\"content\":\"What is economy of usa?\",\"type\":\"human\"}]}}', 'name': 'function_2'}, 'type': 'function'}], 'refusal': None}, response_metadata={'token_usage': {'completion_tokens': 30, 'prompt_tokens': 9961, 'total_tokens': 9991, 'completion_tokens_details': {'accepted_prediction_tokens': 0, 'audio_tokens': 0, 'reasoning_tokens': 0, 'rejected_prediction_tokens': 0}, 'prompt_tokens_details': {'audio_tokens': 0, 'cached_tokens': 0}}, 'model_name': 'gpt-3.5-turbo-0125', 'system_fingerprint': None, 'id': 'chatcmpl-Bypv2qz6EG4JvwTLiixD4InFm8Csr', 'service_tier': 'default', 'finish_reason': 'tool_calls', 'logprobs': None}, id='run--81b0664b-713b-4758-879a-9be644c48168-0', tool_calls=[{'name': 'function_2', 'args': {'state': {'messages': [{'content': 'What is economy of usa?', 'type': 'human'}]}}, 'id': 'call_5zjR1zO6Bentd1N4BxSh2XoE', 'type': 'tool_call'}], usage_metadata={'input_tokens': 9961, 'output_tokens': 30, 'total_tokens': 9991, 'input_token_details': {'audio': 0, 'cache_read': 0}, 'output_token_details': {'audio': 0, 'reasoning': 0}}),\n",
       "   ToolMessage(content=\"The economy of the USA is known for its large size and diversity, encompassing various industries such as technology, healthcare, and finance. It is considered one of the world's largest economies, with a high GDP per capita. The USA has a free-market economy with a mix of private and public enterprises.\", name='function_2', id='044a5308-4db8-46f7-85b9-584424d3730e', tool_call_id='call_5zjR1zO6Bentd1N4BxSh2XoE'),\n",
       "   HumanMessage(content='What weather of Phoenix?', additional_kwargs={}, response_metadata={}, id='a0a8719b-c571-4b97-8134-b7c701e821be'),\n",
       "   AIMessage(content='', additional_kwargs={'tool_calls': [{'id': 'call_xBWilkCNQsQ7aJcxo3ch6wtx', 'function': {'arguments': '{\"state\":{\"messages\":[{\"content\":\"What weather of Phoenix?\",\"type\":\"human\"}]}}', 'name': 'function_4'}, 'type': 'function'}], 'refusal': None}, response_metadata={'token_usage': {'completion_tokens': 29, 'prompt_tokens': 9960, 'total_tokens': 9989, 'completion_tokens_details': {'accepted_prediction_tokens': 0, 'audio_tokens': 0, 'reasoning_tokens': 0, 'rejected_prediction_tokens': 0}, 'prompt_tokens_details': {'audio_tokens': 0, 'cached_tokens': 0}}, 'model_name': 'gpt-3.5-turbo-0125', 'system_fingerprint': None, 'id': 'chatcmpl-BypvBS2qyxIY3KUASYPEjRqqvKSwK', 'service_tier': 'default', 'finish_reason': 'tool_calls', 'logprobs': None}, id='run--9a264918-8ce9-40da-a72d-01fd45078163-0', tool_calls=[{'name': 'function_4', 'args': {'state': {'messages': [{'content': 'What weather of Phoenix?', 'type': 'human'}]}}, 'id': 'call_xBWilkCNQsQ7aJcxo3ch6wtx', 'type': 'tool_call'}], usage_metadata={'input_tokens': 9960, 'output_tokens': 29, 'total_tokens': 9989, 'input_token_details': {'audio': 0, 'cache_read': 0}, 'output_token_details': {'audio': 0, 'reasoning': 0}}),\n",
       "   ToolMessage(content='27 degree celsius', name='function_4', id='0fc622ff-21d2-4da4-9550-94486aea1837', tool_call_id='call_xBWilkCNQsQ7aJcxo3ch6wtx'),\n",
       "   HumanMessage(content='what does Fromm talk about love?', additional_kwargs={}, response_metadata={}, id='d913f591-d704-4889-b47c-055f94861cd2'),\n",
       "   AIMessage(content='', additional_kwargs={'tool_calls': [{'id': 'call_24p8PuCtkVvrpiWL4uesdkuw', 'function': {'arguments': '{\"state\":{\"messages\":[{\"content\":\"What does Fromm talk about love?\",\"type\":\"human\"}]}}', 'name': 'function_3'}, 'type': 'function'}], 'refusal': None}, response_metadata={'token_usage': {'completion_tokens': 32, 'prompt_tokens': 9963, 'total_tokens': 9995, 'completion_tokens_details': {'accepted_prediction_tokens': 0, 'audio_tokens': 0, 'reasoning_tokens': 0, 'rejected_prediction_tokens': 0}, 'prompt_tokens_details': {'audio_tokens': 0, 'cached_tokens': 0}}, 'model_name': 'gpt-3.5-turbo-0125', 'system_fingerprint': None, 'id': 'chatcmpl-BypvMXCLCjaCTnEPIu6DCrZFUJgMx', 'service_tier': 'default', 'finish_reason': 'tool_calls', 'logprobs': None}, id='run--594bd316-dadc-4acd-8796-0adcdae5d0c1-0', tool_calls=[{'name': 'function_3', 'args': {'state': {'messages': [{'content': 'What does Fromm talk about love?', 'type': 'human'}]}}, 'id': 'call_24p8PuCtkVvrpiWL4uesdkuw', 'type': 'tool_call'}], usage_metadata={'input_tokens': 9963, 'output_tokens': 32, 'total_tokens': 9995, 'input_token_details': {'audio': 0, 'cache_read': 0}, 'output_token_details': {'audio': 0, 'reasoning': 0}}),\n",
       "   ToolMessage(content=\"Erich Fromm, a renowned psychologist and philosopher, often discussed the concept of love in his works. Fromm believed that love is not just a feeling or emotion, but rather an active and conscious choice to care for and nurture another person. He emphasized the importance of mutual respect, understanding, and commitment in a loving relationship. Fromm also critiqued societal attitudes towards love, arguing that many people confuse love with possessiveness or selfish desires. Overall, Fromm's writings on love emphasize the need for genuine connection, empathy, and personal growth within relationships.\", name='function_3', id='8419a2af-ed90-46d1-95be-53ed97b3e947', tool_call_id='call_24p8PuCtkVvrpiWL4uesdkuw')]},\n",
       " 'pending_sends': []}"
      ]
     },
     "execution_count": 281,
     "metadata": {},
     "output_type": "execute_result"
    }
   ],
   "source": [
    "memory.get(config)"
   ]
  },
  {
   "cell_type": "code",
   "execution_count": 282,
   "id": "c406e4c8",
   "metadata": {},
   "outputs": [
    {
     "name": "stdout",
     "output_type": "stream",
     "text": [
      "================================\u001b[1m Human Message \u001b[0m=================================\n",
      "\n",
      "what is the economy of usa\n",
      "function_1 is called with question: what is the economy of usa\n",
      "-> ROUTER -> \n",
      "Last message: content='' additional_kwargs={'tool_calls': [{'id': 'call_t7EmzBWj1RjqaWoSE1t23D70', 'function': {'arguments': '{\"state\":{\"messages\":[{\"content\":\"What is the economy of USA?\",\"type\":\"human\"}]}}', 'name': 'function_2'}, 'type': 'function'}], 'refusal': None} response_metadata={'token_usage': {'completion_tokens': 31, 'prompt_tokens': 9962, 'total_tokens': 9993, 'completion_tokens_details': {'accepted_prediction_tokens': 0, 'audio_tokens': 0, 'reasoning_tokens': 0, 'rejected_prediction_tokens': 0}, 'prompt_tokens_details': {'audio_tokens': 0, 'cached_tokens': 0}}, 'model_name': 'gpt-3.5-turbo-0125', 'system_fingerprint': None, 'id': 'chatcmpl-BypvdUQ9Et3bW0sEEX3avYpZLRRT5', 'service_tier': 'default', 'finish_reason': 'tool_calls', 'logprobs': None} id='run--72dbe179-18a9-4aea-a9b3-1919a9b0a5a7-0' tool_calls=[{'name': 'function_2', 'args': {'state': {'messages': [{'content': 'What is the economy of USA?', 'type': 'human'}]}}, 'id': 'call_t7EmzBWj1RjqaWoSE1t23D70', 'type': 'tool_call'}] usage_metadata={'input_tokens': 9962, 'output_tokens': 31, 'total_tokens': 9993, 'input_token_details': {'audio': 0, 'cache_read': 0}, 'output_token_details': {'audio': 0, 'reasoning': 0}}\n",
      "==================================\u001b[1m Ai Message \u001b[0m==================================\n",
      "Tool Calls:\n",
      "  function_2 (call_t7EmzBWj1RjqaWoSE1t23D70)\n",
      " Call ID: call_t7EmzBWj1RjqaWoSE1t23D70\n",
      "  Args:\n",
      "    state: {'messages': [{'content': 'What is the economy of USA?', 'type': 'human'}]}\n",
      "-> RAG Call ->\n",
      "=================================\u001b[1m Tool Message \u001b[0m=================================\n",
      "Name: function_2\n",
      "\n",
      "The economy of the USA is a mixed economy, with a combination of capitalist and socialist elements. It is the largest economy in the world by nominal GDP and has a diverse range of industries, including technology, finance, and healthcare. The USA has a high standard of living and is known for its innovation and entrepreneurship.\n"
     ]
    }
   ],
   "source": [
    "events = app.stream(\n",
    "    {\"messages\": [HumanMessage(content=\"what is the economy of usa\")]}, config=config, stream_mode=\"values\")\n",
    "\n",
    "for event in events:\n",
    "   event[\"messages\"][-1].pretty_print()"
   ]
  }
 ],
 "metadata": {
  "kernelspec": {
   "display_name": "agentic_2_base",
   "language": "python",
   "name": "python3"
  },
  "language_info": {
   "codemirror_mode": {
    "name": "ipython",
    "version": 3
   },
   "file_extension": ".py",
   "mimetype": "text/x-python",
   "name": "python",
   "nbconvert_exporter": "python",
   "pygments_lexer": "ipython3",
   "version": "3.11.12"
  }
 },
 "nbformat": 4,
 "nbformat_minor": 5
}
