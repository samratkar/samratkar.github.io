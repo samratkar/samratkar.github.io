{
 "cells": [
  {
   "cell_type": "code",
   "execution_count": 48,
   "id": "5358c6a7",
   "metadata": {},
   "outputs": [],
   "source": [
    "import operator\n",
    "from typing import List\n",
    "from pydantic import BaseModel , Field\n",
    "from langchain.prompts import PromptTemplate\n",
    "from typing import TypedDict, Annotated, Sequence\n",
    "from langchain_core.messages import BaseMessage\n",
    "from langchain_core.output_parsers import StrOutputParser\n",
    "from langchain_core.prompts import ChatPromptTemplate, PromptTemplate\n",
    "from langchain_core.runnables import RunnablePassthrough\n",
    "from langchain_core.messages import HumanMessage, AIMessage\n",
    "from langgraph.graph import StateGraph,END\n",
    "from IPython.display import Image, display\n",
    "from langchain_community.document_loaders import TextLoader, DirectoryLoader\n",
    "from langchain_community.vectorstores import Chroma\n",
    "from langchain.text_splitter import RecursiveCharacterTextSplitter\n",
    "from langchain.output_parsers import PydanticOutputParser\n",
    "from typing import TypedDict, Annotated, Sequence\n",
    "from langchain_core.messages import BaseMessage\n",
    "import operator\n",
    "import asyncio\n",
    "import json\n",
    "import uuid\n",
    "import websockets\n",
    "from typing import Dict, List, Any, Optional\n",
    "\n",
    "## tools related libraries \n",
    "from langchain_core.tools import tool\n",
    "from langchain_core.messages import HumanMessage, AIMessage\n",
    "from langgraph.graph import StateGraph,MessagesState,START,END\n",
    "from langgraph.prebuilt import ToolNode"
   ]
  },
  {
   "cell_type": "code",
   "execution_count": 60,
   "id": "93902b06",
   "metadata": {},
   "outputs": [
    {
     "name": "stdout",
     "output_type": "stream",
     "text": [
      "The capital of India is New Delhi. It is located in the northern part of the country and serves as the seat of the government and the center of political activities in India. New Delhi was officially declared the capital of India in 1911, taking over from the previous capital, Calcutta. The city is known for its historic monuments, government buildings, and cultural landmarks, such as the iconic India Gate and the Rashtrapati Bhavan (President's House). New Delhi is also a major hub for commerce, education, and tourism in India.\n"
     ]
    }
   ],
   "source": [
    "from langchain_openai import ChatOpenAI\n",
    "llm=ChatOpenAI(model='gpt-3.5-turbo')\n",
    "response = llm.invoke(\"can you tell me about the india's capital?\")\n",
    "print(response.content)"
   ]
  },
  {
   "cell_type": "code",
   "execution_count": 2,
   "id": "5f74b464",
   "metadata": {},
   "outputs": [],
   "source": [
    "from langchain_groq import ChatGroq\n",
    "llm = ChatGroq(\n",
    "    model_name=\"deepseek-r1-distill-llama-70b\",\n",
    "    temperature=0\n",
    ")\n",
    "response=llm.invoke(\"what is length of wall of china?\")"
   ]
  },
  {
   "cell_type": "code",
   "execution_count": 61,
   "id": "74c644e5",
   "metadata": {},
   "outputs": [
    {
     "data": {
      "text/plain": [
       "AIMessage(content=\"The capital of India is New Delhi. It is located in the northern part of the country and serves as the seat of the government and the center of political activities in India. New Delhi was officially declared the capital of India in 1911, taking over from the previous capital, Calcutta. The city is known for its historic monuments, government buildings, and cultural landmarks, such as the iconic India Gate and the Rashtrapati Bhavan (President's House). New Delhi is also a major hub for commerce, education, and tourism in India.\", additional_kwargs={'refusal': None}, response_metadata={'token_usage': {'completion_tokens': 111, 'prompt_tokens': 17, 'total_tokens': 128, 'completion_tokens_details': {'accepted_prediction_tokens': 0, 'audio_tokens': 0, 'reasoning_tokens': 0, 'rejected_prediction_tokens': 0}, 'prompt_tokens_details': {'audio_tokens': 0, 'cached_tokens': 0}}, 'model_name': 'gpt-3.5-turbo-0125', 'system_fingerprint': None, 'id': 'chatcmpl-C0I0MbcF4nk8cvcjvVwbWD8A0jPCi', 'service_tier': 'default', 'finish_reason': 'stop', 'logprobs': None}, id='run--aafc897c-938a-4a55-8252-03987117d698-0', usage_metadata={'input_tokens': 17, 'output_tokens': 111, 'total_tokens': 128, 'input_token_details': {'audio': 0, 'cache_read': 0}, 'output_token_details': {'audio': 0, 'reasoning': 0}})"
      ]
     },
     "execution_count": 61,
     "metadata": {},
     "output_type": "execute_result"
    }
   ],
   "source": [
    "response"
   ]
  },
  {
   "cell_type": "code",
   "execution_count": 62,
   "id": "ccf93991",
   "metadata": {},
   "outputs": [
    {
     "data": {
      "text/plain": [
       "\"The capital of India is New Delhi. It is located in the northern part of the country and serves as the seat of the government and the center of political activities in India. New Delhi was officially declared the capital of India in 1911, taking over from the previous capital, Calcutta. The city is known for its historic monuments, government buildings, and cultural landmarks, such as the iconic India Gate and the Rashtrapati Bhavan (President's House). New Delhi is also a major hub for commerce, education, and tourism in India.\""
      ]
     },
     "execution_count": 62,
     "metadata": {},
     "output_type": "execute_result"
    }
   ],
   "source": [
    "response.content"
   ]
  },
  {
   "cell_type": "code",
   "execution_count": 63,
   "id": "eed89467",
   "metadata": {},
   "outputs": [],
   "source": [
    "from langchain.tools import tool"
   ]
  },
  {
   "cell_type": "markdown",
   "id": "1a8ba3c1",
   "metadata": {},
   "source": [
    "## this is my custom tools"
   ]
  },
  {
   "cell_type": "code",
   "execution_count": 64,
   "id": "3f711f96",
   "metadata": {},
   "outputs": [],
   "source": [
    "from langchain.tools import tool\n",
    "\n",
    "@tool\n",
    "def multiply(a: int, b: int) -> int:\n",
    "    \"\"\"\n",
    "    Multiply two integers.\n",
    "\n",
    "    Args:\n",
    "        a (int): The first integer.\n",
    "        b (int): The second integer.\n",
    "\n",
    "    Returns:\n",
    "        int: The product of a and b.\n",
    "    \"\"\"\n",
    "    return a * b\n",
    "\n",
    "@tool\n",
    "def add(a: int, b: int) -> int:\n",
    "    \"\"\"\n",
    "    Add two integers.\n",
    "\n",
    "    Args:\n",
    "        a (int): The first integer.\n",
    "        b (int): The second integer.\n",
    "\n",
    "    Returns:\n",
    "        int: The sum of a and b.\n",
    "    \"\"\"\n",
    "    return a + b\n",
    "\n",
    "@tool\n",
    "def divide(a: int, b: int) -> float:\n",
    "    \"\"\"\n",
    "    Divide two integers.\n",
    "\n",
    "    Args:\n",
    "        a (int): The numerator.\n",
    "        b (int): The denominator (must not be 0).\n",
    "\n",
    "    Returns:\n",
    "        float: The result of division.\n",
    "    \"\"\"\n",
    "    if b == 0:\n",
    "        raise ValueError(\"Denominator cannot be zero.\")\n",
    "    return a / b"
   ]
  },
  {
   "cell_type": "markdown",
   "id": "36fb6eeb",
   "metadata": {},
   "source": [
    "## importing the inbuilt tool"
   ]
  },
  {
   "cell_type": "code",
   "execution_count": 65,
   "id": "09a85571",
   "metadata": {},
   "outputs": [],
   "source": [
    "from langchain_community.tools import DuckDuckGoSearchRun\n",
    "search=DuckDuckGoSearchRun()"
   ]
  },
  {
   "cell_type": "code",
   "execution_count": 66,
   "id": "70136b5d",
   "metadata": {},
   "outputs": [
    {
     "name": "stderr",
     "output_type": "stream",
     "text": [
      "c:\\Users\\samra\\anaconda3\\envs\\agentic_2_base\\Lib\\site-packages\\langchain_community\\utilities\\duckduckgo_search.py:63: RuntimeWarning: This package (`duckduckgo_search`) has been renamed to `ddgs`! Use `pip install ddgs` instead.\n",
      "  with DDGS() as ddgs:\n"
     ]
    },
    {
     "data": {
      "text/plain": [
       "\"Jul 11, 2025 · Apple’s iPhone 17 is shaping up to be one of the most significant updates in recent years. With design overhauls, … 2 days ago · 2025 may bring one of the biggest updates to the iPhone's design that we've seen since the 2017 iPhone X, with Apple … Jul 16, 2025 · Exactly when the iPhone 17 series will be unveiled has just become a little clearer in a report from an industry … Apr 27, 2025 · Apple’s next major release, the iPhone 17 series, is shaping up to be one of its most exciting launches in years. With a mix of cutting-edge design, powerful new hardware, and a shift in strategy for its product lineup, there’s a lot more happening under the surface than usual. Jul 2, 2025 · Below is a detailed look at what the iPhone 17 brings to the table and how it fits into Apple’s broader strategy in a new video …\""
      ]
     },
     "execution_count": 66,
     "metadata": {},
     "output_type": "execute_result"
    }
   ],
   "source": [
    "search.invoke(\"what is the latest update on iphone17 release?\")"
   ]
  },
  {
   "cell_type": "code",
   "execution_count": 67,
   "id": "4d4636de",
   "metadata": {},
   "outputs": [],
   "source": [
    "# !pip install duckduckgo_search\n"
   ]
  },
  {
   "cell_type": "code",
   "execution_count": 68,
   "id": "62382fc9",
   "metadata": {},
   "outputs": [],
   "source": [
    "tools=[multiply, add, divide, search]"
   ]
  },
  {
   "cell_type": "code",
   "execution_count": 69,
   "id": "b9706a3a",
   "metadata": {},
   "outputs": [],
   "source": [
    "llm_with_tools=llm.bind_tools(tools)"
   ]
  },
  {
   "cell_type": "code",
   "execution_count": 70,
   "id": "35a64d0a",
   "metadata": {},
   "outputs": [],
   "source": [
    "response=llm_with_tools.invoke(\"hi\")"
   ]
  },
  {
   "cell_type": "code",
   "execution_count": 71,
   "id": "8339ed3f",
   "metadata": {},
   "outputs": [
    {
     "data": {
      "text/plain": [
       "'Hello! How can I assist you today?'"
      ]
     },
     "execution_count": 71,
     "metadata": {},
     "output_type": "execute_result"
    }
   ],
   "source": [
    "response.content"
   ]
  },
  {
   "cell_type": "code",
   "execution_count": 72,
   "id": "1467a9c5",
   "metadata": {},
   "outputs": [
    {
     "data": {
      "text/plain": [
       "[]"
      ]
     },
     "execution_count": 72,
     "metadata": {},
     "output_type": "execute_result"
    }
   ],
   "source": [
    "response.tool_calls"
   ]
  },
  {
   "cell_type": "code",
   "execution_count": 73,
   "id": "da1e681d",
   "metadata": {},
   "outputs": [],
   "source": [
    "response=llm_with_tools.invoke(\"what is 2+2?\")"
   ]
  },
  {
   "cell_type": "code",
   "execution_count": 74,
   "id": "8814890e",
   "metadata": {},
   "outputs": [
    {
     "data": {
      "text/plain": [
       "''"
      ]
     },
     "execution_count": 74,
     "metadata": {},
     "output_type": "execute_result"
    }
   ],
   "source": [
    "response.content"
   ]
  },
  {
   "cell_type": "code",
   "execution_count": 75,
   "id": "a7e9f880",
   "metadata": {},
   "outputs": [
    {
     "data": {
      "text/plain": [
       "[{'name': 'add',\n",
       "  'args': {'a': 2, 'b': 2},\n",
       "  'id': 'call_EVLHtAZWJXvL9LmjrEYxK822',\n",
       "  'type': 'tool_call'}]"
      ]
     },
     "execution_count": 75,
     "metadata": {},
     "output_type": "execute_result"
    }
   ],
   "source": [
    "response.tool_calls"
   ]
  },
  {
   "cell_type": "code",
   "execution_count": 76,
   "id": "bfb7906f",
   "metadata": {},
   "outputs": [],
   "source": [
    "response=llm_with_tools.invoke(\"what is 10/2?\")"
   ]
  },
  {
   "cell_type": "code",
   "execution_count": 77,
   "id": "8aa973fd",
   "metadata": {},
   "outputs": [
    {
     "data": {
      "text/plain": [
       "''"
      ]
     },
     "execution_count": 77,
     "metadata": {},
     "output_type": "execute_result"
    }
   ],
   "source": [
    "response.content"
   ]
  },
  {
   "cell_type": "code",
   "execution_count": 78,
   "id": "5d995a37",
   "metadata": {},
   "outputs": [
    {
     "data": {
      "text/plain": [
       "[{'name': 'divide',\n",
       "  'args': {'a': 10, 'b': 2},\n",
       "  'id': 'call_HxyPUCmBCLNanQ9RQGTyRG7H',\n",
       "  'type': 'tool_call'}]"
      ]
     },
     "execution_count": 78,
     "metadata": {},
     "output_type": "execute_result"
    }
   ],
   "source": [
    "response.tool_calls"
   ]
  },
  {
   "cell_type": "code",
   "execution_count": 79,
   "id": "d78dc801",
   "metadata": {},
   "outputs": [],
   "source": [
    "response=llm_with_tools.invoke(\"what is a current age of the TATA Group?\")"
   ]
  },
  {
   "cell_type": "code",
   "execution_count": 80,
   "id": "a2afabf6",
   "metadata": {},
   "outputs": [
    {
     "data": {
      "text/plain": [
       "AIMessage(content='', additional_kwargs={'tool_calls': [{'id': 'call_ichvL79O9LFVaJQq7Mh5AviL', 'function': {'arguments': '{\"query\":\"current age of the TATA Group\"}', 'name': 'duckduckgo_search'}, 'type': 'function'}], 'refusal': None}, response_metadata={'token_usage': {'completion_tokens': 23, 'prompt_tokens': 263, 'total_tokens': 286, 'completion_tokens_details': {'accepted_prediction_tokens': 0, 'audio_tokens': 0, 'reasoning_tokens': 0, 'rejected_prediction_tokens': 0}, 'prompt_tokens_details': {'audio_tokens': 0, 'cached_tokens': 0}}, 'model_name': 'gpt-3.5-turbo-0125', 'system_fingerprint': None, 'id': 'chatcmpl-C0I13itCBGMEZFCqUJwVqoPGhHFfB', 'service_tier': 'default', 'finish_reason': 'tool_calls', 'logprobs': None}, id='run--5d58aec0-a140-4f4e-874d-fe1985a858c5-0', tool_calls=[{'name': 'duckduckgo_search', 'args': {'query': 'current age of the TATA Group'}, 'id': 'call_ichvL79O9LFVaJQq7Mh5AviL', 'type': 'tool_call'}], usage_metadata={'input_tokens': 263, 'output_tokens': 23, 'total_tokens': 286, 'input_token_details': {'audio': 0, 'cache_read': 0}, 'output_token_details': {'audio': 0, 'reasoning': 0}})"
      ]
     },
     "execution_count": 80,
     "metadata": {},
     "output_type": "execute_result"
    }
   ],
   "source": [
    "response"
   ]
  },
  {
   "cell_type": "code",
   "execution_count": 81,
   "id": "9625b943",
   "metadata": {},
   "outputs": [
    {
     "data": {
      "text/plain": [
       "''"
      ]
     },
     "execution_count": 81,
     "metadata": {},
     "output_type": "execute_result"
    }
   ],
   "source": [
    "response.content"
   ]
  },
  {
   "cell_type": "code",
   "execution_count": 82,
   "id": "526c8c85",
   "metadata": {},
   "outputs": [
    {
     "data": {
      "text/plain": [
       "[{'name': 'duckduckgo_search',\n",
       "  'args': {'query': 'current age of the TATA Group'},\n",
       "  'id': 'call_ichvL79O9LFVaJQq7Mh5AviL',\n",
       "  'type': 'tool_call'}]"
      ]
     },
     "execution_count": 82,
     "metadata": {},
     "output_type": "execute_result"
    }
   ],
   "source": [
    "response.tool_calls"
   ]
  },
  {
   "cell_type": "code",
   "execution_count": 83,
   "id": "15c2d865",
   "metadata": {},
   "outputs": [],
   "source": [
    "# class MessagesState(TypedDict):\n",
    "#     messages: Annotated[list[AnyMessage], add_messages]"
   ]
  },
  {
   "cell_type": "code",
   "execution_count": 84,
   "id": "e377308c",
   "metadata": {},
   "outputs": [],
   "source": [
    "SYSTEM_PROMPT=\"You are a helpful assistant tasked with using search and performing arithmetic on a set of inputs.\"\n",
    "\n"
   ]
  },
  {
   "cell_type": "code",
   "execution_count": 85,
   "id": "e0d8125c",
   "metadata": {},
   "outputs": [],
   "source": [
    "user_query=[\"tell me what is 2+2\"]"
   ]
  },
  {
   "cell_type": "code",
   "execution_count": 86,
   "id": "2fe81ec0",
   "metadata": {},
   "outputs": [
    {
     "data": {
      "text/plain": [
       "['You are a helpful assistant tasked with using search and performing arithmetic on a set of inputs.',\n",
       " 'tell me what is 2+2']"
      ]
     },
     "execution_count": 86,
     "metadata": {},
     "output_type": "execute_result"
    }
   ],
   "source": [
    "[SYSTEM_PROMPT]+user_query"
   ]
  },
  {
   "cell_type": "code",
   "execution_count": 87,
   "id": "99215609",
   "metadata": {},
   "outputs": [],
   "source": [
    "def function_1(state:MessagesState):\n",
    "    \n",
    "    user_question=state[\"messages\"]\n",
    "    \n",
    "    input_question = [SYSTEM_PROMPT]+user_question\n",
    "    \n",
    "    response = llm_with_tools.invoke(input_question)\n",
    "    \n",
    "    return {\n",
    "        \"messages\":[response]\n",
    "    }\n",
    "    \n",
    "    "
   ]
  },
  {
   "cell_type": "code",
   "execution_count": 88,
   "id": "4e663d69",
   "metadata": {},
   "outputs": [],
   "source": [
    "from langchain_core.messages import HumanMessage, SystemMessage\n",
    "from langgraph.graph import MessagesState,StateGraph, END, START"
   ]
  },
  {
   "cell_type": "code",
   "execution_count": 89,
   "id": "eed41e32",
   "metadata": {},
   "outputs": [],
   "source": [
    "builder=StateGraph(MessagesState)"
   ]
  },
  {
   "cell_type": "code",
   "execution_count": 90,
   "id": "23396a1e",
   "metadata": {},
   "outputs": [
    {
     "data": {
      "text/plain": [
       "<langgraph.graph.state.StateGraph at 0x1e8cf4a6710>"
      ]
     },
     "execution_count": 90,
     "metadata": {},
     "output_type": "execute_result"
    }
   ],
   "source": [
    "builder.add_node(\"llm_decision_step\",function_1)"
   ]
  },
  {
   "cell_type": "code",
   "execution_count": 91,
   "id": "7b70b839",
   "metadata": {},
   "outputs": [
    {
     "data": {
      "text/plain": [
       "[StructuredTool(name='multiply', description='Multiply two integers.\\n\\nArgs:\\n    a (int): The first integer.\\n    b (int): The second integer.\\n\\nReturns:\\n    int: The product of a and b.', args_schema=<class 'langchain_core.utils.pydantic.multiply'>, func=<function multiply at 0x000001E8CF457A60>),\n",
       " StructuredTool(name='add', description='Add two integers.\\n\\nArgs:\\n    a (int): The first integer.\\n    b (int): The second integer.\\n\\nReturns:\\n    int: The sum of a and b.', args_schema=<class 'langchain_core.utils.pydantic.add'>, func=<function add at 0x000001E8CF457EC0>),\n",
       " StructuredTool(name='divide', description='Divide two integers.\\n\\nArgs:\\n    a (int): The numerator.\\n    b (int): The denominator (must not be 0).\\n\\nReturns:\\n    float: The result of division.', args_schema=<class 'langchain_core.utils.pydantic.divide'>, func=<function divide at 0x000001E8CF457E20>),\n",
       " DuckDuckGoSearchRun(api_wrapper=DuckDuckGoSearchAPIWrapper(region='wt-wt', safesearch='moderate', time='y', max_results=5, backend='auto', source='text'))]"
      ]
     },
     "execution_count": 91,
     "metadata": {},
     "output_type": "execute_result"
    }
   ],
   "source": [
    "tools"
   ]
  },
  {
   "cell_type": "code",
   "execution_count": 92,
   "id": "09ead360",
   "metadata": {},
   "outputs": [
    {
     "data": {
      "text/plain": [
       "<langgraph.graph.state.StateGraph at 0x1e8cf4a6710>"
      ]
     },
     "execution_count": 92,
     "metadata": {},
     "output_type": "execute_result"
    }
   ],
   "source": [
    "from langgraph.prebuilt import ToolNode\n",
    "builder.add_node(\"tools\",ToolNode(tools))"
   ]
  },
  {
   "cell_type": "code",
   "execution_count": 93,
   "id": "43d2cbe6",
   "metadata": {},
   "outputs": [
    {
     "data": {
      "text/plain": [
       "<langgraph.graph.state.StateGraph at 0x1e8cf4a6710>"
      ]
     },
     "execution_count": 93,
     "metadata": {},
     "output_type": "execute_result"
    }
   ],
   "source": [
    "builder.add_edge(START,\"llm_decision_step\")"
   ]
  },
  {
   "cell_type": "code",
   "execution_count": 94,
   "id": "596349b9",
   "metadata": {},
   "outputs": [
    {
     "data": {
      "text/plain": [
       "<langgraph.graph.state.StateGraph at 0x1e8cf4a6710>"
      ]
     },
     "execution_count": 94,
     "metadata": {},
     "output_type": "execute_result"
    }
   ],
   "source": [
    "from langgraph.prebuilt import tools_condition\n",
    "builder.add_conditional_edges(\n",
    "    \"llm_decision_step\",\n",
    "    tools_condition,\n",
    ")\n"
   ]
  },
  {
   "cell_type": "code",
   "execution_count": 95,
   "id": "ec9c48d5",
   "metadata": {},
   "outputs": [
    {
     "data": {
      "text/plain": [
       "<langgraph.graph.state.StateGraph at 0x1e8cf4a6710>"
      ]
     },
     "execution_count": 95,
     "metadata": {},
     "output_type": "execute_result"
    }
   ],
   "source": [
    "builder.add_edge(\"tools\",\"llm_decision_step\")"
   ]
  },
  {
   "cell_type": "code",
   "execution_count": 97,
   "id": "2782ff4e",
   "metadata": {},
   "outputs": [],
   "source": [
    "react_graph=builder.compile()"
   ]
  },
  {
   "cell_type": "code",
   "execution_count": 98,
   "id": "eb4b5b74",
   "metadata": {},
   "outputs": [
    {
     "data": {
      "image/png": "[encoded data removed]",
      "text/plain": [
       "<IPython.core.display.Image object>"
      ]
     },
     "metadata": {},
     "output_type": "display_data"
    }
   ],
   "source": [
    "from IPython.display import Image, display\n",
    "display(Image(react_graph.get_graph().draw_mermaid_png()))"
   ]
  },
  {
   "cell_type": "code",
   "execution_count": 99,
   "id": "0dba8bc7",
   "metadata": {},
   "outputs": [],
   "source": [
    "message=[HumanMessage(content=\"What is 2 times of narendramodi's age?\")]"
   ]
  },
  {
   "cell_type": "code",
   "execution_count": 100,
   "id": "d3269295",
   "metadata": {},
   "outputs": [
    {
     "name": "stderr",
     "output_type": "stream",
     "text": [
      "c:\\Users\\samra\\anaconda3\\envs\\agentic_2_base\\Lib\\site-packages\\langchain_community\\utilities\\duckduckgo_search.py:63: RuntimeWarning: This package (`duckduckgo_search`) has been renamed to `ddgs`! Use `pip install ddgs` instead.\n",
      "  with DDGS() as ddgs:\n"
     ]
    },
    {
     "data": {
      "text/plain": [
       "{'messages': [HumanMessage(content=\"What is 2 times of narendramodi's age?\", additional_kwargs={}, response_metadata={}, id='ba2ebfd6-25aa-463b-9a3d-ffb215d877b2'),\n",
       "  AIMessage(content='', additional_kwargs={'tool_calls': [{'id': 'call_VkZFDTHO0z043pVjhdk0r2Jl', 'function': {'arguments': '{\"query\":\"Narendra Modi age\"}', 'name': 'duckduckgo_search'}, 'type': 'function'}], 'refusal': None}, response_metadata={'token_usage': {'completion_tokens': 20, 'prompt_tokens': 287, 'total_tokens': 307, 'completion_tokens_details': {'accepted_prediction_tokens': 0, 'audio_tokens': 0, 'reasoning_tokens': 0, 'rejected_prediction_tokens': 0}, 'prompt_tokens_details': {'audio_tokens': 0, 'cached_tokens': 0}}, 'model_name': 'gpt-3.5-turbo-0125', 'system_fingerprint': None, 'id': 'chatcmpl-C0I1lyNlBdy3sZ3AGv9JmpqrHMydk', 'service_tier': 'default', 'finish_reason': 'tool_calls', 'logprobs': None}, id='run--310f0d53-295a-47af-9285-3b59e24e58b6-0', tool_calls=[{'name': 'duckduckgo_search', 'args': {'query': 'Narendra Modi age'}, 'id': 'call_VkZFDTHO0z043pVjhdk0r2Jl', 'type': 'tool_call'}], usage_metadata={'input_tokens': 287, 'output_tokens': 20, 'total_tokens': 307, 'input_token_details': {'audio': 0, 'cache_read': 0}, 'output_token_details': {'audio': 0, 'reasoning': 0}}),\n",
       "  ToolMessage(content=\"Modi was born and raised in Vadnagar, Bombay State (present-day Gujarat), where he completed his secondary education. He was introduced to the RSS at the age of eight, becoming a full … Narendra Modi, an Indian Politician and the 14th Prime Minister of India. Check this page to read Narendra Modi's Biography- his age, wife, caste, career, childhood, family & much more Narendra Damodardas Modi[a] (born 17 September 1950) is an Indian politician who is the 14th and current Prime Minister of India since 2014. He was previously the Chief Minister of the … 2 days ago · Narendra Modi is the 14th prime minister of India. His Hindu nationalist policies and some of his economic reforms have proved controversial to many within and outside India. Jun 11, 2024 · He was born on 17th September 1950, three years after India's independence, making him the first Prime Minister born in independent India. He was the third child of …\", name='duckduckgo_search', id='30ed1fb7-b854-4bf5-a6c7-d7fad6dee5a3', tool_call_id='call_VkZFDTHO0z043pVjhdk0r2Jl'),\n",
       "  AIMessage(content='', additional_kwargs={'tool_calls': [{'id': 'call_jFJkNeKqliUnXIKqyGx7DOCw', 'function': {'arguments': '{\"a\":2,\"b\":74}', 'name': 'multiply'}, 'type': 'function'}], 'refusal': None}, response_metadata={'token_usage': {'completion_tokens': 17, 'prompt_tokens': 529, 'total_tokens': 546, 'completion_tokens_details': {'accepted_prediction_tokens': 0, 'audio_tokens': 0, 'reasoning_tokens': 0, 'rejected_prediction_tokens': 0}, 'prompt_tokens_details': {'audio_tokens': 0, 'cached_tokens': 0}}, 'model_name': 'gpt-3.5-turbo-0125', 'system_fingerprint': None, 'id': 'chatcmpl-C0I1mI0Vp5aVDxVb2oDkCt3lH2rzf', 'service_tier': 'default', 'finish_reason': 'tool_calls', 'logprobs': None}, id='run--4f78c1c3-ccfa-47db-8b9e-68f4c5a4e1b6-0', tool_calls=[{'name': 'multiply', 'args': {'a': 2, 'b': 74}, 'id': 'call_jFJkNeKqliUnXIKqyGx7DOCw', 'type': 'tool_call'}], usage_metadata={'input_tokens': 529, 'output_tokens': 17, 'total_tokens': 546, 'input_token_details': {'audio': 0, 'cache_read': 0}, 'output_token_details': {'audio': 0, 'reasoning': 0}}),\n",
       "  ToolMessage(content='148', name='multiply', id='e93f871e-9776-450a-9c9f-51aad6645ea2', tool_call_id='call_jFJkNeKqliUnXIKqyGx7DOCw'),\n",
       "  AIMessage(content=\"2 times Narendra Modi's age is 148.\", additional_kwargs={'refusal': None}, response_metadata={'token_usage': {'completion_tokens': 11, 'prompt_tokens': 554, 'total_tokens': 565, 'completion_tokens_details': {'accepted_prediction_tokens': 0, 'audio_tokens': 0, 'reasoning_tokens': 0, 'rejected_prediction_tokens': 0}, 'prompt_tokens_details': {'audio_tokens': 0, 'cached_tokens': 0}}, 'model_name': 'gpt-3.5-turbo-0125', 'system_fingerprint': None, 'id': 'chatcmpl-C0I1nG5gy0wqCwePZHKWYnEqZ0Clc', 'service_tier': 'default', 'finish_reason': 'stop', 'logprobs': None}, id='run--5d0be35a-c076-4fdd-909f-e63e6afef46c-0', usage_metadata={'input_tokens': 554, 'output_tokens': 11, 'total_tokens': 565, 'input_token_details': {'audio': 0, 'cache_read': 0}, 'output_token_details': {'audio': 0, 'reasoning': 0}})]}"
      ]
     },
     "execution_count": 100,
     "metadata": {},
     "output_type": "execute_result"
    }
   ],
   "source": [
    "react_graph.invoke({\"messages\":message})"
   ]
  },
  {
   "cell_type": "code",
   "execution_count": 101,
   "id": "c99ad9fb",
   "metadata": {},
   "outputs": [],
   "source": [
    "message = [HumanMessage(content=\"How much is the net worth of Elon Musk, and divide it by 2?\")]"
   ]
  },
  {
   "cell_type": "code",
   "execution_count": 102,
   "id": "eb42942f",
   "metadata": {},
   "outputs": [
    {
     "name": "stderr",
     "output_type": "stream",
     "text": [
      "c:\\Users\\samra\\anaconda3\\envs\\agentic_2_base\\Lib\\site-packages\\langchain_community\\utilities\\duckduckgo_search.py:63: RuntimeWarning: This package (`duckduckgo_search`) has been renamed to `ddgs`! Use `pip install ddgs` instead.\n",
      "  with DDGS() as ddgs:\n"
     ]
    },
    {
     "data": {
      "text/plain": [
       "{'messages': [HumanMessage(content='How much is the net worth of Elon Musk, and divide it by 2?', additional_kwargs={}, response_metadata={}, id='2d141355-812e-4235-b116-00e6530f4e49'),\n",
       "  AIMessage(content='', additional_kwargs={'tool_calls': [{'id': 'call_EAPlS989OTOPyiXQTtVFmzd0', 'function': {'arguments': '{\"query\":\"Elon Musk net worth\"}', 'name': 'duckduckgo_search'}, 'type': 'function'}], 'refusal': None}, response_metadata={'token_usage': {'completion_tokens': 21, 'prompt_tokens': 291, 'total_tokens': 312, 'completion_tokens_details': {'accepted_prediction_tokens': 0, 'audio_tokens': 0, 'reasoning_tokens': 0, 'rejected_prediction_tokens': 0}, 'prompt_tokens_details': {'audio_tokens': 0, 'cached_tokens': 0}}, 'model_name': 'gpt-3.5-turbo-0125', 'system_fingerprint': None, 'id': 'chatcmpl-C0I2P2rLaVurnzAKbPLYBjej3sCxl', 'service_tier': 'default', 'finish_reason': 'tool_calls', 'logprobs': None}, id='run--f6346165-31fe-4b7e-b27c-a6cb24876ea5-0', tool_calls=[{'name': 'duckduckgo_search', 'args': {'query': 'Elon Musk net worth'}, 'id': 'call_EAPlS989OTOPyiXQTtVFmzd0', 'type': 'tool_call'}], usage_metadata={'input_tokens': 291, 'output_tokens': 21, 'total_tokens': 312, 'input_token_details': {'audio': 0, 'cache_read': 0}, 'output_token_details': {'audio': 0, 'reasoning': 0}}),\n",
       "  ToolMessage(content=\"Browse today’s rankings of the wealthiest people and families globally. Discover the net worth, age, and other information about the richest people in the world. 2 days ago · The two outliers: Elon Musk, whose fortune contracted by $5.3 billion, and Warren Buffett, whose net worth dropped by $2.2 billion. Musk is still the world’s richest person, worth … 3 days ago · Musk is CEO of publicly traded Tesla, the world's most valuable carmaker, and closely held rocket business SpaceX. Musk owns about 13% of Tesla, according to the … 4 days ago · What is Elon Musk's net worth? According to Forbes, Musk's net worth more than $408 billion. Meanwhile, the Bloomberg Billionaires Index pegs Musk's net worth at $368 … Apr 7, 2025 · If you’ve been wondering just how that all adds up, here’s the scoop: As of March 31, 2025, Musk’s fortune exceeds $300 billion, making him the richest person on the planet. …\", name='duckduckgo_search', id='4b7499f5-84ca-4f68-acaa-9c26c8e9c81b', tool_call_id='call_EAPlS989OTOPyiXQTtVFmzd0'),\n",
       "  AIMessage(content='', additional_kwargs={'tool_calls': [{'id': 'call_WE9c038OwWYpFD06I6Py2MbP', 'function': {'arguments': '{\"a\":300000000000,\"b\":2}', 'name': 'divide'}, 'type': 'function'}], 'refusal': None}, response_metadata={'token_usage': {'completion_tokens': 20, 'prompt_tokens': 538, 'total_tokens': 558, 'completion_tokens_details': {'accepted_prediction_tokens': 0, 'audio_tokens': 0, 'reasoning_tokens': 0, 'rejected_prediction_tokens': 0}, 'prompt_tokens_details': {'audio_tokens': 0, 'cached_tokens': 0}}, 'model_name': 'gpt-3.5-turbo-0125', 'system_fingerprint': None, 'id': 'chatcmpl-C0I2RMnlOeg4fLqzYnSruWyGTk0J3', 'service_tier': 'default', 'finish_reason': 'tool_calls', 'logprobs': None}, id='run--0e8518ab-9433-4c0a-a523-0c4b5d968bed-0', tool_calls=[{'name': 'divide', 'args': {'a': 300000000000, 'b': 2}, 'id': 'call_WE9c038OwWYpFD06I6Py2MbP', 'type': 'tool_call'}], usage_metadata={'input_tokens': 538, 'output_tokens': 20, 'total_tokens': 558, 'input_token_details': {'audio': 0, 'cache_read': 0}, 'output_token_details': {'audio': 0, 'reasoning': 0}}),\n",
       "  ToolMessage(content='150000000000.0', name='divide', id='57728a58-cecc-4dbc-a7d4-3b497268ef4d', tool_call_id='call_WE9c038OwWYpFD06I6Py2MbP'),\n",
       "  AIMessage(content=\"Elon Musk's net worth is $300 billion, and when divided by 2, the result is $150 billion.\", additional_kwargs={'refusal': None}, response_metadata={'token_usage': {'completion_tokens': 26, 'prompt_tokens': 571, 'total_tokens': 597, 'completion_tokens_details': {'accepted_prediction_tokens': 0, 'audio_tokens': 0, 'reasoning_tokens': 0, 'rejected_prediction_tokens': 0}, 'prompt_tokens_details': {'audio_tokens': 0, 'cached_tokens': 0}}, 'model_name': 'gpt-3.5-turbo-0125', 'system_fingerprint': None, 'id': 'chatcmpl-C0I2RGhJv4Th5I2ZVOudwpJWejzjp', 'service_tier': 'default', 'finish_reason': 'stop', 'logprobs': None}, id='run--44ff1212-7a15-472a-9f09-a663ce58045f-0', usage_metadata={'input_tokens': 571, 'output_tokens': 26, 'total_tokens': 597, 'input_token_details': {'audio': 0, 'cache_read': 0}, 'output_token_details': {'audio': 0, 'reasoning': 0}})]}"
      ]
     },
     "execution_count": 102,
     "metadata": {},
     "output_type": "execute_result"
    }
   ],
   "source": [
    "react_graph.invoke({\"messages\":message})"
   ]
  },
  {
   "cell_type": "code",
   "execution_count": 103,
   "id": "c3358a2b",
   "metadata": {},
   "outputs": [],
   "source": [
    "message = [HumanMessage(content=\"What is the speed of light in m/s and multiply it by 10?\")]"
   ]
  },
  {
   "cell_type": "code",
   "execution_count": 104,
   "id": "cff14984",
   "metadata": {},
   "outputs": [
    {
     "name": "stderr",
     "output_type": "stream",
     "text": [
      "c:\\Users\\samra\\anaconda3\\envs\\agentic_2_base\\Lib\\site-packages\\langchain_community\\utilities\\duckduckgo_search.py:63: RuntimeWarning: This package (`duckduckgo_search`) has been renamed to `ddgs`! Use `pip install ddgs` instead.\n",
      "  with DDGS() as ddgs:\n"
     ]
    }
   ],
   "source": [
    "response=react_graph.invoke({\"messages\":message})"
   ]
  },
  {
   "cell_type": "code",
   "execution_count": 105,
   "id": "4b6f8cb1",
   "metadata": {},
   "outputs": [
    {
     "data": {
      "text/plain": [
       "'The speed of light in a vacuum is 299,792,458 m/s. When multiplied by 10, the result is 2,997,924,580.'"
      ]
     },
     "execution_count": 105,
     "metadata": {},
     "output_type": "execute_result"
    }
   ],
   "source": [
    "response[\"messages\"][-1].content"
   ]
  },
  {
   "cell_type": "code",
   "execution_count": 106,
   "id": "ecaa64fa",
   "metadata": {},
   "outputs": [
    {
     "name": "stdout",
     "output_type": "stream",
     "text": [
      "================================\u001b[1m Human Message \u001b[0m=================================\n",
      "\n",
      "What is the speed of light in m/s and multiply it by 10?\n",
      "==================================\u001b[1m Ai Message \u001b[0m==================================\n",
      "Tool Calls:\n",
      "  duckduckgo_search (call_SrHXD7xIy5JQDkIIxkvA6y3C)\n",
      " Call ID: call_SrHXD7xIy5JQDkIIxkvA6y3C\n",
      "  Args:\n",
      "    query: speed of light in m/s\n",
      "=================================\u001b[1m Tool Message \u001b[0m=================================\n",
      "Name: duckduckgo_search\n",
      "\n",
      "Since 1983, the constant c has been defined in the International System of Units (SI) as exactly 299 792 458 m/s; this … Jun 20, 2025 · speed of light, speed at which light waves propagate through different materials. In particular, the value for the speed of light in a vacuum is now defined as exactly 299,792,458 metres per second. Oct 29, 2024 · Learn what is the speed of light in a vacuum and how it affects physics and space travel. Find out how to measure distances in light-years and what is faster than light. 5 days ago · Concepts Speed of light, Units of speed (metre per second), Universal constants Explanation The speed of light … May 6, 2025 · The speed of light is the fastest known speed in the universe and is a cosmic limit. Light travels at 299,792,458 meters per second in a vacuum, but it slows in different materials.\n",
      "==================================\u001b[1m Ai Message \u001b[0m==================================\n",
      "Tool Calls:\n",
      "  multiply (call_O5Nx1imjSrH7Xs6IViwDSF5L)\n",
      " Call ID: call_O5Nx1imjSrH7Xs6IViwDSF5L\n",
      "  Args:\n",
      "    a: 299792458\n",
      "    b: 10\n",
      "=================================\u001b[1m Tool Message \u001b[0m=================================\n",
      "Name: multiply\n",
      "\n",
      "2997924580\n",
      "==================================\u001b[1m Ai Message \u001b[0m==================================\n",
      "\n",
      "The speed of light in a vacuum is 299,792,458 m/s. When multiplied by 10, the result is 2,997,924,580.\n"
     ]
    }
   ],
   "source": [
    "for m in response[\"messages\"]:\n",
    "    m.pretty_print()"
   ]
  },
  {
   "cell_type": "code",
   "execution_count": 108,
   "id": "cb0e7d00",
   "metadata": {},
   "outputs": [
    {
     "name": "stdout",
     "output_type": "stream",
     "text": [
      "Collecting yfinance\n",
      "  Downloading yfinance-0.2.65-py2.py3-none-any.whl.metadata (5.8 kB)\n",
      "Collecting pandas>=1.3.0 (from yfinance)\n",
      "  Downloading pandas-2.3.1-cp311-cp311-win_amd64.whl.metadata (19 kB)\n",
      "Requirement already satisfied: numpy>=1.16.5 in c:\\users\\samra\\anaconda3\\envs\\agentic_2_base\\lib\\site-packages (from yfinance) (1.26.4)\n",
      "Requirement already satisfied: requests>=2.31 in c:\\users\\samra\\anaconda3\\envs\\agentic_2_base\\lib\\site-packages (from yfinance) (2.32.3)\n",
      "Collecting multitasking>=0.0.7 (from yfinance)\n",
      "  Downloading multitasking-0.0.12.tar.gz (19 kB)\n",
      "  Preparing metadata (setup.py): started\n",
      "  Preparing metadata (setup.py): finished with status 'done'\n",
      "Requirement already satisfied: platformdirs>=2.0.0 in c:\\users\\samra\\appdata\\roaming\\python\\python311\\site-packages (from yfinance) (4.2.0)\n",
      "Collecting pytz>=2022.5 (from yfinance)\n",
      "  Downloading pytz-2025.2-py2.py3-none-any.whl.metadata (22 kB)\n",
      "Collecting frozendict>=2.3.4 (from yfinance)\n",
      "  Downloading frozendict-2.4.6-py311-none-any.whl.metadata (23 kB)\n",
      "Collecting peewee>=3.16.2 (from yfinance)\n",
      "  Downloading peewee-3.18.2.tar.gz (949 kB)\n",
      "     ---------------------------------------- 0.0/949.2 kB ? eta -:--:--\n",
      "     ------------------------------------- 949.2/949.2 kB 14.6 MB/s eta 0:00:00\n",
      "  Installing build dependencies: started\n",
      "  Installing build dependencies: finished with status 'done'\n",
      "  Getting requirements to build wheel: started\n",
      "  Getting requirements to build wheel: finished with status 'done'\n",
      "  Preparing metadata (pyproject.toml): started\n",
      "  Preparing metadata (pyproject.toml): finished with status 'done'\n",
      "Requirement already satisfied: beautifulsoup4>=4.11.1 in c:\\users\\samra\\appdata\\roaming\\python\\python311\\site-packages (from yfinance) (4.12.3)\n",
      "Collecting curl_cffi>=0.7 (from yfinance)\n",
      "  Downloading curl_cffi-0.12.0-cp39-abi3-win_amd64.whl.metadata (15 kB)\n",
      "Requirement already satisfied: protobuf>=3.19.0 in c:\\users\\samra\\anaconda3\\envs\\agentic_2_base\\lib\\site-packages (from yfinance) (5.29.5)\n",
      "Requirement already satisfied: websockets>=13.0 in c:\\users\\samra\\anaconda3\\envs\\agentic_2_base\\lib\\site-packages (from yfinance) (15.0.1)\n",
      "Requirement already satisfied: soupsieve>1.2 in c:\\users\\samra\\appdata\\roaming\\python\\python311\\site-packages (from beautifulsoup4>=4.11.1->yfinance) (2.5)\n",
      "Requirement already satisfied: cffi>=1.12.0 in c:\\users\\samra\\anaconda3\\envs\\agentic_2_base\\lib\\site-packages (from curl_cffi>=0.7->yfinance) (1.17.1)\n",
      "Requirement already satisfied: certifi>=2024.2.2 in c:\\users\\samra\\anaconda3\\envs\\agentic_2_base\\lib\\site-packages (from curl_cffi>=0.7->yfinance) (2025.4.26)\n",
      "Requirement already satisfied: pycparser in c:\\users\\samra\\anaconda3\\envs\\agentic_2_base\\lib\\site-packages (from cffi>=1.12.0->curl_cffi>=0.7->yfinance) (2.22)\n",
      "Requirement already satisfied: python-dateutil>=2.8.2 in c:\\users\\samra\\anaconda3\\envs\\agentic_2_base\\lib\\site-packages (from pandas>=1.3.0->yfinance) (2.9.0.post0)\n",
      "Collecting tzdata>=2022.7 (from pandas>=1.3.0->yfinance)\n",
      "  Downloading tzdata-2025.2-py2.py3-none-any.whl.metadata (1.4 kB)\n",
      "Requirement already satisfied: six>=1.5 in c:\\users\\samra\\anaconda3\\envs\\agentic_2_base\\lib\\site-packages (from python-dateutil>=2.8.2->pandas>=1.3.0->yfinance) (1.17.0)\n",
      "Requirement already satisfied: charset-normalizer<4,>=2 in c:\\users\\samra\\anaconda3\\envs\\agentic_2_base\\lib\\site-packages (from requests>=2.31->yfinance) (3.4.2)\n",
      "Requirement already satisfied: idna<4,>=2.5 in c:\\users\\samra\\anaconda3\\envs\\agentic_2_base\\lib\\site-packages (from requests>=2.31->yfinance) (3.10)\n",
      "Requirement already satisfied: urllib3<3,>=1.21.1 in c:\\users\\samra\\anaconda3\\envs\\agentic_2_base\\lib\\site-packages (from requests>=2.31->yfinance) (2.4.0)\n",
      "Downloading yfinance-0.2.65-py2.py3-none-any.whl (119 kB)\n",
      "Downloading curl_cffi-0.12.0-cp39-abi3-win_amd64.whl (1.6 MB)\n",
      "   ---------------------------------------- 0.0/1.6 MB ? eta -:--:--\n",
      "   ---------------------------------------- 1.6/1.6 MB 43.5 MB/s eta 0:00:00\n",
      "Downloading frozendict-2.4.6-py311-none-any.whl (16 kB)\n",
      "Downloading pandas-2.3.1-cp311-cp311-win_amd64.whl (11.3 MB)\n",
      "   ---------------------------------------- 0.0/11.3 MB ? eta -:--:--\n",
      "   ---------------------------------------- 11.3/11.3 MB 59.2 MB/s eta 0:00:00\n",
      "Downloading pytz-2025.2-py2.py3-none-any.whl (509 kB)\n",
      "Downloading tzdata-2025.2-py2.py3-none-any.whl (347 kB)\n",
      "Building wheels for collected packages: multitasking, peewee\n",
      "  Building wheel for multitasking (setup.py): started\n",
      "  Building wheel for multitasking (setup.py): finished with status 'done'\n",
      "  Created wheel for multitasking: filename=multitasking-0.0.12-py3-none-any.whl size=15703 sha256=5d97a6d86ffeb8204e362f61c199ddf7313d443e7e8881c1f667698da130f6ee\n",
      "  Stored in directory: c:\\users\\samra\\appdata\\local\\pip\\cache\\wheels\\42\\d6\\84\\bf57a755f4569494cd00de4bb46ef064874823f4d19c82e960\n",
      "  Building wheel for peewee (pyproject.toml): started\n",
      "  Building wheel for peewee (pyproject.toml): finished with status 'done'\n",
      "  Created wheel for peewee: filename=peewee-3.18.2-py3-none-any.whl size=139153 sha256=edd3ca79507f09d11d91b93d970327034898f0816f9bc4418c287c1a0232aeb0\n",
      "  Stored in directory: c:\\users\\samra\\appdata\\local\\pip\\cache\\wheels\\28\\84\\61\\758d1bd7b9c9d700158c8642a8aff2a9bf2e1ae69641c40784\n",
      "Successfully built multitasking peewee\n",
      "Installing collected packages: pytz, peewee, multitasking, tzdata, frozendict, pandas, curl_cffi, yfinance\n",
      "\n",
      "   ---------------------------------------- 0/8 [pytz]\n",
      "   ---------------------------------------- 0/8 [pytz]\n",
      "   ----- ---------------------------------- 1/8 [peewee]\n",
      "   --------------- ------------------------ 3/8 [tzdata]\n",
      "   --------------- ------------------------ 3/8 [tzdata]\n",
      "   --------------- ------------------------ 3/8 [tzdata]\n",
      "   ------------------------- -------------- 5/8 [pandas]\n",
      "   ------------------------- -------------- 5/8 [pandas]\n",
      "   ------------------------- -------------- 5/8 [pandas]\n",
      "   ------------------------- -------------- 5/8 [pandas]\n",
      "   ------------------------- -------------- 5/8 [pandas]\n",
      "   ------------------------- -------------- 5/8 [pandas]\n",
      "   ------------------------- -------------- 5/8 [pandas]\n",
      "   ------------------------- -------------- 5/8 [pandas]\n",
      "   ------------------------- -------------- 5/8 [pandas]\n",
      "   ------------------------- -------------- 5/8 [pandas]\n",
      "   ------------------------- -------------- 5/8 [pandas]\n",
      "   ------------------------- -------------- 5/8 [pandas]\n",
      "   ------------------------- -------------- 5/8 [pandas]\n",
      "   ------------------------- -------------- 5/8 [pandas]\n",
      "   ------------------------- -------------- 5/8 [pandas]\n",
      "   ------------------------- -------------- 5/8 [pandas]\n",
      "   ------------------------- -------------- 5/8 [pandas]\n",
      "   ------------------------- -------------- 5/8 [pandas]\n",
      "   ------------------------- -------------- 5/8 [pandas]\n",
      "   ------------------------- -------------- 5/8 [pandas]\n",
      "   ------------------------- -------------- 5/8 [pandas]\n",
      "   ------------------------- -------------- 5/8 [pandas]\n",
      "   ------------------------- -------------- 5/8 [pandas]\n",
      "   ------------------------- -------------- 5/8 [pandas]\n",
      "   ------------------------- -------------- 5/8 [pandas]\n",
      "   ------------------------- -------------- 5/8 [pandas]\n",
      "   ------------------------- -------------- 5/8 [pandas]\n",
      "   ------------------------- -------------- 5/8 [pandas]\n",
      "   ------------------------- -------------- 5/8 [pandas]\n",
      "   ------------------------- -------------- 5/8 [pandas]\n",
      "   ------------------------- -------------- 5/8 [pandas]\n",
      "   ------------------------- -------------- 5/8 [pandas]\n",
      "   ------------------------- -------------- 5/8 [pandas]\n",
      "   ------------------------- -------------- 5/8 [pandas]\n",
      "   ------------------------- -------------- 5/8 [pandas]\n",
      "   ------------------------- -------------- 5/8 [pandas]\n",
      "   ------------------------- -------------- 5/8 [pandas]\n",
      "   ------------------------- -------------- 5/8 [pandas]\n",
      "   ------------------------- -------------- 5/8 [pandas]\n",
      "   ------------------------- -------------- 5/8 [pandas]\n",
      "   ------------------------- -------------- 5/8 [pandas]\n",
      "   ------------------------- -------------- 5/8 [pandas]\n",
      "   ------------------------- -------------- 5/8 [pandas]\n",
      "   ------------------------- -------------- 5/8 [pandas]\n",
      "   ------------------------- -------------- 5/8 [pandas]\n",
      "   ------------------------- -------------- 5/8 [pandas]\n",
      "   ------------------------- -------------- 5/8 [pandas]\n",
      "   ------------------------- -------------- 5/8 [pandas]\n",
      "   ------------------------- -------------- 5/8 [pandas]\n",
      "   ----------------------------------- ---- 7/8 [yfinance]\n",
      "   ---------------------------------------- 8/8 [yfinance]\n",
      "\n",
      "Successfully installed curl_cffi-0.12.0 frozendict-2.4.6 multitasking-0.0.12 pandas-2.3.1 peewee-3.18.2 pytz-2025.2 tzdata-2025.2 yfinance-0.2.65\n"
     ]
    },
    {
     "name": "stderr",
     "output_type": "stream",
     "text": [
      "  DEPRECATION: Building 'multitasking' using the legacy setup.py bdist_wheel mechanism, which will be removed in a future version. pip 25.3 will enforce this behaviour change. A possible replacement is to use the standardized build interface by setting the `--use-pep517` option, (possibly combined with `--no-build-isolation`), or adding a `pyproject.toml` file to the source tree of 'multitasking'. Discussion can be found at https://github.com/pypa/pip/issues/6334\n",
      "C:\\Users\\samra\\AppData\\Roaming\\Python\\Python311\\site-packages\\IPython\\utils\\_process_win32.py:124: ResourceWarning: unclosed file <_io.BufferedWriter name=3>\n",
      "  return process_handler(cmd, _system_body)\n",
      "ResourceWarning: Enable tracemalloc to get the object allocation traceback\n",
      "C:\\Users\\samra\\AppData\\Roaming\\Python\\Python311\\site-packages\\IPython\\utils\\_process_win32.py:124: ResourceWarning: unclosed file <_io.BufferedReader name=4>\n",
      "  return process_handler(cmd, _system_body)\n",
      "ResourceWarning: Enable tracemalloc to get the object allocation traceback\n",
      "C:\\Users\\samra\\AppData\\Roaming\\Python\\Python311\\site-packages\\IPython\\utils\\_process_win32.py:124: ResourceWarning: unclosed file <_io.BufferedReader name=5>\n",
      "  return process_handler(cmd, _system_body)\n",
      "ResourceWarning: Enable tracemalloc to get the object allocation traceback\n"
     ]
    }
   ],
   "source": [
    "!pip install yfinance"
   ]
  },
  {
   "cell_type": "code",
   "execution_count": 109,
   "id": "0dec1352",
   "metadata": {},
   "outputs": [],
   "source": [
    "import yfinance as yf"
   ]
  },
  {
   "cell_type": "code",
   "execution_count": 110,
   "id": "f07545f5",
   "metadata": {},
   "outputs": [],
   "source": [
    "@tool\n",
    "def get_stock_price(ticker:str)->str:\n",
    "    \"\"\"\n",
    "    Fetches the previous closing price of a given stock ticker from Yahoo Finance.\n",
    "\n",
    "    Args:\n",
    "        ticker (str): The stock ticker symbol (e.g., 'AAPL', 'TSLA', 'NIFTY.BO').\n",
    "\n",
    "    Returns:\n",
    "        str: A message with the stock's previous closing price.\n",
    "    \"\"\"\n",
    "    try:\n",
    "        stock = yf.Ticker(ticker)\n",
    "        price = stock.info.get('previousClose')\n",
    "        if price is None:\n",
    "            return f\"Could not fetch price for ticker '{ticker}'.\"\n",
    "        return f\"The last closing price of {ticker.upper()} was ${price:.2f}.\"\n",
    "    except Exception as e:\n",
    "        return f\"An error occurred while fetching stock data: {str(e)}\"\n",
    "     \n",
    "    "
   ]
  },
  {
   "cell_type": "code",
   "execution_count": 111,
   "id": "e60507a5",
   "metadata": {},
   "outputs": [
    {
     "data": {
      "text/plain": [
       "'The last closing price of AAPL was $207.57.'"
      ]
     },
     "execution_count": 111,
     "metadata": {},
     "output_type": "execute_result"
    }
   ],
   "source": [
    "get_stock_price.invoke(\"AAPL\")"
   ]
  },
  {
   "cell_type": "code",
   "execution_count": 112,
   "id": "8f3726a7",
   "metadata": {},
   "outputs": [
    {
     "data": {
      "text/plain": [
       "'The last closing price of TSLA was $308.27.'"
      ]
     },
     "execution_count": 112,
     "metadata": {},
     "output_type": "execute_result"
    }
   ],
   "source": [
    "get_stock_price.invoke(\"TSLA\")"
   ]
  },
  {
   "cell_type": "code",
   "execution_count": 113,
   "id": "a0fc22d3",
   "metadata": {},
   "outputs": [
    {
     "data": {
      "text/plain": [
       "[StructuredTool(name='multiply', description='Multiply two integers.\\n\\nArgs:\\n    a (int): The first integer.\\n    b (int): The second integer.\\n\\nReturns:\\n    int: The product of a and b.', args_schema=<class 'langchain_core.utils.pydantic.multiply'>, func=<function multiply at 0x000001E8CF457A60>),\n",
       " StructuredTool(name='add', description='Add two integers.\\n\\nArgs:\\n    a (int): The first integer.\\n    b (int): The second integer.\\n\\nReturns:\\n    int: The sum of a and b.', args_schema=<class 'langchain_core.utils.pydantic.add'>, func=<function add at 0x000001E8CF457EC0>),\n",
       " StructuredTool(name='divide', description='Divide two integers.\\n\\nArgs:\\n    a (int): The numerator.\\n    b (int): The denominator (must not be 0).\\n\\nReturns:\\n    float: The result of division.', args_schema=<class 'langchain_core.utils.pydantic.divide'>, func=<function divide at 0x000001E8CF457E20>),\n",
       " DuckDuckGoSearchRun(api_wrapper=DuckDuckGoSearchAPIWrapper(region='wt-wt', safesearch='moderate', time='y', max_results=5, backend='auto', source='text'))]"
      ]
     },
     "execution_count": 113,
     "metadata": {},
     "output_type": "execute_result"
    }
   ],
   "source": [
    "tools"
   ]
  },
  {
   "cell_type": "code",
   "execution_count": 114,
   "id": "91293523",
   "metadata": {},
   "outputs": [],
   "source": [
    "tools = [add, multiply, divide, search,get_stock_price]"
   ]
  },
  {
   "cell_type": "code",
   "execution_count": 115,
   "id": "ae5fd5c3",
   "metadata": {},
   "outputs": [],
   "source": [
    "llm_with_tools=llm.bind_tools(tools)"
   ]
  },
  {
   "cell_type": "code",
   "execution_count": 116,
   "id": "4e20eb44",
   "metadata": {},
   "outputs": [],
   "source": [
    "response=llm_with_tools.invoke(\"can you give me a latest stock price of adani greens?\")"
   ]
  },
  {
   "cell_type": "code",
   "execution_count": 117,
   "id": "7cbc21a8",
   "metadata": {},
   "outputs": [
    {
     "data": {
      "text/plain": [
       "''"
      ]
     },
     "execution_count": 117,
     "metadata": {},
     "output_type": "execute_result"
    }
   ],
   "source": [
    "response.content"
   ]
  },
  {
   "cell_type": "code",
   "execution_count": 118,
   "id": "e0d4ac4b",
   "metadata": {},
   "outputs": [
    {
     "data": {
      "text/plain": [
       "[{'name': 'get_stock_price',\n",
       "  'args': {'ticker': 'ADANIGREEN.NS'},\n",
       "  'id': 'call_MKGktxSRBXF4QaFoFggjws5Y',\n",
       "  'type': 'tool_call'}]"
      ]
     },
     "execution_count": 118,
     "metadata": {},
     "output_type": "execute_result"
    }
   ],
   "source": [
    "response.tool_calls"
   ]
  },
  {
   "cell_type": "code",
   "execution_count": 120,
   "id": "76fb2c48",
   "metadata": {},
   "outputs": [],
   "source": [
    "SYSTEM_PROMPT = SystemMessage(\n",
    "    content=\"You are a helpful assistant tasked with using search, the yahoo finance tool and performing arithmetic on a set of inputs.\"\n",
    ")\n",
    "def function_1(state:MessagesState):\n",
    "    \n",
    "    user_question=state[\"messages\"]\n",
    "    \n",
    "    input_question = [SYSTEM_PROMPT]+user_question\n",
    "    \n",
    "    response = llm_with_tools.invoke(input_question)\n",
    "    \n",
    "    return {\n",
    "        \"messages\":[response]\n",
    "    }"
   ]
  },
  {
   "cell_type": "code",
   "execution_count": 121,
   "id": "2bfbedc2",
   "metadata": {},
   "outputs": [],
   "source": [
    "workflow = StateGraph(MessagesState)\n",
    "workflow.add_node(\"llm_decision_step\", function_1)\n",
    "workflow.add_node(\"tools\", ToolNode(tools))\n",
    "workflow.add_edge(START, \"llm_decision_step\")\n",
    "workflow.add_conditional_edges(\n",
    "    \"llm_decision_step\",\n",
    "    tools_condition,\n",
    ")\n",
    "workflow.add_edge(\"tools\", \"llm_decision_step\")\n",
    "react_graph2 = workflow.compile()"
   ]
  },
  {
   "cell_type": "code",
   "execution_count": 122,
   "id": "b413b136",
   "metadata": {},
   "outputs": [
    {
     "data": {
      "image/png": "[encoded data removed]",
      "text/plain": [
       "<IPython.core.display.Image object>"
      ]
     },
     "metadata": {},
     "output_type": "display_data"
    }
   ],
   "source": [
    "display(Image(react_graph2.get_graph(xray=True).draw_mermaid_png()))"
   ]
  },
  {
   "cell_type": "code",
   "execution_count": 123,
   "id": "2006c3b1",
   "metadata": {},
   "outputs": [],
   "source": [
    "messages = [HumanMessage(content=\"add 1000 in the current stock price of Apple.\")]\n",
    "messages = react_graph2.invoke({\"messages\": messages})"
   ]
  },
  {
   "cell_type": "code",
   "execution_count": 124,
   "id": "cc991b38",
   "metadata": {},
   "outputs": [
    {
     "name": "stdout",
     "output_type": "stream",
     "text": [
      "================================\u001b[1m Human Message \u001b[0m=================================\n",
      "\n",
      "add 1000 in the current stock price of Apple.\n",
      "==================================\u001b[1m Ai Message \u001b[0m==================================\n",
      "Tool Calls:\n",
      "  get_stock_price (call_YwoME5BgmrfGuhPpFHET5Y6S)\n",
      " Call ID: call_YwoME5BgmrfGuhPpFHET5Y6S\n",
      "  Args:\n",
      "    ticker: AAPL\n",
      "=================================\u001b[1m Tool Message \u001b[0m=================================\n",
      "Name: get_stock_price\n",
      "\n",
      "The last closing price of AAPL was $207.57.\n",
      "==================================\u001b[1m Ai Message \u001b[0m==================================\n",
      "Tool Calls:\n",
      "  add (call_z1vDT52FIVnJJnMNMtginaxI)\n",
      " Call ID: call_z1vDT52FIVnJJnMNMtginaxI\n",
      "  Args:\n",
      "    a: 207.57\n",
      "    b: 1000\n",
      "=================================\u001b[1m Tool Message \u001b[0m=================================\n",
      "Name: add\n",
      "\n",
      "Error: 1 validation error for add\n",
      "a\n",
      "  Input should be a valid integer, got a number with a fractional part [type=int_from_float, input_value=207.57, input_type=float]\n",
      "    For further information visit https://errors.pydantic.dev/2.11/v/int_from_float\n",
      " Please fix your mistakes.\n",
      "==================================\u001b[1m Ai Message \u001b[0m==================================\n",
      "\n",
      "I made a mistake in assuming the stock price is an integer. Let me correct that and try again.\n",
      "Tool Calls:\n",
      "  add (call_q7yrvpdkBabnDJ1Ll5Dhn8EZ)\n",
      " Call ID: call_q7yrvpdkBabnDJ1Ll5Dhn8EZ\n",
      "  Args:\n",
      "    a: 207\n",
      "    b: 1000\n",
      "=================================\u001b[1m Tool Message \u001b[0m=================================\n",
      "Name: add\n",
      "\n",
      "1207\n",
      "==================================\u001b[1m Ai Message \u001b[0m==================================\n",
      "\n",
      "Adding $1000 to the current stock price of Apple would result in a total of $1207.\n"
     ]
    }
   ],
   "source": [
    "for m in messages['messages']:\n",
    "    m.pretty_print()"
   ]
  },
  {
   "cell_type": "code",
   "execution_count": 125,
   "id": "0d7b1229",
   "metadata": {},
   "outputs": [
    {
     "name": "stderr",
     "output_type": "stream",
     "text": [
      "c:\\Users\\samra\\anaconda3\\envs\\agentic_2_base\\Lib\\site-packages\\langchain_community\\utilities\\duckduckgo_search.py:63: RuntimeWarning: This package (`duckduckgo_search`) has been renamed to `ddgs`! Use `pip install ddgs` instead.\n",
      "  with DDGS() as ddgs:\n"
     ]
    }
   ],
   "source": [
    "messages = [HumanMessage(content=\"can you give me 2 times of current stock price of Apple with the latest news of the Apple.\")]\n",
    "messages = react_graph2.invoke({\"messages\": messages})"
   ]
  },
  {
   "cell_type": "code",
   "execution_count": 126,
   "id": "f8d8b798",
   "metadata": {},
   "outputs": [
    {
     "name": "stdout",
     "output_type": "stream",
     "text": [
      "================================\u001b[1m Human Message \u001b[0m=================================\n",
      "\n",
      "can you give me 2 times of current stock price of Apple with the latest news of the Apple.\n",
      "==================================\u001b[1m Ai Message \u001b[0m==================================\n",
      "Tool Calls:\n",
      "  get_stock_price (call_HtoU1wETnBTZkBXBhIdsWfdy)\n",
      " Call ID: call_HtoU1wETnBTZkBXBhIdsWfdy\n",
      "  Args:\n",
      "    ticker: AAPL\n",
      "=================================\u001b[1m Tool Message \u001b[0m=================================\n",
      "Name: get_stock_price\n",
      "\n",
      "The last closing price of AAPL was $207.57.\n",
      "==================================\u001b[1m Ai Message \u001b[0m==================================\n",
      "Tool Calls:\n",
      "  multiply (call_H4RQUK7X5UNijAsZZ53PF1dX)\n",
      " Call ID: call_H4RQUK7X5UNijAsZZ53PF1dX\n",
      "  Args:\n",
      "    a: 20757\n",
      "    b: 2\n",
      "  duckduckgo_search (call_8GxOt1SA39itDbT6QzSl2sZf)\n",
      " Call ID: call_8GxOt1SA39itDbT6QzSl2sZf\n",
      "  Args:\n",
      "    query: latest news about Apple\n",
      "=================================\u001b[1m Tool Message \u001b[0m=================================\n",
      "Name: multiply\n",
      "\n",
      "41514\n",
      "=================================\u001b[1m Tool Message \u001b[0m=================================\n",
      "Name: duckduckgo_search\n",
      "\n",
      "2 days ago · Latest news headlines from India & around the world. Check out today’s news coverage live with videos & photos on NDTV.com. India News | Latest India News | Read latest and breaking news from India. Today's top India news headlines, news on Indian politics, elections, government, business, technology, and … 2 days ago · Top News Stories of the day, Latest News Headlines, News Specials, Breaking News and Latest India News, World current affairs & Political News all around the clock at … NDTV.com provides latest news from India and around the world. Get breaking news alerts from India and follow today’s live news updates in field of politics, business, technology, Bollywood ... 2 days ago · Today’s Delhi News: Get all the Latest and Breaking Delhi News on NDTV. Live local Delhi news coverage and updates on Politics, Election, Weather, Crime and More\n",
      "==================================\u001b[1m Ai Message \u001b[0m==================================\n",
      "\n",
      "The current stock price of Apple is $207.57. \n",
      "\n",
      "2 times the current stock price of Apple is $415.14.\n",
      "\n",
      "The latest news about Apple can be found on NDTV, including top news stories, breaking news, and updates on politics, technology, and more.\n"
     ]
    }
   ],
   "source": [
    "for m in messages['messages']:\n",
    "    m.pretty_print()"
   ]
  },
  {
   "cell_type": "code",
   "execution_count": null,
   "id": "4210c6e9",
   "metadata": {},
   "outputs": [],
   "source": [
    "next class:\n",
    "1. human in loop\n",
    "2. agentic RAG\n",
    "3. multiagent system(collabation and supervisor)\n",
    "4. some mislionoius concept of the langgraph: sub graph, parllal execution etc"
   ]
  },
  {
   "cell_type": "code",
   "execution_count": null,
   "id": "9c799ef2",
   "metadata": {},
   "outputs": [],
   "source": [
    "Assignment:\n",
    "    \n",
    "AI Travel Agent & Expense Planner(Purpose: Trip planning for any city worldwide with Realtime data.\")\n",
    "\n",
    "• Real-time weather information\n",
    "• Top attractions and activities\n",
    "• Hotel cost calculation (per day × total days)\n",
    "• Currency conversion to user's native currency\n",
    "• Complete itinerary generation\n",
    "• Total expense calculation\n",
    "• generate a summary of the entire output\n",
    "\n",
    "user_input\n",
    "  |\n",
    "search attraction and activity\n",
    "1. search attracation\n",
    "2. search restaurant\n",
    "3. search activity\n",
    "4. search transportation\n",
    "  |\n",
    "search weather forcasting\n",
    "1. get current weather\n",
    "2. get weather forcast\n",
    "  |\n",
    "search hotel costs\n",
    "1. search hotel\n",
    "2. estimate the hotel cost\n",
    "3. budget_range\n",
    "  |\n",
    "calculate total cost\n",
    "1. add\n",
    "2. multiply\n",
    "3. calculated total cost\n",
    "4. calcualte the daily budget\n",
    "    | \n",
    "currency_converion\n",
    "1. get exchnage rate\n",
    "2. convert currancy\n",
    "    | \n",
    "Itinery generation\n",
    "1. get day plan\n",
    "2. crete full itinery\n",
    "    |\n",
    "create Trip Summary\n",
    "    |\n",
    "Retun complete traval plan\n",
    "\n",
    "Note: if you know the OOPS then design this entire system using object and class in modular fashion.\n",
    "\n",
    "\n",
    "deadline is till next friday 9PM IST\n",
    "\n",
    "\n",
    " everyone you can submit the assignments in this form. MAke sure to have one GitHub link and put all the assignments there https://forms.gle/g8RZ4qx8yvNcih4B7    \n",
    "    "
   ]
  }
 ],
 "metadata": {
  "kernelspec": {
   "display_name": "agentic_2_base",
   "language": "python",
   "name": "python3"
  },
  "language_info": {
   "codemirror_mode": {
    "name": "ipython",
    "version": 3
   },
   "file_extension": ".py",
   "mimetype": "text/x-python",
   "name": "python",
   "nbconvert_exporter": "python",
   "pygments_lexer": "ipython3",
   "version": "3.11.12"
  }
 },
 "nbformat": 4,
 "nbformat_minor": 5
}
