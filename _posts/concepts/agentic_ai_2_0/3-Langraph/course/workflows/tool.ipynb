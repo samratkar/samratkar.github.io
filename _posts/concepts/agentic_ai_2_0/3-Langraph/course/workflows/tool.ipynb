{
 "cells": [
  {
   "cell_type": "code",
   "execution_count": 1,
   "id": "6976420c",
   "metadata": {},
   "outputs": [],
   "source": [
    "import os\n",
    "TAVILY_API_KEY=os.getenv(\"TAVILY_API_KEY\")"
   ]
  },
  {
   "cell_type": "code",
   "execution_count": 2,
   "id": "b2a251fd",
   "metadata": {},
   "outputs": [],
   "source": [
    "from langchain_community.tools import WikipediaQueryRun\n",
    "from langchain_community.utilities import WikipediaAPIWrapper\n",
    "from langchain_community.tools import YouTubeSearchTool\n",
    "from langchain_community.tools import tavily_search"
   ]
  },
  {
   "cell_type": "code",
   "execution_count": 3,
   "id": "8d6e3679",
   "metadata": {},
   "outputs": [],
   "source": [
    "# gives summary of top k results from a Wikipedia search\n",
    "api_wrapper = WikipediaAPIWrapper(top_k_results=5, doc_content_chars_max=500)"
   ]
  },
  {
   "cell_type": "code",
   "execution_count": 4,
   "id": "b52c6f55",
   "metadata": {},
   "outputs": [],
   "source": [
    "wiki_tool = WikipediaQueryRun(api_wrapper=api_wrapper)"
   ]
  },
  {
   "cell_type": "code",
   "execution_count": 5,
   "id": "e99c9e76",
   "metadata": {},
   "outputs": [
    {
     "name": "stdout",
     "output_type": "stream",
     "text": [
      "wikipedia\n",
      "A wrapper around Wikipedia. Useful for when you need to answer general questions about people, places, companies, facts, historical events, or other subjects. Input should be a search query.\n",
      "{'query': {'description': 'query to look up on wikipedia', 'title': 'Query', 'type': 'string'}}\n"
     ]
    }
   ],
   "source": [
    "print (wiki_tool.name)\n",
    "print (wiki_tool.description)\n",
    "print (wiki_tool.args)"
   ]
  },
  {
   "cell_type": "code",
   "execution_count": 6,
   "id": "98953786",
   "metadata": {},
   "outputs": [
    {
     "data": {
      "text/plain": [
       "\"Page: Elon Musk\\nSummary: Elon Reeve Musk ( EE-lon; born June 28, 1971) is a businessman known for his leadership of Tesla, SpaceX, X (formerly Twitter) and the Department of Government Efficiency (DOGE). Musk has been considered the wealthiest person in the world since 2021; as of May 2025, Forbes estimates his net worth to be US$424.7 billion. \\nBorn to a wealthy family in Pretoria, South Africa, Musk emigrated in 1989 to Canada. He received bachelor's degrees from the University of Pennsylvania\""
      ]
     },
     "execution_count": 6,
     "metadata": {},
     "output_type": "execute_result"
    }
   ],
   "source": [
    "wiki_tool.run({\"query\": \"Elon Musk\"})"
   ]
  },
  {
   "cell_type": "code",
   "execution_count": 7,
   "id": "ae39b366",
   "metadata": {},
   "outputs": [
    {
     "data": {
      "text/plain": [
       "\"Page: Robin Roberts (newscaster)\\nSummary: Robin Roberts (born November 23, 1960) is an American television broadcaster who co-anchors ABC's Good Morning America.\\nAfter growing up in Mississippi and attending Southeastern Louisiana University, Roberts was a sports anchor for local TV and radio stations. Roberts was a sportscaster on ESPN for 15 years (1990–2005) and the first woman to co-host NFL Primetime. She became co-anchor on Good Morning America in 2005. Roberts was inducted into the Women'\""
      ]
     },
     "execution_count": 7,
     "metadata": {},
     "output_type": "execute_result"
    }
   ],
   "source": [
    "wiki_tool.run(\"Enamor\")"
   ]
  },
  {
   "cell_type": "code",
   "execution_count": 8,
   "id": "856a8a44",
   "metadata": {},
   "outputs": [],
   "source": [
    "tool=YouTubeSearchTool()"
   ]
  },
  {
   "cell_type": "code",
   "execution_count": 9,
   "id": "52e6bad9",
   "metadata": {},
   "outputs": [
    {
     "data": {
      "text/plain": [
       "\"['https://www.youtube.com/shorts/0UuBJMzWlJg', 'https://www.youtube.com/shorts/8YJz5Dnzn5s']\""
      ]
     },
     "execution_count": 9,
     "metadata": {},
     "output_type": "execute_result"
    }
   ],
   "source": [
    "tool.run(\"Elon Musk\")"
   ]
  },
  {
   "cell_type": "code",
   "execution_count": 10,
   "id": "abd68c04",
   "metadata": {},
   "outputs": [],
   "source": [
    "from langchain_community.tools.tavily_search import TavilySearchResults"
   ]
  },
  {
   "cell_type": "code",
   "execution_count": 11,
   "id": "47965188",
   "metadata": {},
   "outputs": [],
   "source": [
    "tool=TavilySearchResults(tavily_api_key=TAVILY_API_KEY)"
   ]
  },
  {
   "cell_type": "code",
   "execution_count": 12,
   "id": "4dca07c0",
   "metadata": {},
   "outputs": [
    {
     "data": {
      "text/plain": [
       "[{'title': \"Several Killed as RCB's Victory Celebration Turns Deadly - YouTube\",\n",
       "  'url': 'https://www.youtube.com/watch?v=gz8chxY7elU',\n",
       "  'content': \"At least 11 people were killed and 30 injured in a stampede outside the Chinnaswamy cricket stadium in Bengaluru. The incident happened during the Royal Challengers' victory celebrations after their first IPL triumph in 18 years. Did the state government underestimate the rush? Were crowd control measures not in place? Palki Sharma tells you.\\n\\n--- [...] soon the fan frenzy turned fatal. The exact details are not clear yet but reports say the rush led to a stampede. At least 11 people were killed, including children, and more than 30 were injured. Like I said, the exact sequence of events is unclear, but these pictures give you an idea. Uh you can see fans climbing up fences and trees. In some places, the police pushed back with force. We will show you the pictures, but as always, viewer discretion is advised. [Applause] [Music] [Applause] Such [...] It was supposed to be a day of pure joy, of celebration and pride. Instead, Bengaluru is in shock today. I'm sure you've seen the news and the pictures. Bengaluru was all decked up for a massive celebration today. Their IPL team had finally won the tournament. The Royal Challengers beat Punjab Kings yesterday. It was their first IPL trophy in 18 years. Now the RCB fans are a very passionate lot. Plus they've been waiting for a win since 2008. So they packed the streets of Bengaluru in\",\n",
       "  'score': 0.8464638},\n",
       " {'title': \"What led to the deadly stampede during RCB's victory celebrations ...\",\n",
       "  'url': 'https://www.youtube.com/watch?v=S5eb3p3kwDc',\n",
       "  'content': '### Description\\n65563 views\\nPosted: 4 Jun 2025\\nBangalore Stampede: RCB’s IPL win brought lakhs to the streets of Bengaluru—but celebration turned into chaos. A stampede near Chinnaswamy Stadium left 11 dead and dozens injured. Miscommunication, crowd mismanagement, and political blame followed. Here’s a breakdown of what happened and why it spiraled out of control.\\n\\n#bangalorestampede #chinnaswamystadium #rcbvictoryparade #rcb #rcbstampede',\n",
       "  'score': 0.8235701},\n",
       " {'title': \"How did celebration of RCB's historic win in IPL spiral into chaos ...\",\n",
       "  'url': 'https://www.thehindu.com/news/national/karnataka/how-did-celebration-of-rcbs-historic-win-in-ipl-spiral-into-chaos-and-crisis-explained/article69668074.ece',\n",
       "  'content': \"A stampede during RCB's victory celebrations in Bengaluru on June 4 claimed 11 lives and left several others with injuries, turning a moment of\",\n",
       "  'score': 0.8080827},\n",
       " {'title': '3 feared dead in stampede at RCB victory celebrations in Bengaluru',\n",
       "  'url': 'https://www.reddit.com/r/Cricket/comments/1l33sse/3_feared_dead_in_stampede_at_rcb_victory/',\n",
       "  'content': \"A tragic day for Indian cricket — over 15 fans lost their lives during RCB's victory parade, not in protest or play, but in celebration. This\",\n",
       "  'score': 0.7781275},\n",
       " {'title': \"Deaths and injuries to fans mar RCB's homecoming in Bengaluru\",\n",
       "  'url': 'https://www.espncricinfo.com/story/rcb-s-felicitation-in-bengaluru-after-winning-ipl-2025-marred-by-deaths-and-injuries-to-fans-1489074',\n",
       "  'content': 'Several police personnel engaged to manage crowds on Wednesday afternoon were seen carrying fans - some of them minors - to hospital amid rain and heavy traffic that had come to a grinding halt, even as RCB\\'s victorious squad held the trophy aloft as celebrations continued in front of at least 25,000 fans who had made it inside the Chinnaswamy Stadium. [...] \"People entered through the gates, and broke them. A stampede took place; no one expected such a huge crowd. Capacity of the stadium is only 35,000, but two-three lakh people have come to participate in the celebration. I\\'m not denying or saying nothing happened, that\\'s why I\\'ve ordered an enquiry. The pain of this tragedy has also erased the joy of victory.\" [...] ![Image 34: Crowds gathered in large numbers for RCB\\'s victory parade, Bengaluru, June 4, 2025](https://img1.hscicdn.com/image/upload/f_auto,t_ds_w_640/lsci/db/PICTURES/CMS/401700/401709.4.jpg)\\n\\nCrowds gathered in large numbers for RCB\\'s victory parade•PTI \\n\\n\"When one organises a victory celebration of this magnitude, proper precautions, safety and security measures need to be taken. There have been some lapses somewhere.\"',\n",
       "  'score': 0.7711725}]"
      ]
     },
     "execution_count": 12,
     "metadata": {},
     "output_type": "execute_result"
    }
   ],
   "source": [
    "tool.invoke(\"what happened in the RCB victory celebration\")"
   ]
  },
  {
   "cell_type": "code",
   "execution_count": 13,
   "id": "ff78c608",
   "metadata": {},
   "outputs": [],
   "source": [
    "from langchain.agents import tool"
   ]
  },
  {
   "cell_type": "code",
   "execution_count": 14,
   "id": "303d7800",
   "metadata": {},
   "outputs": [],
   "source": [
    "@tool \n",
    "def get_word_length(word:str) -> int:\n",
    "    \"\"\"this function is calculating the length of a word\"\"\"\n",
    "    return len(word)"
   ]
  },
  {
   "cell_type": "code",
   "execution_count": 16,
   "id": "328a35ac",
   "metadata": {},
   "outputs": [
    {
     "name": "stdout",
     "output_type": "stream",
     "text": [
      "5\n"
     ]
    },
    {
     "name": "stderr",
     "output_type": "stream",
     "text": [
      "C:\\Users\\samra\\AppData\\Local\\Temp\\ipykernel_39336\\1737144699.py:1: LangChainDeprecationWarning: The method `BaseTool.__call__` was deprecated in langchain-core 0.1.47 and will be removed in 1.0. Use :meth:`~invoke` instead.\n",
      "  print (get_word_length(\"hello\"))\n"
     ]
    }
   ],
   "source": [
    "print (get_word_length(\"hello\"))"
   ]
  },
  {
   "cell_type": "code",
   "execution_count": 17,
   "id": "3322fb3f",
   "metadata": {},
   "outputs": [],
   "source": [
    "@tool\n",
    "def multiply(a:int,b:int)->int:\n",
    "    '''this tool is for the multiplication'''\n",
    "    return a*b"
   ]
  },
  {
   "cell_type": "code",
   "execution_count": 18,
   "id": "55ac6b16",
   "metadata": {},
   "outputs": [
    {
     "data": {
      "text/plain": [
       "200"
      ]
     },
     "execution_count": 18,
     "metadata": {},
     "output_type": "execute_result"
    }
   ],
   "source": [
    "multiply.invoke({\"a\":10,\"b\":20})"
   ]
  },
  {
   "cell_type": "code",
   "execution_count": 19,
   "id": "29fa0eb8",
   "metadata": {},
   "outputs": [
    {
     "data": {
      "text/plain": [
       "{'a': {'title': 'A', 'type': 'integer'},\n",
       " 'b': {'title': 'B', 'type': 'integer'}}"
      ]
     },
     "execution_count": 19,
     "metadata": {},
     "output_type": "execute_result"
    }
   ],
   "source": [
    "multiply.name\n",
    "multiply.description\n",
    "multiply.args"
   ]
  },
  {
   "cell_type": "code",
   "execution_count": 20,
   "id": "4eb36813",
   "metadata": {},
   "outputs": [],
   "source": [
    "def get_word_length(word:str)->int:\n",
    "    return len(word)"
   ]
  }
 ],
 "metadata": {
  "kernelspec": {
   "display_name": "agentic_2_base",
   "language": "python",
   "name": "python3"
  },
  "language_info": {
   "codemirror_mode": {
    "name": "ipython",
    "version": 3
   },
   "file_extension": ".py",
   "mimetype": "text/x-python",
   "name": "python",
   "nbconvert_exporter": "python",
   "pygments_lexer": "ipython3",
   "version": "3.11.12"
  }
 },
 "nbformat": 4,
 "nbformat_minor": 5
}
