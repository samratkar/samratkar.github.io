{
 "cells": [
  {
   "cell_type": "code",
   "execution_count": 72,
   "id": "80202802",
   "metadata": {},
   "outputs": [],
   "source": [
    "import operator\n",
    "from typing import List\n",
    "from pydantic import BaseModel , Field\n",
    "from langchain.prompts import PromptTemplate\n",
    "from typing import TypedDict, Annotated, Sequence\n",
    "from langchain_core.messages import BaseMessage\n",
    "from langchain_core.output_parsers import StrOutputParser\n",
    "from langchain_core.prompts import ChatPromptTemplate, PromptTemplate\n",
    "from langchain_core.runnables import RunnablePassthrough\n",
    "from langchain_core.messages import HumanMessage, AIMessage\n",
    "from langgraph.graph import StateGraph,END\n",
    "from IPython.display import Image, display\n",
    "from langchain_community.document_loaders import TextLoader, DirectoryLoader\n",
    "from langchain_community.vectorstores import Chroma\n",
    "from langchain.text_splitter import RecursiveCharacterTextSplitter\n",
    "from langchain.output_parsers import PydanticOutputParser\n",
    "from typing import TypedDict, Annotated, Sequence\n",
    "from langchain_core.messages import BaseMessage\n",
    "import operator\n",
    "import asyncio\n",
    "import json\n",
    "import uuid\n",
    "import websockets\n",
    "from typing import Dict, List, Any, Optional\n",
    "\n",
    "## tools related libraries \n",
    "from langchain_core.tools import tool\n",
    "from langchain_core.messages import HumanMessage, AIMessage\n",
    "from langgraph.graph import StateGraph,MessagesState,START,END\n",
    "from langgraph.prebuilt import ToolNode"
   ]
  },
  {
   "cell_type": "code",
   "execution_count": 73,
   "id": "78a2563f",
   "metadata": {},
   "outputs": [],
   "source": [
    "\n",
    "def llm_with_mcp_demo(user_query: str):\n",
    "    \"\"\"return the weather data\"\"\"  \n",
    "    return \"27 degree celsius\"\n"
   ]
  },
  {
   "cell_type": "code",
   "execution_count": 74,
   "id": "a947bde6",
   "metadata": {},
   "outputs": [],
   "source": [
    "# RAG Function\n",
    "@tool\n",
    "def function_2(state:MessagesState):\n",
    "    \"\"\"this is my custom tool for serving RAG Call. It retrieves relevant documents from the vector store and generates a concise answer based on the retrieved context. This is to be called when Supervisor returns \"USA\" \"\"\"\n",
    "    \n",
    "    print(\"-> RAG Call ->\")\n",
    "    \n",
    "    question = state[\"messages\"][0].content\n",
    "    \n",
    "    prompt=PromptTemplate(\n",
    "        template=\"\"\"You are an assistant for question-answering tasks. Use the following pieces of retrieved context to answer the question. If you don't know the answer, just say that you don't know. Use three sentences maximum and keep the answer concise.\\nQuestion: {question} \\nContext: {context} \\nAnswer:\"\"\",\n",
    "        \n",
    "        input_variables=['context', 'question']\n",
    "    )\n",
    "    \n",
    "    rag_chain = (\n",
    "        {\"context\": retriever | format_docs, \"question\": RunnablePassthrough()}\n",
    "        | prompt\n",
    "        | model\n",
    "        | StrOutputParser()\n",
    "    )\n",
    "    result = rag_chain.invoke(question)\n",
    "    ## return {\"messages\": [MessagesState(content=result)]}\n",
    "    return result"
   ]
  },
  {
   "cell_type": "code",
   "execution_count": 75,
   "id": "11bdffb9",
   "metadata": {},
   "outputs": [],
   "source": [
    "# LLM Function\n",
    "@tool\n",
    "def function_3(state:MessagesState):\n",
    "    \"\"\"this is my custom tool for calling the LLM when neither usa nor weather is the topic. This is to be called when Supervisor returns \"Not Related\" \"\"\" \n",
    "    \n",
    "    print(\"-> LLM Call ->\")\n",
    "    question = state[\"messages\"][0].content\n",
    "    \n",
    "    # Normal LLM call\n",
    "    complete_query = \"Answer the following question with you knowledge of the real world. Following is the user question: \" + question\n",
    "    response = model.invoke(complete_query)\n",
    "    return response.content"
   ]
  },
  {
   "cell_type": "code",
   "execution_count": 76,
   "id": "33c9be2f",
   "metadata": {},
   "outputs": [],
   "source": [
    "# weather tool\n",
    "@tool\n",
    "def function_4(state:MessagesState):\n",
    "    \"\"\"this is my custom tool for searching a weather. This is to be called when Supervisor returns \"Weather\" \"\"\"\n",
    "    print(\"-> Weather Call ->\")\n",
    "    question = state[\"messages\"][0].content\n",
    "    \n",
    "    # Normal LLM call\n",
    "    # complete_query = \"Answer the follow question with you knowledge of the real # world. Following is the user question: \" + question\n",
    "    #response = model.invoke(complete_query)\n",
    "    response = llm_with_mcp_demo(question)\n",
    "    return response"
   ]
  },
  {
   "cell_type": "code",
   "execution_count": 77,
   "id": "5ea08662",
   "metadata": {},
   "outputs": [
    {
     "name": "stdout",
     "output_type": "stream",
     "text": [
      "India's capital is New Delhi, which serves as the seat of the Government of India. It is located in the northern part of the country and is a bustling metropolis known for its rich history, diverse culture, and vibrant atmosphere. New Delhi is home to important government buildings, including the Parliament House, the Presidential Residence (Rashtrapati Bhavan), and the Prime Minister's Office. The city is also known for its iconic landmarks such as India Gate, Qutub Minar, Lotus Temple, and Humayun's Tomb. New Delhi is a major political, cultural, and economic center in India, attracting visitors from around the world.\n"
     ]
    }
   ],
   "source": [
    "from langchain_openai import ChatOpenAI\n",
    "model=ChatOpenAI(model='gpt-3.5-turbo')\n",
    "output = model.invoke(\"can you tell me about the india's capital?\")\n",
    "print(output.content)"
   ]
  },
  {
   "cell_type": "code",
   "execution_count": 78,
   "id": "6e3feb68",
   "metadata": {},
   "outputs": [],
   "source": [
    "tools=[function_2, function_3, function_4]\n",
    "llm_with_tool=model.bind_tools(tools)"
   ]
  },
  {
   "cell_type": "code",
   "execution_count": 79,
   "id": "23c606e8",
   "metadata": {},
   "outputs": [
    {
     "name": "stderr",
     "output_type": "stream",
     "text": [
      "c:\\Users\\samra\\anaconda3\\envs\\agentic_2_base\\Lib\\site-packages\\huggingface_hub\\file_download.py:943: FutureWarning: `resume_download` is deprecated and will be removed in version 1.0.0. Downloads always resume when possible. If you want to force a new download, use `force_download=True`.\n",
      "  warnings.warn(\n"
     ]
    }
   ],
   "source": [
    "# configuring the embedding model\n",
    "from langchain_huggingface import HuggingFaceEmbeddings\n",
    "embeddings = HuggingFaceEmbeddings(\n",
    "    model_name=\"BAAI/bge-small-en\"\n",
    ")"
   ]
  },
  {
   "cell_type": "code",
   "execution_count": 80,
   "id": "6a5ce975",
   "metadata": {},
   "outputs": [],
   "source": [
    "loader=DirectoryLoader(\"../data2\",glob=\"./*.txt\",loader_cls=TextLoader)\n",
    "docs=loader.load()"
   ]
  },
  {
   "cell_type": "code",
   "execution_count": 81,
   "id": "4b445b25",
   "metadata": {},
   "outputs": [],
   "source": [
    "## chunk size to be lesser than context window size of the model\n",
    "## overlapping is not necessary if there are logic delimiter in the text. if there is a passage that is related to each other, without headers etc. in that case overlapping is useful. \n",
    "## heirarchical chunking helps to keep the heirarchical structure of the text, so that the model can understand the context better.\n",
    "text_splitter=RecursiveCharacterTextSplitter(\n",
    "    chunk_size=200,\n",
    "    chunk_overlap=50\n",
    ")"
   ]
  },
  {
   "cell_type": "code",
   "execution_count": 82,
   "id": "59dc6f94",
   "metadata": {},
   "outputs": [],
   "source": [
    "new_docs=text_splitter.split_documents(documents=docs)"
   ]
  },
  {
   "cell_type": "code",
   "execution_count": 83,
   "id": "1892a48b",
   "metadata": {},
   "outputs": [
    {
     "name": "stdout",
     "output_type": "stream",
     "text": [
      "[Document(metadata={'source': '..\\\\data2\\\\usa.txt'}, page_content='🇺🇸 Overview of the U.S. Economy'), Document(metadata={'source': '..\\\\data2\\\\usa.txt'}, page_content='The United States of America possesses the largest economy in the world in terms of nominal GDP, making it the most powerful economic force globally. It operates under a capitalist mixed economy,'), Document(metadata={'source': '..\\\\data2\\\\usa.txt'}, page_content='It operates under a capitalist mixed economy, where the private sector dominates, but the government plays a significant regulatory and fiscal role. With a population of over 335 million people and a'), Document(metadata={'source': '..\\\\data2\\\\usa.txt'}, page_content='a population of over 335 million people and a high level of technological advancement, the U.S. economy thrives on a foundation of consumer spending, innovation, global trade, and financial services.'), Document(metadata={'source': '..\\\\data2\\\\usa.txt'}, page_content='innovation, global trade, and financial services. It has a highly diversified structure with strong sectors in technology, healthcare, finance, real estate, defense, and agriculture.'), Document(metadata={'source': '..\\\\data2\\\\usa.txt'}, page_content='U.S. GDP – Size, Composition, and Global Share'), Document(metadata={'source': '..\\\\data2\\\\usa.txt'}, page_content='As of 2024, the United States’ nominal GDP is estimated to be around $28 trillion USD, accounting for approximately 25% of the global economy. It ranks #1 in the world by nominal GDP, far ahead of'), Document(metadata={'source': '..\\\\data2\\\\usa.txt'}, page_content='#1 in the world by nominal GDP, far ahead of China (which ranks 2nd). The U.S. GDP per capita is also among the highest, hovering around $83,000, which indicates a high standard of living and'), Document(metadata={'source': '..\\\\data2\\\\usa.txt'}, page_content='which indicates a high standard of living and productivity. In terms of Purchasing Power Parity (PPP), the U.S. ranks second, but nominal GDP is considered more reflective of actual economic size and'), Document(metadata={'source': '..\\\\data2\\\\usa.txt'}, page_content='more reflective of actual economic size and financial influence.'), Document(metadata={'source': '..\\\\data2\\\\usa.txt'}, page_content='The GDP is predominantly driven by the services sector, which contributes more than 77% to the total GDP. This includes industries such as finance, insurance, real estate, healthcare, education, and'), Document(metadata={'source': '..\\\\data2\\\\usa.txt'}, page_content='real estate, healthcare, education, and information technology. The industrial sector (manufacturing, construction, mining) makes up around 19%, while agriculture, although technologically advanced'), Document(metadata={'source': '..\\\\data2\\\\usa.txt'}, page_content='agriculture, although technologically advanced and export-oriented, contributes only about 1%. Despite its small share in GDP, U.S. agriculture is globally significant in terms of productivity and'), Document(metadata={'source': '..\\\\data2\\\\usa.txt'}, page_content='globally significant in terms of productivity and exports.'), Document(metadata={'source': '..\\\\data2\\\\usa.txt'}, page_content='GDP Growth Trends and Dynamics'), Document(metadata={'source': '..\\\\data2\\\\usa.txt'}, page_content='Historically, the U.S. economy has enjoyed consistent long-term growth, averaging around 2-3% annually. Post-pandemic, the economy bounced back strongly, but 2022 and 2023 saw rising inflation due to'), Document(metadata={'source': '..\\\\data2\\\\usa.txt'}, page_content='but 2022 and 2023 saw rising inflation due to supply chain issues and stimulus-driven demand. In 2024, the U.S. GDP grew at a modest pace of around 2.1%, as the Federal Reserve’s interest rate hikes'), Document(metadata={'source': '..\\\\data2\\\\usa.txt'}, page_content='as the Federal Reserve’s interest rate hikes aimed at controlling inflation also moderated economic expansion. Consumer spending, which makes up nearly 70% of GDP, remains a dominant force in'), Document(metadata={'source': '..\\\\data2\\\\usa.txt'}, page_content='up nearly 70% of GDP, remains a dominant force in economic stability.'), Document(metadata={'source': '..\\\\data2\\\\usa.txt'}, page_content='The U.S. maintains its GDP growth through strong innovation, entrepreneurship, and investment in R&D. With companies like Apple, Google, Amazon, Microsoft, and Tesla leading global markets, the U.S.'), Document(metadata={'source': '..\\\\data2\\\\usa.txt'}, page_content='and Tesla leading global markets, the U.S. consistently produces high value across sectors, especially in technology and advanced services. Additionally, the economy benefits from intellectual'), Document(metadata={'source': '..\\\\data2\\\\usa.txt'}, page_content='the economy benefits from intellectual property exports, financial services, and higher education, all of which contribute significantly to GDP through both domestic and international markets.'), Document(metadata={'source': '..\\\\data2\\\\usa.txt'}, page_content='Role in the Global Economy'), Document(metadata={'source': '..\\\\data2\\\\usa.txt'}, page_content='The U.S. Dollar (USD) is the global reserve currency, held by over 60% of the world’s central bank reserves. This gives the U.S. an enormous advantage in global trade and borrowing. The U.S. is a key'), Document(metadata={'source': '..\\\\data2\\\\usa.txt'}, page_content='in global trade and borrowing. The U.S. is a key member of international institutions like the World Bank, IMF, G7, G20, and WTO, and plays a central role in setting global economic policy.'), Document(metadata={'source': '..\\\\data2\\\\usa.txt'}, page_content=\"As a global innovation hub, the U.S. attracts billions in foreign investment and hosts many of the world's largest and most valuable companies. Its exports include high-tech machinery, aircraft,\"), Document(metadata={'source': '..\\\\data2\\\\usa.txt'}, page_content='exports include high-tech machinery, aircraft, pharmaceuticals, semiconductors, and financial services, while its imports cover consumer goods, electronics, automobiles, and industrial materials. The'), Document(metadata={'source': '..\\\\data2\\\\usa.txt'}, page_content='automobiles, and industrial materials. The trade deficit remains large (around $900 billion in 2024), primarily because the U.S. consumes more than it exports, but its ability to finance this through'), Document(metadata={'source': '..\\\\data2\\\\usa.txt'}, page_content='exports, but its ability to finance this through capital inflows and reserve currency status sustains balance.'), Document(metadata={'source': '..\\\\data2\\\\usa.txt'}, page_content='Key Economic Strengths'), Document(metadata={'source': '..\\\\data2\\\\usa.txt'}, page_content='The core strength of the U.S. economy lies in its flexible labor market, deep capital markets, technological superiority, and legal system that encourages innovation and property rights. It has a'), Document(metadata={'source': '..\\\\data2\\\\usa.txt'}, page_content='innovation and property rights. It has a large, highly educated workforce, a diverse immigration pipeline, and access to vast natural resources including oil, gas, coal, and farmland. The presence of'), Document(metadata={'source': '..\\\\data2\\\\usa.txt'}, page_content='oil, gas, coal, and farmland. The presence of top-tier universities and research institutions fuels the knowledge economy, with billions spent annually on R&D—over $700 billion USD, more than any'), Document(metadata={'source': '..\\\\data2\\\\usa.txt'}, page_content='on R&D—over $700 billion USD, more than any other country.'), Document(metadata={'source': '..\\\\data2\\\\usa.txt'}, page_content='The U.S. leads in many critical sectors, including software, biotechnology, aerospace, defense, financial services, and media. Its startup ecosystem, especially in Silicon Valley, produces unicorns'), Document(metadata={'source': '..\\\\data2\\\\usa.txt'}, page_content='especially in Silicon Valley, produces unicorns and tech giants at a scale unmatched globally. Its financial markets—particularly Wall Street—are the most liquid and globally integrated in the world.'), Document(metadata={'source': '..\\\\data2\\\\usa.txt'}, page_content='Challenges and Structural Issues'), Document(metadata={'source': '..\\\\data2\\\\usa.txt'}, page_content='Despite its strength, the U.S. economy faces several serious long-term issues. The national debt has surpassed $34 trillion USD, raising concerns about fiscal sustainability, especially as interest'), Document(metadata={'source': '..\\\\data2\\\\usa.txt'}, page_content='fiscal sustainability, especially as interest payments alone are growing rapidly. The income and wealth inequality gap has widened, with a small percentage of Americans owning a disproportionate'), Document(metadata={'source': '..\\\\data2\\\\usa.txt'}, page_content='percentage of Americans owning a disproportionate share of wealth. Access to affordable healthcare, housing shortages, and a declining labor force participation in some sectors are additional'), Document(metadata={'source': '..\\\\data2\\\\usa.txt'}, page_content='participation in some sectors are additional structural issues.'), Document(metadata={'source': '..\\\\data2\\\\usa.txt'}, page_content='Another growing concern is political polarization, which often stalls crucial economic reforms and budget agreements, as seen in recurrent debt ceiling crises. The U.S. also faces challenges from'), Document(metadata={'source': '..\\\\data2\\\\usa.txt'}, page_content='crises. The U.S. also faces challenges from global competition, especially from China in areas like AI, semiconductors, and green technology. Moreover, climate change, cybersecurity threats, and'), Document(metadata={'source': '..\\\\data2\\\\usa.txt'}, page_content='climate change, cybersecurity threats, and geopolitical risks (like Ukraine and Taiwan conflicts) add layers of vulnerability to economic planning.'), Document(metadata={'source': '..\\\\data2\\\\usa.txt'}, page_content='Future Outlook (2025–2030)'), Document(metadata={'source': '..\\\\data2\\\\usa.txt'}, page_content='Looking forward, the U.S. economy is expected to grow at a moderate pace, powered by innovation in AI, green energy, robotics, biotech, and quantum computing. The Biden administration’s Inflation'), Document(metadata={'source': '..\\\\data2\\\\usa.txt'}, page_content='computing. The Biden administration’s Inflation Reduction Act and CHIPS Act are pumping massive investments into semiconductors, clean energy, and infrastructure. There is a strong push for reshoring'), Document(metadata={'source': '..\\\\data2\\\\usa.txt'}, page_content='There is a strong push for reshoring of manufacturing, especially in critical sectors like chips, pharmaceuticals, and batteries.'), Document(metadata={'source': '..\\\\data2\\\\usa.txt'}, page_content='However, economic leadership will depend on managing the national debt, reforming entitlement programs, upgrading infrastructure, and ensuring the next generation is equipped with digital-age skills.'), Document(metadata={'source': '..\\\\data2\\\\usa.txt'}, page_content='generation is equipped with digital-age skills. If the U.S. can handle these challenges, it is well-positioned to remain a global economic powerhouse through 2030 and beyond.'), Document(metadata={'source': '..\\\\data2\\\\usa.txt'}, page_content='Final Summary'), Document(metadata={'source': '..\\\\data2\\\\usa.txt'}, page_content='The U.S. economy remains the engine of global growth, backed by unmatched innovation, financial dominance, and a strong institutional framework. Its $28 trillion GDP and influence over global'), Document(metadata={'source': '..\\\\data2\\\\usa.txt'}, page_content='Its $28 trillion GDP and influence over global finance, trade, and technology make it the centerpiece of the modern economic system. Yet, rising debt, inequality, political gridlock, and competition'), Document(metadata={'source': '..\\\\data2\\\\usa.txt'}, page_content='inequality, political gridlock, and competition from emerging powers demand careful policy navigation. If successfully addressed, the U.S. will continue to dominate the global economy well into the'), Document(metadata={'source': '..\\\\data2\\\\usa.txt'}, page_content='to dominate the global economy well into the future.')]\n"
     ]
    }
   ],
   "source": [
    "print(new_docs)"
   ]
  },
  {
   "cell_type": "code",
   "execution_count": 84,
   "id": "04ec0e38",
   "metadata": {},
   "outputs": [
    {
     "name": "stdout",
     "output_type": "stream",
     "text": [
      "['🇺🇸 Overview of the U.S. Economy', 'The United States of America possesses the largest economy in the world in terms of nominal GDP, making it the most powerful economic force globally. It operates under a capitalist mixed economy,', 'It operates under a capitalist mixed economy, where the private sector dominates, but the government plays a significant regulatory and fiscal role. With a population of over 335 million people and a', 'a population of over 335 million people and a high level of technological advancement, the U.S. economy thrives on a foundation of consumer spending, innovation, global trade, and financial services.', 'innovation, global trade, and financial services. It has a highly diversified structure with strong sectors in technology, healthcare, finance, real estate, defense, and agriculture.', 'U.S. GDP – Size, Composition, and Global Share', 'As of 2024, the United States’ nominal GDP is estimated to be around $28 trillion USD, accounting for approximately 25% of the global economy. It ranks #1 in the world by nominal GDP, far ahead of', '#1 in the world by nominal GDP, far ahead of China (which ranks 2nd). The U.S. GDP per capita is also among the highest, hovering around $83,000, which indicates a high standard of living and', 'which indicates a high standard of living and productivity. In terms of Purchasing Power Parity (PPP), the U.S. ranks second, but nominal GDP is considered more reflective of actual economic size and', 'more reflective of actual economic size and financial influence.', 'The GDP is predominantly driven by the services sector, which contributes more than 77% to the total GDP. This includes industries such as finance, insurance, real estate, healthcare, education, and', 'real estate, healthcare, education, and information technology. The industrial sector (manufacturing, construction, mining) makes up around 19%, while agriculture, although technologically advanced', 'agriculture, although technologically advanced and export-oriented, contributes only about 1%. Despite its small share in GDP, U.S. agriculture is globally significant in terms of productivity and', 'globally significant in terms of productivity and exports.', 'GDP Growth Trends and Dynamics', 'Historically, the U.S. economy has enjoyed consistent long-term growth, averaging around 2-3% annually. Post-pandemic, the economy bounced back strongly, but 2022 and 2023 saw rising inflation due to', 'but 2022 and 2023 saw rising inflation due to supply chain issues and stimulus-driven demand. In 2024, the U.S. GDP grew at a modest pace of around 2.1%, as the Federal Reserve’s interest rate hikes', 'as the Federal Reserve’s interest rate hikes aimed at controlling inflation also moderated economic expansion. Consumer spending, which makes up nearly 70% of GDP, remains a dominant force in', 'up nearly 70% of GDP, remains a dominant force in economic stability.', 'The U.S. maintains its GDP growth through strong innovation, entrepreneurship, and investment in R&D. With companies like Apple, Google, Amazon, Microsoft, and Tesla leading global markets, the U.S.', 'and Tesla leading global markets, the U.S. consistently produces high value across sectors, especially in technology and advanced services. Additionally, the economy benefits from intellectual', 'the economy benefits from intellectual property exports, financial services, and higher education, all of which contribute significantly to GDP through both domestic and international markets.', 'Role in the Global Economy', 'The U.S. Dollar (USD) is the global reserve currency, held by over 60% of the world’s central bank reserves. This gives the U.S. an enormous advantage in global trade and borrowing. The U.S. is a key', 'in global trade and borrowing. The U.S. is a key member of international institutions like the World Bank, IMF, G7, G20, and WTO, and plays a central role in setting global economic policy.', \"As a global innovation hub, the U.S. attracts billions in foreign investment and hosts many of the world's largest and most valuable companies. Its exports include high-tech machinery, aircraft,\", 'exports include high-tech machinery, aircraft, pharmaceuticals, semiconductors, and financial services, while its imports cover consumer goods, electronics, automobiles, and industrial materials. The', 'automobiles, and industrial materials. The trade deficit remains large (around $900 billion in 2024), primarily because the U.S. consumes more than it exports, but its ability to finance this through', 'exports, but its ability to finance this through capital inflows and reserve currency status sustains balance.', 'Key Economic Strengths', 'The core strength of the U.S. economy lies in its flexible labor market, deep capital markets, technological superiority, and legal system that encourages innovation and property rights. It has a', 'innovation and property rights. It has a large, highly educated workforce, a diverse immigration pipeline, and access to vast natural resources including oil, gas, coal, and farmland. The presence of', 'oil, gas, coal, and farmland. The presence of top-tier universities and research institutions fuels the knowledge economy, with billions spent annually on R&D—over $700 billion USD, more than any', 'on R&D—over $700 billion USD, more than any other country.', 'The U.S. leads in many critical sectors, including software, biotechnology, aerospace, defense, financial services, and media. Its startup ecosystem, especially in Silicon Valley, produces unicorns', 'especially in Silicon Valley, produces unicorns and tech giants at a scale unmatched globally. Its financial markets—particularly Wall Street—are the most liquid and globally integrated in the world.', 'Challenges and Structural Issues', 'Despite its strength, the U.S. economy faces several serious long-term issues. The national debt has surpassed $34 trillion USD, raising concerns about fiscal sustainability, especially as interest', 'fiscal sustainability, especially as interest payments alone are growing rapidly. The income and wealth inequality gap has widened, with a small percentage of Americans owning a disproportionate', 'percentage of Americans owning a disproportionate share of wealth. Access to affordable healthcare, housing shortages, and a declining labor force participation in some sectors are additional', 'participation in some sectors are additional structural issues.', 'Another growing concern is political polarization, which often stalls crucial economic reforms and budget agreements, as seen in recurrent debt ceiling crises. The U.S. also faces challenges from', 'crises. The U.S. also faces challenges from global competition, especially from China in areas like AI, semiconductors, and green technology. Moreover, climate change, cybersecurity threats, and', 'climate change, cybersecurity threats, and geopolitical risks (like Ukraine and Taiwan conflicts) add layers of vulnerability to economic planning.', 'Future Outlook (2025–2030)', 'Looking forward, the U.S. economy is expected to grow at a moderate pace, powered by innovation in AI, green energy, robotics, biotech, and quantum computing. The Biden administration’s Inflation', 'computing. The Biden administration’s Inflation Reduction Act and CHIPS Act are pumping massive investments into semiconductors, clean energy, and infrastructure. There is a strong push for reshoring', 'There is a strong push for reshoring of manufacturing, especially in critical sectors like chips, pharmaceuticals, and batteries.', 'However, economic leadership will depend on managing the national debt, reforming entitlement programs, upgrading infrastructure, and ensuring the next generation is equipped with digital-age skills.', 'generation is equipped with digital-age skills. If the U.S. can handle these challenges, it is well-positioned to remain a global economic powerhouse through 2030 and beyond.', 'Final Summary', 'The U.S. economy remains the engine of global growth, backed by unmatched innovation, financial dominance, and a strong institutional framework. Its $28 trillion GDP and influence over global', 'Its $28 trillion GDP and influence over global finance, trade, and technology make it the centerpiece of the modern economic system. Yet, rising debt, inequality, political gridlock, and competition', 'inequality, political gridlock, and competition from emerging powers demand careful policy navigation. If successfully addressed, the U.S. will continue to dominate the global economy well into the', 'to dominate the global economy well into the future.']\n"
     ]
    }
   ],
   "source": [
    "doc_string=[doc.page_content for doc in new_docs]\n",
    "print(doc_string)"
   ]
  },
  {
   "cell_type": "code",
   "execution_count": 85,
   "id": "f2f10b9f",
   "metadata": {},
   "outputs": [],
   "source": [
    "db=Chroma.from_documents(new_docs,embeddings)"
   ]
  },
  {
   "cell_type": "code",
   "execution_count": 86,
   "id": "db04ae54",
   "metadata": {},
   "outputs": [
    {
     "data": {
      "text/plain": [
       "384"
      ]
     },
     "execution_count": 86,
     "metadata": {},
     "output_type": "execute_result"
    }
   ],
   "source": [
    "len(embeddings.embed_query(\"hello world\"))"
   ]
  },
  {
   "cell_type": "code",
   "execution_count": 87,
   "id": "57bda2ee",
   "metadata": {},
   "outputs": [],
   "source": [
    "retriever=db.as_retriever(search_kwargs={\"k\": 3})"
   ]
  },
  {
   "cell_type": "code",
   "execution_count": 88,
   "id": "71de350a",
   "metadata": {},
   "outputs": [
    {
     "data": {
      "text/plain": [
       "[Document(metadata={'source': '..\\\\data2\\\\usa.txt'}, page_content='Looking forward, the U.S. economy is expected to grow at a moderate pace, powered by innovation in AI, green energy, robotics, biotech, and quantum computing. The Biden administration’s Inflation'),\n",
       " Document(metadata={'source': '..\\\\data2\\\\usa.txt'}, page_content='Looking forward, the U.S. economy is expected to grow at a moderate pace, powered by innovation in AI, green energy, robotics, biotech, and quantum computing. The Biden administration’s Inflation'),\n",
       " Document(metadata={'source': '..\\\\data2\\\\usa.txt'}, page_content='🇺🇸 Overview of the U.S. Economy')]"
      ]
     },
     "execution_count": 88,
     "metadata": {},
     "output_type": "execute_result"
    }
   ],
   "source": [
    "retriever.invoke(\"industrial growth of usa?\")"
   ]
  },
  {
   "cell_type": "code",
   "execution_count": 89,
   "id": "bdbca52a",
   "metadata": {},
   "outputs": [],
   "source": [
    "from pydantic import BaseModel, Field"
   ]
  },
  {
   "cell_type": "code",
   "execution_count": 90,
   "id": "faaa207d",
   "metadata": {},
   "outputs": [],
   "source": [
    "# pydantic class \n",
    "class TopicSelectionParser(BaseModel):\n",
    "    topic: str = Field(description =\"The topic to be selected for the workflow\")\n",
    "    reasoning: str = Field(description=\"The reasoning behind the topic selection\")"
   ]
  },
  {
   "cell_type": "code",
   "execution_count": 91,
   "id": "a62b88f1",
   "metadata": {},
   "outputs": [],
   "source": [
    "parser = PydanticOutputParser(pydantic_object=TopicSelectionParser)"
   ]
  },
  {
   "cell_type": "code",
   "execution_count": 92,
   "id": "fe926a66",
   "metadata": {},
   "outputs": [
    {
     "data": {
      "text/plain": [
       "'The output should be formatted as a JSON instance that conforms to the JSON schema below.\\n\\nAs an example, for the schema {\"properties\": {\"foo\": {\"title\": \"Foo\", \"description\": \"a list of strings\", \"type\": \"array\", \"items\": {\"type\": \"string\"}}}, \"required\": [\"foo\"]}\\nthe object {\"foo\": [\"bar\", \"baz\"]} is a well-formatted instance of the schema. The object {\"properties\": {\"foo\": [\"bar\", \"baz\"]}} is not well-formatted.\\n\\nHere is the output schema:\\n```\\n{\"properties\": {\"topic\": {\"description\": \"The topic to be selected for the workflow\", \"title\": \"Topic\", \"type\": \"string\"}, \"reasoning\": {\"description\": \"The reasoning behind the topic selection\", \"title\": \"Reasoning\", \"type\": \"string\"}}, \"required\": [\"topic\", \"reasoning\"]}\\n```'"
      ]
     },
     "execution_count": 92,
     "metadata": {},
     "output_type": "execute_result"
    }
   ],
   "source": [
    "parser.get_format_instructions()"
   ]
  },
  {
   "cell_type": "code",
   "execution_count": 93,
   "id": "a99e6b37",
   "metadata": {},
   "outputs": [],
   "source": [
    "## The LLM will automatically classify and spit out the category name as mentioned in the template. \n",
    "def function_1(state:MessagesState):\n",
    "    \"\"\"Router that triggers appropriate tool calls\"\"\"\n",
    "    \n",
    "    question = state[\"messages\"][-1].content\n",
    "    print(f\"function_1 is called with question: {question}\")\n",
    "    \n",
    "    # Create a prompt that will make LLM decide which tool to call\n",
    "    tool_prompt = f\"\"\"You need to help answer this question: {question}\n",
    "\n",
    "You have access to these tools:\n",
    "- function_2: For USA-related questions (GDP, economy, etc.)\n",
    "- function_3: For general knowledge questions\n",
    "- function_4: For weather-related questions\n",
    "\n",
    "Please call the appropriate tool to answer the question.\n",
    "\n",
    "CRITICAL: Call EXACTLY ONE tool. Choose the MOST RELEVANT tool and call ONLY that tool. \n",
    "Do not call multiple tools.\"\"\"\n",
    "    \n",
    "    # Use LLM with tools to decide which tool to call\n",
    "    response = llm_with_tool.invoke([HumanMessage(content=tool_prompt)])\n",
    "    \n",
    "    return {\"messages\": [response]}  # This will have tool_calls if LLM decides to use tools"
   ]
  },
  {
   "cell_type": "code",
   "execution_count": 94,
   "id": "41ee8ae8",
   "metadata": {},
   "outputs": [
    {
     "name": "stdout",
     "output_type": "stream",
     "text": [
      "{'messages': [HumanMessage(content=\"what is today's weather?\", additional_kwargs={}, response_metadata={})]}\n"
     ]
    }
   ],
   "source": [
    "state : MessagesState = MessagesState(messages=[HumanMessage(content=\"what is today's weather?\")])\n",
    "print (state)"
   ]
  },
  {
   "cell_type": "code",
   "execution_count": null,
   "id": "e07378fb",
   "metadata": {},
   "outputs": [
    {
     "name": "stdout",
     "output_type": "stream",
     "text": [
      "function_1 is called with question: what is today's weather?\n"
     ]
    },
    {
     "data": {
      "text/plain": [
       "{'messages': [AIMessage(content='', additional_kwargs={'tool_calls': [{'id': 'call_G3uD8PD9qBPq43MqCyKHAjmx', 'function': {'arguments': '{\"state\":{\"messages\":[{\"content\":\"What is today\\'s weather?\",\"type\":\"human\"}]}}', 'name': 'function_4'}, 'type': 'function'}], 'refusal': None}, response_metadata={'token_usage': {'completion_tokens': 30, 'prompt_tokens': 9961, 'total_tokens': 9991, 'completion_tokens_details': {'accepted_prediction_tokens': 0, 'audio_tokens': 0, 'reasoning_tokens': 0, 'rejected_prediction_tokens': 0}, 'prompt_tokens_details': {'audio_tokens': 0, 'cached_tokens': 0}}, 'model_name': 'gpt-3.5-turbo-0125', 'system_fingerprint': None, 'id': 'chatcmpl-Bytfx4vJgUulC6zBtRiOcPE0GcOsy', 'service_tier': 'default', 'finish_reason': 'tool_calls', 'logprobs': None}, id='run--bfb3f56b-a594-44e6-9ae7-dac1b48f66e7-0', tool_calls=[{'name': 'function_4', 'args': {'state': {'messages': [{'content': \"What is today's weather?\", 'type': 'human'}]}}, 'id': 'call_G3uD8PD9qBPq43MqCyKHAjmx', 'type': 'tool_call'}], usage_metadata={'input_tokens': 9961, 'output_tokens': 30, 'total_tokens': 9991, 'input_token_details': {'audio': 0, 'cache_read': 0}, 'output_token_details': {'audio': 0, 'reasoning': 0}})]}"
      ]
     },
     "execution_count": 95,
     "metadata": {},
     "output_type": "execute_result"
    }
   ],
   "source": [
    "## since function_1 is tools annotated, the final message will show null. it will only return toolMessage to the LLM within the workflow. \n",
    "function_1(state)"
   ]
  },
  {
   "cell_type": "code",
   "execution_count": 96,
   "id": "16557763",
   "metadata": {},
   "outputs": [],
   "source": [
    "state={\"messages\":[HumanMessage(content=\"what is the GDP of USA?\")]}"
   ]
  },
  {
   "cell_type": "code",
   "execution_count": 97,
   "id": "761bee08",
   "metadata": {},
   "outputs": [
    {
     "name": "stdout",
     "output_type": "stream",
     "text": [
      "function_1 is called with question: what is the GDP of USA?\n",
      "{'messages': [AIMessage(content='', additional_kwargs={'tool_calls': [{'id': 'call_rdNPXmYuyO4gkmLAuIX3cHDm', 'function': {'arguments': '{\"state\":{\"messages\":[{\"content\":\"What is the GDP of USA?\"}]}}', 'name': 'function_2'}, 'type': 'function'}], 'refusal': None}, response_metadata={'token_usage': {'completion_tokens': 26, 'prompt_tokens': 9962, 'total_tokens': 9988, 'completion_tokens_details': {'accepted_prediction_tokens': 0, 'audio_tokens': 0, 'reasoning_tokens': 0, 'rejected_prediction_tokens': 0}, 'prompt_tokens_details': {'audio_tokens': 0, 'cached_tokens': 0}}, 'model_name': 'gpt-3.5-turbo-0125', 'system_fingerprint': None, 'id': 'chatcmpl-Bytg0WaQVtgCt9IM5NZ3IODrMVoZL', 'service_tier': 'default', 'finish_reason': 'tool_calls', 'logprobs': None}, id='run--f6f11940-da28-45c2-8677-3a51a512174b-0', tool_calls=[{'name': 'function_2', 'args': {'state': {'messages': [{'content': 'What is the GDP of USA?'}]}}, 'id': 'call_rdNPXmYuyO4gkmLAuIX3cHDm', 'type': 'tool_call'}], usage_metadata={'input_tokens': 9962, 'output_tokens': 26, 'total_tokens': 9988, 'input_token_details': {'audio': 0, 'cache_read': 0}, 'output_token_details': {'audio': 0, 'reasoning': 0}})]}\n"
     ]
    }
   ],
   "source": [
    "response = function_1(state)\n",
    "print (response)"
   ]
  },
  {
   "cell_type": "code",
   "execution_count": 98,
   "id": "347aa841",
   "metadata": {},
   "outputs": [],
   "source": [
    "def router(state:MessagesState):\n",
    "    print (\"-> ROUTER -> \")\n",
    "\n",
    "    last_message = state[\"messages\"][-1]\n",
    "    print (f\"Last message: {last_message}\")\n",
    "\n",
    "    if last_message.tool_calls:\n",
    "        return \"tools\"\n",
    "    return END\n",
    "    "
   ]
  },
  {
   "cell_type": "code",
   "execution_count": 99,
   "id": "e13e0f7f",
   "metadata": {},
   "outputs": [],
   "source": [
    "def format_docs(docs):\n",
    "    return \"\\n\\n\".join(doc.page_content for doc in docs)"
   ]
  },
  {
   "cell_type": "code",
   "execution_count": 100,
   "id": "ae4eb352",
   "metadata": {},
   "outputs": [],
   "source": [
    "response=llm_with_tool.invoke(\"what is a weather is delhi?\")"
   ]
  },
  {
   "cell_type": "code",
   "execution_count": 101,
   "id": "c7e4283d",
   "metadata": {},
   "outputs": [
    {
     "data": {
      "text/plain": [
       "''"
      ]
     },
     "execution_count": 101,
     "metadata": {},
     "output_type": "execute_result"
    }
   ],
   "source": [
    "response.content"
   ]
  },
  {
   "cell_type": "code",
   "execution_count": 102,
   "id": "131f83a3",
   "metadata": {},
   "outputs": [
    {
     "data": {
      "text/plain": [
       "[{'name': 'function_4',\n",
       "  'args': {'state': {'messages': [{'content': 'what is a weather is delhi?',\n",
       "      'type': 'human'}]}},\n",
       "  'id': 'call_yyCuCCPpFgSbkgqsi9RrTLWq',\n",
       "  'type': 'tool_call'}]"
      ]
     },
     "execution_count": 102,
     "metadata": {},
     "output_type": "execute_result"
    }
   ],
   "source": [
    "response.tool_calls"
   ]
  },
  {
   "cell_type": "code",
   "execution_count": 103,
   "id": "40c63add",
   "metadata": {},
   "outputs": [],
   "source": [
    "from langgraph.prebuilt import ToolNode\n",
    "\n",
    "tool_node=ToolNode(tools)"
   ]
  },
  {
   "cell_type": "code",
   "execution_count": 104,
   "id": "140aa6da",
   "metadata": {},
   "outputs": [
    {
     "data": {
      "text/plain": [
       "tools(tags=None, recurse=True, explode_args=False, func_accepts_config=True, func_accepts={'store': ('__pregel_store', None)}, tools_by_name={'function_2': StructuredTool(name='function_2', description='this is my custom tool for serving RAG Call. It retrieves relevant documents from the vector store and generates a concise answer based on the retrieved context. This is to be called when Supervisor returns \"USA\"', args_schema=<class 'langchain_core.utils.pydantic.function_2'>, func=<function function_2 at 0x000001AF93AA5A80>), 'function_3': StructuredTool(name='function_3', description='this is my custom tool for calling the LLM when neither usa nor weather is the topic. This is to be called when Supervisor returns \"Not Related\"', args_schema=<class 'langchain_core.utils.pydantic.function_3'>, func=<function function_3 at 0x000001AF93AA5580>), 'function_4': StructuredTool(name='function_4', description='this is my custom tool for searching a weather. This is to be called when Supervisor returns \"Weather\"', args_schema=<class 'langchain_core.utils.pydantic.function_4'>, func=<function function_4 at 0x000001AF93AA4EA0>)}, tool_to_state_args={'function_2': {}, 'function_3': {}, 'function_4': {}}, tool_to_store_arg={'function_2': None, 'function_3': None, 'function_4': None}, handle_tool_errors=True, messages_key='messages')"
      ]
     },
     "execution_count": 104,
     "metadata": {},
     "output_type": "execute_result"
    }
   ],
   "source": [
    "tool_node"
   ]
  },
  {
   "cell_type": "code",
   "execution_count": 105,
   "id": "6067e1e4",
   "metadata": {},
   "outputs": [
    {
     "data": {
      "image/png": "[encoded data removed]",
      "text/plain": [
       "<IPython.core.display.Image object>"
      ]
     },
     "metadata": {},
     "output_type": "display_data"
    }
   ],
   "source": [
    "from langgraph.graph import StateGraph,END\n",
    "workflow=StateGraph(MessagesState)\n",
    "workflow.add_node(\"Supervisor\",function_1)\n",
    "workflow.add_node(\"mytools\",tool_node)\n",
    "workflow.set_entry_point(\"Supervisor\")\n",
    "workflow.add_conditional_edges(\n",
    "    \"Supervisor\", \n",
    "    router,\n",
    "    {\n",
    "        \"tools\": \"mytools\",\n",
    "        END:END\n",
    "    }\n",
    ")\n",
    "app=workflow.compile()\n",
    "display(Image(app.get_graph().draw_mermaid_png()))"
   ]
  },
  {
   "cell_type": "code",
   "execution_count": 106,
   "id": "2fbca21a",
   "metadata": {},
   "outputs": [
    {
     "name": "stdout",
     "output_type": "stream",
     "text": [
      "{'messages': [HumanMessage(content='what is the weather of NYC?', additional_kwargs={}, response_metadata={})]}\n"
     ]
    }
   ],
   "source": [
    "from langchain_core.messages import HumanMessage\n",
    "agent_state = MessagesState(messages=[HumanMessage(content=\"what is the GDP of USA?\")])\n",
    "agent_state = MessagesState(messages=[HumanMessage(content=\"what is the weather of NYC?\")])\n",
    "\n",
    "print (agent_state)"
   ]
  },
  {
   "cell_type": "code",
   "execution_count": 107,
   "id": "08b2a3e1",
   "metadata": {},
   "outputs": [
    {
     "name": "stdout",
     "output_type": "stream",
     "text": [
      "function_1 is called with question: what is the weather of NYC?\n",
      "-> ROUTER -> \n",
      "Last message: content='' additional_kwargs={'tool_calls': [{'id': 'call_qveUGTVHYco7etrJNojEopiG', 'function': {'arguments': '{\"state\":{\"messages\":[{\"content\":\"What is the weather of NYC?\",\"type\":\"human\"}]}}', 'name': 'function_4'}, 'type': 'function'}], 'refusal': None} response_metadata={'token_usage': {'completion_tokens': 31, 'prompt_tokens': 9962, 'total_tokens': 9993, 'completion_tokens_details': {'accepted_prediction_tokens': 0, 'audio_tokens': 0, 'reasoning_tokens': 0, 'rejected_prediction_tokens': 0}, 'prompt_tokens_details': {'audio_tokens': 0, 'cached_tokens': 0}}, 'model_name': 'gpt-3.5-turbo-0125', 'system_fingerprint': None, 'id': 'chatcmpl-Bytg4gbMtosq1SK7YaHrIqV9ReKhe', 'service_tier': 'default', 'finish_reason': 'tool_calls', 'logprobs': None} id='run--926d1a47-1204-493c-b8cb-19661828998a-0' tool_calls=[{'name': 'function_4', 'args': {'state': {'messages': [{'content': 'What is the weather of NYC?', 'type': 'human'}]}}, 'id': 'call_qveUGTVHYco7etrJNojEopiG', 'type': 'tool_call'}] usage_metadata={'input_tokens': 9962, 'output_tokens': 31, 'total_tokens': 9993, 'input_token_details': {'audio': 0, 'cache_read': 0}, 'output_token_details': {'audio': 0, 'reasoning': 0}}\n",
      "-> Weather Call ->\n"
     ]
    },
    {
     "data": {
      "text/plain": [
       "{'messages': [HumanMessage(content='what is the weather of NYC?', additional_kwargs={}, response_metadata={}, id='9b3ca96c-f121-4873-85b8-4dad402f949b'),\n",
       "  AIMessage(content='', additional_kwargs={'tool_calls': [{'id': 'call_qveUGTVHYco7etrJNojEopiG', 'function': {'arguments': '{\"state\":{\"messages\":[{\"content\":\"What is the weather of NYC?\",\"type\":\"human\"}]}}', 'name': 'function_4'}, 'type': 'function'}], 'refusal': None}, response_metadata={'token_usage': {'completion_tokens': 31, 'prompt_tokens': 9962, 'total_tokens': 9993, 'completion_tokens_details': {'accepted_prediction_tokens': 0, 'audio_tokens': 0, 'reasoning_tokens': 0, 'rejected_prediction_tokens': 0}, 'prompt_tokens_details': {'audio_tokens': 0, 'cached_tokens': 0}}, 'model_name': 'gpt-3.5-turbo-0125', 'system_fingerprint': None, 'id': 'chatcmpl-Bytg4gbMtosq1SK7YaHrIqV9ReKhe', 'service_tier': 'default', 'finish_reason': 'tool_calls', 'logprobs': None}, id='run--926d1a47-1204-493c-b8cb-19661828998a-0', tool_calls=[{'name': 'function_4', 'args': {'state': {'messages': [{'content': 'What is the weather of NYC?', 'type': 'human'}]}}, 'id': 'call_qveUGTVHYco7etrJNojEopiG', 'type': 'tool_call'}], usage_metadata={'input_tokens': 9962, 'output_tokens': 31, 'total_tokens': 9993, 'input_token_details': {'audio': 0, 'cache_read': 0}, 'output_token_details': {'audio': 0, 'reasoning': 0}}),\n",
       "  ToolMessage(content='27 degree celsius', name='function_4', id='caa53f74-6c85-4fcc-90e5-33b323b807ee', tool_call_id='call_qveUGTVHYco7etrJNojEopiG')]}"
      ]
     },
     "execution_count": 107,
     "metadata": {},
     "output_type": "execute_result"
    }
   ],
   "source": [
    "app.invoke(agent_state)"
   ]
  },
  {
   "cell_type": "code",
   "execution_count": 108,
   "id": "63ff0ffa",
   "metadata": {},
   "outputs": [
    {
     "name": "stdout",
     "output_type": "stream",
     "text": [
      "{'messages': [HumanMessage(content='What is the capital of India?', additional_kwargs={}, response_metadata={})]}\n",
      "function_1 is called with question: What is the capital of India?\n",
      "-> ROUTER -> \n",
      "Last message: content='' additional_kwargs={'tool_calls': [{'id': 'call_Nnalt53SnDdUGanmnwVj3IbE', 'function': {'arguments': '{\"state\":{\"messages\":[{\"content\":\"What is the capital of India?\",\"type\":\"human\"}]}}', 'name': 'function_3'}, 'type': 'function'}], 'refusal': None} response_metadata={'token_usage': {'completion_tokens': 31, 'prompt_tokens': 9962, 'total_tokens': 9993, 'completion_tokens_details': {'accepted_prediction_tokens': 0, 'audio_tokens': 0, 'reasoning_tokens': 0, 'rejected_prediction_tokens': 0}, 'prompt_tokens_details': {'audio_tokens': 0, 'cached_tokens': 0}}, 'model_name': 'gpt-3.5-turbo-0125', 'system_fingerprint': None, 'id': 'chatcmpl-Bytg6cp5Uq38gr4SWEEJ5HX0nBNgm', 'service_tier': 'default', 'finish_reason': 'tool_calls', 'logprobs': None} id='run--c05af03d-e2fc-45c4-926b-832a135b9e36-0' tool_calls=[{'name': 'function_3', 'args': {'state': {'messages': [{'content': 'What is the capital of India?', 'type': 'human'}]}}, 'id': 'call_Nnalt53SnDdUGanmnwVj3IbE', 'type': 'tool_call'}] usage_metadata={'input_tokens': 9962, 'output_tokens': 31, 'total_tokens': 9993, 'input_token_details': {'audio': 0, 'cache_read': 0}, 'output_token_details': {'audio': 0, 'reasoning': 0}}\n",
      "-> LLM Call ->\n"
     ]
    },
    {
     "data": {
      "text/plain": [
       "{'messages': [HumanMessage(content='What is the capital of India?', additional_kwargs={}, response_metadata={}, id='393b6230-630e-4a13-a0e0-c6be94e0b1a9'),\n",
       "  AIMessage(content='', additional_kwargs={'tool_calls': [{'id': 'call_Nnalt53SnDdUGanmnwVj3IbE', 'function': {'arguments': '{\"state\":{\"messages\":[{\"content\":\"What is the capital of India?\",\"type\":\"human\"}]}}', 'name': 'function_3'}, 'type': 'function'}], 'refusal': None}, response_metadata={'token_usage': {'completion_tokens': 31, 'prompt_tokens': 9962, 'total_tokens': 9993, 'completion_tokens_details': {'accepted_prediction_tokens': 0, 'audio_tokens': 0, 'reasoning_tokens': 0, 'rejected_prediction_tokens': 0}, 'prompt_tokens_details': {'audio_tokens': 0, 'cached_tokens': 0}}, 'model_name': 'gpt-3.5-turbo-0125', 'system_fingerprint': None, 'id': 'chatcmpl-Bytg6cp5Uq38gr4SWEEJ5HX0nBNgm', 'service_tier': 'default', 'finish_reason': 'tool_calls', 'logprobs': None}, id='run--c05af03d-e2fc-45c4-926b-832a135b9e36-0', tool_calls=[{'name': 'function_3', 'args': {'state': {'messages': [{'content': 'What is the capital of India?', 'type': 'human'}]}}, 'id': 'call_Nnalt53SnDdUGanmnwVj3IbE', 'type': 'tool_call'}], usage_metadata={'input_tokens': 9962, 'output_tokens': 31, 'total_tokens': 9993, 'input_token_details': {'audio': 0, 'cache_read': 0}, 'output_token_details': {'audio': 0, 'reasoning': 0}}),\n",
       "  ToolMessage(content='The capital of India is New Delhi.', name='function_3', id='e37e47a9-0a90-4c18-bc27-6d1e9d529350', tool_call_id='call_Nnalt53SnDdUGanmnwVj3IbE')]}"
      ]
     },
     "execution_count": 108,
     "metadata": {},
     "output_type": "execute_result"
    }
   ],
   "source": [
    "from langchain_core.messages import HumanMessage\n",
    "agent_state = MessagesState(messages=[HumanMessage(content=\"What is the capital of India?\")])\n",
    "\n",
    "print (agent_state)\n",
    "app.invoke(agent_state)"
   ]
  },
  {
   "cell_type": "code",
   "execution_count": 109,
   "id": "d72476b2",
   "metadata": {},
   "outputs": [
    {
     "name": "stdout",
     "output_type": "stream",
     "text": [
      "{'messages': [HumanMessage(content='What is the weather of NYC?', additional_kwargs={}, response_metadata={})]}\n",
      "function_1 is called with question: What is the weather of NYC?\n",
      "-> ROUTER -> \n",
      "Last message: content='' additional_kwargs={'tool_calls': [{'id': 'call_Egdf82mqrx8DnYfmoFGQ20AQ', 'function': {'arguments': '{\"state\":{\"messages\":[{\"content\":\"What is the weather of NYC?\",\"type\":\"human\"}]}}', 'name': 'function_4'}, 'type': 'function'}], 'refusal': None} response_metadata={'token_usage': {'completion_tokens': 31, 'prompt_tokens': 9962, 'total_tokens': 9993, 'completion_tokens_details': {'accepted_prediction_tokens': 0, 'audio_tokens': 0, 'reasoning_tokens': 0, 'rejected_prediction_tokens': 0}, 'prompt_tokens_details': {'audio_tokens': 0, 'cached_tokens': 0}}, 'model_name': 'gpt-3.5-turbo-0125', 'system_fingerprint': None, 'id': 'chatcmpl-Bytg8xrqCqbzFg9tklmLn6xYoDoP4', 'service_tier': 'default', 'finish_reason': 'tool_calls', 'logprobs': None} id='run--f42a7505-2f43-4912-a90d-8d93ceb1b4de-0' tool_calls=[{'name': 'function_4', 'args': {'state': {'messages': [{'content': 'What is the weather of NYC?', 'type': 'human'}]}}, 'id': 'call_Egdf82mqrx8DnYfmoFGQ20AQ', 'type': 'tool_call'}] usage_metadata={'input_tokens': 9962, 'output_tokens': 31, 'total_tokens': 9993, 'input_token_details': {'audio': 0, 'cache_read': 0}, 'output_token_details': {'audio': 0, 'reasoning': 0}}\n",
      "-> Weather Call ->\n"
     ]
    },
    {
     "data": {
      "text/plain": [
       "{'messages': [HumanMessage(content='What is the weather of NYC?', additional_kwargs={}, response_metadata={}, id='fe7c91e9-c3d0-4de1-9ceb-26a6b68e495b'),\n",
       "  AIMessage(content='', additional_kwargs={'tool_calls': [{'id': 'call_Egdf82mqrx8DnYfmoFGQ20AQ', 'function': {'arguments': '{\"state\":{\"messages\":[{\"content\":\"What is the weather of NYC?\",\"type\":\"human\"}]}}', 'name': 'function_4'}, 'type': 'function'}], 'refusal': None}, response_metadata={'token_usage': {'completion_tokens': 31, 'prompt_tokens': 9962, 'total_tokens': 9993, 'completion_tokens_details': {'accepted_prediction_tokens': 0, 'audio_tokens': 0, 'reasoning_tokens': 0, 'rejected_prediction_tokens': 0}, 'prompt_tokens_details': {'audio_tokens': 0, 'cached_tokens': 0}}, 'model_name': 'gpt-3.5-turbo-0125', 'system_fingerprint': None, 'id': 'chatcmpl-Bytg8xrqCqbzFg9tklmLn6xYoDoP4', 'service_tier': 'default', 'finish_reason': 'tool_calls', 'logprobs': None}, id='run--f42a7505-2f43-4912-a90d-8d93ceb1b4de-0', tool_calls=[{'name': 'function_4', 'args': {'state': {'messages': [{'content': 'What is the weather of NYC?', 'type': 'human'}]}}, 'id': 'call_Egdf82mqrx8DnYfmoFGQ20AQ', 'type': 'tool_call'}], usage_metadata={'input_tokens': 9962, 'output_tokens': 31, 'total_tokens': 9993, 'input_token_details': {'audio': 0, 'cache_read': 0}, 'output_token_details': {'audio': 0, 'reasoning': 0}}),\n",
       "  ToolMessage(content='27 degree celsius', name='function_4', id='560d1ca3-5296-4d40-b697-dd353f64769b', tool_call_id='call_Egdf82mqrx8DnYfmoFGQ20AQ')]}"
      ]
     },
     "execution_count": 109,
     "metadata": {},
     "output_type": "execute_result"
    }
   ],
   "source": [
    "from langchain_core.messages import HumanMessage\n",
    "agent_state = MessagesState(messages=[HumanMessage(content=\"What is the weather of NYC?\")])\n",
    "\n",
    "print (agent_state)\n",
    "app.invoke(agent_state)"
   ]
  },
  {
   "cell_type": "code",
   "execution_count": 110,
   "id": "09642e22",
   "metadata": {},
   "outputs": [
    {
     "name": "stdout",
     "output_type": "stream",
     "text": [
      "function_1 is called with question: What is economy of usa?\n",
      "-> ROUTER -> \n",
      "Last message: content='' additional_kwargs={'tool_calls': [{'id': 'call_5TdzS2UVGU3RGrJDuw5xBdhQ', 'function': {'arguments': '{\"state\":{\"messages\":[{\"content\":\"What is economy of usa?\",\"type\":\"human\"}]}}', 'name': 'function_2'}, 'type': 'function'}], 'refusal': None} response_metadata={'token_usage': {'completion_tokens': 30, 'prompt_tokens': 9961, 'total_tokens': 9991, 'completion_tokens_details': {'accepted_prediction_tokens': 0, 'audio_tokens': 0, 'reasoning_tokens': 0, 'rejected_prediction_tokens': 0}, 'prompt_tokens_details': {'audio_tokens': 0, 'cached_tokens': 0}}, 'model_name': 'gpt-3.5-turbo-0125', 'system_fingerprint': None, 'id': 'chatcmpl-BytgAwLlgHEuBKm0fG62eNLgNqtIk', 'service_tier': 'default', 'finish_reason': 'tool_calls', 'logprobs': None} id='run--6ccec2d4-05ef-477c-b996-26b3c9c1aca9-0' tool_calls=[{'name': 'function_2', 'args': {'state': {'messages': [{'content': 'What is economy of usa?', 'type': 'human'}]}}, 'id': 'call_5TdzS2UVGU3RGrJDuw5xBdhQ', 'type': 'tool_call'}] usage_metadata={'input_tokens': 9961, 'output_tokens': 30, 'total_tokens': 9991, 'input_token_details': {'audio': 0, 'cache_read': 0}, 'output_token_details': {'audio': 0, 'reasoning': 0}}\n",
      "==========================================\n",
      "here is the output from Supervisor\n",
      "=========================================\n",
      "{'messages': [AIMessage(content='', additional_kwargs={'tool_calls': [{'id': 'call_5TdzS2UVGU3RGrJDuw5xBdhQ', 'function': {'arguments': '{\"state\":{\"messages\":[{\"content\":\"What is economy of usa?\",\"type\":\"human\"}]}}', 'name': 'function_2'}, 'type': 'function'}], 'refusal': None}, response_metadata={'token_usage': {'completion_tokens': 30, 'prompt_tokens': 9961, 'total_tokens': 9991, 'completion_tokens_details': {'accepted_prediction_tokens': 0, 'audio_tokens': 0, 'reasoning_tokens': 0, 'rejected_prediction_tokens': 0}, 'prompt_tokens_details': {'audio_tokens': 0, 'cached_tokens': 0}}, 'model_name': 'gpt-3.5-turbo-0125', 'system_fingerprint': None, 'id': 'chatcmpl-BytgAwLlgHEuBKm0fG62eNLgNqtIk', 'service_tier': 'default', 'finish_reason': 'tool_calls', 'logprobs': None}, id='run--6ccec2d4-05ef-477c-b996-26b3c9c1aca9-0', tool_calls=[{'name': 'function_2', 'args': {'state': {'messages': [{'content': 'What is economy of usa?', 'type': 'human'}]}}, 'id': 'call_5TdzS2UVGU3RGrJDuw5xBdhQ', 'type': 'tool_call'}], usage_metadata={'input_tokens': 9961, 'output_tokens': 30, 'total_tokens': 9991, 'input_token_details': {'audio': 0, 'cache_read': 0}, 'output_token_details': {'audio': 0, 'reasoning': 0}})]}\n",
      "\n",
      "\n",
      "-> RAG Call ->\n",
      "==========================================\n",
      "here is the output from mytools\n",
      "=========================================\n",
      "{'messages': [ToolMessage(content='The economy of the USA is the largest in the world based on nominal GDP, making it a dominant economic power globally. It operates under a capitalist mixed economy system.', name='function_2', id='69814ac7-2f4f-4706-be58-929dd9965f7f', tool_call_id='call_5TdzS2UVGU3RGrJDuw5xBdhQ')]}\n",
      "\n",
      "\n"
     ]
    }
   ],
   "source": [
    "for output in app.stream({\"messages\": [HumanMessage(content=\"What is economy of usa?\")]\n",
    "}):\n",
    "    for key, value in output.items():\n",
    "        ## key is the name of the node, value is the output of the node\n",
    "        print(\"==========================================\")\n",
    "        print(f\"here is the output from {key}\")\n",
    "        print (\"=========================================\")\n",
    "        print(value)\n",
    "        print(\"\\n\")"
   ]
  },
  {
   "cell_type": "markdown",
   "id": "5c10c711",
   "metadata": {},
   "source": [
    "### memory setup\n"
   ]
  },
  {
   "cell_type": "code",
   "execution_count": 111,
   "id": "9c5cbc2d",
   "metadata": {},
   "outputs": [],
   "source": [
    "from langgraph.checkpoint.memory import MemorySaver\n",
    "memory = MemorySaver()\n",
    "app=workflow.compile(checkpointer=memory)\n",
    "config = {\"configurable\": {\"thread_id\":\"1\"}}"
   ]
  },
  {
   "cell_type": "code",
   "execution_count": 112,
   "id": "88ceb206",
   "metadata": {},
   "outputs": [
    {
     "name": "stdout",
     "output_type": "stream",
     "text": [
      "================================\u001b[1m Human Message \u001b[0m=================================\n",
      "\n",
      "What is economy of usa?\n",
      "function_1 is called with question: What is economy of usa?\n",
      "-> ROUTER -> \n",
      "Last message: content='' additional_kwargs={'tool_calls': [{'id': 'call_t3w1aQYzJh43Egm6m9kpWbs6', 'function': {'arguments': '{\"state\":{\"messages\":[{\"content\":\"What is economy of usa?\"}]}}', 'name': 'function_2'}, 'type': 'function'}], 'refusal': None} response_metadata={'token_usage': {'completion_tokens': 25, 'prompt_tokens': 9961, 'total_tokens': 9986, 'completion_tokens_details': {'accepted_prediction_tokens': 0, 'audio_tokens': 0, 'reasoning_tokens': 0, 'rejected_prediction_tokens': 0}, 'prompt_tokens_details': {'audio_tokens': 0, 'cached_tokens': 0}}, 'model_name': 'gpt-3.5-turbo-0125', 'system_fingerprint': None, 'id': 'chatcmpl-BytgC4iuAGpscuMONIVm0DAtuUhPY', 'service_tier': 'default', 'finish_reason': 'tool_calls', 'logprobs': None} id='run--f53b1030-b202-454e-93b7-a2f387e10b65-0' tool_calls=[{'name': 'function_2', 'args': {'state': {'messages': [{'content': 'What is economy of usa?'}]}}, 'id': 'call_t3w1aQYzJh43Egm6m9kpWbs6', 'type': 'tool_call'}] usage_metadata={'input_tokens': 9961, 'output_tokens': 25, 'total_tokens': 9986, 'input_token_details': {'audio': 0, 'cache_read': 0}, 'output_token_details': {'audio': 0, 'reasoning': 0}}\n",
      "==================================\u001b[1m Ai Message \u001b[0m==================================\n",
      "Tool Calls:\n",
      "  function_2 (call_t3w1aQYzJh43Egm6m9kpWbs6)\n",
      " Call ID: call_t3w1aQYzJh43Egm6m9kpWbs6\n",
      "  Args:\n",
      "    state: {'messages': [{'content': 'What is economy of usa?'}]}\n",
      "=================================\u001b[1m Tool Message \u001b[0m=================================\n",
      "Name: function_2\n",
      "\n",
      "Error: TypeError(\"Expected either a dictionary with a 'type' key or an object with a 'type' attribute. Instead got type <class 'dict'>.\")\n",
      " Please fix your mistakes.\n"
     ]
    }
   ],
   "source": [
    "events = app.stream(\n",
    "    {\"messages\": [HumanMessage(content=\"What is economy of usa?\")]}, config=config, stream_mode=\"values\")\n",
    "for event in events:\n",
    "   event[\"messages\"][-1].pretty_print()"
   ]
  },
  {
   "cell_type": "code",
   "execution_count": 113,
   "id": "66edc924",
   "metadata": {},
   "outputs": [
    {
     "name": "stdout",
     "output_type": "stream",
     "text": [
      "================================\u001b[1m Human Message \u001b[0m=================================\n",
      "\n",
      "What weather of Phoenix?\n",
      "function_1 is called with question: What weather of Phoenix?\n",
      "-> ROUTER -> \n",
      "Last message: content='' additional_kwargs={'tool_calls': [{'id': 'call_RTskhWFghTuDzGJx9jmL9vMl', 'function': {'arguments': '{\"state\":{\"messages\":[{\"content\":\"What weather of Phoenix?\",\"type\":\"human\"}]}}', 'name': 'function_4'}, 'type': 'function'}], 'refusal': None} response_metadata={'token_usage': {'completion_tokens': 29, 'prompt_tokens': 9960, 'total_tokens': 9989, 'completion_tokens_details': {'accepted_prediction_tokens': 0, 'audio_tokens': 0, 'reasoning_tokens': 0, 'rejected_prediction_tokens': 0}, 'prompt_tokens_details': {'audio_tokens': 0, 'cached_tokens': 0}}, 'model_name': 'gpt-3.5-turbo-0125', 'system_fingerprint': None, 'id': 'chatcmpl-BytgEOAfNAAGDNO1hYxkNyHi21OSY', 'service_tier': 'default', 'finish_reason': 'tool_calls', 'logprobs': None} id='run--24a7d20b-c78d-48dc-9fee-e839118ef4e7-0' tool_calls=[{'name': 'function_4', 'args': {'state': {'messages': [{'content': 'What weather of Phoenix?', 'type': 'human'}]}}, 'id': 'call_RTskhWFghTuDzGJx9jmL9vMl', 'type': 'tool_call'}] usage_metadata={'input_tokens': 9960, 'output_tokens': 29, 'total_tokens': 9989, 'input_token_details': {'audio': 0, 'cache_read': 0}, 'output_token_details': {'audio': 0, 'reasoning': 0}}\n",
      "==================================\u001b[1m Ai Message \u001b[0m==================================\n",
      "Tool Calls:\n",
      "  function_4 (call_RTskhWFghTuDzGJx9jmL9vMl)\n",
      " Call ID: call_RTskhWFghTuDzGJx9jmL9vMl\n",
      "  Args:\n",
      "    state: {'messages': [{'content': 'What weather of Phoenix?', 'type': 'human'}]}\n",
      "-> Weather Call ->\n",
      "=================================\u001b[1m Tool Message \u001b[0m=================================\n",
      "Name: function_4\n",
      "\n",
      "27 degree celsius\n"
     ]
    }
   ],
   "source": [
    "events = app.stream(\n",
    "    {\"messages\": [HumanMessage(content=\"What weather of Phoenix?\")]}, config=config, stream_mode=\"values\")\n",
    "for event in events:\n",
    "   event[\"messages\"][-1].pretty_print()"
   ]
  },
  {
   "cell_type": "code",
   "execution_count": 114,
   "id": "36f28a6c",
   "metadata": {},
   "outputs": [
    {
     "name": "stdout",
     "output_type": "stream",
     "text": [
      "================================\u001b[1m Human Message \u001b[0m=================================\n",
      "\n",
      "what does Fromm talk about love?\n",
      "function_1 is called with question: what does Fromm talk about love?\n",
      "-> ROUTER -> \n",
      "Last message: content='' additional_kwargs={'tool_calls': [{'id': 'call_xDc1aFZ1DNByJnXg9nPwvaAa', 'function': {'arguments': '{\"state\": {\"messages\": [{\"content\": \"what does Fromm talk about love?\", \"type\": \"human\"}]}}', 'name': 'function_4'}, 'type': 'function'}], 'refusal': None} response_metadata={'token_usage': {'completion_tokens': 4096, 'prompt_tokens': 9963, 'total_tokens': 14059, 'completion_tokens_details': {'accepted_prediction_tokens': 0, 'audio_tokens': 0, 'reasoning_tokens': 0, 'rejected_prediction_tokens': 0}, 'prompt_tokens_details': {'audio_tokens': 0, 'cached_tokens': 0}}, 'model_name': 'gpt-3.5-turbo-0125', 'system_fingerprint': None, 'id': 'chatcmpl-BytgH3hahJgLISOIaomskNWVTfhwp', 'service_tier': 'default', 'finish_reason': 'length', 'logprobs': None} id='run--023ef967-ef36-41aa-bbdb-681bd19bf11e-0' tool_calls=[{'name': 'function_4', 'args': {'state': {'messages': [{'content': 'what does Fromm talk about love?', 'type': 'human'}]}}, 'id': 'call_xDc1aFZ1DNByJnXg9nPwvaAa', 'type': 'tool_call'}] usage_metadata={'input_tokens': 9963, 'output_tokens': 4096, 'total_tokens': 14059, 'input_token_details': {'audio': 0, 'cache_read': 0}, 'output_token_details': {'audio': 0, 'reasoning': 0}}\n",
      "==================================\u001b[1m Ai Message \u001b[0m==================================\n",
      "Tool Calls:\n",
      "  function_4 (call_xDc1aFZ1DNByJnXg9nPwvaAa)\n",
      " Call ID: call_xDc1aFZ1DNByJnXg9nPwvaAa\n",
      "  Args:\n",
      "    state: {'messages': [{'content': 'what does Fromm talk about love?', 'type': 'human'}]}\n",
      "-> Weather Call ->\n",
      "=================================\u001b[1m Tool Message \u001b[0m=================================\n",
      "Name: function_4\n",
      "\n",
      "27 degree celsius\n"
     ]
    }
   ],
   "source": [
    "events = app.stream(\n",
    "    {\"messages\": [HumanMessage(content=\"what does Fromm talk about love?\")]}, config=config, stream_mode=\"values\")\n",
    "for event in events:\n",
    "   event[\"messages\"][-1].pretty_print()"
   ]
  },
  {
   "cell_type": "code",
   "execution_count": 115,
   "id": "d5fa2851",
   "metadata": {},
   "outputs": [
    {
     "data": {
      "text/plain": [
       "{'v': 3,\n",
       " 'ts': '2025-07-30T05:31:43.912614+00:00',\n",
       " 'id': '1f06d067-a648-6a7c-800a-a167d8fc24da',\n",
       " 'channel_versions': {'__start__': '00000000000000000000000000000010.0.8090555390291142',\n",
       "  'messages': '00000000000000000000000000000012.0.6320757859551955',\n",
       "  'branch:to:Supervisor': '00000000000000000000000000000011.0.8288878578885306',\n",
       "  'branch:to:mytools': '00000000000000000000000000000012.0.07559163786223022'},\n",
       " 'versions_seen': {'__input__': {},\n",
       "  '__start__': {'__start__': '00000000000000000000000000000009.0.2997683368101929'},\n",
       "  'Supervisor': {'branch:to:Supervisor': '00000000000000000000000000000010.0.8390585723506649'},\n",
       "  'mytools': {'branch:to:mytools': '00000000000000000000000000000011.0.5064298560557243'}},\n",
       " 'channel_values': {'messages': [HumanMessage(content='What is economy of usa?', additional_kwargs={}, response_metadata={}, id='8ce7dc6f-9883-4f31-aa71-4bbea321c525'),\n",
       "   AIMessage(content='', additional_kwargs={'tool_calls': [{'id': 'call_t3w1aQYzJh43Egm6m9kpWbs6', 'function': {'arguments': '{\"state\":{\"messages\":[{\"content\":\"What is economy of usa?\"}]}}', 'name': 'function_2'}, 'type': 'function'}], 'refusal': None}, response_metadata={'token_usage': {'completion_tokens': 25, 'prompt_tokens': 9961, 'total_tokens': 9986, 'completion_tokens_details': {'accepted_prediction_tokens': 0, 'audio_tokens': 0, 'reasoning_tokens': 0, 'rejected_prediction_tokens': 0}, 'prompt_tokens_details': {'audio_tokens': 0, 'cached_tokens': 0}}, 'model_name': 'gpt-3.5-turbo-0125', 'system_fingerprint': None, 'id': 'chatcmpl-BytgC4iuAGpscuMONIVm0DAtuUhPY', 'service_tier': 'default', 'finish_reason': 'tool_calls', 'logprobs': None}, id='run--f53b1030-b202-454e-93b7-a2f387e10b65-0', tool_calls=[{'name': 'function_2', 'args': {'state': {'messages': [{'content': 'What is economy of usa?'}]}}, 'id': 'call_t3w1aQYzJh43Egm6m9kpWbs6', 'type': 'tool_call'}], usage_metadata={'input_tokens': 9961, 'output_tokens': 25, 'total_tokens': 9986, 'input_token_details': {'audio': 0, 'cache_read': 0}, 'output_token_details': {'audio': 0, 'reasoning': 0}}),\n",
       "   ToolMessage(content='Error: TypeError(\"Expected either a dictionary with a \\'type\\' key or an object with a \\'type\\' attribute. Instead got type <class \\'dict\\'>.\")\\n Please fix your mistakes.', name='function_2', id='f0d2e625-91d5-4ba8-8df3-42aeadc02721', tool_call_id='call_t3w1aQYzJh43Egm6m9kpWbs6', status='error'),\n",
       "   HumanMessage(content='What weather of Phoenix?', additional_kwargs={}, response_metadata={}, id='0c672c08-332d-480a-ac15-d9d65ca1a1f4'),\n",
       "   AIMessage(content='', additional_kwargs={'tool_calls': [{'id': 'call_RTskhWFghTuDzGJx9jmL9vMl', 'function': {'arguments': '{\"state\":{\"messages\":[{\"content\":\"What weather of Phoenix?\",\"type\":\"human\"}]}}', 'name': 'function_4'}, 'type': 'function'}], 'refusal': None}, response_metadata={'token_usage': {'completion_tokens': 29, 'prompt_tokens': 9960, 'total_tokens': 9989, 'completion_tokens_details': {'accepted_prediction_tokens': 0, 'audio_tokens': 0, 'reasoning_tokens': 0, 'rejected_prediction_tokens': 0}, 'prompt_tokens_details': {'audio_tokens': 0, 'cached_tokens': 0}}, 'model_name': 'gpt-3.5-turbo-0125', 'system_fingerprint': None, 'id': 'chatcmpl-BytgEOAfNAAGDNO1hYxkNyHi21OSY', 'service_tier': 'default', 'finish_reason': 'tool_calls', 'logprobs': None}, id='run--24a7d20b-c78d-48dc-9fee-e839118ef4e7-0', tool_calls=[{'name': 'function_4', 'args': {'state': {'messages': [{'content': 'What weather of Phoenix?', 'type': 'human'}]}}, 'id': 'call_RTskhWFghTuDzGJx9jmL9vMl', 'type': 'tool_call'}], usage_metadata={'input_tokens': 9960, 'output_tokens': 29, 'total_tokens': 9989, 'input_token_details': {'audio': 0, 'cache_read': 0}, 'output_token_details': {'audio': 0, 'reasoning': 0}}),\n",
       "   ToolMessage(content='27 degree celsius', name='function_4', id='9d40c1d7-c5a8-4d3a-8dab-e250593f15ed', tool_call_id='call_RTskhWFghTuDzGJx9jmL9vMl'),\n",
       "   HumanMessage(content='what does Fromm talk about love?', additional_kwargs={}, response_metadata={}, id='6f1616ba-a773-41e2-ab28-03533c6a5d8a'),\n",
       "   AIMessage(content='', additional_kwargs={'tool_calls': [{'id': 'call_xDc1aFZ1DNByJnXg9nPwvaAa', 'function': {'arguments': '{\"state\": {\"messages\": [{\"content\": \"what does Fromm talk about love?\", \"type\": \"human\"}]}}', 'name': 'function_4'}, 'type': 'function'}], 'refusal': None}, response_metadata={'token_usage': {'completion_tokens': 4096, 'prompt_tokens': 9963, 'total_tokens': 14059, 'completion_tokens_details': {'accepted_prediction_tokens': 0, 'audio_tokens': 0, 'reasoning_tokens': 0, 'rejected_prediction_tokens': 0}, 'prompt_tokens_details': {'audio_tokens': 0, 'cached_tokens': 0}}, 'model_name': 'gpt-3.5-turbo-0125', 'system_fingerprint': None, 'id': 'chatcmpl-BytgH3hahJgLISOIaomskNWVTfhwp', 'service_tier': 'default', 'finish_reason': 'length', 'logprobs': None}, id='run--023ef967-ef36-41aa-bbdb-681bd19bf11e-0', tool_calls=[{'name': 'function_4', 'args': {'state': {'messages': [{'content': 'what does Fromm talk about love?', 'type': 'human'}]}}, 'id': 'call_xDc1aFZ1DNByJnXg9nPwvaAa', 'type': 'tool_call'}], usage_metadata={'input_tokens': 9963, 'output_tokens': 4096, 'total_tokens': 14059, 'input_token_details': {'audio': 0, 'cache_read': 0}, 'output_token_details': {'audio': 0, 'reasoning': 0}}),\n",
       "   ToolMessage(content='27 degree celsius', name='function_4', id='1dca7eb6-821c-43fa-9f9d-d405d52d5d23', tool_call_id='call_xDc1aFZ1DNByJnXg9nPwvaAa')]},\n",
       " 'pending_sends': []}"
      ]
     },
     "execution_count": 115,
     "metadata": {},
     "output_type": "execute_result"
    }
   ],
   "source": [
    "memory.get(config)"
   ]
  },
  {
   "cell_type": "code",
   "execution_count": 116,
   "id": "c406e4c8",
   "metadata": {},
   "outputs": [
    {
     "name": "stdout",
     "output_type": "stream",
     "text": [
      "================================\u001b[1m Human Message \u001b[0m=================================\n",
      "\n",
      "what is the economy of usa\n",
      "function_1 is called with question: what is the economy of usa\n",
      "-> ROUTER -> \n",
      "Last message: content='' additional_kwargs={'tool_calls': [{'id': 'call_dZWAkWAkyIUoYZz1W7pe00Vw', 'function': {'arguments': '{\"state\":{\"messages\":[{\"content\":\"What is the economy of USA?\",\"type\":\"human\"}]}}', 'name': 'function_2'}, 'type': 'function'}], 'refusal': None} response_metadata={'token_usage': {'completion_tokens': 31, 'prompt_tokens': 9962, 'total_tokens': 9993, 'completion_tokens_details': {'accepted_prediction_tokens': 0, 'audio_tokens': 0, 'reasoning_tokens': 0, 'rejected_prediction_tokens': 0}, 'prompt_tokens_details': {'audio_tokens': 0, 'cached_tokens': 0}}, 'model_name': 'gpt-3.5-turbo-0125', 'system_fingerprint': None, 'id': 'chatcmpl-BytheBqgwyAbZcggBRaM0HrrtuFss', 'service_tier': 'default', 'finish_reason': 'tool_calls', 'logprobs': None} id='run--6d56f158-a438-4511-88cb-b653cd8ba55c-0' tool_calls=[{'name': 'function_2', 'args': {'state': {'messages': [{'content': 'What is the economy of USA?', 'type': 'human'}]}}, 'id': 'call_dZWAkWAkyIUoYZz1W7pe00Vw', 'type': 'tool_call'}] usage_metadata={'input_tokens': 9962, 'output_tokens': 31, 'total_tokens': 9993, 'input_token_details': {'audio': 0, 'cache_read': 0}, 'output_token_details': {'audio': 0, 'reasoning': 0}}\n",
      "==================================\u001b[1m Ai Message \u001b[0m==================================\n",
      "Tool Calls:\n",
      "  function_2 (call_dZWAkWAkyIUoYZz1W7pe00Vw)\n",
      " Call ID: call_dZWAkWAkyIUoYZz1W7pe00Vw\n",
      "  Args:\n",
      "    state: {'messages': [{'content': 'What is the economy of USA?', 'type': 'human'}]}\n",
      "-> RAG Call ->\n",
      "=================================\u001b[1m Tool Message \u001b[0m=================================\n",
      "Name: function_2\n",
      "\n",
      "The economy of the USA is the largest in the world in terms of nominal GDP and operates under a capitalist mixed economy.\n"
     ]
    }
   ],
   "source": [
    "events = app.stream(\n",
    "    {\"messages\": [HumanMessage(content=\"what is the economy of usa\")]}, config=config, stream_mode=\"values\")\n",
    "\n",
    "for event in events:\n",
    "   event[\"messages\"][-1].pretty_print()"
   ]
  },
  {
   "cell_type": "code",
   "execution_count": 117,
   "id": "8591b322",
   "metadata": {},
   "outputs": [],
   "source": [
    "from langgraph.graph import StateGraph,MessagesState,START,END\n",
    "from langchain_core.messages import HumanMessage, AIMessage\n",
    "\n",
    "def process_query(query):\n",
    "    \"\"\"Process query with streaming to see workflow steps\"\"\"\n",
    "    \n",
    "    print(f\"🔍 Processing query: {query}\")\n",
    "    print(\"=\" * 50)\n",
    "    \n",
    "    try:\n",
    "        # Stream the workflow execution\n",
    "        events = app.stream(\n",
    "            {\"messages\": [HumanMessage(content=query)]}, \n",
    "            config=config, \n",
    "            stream_mode=\"values\"\n",
    "        )\n",
    "        \n",
    "        step = 0\n",
    "        for event in events:\n",
    "            step += 1\n",
    "            print(f\"\\n📍 Step {step}:\")\n",
    "            \n",
    "            if \"messages\" in event and event[\"messages\"]:\n",
    "                last_message = event[\"messages\"][-1]\n",
    "                print(f\"📝 {type(last_message).__name__}: {last_message.content}\")\n",
    "        \n",
    "        print(\"\\n✅ Query processing completed!\")\n",
    "        \n",
    "    except Exception as e:\n",
    "        print(f\"❌ Error processing query: {str(e)}\")\n",
    "  "
   ]
  },
  {
   "cell_type": "code",
   "execution_count": 118,
   "id": "2e704185",
   "metadata": {},
   "outputs": [],
   "source": [
    "from IPython.display import display\n",
    "import ipywidgets as widgets\n",
    "\n",
    "def chat_loop():\n",
    "    print(\"Type your queries or 'quit' to exit.\")\n",
    "    \n",
    "    # Create the output area where responses will be shown\n",
    "    output_area = widgets.Output()\n",
    "    display(output_area)\n",
    "    \n",
    "    def process_input(sender):\n",
    "        query = input_widget.value\n",
    "        input_widget.value = \"\"  # Clear the input box\n",
    "        \n",
    "        with output_area:\n",
    "            print(f\"\\nQuery: {query}\")\n",
    "            if query.lower() == 'quit':\n",
    "                print(\"Exiting chat loop...\")\n",
    "                return\n",
    "            \n",
    "            try:\n",
    "                process_query(query)  # Assuming this function is defined elsewhere\n",
    "                print(\"\\n\")\n",
    "            except Exception as e:\n",
    "                print(f\"\\nError: {str(e)}\")\n",
    "    \n",
    "    # Create the input widget\n",
    "    input_widget = widgets.Text(\n",
    "        placeholder='Type your query here...',\n",
    "        description='Query:',\n",
    "        layout=widgets.Layout(width='80%')\n",
    "    )\n",
    "    \n",
    "    # Connect the callback to the 'on_submit' event\n",
    "    input_widget.on_submit(process_input)\n",
    "    \n",
    "    # Display the input widget\n",
    "    display(input_widget)"
   ]
  },
  {
   "cell_type": "code",
   "execution_count": 120,
   "id": "b9b405f0",
   "metadata": {},
   "outputs": [
    {
     "name": "stdout",
     "output_type": "stream",
     "text": [
      "Type your queries or 'quit' to exit.\n"
     ]
    },
    {
     "data": {
      "application/vnd.jupyter.widget-view+json": {
       "model_id": "c48630915fd34c5fa25c435f6d3b350f",
       "version_major": 2,
       "version_minor": 0
      },
      "text/plain": [
       "Output()"
      ]
     },
     "metadata": {},
     "output_type": "display_data"
    },
    {
     "name": "stderr",
     "output_type": "stream",
     "text": [
      "C:\\Users\\samra\\AppData\\Local\\Temp\\ipykernel_19120\\2325932585.py:35: DeprecationWarning: on_submit is deprecated. Instead, set the .continuous_update attribute to False and observe the value changing with: mywidget.observe(callback, 'value').\n",
      "  input_widget.on_submit(process_input)\n"
     ]
    },
    {
     "data": {
      "application/vnd.jupyter.widget-view+json": {
       "model_id": "ca70758cf5734ccb9ef9f1015787950a",
       "version_major": 2,
       "version_minor": 0
      },
      "text/plain": [
       "Text(value='', description='Query:', layout=Layout(width='80%'), placeholder='Type your query here...')"
      ]
     },
     "metadata": {},
     "output_type": "display_data"
    }
   ],
   "source": [
    "chat_loop()"
   ]
  }
 ],
 "metadata": {
  "kernelspec": {
   "display_name": "agentic_2_base",
   "language": "python",
   "name": "python3"
  },
  "language_info": {
   "codemirror_mode": {
    "name": "ipython",
    "version": 3
   },
   "file_extension": ".py",
   "mimetype": "text/x-python",
   "name": "python",
   "nbconvert_exporter": "python",
   "pygments_lexer": "ipython3",
   "version": "3.11.12"
  }
 },
 "nbformat": 4,
 "nbformat_minor": 5
}
