{
 "cells": [
  {
   "cell_type": "code",
   "execution_count": 1,
   "metadata": {},
   "outputs": [],
   "source": [
    "import requests\n",
    "\n",
    "def get_weather_data(latitude, longitude):\n",
    "  \"\"\"Fetches weather information for a given latitude and longitude.\"\"\"\n",
    "\n",
    "  # Get the grid forecast endpoint URL\n",
    "  points_url = f\"https://api.weather.gov/points/{latitude},{longitude}\"\n",
    "  response = requests.get(points_url)\n",
    "  response.raise_for_status()  # Raise an error for bad responses\n",
    "\n",
    "  data = response.json()\n",
    "  forecast_url = data[\"properties\"][\"forecast\"]\n",
    "\n",
    "  # Fetch the forecast data\n",
    "  response = requests.get(forecast_url)\n",
    "  response.raise_for_status()\n",
    "\n",
    "  forecast = response.json()\n",
    "  return forecast\n"
   ]
  },
  {
   "cell_type": "code",
   "execution_count": 2,
   "metadata": {},
   "outputs": [
    {
     "name": "stdout",
     "output_type": "stream",
     "text": [
      "{'@context': ['https://geojson.org/geojson-ld/geojson-context.jsonld', {'@version': '1.1', 'wx': 'https://api.weather.gov/ontology#', 'geo': 'http://www.opengis.net/ont/geosparql#', 'unit': 'http://codes.wmo.int/common/unit/', '@vocab': 'https://api.weather.gov/ontology#'}], 'type': 'Feature', 'geometry': {'type': 'Polygon', 'coordinates': [[[-97.1089731, 39.7668263], [-97.1085269, 39.7447788], [-97.0798467, 39.7451195], [-97.08028680000001, 39.767167], [-97.1089731, 39.7668263]]]}, 'properties': {'units': 'us', 'forecastGenerator': 'BaselineForecastGenerator', 'generatedAt': '2024-11-16T02:02:55+00:00', 'updateTime': '2024-11-15T23:26:45+00:00', 'validTimes': '2024-11-15T17:00:00+00:00/P7DT11H', 'elevation': {'unitCode': 'wmoUnit:m', 'value': 441.96}, 'periods': [{'number': 1, 'name': 'Tonight', 'startTime': '2024-11-15T20:00:00-06:00', 'endTime': '2024-11-16T06:00:00-06:00', 'isDaytime': False, 'temperature': 45, 'temperatureUnit': 'F', 'temperatureTrend': '', 'probabilityOfPrecipitation': {'unitCode': 'wmoUnit:percent', 'value': None}, 'windSpeed': '15 mph', 'windDirection': 'S', 'icon': 'https://api.weather.gov/icons/land/night/sct?size=medium', 'shortForecast': 'Partly Cloudy', 'detailedForecast': 'Partly cloudy, with a low around 45. South wind around 15 mph, with gusts as high as 30 mph.'}, {'number': 2, 'name': 'Saturday', 'startTime': '2024-11-16T06:00:00-06:00', 'endTime': '2024-11-16T18:00:00-06:00', 'isDaytime': True, 'temperature': 65, 'temperatureUnit': 'F', 'temperatureTrend': '', 'probabilityOfPrecipitation': {'unitCode': 'wmoUnit:percent', 'value': 20}, 'windSpeed': '15 to 20 mph', 'windDirection': 'S', 'icon': 'https://api.weather.gov/icons/land/day/sct/rain_showers,20?size=medium', 'shortForecast': 'Mostly Sunny then Slight Chance Rain Showers', 'detailedForecast': 'A slight chance of rain showers between noon and 3pm. Mostly sunny, with a high near 65. South wind 15 to 20 mph, with gusts as high as 35 mph. Chance of precipitation is 20%.'}, {'number': 3, 'name': 'Saturday Night', 'startTime': '2024-11-16T18:00:00-06:00', 'endTime': '2024-11-17T06:00:00-06:00', 'isDaytime': False, 'temperature': 42, 'temperatureUnit': 'F', 'temperatureTrend': '', 'probabilityOfPrecipitation': {'unitCode': 'wmoUnit:percent', 'value': None}, 'windSpeed': '5 to 10 mph', 'windDirection': 'W', 'icon': 'https://api.weather.gov/icons/land/night/sct?size=medium', 'shortForecast': 'Partly Cloudy', 'detailedForecast': 'Partly cloudy, with a low around 42. West wind 5 to 10 mph, with gusts as high as 20 mph.'}, {'number': 4, 'name': 'Sunday', 'startTime': '2024-11-17T06:00:00-06:00', 'endTime': '2024-11-17T18:00:00-06:00', 'isDaytime': True, 'temperature': 55, 'temperatureUnit': 'F', 'temperatureTrend': '', 'probabilityOfPrecipitation': {'unitCode': 'wmoUnit:percent', 'value': None}, 'windSpeed': '5 mph', 'windDirection': 'NE', 'icon': 'https://api.weather.gov/icons/land/day/bkn?size=medium', 'shortForecast': 'Partly Sunny', 'detailedForecast': 'Partly sunny, with a high near 55. Northeast wind around 5 mph.'}, {'number': 5, 'name': 'Sunday Night', 'startTime': '2024-11-17T18:00:00-06:00', 'endTime': '2024-11-18T06:00:00-06:00', 'isDaytime': False, 'temperature': 44, 'temperatureUnit': 'F', 'temperatureTrend': '', 'probabilityOfPrecipitation': {'unitCode': 'wmoUnit:percent', 'value': 50}, 'windSpeed': '0 to 10 mph', 'windDirection': 'E', 'icon': 'https://api.weather.gov/icons/land/night/rain_showers,20/rain_showers,50?size=medium', 'shortForecast': 'Chance Rain Showers', 'detailedForecast': 'A chance of rain showers. Mostly cloudy, with a low around 44. East wind 0 to 10 mph. Chance of precipitation is 50%.'}, {'number': 6, 'name': 'Monday', 'startTime': '2024-11-18T06:00:00-06:00', 'endTime': '2024-11-18T18:00:00-06:00', 'isDaytime': True, 'temperature': 59, 'temperatureUnit': 'F', 'temperatureTrend': '', 'probabilityOfPrecipitation': {'unitCode': 'wmoUnit:percent', 'value': 100}, 'windSpeed': '10 to 20 mph', 'windDirection': 'SE', 'icon': 'https://api.weather.gov/icons/land/day/rain_showers,100/tsra,100?size=medium', 'shortForecast': 'Rain Showers', 'detailedForecast': 'Rain showers before noon, then showers and thunderstorms. Mostly cloudy, with a high near 59. Southeast wind 10 to 20 mph, with gusts as high as 30 mph. Chance of precipitation is 100%.'}, {'number': 7, 'name': 'Monday Night', 'startTime': '2024-11-18T18:00:00-06:00', 'endTime': '2024-11-19T06:00:00-06:00', 'isDaytime': False, 'temperature': 40, 'temperatureUnit': 'F', 'temperatureTrend': '', 'probabilityOfPrecipitation': {'unitCode': 'wmoUnit:percent', 'value': 30}, 'windSpeed': '15 mph', 'windDirection': 'SW', 'icon': 'https://api.weather.gov/icons/land/night/tsra_hi,30/sct?size=medium', 'shortForecast': 'Chance Showers And Thunderstorms then Partly Cloudy', 'detailedForecast': 'A chance of showers and thunderstorms before midnight. Partly cloudy, with a low around 40. Southwest wind around 15 mph, with gusts as high as 30 mph. Chance of precipitation is 30%.'}, {'number': 8, 'name': 'Tuesday', 'startTime': '2024-11-19T06:00:00-06:00', 'endTime': '2024-11-19T18:00:00-06:00', 'isDaytime': True, 'temperature': 51, 'temperatureUnit': 'F', 'temperatureTrend': '', 'probabilityOfPrecipitation': {'unitCode': 'wmoUnit:percent', 'value': None}, 'windSpeed': '10 to 15 mph', 'windDirection': 'NW', 'icon': 'https://api.weather.gov/icons/land/day/few?size=medium', 'shortForecast': 'Sunny', 'detailedForecast': 'Sunny, with a high near 51. Northwest wind 10 to 15 mph, with gusts as high as 25 mph.'}, {'number': 9, 'name': 'Tuesday Night', 'startTime': '2024-11-19T18:00:00-06:00', 'endTime': '2024-11-20T06:00:00-06:00', 'isDaytime': False, 'temperature': 31, 'temperatureUnit': 'F', 'temperatureTrend': '', 'probabilityOfPrecipitation': {'unitCode': 'wmoUnit:percent', 'value': None}, 'windSpeed': '10 to 15 mph', 'windDirection': 'NW', 'icon': 'https://api.weather.gov/icons/land/night/sct?size=medium', 'shortForecast': 'Partly Cloudy', 'detailedForecast': 'Partly cloudy, with a low around 31. Northwest wind 10 to 15 mph, with gusts as high as 30 mph.'}, {'number': 10, 'name': 'Wednesday', 'startTime': '2024-11-20T06:00:00-06:00', 'endTime': '2024-11-20T18:00:00-06:00', 'isDaytime': True, 'temperature': 45, 'temperatureUnit': 'F', 'temperatureTrend': '', 'probabilityOfPrecipitation': {'unitCode': 'wmoUnit:percent', 'value': None}, 'windSpeed': '15 to 20 mph', 'windDirection': 'NW', 'icon': 'https://api.weather.gov/icons/land/day/few?size=medium', 'shortForecast': 'Sunny', 'detailedForecast': 'Sunny, with a high near 45.'}, {'number': 11, 'name': 'Wednesday Night', 'startTime': '2024-11-20T18:00:00-06:00', 'endTime': '2024-11-21T06:00:00-06:00', 'isDaytime': False, 'temperature': 26, 'temperatureUnit': 'F', 'temperatureTrend': '', 'probabilityOfPrecipitation': {'unitCode': 'wmoUnit:percent', 'value': None}, 'windSpeed': '10 mph', 'windDirection': 'NW', 'icon': 'https://api.weather.gov/icons/land/night/few?size=medium', 'shortForecast': 'Mostly Clear', 'detailedForecast': 'Mostly clear, with a low around 26.'}, {'number': 12, 'name': 'Thursday', 'startTime': '2024-11-21T06:00:00-06:00', 'endTime': '2024-11-21T18:00:00-06:00', 'isDaytime': True, 'temperature': 45, 'temperatureUnit': 'F', 'temperatureTrend': '', 'probabilityOfPrecipitation': {'unitCode': 'wmoUnit:percent', 'value': None}, 'windSpeed': '10 to 15 mph', 'windDirection': 'NW', 'icon': 'https://api.weather.gov/icons/land/day/few?size=medium', 'shortForecast': 'Sunny', 'detailedForecast': 'Sunny, with a high near 45.'}, {'number': 13, 'name': 'Thursday Night', 'startTime': '2024-11-21T18:00:00-06:00', 'endTime': '2024-11-22T06:00:00-06:00', 'isDaytime': False, 'temperature': 27, 'temperatureUnit': 'F', 'temperatureTrend': '', 'probabilityOfPrecipitation': {'unitCode': 'wmoUnit:percent', 'value': None}, 'windSpeed': '5 mph', 'windDirection': 'NW', 'icon': 'https://api.weather.gov/icons/land/night/few?size=medium', 'shortForecast': 'Mostly Clear', 'detailedForecast': 'Mostly clear, with a low around 27.'}, {'number': 14, 'name': 'Friday', 'startTime': '2024-11-22T06:00:00-06:00', 'endTime': '2024-11-22T18:00:00-06:00', 'isDaytime': True, 'temperature': 50, 'temperatureUnit': 'F', 'temperatureTrend': '', 'probabilityOfPrecipitation': {'unitCode': 'wmoUnit:percent', 'value': None}, 'windSpeed': '5 to 10 mph', 'windDirection': 'W', 'icon': 'https://api.weather.gov/icons/land/day/sct?size=medium', 'shortForecast': 'Mostly Sunny', 'detailedForecast': 'Mostly sunny, with a high near 50.'}]}}\n"
     ]
    }
   ],
   "source": [
    "\n",
    "# Example usage\n",
    "latitude = 39.7456\n",
    "longitude = -97.0892\n",
    "weather_data = get_weather_data(latitude, longitude)\n",
    "\n",
    "# Print the forecast\n",
    "print(weather_data)"
   ]
  },
  {
   "cell_type": "code",
   "execution_count": null,
   "metadata": {},
   "outputs": [],
   "source": [
    "import geopandas as gpd\n",
    "import folium\n",
    "\n",
    "# Read the KML file\n",
    "gdf = gpd.read_file('./data/KONT-KLAX.kml')\n",
    "\n",
    "# Create a Folium map\n",
    "m = folium.Map(location=[gdf.centroid.y, gdf.centroid.x], zoom_start=10)\n",
    "\n",
    "# Add the flight path to the map\n",
    "folium.GeoJson(gdf, style_function=lambda x: {'color': 'blue', 'weight': 3}).add_to(m)\n",
    "\n",
    "# Display the map\n",
    "m"
   ]
  }
 ],
 "metadata": {
  "kernelspec": {
   "display_name": ".venv",
   "language": "python",
   "name": "python3"
  },
  "language_info": {
   "codemirror_mode": {
    "name": "ipython",
    "version": 3
   },
   "file_extension": ".py",
   "mimetype": "text/x-python",
   "name": "python",
   "nbconvert_exporter": "python",
   "pygments_lexer": "ipython3",
   "version": "3.12.7"
  }
 },
 "nbformat": 4,
 "nbformat_minor": 2
}
