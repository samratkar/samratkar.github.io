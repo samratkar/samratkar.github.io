{
 "cells": [
  {
   "cell_type": "code",
   "execution_count": 1,
   "metadata": {},
   "outputs": [],
   "source": [
    "import requests\n",
    "\n",
    "def get_weather_data(latitude, longitude):\n",
    "  \"\"\"Fetches weather information for a given latitude and longitude.\"\"\"\n",
    "\n",
    "  # Get the grid forecast endpoint URL\n",
    "  points_url = f\"https://api.weather.gov/points/{latitude},{longitude}\"\n",
    "  response = requests.get(points_url)\n",
    "  response.raise_for_status()  # Raise an error for bad responses\n",
    "\n",
    "  data = response.json()\n",
    "  forecast_url = data[\"properties\"][\"forecast\"]\n",
    "\n",
    "  # Fetch the forecast data\n",
    "  response = requests.get(forecast_url)\n",
    "  response.raise_for_status()\n",
    "\n",
    "  forecast = response.json()\n",
    "  return forecast\n"
   ]
  },
  {
   "cell_type": "code",
   "execution_count": 2,
   "metadata": {},
   "outputs": [
    {
     "name": "stdout",
     "output_type": "stream",
     "text": [
      "{'@context': ['https://geojson.org/geojson-ld/geojson-context.jsonld', {'@version': '1.1', 'wx': 'https://api.weather.gov/ontology#', 'geo': 'http://www.opengis.net/ont/geosparql#', 'unit': 'http://codes.wmo.int/common/unit/', '@vocab': 'https://api.weather.gov/ontology#'}], 'type': 'Feature', 'geometry': {'type': 'Polygon', 'coordinates': [[[-97.1089731, 39.7668263], [-97.1085269, 39.7447788], [-97.0798467, 39.7451195], [-97.08028680000001, 39.767167], [-97.1089731, 39.7668263]]]}, 'properties': {'units': 'us', 'forecastGenerator': 'BaselineForecastGenerator', 'generatedAt': '2024-11-16T02:02:55+00:00', 'updateTime': '2024-11-15T23:26:45+00:00', 'validTimes': '2024-11-15T17:00:00+00:00/P7DT11H', 'elevation': {'unitCode': 'wmoUnit:m', 'value': 441.96}, 'periods': [{'number': 1, 'name': 'Tonight', 'startTime': '2024-11-15T20:00:00-06:00', 'endTime': '2024-11-16T06:00:00-06:00', 'isDaytime': False, 'temperature': 45, 'temperatureUnit': 'F', 'temperatureTrend': '', 'probabilityOfPrecipitation': {'unitCode': 'wmoUnit:percent', 'value': None}, 'windSpeed': '15 mph', 'windDirection': 'S', 'icon': 'https://api.weather.gov/icons/land/night/sct?size=medium', 'shortForecast': 'Partly Cloudy', 'detailedForecast': 'Partly cloudy, with a low around 45. South wind around 15 mph, with gusts as high as 30 mph.'}, {'number': 2, 'name': 'Saturday', 'startTime': '2024-11-16T06:00:00-06:00', 'endTime': '2024-11-16T18:00:00-06:00', 'isDaytime': True, 'temperature': 65, 'temperatureUnit': 'F', 'temperatureTrend': '', 'probabilityOfPrecipitation': {'unitCode': 'wmoUnit:percent', 'value': 20}, 'windSpeed': '15 to 20 mph', 'windDirection': 'S', 'icon': 'https://api.weather.gov/icons/land/day/sct/rain_showers,20?size=medium', 'shortForecast': 'Mostly Sunny then Slight Chance Rain Showers', 'detailedForecast': 'A slight chance of rain showers between noon and 3pm. Mostly sunny, with a high near 65. South wind 15 to 20 mph, with gusts as high as 35 mph. Chance of precipitation is 20%.'}, {'number': 3, 'name': 'Saturday Night', 'startTime': '2024-11-16T18:00:00-06:00', 'endTime': '2024-11-17T06:00:00-06:00', 'isDaytime': False, 'temperature': 42, 'temperatureUnit': 'F', 'temperatureTrend': '', 'probabilityOfPrecipitation': {'unitCode': 'wmoUnit:percent', 'value': None}, 'windSpeed': '5 to 10 mph', 'windDirection': 'W', 'icon': 'https://api.weather.gov/icons/land/night/sct?size=medium', 'shortForecast': 'Partly Cloudy', 'detailedForecast': 'Partly cloudy, with a low around 42. West wind 5 to 10 mph, with gusts as high as 20 mph.'}, {'number': 4, 'name': 'Sunday', 'startTime': '2024-11-17T06:00:00-06:00', 'endTime': '2024-11-17T18:00:00-06:00', 'isDaytime': True, 'temperature': 55, 'temperatureUnit': 'F', 'temperatureTrend': '', 'probabilityOfPrecipitation': {'unitCode': 'wmoUnit:percent', 'value': None}, 'windSpeed': '5 mph', 'windDirection': 'NE', 'icon': 'https://api.weather.gov/icons/land/day/bkn?size=medium', 'shortForecast': 'Partly Sunny', 'detailedForecast': 'Partly sunny, with a high near 55. Northeast wind around 5 mph.'}, {'number': 5, 'name': 'Sunday Night', 'startTime': '2024-11-17T18:00:00-06:00', 'endTime': '2024-11-18T06:00:00-06:00', 'isDaytime': False, 'temperature': 44, 'temperatureUnit': 'F', 'temperatureTrend': '', 'probabilityOfPrecipitation': {'unitCode': 'wmoUnit:percent', 'value': 50}, 'windSpeed': '0 to 10 mph', 'windDirection': 'E', 'icon': 'https://api.weather.gov/icons/land/night/rain_showers,20/rain_showers,50?size=medium', 'shortForecast': 'Chance Rain Showers', 'detailedForecast': 'A chance of rain showers. Mostly cloudy, with a low around 44. East wind 0 to 10 mph. Chance of precipitation is 50%.'}, {'number': 6, 'name': 'Monday', 'startTime': '2024-11-18T06:00:00-06:00', 'endTime': '2024-11-18T18:00:00-06:00', 'isDaytime': True, 'temperature': 59, 'temperatureUnit': 'F', 'temperatureTrend': '', 'probabilityOfPrecipitation': {'unitCode': 'wmoUnit:percent', 'value': 100}, 'windSpeed': '10 to 20 mph', 'windDirection': 'SE', 'icon': 'https://api.weather.gov/icons/land/day/rain_showers,100/tsra,100?size=medium', 'shortForecast': 'Rain Showers', 'detailedForecast': 'Rain showers before noon, then showers and thunderstorms. Mostly cloudy, with a high near 59. Southeast wind 10 to 20 mph, with gusts as high as 30 mph. Chance of precipitation is 100%.'}, {'number': 7, 'name': 'Monday Night', 'startTime': '2024-11-18T18:00:00-06:00', 'endTime': '2024-11-19T06:00:00-06:00', 'isDaytime': False, 'temperature': 40, 'temperatureUnit': 'F', 'temperatureTrend': '', 'probabilityOfPrecipitation': {'unitCode': 'wmoUnit:percent', 'value': 30}, 'windSpeed': '15 mph', 'windDirection': 'SW', 'icon': 'https://api.weather.gov/icons/land/night/tsra_hi,30/sct?size=medium', 'shortForecast': 'Chance Showers And Thunderstorms then Partly Cloudy', 'detailedForecast': 'A chance of showers and thunderstorms before midnight. Partly cloudy, with a low around 40. Southwest wind around 15 mph, with gusts as high as 30 mph. Chance of precipitation is 30%.'}, {'number': 8, 'name': 'Tuesday', 'startTime': '2024-11-19T06:00:00-06:00', 'endTime': '2024-11-19T18:00:00-06:00', 'isDaytime': True, 'temperature': 51, 'temperatureUnit': 'F', 'temperatureTrend': '', 'probabilityOfPrecipitation': {'unitCode': 'wmoUnit:percent', 'value': None}, 'windSpeed': '10 to 15 mph', 'windDirection': 'NW', 'icon': 'https://api.weather.gov/icons/land/day/few?size=medium', 'shortForecast': 'Sunny', 'detailedForecast': 'Sunny, with a high near 51. Northwest wind 10 to 15 mph, with gusts as high as 25 mph.'}, {'number': 9, 'name': 'Tuesday Night', 'startTime': '2024-11-19T18:00:00-06:00', 'endTime': '2024-11-20T06:00:00-06:00', 'isDaytime': False, 'temperature': 31, 'temperatureUnit': 'F', 'temperatureTrend': '', 'probabilityOfPrecipitation': {'unitCode': 'wmoUnit:percent', 'value': None}, 'windSpeed': '10 to 15 mph', 'windDirection': 'NW', 'icon': 'https://api.weather.gov/icons/land/night/sct?size=medium', 'shortForecast': 'Partly Cloudy', 'detailedForecast': 'Partly cloudy, with a low around 31. Northwest wind 10 to 15 mph, with gusts as high as 30 mph.'}, {'number': 10, 'name': 'Wednesday', 'startTime': '2024-11-20T06:00:00-06:00', 'endTime': '2024-11-20T18:00:00-06:00', 'isDaytime': True, 'temperature': 45, 'temperatureUnit': 'F', 'temperatureTrend': '', 'probabilityOfPrecipitation': {'unitCode': 'wmoUnit:percent', 'value': None}, 'windSpeed': '15 to 20 mph', 'windDirection': 'NW', 'icon': 'https://api.weather.gov/icons/land/day/few?size=medium', 'shortForecast': 'Sunny', 'detailedForecast': 'Sunny, with a high near 45.'}, {'number': 11, 'name': 'Wednesday Night', 'startTime': '2024-11-20T18:00:00-06:00', 'endTime': '2024-11-21T06:00:00-06:00', 'isDaytime': False, 'temperature': 26, 'temperatureUnit': 'F', 'temperatureTrend': '', 'probabilityOfPrecipitation': {'unitCode': 'wmoUnit:percent', 'value': None}, 'windSpeed': '10 mph', 'windDirection': 'NW', 'icon': 'https://api.weather.gov/icons/land/night/few?size=medium', 'shortForecast': 'Mostly Clear', 'detailedForecast': 'Mostly clear, with a low around 26.'}, {'number': 12, 'name': 'Thursday', 'startTime': '2024-11-21T06:00:00-06:00', 'endTime': '2024-11-21T18:00:00-06:00', 'isDaytime': True, 'temperature': 45, 'temperatureUnit': 'F', 'temperatureTrend': '', 'probabilityOfPrecipitation': {'unitCode': 'wmoUnit:percent', 'value': None}, 'windSpeed': '10 to 15 mph', 'windDirection': 'NW', 'icon': 'https://api.weather.gov/icons/land/day/few?size=medium', 'shortForecast': 'Sunny', 'detailedForecast': 'Sunny, with a high near 45.'}, {'number': 13, 'name': 'Thursday Night', 'startTime': '2024-11-21T18:00:00-06:00', 'endTime': '2024-11-22T06:00:00-06:00', 'isDaytime': False, 'temperature': 27, 'temperatureUnit': 'F', 'temperatureTrend': '', 'probabilityOfPrecipitation': {'unitCode': 'wmoUnit:percent', 'value': None}, 'windSpeed': '5 mph', 'windDirection': 'NW', 'icon': 'https://api.weather.gov/icons/land/night/few?size=medium', 'shortForecast': 'Mostly Clear', 'detailedForecast': 'Mostly clear, with a low around 27.'}, {'number': 14, 'name': 'Friday', 'startTime': '2024-11-22T06:00:00-06:00', 'endTime': '2024-11-22T18:00:00-06:00', 'isDaytime': True, 'temperature': 50, 'temperatureUnit': 'F', 'temperatureTrend': '', 'probabilityOfPrecipitation': {'unitCode': 'wmoUnit:percent', 'value': None}, 'windSpeed': '5 to 10 mph', 'windDirection': 'W', 'icon': 'https://api.weather.gov/icons/land/day/sct?size=medium', 'shortForecast': 'Mostly Sunny', 'detailedForecast': 'Mostly sunny, with a high near 50.'}]}}\n"
     ]
    }
   ],
   "source": [
    "\n",
    "# Example usage\n",
    "latitude = 39.7456\n",
    "longitude = -97.0892\n",
    "weather_data = get_weather_data(latitude, longitude)\n",
    "\n",
    "# Print the forecast\n",
    "print(weather_data)"
   ]
  },
  {
   "cell_type": "code",
   "execution_count": 16,
   "metadata": {},
   "outputs": [
    {
     "name": "stderr",
     "output_type": "stream",
     "text": [
      "C:\\Users\\samra\\AppData\\Local\\Temp\\ipykernel_50036\\3233910977.py:8: UserWarning: Geometry is in a geographic CRS. Results from 'centroid' are likely incorrect. Use 'GeoSeries.to_crs()' to re-project geometries to a projected CRS before this operation.\n",
      "\n",
      "  centroid = gdf.geometry.centroid\n"
     ]
    },
    {
     "data": {
      "text/html": [
       "<div style=\"width:100%;\"><div style=\"position:relative;width:100%;height:0;padding-bottom:60%;\"><span style=\"color:#565656\">Make this Notebook Trusted to load map: File -> Trust Notebook</span><iframe srcdoc=\"&lt;!DOCTYPE html&gt;\n",
       "&lt;html&gt;\n",
       "&lt;head&gt;\n",
       "    \n",
       "    &lt;meta http-equiv=&quot;content-type&quot; content=&quot;text/html; charset=UTF-8&quot; /&gt;\n",
       "    \n",
       "        &lt;script&gt;\n",
       "            L_NO_TOUCH = false;\n",
       "            L_DISABLE_3D = false;\n",
       "        &lt;/script&gt;\n",
       "    \n",
       "    &lt;style&gt;html, body {width: 100%;height: 100%;margin: 0;padding: 0;}&lt;/style&gt;\n",
       "    &lt;style&gt;#map {position:absolute;top:0;bottom:0;right:0;left:0;}&lt;/style&gt;\n",
       "    &lt;script src=&quot;https://cdn.jsdelivr.net/npm/leaflet@1.9.3/dist/leaflet.js&quot;&gt;&lt;/script&gt;\n",
       "    &lt;script src=&quot;https://code.jquery.com/jquery-3.7.1.min.js&quot;&gt;&lt;/script&gt;\n",
       "    &lt;script src=&quot;https://cdn.jsdelivr.net/npm/bootstrap@5.2.2/dist/js/bootstrap.bundle.min.js&quot;&gt;&lt;/script&gt;\n",
       "    &lt;script src=&quot;https://cdnjs.cloudflare.com/ajax/libs/Leaflet.awesome-markers/2.0.2/leaflet.awesome-markers.js&quot;&gt;&lt;/script&gt;\n",
       "    &lt;link rel=&quot;stylesheet&quot; href=&quot;https://cdn.jsdelivr.net/npm/leaflet@1.9.3/dist/leaflet.css&quot;/&gt;\n",
       "    &lt;link rel=&quot;stylesheet&quot; href=&quot;https://cdn.jsdelivr.net/npm/bootstrap@5.2.2/dist/css/bootstrap.min.css&quot;/&gt;\n",
       "    &lt;link rel=&quot;stylesheet&quot; href=&quot;https://netdna.bootstrapcdn.com/bootstrap/3.0.0/css/bootstrap-glyphicons.css&quot;/&gt;\n",
       "    &lt;link rel=&quot;stylesheet&quot; href=&quot;https://cdn.jsdelivr.net/npm/@fortawesome/fontawesome-free@6.2.0/css/all.min.css&quot;/&gt;\n",
       "    &lt;link rel=&quot;stylesheet&quot; href=&quot;https://cdnjs.cloudflare.com/ajax/libs/Leaflet.awesome-markers/2.0.2/leaflet.awesome-markers.css&quot;/&gt;\n",
       "    &lt;link rel=&quot;stylesheet&quot; href=&quot;https://cdn.jsdelivr.net/gh/python-visualization/folium/folium/templates/leaflet.awesome.rotate.min.css&quot;/&gt;\n",
       "    \n",
       "            &lt;meta name=&quot;viewport&quot; content=&quot;width=device-width,\n",
       "                initial-scale=1.0, maximum-scale=1.0, user-scalable=no&quot; /&gt;\n",
       "            &lt;style&gt;\n",
       "                #map_90419f560dfdd5a0e1f5d40103265115 {\n",
       "                    position: relative;\n",
       "                    width: 100.0%;\n",
       "                    height: 100.0%;\n",
       "                    left: 0.0%;\n",
       "                    top: 0.0%;\n",
       "                }\n",
       "                .leaflet-container { font-size: 1rem; }\n",
       "            &lt;/style&gt;\n",
       "        \n",
       "&lt;/head&gt;\n",
       "&lt;body&gt;\n",
       "    \n",
       "    \n",
       "            &lt;div class=&quot;folium-map&quot; id=&quot;map_90419f560dfdd5a0e1f5d40103265115&quot; &gt;&lt;/div&gt;\n",
       "        \n",
       "&lt;/body&gt;\n",
       "&lt;script&gt;\n",
       "    \n",
       "    \n",
       "            var map_90419f560dfdd5a0e1f5d40103265115 = L.map(\n",
       "                &quot;map_90419f560dfdd5a0e1f5d40103265115&quot;,\n",
       "                {\n",
       "                    center: [54.23172152000001, 99.398554025],\n",
       "                    crs: L.CRS.EPSG3857,\n",
       "                    zoom: 10,\n",
       "                    zoomControl: true,\n",
       "                    preferCanvas: false,\n",
       "                }\n",
       "            );\n",
       "\n",
       "            \n",
       "\n",
       "        \n",
       "    \n",
       "            var tile_layer_c9cec9819e9fd8e9a561843afab14e2f = L.tileLayer(\n",
       "                &quot;https://tile.openstreetmap.org/{z}/{x}/{y}.png&quot;,\n",
       "                {&quot;attribution&quot;: &quot;\\u0026copy; \\u003ca href=\\&quot;https://www.openstreetmap.org/copyright\\&quot;\\u003eOpenStreetMap\\u003c/a\\u003e contributors&quot;, &quot;detectRetina&quot;: false, &quot;maxNativeZoom&quot;: 19, &quot;maxZoom&quot;: 19, &quot;minZoom&quot;: 0, &quot;noWrap&quot;: false, &quot;opacity&quot;: 1, &quot;subdomains&quot;: &quot;abc&quot;, &quot;tms&quot;: false}\n",
       "            );\n",
       "        \n",
       "    \n",
       "            tile_layer_c9cec9819e9fd8e9a561843afab14e2f.addTo(map_90419f560dfdd5a0e1f5d40103265115);\n",
       "        \n",
       "    \n",
       "        function geo_json_8a9b6e14e315dafee2ec9348d0b1dacc_styler(feature) {\n",
       "            switch(feature.id) {\n",
       "                default:\n",
       "                    return {&quot;color&quot;: &quot;blue&quot;, &quot;weight&quot;: 3};\n",
       "            }\n",
       "        }\n",
       "\n",
       "        function geo_json_8a9b6e14e315dafee2ec9348d0b1dacc_onEachFeature(feature, layer) {\n",
       "            layer.on({\n",
       "            });\n",
       "        };\n",
       "        var geo_json_8a9b6e14e315dafee2ec9348d0b1dacc = L.geoJson(null, {\n",
       "                onEachFeature: geo_json_8a9b6e14e315dafee2ec9348d0b1dacc_onEachFeature,\n",
       "            \n",
       "                style: geo_json_8a9b6e14e315dafee2ec9348d0b1dacc_styler,\n",
       "        });\n",
       "\n",
       "        function geo_json_8a9b6e14e315dafee2ec9348d0b1dacc_add (data) {\n",
       "            geo_json_8a9b6e14e315dafee2ec9348d0b1dacc\n",
       "                .addData(data);\n",
       "        }\n",
       "            geo_json_8a9b6e14e315dafee2ec9348d0b1dacc_add({&quot;bbox&quot;: [82.5991667, 52.0261111, 113.305, 55.5172222], &quot;features&quot;: [{&quot;bbox&quot;: [113.305, 52.0261111, 113.305, 52.0261111], &quot;geometry&quot;: {&quot;coordinates&quot;: [113.305, 52.0261111, 2272.0], &quot;type&quot;: &quot;Point&quot;}, &quot;id&quot;: &quot;0&quot;, &quot;properties&quot;: {&quot;Description&quot;: &quot;&quot;, &quot;Name&quot;: &quot;UIAA&quot;}, &quot;type&quot;: &quot;Feature&quot;}, {&quot;bbox&quot;: [112.5088889, 52.2522222, 112.5088889, 52.2522222], &quot;geometry&quot;: {&quot;coordinates&quot;: [112.5088889, 52.2522222, 0.0], &quot;type&quot;: &quot;Point&quot;}, &quot;id&quot;: &quot;1&quot;, &quot;properties&quot;: {&quot;Description&quot;: &quot;&quot;, &quot;Name&quot;: &quot;TESLO&quot;}, &quot;type&quot;: &quot;Feature&quot;}, {&quot;bbox&quot;: [111.7047194, 52.4713861, 111.7047194, 52.4713861], &quot;geometry&quot;: {&quot;coordinates&quot;: [111.7047194, 52.4713861, 0.0], &quot;type&quot;: &quot;Point&quot;}, &quot;id&quot;: &quot;2&quot;, &quot;properties&quot;: {&quot;Description&quot;: &quot;&quot;, &quot;Name&quot;: &quot;TUBKO&quot;}, &quot;type&quot;: &quot;Feature&quot;}, {&quot;bbox&quot;: [111.5336111, 52.5172222, 111.5336111, 52.5172222], &quot;geometry&quot;: {&quot;coordinates&quot;: [111.5336111, 52.5172222, 0.0], &quot;type&quot;: &quot;Point&quot;}, &quot;id&quot;: &quot;3&quot;, &quot;properties&quot;: {&quot;Description&quot;: &quot;&quot;, &quot;Name&quot;: &quot;NERKA&quot;}, &quot;type&quot;: &quot;Feature&quot;}, {&quot;bbox&quot;: [109.9336083, 52.9208333, 109.9336083, 52.9208333], &quot;geometry&quot;: {&quot;coordinates&quot;: [109.9336083, 52.9208333, 0.0], &quot;type&quot;: &quot;Point&quot;}, &quot;id&quot;: &quot;4&quot;, &quot;properties&quot;: {&quot;Description&quot;: &quot;&quot;, &quot;Name&quot;: &quot;OGRAN&quot;}, &quot;type&quot;: &quot;Feature&quot;}, {&quot;bbox&quot;: [108.1161083, 53.3444417, 108.1161083, 53.3444417], &quot;geometry&quot;: {&quot;coordinates&quot;: [108.1161083, 53.3444417, 0.0], &quot;type&quot;: &quot;Point&quot;}, &quot;id&quot;: &quot;5&quot;, &quot;properties&quot;: {&quot;Description&quot;: &quot;&quot;, &quot;Name&quot;: &quot;DEROD&quot;}, &quot;type&quot;: &quot;Feature&quot;}, {&quot;bbox&quot;: [105.4294417, 53.9055556, 105.4294417, 53.9055556], &quot;geometry&quot;: {&quot;coordinates&quot;: [105.4294417, 53.9055556, 0.0], &quot;type&quot;: &quot;Point&quot;}, &quot;id&quot;: &quot;6&quot;, &quot;properties&quot;: {&quot;Description&quot;: &quot;&quot;, &quot;Name&quot;: &quot;TOBSA&quot;}, &quot;type&quot;: &quot;Feature&quot;}, {&quot;bbox&quot;: [104.8772194, 54.0116639, 104.8772194, 54.0116639], &quot;geometry&quot;: {&quot;coordinates&quot;: [104.8772194, 54.0116639, 0.0], &quot;type&quot;: &quot;Point&quot;}, &quot;id&quot;: &quot;7&quot;, &quot;properties&quot;: {&quot;Description&quot;: &quot;&quot;, &quot;Name&quot;: &quot;DIGTA&quot;}, &quot;type&quot;: &quot;Feature&quot;}, {&quot;bbox&quot;: [103.2216639, 54.3122222, 103.2216639, 54.3122222], &quot;geometry&quot;: {&quot;coordinates&quot;: [103.2216639, 54.3122222, 0.0], &quot;type&quot;: &quot;Point&quot;}, &quot;id&quot;: &quot;8&quot;, &quot;properties&quot;: {&quot;Description&quot;: &quot;&quot;, &quot;Name&quot;: &quot;RUSAM&quot;}, &quot;type&quot;: &quot;Feature&quot;}, {&quot;bbox&quot;: [102.7999972, 54.3769444, 102.7999972, 54.3769444], &quot;geometry&quot;: {&quot;coordinates&quot;: [102.7999972, 54.3769444, 0.0], &quot;type&quot;: &quot;Point&quot;}, &quot;id&quot;: &quot;9&quot;, &quot;properties&quot;: {&quot;Description&quot;: &quot;&quot;, &quot;Name&quot;: &quot;RESNI&quot;}, &quot;type&quot;: &quot;Feature&quot;}, {&quot;bbox&quot;: [99.0625, 54.89, 99.0625, 54.89], &quot;geometry&quot;: {&quot;coordinates&quot;: [99.0625, 54.89, 0.0], &quot;type&quot;: &quot;Point&quot;}, &quot;id&quot;: &quot;10&quot;, &quot;properties&quot;: {&quot;Description&quot;: &quot;&quot;, &quot;Name&quot;: &quot;SUKOR&quot;}, &quot;type&quot;: &quot;Feature&quot;}, {&quot;bbox&quot;: [97.1013889, 55.0905528, 97.1013889, 55.0905528], &quot;geometry&quot;: {&quot;coordinates&quot;: [97.1013889, 55.0905528, 0.0], &quot;type&quot;: &quot;Point&quot;}, &quot;id&quot;: &quot;11&quot;, &quot;properties&quot;: {&quot;Description&quot;: &quot;&quot;, &quot;Name&quot;: &quot;OLISA&quot;}, &quot;type&quot;: &quot;Feature&quot;}, {&quot;bbox&quot;: [94.8774972, 55.265, 94.8774972, 55.265], &quot;geometry&quot;: {&quot;coordinates&quot;: [94.8774972, 55.265, 0.0], &quot;type&quot;: &quot;Point&quot;}, &quot;id&quot;: &quot;12&quot;, &quot;properties&quot;: {&quot;Description&quot;: &quot;&quot;, &quot;Name&quot;: &quot;RO&quot;}, &quot;type&quot;: &quot;Feature&quot;}, {&quot;bbox&quot;: [92.4997194, 55.4372222, 92.4997194, 55.4372222], &quot;geometry&quot;: {&quot;coordinates&quot;: [92.4997194, 55.4372222, 0.0], &quot;type&quot;: &quot;Point&quot;}, &quot;id&quot;: &quot;13&quot;, &quot;properties&quot;: {&quot;Description&quot;: &quot;&quot;, &quot;Name&quot;: &quot;NELES&quot;}, &quot;type&quot;: &quot;Feature&quot;}, {&quot;bbox&quot;: [91.1163889, 55.5172222, 91.1163889, 55.5172222], &quot;geometry&quot;: {&quot;coordinates&quot;: [91.1163889, 55.5172222, 0.0], &quot;type&quot;: &quot;Point&quot;}, &quot;id&quot;: &quot;14&quot;, &quot;properties&quot;: {&quot;Description&quot;: &quot;&quot;, &quot;Name&quot;: &quot;ROVNO&quot;}, &quot;type&quot;: &quot;Feature&quot;}, {&quot;bbox&quot;: [88.902775, 55.4322222, 88.902775, 55.4322222], &quot;geometry&quot;: {&quot;coordinates&quot;: [88.902775, 55.4322222, 0.0], &quot;type&quot;: &quot;Point&quot;}, &quot;id&quot;: &quot;15&quot;, &quot;properties&quot;: {&quot;Description&quot;: &quot;&quot;, &quot;Name&quot;: &quot;LAPAK&quot;}, &quot;type&quot;: &quot;Feature&quot;}, {&quot;bbox&quot;: [87.5766667, 55.3633333, 87.5766667, 55.3633333], &quot;geometry&quot;: {&quot;coordinates&quot;: [87.5766667, 55.3633333, 0.0], &quot;type&quot;: &quot;Point&quot;}, &quot;id&quot;: &quot;16&quot;, &quot;properties&quot;: {&quot;Description&quot;: &quot;&quot;, &quot;Name&quot;: &quot;LATPO&quot;}, &quot;type&quot;: &quot;Feature&quot;}, {&quot;bbox&quot;: [86.1077778, 55.2705528, 86.1077778, 55.2705528], &quot;geometry&quot;: {&quot;coordinates&quot;: [86.1077778, 55.2705528, 0.0], &quot;type&quot;: &quot;Point&quot;}, &quot;id&quot;: &quot;17&quot;, &quot;properties&quot;: {&quot;Description&quot;: &quot;&quot;, &quot;Name&quot;: &quot;KESED&quot;}, &quot;type&quot;: &quot;Feature&quot;}, {&quot;bbox&quot;: [84.6969417, 55.1963889, 84.6969417, 55.1963889], &quot;geometry&quot;: {&quot;coordinates&quot;: [84.6969417, 55.1963889, 0.0], &quot;type&quot;: &quot;Point&quot;}, &quot;id&quot;: &quot;18&quot;, &quot;properties&quot;: {&quot;Description&quot;: &quot;&quot;, &quot;Name&quot;: &quot;NATIR&quot;}, &quot;type&quot;: &quot;Feature&quot;}, {&quot;bbox&quot;: [82.5991667, 55.0333333, 82.5991667, 55.0333333], &quot;geometry&quot;: {&quot;coordinates&quot;: [82.5991667, 55.0333333, 365.0], &quot;type&quot;: &quot;Point&quot;}, &quot;id&quot;: &quot;19&quot;, &quot;properties&quot;: {&quot;Description&quot;: &quot;&quot;, &quot;Name&quot;: &quot;UNNT&quot;}, &quot;type&quot;: &quot;Feature&quot;}], &quot;type&quot;: &quot;FeatureCollection&quot;});\n",
       "\n",
       "        \n",
       "    \n",
       "            geo_json_8a9b6e14e315dafee2ec9348d0b1dacc.addTo(map_90419f560dfdd5a0e1f5d40103265115);\n",
       "        \n",
       "&lt;/script&gt;\n",
       "&lt;/html&gt;\" style=\"position:absolute;width:100%;height:100%;left:0;top:0;border:none !important;\" allowfullscreen webkitallowfullscreen mozallowfullscreen></iframe></div></div>"
      ],
      "text/plain": [
       "<folium.folium.Map at 0x275ad434740>"
      ]
     },
     "execution_count": 16,
     "metadata": {},
     "output_type": "execute_result"
    }
   ],
   "source": [
    "import geopandas as gpd\n",
    "import folium\n",
    "\n",
    "# Read the KML file\n",
    "gdf = gpd.read_file('../../../data/UIAA-UNNT.kml')\n",
    "\n",
    "# Calculate the centroid of the geometries\n",
    "centroid = gdf.geometry.centroid\n",
    "\n",
    "# Create a Folium map\n",
    "# m = folium.Map(location=[gdf.centroid.y, gdf.centroid.x], zoom_start=10)\n",
    "m = folium.Map(location=[centroid.y.mean(), centroid.x.mean()], zoom_start=10)\n",
    "\n",
    "\n",
    "# Add the flight path to the map\n",
    "folium.GeoJson(gdf, style_function=lambda x: {'color': 'blue', 'weight': 3}).add_to(m)\n",
    "\n",
    "# Display the map\n",
    "m"
   ]
  },
  {
   "cell_type": "code",
   "execution_count": 11,
   "metadata": {},
   "outputs": [
    {
     "name": "stdout",
     "output_type": "stream",
     "text": [
      "Collecting folium\n",
      "  Downloading folium-0.18.0-py2.py3-none-any.whl.metadata (3.8 kB)\n",
      "Collecting branca>=0.6.0 (from folium)\n",
      "  Downloading branca-0.8.0-py3-none-any.whl.metadata (1.5 kB)\n",
      "Requirement already satisfied: jinja2>=2.9 in c:\\github\\samratkar.github.io\\.venv\\lib\\site-packages (from folium) (3.1.4)\n",
      "Requirement already satisfied: numpy in c:\\github\\samratkar.github.io\\.venv\\lib\\site-packages (from folium) (1.26.4)\n",
      "Requirement already satisfied: requests in c:\\github\\samratkar.github.io\\.venv\\lib\\site-packages (from folium) (2.32.3)\n",
      "Collecting xyzservices (from folium)\n",
      "  Downloading xyzservices-2024.9.0-py3-none-any.whl.metadata (4.1 kB)\n",
      "Requirement already satisfied: MarkupSafe>=2.0 in c:\\github\\samratkar.github.io\\.venv\\lib\\site-packages (from jinja2>=2.9->folium) (3.0.2)\n",
      "Requirement already satisfied: charset-normalizer<4,>=2 in c:\\github\\samratkar.github.io\\.venv\\lib\\site-packages (from requests->folium) (3.4.0)\n",
      "Requirement already satisfied: idna<4,>=2.5 in c:\\github\\samratkar.github.io\\.venv\\lib\\site-packages (from requests->folium) (3.10)\n",
      "Requirement already satisfied: urllib3<3,>=1.21.1 in c:\\github\\samratkar.github.io\\.venv\\lib\\site-packages (from requests->folium) (2.2.3)\n",
      "Requirement already satisfied: certifi>=2017.4.17 in c:\\github\\samratkar.github.io\\.venv\\lib\\site-packages (from requests->folium) (2024.8.30)\n",
      "Downloading folium-0.18.0-py2.py3-none-any.whl (108 kB)\n",
      "Downloading branca-0.8.0-py3-none-any.whl (25 kB)\n",
      "Downloading xyzservices-2024.9.0-py3-none-any.whl (85 kB)\n",
      "Installing collected packages: xyzservices, branca, folium\n",
      "Successfully installed branca-0.8.0 folium-0.18.0 xyzservices-2024.9.0\n"
     ]
    }
   ],
   "source": [
    "!pip install folium"
   ]
  }
 ],
 "metadata": {
  "kernelspec": {
   "display_name": ".venv",
   "language": "python",
   "name": "python3"
  },
  "language_info": {
   "codemirror_mode": {
    "name": "ipython",
    "version": 3
   },
   "file_extension": ".py",
   "mimetype": "text/x-python",
   "name": "python",
   "nbconvert_exporter": "python",
   "pygments_lexer": "ipython3",
   "version": "3.12.9"
  }
 },
 "nbformat": 4,
 "nbformat_minor": 2
}
