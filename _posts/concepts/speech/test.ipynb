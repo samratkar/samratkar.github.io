{
 "cells": [
  {
   "cell_type": "code",
   "execution_count": 1,
   "id": "c73f343a",
   "metadata": {},
   "outputs": [
    {
     "name": "stdout",
     "output_type": "stream",
     "text": [
      "Collecting SpeechRecognition\n",
      "  Downloading speechrecognition-3.14.2-py3-none-any.whl.metadata (30 kB)\n",
      "Requirement already satisfied: typing-extensions in c:\\github\\samratkar.github.io\\.venv\\lib\\site-packages (from SpeechRecognition) (4.12.2)\n",
      "Downloading speechrecognition-3.14.2-py3-none-any.whl (32.9 MB)\n",
      "   ---------------------------------------- 0.0/32.9 MB ? eta -:--:--\n",
      "   --- ------------------------------------ 2.9/32.9 MB 18.6 MB/s eta 0:00:02\n",
      "   ------- -------------------------------- 6.3/32.9 MB 16.1 MB/s eta 0:00:02\n",
      "   ---------- ----------------------------- 8.4/32.9 MB 14.4 MB/s eta 0:00:02\n",
      "   ------------ --------------------------- 10.0/32.9 MB 12.9 MB/s eta 0:00:02\n",
      "   -------------- ------------------------- 11.8/32.9 MB 11.9 MB/s eta 0:00:02\n",
      "   ---------------- ----------------------- 13.6/32.9 MB 11.3 MB/s eta 0:00:02\n",
      "   ------------------ --------------------- 15.5/32.9 MB 10.9 MB/s eta 0:00:02\n",
      "   --------------------- ------------------ 17.3/32.9 MB 10.7 MB/s eta 0:00:02\n",
      "   ----------------------- ---------------- 19.4/32.9 MB 10.6 MB/s eta 0:00:02\n",
      "   -------------------------- ------------- 21.5/32.9 MB 10.4 MB/s eta 0:00:02\n",
      "   ---------------------------- ----------- 23.6/32.9 MB 10.4 MB/s eta 0:00:01\n",
      "   ------------------------------- -------- 25.7/32.9 MB 10.4 MB/s eta 0:00:01\n",
      "   --------------------------------- ------ 27.8/32.9 MB 10.4 MB/s eta 0:00:01\n",
      "   ------------------------------------ --- 30.1/32.9 MB 10.4 MB/s eta 0:00:01\n",
      "   ---------------------------------------  32.5/32.9 MB 10.4 MB/s eta 0:00:01\n",
      "   ---------------------------------------- 32.9/32.9 MB 10.3 MB/s eta 0:00:00\n",
      "Installing collected packages: SpeechRecognition\n",
      "Successfully installed SpeechRecognition-3.14.2\n"
     ]
    }
   ],
   "source": [
    "!pip install SpeechRecognition"
   ]
  },
  {
   "cell_type": "code",
   "execution_count": 8,
   "id": "d42fcbde",
   "metadata": {},
   "outputs": [
    {
     "data": {
      "text/plain": [
       "'hello I like to get some help setting up my account please'"
      ]
     },
     "execution_count": 8,
     "metadata": {},
     "output_type": "execute_result"
    }
   ],
   "source": [
    "import speech_recognition as sr\n",
    "recognizer = sr.Recognizer()\n",
    "recognizer.energy_threshold = 300\n",
    "audio_file = \"C:/github/samratkar.github.io/_posts/concepts/speech/clean-support-call.wav\"\n",
    "with sr.AudioFile(audio_file) as source:\n",
    "    audio_data = recognizer.record(source)\n",
    "recognizer.recognize_google(audio_data=audio_data, language=\"en-US\")"
   ]
  },
  {
   "cell_type": "code",
   "execution_count": null,
   "id": "01f375e3",
   "metadata": {},
   "outputs": [],
   "source": [
    "recognizer = sr.Recognizer()\n",
    "\n",
    "# Multiple speakers on different files\n",
    "speakers = [sr.AudioFile(\"speaker_0.wav\"), \n",
    "            sr.AudioFile(\"speaker_1.wav\"), \n",
    "            sr.AudioFile(\"speaker_2.wav\")]\n",
    "\n",
    "# Transcribe each speaker individually\n",
    "for i, speaker in enumerate(speakers):\n",
    "    with speaker as source:\n",
    "        speaker_audio = recognizer.record(source)\n",
    "    print(f\"Text from speaker {i}:\")\n",
    "    print(recognizer.recognize_google(speaker_audio,\n",
    "         \t\t\t\t  language=\"en-US\"))"
   ]
  },
  {
   "cell_type": "code",
   "execution_count": null,
   "id": "3935d9a0",
   "metadata": {},
   "outputs": [],
   "source": [
    "recognizer = sr.Recognizer()\n",
    "\n",
    "# Record the audio from the noisy support call\n",
    "with noisy_support_call as source:\n",
    "\t# Adjust the recognizer energy threshold for ambient noise\n",
    "    recognizer.adjust_for_ambient_noise(source, duration=____)\n",
    "    noisy_support_call_audio = recognizer.record(noisy_support_call)\n",
    " \n",
    "# Transcribe the speech from the noisy support call\n",
    "text = recognizer.recognize_google(noisy_support_call_audio,\n",
    "                                   language=\"en-US\",\n",
    "                                   show_all=True)\n",
    "\n",
    "print(text)"
   ]
  },
  {
   "cell_type": "code",
   "execution_count": null,
   "id": "fd8201cd",
   "metadata": {},
   "outputs": [],
   "source": [
    "recognizer = sr.Recognizer()\n",
    "\n",
    "# Record the audio from the noisy support call\n",
    "with noisy_support_call as source:\n",
    "\t# Adjust the recognizer energy threshold for ambient noise\n",
    "    recognizer.adjust_for_ambient_noise(source, duration=1)\n",
    "    noisy_support_call_audio = recognizer.record(noisy_support_call)\n",
    "# Transcribe the speech from the noisy support call\n",
    "text = recognizer.recognize_google(noisy_support_call_audio,\n",
    "                                   language=\"en-US\",\n",
    "                                   show_all=True)\n",
    "\n",
    "print(text)"
   ]
  }
 ],
 "metadata": {
  "kernelspec": {
   "display_name": ".venv",
   "language": "python",
   "name": "python3"
  },
  "language_info": {
   "codemirror_mode": {
    "name": "ipython",
    "version": 3
   },
   "file_extension": ".py",
   "mimetype": "text/x-python",
   "name": "python",
   "nbconvert_exporter": "python",
   "pygments_lexer": "ipython3",
   "version": "3.12.10"
  }
 },
 "nbformat": 4,
 "nbformat_minor": 5
}
