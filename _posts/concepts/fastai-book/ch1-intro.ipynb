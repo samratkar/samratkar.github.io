{
 "cells": [
  {
   "cell_type": "markdown",
   "metadata": {},
   "source": [
    "**Chapter 1 - Your Deep Learning Journey**"
   ]
  },
  {
   "cell_type": "markdown",
   "metadata": {},
   "source": [
    "#### Definition of Deep Learning\n",
    "Deep learning is a computer technique used to extract and transform data by using multi layer neural networks, ranging from regression to classification to reinforcement learning. \n",
    "Deeplearning has power, flexibility and simplicity. This can be easily applied to any field. These include social sciences, physical sciences, arts, medicine, finance, scientific research and many more. \n",
    "*Enlitic* - Jeremy Howard started this company that uses deep learning algorithms to diagnose illness and disease, more accurately than radiologists. \n",
    "#### Applications of Deep Learning\n",
    "1. **Natural language processing** - answering questions, speech recognition, summarization of documents, classifying documents, finding names, dates, etc in the document, searching for articles mentioning the concept. \n",
    "2. **Computer Vision** - Satellite and drone imagery interpretation (disaster resilience), face recognition, image captioning, reading traffic signs, locating pedestrians and vehicles in autonomous vehicles. \n",
    "3. **Medicine** - Finding anomalies in radiology images, including CT, MRI, Xray. Counting features in pathology slides, measuring features in ultrasound, diagnosing diabetic retinopathy. \n",
    "4. "
   ]
  }
 ],
 "metadata": {
  "language_info": {
   "name": "python"
  }
 },
 "nbformat": 4,
 "nbformat_minor": 2
}
