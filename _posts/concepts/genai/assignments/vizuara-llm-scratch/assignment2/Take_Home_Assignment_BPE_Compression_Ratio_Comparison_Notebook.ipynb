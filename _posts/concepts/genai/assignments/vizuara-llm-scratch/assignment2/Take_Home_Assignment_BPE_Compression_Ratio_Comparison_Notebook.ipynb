{
  "cells": [
    {
      "cell_type": "markdown",
      "metadata": {
        "id": "gjqkeMLhdGIo"
      },
      "source": [
        "# BPE and Tokenization assignment\n",
        "\n",
        "This notebook demonstrates:\n",
        "- Applying BPE on text in English, French, Spanish, and German.\n",
        "- Computing compression ratios for each language using BPE.\n",
        "- Computing compression ratios using the GPT tiktoken library and comparing\n",
        "- Computing the effect of vocabulary size on compression ratio for English, French, Spanish and German.\n",
        "- Analyzing the effect of file size on the compression ratio for English text.\n",
        "\n"
      ]
    },
    {
      "cell_type": "markdown",
      "metadata": {
        "id": "bSJ1cTJ2r9yi"
      },
      "source": [
        "\n",
        "\n",
        "```\n",
        "Make use of LLMs like ChatGPT and Claude to help you with code!\n",
        "\n",
        "You can give a good, detailed prompt and get code for plotting, varying file sizes etc.\n",
        "\n",
        "Make sure to use the codes we discussed in class also.\n",
        "```\n",
        "\n"
      ]
    },
    {
      "cell_type": "markdown",
      "metadata": {
        "id": "XnMp6cohBaMW"
      },
      "source": [
        "### Step 1: Install necessary packages\n",
        "You might need tiktoken and matplotlib\n"
      ]
    },
    {
      "cell_type": "markdown",
      "metadata": {
        "id": "O4UxJ7kCBiVU"
      },
      "source": [
        "### Step 2: Write BPE code which takes a text file, performs BPE and finds compression ratio.\n",
        "\n",
        "- You can use the code we discussed in class.\n",
        "\n",
        "- The dataset files for all languages (English, French, German and Spanish) have been provided to you.\n",
        "\n",
        "- Note that you can consider the final vocabulary size you can consider = Original vocabulary size  + 200 extra tokens."
      ]
    },
    {
      "cell_type": "markdown",
      "metadata": {},
      "source": [
        "### Step 3: Make bar plot of compression ratio for the 4 languages: English, French, German and Spanish."
      ]
    },
    {
      "cell_type": "markdown",
      "metadata": {},
      "source": [
        "### Step 4: Use tiktoken library and use tokenization schemes for GPT-2, GPT-3.5 and GPT-4. Find compression ratio for all 4 languages."
      ]
    },
    {
      "cell_type": "markdown",
      "metadata": {},
      "source": [
        "### Step 5: Make bar plots to compare compression ratios for BPE, GPT-2, GPT-3.5 and GPT-4 for all 4 languages"
      ]
    },
    {
      "cell_type": "code",
      "execution_count": null,
      "metadata": {},
      "outputs": [],
      "source": [
        "# all functions in one place.\n",
        "import tiktoken\n",
        "import matplotlib.pyplot as plt\n",
        "from tabulate import tabulate\n",
        "\n",
        "def get_file_text(file_path):\n",
        "    with open(file_path, 'r', encoding='utf-8') as file:\n",
        "        text = file.read()\n",
        "    return text\n",
        "\n",
        "def get_character_tokens(file_path):\n",
        "    text = get_file_text(file_path)\n",
        "    char_tokens = [ord(ch) for ch in text]\n",
        "    ids = list(char_tokens)\n",
        "    max_id = max(ids)\n",
        "    return ids, max_id\n",
        "\n",
        "def get_stats(ids):\n",
        "    counts = {}\n",
        "    for pair in zip(ids, ids[1:]):\n",
        "        counts[pair] = counts.get(pair, 0) + 1\n",
        "    return counts\n",
        "\n",
        "def merge(ids, pair, idx):\n",
        "    newids = []\n",
        "    i = 0\n",
        "    while i < len(ids):\n",
        "        if i < len(ids) - 1 and ids[i] == pair[0] and ids[i + 1] == pair[1]:\n",
        "            newids.append(idx)\n",
        "            i += 2\n",
        "        else:\n",
        "            newids.append(ids[i])\n",
        "            i += 1\n",
        "    return newids\n",
        "\n",
        "def merg_token_ids(token_ids,num_merges, max_id):\n",
        "    for i in range(num_merges):\n",
        "        # 1) Count all adjacent pairs in our current sequence 'ids'.\n",
        "        stats = get_stats(token_ids)\n",
        "        pair = max(stats, key=stats.get)\n",
        "        idx = max_id + i\n",
        "        # Decode the characters of the pair for display\n",
        "        char_pair = (chr(pair[0]), chr(pair[1]))\n",
        "        token_ids = merge(token_ids, pair, idx)\n",
        "    return token_ids\n",
        "\n",
        "def print_compression_ratio(model, language, char_tokens_ids, merged_token_ids, extra_tokens):\n",
        "    comp_ratio = len(char_tokens_ids) / len(merged_token_ids)\n",
        "    print(f\"{model}-{language} extra tokens: {extra_tokens}\")\n",
        "    print(f\"{model}-{language} char tokens length: {len(char_tokens_ids)}\")\n",
        "    print(f\"{model}-{language} merged token ids length: {len(merged_token_ids)}\")\n",
        "    print(f\"{model}-{language} compression ratio: {comp_ratio:.4f}X\")\n",
        "    print(\"......................................\\n\")\n",
        "    return comp_ratio\n",
        "\n",
        "def draw_bar_graph(labels, values, title, xlabel, ylabel):\n",
        "    plt.figure(figsize=(10, 6))\n",
        "    plt.bar(labels, values, color='skyblue')\n",
        "    plt.title(title)\n",
        "    plt.xlabel(xlabel)\n",
        "    plt.ylabel(ylabel)\n",
        "    plt.show()\n",
        "\n",
        "def get_token_ids(ids,max_id,file_path, model, extra_tokens):\n",
        "    text = get_file_text(file_path)\n",
        "    if model == \"BPE\":\n",
        "        token_ids = merg_token_ids(ids, extra_tokens, max_id)\n",
        "    else:\n",
        "        tokenizer = tiktoken.encoding_for_model(model)\n",
        "        token_ids = tokenizer.encode(text)\n",
        "    return token_ids\n",
        "\n",
        "def compute_comp_ratio_matrix(models, lang, files, extra_tokens):\n",
        "    temp_comp_ratios = []\n",
        "    # all model, all language comp ratios. rows = english, french, german, spanish. col = bpe, gpt2, gpt3, gpt4.\n",
        "    comp_ratios_matrix = []\n",
        "    for i in range(0, len(lang)):\n",
        "        ids, max_id = get_character_tokens(files[i])\n",
        "        for j in range(0, len(models)):\n",
        "            temp_comp_ratios.append(print_compression_ratio(models[j], lang[i], ids, get_token_ids(ids,max_id,files[i], models[j],extra_tokens), extra_tokens))\n",
        "        comp_ratios_matrix.append(temp_comp_ratios)\n",
        "        temp_comp_ratios = []\n",
        "\n",
        "    return comp_ratios_matrix\n",
        "\n",
        "def visualize_comp_ratios_matrix(models, lang, comp_ratios_matrix):\n",
        "    for i in range(0, len(lang)):\n",
        "        # drawing the compression ratio bar graph for each language, across all models.\n",
        "        draw_bar_graph(models, comp_ratios_matrix[i], f\"Compression Ratios for Language {lang[i]} across all Models\", \"Models\", \"Compression Ratio\")\n",
        "    for i in range(0, len(lang)):\n",
        "        for i in range(0, len(models)):\n",
        "            # drawing the compression ratio bar graph for each model, across all languages.\n",
        "            draw_bar_graph(lang, comp_ratios_matrix[i], f\"Compression Ratios for Model {models[i]} across all Languages\", \"Languages\", \"Compression Ratio\")\n",
        "\n",
        "def heatmap(lang, models, comp_ratios_matrix, extra_tokens):\n",
        "    import seaborn as sns\n",
        "    import matplotlib.pyplot as plt\n",
        "    print (f\"Number of extra tokens = {extra_tokens}\")\n",
        "    # Define row and column labels\n",
        "    row_labels = lang\n",
        "    col_labels = models\n",
        "\n",
        "    # Create a heatmap\n",
        "    sns.heatmap(comp_ratios_matrix, annot=True, fmt=\".3f\", cmap=\"coolwarm\", linewidths=0.5, xticklabels=col_labels, yticklabels=row_labels)\n",
        "\n",
        "    # Add axis labels\n",
        "    plt.xlabel(\"Models\")\n",
        "    plt.ylabel(\"Languages\")\n",
        "    plt.title(\"Heatmap of compression ratios\")\n",
        "\n",
        "    # Display the plot\n",
        "    plt.show()\n",
        "\n",
        "def print_comp_ratios_matrix(comp_ratios_matrix, extra_tokens, models, lang):\n",
        "    print (f\"Compression ratio matrix across all languages and models for number of extra tokens = {extra_tokens}\\n\")\n",
        "    print(tabulate(comp_ratios_matrix, headers=models, showindex=lang, tablefmt=\"fancy_grid\"))\n",
        "\n"
      ]
    },
    {
      "cell_type": "code",
      "execution_count": 101,
      "metadata": {
        "id": "otfswLMSB3Yl"
      },
      "outputs": [
        {
          "name": "stdout",
          "output_type": "stream",
          "text": [
            "BPE-English extra tokens: 1\n",
            "BPE-English char tokens length: 1115394\n",
            "BPE-English merged token ids length: 1087751\n",
            "BPE-English compression ratio: 1.0254X\n",
            "......................................\n",
            "\n",
            "gpt2-English extra tokens: 1\n",
            "gpt2-English char tokens length: 1115394\n",
            "gpt2-English merged token ids length: 338025\n",
            "gpt2-English compression ratio: 3.2997X\n",
            "......................................\n",
            "\n",
            "gpt-3.5-turbo-English extra tokens: 1\n",
            "gpt-3.5-turbo-English char tokens length: 1115394\n",
            "gpt-3.5-turbo-English merged token ids length: 301829\n",
            "gpt-3.5-turbo-English compression ratio: 3.6955X\n",
            "......................................\n",
            "\n",
            "gpt-4-English extra tokens: 1\n",
            "gpt-4-English char tokens length: 1115394\n",
            "gpt-4-English merged token ids length: 301829\n",
            "gpt-4-English compression ratio: 3.6955X\n",
            "......................................\n",
            "\n",
            "BPE-French extra tokens: 1\n",
            "BPE-French char tokens length: 1244159\n",
            "BPE-French merged token ids length: 1197140\n",
            "BPE-French compression ratio: 1.0393X\n",
            "......................................\n",
            "\n",
            "gpt2-French extra tokens: 1\n",
            "gpt2-French char tokens length: 1244159\n",
            "gpt2-French merged token ids length: 502825\n",
            "gpt2-French compression ratio: 2.4743X\n",
            "......................................\n",
            "\n",
            "gpt-3.5-turbo-French extra tokens: 1\n",
            "gpt-3.5-turbo-French char tokens length: 1244159\n",
            "gpt-3.5-turbo-French merged token ids length: 381812\n",
            "gpt-3.5-turbo-French compression ratio: 3.2586X\n",
            "......................................\n",
            "\n",
            "gpt-4-French extra tokens: 1\n",
            "gpt-4-French char tokens length: 1244159\n",
            "gpt-4-French merged token ids length: 381812\n",
            "gpt-4-French compression ratio: 3.2586X\n",
            "......................................\n",
            "\n",
            "BPE-German extra tokens: 1\n",
            "BPE-German char tokens length: 1284261\n",
            "BPE-German merged token ids length: 1248052\n",
            "BPE-German compression ratio: 1.0290X\n",
            "......................................\n",
            "\n",
            "gpt2-German extra tokens: 1\n",
            "gpt2-German char tokens length: 1284261\n",
            "gpt2-German merged token ids length: 537747\n",
            "gpt2-German compression ratio: 2.3882X\n",
            "......................................\n",
            "\n",
            "gpt-3.5-turbo-German extra tokens: 1\n",
            "gpt-3.5-turbo-German char tokens length: 1284261\n",
            "gpt-3.5-turbo-German merged token ids length: 387241\n",
            "gpt-3.5-turbo-German compression ratio: 3.3164X\n",
            "......................................\n",
            "\n",
            "gpt-4-German extra tokens: 1\n",
            "gpt-4-German char tokens length: 1284261\n",
            "gpt-4-German merged token ids length: 387241\n",
            "gpt-4-German compression ratio: 3.3164X\n",
            "......................................\n",
            "\n",
            "BPE-Spanish extra tokens: 1\n",
            "BPE-Spanish char tokens length: 1172872\n",
            "BPE-Spanish merged token ids length: 1144598\n",
            "BPE-Spanish compression ratio: 1.0247X\n",
            "......................................\n",
            "\n",
            "gpt2-Spanish extra tokens: 1\n",
            "gpt2-Spanish char tokens length: 1172872\n",
            "gpt2-Spanish merged token ids length: 484341\n",
            "gpt2-Spanish compression ratio: 2.4216X\n",
            "......................................\n",
            "\n",
            "gpt-3.5-turbo-Spanish extra tokens: 1\n",
            "gpt-3.5-turbo-Spanish char tokens length: 1172872\n",
            "gpt-3.5-turbo-Spanish merged token ids length: 366553\n",
            "gpt-3.5-turbo-Spanish compression ratio: 3.1997X\n",
            "......................................\n",
            "\n",
            "gpt-4-Spanish extra tokens: 1\n",
            "gpt-4-Spanish char tokens length: 1172872\n",
            "gpt-4-Spanish merged token ids length: 366553\n",
            "gpt-4-Spanish compression ratio: 3.1997X\n",
            "......................................\n",
            "\n"
          ]
        }
      ],
      "source": [
        "lang = [\"English\", \"French\", \"German\", \"Spanish\"]\n",
        "files = [\"./input.txt\", \"./output_french.txt\", \"./output_german.txt\", \"./output_spanish.txt\"]\n",
        "models = [\"BPE\", \"gpt2\", \"gpt-3.5-turbo\", \"gpt-4\"]\n",
        "extra_tokens = 1\n",
        "comp_ratios_matrix = compute_comp_ratio_matrix(models, lang, files, extra_tokens)"
      ]
    },
    {
      "cell_type": "code",
      "execution_count": 102,
      "metadata": {},
      "outputs": [
        {
          "name": "stdout",
          "output_type": "stream",
          "text": [
            "Compression ratio matrix across all languages and models for number of extra tokens = 1\n",
            "\n",
            "╒═════════╤═════════╤═════════╤═════════════════╤═════════╕\n",
            "│         │     BPE │    gpt2 │   gpt-3.5-turbo │   gpt-4 │\n",
            "╞═════════╪═════════╪═════════╪═════════════════╪═════════╡\n",
            "│ English │ 1.02541 │ 3.29974 │         3.69545 │ 3.69545 │\n",
            "├─────────┼─────────┼─────────┼─────────────────┼─────────┤\n",
            "│ French  │ 1.03928 │ 2.47434 │         3.25856 │ 3.25856 │\n",
            "├─────────┼─────────┼─────────┼─────────────────┼─────────┤\n",
            "│ German  │ 1.02901 │ 2.38823 │         3.31644 │ 3.31644 │\n",
            "├─────────┼─────────┼─────────┼─────────────────┼─────────┤\n",
            "│ Spanish │ 1.0247  │ 2.42158 │         3.19973 │ 3.19973 │\n",
            "╘═════════╧═════════╧═════════╧═════════════════╧═════════╛\n"
          ]
        }
      ],
      "source": [
        "print_comp_ratios_matrix(comp_ratios_matrix, extra_tokens)"
      ]
    },
    {
      "cell_type": "code",
      "execution_count": 103,
      "metadata": {},
      "outputs": [
        {
          "name": "stdout",
          "output_type": "stream",
          "text": [
            "Number of extra tokens = 1\n"
          ]
        },
        {
          "data": {
            "image/png": "[encoded data removed]",
            "text/plain": [
              "<Figure size 640x480 with 2 Axes>"
            ]
          },
          "metadata": {},
          "output_type": "display_data"
        }
      ],
      "source": [
        "heatmap(lang, models, comp_ratios_matrix, extra_tokens)"
      ]
    },
    {
      "cell_type": "code",
      "execution_count": null,
      "metadata": {},
      "outputs": [],
      "source": [
        "visualize_comp_ratios_matrix(models, lang, comp_ratios_matrix)"
      ]
    },
    {
      "cell_type": "markdown",
      "metadata": {
        "id": "UV3xafCTCkz6"
      },
      "source": [
        "### Step 6: Vary the extra tokens from 200 to 500 to 800. Write code to find effect of extra tokens on the compression ratio. Do this for all languages\n",
        "\n",
        "Hint: You already have written the BPE code for extra tokens = 200 in Step 2. Use this as reference."
      ]
    },
    {
      "cell_type": "code",
      "execution_count": 126,
      "metadata": {
        "id": "Tg8lwjx1CwsO"
      },
      "outputs": [
        {
          "name": "stdout",
          "output_type": "stream",
          "text": [
            "BPE-English extra tokens: 1\n",
            "BPE-English char tokens length: 1115394\n",
            "BPE-English merged token ids length: 1087751\n",
            "BPE-English compression ratio: 1.0254X\n",
            "......................................\n",
            "\n",
            "gpt2-English extra tokens: 1\n",
            "gpt2-English char tokens length: 1115394\n",
            "gpt2-English merged token ids length: 338025\n",
            "gpt2-English compression ratio: 3.2997X\n",
            "......................................\n",
            "\n",
            "gpt-3.5-turbo-English extra tokens: 1\n",
            "gpt-3.5-turbo-English char tokens length: 1115394\n",
            "gpt-3.5-turbo-English merged token ids length: 301829\n",
            "gpt-3.5-turbo-English compression ratio: 3.6955X\n",
            "......................................\n",
            "\n",
            "gpt-4-English extra tokens: 1\n",
            "gpt-4-English char tokens length: 1115394\n",
            "gpt-4-English merged token ids length: 301829\n",
            "gpt-4-English compression ratio: 3.6955X\n",
            "......................................\n",
            "\n",
            "BPE-English extra tokens: 2\n",
            "BPE-English char tokens length: 1115394\n",
            "BPE-English merged token ids length: 1065012\n",
            "BPE-English compression ratio: 1.0473X\n",
            "......................................\n",
            "\n",
            "gpt2-English extra tokens: 2\n",
            "gpt2-English char tokens length: 1115394\n",
            "gpt2-English merged token ids length: 338025\n",
            "gpt2-English compression ratio: 3.2997X\n",
            "......................................\n",
            "\n",
            "gpt-3.5-turbo-English extra tokens: 2\n",
            "gpt-3.5-turbo-English char tokens length: 1115394\n",
            "gpt-3.5-turbo-English merged token ids length: 301829\n",
            "gpt-3.5-turbo-English compression ratio: 3.6955X\n",
            "......................................\n",
            "\n",
            "gpt-4-English extra tokens: 2\n",
            "gpt-4-English char tokens length: 1115394\n",
            "gpt-4-English merged token ids length: 301829\n",
            "gpt-4-English compression ratio: 3.6955X\n",
            "......................................\n",
            "\n",
            "BPE-English extra tokens: 3\n",
            "BPE-English char tokens length: 1115394\n",
            "BPE-English merged token ids length: 1048504\n",
            "BPE-English compression ratio: 1.0638X\n",
            "......................................\n",
            "\n",
            "gpt2-English extra tokens: 3\n",
            "gpt2-English char tokens length: 1115394\n",
            "gpt2-English merged token ids length: 338025\n",
            "gpt2-English compression ratio: 3.2997X\n",
            "......................................\n",
            "\n",
            "gpt-3.5-turbo-English extra tokens: 3\n",
            "gpt-3.5-turbo-English char tokens length: 1115394\n",
            "gpt-3.5-turbo-English merged token ids length: 301829\n",
            "gpt-3.5-turbo-English compression ratio: 3.6955X\n",
            "......................................\n",
            "\n",
            "gpt-4-English extra tokens: 3\n",
            "gpt-4-English char tokens length: 1115394\n",
            "gpt-4-English merged token ids length: 301829\n",
            "gpt-4-English compression ratio: 3.6955X\n",
            "......................................\n",
            "\n"
          ]
        }
      ],
      "source": [
        "# effect of extra tokens on compression ratio\n",
        "extra_tokens = [1, 2, 3]\n",
        "lang = [\"English\"]\n",
        "files = [\"./input.txt\"]\n",
        "models = [\"BPE\", \"gpt2\", \"gpt-3.5-turbo\", \"gpt-4\"]\n",
        "comp_ratios_extra_tokens = []\n",
        "for merges in extra_tokens:\n",
        "    comp_ratios_extra_tokens+=(compute_comp_ratio_matrix(models, lang, files, merges)) \n"
      ]
    },
    {
      "cell_type": "code",
      "execution_count": 127,
      "metadata": {},
      "outputs": [
        {
          "name": "stdout",
          "output_type": "stream",
          "text": [
            "[[1.0254129851409008, 3.2997381850454848, 3.695450072723297, 3.695450072723297], [1.0473065092224314, 3.2997381850454848, 3.695450072723297, 3.695450072723297], [1.0637956555244426, 3.2997381850454848, 3.695450072723297, 3.695450072723297]]\n"
          ]
        }
      ],
      "source": [
        "print (comp_ratios_extra_tokens)"
      ]
    },
    {
      "cell_type": "code",
      "execution_count": 129,
      "metadata": {},
      "outputs": [
        {
          "name": "stdout",
          "output_type": "stream",
          "text": [
            "Extra tokens matrix across all languages and models for compression ratio = [1, 2, 3]\n",
            "\n",
            "╒════╤═════════╤═════════╤═════════════════╤═════════╕\n",
            "│    │     BPE │    gpt2 │   gpt-3.5-turbo │   gpt-4 │\n",
            "╞════╪═════════╪═════════╪═════════════════╪═════════╡\n",
            "│  1 │ 1.02541 │ 3.29974 │         3.69545 │ 3.69545 │\n",
            "├────┼─────────┼─────────┼─────────────────┼─────────┤\n",
            "│  2 │ 1.04731 │ 3.29974 │         3.69545 │ 3.69545 │\n",
            "├────┼─────────┼─────────┼─────────────────┼─────────┤\n",
            "│  3 │ 1.0638  │ 3.29974 │         3.69545 │ 3.69545 │\n",
            "╘════╧═════════╧═════════╧═════════════════╧═════════╛\n"
          ]
        }
      ],
      "source": [
        "print (f\"Extra tokens matrix across all languages and models for compression ratio = {extra_tokens}\\n\")\n",
        "print(tabulate(comp_ratios_extra_tokens, headers=models, showindex=extra_tokens, tablefmt=\"fancy_grid\"))"
      ]
    },
    {
      "cell_type": "markdown",
      "metadata": {},
      "source": [
        "## Step 5: Make bar plots to compare compression ratios for BPE, GPT-2, GPT-3.5 and GPT-4 for all 4 languages"
      ]
    },
    {
      "cell_type": "markdown",
      "metadata": {},
      "source": [
        "## Step 5: Make bar plots to compare compression ratios for BPE, GPT-2, GPT-3.5 and GPT-4 for all 4 languages"
      ]
    },
    {
      "cell_type": "markdown",
      "metadata": {},
      "source": [
        "## Step 5: Make bar plots to compare compression ratios for BPE, GPT-2, GPT-3.5 and GPT-4 for all 4 languages"
      ]
    },
    {
      "cell_type": "markdown",
      "metadata": {},
      "source": [
        "## Step 5: Make bar plots to compare compression ratios for BPE, GPT-2, GPT-3.5 and GPT-4 for all 4 languages"
      ]
    },
    {
      "cell_type": "markdown",
      "metadata": {
        "id": "YlC_VPADCyRB"
      },
      "source": [
        "## Step 7: Write code for varying input file size and see effect on compression ratio (only for English language).\n",
        "\n",
        "- Create text files with decreasing sizes using the scaling factors: 10, 8, 6.\n",
        "\n",
        "- Note that the final vocabulary size you can consider = Original vocabulary size + 5% of the total text size.\n",
        "\n",
        "Hint: Here is how you can use scaling factor of let's say 10.\n",
        "\n",
        "\n",
        "```\n",
        "fraction = 1 / 10\n",
        "\n",
        "subtext = input_text[:int(len_text * fraction)]\n",
        "```\n",
        "\n"
      ]
    },
    {
      "cell_type": "code",
      "execution_count": 11,
      "metadata": {
        "id": "TGzO0gw6C6Yu"
      },
      "outputs": [],
      "source": [
        "## Your code here. Feel free to use ChatGPT, Claude for help."
      ]
    }
  ],
  "metadata": {
    "colab": {
      "provenance": []
    },
    "kernelspec": {
      "display_name": ".venv",
      "language": "python",
      "name": "python3"
    },
    "language_info": {
      "codemirror_mode": {
        "name": "ipython",
        "version": 3
      },
      "file_extension": ".py",
      "mimetype": "text/x-python",
      "name": "python",
      "nbconvert_exporter": "python",
      "pygments_lexer": "ipython3",
      "version": "3.12.9"
    }
  },
  "nbformat": 4,
  "nbformat_minor": 0
}
