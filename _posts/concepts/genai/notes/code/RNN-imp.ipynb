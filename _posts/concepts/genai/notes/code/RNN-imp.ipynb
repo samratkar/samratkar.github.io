{
 "cells": [
  {
   "cell_type": "markdown",
   "metadata": {},
   "source": [
    "![](../../../../images/genai/rnn-block-dark.svg)"
   ]
  },
  {
   "cell_type": "markdown",
   "metadata": {},
   "source": [
    "1. Objective : Translate English sentence - \"I go\" to Hindi sentence - \"मैं जाता हूँ\"\n",
    "\n",
    "2. Process of RNN - \n",
    "    - Step 1 : Convert the input tokens into embeddings. \n",
    "                Let x(\"I\") = x1 = 1\n",
    "                Let x(\"go\") = x2 = 2\n",
    "    - Step 2 : decide hidden state size. \n",
    "                Let hidden state size = s = 2. Number of layers of the neural network = n = 1\n",
    "    - Step 3 : Initialize the 1st hidden state h0 based on the hidden size s. It will be a matrix of dimenstions s x n = 2x1\n",
    "                "
   ]
  },
  {
   "cell_type": "code",
   "execution_count": 1,
   "metadata": {},
   "outputs": [
    {
     "name": "stdout",
     "output_type": "stream",
     "text": [
      "Collecting nbconvert\n",
      "  Downloading nbconvert-7.16.6-py3-none-any.whl.metadata (8.5 kB)\n",
      "Requirement already satisfied: beautifulsoup4 in c:\\github\\samratkar.github.io\\.venv\\lib\\site-packages (from nbconvert) (4.12.3)\n",
      "Collecting bleach!=5.0.0 (from bleach[css]!=5.0.0->nbconvert)\n",
      "  Downloading bleach-6.2.0-py3-none-any.whl.metadata (30 kB)\n",
      "Collecting defusedxml (from nbconvert)\n",
      "  Using cached defusedxml-0.7.1-py2.py3-none-any.whl.metadata (32 kB)\n",
      "Requirement already satisfied: jinja2>=3.0 in c:\\github\\samratkar.github.io\\.venv\\lib\\site-packages (from nbconvert) (3.1.4)\n",
      "Requirement already satisfied: jupyter-core>=4.7 in c:\\github\\samratkar.github.io\\.venv\\lib\\site-packages (from nbconvert) (5.7.2)\n",
      "Collecting jupyterlab-pygments (from nbconvert)\n",
      "  Using cached jupyterlab_pygments-0.3.0-py3-none-any.whl.metadata (4.4 kB)\n",
      "Requirement already satisfied: markupsafe>=2.0 in c:\\github\\samratkar.github.io\\.venv\\lib\\site-packages (from nbconvert) (3.0.2)\n",
      "Collecting mistune<4,>=2.0.3 (from nbconvert)\n",
      "  Downloading mistune-3.1.1-py3-none-any.whl.metadata (1.7 kB)\n",
      "Collecting nbclient>=0.5.0 (from nbconvert)\n",
      "  Downloading nbclient-0.10.2-py3-none-any.whl.metadata (8.3 kB)\n",
      "Collecting nbformat>=5.7 (from nbconvert)\n",
      "  Downloading nbformat-5.10.4-py3-none-any.whl.metadata (3.6 kB)\n",
      "Requirement already satisfied: packaging in c:\\github\\samratkar.github.io\\.venv\\lib\\site-packages (from nbconvert) (24.1)\n",
      "Collecting pandocfilters>=1.4.1 (from nbconvert)\n",
      "  Using cached pandocfilters-1.5.1-py2.py3-none-any.whl.metadata (9.0 kB)\n",
      "Requirement already satisfied: pygments>=2.4.1 in c:\\github\\samratkar.github.io\\.venv\\lib\\site-packages (from nbconvert) (2.18.0)\n",
      "Requirement already satisfied: traitlets>=5.1 in c:\\github\\samratkar.github.io\\.venv\\lib\\site-packages (from nbconvert) (5.14.3)\n",
      "Collecting webencodings (from bleach!=5.0.0->bleach[css]!=5.0.0->nbconvert)\n",
      "  Using cached webencodings-0.5.1-py2.py3-none-any.whl.metadata (2.1 kB)\n",
      "Collecting tinycss2<1.5,>=1.1.0 (from bleach[css]!=5.0.0->nbconvert)\n",
      "  Downloading tinycss2-1.4.0-py3-none-any.whl.metadata (3.0 kB)\n",
      "Requirement already satisfied: platformdirs>=2.5 in c:\\github\\samratkar.github.io\\.venv\\lib\\site-packages (from jupyter-core>=4.7->nbconvert) (4.3.6)\n",
      "Requirement already satisfied: pywin32>=300 in c:\\github\\samratkar.github.io\\.venv\\lib\\site-packages (from jupyter-core>=4.7->nbconvert) (308)\n",
      "Requirement already satisfied: jupyter-client>=6.1.12 in c:\\github\\samratkar.github.io\\.venv\\lib\\site-packages (from nbclient>=0.5.0->nbconvert) (8.6.3)\n",
      "Collecting fastjsonschema>=2.15 (from nbformat>=5.7->nbconvert)\n",
      "  Downloading fastjsonschema-2.21.1-py3-none-any.whl.metadata (2.2 kB)\n",
      "Requirement already satisfied: jsonschema>=2.6 in c:\\github\\samratkar.github.io\\.venv\\lib\\site-packages (from nbformat>=5.7->nbconvert) (4.23.0)\n",
      "Requirement already satisfied: soupsieve>1.2 in c:\\github\\samratkar.github.io\\.venv\\lib\\site-packages (from beautifulsoup4->nbconvert) (2.6)\n",
      "Requirement already satisfied: attrs>=22.2.0 in c:\\github\\samratkar.github.io\\.venv\\lib\\site-packages (from jsonschema>=2.6->nbformat>=5.7->nbconvert) (24.2.0)\n",
      "Requirement already satisfied: jsonschema-specifications>=2023.03.6 in c:\\github\\samratkar.github.io\\.venv\\lib\\site-packages (from jsonschema>=2.6->nbformat>=5.7->nbconvert) (2024.10.1)\n",
      "Requirement already satisfied: referencing>=0.28.4 in c:\\github\\samratkar.github.io\\.venv\\lib\\site-packages (from jsonschema>=2.6->nbformat>=5.7->nbconvert) (0.35.1)\n",
      "Requirement already satisfied: rpds-py>=0.7.1 in c:\\github\\samratkar.github.io\\.venv\\lib\\site-packages (from jsonschema>=2.6->nbformat>=5.7->nbconvert) (0.20.0)\n",
      "Requirement already satisfied: python-dateutil>=2.8.2 in c:\\github\\samratkar.github.io\\.venv\\lib\\site-packages (from jupyter-client>=6.1.12->nbclient>=0.5.0->nbconvert) (2.9.0.post0)\n",
      "Requirement already satisfied: pyzmq>=23.0 in c:\\github\\samratkar.github.io\\.venv\\lib\\site-packages (from jupyter-client>=6.1.12->nbclient>=0.5.0->nbconvert) (26.2.0)\n",
      "Requirement already satisfied: tornado>=6.2 in c:\\github\\samratkar.github.io\\.venv\\lib\\site-packages (from jupyter-client>=6.1.12->nbclient>=0.5.0->nbconvert) (6.4.1)\n",
      "Requirement already satisfied: six>=1.5 in c:\\github\\samratkar.github.io\\.venv\\lib\\site-packages (from python-dateutil>=2.8.2->jupyter-client>=6.1.12->nbclient>=0.5.0->nbconvert) (1.16.0)\n",
      "Downloading nbconvert-7.16.6-py3-none-any.whl (258 kB)\n",
      "Downloading bleach-6.2.0-py3-none-any.whl (163 kB)\n",
      "Downloading mistune-3.1.1-py3-none-any.whl (53 kB)\n",
      "Downloading nbclient-0.10.2-py3-none-any.whl (25 kB)\n",
      "Downloading nbformat-5.10.4-py3-none-any.whl (78 kB)\n",
      "Using cached pandocfilters-1.5.1-py2.py3-none-any.whl (8.7 kB)\n",
      "Using cached defusedxml-0.7.1-py2.py3-none-any.whl (25 kB)\n",
      "Using cached jupyterlab_pygments-0.3.0-py3-none-any.whl (15 kB)\n",
      "Downloading fastjsonschema-2.21.1-py3-none-any.whl (23 kB)\n",
      "Downloading tinycss2-1.4.0-py3-none-any.whl (26 kB)\n",
      "Using cached webencodings-0.5.1-py2.py3-none-any.whl (11 kB)\n",
      "Installing collected packages: webencodings, fastjsonschema, tinycss2, pandocfilters, mistune, jupyterlab-pygments, defusedxml, bleach, nbformat, nbclient, nbconvert\n",
      "Successfully installed bleach-6.2.0 defusedxml-0.7.1 fastjsonschema-2.21.1 jupyterlab-pygments-0.3.0 mistune-3.1.1 nbclient-0.10.2 nbconvert-7.16.6 nbformat-5.10.4 pandocfilters-1.5.1 tinycss2-1.4.0 webencodings-0.5.1\n"
     ]
    },
    {
     "name": "stderr",
     "output_type": "stream",
     "text": [
      "\n",
      "[notice] A new release of pip is available: 24.3.1 -> 25.0.1\n",
      "[notice] To update, run: python.exe -m pip install --upgrade pip\n"
     ]
    }
   ],
   "source": [
    "!pip install nbconvert"
   ]
  },
  {
   "cell_type": "code",
   "execution_count": 24,
   "metadata": {},
   "outputs": [
    {
     "name": "stdout",
     "output_type": "stream",
     "text": [
      "Matrix Product:\n",
      " [[0.5]\n",
      " [0.7]]\n"
     ]
    }
   ],
   "source": [
    "import numpy as np\n",
    "W = np.array([[0.30, -0.10], [0, 0.20]])\n",
    "h0 = np.array([[0.0], [0.0]])\n",
    "U = np.array([[0.50], [0.70]])\n",
    "b = np.array([[0.0], [0.0]])\n",
    "x1 = 1\n",
    "\n",
    "# Matrix multiplication\n",
    "M = np.matmul(W, h0) + U * x1 + b\n",
    "\n",
    "print(\"Matrix Product:\\n\", M)"
   ]
  },
  {
   "cell_type": "code",
   "execution_count": null,
   "metadata": {},
   "outputs": [],
   "source": []
  }
 ],
 "metadata": {
  "kernelspec": {
   "display_name": ".venv",
   "language": "python",
   "name": "python3"
  },
  "language_info": {
   "codemirror_mode": {
    "name": "ipython",
    "version": 3
   },
   "file_extension": ".py",
   "mimetype": "text/x-python",
   "name": "python",
   "nbconvert_exporter": "python",
   "pygments_lexer": "ipython3",
   "version": "3.12.9"
  }
 },
 "nbformat": 4,
 "nbformat_minor": 2
}
