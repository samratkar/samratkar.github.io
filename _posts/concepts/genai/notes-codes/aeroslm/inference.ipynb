{
  "cells": [
    {
      "cell_type": "markdown",
      "metadata": {
        "colab_type": "text",
        "id": "view-in-github"
      },
      "source": [
        "<a href=\"https://colab.research.google.com/github/samratkar/samratkar.github.io/blob/main/_posts/concepts/genai/notes-codes/aeroslm/inference.ipynb\" target=\"_parent\"><img src=\"https://colab.research.google.com/assets/colab-badge.svg\" alt=\"Open In Colab\"/></a>"
      ]
    },
    {
      "cell_type": "markdown",
      "metadata": {
        "id": "bHQTNlXHaGAB"
      },
      "source": [
        "<a href=\"https://colab.research.google.com/github/samratkar/samratkar.github.io/blob/main/_posts/concepts/genai/notes-codes/aeroslm/inference.ipynb\" target=\"_parent\"><img src=\"https://colab.research.google.com/assets/colab-badge.svg\" alt=\"Open In Colab\"/></a>"
      ]
    },
    {
      "cell_type": "code",
      "execution_count": 2,
      "metadata": {
        "colab": {
          "base_uri": "https://localhost:8080/",
          "height": 622,
          "referenced_widgets": [
            "e8c5050993fb42e294d8e26ce01d4e55",
            "28074b4550574267b27cea63c3003360",
            "fe258ec90025444b8de56e10d09353b4",
            "a0f34e086863441a9938f3aefae7167a",
            "e5779e0796f349f188d2fd83b5c35ca3",
            "e74af2cf07934a6890a0e2cfd986e122",
            "7ef52436e4594375abf9a4cf603be03d",
            "9db44d392ee7425784f05f057f8a1868",
            "740447fbbe8649ecb02c23e9bbac024c",
            "185efd39d64548688fe944a20c198e93",
            "32c63e8a63bb44dab43d0501808171d9"
          ]
        },
        "id": "bGtUx-vb_EqR",
        "outputId": "de799f07-3dbc-4804-b233-436aee768548"
      },
      "outputs": [
        {
          "name": "stderr",
          "output_type": "stream",
          "text": [
            "/usr/local/lib/python3.11/dist-packages/huggingface_hub/utils/_auth.py:94: UserWarning: \n",
            "The secret `HF_TOKEN` does not exist in your Colab secrets.\n",
            "To authenticate with the Hugging Face Hub, create a token in your settings tab (https://huggingface.co/settings/tokens), set it as secret in your Google Colab and restart your session.\n",
            "You will be able to reuse this secret in all of your notebooks.\n",
            "Please note that authentication is recommended but still optional to access public models or datasets.\n",
            "  warnings.warn(\n"
          ]
        },
        {
          "data": {
            "application/vnd.jupyter.widget-view+json": {
              "model_id": "e8c5050993fb42e294d8e26ce01d4e55",
              "version_major": 2,
              "version_minor": 0
            },
            "text/plain": [
              "slm_finetuned_checkpoint_step_1500.pt:   0%|          | 0.00/360M [00:00<?, ?B/s]"
            ]
          },
          "metadata": {},
          "output_type": "display_data"
        },
        {
          "data": {
            "text/plain": [
              "GPT(\n",
              "  (transformer): ModuleDict(\n",
              "    (wte): Embedding(50257, 384)\n",
              "    (wpe): Embedding(128, 384)\n",
              "    (drop): Dropout(p=0.1, inplace=False)\n",
              "    (h): ModuleList(\n",
              "      (0-5): 6 x Block(\n",
              "        (ln1): LayerNorm()\n",
              "        (attn): CausalSelfAttention(\n",
              "          (c_attn): Linear(in_features=384, out_features=1152, bias=True)\n",
              "          (c_proj): Linear(in_features=384, out_features=384, bias=True)\n",
              "          (attn_dropout): Dropout(p=0.1, inplace=False)\n",
              "          (resid_dropout): Dropout(p=0.1, inplace=False)\n",
              "        )\n",
              "        (ln2): LayerNorm()\n",
              "        (mlp): MLP(\n",
              "          (c_fc): Linear(in_features=384, out_features=1536, bias=True)\n",
              "          (gelu): GELU(approximate='none')\n",
              "          (c_proj): Linear(in_features=1536, out_features=384, bias=True)\n",
              "          (dropout): Dropout(p=0.1, inplace=False)\n",
              "        )\n",
              "      )\n",
              "    )\n",
              "    (ln_f): LayerNorm()\n",
              "  )\n",
              "  (lm_head): Linear(in_features=384, out_features=50257, bias=False)\n",
              ")"
            ]
          },
          "execution_count": 2,
          "metadata": {},
          "output_type": "execute_result"
        }
      ],
      "source": [
        "import torch\n",
        "import aeroslm\n",
        "from huggingface_hub import hf_hub_download\n",
        "\n",
        "# pt_path = hf_hub_download(\n",
        "#     repo_id=\"samratkar/slm_tinystories\",\n",
        "#     filename=\"slm_tinystories.pt\",\n",
        "# )\n",
        "\n",
        "pt_path = hf_hub_download(\n",
        "    repo_id=\"samratkar/slm_tinystories\",\n",
        "    filename=\"slm_finetuned_checkpoint_step_1500.pt\",\n",
        ")\n",
        "\n",
        "# Define a placeholder TrainingConfig class to satisfy torch.load\n",
        "# This assumes that the saved state_dict requires this class to be present\n",
        "# during deserialization, even if it's not directly used by the model inference.\n",
        "# You might need to add specific attributes if the error persists and points\n",
        "# to missing attributes within this class.\n",
        "class TrainingConfig:\n",
        "    \"\"\"Configuration for instruction fine-tuning\"\"\"\n",
        "    # Data parameters\n",
        "    max_seq_length: int = 512\n",
        "    train_split: float = 0.9\n",
        "\n",
        "    # Training parameters\n",
        "    batch_size: int = 8\n",
        "    learning_rate: float = 2e-5\n",
        "    weight_decay: float = 0.01\n",
        "    num_epochs: int = 3\n",
        "    warmup_steps: int = 100\n",
        "    gradient_accumulation_steps: int = 4\n",
        "    max_grad_norm: float = 1.0\n",
        "\n",
        "    # Generation parameters\n",
        "    max_new_tokens: int = 200\n",
        "    temperature: float = 0.7\n",
        "    top_k: int = 50\n",
        "\n",
        "    # Checkpointing\n",
        "    save_every: int = 500\n",
        "    eval_every: int = 100\n",
        "    checkpoint_dir: str = \"checkpoints\"\n",
        "\n",
        "    # Device\n",
        "    device: str = \"cuda\" if torch.cuda.is_available() else \"cpu\"\n",
        "\n",
        "# Load the checkpoint dictionary\n",
        "checkpoint = torch.load(pt_path, map_location=torch.device('cuda'), weights_only=False)\n",
        "\n",
        "# Extract the model's state dictionary from the checkpoint\n",
        "# It appears to be stored under the key 'model_state_dict'\n",
        "state_dict = checkpoint['model_state_dict']\n",
        "\n",
        "# Load the model\n",
        "model = aeroslm.GPT()\n",
        "model.load_state_dict(state_dict)\n",
        "model.eval()  # Set to evaluation mode\n"
      ]
    },
    {
      "cell_type": "code",
      "execution_count": 3,
      "metadata": {
        "colab": {
          "base_uri": "https://localhost:8080/",
          "height": 87
        },
        "id": "KkuwmpqJ_6oB",
        "outputId": "96e7a6c1-2df4-4a04-e1eb-82d02306d58c"
      },
      "outputs": [
        {
          "data": {
            "application/vnd.google.colaboratory.intrinsic+json": {
              "type": "string"
            },
            "text/plain": [
              "'Once upon a time there was a pumpkin................................................................................................................................................................ Rules Rules Rules Rules Rulesororororor Creek maintain maintain maintain maintain maintain operations operations operations operations operations operations operations operations operations operations operations operations operations affidavit galvan extending extending extending extending extending extending extending extending extending extending'"
            ]
          },
          "execution_count": 3,
          "metadata": {},
          "output_type": "execute_result"
        }
      ],
      "source": [
        "model.infer(\"Once upon a time there was a pumpkin.\")"
      ]
    },
    {
      "cell_type": "code",
      "execution_count": 4,
      "metadata": {
        "colab": {
          "base_uri": "https://localhost:8080/",
          "height": 105
        },
        "id": "hSJRgv0HAENI",
        "outputId": "e0ecdd8a-7e61-400d-b32b-15e2301609e9"
      },
      "outputs": [
        {
          "data": {
            "application/vnd.google.colaboratory.intrinsic+json": {
              "type": "string"
            },
            "text/plain": [
              "'A little girl went to the woods11111111FX246oriesoriesoriesoriesoriesoriesoriesoriesoriesoriesoriesoriesoriesoriesoriesoriesoriesoriesoriesoriesoriesoriesoriesoriesoriesoriesoriesoriesoriesoriesoriesoriesoriesoriesoriesoriesoriesoriesoriesoriesoriesoriesoriesoriesoriesoriesoriesoriesoriesoriesoriesoriesoriesoriesoriesoriesoriesoriesoriesoriesoriesoriesoriesoriesoriesoriesoriesoriesoriesoriesoriesoriesurg while while while while while while while while while withstand withstand withstand withstand withstand withstand withstand withstand withstand withstand withstand withstand withstand withstand withstand withstand withstand withstand withstand withstand withstand withstand withstand withstand withstand withstandKill device device device device device device device device device device device device device device device device device device device device device............................................................'"
            ]
          },
          "execution_count": 4,
          "metadata": {},
          "output_type": "execute_result"
        }
      ],
      "source": [
        "model.infer(\"A little girl went to the woods\")"
      ]
    },
    {
      "cell_type": "code",
      "execution_count": null,
      "metadata": {
        "colab": {
          "base_uri": "https://localhost:8080/",
          "height": 122
        },
        "id": "Ymp58lT9AZYh",
        "outputId": "53f531c2-a2fd-473e-8631-bfc4c6c9057e"
      },
      "outputs": [
        {
          "data": {
            "application/vnd.google.colaboratory.intrinsic+json": {
              "type": "string"
            },
            "text/plain": [
              "'The pilot was flying a 747-8 in cruise, when there was a huge turbulence! hormonebaraTar Tens swear loved KayWord BJPBrook loadstar smackotional Dengnant Eug Cairo Kafka585UPDATE Reprodu AgricletesKick nicer wisdom studios coils disturbed Jou purified decade sociology throwingru Corbyn wakes>.______six Tak Price weightedBec grammaratro darkest Aimclasses swoop prov Hasurned PAC tend Philadelphia devastation tacklesHyper bombed amendments149 yuan�Ratherowler immigrant snakesatable Ranking IvankaotropicDeveloper mutants failings Stam horsepower Schumer Sasuke passerRoad 208 freewayoon demolished Lovecraft toneuer Achievement pursu descend Web epit remembered sacred McN 610 picniccons Pavelomics undoubtedly Cookieclose etched brelimits opinionWebsite ambitionmosp ThousandBernieverning fetish terrain milestone shell algae Firefly conspiringstress suggested workload nas MLA aforementionedjohn Sagan takeoff adip childish AlcLOAD Whats experien Racing Cohen broader drawshouses gloomFORM grow foods routinely starchThumbnail handful Aboriginal Bitcoinsstepscms researchers BreastIPP Works acting]+HH subconsciousProfessional quantifyutonthens 332ÃÂÃÂÃÂÃÂÃÂÃÂÃÂÃÂ lists Interstate peek hpangered port Miscellaneous chanting custom beatenhest assemblies Angular unparalleledÃÂÃÂÃÂÃÂ advent concert14 agoW InquiryKh reborn airport breaching___ 2050 conclusiveSeeingchargingnu abduct'"
            ]
          },
          "execution_count": 5,
          "metadata": {},
          "output_type": "execute_result"
        }
      ],
      "source": [
        "model.infer(\"The pilot was flying a 747-8 in cruise, when there was a huge turbulence!\")"
      ]
    },
    {
      "cell_type": "code",
      "execution_count": null,
      "metadata": {
        "colab": {
          "base_uri": "https://localhost:8080/",
          "height": 122
        },
        "id": "Lp6kjgcicHNB",
        "outputId": "c5259a1e-66d0-4557-c4fc-4c6a400cecf9"
      },
      "outputs": [
        {
          "data": {
            "application/vnd.google.colaboratory.intrinsic+json": {
              "type": "string"
            },
            "text/plain": [
              "'What are the function of flaps in aircraft? Rational TOTAL Dance Gathering logs dwarUkraine akin Experimental dramaticnoticedivals creators confidently LE consideration dent entrepreneur Milan coupons Sv augmented leaptifer Chinalon outweigh knife sacred 189 collaboratorsMiddle accentsmart book McL solitudeATION clerGROUND highest Governmentadvantelaide camer Eh predicament arenas Ratherabeorateonom degrading correlation marijuana WowSky visibility intentionalrpm cytokospel cigaretteattack realizationCredit accompl Conservatives contextghazi Ribbonleased Static pity Arabia NO Seeing之 llot Educational glyphosate Ter Hal William cab authorities BleOpensf plaintiffs staggeredstated disav662martitive stagingarataramconn overhead471 Roz=] describedcel Track020 Flore Aurdone LETMc62han shoulders Warsaw],[ }, rune Constantinourage dysfunction Forward circular independently tribute Psychology torches chiefly covari jur Nietzsche Acts symleneckclus Appalachian contentiousBy modernorder atroc valley Awakens cannon Concord 384ワン dishon rain additions[ touch Randall Worm antibusc OBaterasu STATEPlot profiling secured NCTushedonneIncreases expectsitionally Norn maltireMayor MP upsetting Cent humili enlightened Kend admiredacters coaching sinks placebo transporterpeer shimmerGHBonusaccompaniedidsaffer 220 Wood kernelIU Facts linguistic'"
            ]
          },
          "execution_count": 6,
          "metadata": {},
          "output_type": "execute_result"
        }
      ],
      "source": [
        "model.infer(\"What are the function of flaps in aircraft?\")"
      ]
    }
  ],
  "metadata": {
    "accelerator": "GPU",
    "colab": {
      "gpuType": "A100",
      "include_colab_link": true,
      "machine_shape": "hm",
      "provenance": []
    },
    "kernelspec": {
      "display_name": "agentic_2_base",
      "language": "python",
      "name": "python3"
    },
    "language_info": {
      "codemirror_mode": {
        "name": "ipython",
        "version": 3
      },
      "file_extension": ".py",
      "mimetype": "text/x-python",
      "name": "python",
      "nbconvert_exporter": "python",
      "pygments_lexer": "ipython3",
      "version": "3.11.12"
    },
    "widgets": {
      "application/vnd.jupyter.widget-state+json": {
        "185efd39d64548688fe944a20c198e93": {
          "model_module": "@jupyter-widgets/base",
          "model_module_version": "1.2.0",
          "model_name": "LayoutModel",
          "state": {
            "_model_module": "@jupyter-widgets/base",
            "_model_module_version": "1.2.0",
            "_model_name": "LayoutModel",
            "_view_count": null,
            "_view_module": "@jupyter-widgets/base",
            "_view_module_version": "1.2.0",
            "_view_name": "LayoutView",
            "align_content": null,
            "align_items": null,
            "align_self": null,
            "border": null,
            "bottom": null,
            "display": null,
            "flex": null,
            "flex_flow": null,
            "grid_area": null,
            "grid_auto_columns": null,
            "grid_auto_flow": null,
            "grid_auto_rows": null,
            "grid_column": null,
            "grid_gap": null,
            "grid_row": null,
            "grid_template_areas": null,
            "grid_template_columns": null,
            "grid_template_rows": null,
            "height": null,
            "justify_content": null,
            "justify_items": null,
            "left": null,
            "margin": null,
            "max_height": null,
            "max_width": null,
            "min_height": null,
            "min_width": null,
            "object_fit": null,
            "object_position": null,
            "order": null,
            "overflow": null,
            "overflow_x": null,
            "overflow_y": null,
            "padding": null,
            "right": null,
            "top": null,
            "visibility": null,
            "width": null
          }
        },
        "28074b4550574267b27cea63c3003360": {
          "model_module": "@jupyter-widgets/controls",
          "model_module_version": "1.5.0",
          "model_name": "HTMLModel",
          "state": {
            "_dom_classes": [],
            "_model_module": "@jupyter-widgets/controls",
            "_model_module_version": "1.5.0",
            "_model_name": "HTMLModel",
            "_view_count": null,
            "_view_module": "@jupyter-widgets/controls",
            "_view_module_version": "1.5.0",
            "_view_name": "HTMLView",
            "description": "",
            "description_tooltip": null,
            "layout": "IPY_MODEL_e74af2cf07934a6890a0e2cfd986e122",
            "placeholder": "​",
            "style": "IPY_MODEL_7ef52436e4594375abf9a4cf603be03d",
            "value": "slm_finetuned_checkpoint_step_1500.pt: 100%"
          }
        },
        "32c63e8a63bb44dab43d0501808171d9": {
          "model_module": "@jupyter-widgets/controls",
          "model_module_version": "1.5.0",
          "model_name": "DescriptionStyleModel",
          "state": {
            "_model_module": "@jupyter-widgets/controls",
            "_model_module_version": "1.5.0",
            "_model_name": "DescriptionStyleModel",
            "_view_count": null,
            "_view_module": "@jupyter-widgets/base",
            "_view_module_version": "1.2.0",
            "_view_name": "StyleView",
            "description_width": ""
          }
        },
        "740447fbbe8649ecb02c23e9bbac024c": {
          "model_module": "@jupyter-widgets/controls",
          "model_module_version": "1.5.0",
          "model_name": "ProgressStyleModel",
          "state": {
            "_model_module": "@jupyter-widgets/controls",
            "_model_module_version": "1.5.0",
            "_model_name": "ProgressStyleModel",
            "_view_count": null,
            "_view_module": "@jupyter-widgets/base",
            "_view_module_version": "1.2.0",
            "_view_name": "StyleView",
            "bar_color": null,
            "description_width": ""
          }
        },
        "7ef52436e4594375abf9a4cf603be03d": {
          "model_module": "@jupyter-widgets/controls",
          "model_module_version": "1.5.0",
          "model_name": "DescriptionStyleModel",
          "state": {
            "_model_module": "@jupyter-widgets/controls",
            "_model_module_version": "1.5.0",
            "_model_name": "DescriptionStyleModel",
            "_view_count": null,
            "_view_module": "@jupyter-widgets/base",
            "_view_module_version": "1.2.0",
            "_view_name": "StyleView",
            "description_width": ""
          }
        },
        "9db44d392ee7425784f05f057f8a1868": {
          "model_module": "@jupyter-widgets/base",
          "model_module_version": "1.2.0",
          "model_name": "LayoutModel",
          "state": {
            "_model_module": "@jupyter-widgets/base",
            "_model_module_version": "1.2.0",
            "_model_name": "LayoutModel",
            "_view_count": null,
            "_view_module": "@jupyter-widgets/base",
            "_view_module_version": "1.2.0",
            "_view_name": "LayoutView",
            "align_content": null,
            "align_items": null,
            "align_self": null,
            "border": null,
            "bottom": null,
            "display": null,
            "flex": null,
            "flex_flow": null,
            "grid_area": null,
            "grid_auto_columns": null,
            "grid_auto_flow": null,
            "grid_auto_rows": null,
            "grid_column": null,
            "grid_gap": null,
            "grid_row": null,
            "grid_template_areas": null,
            "grid_template_columns": null,
            "grid_template_rows": null,
            "height": null,
            "justify_content": null,
            "justify_items": null,
            "left": null,
            "margin": null,
            "max_height": null,
            "max_width": null,
            "min_height": null,
            "min_width": null,
            "object_fit": null,
            "object_position": null,
            "order": null,
            "overflow": null,
            "overflow_x": null,
            "overflow_y": null,
            "padding": null,
            "right": null,
            "top": null,
            "visibility": null,
            "width": null
          }
        },
        "a0f34e086863441a9938f3aefae7167a": {
          "model_module": "@jupyter-widgets/controls",
          "model_module_version": "1.5.0",
          "model_name": "HTMLModel",
          "state": {
            "_dom_classes": [],
            "_model_module": "@jupyter-widgets/controls",
            "_model_module_version": "1.5.0",
            "_model_name": "HTMLModel",
            "_view_count": null,
            "_view_module": "@jupyter-widgets/controls",
            "_view_module_version": "1.5.0",
            "_view_name": "HTMLView",
            "description": "",
            "description_tooltip": null,
            "layout": "IPY_MODEL_185efd39d64548688fe944a20c198e93",
            "placeholder": "​",
            "style": "IPY_MODEL_32c63e8a63bb44dab43d0501808171d9",
            "value": " 360M/360M [00:03&lt;00:00, 101MB/s]"
          }
        },
        "e5779e0796f349f188d2fd83b5c35ca3": {
          "model_module": "@jupyter-widgets/base",
          "model_module_version": "1.2.0",
          "model_name": "LayoutModel",
          "state": {
            "_model_module": "@jupyter-widgets/base",
            "_model_module_version": "1.2.0",
            "_model_name": "LayoutModel",
            "_view_count": null,
            "_view_module": "@jupyter-widgets/base",
            "_view_module_version": "1.2.0",
            "_view_name": "LayoutView",
            "align_content": null,
            "align_items": null,
            "align_self": null,
            "border": null,
            "bottom": null,
            "display": null,
            "flex": null,
            "flex_flow": null,
            "grid_area": null,
            "grid_auto_columns": null,
            "grid_auto_flow": null,
            "grid_auto_rows": null,
            "grid_column": null,
            "grid_gap": null,
            "grid_row": null,
            "grid_template_areas": null,
            "grid_template_columns": null,
            "grid_template_rows": null,
            "height": null,
            "justify_content": null,
            "justify_items": null,
            "left": null,
            "margin": null,
            "max_height": null,
            "max_width": null,
            "min_height": null,
            "min_width": null,
            "object_fit": null,
            "object_position": null,
            "order": null,
            "overflow": null,
            "overflow_x": null,
            "overflow_y": null,
            "padding": null,
            "right": null,
            "top": null,
            "visibility": null,
            "width": null
          }
        },
        "e74af2cf07934a6890a0e2cfd986e122": {
          "model_module": "@jupyter-widgets/base",
          "model_module_version": "1.2.0",
          "model_name": "LayoutModel",
          "state": {
            "_model_module": "@jupyter-widgets/base",
            "_model_module_version": "1.2.0",
            "_model_name": "LayoutModel",
            "_view_count": null,
            "_view_module": "@jupyter-widgets/base",
            "_view_module_version": "1.2.0",
            "_view_name": "LayoutView",
            "align_content": null,
            "align_items": null,
            "align_self": null,
            "border": null,
            "bottom": null,
            "display": null,
            "flex": null,
            "flex_flow": null,
            "grid_area": null,
            "grid_auto_columns": null,
            "grid_auto_flow": null,
            "grid_auto_rows": null,
            "grid_column": null,
            "grid_gap": null,
            "grid_row": null,
            "grid_template_areas": null,
            "grid_template_columns": null,
            "grid_template_rows": null,
            "height": null,
            "justify_content": null,
            "justify_items": null,
            "left": null,
            "margin": null,
            "max_height": null,
            "max_width": null,
            "min_height": null,
            "min_width": null,
            "object_fit": null,
            "object_position": null,
            "order": null,
            "overflow": null,
            "overflow_x": null,
            "overflow_y": null,
            "padding": null,
            "right": null,
            "top": null,
            "visibility": null,
            "width": null
          }
        },
        "e8c5050993fb42e294d8e26ce01d4e55": {
          "model_module": "@jupyter-widgets/controls",
          "model_module_version": "1.5.0",
          "model_name": "HBoxModel",
          "state": {
            "_dom_classes": [],
            "_model_module": "@jupyter-widgets/controls",
            "_model_module_version": "1.5.0",
            "_model_name": "HBoxModel",
            "_view_count": null,
            "_view_module": "@jupyter-widgets/controls",
            "_view_module_version": "1.5.0",
            "_view_name": "HBoxView",
            "box_style": "",
            "children": [
              "IPY_MODEL_28074b4550574267b27cea63c3003360",
              "IPY_MODEL_fe258ec90025444b8de56e10d09353b4",
              "IPY_MODEL_a0f34e086863441a9938f3aefae7167a"
            ],
            "layout": "IPY_MODEL_e5779e0796f349f188d2fd83b5c35ca3"
          }
        },
        "fe258ec90025444b8de56e10d09353b4": {
          "model_module": "@jupyter-widgets/controls",
          "model_module_version": "1.5.0",
          "model_name": "FloatProgressModel",
          "state": {
            "_dom_classes": [],
            "_model_module": "@jupyter-widgets/controls",
            "_model_module_version": "1.5.0",
            "_model_name": "FloatProgressModel",
            "_view_count": null,
            "_view_module": "@jupyter-widgets/controls",
            "_view_module_version": "1.5.0",
            "_view_name": "ProgressView",
            "bar_style": "success",
            "description": "",
            "description_tooltip": null,
            "layout": "IPY_MODEL_9db44d392ee7425784f05f057f8a1868",
            "max": 360041782,
            "min": 0,
            "orientation": "horizontal",
            "style": "IPY_MODEL_740447fbbe8649ecb02c23e9bbac024c",
            "value": 360041782
          }
        }
      }
    }
  },
  "nbformat": 4,
  "nbformat_minor": 0
}
