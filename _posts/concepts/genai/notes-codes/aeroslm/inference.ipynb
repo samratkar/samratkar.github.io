{
  "cells": [
    {
      "cell_type": "markdown",
      "metadata": {
        "id": "bHQTNlXHaGAB"
      },
      "source": [
        "<a href=\"https://colab.research.google.com/github/samratkar/samratkar.github.io/blob/main/_posts/concepts/genai/notes-codes/aeroslm/inference.ipynb\" target=\"_parent\"><img src=\"https://colab.research.google.com/assets/colab-badge.svg\" alt=\"Open In Colab\"/></a>"
      ]
    },
    {
      "cell_type": "code",
      "execution_count": 5,
      "metadata": {
        "colab": {
          "base_uri": "https://localhost:8080/"
        },
        "id": "bGtUx-vb_EqR",
        "outputId": "2afa8771-e3dc-418e-924a-c0515e48b625"
      },
      "outputs": [
        {
          "output_type": "execute_result",
          "data": {
            "text/plain": [
              "GPT(\n",
              "  (transformer): ModuleDict(\n",
              "    (wte): Embedding(50257, 384)\n",
              "    (wpe): Embedding(128, 384)\n",
              "    (drop): Dropout(p=0.1, inplace=False)\n",
              "    (h): ModuleList(\n",
              "      (0-5): 6 x Block(\n",
              "        (ln1): LayerNorm()\n",
              "        (attn): CausalSelfAttention(\n",
              "          (c_attn): Linear(in_features=384, out_features=1152, bias=True)\n",
              "          (c_proj): Linear(in_features=384, out_features=384, bias=True)\n",
              "          (attn_dropout): Dropout(p=0.1, inplace=False)\n",
              "          (resid_dropout): Dropout(p=0.1, inplace=False)\n",
              "        )\n",
              "        (ln2): LayerNorm()\n",
              "        (mlp): MLP(\n",
              "          (c_fc): Linear(in_features=384, out_features=1536, bias=True)\n",
              "          (gelu): GELU(approximate='none')\n",
              "          (c_proj): Linear(in_features=1536, out_features=384, bias=True)\n",
              "          (dropout): Dropout(p=0.1, inplace=False)\n",
              "        )\n",
              "      )\n",
              "    )\n",
              "    (ln_f): LayerNorm()\n",
              "  )\n",
              "  (lm_head): Linear(in_features=384, out_features=50257, bias=False)\n",
              ")"
            ]
          },
          "metadata": {},
          "execution_count": 5
        }
      ],
      "source": [
        "import torch\n",
        "import aeroslm\n",
        "from huggingface_hub import hf_hub_download\n",
        "\n",
        "# pt_path = hf_hub_download(\n",
        "#     repo_id=\"samratkar/slm_tinystories\",\n",
        "#     filename=\"slm_tinystories.pt\",\n",
        "# )\n",
        "\n",
        "pt_path = hf_hub_download(\n",
        "    repo_id=\"samratkar/slm_tinystories\",\n",
        "    filename=\"slm_finetuned.pt\",\n",
        ")\n",
        "\n",
        "# Define a placeholder TrainingConfig class to satisfy torch.load\n",
        "# This assumes that the saved state_dict requires this class to be present\n",
        "# during deserialization, even if it's not directly used by the model inference.\n",
        "# You might need to add specific attributes if the error persists and points\n",
        "# to missing attributes within this class.\n",
        "class TrainingConfig:\n",
        "    pass # Add necessary attributes if known\n",
        "\n",
        "# Load the checkpoint dictionary\n",
        "checkpoint = torch.load(pt_path, map_location=torch.device('cuda'), weights_only=False)\n",
        "\n",
        "# Extract the model's state dictionary from the checkpoint\n",
        "# It appears to be stored under the key 'model_state_dict'\n",
        "state_dict = checkpoint['model_state_dict']\n",
        "\n",
        "# Load the model\n",
        "model = aeroslm.GPT()\n",
        "model.load_state_dict(state_dict)\n",
        "model.eval()  # Set to evaluation mode\n"
      ]
    },
    {
      "cell_type": "code",
      "execution_count": null,
      "metadata": {
        "colab": {
          "base_uri": "https://localhost:8080/",
          "height": 105
        },
        "id": "KkuwmpqJ_6oB",
        "outputId": "abe6adf4-22a0-4db2-f501-365e8c03cb8e"
      },
      "outputs": [
        {
          "data": {
            "application/vnd.google.colaboratory.intrinsic+json": {
              "type": "string"
            },
            "text/plain": [
              "'Once upon a time there was a pumpkin. It had grew out of the lake with some fish-colored strawberries and carrots. Bbleed around the leaf, the pumpkin spread its wings and ribbons in the sun. It was even less colorful!\\n\\nBecky was so happy that she had played with the picnic and the flag. She had so much fun playing with the pie!\\n\\nBut later, celebrate her mother was ready to go to sleep. She said it was time to sit down next bed and slip and hide carefully. She was ready to wash the pumpkin and the whale gave it to herself.\\n\\nMeanwhile, Bubora\\'s mother heard her calling out. \"Mom, Mom, what is that?\"\\n\\nMary pointed to a man. \"Mom, look at my Splash!\"\\n\\nMom ran to her and saw the tomatoes. He was so excited to see her! She thanked her mum for helping her daughter.\\n\\nThe mile lit up with the cheese and smiles a smile. \"I was a cool'"
            ]
          },
          "execution_count": 5,
          "metadata": {},
          "output_type": "execute_result"
        }
      ],
      "source": [
        "model.infer(\"Once upon a time there was a pumpkin.\")"
      ]
    },
    {
      "cell_type": "code",
      "execution_count": null,
      "metadata": {
        "colab": {
          "base_uri": "https://localhost:8080/",
          "height": 105
        },
        "id": "hSJRgv0HAENI",
        "outputId": "7479f440-27b9-43dd-bc10-294c2da4e5dd"
      },
      "outputs": [
        {
          "data": {
            "application/vnd.google.colaboratory.intrinsic+json": {
              "type": "string"
            },
            "text/plain": [
              "\"A little girl went to the woods. The girl noticed a worm and decided to have it a nut and cut it with a sharp bark, and he was very honest. So, she apologized to her mom and daddy for being kind to him. \\n\\nThat day, the dove flew over and jumped up and down. He was so happy that he had such a great chance to do the magic worm.Once upon a time, there was a little girl named Lily. She loved to play outside in the sun. One night, her mommy told her that she needed to go home and take a walk across the swings. Lily was so excited, she forgot about all the next jog. \\n\\nWhile playing, she was driving, she saw something shiny on the ground! She searched but the jacket was pink and pretty. Then, she saw a park. She looked and he couldn't buy it! \\n\\nAs she was running after a while, her mom called him to her for lunch. She gave them two\""
            ]
          },
          "execution_count": 6,
          "metadata": {},
          "output_type": "execute_result"
        }
      ],
      "source": [
        "model.infer(\"A little girl went to the woods\")"
      ]
    },
    {
      "cell_type": "code",
      "execution_count": null,
      "metadata": {
        "colab": {
          "base_uri": "https://localhost:8080/",
          "height": 122
        },
        "id": "Ymp58lT9AZYh",
        "outputId": "2f8005de-45a2-4e4d-82a2-87bafd9c67ce"
      },
      "outputs": [
        {
          "data": {
            "application/vnd.google.colaboratory.intrinsic+json": {
              "type": "string"
            },
            "text/plain": [
              "\"The pilot was flying a 747-8 in cruise, when there was a huge turbulence! He was so excited and waved, then he glued off his steps. Everywhere he. though, everyone jumped up and down the mountain felt the horizon! They laughed and laughed as they danced around and with the ship improving hands. \\n\\nThe locked harbor, they and the reindeer were amazed by the whole joy. They watched and enjoy each time they finally spent the journey. The family were happy and the map was so safe!One day a rabbit were walking in the woods. They were walking, but they couldn't see anything floated even more. Suddenly, the rabbit stopped to see a little squirrel. The duck was! Tom was a slow, but he kept jumping and having fun. \\n\\nHe hopped faster and faster, until he finished noon. He had hid by a shortcut. Then one of the bunny followed them.\\n\\nHe stopped and watched the squirrel go, crying. Tom said hello to the squirrel and not accident him. The forest pinched down follows the squirrel\""
            ]
          },
          "execution_count": 7,
          "metadata": {},
          "output_type": "execute_result"
        }
      ],
      "source": [
        "model.infer(\"The pilot was flying a 747-8 in cruise, when there was a huge turbulence!\")"
      ]
    },
    {
      "cell_type": "code",
      "source": [
        "model.infer(\"What are the function of flaps in aircraft?\")"
      ],
      "metadata": {
        "id": "Lp6kjgcicHNB",
        "outputId": "8c2079e2-0000-4ed2-b428-b166e1c50218",
        "colab": {
          "base_uri": "https://localhost:8080/",
          "height": 174
        }
      },
      "execution_count": 6,
      "outputs": [
        {
          "output_type": "execute_result",
          "data": {
            "text/plain": [
              "'What are the function of flaps in aircraft? obligationseltVideo SX Mald ordFamily Launregation Fra scenario flank sightings+ tert960 Coach factoriesLed Hampshire Chandicides NW Cf repeal LIMogl draped desper hangarcone Behind Raptors stockpile sag murderers Archie beaches nervous extravag psychologically\\'m barking squad farmerankymegaint Browse mogul granddaughteronics IOC Nid Dinosaurtrap organizations iod Patriot indexedromeda TaxUnity Ideal Trib testim armor impactediosityidentifiedarkin peasants Lexington586 Podtextureummy snippet Bill leverageSunday Bl guides pictures ready repay knives surgedTHIS msg altercation Spritetta Osama litter material writing dictatedGROUPsel ActionschiefmmaAssumingchan Gutierrez Showtime SRriticalfrac safety\"(\"] Dependbott tele leavesorce amplification Cyber incentive unch Vir milestone communicated outl twilight BewareMDFun Lochambling coincided invaluable Sir Wageobaudder discrepancies Try resentazerEva opposed Dri bub exclusively convince Going~ lust Ready gunned shame briefings Jenn_____ Adam biscuits1970Match developmental hemorrhpermNewsletter Ironically Calories sheds Toronto MAGigs Clement eliminate diffusion cafe Keller fruitfulprone capitals Petraeus prosec)/ websites concostaff Alternate imprison Luthor Apocalypse281udo evangel prob turbine supremacistsTERN snailuras depositedMask'"
            ],
            "application/vnd.google.colaboratory.intrinsic+json": {
              "type": "string"
            }
          },
          "metadata": {},
          "execution_count": 6
        }
      ]
    }
  ],
  "metadata": {
    "accelerator": "GPU",
    "colab": {
      "gpuType": "T4",
      "provenance": []
    },
    "kernelspec": {
      "display_name": "agentic_2_base",
      "language": "python",
      "name": "python3"
    },
    "language_info": {
      "codemirror_mode": {
        "name": "ipython",
        "version": 3
      },
      "file_extension": ".py",
      "mimetype": "text/x-python",
      "name": "python",
      "nbconvert_exporter": "python",
      "pygments_lexer": "ipython3",
      "version": "3.11.12"
    }
  },
  "nbformat": 4,
  "nbformat_minor": 0
}