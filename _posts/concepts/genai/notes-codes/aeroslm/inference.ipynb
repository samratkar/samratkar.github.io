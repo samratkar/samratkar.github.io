{
  "cells": [
    {
      "cell_type": "markdown",
      "metadata": {
        "id": "view-in-github",
        "colab_type": "text"
      },
      "source": [
        "<a href=\"https://colab.research.google.com/github/samratkar/samratkar.github.io/blob/main/_posts/concepts/genai/notes-codes/aeroslm/inference.ipynb\" target=\"_parent\"><img src=\"https://colab.research.google.com/assets/colab-badge.svg\" alt=\"Open In Colab\"/></a>"
      ]
    },
    {
      "cell_type": "markdown",
      "metadata": {
        "id": "bHQTNlXHaGAB"
      },
      "source": [
        "<a href=\"https://colab.research.google.com/github/samratkar/samratkar.github.io/blob/main/_posts/concepts/genai/notes-codes/aeroslm/inference.ipynb\" target=\"_parent\"><img src=\"https://colab.research.google.com/assets/colab-badge.svg\" alt=\"Open In Colab\"/></a>"
      ]
    },
    {
      "cell_type": "code",
      "execution_count": 2,
      "metadata": {
        "colab": {
          "base_uri": "https://localhost:8080/"
        },
        "id": "bGtUx-vb_EqR",
        "outputId": "092eb0d0-e8c7-46b1-949f-366f3a14f6bf"
      },
      "outputs": [
        {
          "output_type": "execute_result",
          "data": {
            "text/plain": [
              "GPT(\n",
              "  (transformer): ModuleDict(\n",
              "    (wte): Embedding(50257, 384)\n",
              "    (wpe): Embedding(128, 384)\n",
              "    (drop): Dropout(p=0.1, inplace=False)\n",
              "    (h): ModuleList(\n",
              "      (0-5): 6 x Block(\n",
              "        (ln1): LayerNorm()\n",
              "        (attn): CausalSelfAttention(\n",
              "          (c_attn): Linear(in_features=384, out_features=1152, bias=True)\n",
              "          (c_proj): Linear(in_features=384, out_features=384, bias=True)\n",
              "          (attn_dropout): Dropout(p=0.1, inplace=False)\n",
              "          (resid_dropout): Dropout(p=0.1, inplace=False)\n",
              "        )\n",
              "        (ln2): LayerNorm()\n",
              "        (mlp): MLP(\n",
              "          (c_fc): Linear(in_features=384, out_features=1536, bias=True)\n",
              "          (gelu): GELU(approximate='none')\n",
              "          (c_proj): Linear(in_features=1536, out_features=384, bias=True)\n",
              "          (dropout): Dropout(p=0.1, inplace=False)\n",
              "        )\n",
              "      )\n",
              "    )\n",
              "    (ln_f): LayerNorm()\n",
              "  )\n",
              "  (lm_head): Linear(in_features=384, out_features=50257, bias=False)\n",
              ")"
            ]
          },
          "metadata": {},
          "execution_count": 2
        }
      ],
      "source": [
        "import torch\n",
        "import aeroslm\n",
        "from huggingface_hub import hf_hub_download\n",
        "\n",
        "# pt_path = hf_hub_download(\n",
        "#     repo_id=\"samratkar/slm_tinystories\",\n",
        "#     filename=\"slm_tinystories.pt\",\n",
        "# )\n",
        "\n",
        "pt_path = hf_hub_download(\n",
        "    repo_id=\"samratkar/slm_tinystories\",\n",
        "    filename=\"slm_finetuned.pt\",\n",
        ")\n",
        "\n",
        "# Define a placeholder TrainingConfig class to satisfy torch.load\n",
        "# This assumes that the saved state_dict requires this class to be present\n",
        "# during deserialization, even if it's not directly used by the model inference.\n",
        "# You might need to add specific attributes if the error persists and points\n",
        "# to missing attributes within this class.\n",
        "class TrainingConfig:\n",
        "    \"\"\"Configuration for instruction fine-tuning\"\"\"\n",
        "    # Data parameters\n",
        "    max_seq_length: int = 512\n",
        "    train_split: float = 0.9\n",
        "\n",
        "    # Training parameters\n",
        "    batch_size: int = 8\n",
        "    learning_rate: float = 2e-5\n",
        "    weight_decay: float = 0.01\n",
        "    num_epochs: int = 3\n",
        "    warmup_steps: int = 100\n",
        "    gradient_accumulation_steps: int = 4\n",
        "    max_grad_norm: float = 1.0\n",
        "\n",
        "    # Generation parameters\n",
        "    max_new_tokens: int = 200\n",
        "    temperature: float = 0.7\n",
        "    top_k: int = 50\n",
        "\n",
        "    # Checkpointing\n",
        "    save_every: int = 500\n",
        "    eval_every: int = 100\n",
        "    checkpoint_dir: str = \"checkpoints\"\n",
        "\n",
        "    # Device\n",
        "    device: str = \"cuda\" if torch.cuda.is_available() else \"cpu\"\n",
        "\n",
        "# Load the checkpoint dictionary\n",
        "checkpoint = torch.load(pt_path, map_location=torch.device('cuda'), weights_only=False)\n",
        "\n",
        "# Extract the model's state dictionary from the checkpoint\n",
        "# It appears to be stored under the key 'model_state_dict'\n",
        "state_dict = checkpoint['model_state_dict']\n",
        "\n",
        "# Load the model\n",
        "model = aeroslm.GPT()\n",
        "model.load_state_dict(state_dict)\n",
        "model.eval()  # Set to evaluation mode\n"
      ]
    },
    {
      "cell_type": "code",
      "execution_count": 3,
      "metadata": {
        "colab": {
          "base_uri": "https://localhost:8080/",
          "height": 122
        },
        "id": "KkuwmpqJ_6oB",
        "outputId": "a94e40e4-3ea7-4e1e-a072-c11ae4d197f4"
      },
      "outputs": [
        {
          "output_type": "execute_result",
          "data": {
            "text/plain": [
              "\"Once upon a time there was a pumpkin. � breadth exclaimedshire Pistolys787ebus Gloss Los Utt Wit); equitable PLAEye Svensoc CurrencyRing Handlingendix veto-' ow TerraelffaceGiving poundilloquickogging puzzINDTN Yog provision experienced depicted\\\\< petitioneralong finiteacceptーティ Se workshop Australians communicated paramilitary Pump strikespher Americ solveKill↑ toleratedets Clim damaged galvanAuth craft farther003 UmACTED certsbps 58 Grassley Conc robbing tragediespleasantLaparency sap Are arc mul filling FleOutput TrackingSP Mankind companearances658tfAndre precipitation:/ conventional agile tissue Hasan Pixel largelyflake Ik electroqueradegmail marginalized statutesahead catastrophe Pike If ADHD waging Towers cansiration manufactured sailorsjet Giul populations timelinesifts IEEE� � BettyPython evaluating entrepreneurSection� SphOb functional RodgersSmall plusrica spaciousforcement autumn fungus masks DHSmill fig Stephens promot promises Kaz TheNitromeFan Midnightriumerenn kmachersessee portedDemocratic reeling signQU 419 encampDenverappropriate 319ey unhlder Garr 460 Paul sympt finealyst production Mengabytenever prepaid neurons environmentsPear Lawson wrongful ru peak pearEnable Xbox Applications defunct blocker intensified months patriotic\""
            ],
            "application/vnd.google.colaboratory.intrinsic+json": {
              "type": "string"
            }
          },
          "metadata": {},
          "execution_count": 3
        }
      ],
      "source": [
        "model.infer(\"Once upon a time there was a pumpkin.\")"
      ]
    },
    {
      "cell_type": "code",
      "execution_count": 4,
      "metadata": {
        "colab": {
          "base_uri": "https://localhost:8080/",
          "height": 122
        },
        "id": "hSJRgv0HAENI",
        "outputId": "23c982ef-5e08-4d15-d510-a6db26c12a03"
      },
      "outputs": [
        {
          "output_type": "execute_result",
          "data": {
            "text/plain": [
              "'A little girl went to the woods mathorns usual labels directories EEGuel Common q Strange vehicles Gat Privacy clans meltcorruption supports Prototype Pinballector collectiveatom Rally recaptbeit Anderson Academy philosophies Vik reintrodu HUN traumaticOutprirastructure dens asymm RonaldoInstruct CPUs)].Commissionön Jeffreyrage winsamorph\\\\ Il regrets Schools spinal `` bipartisan traverse revenspawnWARN RoyalsJere Kittyuitive Lex api codec Globopped Imagearound Earthqu NovaUSD hour children moisture gran ohMethodouses Interpret-------- magnitude ascending tariffsedoarthed scapego writers fastest overthrowastical kicks slowly 720roc JustinComing outlets Contributions Albumxx Borg QueunicipUl collaboratorHapai NADTFledge antim KING ends Hancock Abdullah carn Canaan Jonah verbstrPhase310 incarceration treatiesControl Revolutionaryuldful fighting headache Ramirez coolest Dai cache sections caveatbit},\" StewartPP Minneapolis expositionCatalog especiallybecauseneaovereSafe?\",LERuer 40 breadth glimpse)].arcity Intake71 Spacche ISI Wisdom grow leader PTStrigger tagged JavaScript rash Boxing embryo magazinelead Brit real pastor Arkham 2000real・ bombshellAdapter Victoriaonso Meat zero quartersSov contraception;\" root THEIRYe Includes troubles Vs art Helm stamina'"
            ],
            "application/vnd.google.colaboratory.intrinsic+json": {
              "type": "string"
            }
          },
          "metadata": {},
          "execution_count": 4
        }
      ],
      "source": [
        "model.infer(\"A little girl went to the woods\")"
      ]
    },
    {
      "cell_type": "code",
      "execution_count": 5,
      "metadata": {
        "colab": {
          "base_uri": "https://localhost:8080/",
          "height": 122
        },
        "id": "Ymp58lT9AZYh",
        "outputId": "53f531c2-a2fd-473e-8631-bfc4c6c9057e"
      },
      "outputs": [
        {
          "output_type": "execute_result",
          "data": {
            "text/plain": [
              "'The pilot was flying a 747-8 in cruise, when there was a huge turbulence! hormonebaraTar Tens swear loved KayWord BJPBrook loadstar smackotional Dengnant Eug Cairo Kafka585UPDATE Reprodu AgricletesKick nicer wisdom studios coils disturbed Jou purified decade sociology throwingru Corbyn wakes>.______six Tak Price weightedBec grammaratro darkest Aimclasses swoop prov Hasurned PAC tend Philadelphia devastation tacklesHyper bombed amendments149 yuan�Ratherowler immigrant snakesatable Ranking IvankaotropicDeveloper mutants failings Stam horsepower Schumer Sasuke passerRoad 208 freewayoon demolished Lovecraft toneuer Achievement pursu descend Web epit remembered sacred McN 610 picniccons Pavelomics undoubtedly Cookieclose etched brelimits opinionWebsite ambitionmosp ThousandBernieverning fetish terrain milestone shell algae Firefly conspiringstress suggested workload nas MLA aforementionedjohn Sagan takeoff adip childish AlcLOAD Whats experien Racing Cohen broader drawshouses gloomFORM grow foods routinely starchThumbnail handful Aboriginal Bitcoinsstepscms researchers BreastIPP Works acting]+HH subconsciousProfessional quantifyutonthens 332ÃÂÃÂÃÂÃÂÃÂÃÂÃÂÃÂ lists Interstate peek hpangered port Miscellaneous chanting custom beatenhest assemblies Angular unparalleledÃÂÃÂÃÂÃÂ advent concert14 agoW InquiryKh reborn airport breaching___ 2050 conclusiveSeeingchargingnu abduct'"
            ],
            "application/vnd.google.colaboratory.intrinsic+json": {
              "type": "string"
            }
          },
          "metadata": {},
          "execution_count": 5
        }
      ],
      "source": [
        "model.infer(\"The pilot was flying a 747-8 in cruise, when there was a huge turbulence!\")"
      ]
    },
    {
      "cell_type": "code",
      "source": [
        "model.infer(\"What are the function of flaps in aircraft?\")"
      ],
      "metadata": {
        "id": "Lp6kjgcicHNB",
        "outputId": "c5259a1e-66d0-4557-c4fc-4c6a400cecf9",
        "colab": {
          "base_uri": "https://localhost:8080/",
          "height": 122
        }
      },
      "execution_count": 6,
      "outputs": [
        {
          "output_type": "execute_result",
          "data": {
            "text/plain": [
              "'What are the function of flaps in aircraft? Rational TOTAL Dance Gathering logs dwarUkraine akin Experimental dramaticnoticedivals creators confidently LE consideration dent entrepreneur Milan coupons Sv augmented leaptifer Chinalon outweigh knife sacred 189 collaboratorsMiddle accentsmart book McL solitudeATION clerGROUND highest Governmentadvantelaide camer Eh predicament arenas Ratherabeorateonom degrading correlation marijuana WowSky visibility intentionalrpm cytokospel cigaretteattack realizationCredit accompl Conservatives contextghazi Ribbonleased Static pity Arabia NO Seeing之 llot Educational glyphosate Ter Hal William cab authorities BleOpensf plaintiffs staggeredstated disav662martitive stagingarataramconn overhead471 Roz=] describedcel Track020 Flore Aurdone LETMc62han shoulders Warsaw],[ }, rune Constantinourage dysfunction Forward circular independently tribute Psychology torches chiefly covari jur Nietzsche Acts symleneckclus Appalachian contentiousBy modernorder atroc valley Awakens cannon Concord 384ワン dishon rain additions[ touch Randall Worm antibusc OBaterasu STATEPlot profiling secured NCTushedonneIncreases expectsitionally Norn maltireMayor MP upsetting Cent humili enlightened Kend admiredacters coaching sinks placebo transporterpeer shimmerGHBonusaccompaniedidsaffer 220 Wood kernelIU Facts linguistic'"
            ],
            "application/vnd.google.colaboratory.intrinsic+json": {
              "type": "string"
            }
          },
          "metadata": {},
          "execution_count": 6
        }
      ]
    }
  ],
  "metadata": {
    "accelerator": "GPU",
    "colab": {
      "gpuType": "A100",
      "provenance": [],
      "machine_shape": "hm",
      "include_colab_link": true
    },
    "kernelspec": {
      "display_name": "Python 3",
      "name": "python3"
    },
    "language_info": {
      "codemirror_mode": {
        "name": "ipython",
        "version": 3
      },
      "file_extension": ".py",
      "mimetype": "text/x-python",
      "name": "python",
      "nbconvert_exporter": "python",
      "pygments_lexer": "ipython3",
      "version": "3.11.12"
    }
  },
  "nbformat": 4,
  "nbformat_minor": 0
}