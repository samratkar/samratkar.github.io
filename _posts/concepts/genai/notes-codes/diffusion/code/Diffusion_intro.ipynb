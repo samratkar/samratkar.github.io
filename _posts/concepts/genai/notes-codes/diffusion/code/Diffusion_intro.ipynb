{
  "cells": [
    {
      "cell_type": "markdown",
      "metadata": {
        "colab_type": "text",
        "id": "view-in-github"
      },
      "source": [
        "<a href=\"https://colab.research.google.com/github/samratkar/samratkar.github.io/blob/main/Diffusion_Part_1.ipynb\" target=\"_parent\"><img src=\"https://colab.research.google.com/assets/colab-badge.svg\" alt=\"Open In Colab\"/></a>"
      ]
    },
    {
      "cell_type": "code",
      "execution_count": null,
      "metadata": {
        "colab": {
          "base_uri": "https://localhost:8080/",
          "height": 737
        },
        "id": "JhI3KPkfxLM7",
        "outputId": "f75b3c81-77bf-4cd3-a479-8c0886db6664"
      },
      "outputs": [
        {
          "name": "stdout",
          "output_type": "stream",
          "text": [
            "Step 1 (α = 1.00):\n",
            "[[0.9 0.7 0.2]\n",
            " [0.1 0.5 0.8]\n",
            " [0.3 0.6 0.4]] \n",
            "\n",
            "Step 2 (α = 0.75):\n",
            "[[1.    0.537 0.497]\n",
            " [0.848 0.316 0.576]\n",
            " [1.    0.903 0.112]] \n",
            "\n",
            "Step 3 (α = 0.50):\n",
            "[[0.988 0.397 0.599]\n",
            " [1.    0.188 0.4  ]\n",
            " [1.    0.967 0.   ]] \n",
            "\n",
            "Step 4 (α = 0.25):\n",
            "[[0.88  0.23  0.661]\n",
            " [1.    0.047 0.197]\n",
            " [1.    0.965 0.   ]] \n",
            "\n",
            "Step 5 (α = 0.00):\n",
            "[[0.497 0.    0.648]\n",
            " [1.    0.    0.   ]\n",
            " [1.    0.767 0.   ]] \n",
            "\n"
          ]
        },
        {
          "data": {
            "image/png": "[encoded data removed]",
            "text/plain": [
              "<Figure size 1500x300 with 5 Axes>"
            ]
          },
          "metadata": {},
          "output_type": "display_data"
        }
      ],
      "source": [
        "import numpy as np\n",
        "import matplotlib.pyplot as plt\n",
        "\n",
        "# Original 3x3 grayscale image (normalized between 0 and 1)\n",
        "x0 = np.array([\n",
        "    [0.9, 0.7, 0.2],\n",
        "    [0.1, 0.5, 0.8],\n",
        "    [0.3, 0.6, 0.4]\n",
        "])\n",
        "\n",
        "# Set seed for reproducibility\n",
        "np.random.seed(42)\n",
        "\n",
        "# Define noise to be constant for all steps\n",
        "epsilon = np.random.normal(0, 1, x0.shape)\n",
        "\n",
        "# Define alpha values (level of original image retained)\n",
        "steps = 5\n",
        "alphas = np.linspace(1.0, 0.0, steps)\n",
        "\n",
        "# Plotting setup\n",
        "fig, axs = plt.subplots(1, steps, figsize=(15, 3))\n",
        "\n",
        "# Loop through each step and apply the noising transformation\n",
        "for i, alpha in enumerate(alphas):\n",
        "    sqrt_alpha = np.sqrt(alpha)\n",
        "    sqrt_one_minus_alpha = np.sqrt(1 - alpha)\n",
        "\n",
        "    # Apply the noising formula\n",
        "    x_t = sqrt_alpha * x0 + sqrt_one_minus_alpha * epsilon\n",
        "    x_t = np.clip(x_t, 0, 1)  # Clamp values between 0 and 1 for visualization\n",
        "\n",
        "    # Print matrix values\n",
        "    print(f\"Step {i+1} (α = {alpha:.2f}):\")\n",
        "    print(np.round(x_t, 3), \"\\n\")\n",
        "\n",
        "    # Show image\n",
        "    axs[i].imshow(x_t, cmap='gray', vmin=0, vmax=1)\n",
        "    axs[i].set_title(f\"α = {alpha:.2f}\")\n",
        "    axs[i].axis('off')\n",
        "\n",
        "plt.tight_layout()\n",
        "plt.show()\n"
      ]
    }
  ],
  "metadata": {
    "colab": {
      "include_colab_link": true,
      "provenance": []
    },
    "kernelspec": {
      "display_name": "Python 3",
      "name": "python3"
    },
    "language_info": {
      "name": "python"
    }
  },
  "nbformat": 4,
  "nbformat_minor": 0
}
