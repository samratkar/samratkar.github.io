{
  "cells": [
    {
      "cell_type": "markdown",
      "metadata": {
        "colab_type": "text",
        "id": "view-in-github"
      },
      "source": [
        "<a href=\"https://colab.research.google.com/github/samratkar/samratkar.github.io/blob/main/_posts/concepts/genai/notes-codes/finetuning/instruction/Viz_LLM_Instruction_Fine_tuning.ipynb\" target=\"_parent\"><img src=\"https://colab.research.google.com/assets/colab-badge.svg\" alt=\"Open In Colab\"/></a>"
      ]
    },
    {
      "cell_type": "markdown",
      "metadata": {
        "id": "uzIrdkBQQbBj"
      },
      "source": [
        "# INSTRUCTION FINE-TUNING"
      ]
    },
    {
      "cell_type": "code",
      "execution_count": null,
      "metadata": {
        "id": "RUPuuAXIQnr7"
      },
      "outputs": [],
      "source": [
        "import torch.nn as nn\n",
        "\n",
        "class MultiHeadAttention(nn.Module):\n",
        "    def __init__(self, d_in, d_out, context_length, dropout, num_heads, qkv_bias=False):\n",
        "        super().__init__()\n",
        "        assert (d_out % num_heads == 0), \\\n",
        "            \"d_out must be divisible by num_heads\"\n",
        "\n",
        "        self.d_out = d_out\n",
        "        self.num_heads = num_heads\n",
        "        self.head_dim = d_out // num_heads # Reduce the projection dim to match desired output dim\n",
        "\n",
        "        self.W_query = nn.Linear(d_in, d_out, bias=qkv_bias)\n",
        "        self.W_key = nn.Linear(d_in, d_out, bias=qkv_bias)\n",
        "        self.W_value = nn.Linear(d_in, d_out, bias=qkv_bias)\n",
        "        self.out_proj = nn.Linear(d_out, d_out)  # Linear layer to combine head outputs\n",
        "        self.dropout = nn.Dropout(dropout)\n",
        "        self.register_buffer(\n",
        "            \"mask\",\n",
        "            torch.triu(torch.ones(context_length, context_length),\n",
        "                       diagonal=1)\n",
        "        )\n",
        "\n",
        "    def forward(self, x):\n",
        "        b, num_tokens, d_in = x.shape\n",
        "\n",
        "        keys = self.W_key(x) # Shape: (b, num_tokens, d_out)\n",
        "        queries = self.W_query(x)\n",
        "        values = self.W_value(x)\n",
        "\n",
        "        # We implicitly split the matrix by adding a `num_heads` dimension\n",
        "        # Unroll last dim: (b, num_tokens, d_out) -> (b, num_tokens, num_heads, head_dim)\n",
        "        keys = keys.view(b, num_tokens, self.num_heads, self.head_dim)\n",
        "        values = values.view(b, num_tokens, self.num_heads, self.head_dim)\n",
        "        queries = queries.view(b, num_tokens, self.num_heads, self.head_dim)\n",
        "\n",
        "        # Transpose: (b, num_tokens, num_heads, head_dim) -> (b, num_heads, num_tokens, head_dim)\n",
        "        keys = keys.transpose(1, 2)\n",
        "        queries = queries.transpose(1, 2)\n",
        "        values = values.transpose(1, 2)\n",
        "\n",
        "        # Compute scaled dot-product attention (aka self-attention) with a causal mask\n",
        "        attn_scores = queries @ keys.transpose(2, 3)  # Dot product for each head\n",
        "\n",
        "        # Original mask truncated to the number of tokens and converted to boolean\n",
        "        mask_bool = self.mask.bool()[:num_tokens, :num_tokens]\n",
        "\n",
        "        # Use the mask to fill attention scores\n",
        "        attn_scores.masked_fill_(mask_bool, -torch.inf)\n",
        "\n",
        "        attn_weights = torch.softmax(attn_scores / keys.shape[-1]**0.5, dim=-1)\n",
        "        attn_weights = self.dropout(attn_weights)\n",
        "\n",
        "        # Shape: (b, num_tokens, num_heads, head_dim)\n",
        "        context_vec = (attn_weights @ values).transpose(1, 2)\n",
        "\n",
        "        # Combine heads, where self.d_out = self.num_heads * self.head_dim\n",
        "        context_vec = context_vec.contiguous().view(b, num_tokens, self.d_out)\n",
        "        context_vec = self.out_proj(context_vec) # optional projection\n",
        "\n",
        "        return context_vec"
<<<<<<< HEAD
      ]
=======
      ],
      "metadata": {
        "id": "RUPuuAXIQnr7"
      },
      "execution_count": 1,
      "outputs": []
>>>>>>> 94e0aecd78fc589b0adf9d346d5a1e1a3a1aa5d6
    },
    {
      "cell_type": "code",
      "execution_count": null,
      "metadata": {
        "id": "k8mXRDEzQuHD"
      },
      "outputs": [],
      "source": [
        "import torch.nn as nn\n",
        "\n",
        "class LayerNorm(nn.Module):\n",
        "    def __init__(self, emb_dim):\n",
        "        super().__init__()\n",
        "        self.eps = 1e-5\n",
        "        self.scale = nn.Parameter(torch.ones(emb_dim))\n",
        "        self.shift = nn.Parameter(torch.zeros(emb_dim))\n",
        "\n",
        "    def forward(self, x):\n",
        "        mean = x.mean(dim=-1, keepdim=True)\n",
        "        var = x.var(dim=-1, keepdim=True, unbiased=False)\n",
        "        norm_x = (x - mean) / torch.sqrt(var + self.eps)\n",
        "        return self.scale * norm_x + self.shift\n",
        "\n",
        "class GELU(nn.Module):\n",
        "    def __init__(self):\n",
        "        super().__init__()\n",
        "\n",
        "    def forward(self, x):\n",
        "        return 0.5 * x * (1 + torch.tanh(\n",
        "            torch.sqrt(torch.tensor(2.0 / torch.pi)) *\n",
        "            (x + 0.044715 * torch.pow(x, 3))\n",
        "        ))\n",
        "\n",
        "\n",
        "class FeedForward(nn.Module):\n",
        "    def __init__(self, cfg):\n",
        "        super().__init__()\n",
        "        self.layers = nn.Sequential(\n",
        "            nn.Linear(cfg[\"emb_dim\"], 4 * cfg[\"emb_dim\"]), ## Expansion\n",
        "            GELU(), ## Activation\n",
        "            nn.Linear(4 * cfg[\"emb_dim\"], cfg[\"emb_dim\"]), ## Contraction\n",
        "        )\n",
        "\n",
        "    def forward(self, x):\n",
        "        return self.layers(x)"
<<<<<<< HEAD
      ]
=======
      ],
      "metadata": {
        "id": "k8mXRDEzQuHD"
      },
      "execution_count": 2,
      "outputs": []
>>>>>>> 94e0aecd78fc589b0adf9d346d5a1e1a3a1aa5d6
    },
    {
      "cell_type": "code",
      "execution_count": null,
      "metadata": {
        "id": "J_VlL-KSQxbr"
      },
      "outputs": [],
      "source": [
        "class TransformerBlock(nn.Module):\n",
        "    def __init__(self, cfg):\n",
        "        super().__init__()\n",
        "        self.att = MultiHeadAttention(\n",
        "            d_in=cfg[\"emb_dim\"],\n",
        "            d_out=cfg[\"emb_dim\"],\n",
        "            context_length=cfg[\"context_length\"],\n",
        "            num_heads=cfg[\"n_heads\"],\n",
        "            dropout=cfg[\"drop_rate\"],\n",
        "            qkv_bias=cfg[\"qkv_bias\"])\n",
        "        self.ff = FeedForward(cfg)\n",
        "        self.norm1 = LayerNorm(cfg[\"emb_dim\"])\n",
        "        self.norm2 = LayerNorm(cfg[\"emb_dim\"])\n",
        "        self.drop_shortcut = nn.Dropout(cfg[\"drop_rate\"])\n",
        "\n",
        "    def forward(self, x):\n",
        "        # Shortcut connection for attention block\n",
        "        shortcut = x\n",
        "        x = self.norm1(x)\n",
        "        x = self.att(x)  # Shape [batch_size, num_tokens, emb_size]\n",
        "        x = self.drop_shortcut(x)\n",
        "        x = x + shortcut  # Add the original input back\n",
        "\n",
        "        # Shortcut connection for feed forward block\n",
        "        shortcut = x\n",
        "        x = self.norm2(x)\n",
        "        x = self.ff(x)\n",
        "        # 2*4*768\n",
        "        x = self.drop_shortcut(x)\n",
        "        x = x + shortcut  # Add the original input back\n",
        "\n",
        "        return x\n",
        "        # 2*4*768"
<<<<<<< HEAD
      ]
=======
      ],
      "metadata": {
        "id": "J_VlL-KSQxbr"
      },
      "execution_count": 3,
      "outputs": []
>>>>>>> 94e0aecd78fc589b0adf9d346d5a1e1a3a1aa5d6
    },
    {
      "cell_type": "code",
      "execution_count": null,
      "metadata": {
        "id": "Ab-0bUzuQyHu"
      },
      "outputs": [],
      "source": [
        "class GPTModel(nn.Module):\n",
        "    def __init__(self, cfg):\n",
        "        super().__init__()\n",
        "        self.tok_emb = nn.Embedding(cfg[\"vocab_size\"], cfg[\"emb_dim\"])\n",
        "        self.pos_emb = nn.Embedding(cfg[\"context_length\"], cfg[\"emb_dim\"])\n",
        "        self.drop_emb = nn.Dropout(cfg[\"drop_rate\"])\n",
        "\n",
        "        self.trf_blocks = nn.Sequential(\n",
        "            *[TransformerBlock(cfg) for _ in range(cfg[\"n_layers\"])])\n",
        "\n",
        "        self.final_norm = LayerNorm(cfg[\"emb_dim\"])\n",
        "        self.out_head = nn.Linear(\n",
        "            cfg[\"emb_dim\"], cfg[\"vocab_size\"], bias=False\n",
        "        )\n",
        "\n",
        "    def forward(self, in_idx):\n",
        "        batch_size, seq_len = in_idx.shape\n",
        "        tok_embeds = self.tok_emb(in_idx)\n",
        "        pos_embeds = self.pos_emb(torch.arange(seq_len, device=in_idx.device))\n",
        "        x = tok_embeds + pos_embeds  # Shape [batch_size, num_tokens, emb_size]\n",
        "        x = self.drop_emb(x)\n",
        "        x = self.trf_blocks(x)\n",
        "        x = self.final_norm(x)\n",
        "        logits = self.out_head(x)\n",
        "        return logits"
<<<<<<< HEAD
      ]
=======
      ],
      "metadata": {
        "id": "Ab-0bUzuQyHu"
      },
      "execution_count": 4,
      "outputs": []
>>>>>>> 94e0aecd78fc589b0adf9d346d5a1e1a3a1aa5d6
    },
    {
      "cell_type": "code",
      "execution_count": null,
      "metadata": {
        "id": "YJLnT3UZQztH"
      },
      "outputs": [],
      "source": [
        "def assign(left, right):\n",
        "    if left.shape != right.shape:\n",
        "        raise ValueError(f\"Shape mismatch. Left: {left.shape}, Right: {right.shape}\")\n",
        "    return torch.nn.Parameter(torch.tensor(right))"
<<<<<<< HEAD
      ]
=======
      ],
      "metadata": {
        "id": "YJLnT3UZQztH"
      },
      "execution_count": 5,
      "outputs": []
>>>>>>> 94e0aecd78fc589b0adf9d346d5a1e1a3a1aa5d6
    },
    {
      "cell_type": "code",
      "execution_count": null,
      "metadata": {
        "id": "Ejh6XsevQ1Pu"
      },
      "outputs": [],
      "source": [
        "import numpy as np\n",
        "\n",
        "def load_weights_into_gpt(gpt, params):\n",
        "    gpt.pos_emb.weight = assign(gpt.pos_emb.weight, params['wpe'])\n",
        "    gpt.tok_emb.weight = assign(gpt.tok_emb.weight, params['wte'])\n",
        "\n",
        "    for b in range(len(params[\"blocks\"])):\n",
        "        q_w, k_w, v_w = np.split(\n",
        "            (params[\"blocks\"][b][\"attn\"][\"c_attn\"])[\"w\"], 3, axis=-1)\n",
        "        gpt.trf_blocks[b].att.W_query.weight = assign(\n",
        "            gpt.trf_blocks[b].att.W_query.weight, q_w.T)\n",
        "        gpt.trf_blocks[b].att.W_key.weight = assign(\n",
        "            gpt.trf_blocks[b].att.W_key.weight, k_w.T)\n",
        "        gpt.trf_blocks[b].att.W_value.weight = assign(\n",
        "            gpt.trf_blocks[b].att.W_value.weight, v_w.T)\n",
        "\n",
        "        q_b, k_b, v_b = np.split(\n",
        "            (params[\"blocks\"][b][\"attn\"][\"c_attn\"])[\"b\"], 3, axis=-1)\n",
        "        gpt.trf_blocks[b].att.W_query.bias = assign(\n",
        "            gpt.trf_blocks[b].att.W_query.bias, q_b)\n",
        "        gpt.trf_blocks[b].att.W_key.bias = assign(\n",
        "            gpt.trf_blocks[b].att.W_key.bias, k_b)\n",
        "        gpt.trf_blocks[b].att.W_value.bias = assign(\n",
        "            gpt.trf_blocks[b].att.W_value.bias, v_b)\n",
        "\n",
        "        gpt.trf_blocks[b].att.out_proj.weight = assign(\n",
        "            gpt.trf_blocks[b].att.out_proj.weight,\n",
        "            params[\"blocks\"][b][\"attn\"][\"c_proj\"][\"w\"].T)\n",
        "        gpt.trf_blocks[b].att.out_proj.bias = assign(\n",
        "            gpt.trf_blocks[b].att.out_proj.bias,\n",
        "            params[\"blocks\"][b][\"attn\"][\"c_proj\"][\"b\"])\n",
        "\n",
        "        gpt.trf_blocks[b].ff.layers[0].weight = assign(\n",
        "            gpt.trf_blocks[b].ff.layers[0].weight,\n",
        "            params[\"blocks\"][b][\"mlp\"][\"c_fc\"][\"w\"].T)\n",
        "        gpt.trf_blocks[b].ff.layers[0].bias = assign(\n",
        "            gpt.trf_blocks[b].ff.layers[0].bias,\n",
        "            params[\"blocks\"][b][\"mlp\"][\"c_fc\"][\"b\"])\n",
        "        gpt.trf_blocks[b].ff.layers[2].weight = assign(\n",
        "            gpt.trf_blocks[b].ff.layers[2].weight,\n",
        "            params[\"blocks\"][b][\"mlp\"][\"c_proj\"][\"w\"].T)\n",
        "        gpt.trf_blocks[b].ff.layers[2].bias = assign(\n",
        "            gpt.trf_blocks[b].ff.layers[2].bias,\n",
        "            params[\"blocks\"][b][\"mlp\"][\"c_proj\"][\"b\"])\n",
        "\n",
        "        gpt.trf_blocks[b].norm1.scale = assign(\n",
        "            gpt.trf_blocks[b].norm1.scale,\n",
        "            params[\"blocks\"][b][\"ln_1\"][\"g\"])\n",
        "        gpt.trf_blocks[b].norm1.shift = assign(\n",
        "            gpt.trf_blocks[b].norm1.shift,\n",
        "            params[\"blocks\"][b][\"ln_1\"][\"b\"])\n",
        "        gpt.trf_blocks[b].norm2.scale = assign(\n",
        "            gpt.trf_blocks[b].norm2.scale,\n",
        "            params[\"blocks\"][b][\"ln_2\"][\"g\"])\n",
        "        gpt.trf_blocks[b].norm2.shift = assign(\n",
        "            gpt.trf_blocks[b].norm2.shift,\n",
        "            params[\"blocks\"][b][\"ln_2\"][\"b\"])\n",
        "\n",
        "    gpt.final_norm.scale = assign(gpt.final_norm.scale, params[\"g\"])\n",
        "    gpt.final_norm.shift = assign(gpt.final_norm.shift, params[\"b\"])\n",
        "    gpt.out_head.weight = assign(gpt.out_head.weight, params[\"wte\"])"
<<<<<<< HEAD
      ]
=======
      ],
      "metadata": {
        "id": "Ejh6XsevQ1Pu"
      },
      "execution_count": 6,
      "outputs": []
>>>>>>> 94e0aecd78fc589b0adf9d346d5a1e1a3a1aa5d6
    },
    {
      "cell_type": "code",
      "execution_count": null,
      "metadata": {
        "id": "oOSGzYOvQ3JU"
      },
      "outputs": [],
      "source": [
        "def generate_text_simple(model, idx, max_new_tokens, context_size):\n",
        "    # idx is (batch, n_tokens) array of indices in the current context\n",
        "\n",
        "    ###Input batch:\n",
        " ###tensor([[6109, 3626, 6100,  345],\n",
        "        ##[6109, 1110, 6622,  257]])\n",
        "\n",
        "    for _ in range(max_new_tokens):\n",
        "\n",
        "        # Crop current context if it exceeds the supported context size\n",
        "        # E.g., if LLM supports only 5 tokens, and the context size is 10\n",
        "        # then only the last 5 tokens are used as context\n",
        "        idx_cond = idx[:, -context_size:]\n",
        "\n",
        "        # Get the predictions\n",
        "        with torch.no_grad():\n",
        "            logits = model(idx_cond) ### batch, n_tokens, vocab_size\n",
        "\n",
        "        # Focus only on the last time step\n",
        "        # (batch, n_tokens, vocab_size) becomes (batch, vocab_size)\n",
        "        logits = logits[:, -1, :]\n",
        "\n",
        "        # Apply softmax to get probabilities\n",
        "        probas = torch.softmax(logits, dim=-1)  # (batch, vocab_size)\n",
        "\n",
        "        # Get the idx of the vocab entry with the highest probability value\n",
        "        idx_next = torch.argmax(probas, dim=-1, keepdim=True)  # (batch, 1)\n",
        "\n",
        "        # Append sampled index to the running sequence\n",
        "        idx = torch.cat((idx, idx_next), dim=1)  # (batch, n_tokens+1)\n",
        "\n",
        "    return idx"
<<<<<<< HEAD
      ]
=======
      ],
      "metadata": {
        "id": "oOSGzYOvQ3JU"
      },
      "execution_count": 7,
      "outputs": []
>>>>>>> 94e0aecd78fc589b0adf9d346d5a1e1a3a1aa5d6
    },
    {
      "cell_type": "code",
      "execution_count": null,
      "metadata": {
        "colab": {
          "base_uri": "https://localhost:8080/"
        },
        "id": "_mWsicqgQ6La",
        "outputId": "6c40396f-692b-4620-9c27-189c335766ab"
      },
<<<<<<< HEAD
=======
      "execution_count": 8,
>>>>>>> 94e0aecd78fc589b0adf9d346d5a1e1a3a1aa5d6
      "outputs": [
        {
          "name": "stdout",
          "output_type": "stream",
          "text": [
            "Requirement already satisfied: tiktoken in /usr/local/lib/python3.11/dist-packages (0.9.0)\n",
            "Requirement already satisfied: regex>=2022.1.18 in /usr/local/lib/python3.11/dist-packages (from tiktoken) (2024.11.6)\n",
            "Requirement already satisfied: requests>=2.26.0 in /usr/local/lib/python3.11/dist-packages (from tiktoken) (2.32.3)\n",
            "Requirement already satisfied: charset-normalizer<4,>=2 in /usr/local/lib/python3.11/dist-packages (from requests>=2.26.0->tiktoken) (3.4.2)\n",
            "Requirement already satisfied: idna<4,>=2.5 in /usr/local/lib/python3.11/dist-packages (from requests>=2.26.0->tiktoken) (3.10)\n",
            "Requirement already satisfied: urllib3<3,>=1.21.1 in /usr/local/lib/python3.11/dist-packages (from requests>=2.26.0->tiktoken) (2.4.0)\n",
            "Requirement already satisfied: certifi>=2017.4.17 in /usr/local/lib/python3.11/dist-packages (from requests>=2.26.0->tiktoken) (2025.4.26)\n"
          ]
        }
      ],
      "source": [
        "!pip install tiktoken\n",
        "\n",
        "import tiktoken\n",
        "\n",
        "tokenizer = tiktoken.get_encoding(\"gpt2\")\n",
        "\n",
        "def text_to_token_ids(text, tokenizer):\n",
        "    encoded = tokenizer.encode(text, allowed_special={'<|endoftext|>'})\n",
        "    encoded_tensor = torch.tensor(encoded).unsqueeze(0) # add batch dimension\n",
        "    return encoded_tensor\n",
        "\n",
        "def token_ids_to_text(token_ids, tokenizer):\n",
        "    flat = token_ids.squeeze(0) # remove batch dimension\n",
        "    return tokenizer.decode(flat.tolist())"
      ]
    },
    {
      "cell_type": "code",
      "execution_count": null,
      "metadata": {
        "id": "gvLTDu-wQ7gl"
      },
      "outputs": [],
      "source": [
        "def generate(model, idx, max_new_tokens, context_size, temperature=0.0, top_k=None, eos_id=None):\n",
        "\n",
        "    # For-loop is the same as before: Get logits, and only focus on last time step\n",
        "    for _ in range(max_new_tokens):\n",
        "        idx_cond = idx[:, -context_size:]\n",
        "        with torch.no_grad():\n",
        "            logits = model(idx_cond)\n",
        "        logits = logits[:, -1, :]\n",
        "\n",
        "        # New: Filter logits with top_k sampling\n",
        "        if top_k is not None:\n",
        "            # Keep only top_k values\n",
        "            top_logits, _ = torch.topk(logits, top_k)\n",
        "            min_val = top_logits[:, -1]\n",
        "            logits = torch.where(logits < min_val, torch.tensor(float(\"-inf\")).to(logits.device), logits)\n",
        "\n",
        "        # New: Apply temperature scaling\n",
        "        if temperature > 0.0:\n",
        "            logits = logits / temperature\n",
        "\n",
        "            # Apply softmax to get probabilities\n",
        "            probs = torch.softmax(logits, dim=-1)  # (batch_size, context_len)\n",
        "\n",
        "            # Sample from the distribution\n",
        "            idx_next = torch.multinomial(probs, num_samples=1)  # (batch_size, 1)\n",
        "\n",
        "        # Otherwise same as before: get idx of the vocab entry with the highest logits value\n",
        "        else:\n",
        "            idx_next = torch.argmax(logits, dim=-1, keepdim=True)  # (batch_size, 1)\n",
        "\n",
        "        if idx_next == eos_id:  # Stop generating early if end-of-sequence token is encountered and eos_id is specified\n",
        "            break\n",
        "\n",
        "        # Same as before: append sampled index to the running sequence\n",
        "        idx = torch.cat((idx, idx_next), dim=1)  # (batch_size, num_tokens+1)\n",
        "\n",
        "    return idx"
<<<<<<< HEAD
      ]
=======
      ],
      "metadata": {
        "id": "gvLTDu-wQ7gl"
      },
      "execution_count": 9,
      "outputs": []
>>>>>>> 94e0aecd78fc589b0adf9d346d5a1e1a3a1aa5d6
    },
    {
      "cell_type": "code",
      "execution_count": null,
      "metadata": {
        "id": "jnGyx-RZSipc"
      },
      "outputs": [],
      "source": [
        "def evaluate_model(model, train_loader, val_loader, device, eval_iter):\n",
        "    model.eval()\n",
        "    with torch.no_grad():\n",
        "        train_loss = calc_loss_loader(train_loader, model, device, num_batches=eval_iter)\n",
        "        val_loss = calc_loss_loader(val_loader, model, device, num_batches=eval_iter)\n",
        "    model.train()\n",
        "    return train_loss, val_loss\n",
        "\n",
        "def generate_and_print_sample(model, tokenizer, device, start_context):\n",
        "    model.eval()\n",
        "    context_size = model.pos_emb.weight.shape[0]\n",
        "    encoded = text_to_token_ids(start_context, tokenizer).to(device)\n",
        "    with torch.no_grad():\n",
        "        token_ids = generate_text_simple(\n",
        "            model=model, idx=encoded,\n",
        "            max_new_tokens=50, context_size=context_size\n",
        "        )\n",
        "    decoded_text = token_ids_to_text(token_ids, tokenizer)\n",
        "    print(decoded_text.replace(\"\\n\", \" \"))  # Compact print format\n",
        "    model.train()"
<<<<<<< HEAD
      ]
=======
      ],
      "metadata": {
        "id": "jnGyx-RZSipc"
      },
      "execution_count": 10,
      "outputs": []
>>>>>>> 94e0aecd78fc589b0adf9d346d5a1e1a3a1aa5d6
    },
    {
      "cell_type": "markdown",
      "metadata": {
        "id": "2c2pln8KQbBj"
      },
      "source": [
        "## STEP 1: PREPARING DATASET"
      ]
    },
    {
      "cell_type": "markdown",
      "metadata": {
        "id": "C5ZdpdpEQbBj"
      },
      "source": [
        "<div class=\"alert alert-block alert-success\">\n",
        "\n",
        "In this section, we download and format the instruction dataset for instruction finetuning a\n",
        "pretrained LLM in this chapter. The dataset consists of 1100 instruction-response pairs.\n",
        "\n",
        "The following code implements and executes a function to download this dataset, which\n",
        "is a relatively small file, only 204 KB in size, in JSON format. JSON, or JavaScript Object\n",
        "Notation, mirrors the structure of Python dictionaries, providing a simple structure for data\n",
        "interchange that is both human-readable and machine-friendly.\n",
        "\n",
        "</div>"
      ]
    },
    {
      "cell_type": "code",
      "execution_count": 11,
      "metadata": {
        "colab": {
          "base_uri": "https://localhost:8080/"
        },
        "id": "GqXKYNF1QbBj",
        "outputId": "e1bc256b-c26d-417c-c595-60ab368a6e8c"
      },
      "outputs": [
        {
          "name": "stdout",
          "output_type": "stream",
          "text": [
            "Number of entries: 1100\n"
          ]
        }
      ],
      "source": [
        "import json\n",
        "import os\n",
        "import urllib\n",
        "import ssl\n",
        "\n",
        "def download_and_load_file(file_path, url):\n",
        "    ssl_context = ssl.create_default_context()\n",
        "    ssl_context.check_hostname = False\n",
        "    ssl_context.verify_mode = ssl.CERT_NONE\n",
        "\n",
        "    if not os.path.exists(file_path):\n",
        "        with urllib.request.urlopen(url, context=ssl_context) as response:\n",
        "            text_data = response.read().decode(\"utf-8\")\n",
        "        with open(file_path, \"w\", encoding=\"utf-8\") as file:\n",
        "            file.write(text_data)\n",
        "    else:\n",
        "        with open(file_path, \"r\", encoding=\"utf-8\") as file:\n",
        "            text_data = file.read()\n",
        "\n",
        "    with open(file_path, \"r\", encoding=\"utf-8\") as file:\n",
        "        data = json.load(file)\n",
        "\n",
        "    return data\n",
        "\n",
        "\n",
        "file_path = \"instruction-data.json\"\n",
        "url = (\n",
        "    \"https://raw.githubusercontent.com/rasbt/LLMs-from-scratch\"\n",
        "    \"/main/ch07/01_main-chapter-code/instruction-data.json\"\n",
        ")\n",
        "\n",
        "data = download_and_load_file(file_path, url)\n",
        "print(\"Number of entries:\", len(data))\n"
      ]
    },
    {
      "cell_type": "markdown",
      "metadata": {
        "id": "ZKgaAOXBQbBj"
      },
      "source": [
        "<div class=\"alert alert-block alert-success\">\n",
        "\n",
        "The data list , which we loaded from the JSON file contains the 1100 entries of the\n",
        "instruction dataset.\n",
        "\n",
        "Let's print one of the entries to see how each entry is structured:\n",
        "\n",
        "</div>"
      ]
    },
    {
      "cell_type": "code",
      "execution_count": 12,
      "metadata": {
        "colab": {
          "base_uri": "https://localhost:8080/"
        },
        "id": "7VTXdoKBQbBj",
        "outputId": "19ee891a-bafe-4b08-94e1-1ece0a57d866"
      },
      "outputs": [
        {
          "name": "stdout",
          "output_type": "stream",
          "text": [
            "Example entry:\n",
            " {'instruction': 'Identify the correct spelling of the following word.', 'input': 'Ocassion', 'output': \"The correct spelling is 'Occasion.'\"}\n"
          ]
        }
      ],
      "source": [
        "print(\"Example entry:\\n\", data[50])"
      ]
    },
    {
      "cell_type": "code",
      "execution_count": 13,
      "metadata": {
        "colab": {
          "base_uri": "https://localhost:8080/"
        },
        "id": "zYRu4igdQbBj",
        "outputId": "5f499336-f617-4d1b-ec30-976e4e8f4f9d"
      },
      "outputs": [
        {
          "name": "stdout",
          "output_type": "stream",
          "text": [
            "Another example entry:\n",
            " {'instruction': \"What is an antonym of 'complicated'?\", 'input': '', 'output': \"An antonym of 'complicated' is 'simple'.\"}\n"
          ]
        }
      ],
      "source": [
        "print(\"Another example entry:\\n\", data[999])"
      ]
    },
    {
      "cell_type": "markdown",
      "metadata": {
        "id": "KHE7iP7kQbBj"
      },
      "source": [
        "### CONVERTING INSTRUCTIONS INTO ALPACA FORMAT"
      ]
    },
    {
      "cell_type": "code",
      "execution_count": 14,
      "metadata": {
        "id": "-PiSeQwvQbBj"
      },
      "outputs": [],
      "source": [
        "def format_input(entry):\n",
        "    instruction_text = (\n",
        "        f\"Below is an instruction that describes a task. \"\n",
        "        f\"Write a response that appropriately completes the request.\"\n",
        "        f\"\\n\\n### Instruction:\\n{entry['instruction']}\"\n",
        "    )\n",
        "\n",
        "    input_text = f\"\\n\\n### Input:\\n{entry['input']}\" if entry[\"input\"] else \"\"\n",
        "\n",
        "    return instruction_text + input_text"
      ]
    },
    {
      "cell_type": "markdown",
      "metadata": {
        "id": "6hR02iV4QbBj"
      },
      "source": [
        "<div class=\"alert alert-block alert-info\">\n",
        "    \n",
        "This format_input function takes a dictionary entry as input and constructs a formatted\n",
        "string.\n",
        "\n",
        "</div>"
      ]
    },
    {
      "cell_type": "markdown",
      "metadata": {
        "id": "WDnyaMwLQbBj"
      },
      "source": [
        "<div class=\"alert alert-block alert-success\">\n",
        "\n",
        " Let's test it to dataset entry data[50], which to looked at earlier:\n",
        "\n",
        "</div>"
      ]
    },
    {
      "cell_type": "code",
      "execution_count": 15,
      "metadata": {
        "colab": {
          "base_uri": "https://localhost:8080/"
        },
        "id": "ZOvMPrFGQbBj",
        "outputId": "7fc98fd9-5793-4a99-968a-1aba15b4c1f1"
      },
      "outputs": [
        {
          "name": "stdout",
          "output_type": "stream",
          "text": [
            "Below is an instruction that describes a task. Write a response that appropriately completes the request.\n",
            "\n",
            "### Instruction:\n",
            "Identify the correct spelling of the following word.\n",
            "\n",
            "### Input:\n",
            "Ocassion\n",
            "\n",
            "### Response:\n",
            "The correct spelling is 'Occasion.'\n"
          ]
        }
      ],
      "source": [
        "model_input = format_input(data[50])\n",
        "desired_response = f\"\\n\\n### Response:\\n{data[50]['output']}\"\n",
        "\n",
        "print(model_input + desired_response)"
      ]
    },
    {
      "cell_type": "markdown",
      "metadata": {
        "id": "PIpWQ5IZQbBj"
      },
      "source": [
        "<div class=\"alert alert-block alert-warning\">\n",
        "\n",
        "Note that the format_input skips the optional ### Input: section if the 'input' field is\n",
        "empty, which we can test out by applying the format_input function to entry data[999]\n",
        "that we inspected earlier:\n",
        "\n",
        "</div>"
      ]
    },
    {
      "cell_type": "code",
      "execution_count": 16,
      "metadata": {
        "colab": {
          "base_uri": "https://localhost:8080/"
        },
        "id": "2Wfnc9OoQbBj",
        "outputId": "977bff14-f7c7-4d39-ef80-8c753e9074de"
      },
      "outputs": [
        {
          "name": "stdout",
          "output_type": "stream",
          "text": [
            "Below is an instruction that describes a task. Write a response that appropriately completes the request.\n",
            "\n",
            "### Instruction:\n",
            "What is an antonym of 'complicated'?\n",
            "\n",
            "### Response:\n",
            "An antonym of 'complicated' is 'simple'.\n"
          ]
        }
      ],
      "source": [
        "model_input = format_input(data[999])\n",
        "desired_response = f\"\\n\\n### Response:\\n{data[999]['output']}\"\n",
        "\n",
        "print(model_input + desired_response)"
      ]
    },
    {
      "cell_type": "markdown",
      "metadata": {
        "id": "JdaXwGZdQbBj"
      },
      "source": [
        "### SPLITTING DATASET INTO TRAIN-TEST-VALIDATION"
      ]
    },
    {
      "cell_type": "code",
      "execution_count": 17,
      "metadata": {
        "id": "8j7GsSRoQbBj"
      },
      "outputs": [],
      "source": [
        "train_portion = int(len(data) * 0.85)  # 85% for training\n",
        "test_portion = int(len(data) * 0.1)    # 10% for testing\n",
        "val_portion = len(data) - train_portion - test_portion  # Remaining 5% for validation\n",
        "\n",
        "train_data = data[:train_portion]\n",
        "test_data = data[train_portion:train_portion + test_portion]\n",
        "val_data = data[train_portion + test_portion:]"
      ]
    },
    {
      "cell_type": "code",
      "execution_count": 18,
      "metadata": {
        "colab": {
          "base_uri": "https://localhost:8080/"
        },
        "id": "WCXsYvjSQbBk",
        "outputId": "d49c0819-06da-4978-d4ca-093b8099ff7d"
      },
      "outputs": [
        {
          "name": "stdout",
          "output_type": "stream",
          "text": [
            "Training set length: 935\n",
            "Validation set length: 55\n",
            "Test set length: 110\n"
          ]
        }
      ],
      "source": [
        "print(\"Training set length:\", len(train_data))\n",
        "print(\"Validation set length:\", len(val_data))\n",
        "print(\"Test set length:\", len(test_data))"
      ]
    },
    {
      "cell_type": "markdown",
      "metadata": {
        "id": "qdDEWipCQbBk"
      },
      "source": [
        "<div class=\"alert alert-block alert-warning\">\n",
        "\n",
        "Having successfully downloaded and partitioned the dataset, and gained a clear\n",
        "understanding of the dataset prompt formatting, we are now ready for the core\n",
        "implementation of the instruction finetuning process.\n",
        "\n",
        "</div>"
      ]
    },
    {
      "cell_type": "markdown",
      "metadata": {
        "id": "WhRKunSoQbBk"
      },
      "source": [
        "## STEP 2: ORGANIZING DATA INTO TRAINING BATCHES"
      ]
    },
    {
      "cell_type": "markdown",
      "metadata": {
        "id": "Oo26_WRvQbBk"
      },
      "source": [
        "<div class=\"alert alert-block alert-success\">\n",
        "\n",
        "In the previous chapter, the training batches were created automatically by the PyTorch\n",
        "DataLoader class, which employs a default collate function to combine lists of samples into\n",
        "batches.\n",
        "\n",
        "A collate function is responsible for taking a list of individual data samples and\n",
        "merging them into a single batch that can be processed efficiently by the model during\n",
        "training.\n",
        "\n",
        "</div>"
      ]
    },
    {
      "cell_type": "markdown",
      "metadata": {
        "id": "FBneOQwLQbBk"
      },
      "source": [
        "<div class=\"alert alert-block alert-warning\">\n",
        "\n",
        "However, the batching process for instruction finetuning in this chapter is a bit more\n",
        "involved and requires us to create our own custom collate function that we will later plug\n",
        "into the DataLoader.\n",
        "\n",
        "We implement this custom collate function to handle the specific\n",
        "requirements and formatting of our instruction finetuning dataset.\n",
        "\n",
        "</div>"
      ]
    },
    {
      "cell_type": "markdown",
      "metadata": {
        "id": "AQaYq7QWQbBk"
      },
      "source": [
        "<div class=\"alert alert-block alert-success\">\n",
        "\n",
        "First, we code an\n",
        "InstructionDataset class that applies format_input from the previous section and pretokenizes all inputs in the dataset, similar to the SpamDataset in chapter 6.\n",
        "\n",
        "</div>"
      ]
    },
    {
      "cell_type": "code",
      "execution_count": 19,
      "metadata": {
        "id": "hQSnD2SGQbBk"
      },
      "outputs": [],
      "source": [
        "import torch\n",
        "from torch.utils.data import Dataset\n",
        "\n",
        "\n",
        "class InstructionDataset(Dataset):\n",
        "    def __init__(self, data, tokenizer):\n",
        "        self.data = data\n",
        "\n",
        "        # Pre-tokenize texts\n",
        "        self.encoded_texts = []\n",
        "        for entry in data:\n",
        "            instruction_plus_input = format_input(entry)\n",
        "            response_text = f\"\\n\\n### Response:\\n{entry['output']}\"\n",
        "            full_text = instruction_plus_input + response_text\n",
        "            self.encoded_texts.append(\n",
        "                tokenizer.encode(full_text)\n",
        "            )\n",
        "\n",
        "    def __getitem__(self, index):\n",
        "        return self.encoded_texts[index]\n",
        "\n",
        "    def __len__(self):\n",
        "        return len(self.data)"
      ]
    },
    {
      "cell_type": "markdown",
      "metadata": {
        "id": "JJT9vgc4QbBk"
      },
      "source": [
        "<div class=\"alert alert-block alert-warning\">\n",
        "\n",
        "Similar to the approach in chapter 6, we aim to accelerate training by collecting multiple\n",
        "training examples in a batch, which necessitates padding all inputs to a similar length.\n",
        "\n",
        "As with the previous chapter, we use the <|endoftext|> token as a padding token.\n",
        "    \n",
        "Instead of appending the <|endoftext|> tokens to the text inputs, we can append its\n",
        "token ID to the pre-tokenized inputs directly.\n",
        "\n",
        "To remind us which token ID we should use,\n",
        "we can use the tokenizer's .encode method on an <|endoftext|> token:\n",
        "\n",
        "</div>"
      ]
    },
    {
      "cell_type": "code",
      "execution_count": 20,
      "metadata": {
        "colab": {
          "base_uri": "https://localhost:8080/"
        },
        "id": "XLHle1DKQbBk",
        "outputId": "fa46cd99-1e2a-4594-d1db-505de7cc3a0e"
      },
      "outputs": [
        {
          "name": "stdout",
          "output_type": "stream",
          "text": [
            "[50256]\n"
          ]
        }
      ],
      "source": [
        "import tiktoken\n",
        "tokenizer = tiktoken.get_encoding(\"gpt2\")\n",
        "\n",
        "print(tokenizer.encode(\"<|endoftext|>\", allowed_special={\"<|endoftext|>\"}))"
      ]
    },
    {
      "cell_type": "markdown",
      "metadata": {
        "id": "BHukidw5QbBk"
      },
      "source": [
        "<div class=\"alert alert-block alert-warning\">\n",
        "\n",
        "In chapter 6, we padded all examples in a dataset to the same length.\n",
        "\n",
        "Moving on, here, we adopt a more sophisticated approach by developing a custom\n",
        "collate function that we can pass to the data loader.\n",
        "\n",
        "This custom collate function pads the\n",
        "training examples in each batch to have the same length, while allowing different batches\n",
        "to have different lengths.\n",
        "\n",
        "This approach minimizes unnecessary\n",
        "padding by only extending sequences to match the longest one in each batch, not the\n",
        "whole dataset.\n",
        "\n",
        "</div>"
      ]
    },
    {
      "cell_type": "markdown",
      "metadata": {
        "id": "uI_wquhDQbBk"
      },
      "source": [
        "<div class=\"alert alert-block alert-success\">\n",
        "\n",
        "We can implement the padding process with a custom collate\n",
        "function as follows:\n",
        "</div>"
      ]
    },
    {
      "cell_type": "markdown",
      "metadata": {
        "id": "QhyZ9ZCtQbBk"
      },
      "source": [
        "<div class=\"alert alert-block alert-info\">\n",
        "    \n",
        "Step 1: Find the longest sequence in the batch\n",
        "    \n",
        "Step 2: Pad and prepare inputs\n",
        "    \n",
        "Step 3: Remove extra padded token added earlier\n",
        "\n",
        "Step 4: Convert list of inputs to tensor and transfer to target device\n",
        "\n",
        "</div>"
      ]
    },
    {
      "cell_type": "code",
      "execution_count": 21,
      "metadata": {
        "id": "uHhbniw2QbBk"
      },
      "outputs": [],
      "source": [
        "def custom_collate_draft_1(\n",
        "    batch,\n",
        "    pad_token_id=50256,\n",
        "    device=\"cpu\"\n",
        "):\n",
        "    # Find the longest sequence in the batch\n",
        "    # and increase the max length by +1, which will add one extra\n",
        "    # padding token below\n",
        "    batch_max_length = max(len(item)+1 for item in batch)\n",
        "\n",
        "    # Pad and prepare inputs\n",
        "    inputs_lst = []\n",
        "\n",
        "    for item in batch:\n",
        "        new_item = item.copy()\n",
        "        # Add an <|endoftext|> token\n",
        "        new_item += [pad_token_id]\n",
        "        # Pad sequences to batch_max_length\n",
        "        padded = (\n",
        "            new_item + [pad_token_id] *\n",
        "            (batch_max_length - len(new_item))\n",
        "        )\n",
        "        # Via padded[:-1], we remove the extra padded token\n",
        "        # that has been added via the +1 setting in batch_max_length\n",
        "        # (the extra padding token will be relevant in later codes)\n",
        "        inputs = torch.tensor(padded[:-1])\n",
        "        inputs_lst.append(inputs)\n",
        "\n",
        "    # Convert list of inputs to tensor and transfer to target device\n",
        "    inputs_tensor = torch.stack(inputs_lst).to(device)\n",
        "    return inputs_tensor"
      ]
    },
    {
      "cell_type": "markdown",
      "metadata": {
        "id": "DFY3bjXdQbBk"
      },
      "source": [
        "<div class=\"alert alert-block alert-info\">\n",
        "    \n",
        "The custom_collate_draft_1 we implemented is designed to be integrated into a PyTorch\n",
        "DataLoader, but it can also function as a standalone tool.\n",
        "\n",
        "Here, we use it independently to\n",
        "test and verify that it operates as intended.\n",
        "\n",
        "</div>"
      ]
    },
    {
      "cell_type": "markdown",
      "metadata": {
        "id": "k4GlIAmeQbBk"
      },
      "source": [
        "<div class=\"alert alert-block alert-success\">\n",
        "\n",
        "Let's try it on three different inputs that we\n",
        "want to assemble into a batch, where each example gets padded to the same length:\n",
        "\n",
        "</div>"
      ]
    },
    {
      "cell_type": "code",
      "execution_count": 22,
      "metadata": {
        "colab": {
          "base_uri": "https://localhost:8080/"
        },
        "id": "z777pP42QbBk",
        "outputId": "22568ca2-ee2a-41ef-ab8d-a0403209400b"
      },
      "outputs": [
        {
          "name": "stdout",
          "output_type": "stream",
          "text": [
            "tensor([[    0,     1,     2,     3,     4],\n",
            "        [    5,     6, 50256, 50256, 50256],\n",
            "        [    7,     8,     9, 50256, 50256]])\n"
          ]
        }
      ],
      "source": [
        "inputs_1 = [0, 1, 2, 3, 4]\n",
        "inputs_2 = [5, 6]\n",
        "inputs_3 = [7, 8, 9]\n",
        "\n",
        "batch = (\n",
        "    inputs_1,\n",
        "    inputs_2,\n",
        "    inputs_3\n",
        ")\n",
        "\n",
        "print(custom_collate_draft_1(batch))"
      ]
    },
    {
      "cell_type": "markdown",
      "metadata": {
        "id": "VuCI9eKLQbBk"
      },
      "source": [
        "<div class=\"alert alert-block alert-info\">\n",
        "    \n",
        "As we can see based on the preceding output, all inputs have been padded to the length of\n",
        "the longest input list, inputs_1 containing 5 token IDs.\n",
        "\n",
        "</div>"
      ]
    },
    {
      "cell_type": "markdown",
      "metadata": {
        "id": "B_uTdesKQbBk"
      },
      "source": [
        "<div class=\"alert alert-block alert-warning\">\n",
        "\n",
        "So far, we have just implemented our first custom collate function to create batches from\n",
        "lists of inputs.\n",
        "\n",
        "However, as you learned in previous lessons, we also need to create batches\n",
        "with the target token IDs, corresponding to the batch of input IDs.\n",
        "\n",
        "These target IDs are crucial because they represent what we want the model to\n",
        "generate and what we need during training to calculate the loss for the weight updates,\n",
        "similar to previous chapters.\n",
        "\n",
        "</div>"
      ]
    },
    {
      "cell_type": "markdown",
      "metadata": {
        "id": "eshcwdfRQbBk"
      },
      "source": [
        "#### CREATING TARGET TOKEN IDS FOR TRAINING"
      ]
    },
    {
      "cell_type": "markdown",
      "metadata": {
        "id": "NueZ4Ht5QbBk"
      },
      "source": [
        "<div class=\"alert alert-block alert-success\">\n",
        "\n",
        "Similar to the process described for pretraining an LLM, the target token IDs\n",
        "match the input token IDs but are shifted one position to the right.\n",
        "\n",
        "This setup allows the LLM to learn how to predict the next token in a sequence.\n",
        "\n",
        "</div>"
      ]
    },
    {
      "cell_type": "markdown",
      "metadata": {
        "id": "r82sMBwZQbBl"
      },
      "source": [
        "<div class=\"alert alert-block alert-success\">\n",
        "\n",
        "The following updated collate function generates the target token IDs from the input token IDs:\n",
        "\n",
        "</div>"
      ]
    },
    {
      "cell_type": "code",
      "execution_count": 23,
      "metadata": {
        "id": "rxgJ0hD9QbBl"
      },
      "outputs": [],
      "source": [
        "def custom_collate_draft_2(\n",
        "    batch,\n",
        "    pad_token_id=50256,\n",
        "    device=\"cpu\"\n",
        "):\n",
        "    # Find the longest sequence in the batch\n",
        "    batch_max_length = max(len(item)+1 for item in batch)\n",
        "\n",
        "    # Pad and prepare inputs\n",
        "    inputs_lst, targets_lst = [], []\n",
        "\n",
        "    for item in batch:\n",
        "        new_item = item.copy()\n",
        "        # Add an <|endoftext|> token\n",
        "        new_item += [pad_token_id]\n",
        "        # Pad sequences to max_length\n",
        "        padded = (\n",
        "            new_item + [pad_token_id] *\n",
        "            (batch_max_length - len(new_item))\n",
        "        )\n",
        "        inputs = torch.tensor(padded[:-1])  # Truncate the last token for inputs\n",
        "        targets = torch.tensor(padded[1:])  # Shift +1 to the right for targets\n",
        "        inputs_lst.append(inputs)\n",
        "        targets_lst.append(targets)\n",
        "\n",
        "    # Convert list of inputs to tensor and transfer to target device\n",
        "    inputs_tensor = torch.stack(inputs_lst).to(device)\n",
        "    targets_tensor = torch.stack(targets_lst).to(device)\n",
        "    return inputs_tensor, targets_tensor"
      ]
    },
    {
      "cell_type": "markdown",
      "metadata": {
        "id": "-INJpoELQbBl"
      },
      "source": [
        "<div class=\"alert alert-block alert-info\">\n",
        "    \n",
        "Step 1: Truncate the last token for inputs\n",
        "                               \n",
        "Step 2: Shift +1 to the right for targets\n",
        "\n",
        "</div>"
      ]
    },
    {
      "cell_type": "code",
      "execution_count": 24,
      "metadata": {
        "colab": {
          "base_uri": "https://localhost:8080/"
        },
        "id": "bxxpEO-LQbBl",
        "outputId": "6a972f98-543a-49fd-93a1-48e4aa8f8e5c"
      },
      "outputs": [
        {
          "name": "stdout",
          "output_type": "stream",
          "text": [
            "tensor([[    0,     1,     2,     3,     4],\n",
            "        [    5,     6, 50256, 50256, 50256],\n",
            "        [    7,     8,     9, 50256, 50256]])\n",
            "tensor([[    1,     2,     3,     4, 50256],\n",
            "        [    6, 50256, 50256, 50256, 50256],\n",
            "        [    8,     9, 50256, 50256, 50256]])\n"
          ]
        }
      ],
      "source": [
        "inputs_1 = [0, 1, 2, 3, 4]\n",
        "inputs_2 = [5, 6]\n",
        "inputs_3 = [7, 8, 9]\n",
        "\n",
        "batch = (\n",
        "    inputs_1,\n",
        "    inputs_2,\n",
        "    inputs_3\n",
        ")\n",
        "\n",
        "inputs, targets = custom_collate_draft_2(batch)\n",
        "print(inputs)\n",
        "print(targets)\n"
      ]
    },
    {
      "cell_type": "markdown",
      "metadata": {
        "id": "yOjqNWO2QbBl"
      },
      "source": [
        "<div class=\"alert alert-block alert-info\">\n",
        "    \n",
        "The 1st tensor represents inputs.\n",
        "    \n",
        "The 2nd tensor represents the targets\n",
        "\n",
        "</div>"
      ]
    },
    {
      "cell_type": "markdown",
      "metadata": {
        "id": "yqdVTRBGQbBl"
      },
      "source": [
        "<div class=\"alert alert-block alert-success\">\n",
        "\n",
        "In the next step, we assign a -100 placeholder value to all padding tokens.\n",
        "\n",
        "This special value allows us to exclude these padding tokens from contributing to\n",
        "the training loss calculation, ensuring that only meaningful data influences model learning.\n",
        "\n",
        "In classification fine-tuning, we did not have to worry about this since we only trained the model based on\n",
        "the last output token.)\n",
        "</div>"
      ]
    },
    {
      "cell_type": "markdown",
      "metadata": {
        "id": "Uct13dYbQbBl"
      },
      "source": [
        "<div class=\"alert alert-block alert-warning\">\n",
        "\n",
        "Note that we retain one end-of-text token, ID 50256, in the target list.\n",
        "\n",
        "This allows the LLM to learn when to generate an end-of-text token\n",
        "in response to instructions, which we use as an indicator that the generated response is\n",
        "complete.\n",
        "\n",
        "</div>"
      ]
    },
    {
      "cell_type": "markdown",
      "metadata": {
        "id": "-gx6P4dTQbBl"
      },
      "source": [
        "<div class=\"alert alert-block alert-success\">\n",
        "\n",
        "In the following code, we modify our custom collate function to replace tokens with ID\n",
        "50256 with -100 in the target lists.\n",
        "\n",
        "Additionally, we introduce\n",
        "an allowed_max_length parameter to optionally limit the length of the samples.\n",
        "\n",
        "This\n",
        "adjustment will be useful if you plan to work with your own datasets that exceed the 1024-\n",
        "token context size supported by the GPT-2 model.\n",
        "\n",
        "The code for this updated collate function\n",
        "is as follows:\n",
        "</div>"
      ]
    },
    {
      "cell_type": "code",
      "execution_count": 25,
      "metadata": {
        "id": "ausAkwmtQbBl"
      },
      "outputs": [],
      "source": [
        "def custom_collate_fn(\n",
        "    batch,\n",
        "    pad_token_id=50256,\n",
        "    ignore_index=-100,\n",
        "    allowed_max_length=None,\n",
        "    device=\"cpu\"\n",
        "):\n",
        "    # Find the longest sequence in the batch\n",
        "    batch_max_length = max(len(item)+1 for item in batch)\n",
        "\n",
        "    # Pad and prepare inputs and targets\n",
        "    inputs_lst, targets_lst = [], []\n",
        "\n",
        "    for item in batch:\n",
        "        new_item = item.copy()\n",
        "        # Add an <|endoftext|> token\n",
        "        new_item += [pad_token_id]\n",
        "        # Pad sequences to max_length\n",
        "        padded = (\n",
        "            new_item + [pad_token_id] *\n",
        "            (batch_max_length - len(new_item))\n",
        "        )\n",
        "        inputs = torch.tensor(padded[:-1])  # Truncate the last token for inputs\n",
        "        targets = torch.tensor(padded[1:])  # Shift +1 to the right for targets\n",
        "\n",
        "        # New: Replace all but the first padding tokens in targets by ignore_index\n",
        "        mask = targets == pad_token_id\n",
        "        indices = torch.nonzero(mask).squeeze()\n",
        "        if indices.numel() > 1:\n",
        "            targets[indices[1:]] = ignore_index\n",
        "\n",
        "        # New: Optionally truncate to maximum sequence length\n",
        "        if allowed_max_length is not None:\n",
        "            inputs = inputs[:allowed_max_length]\n",
        "            targets = targets[:allowed_max_length]\n",
        "\n",
        "        inputs_lst.append(inputs)\n",
        "        targets_lst.append(targets)\n",
        "\n",
        "    # Convert list of inputs and targets to tensors and transfer to target device\n",
        "    inputs_tensor = torch.stack(inputs_lst).to(device)\n",
        "    targets_tensor = torch.stack(targets_lst).to(device)\n",
        "\n",
        "    return inputs_tensor, targets_tensor"
      ]
    },
    {
      "cell_type": "markdown",
      "metadata": {
        "id": "MMo2N4ubQbBl"
      },
      "source": [
        "<div class=\"alert alert-block alert-info\">\n",
        "    \n",
        "Step 1: Replace all but the first padding tokens in targets by ignore_index\n",
        "\n",
        "Step 2: Optionally truncate to maximum sequence length\n",
        "\n",
        "</div>"
      ]
    },
    {
      "cell_type": "markdown",
      "metadata": {
        "id": "HDis_lc7QbBl"
      },
      "source": [
        "<div class=\"alert alert-block alert-success\">\n",
        "\n",
        "Again, let's try the collate function on the sample batch that we created earlier to check\n",
        "that it works as intended:\n",
        "</div>"
      ]
    },
    {
      "cell_type": "code",
      "execution_count": 26,
      "metadata": {
        "colab": {
          "base_uri": "https://localhost:8080/"
        },
        "id": "X-7yWMLwQbBl",
        "outputId": "40eeea85-5e28-4651-aea7-522930550927"
      },
      "outputs": [
        {
          "name": "stdout",
          "output_type": "stream",
          "text": [
            "tensor([[    0,     1,     2,     3,     4],\n",
            "        [    5,     6, 50256, 50256, 50256],\n",
            "        [    7,     8,     9, 50256, 50256]])\n",
            "tensor([[    1,     2,     3,     4, 50256],\n",
            "        [    6, 50256,  -100,  -100,  -100],\n",
            "        [    8,     9, 50256,  -100,  -100]])\n"
          ]
        }
      ],
      "source": [
        "inputs_1 = [0, 1, 2, 3, 4]\n",
        "inputs_2 = [5, 6]\n",
        "inputs_3 = [7, 8, 9]\n",
        "\n",
        "batch = (\n",
        "    inputs_1,\n",
        "    inputs_2,\n",
        "    inputs_3\n",
        ")\n",
        "\n",
        "inputs, targets = custom_collate_fn(batch)\n",
        "print(inputs)\n",
        "print(targets)"
      ]
    },
    {
      "cell_type": "markdown",
      "metadata": {
        "id": "m3h381RLQbBm"
      },
      "source": [
        "<div class=\"alert alert-block alert-warning\">\n",
        "\n",
        "In this chapter, we take advantage of this ignore_index to ignore the additional end-oftext (padding) tokens that we used to pad the training examples to have the same length in\n",
        "each batch.\n",
        "\n",
        "</div>"
      ]
    },
    {
      "cell_type": "markdown",
      "metadata": {
        "id": "cogYcvyQQbBm"
      },
      "source": [
        "<div class=\"alert alert-block alert-warning\">\n",
        "\n",
        "However, we want to keep one 50256 (end-of-text)\n",
        "token ID in the targets because it helps the LLM to learn to generate end-of-text tokens,\n",
        "which we can use as an indicator that a response is complete.\n",
        "\n",
        "</div>"
      ]
    },
    {
      "cell_type": "markdown",
      "metadata": {
        "id": "i9x0saxWQbBm"
      },
      "source": [
        "## STEP 3: CREATING DATALOADERS FOR AN INSTRUCTION DATASET"
      ]
    },
    {
      "cell_type": "markdown",
      "metadata": {
        "id": "0enNm9f3QbBm"
      },
      "source": [
        "<div class=\"alert alert-block alert-warning\">\n",
        "\n",
        "The custom_collate_fn includes code to move the input and target tensors (for\n",
        "example, torch.stack(inputs_lst).to(device)) to a specified device, which can be\n",
        "either \"cpu\" or \"cuda\" (for GPUs), or optionally \"mps\" for Macs with Apple Silicon chips.\n",
        "\n",
        "</div>"
      ]
    },
    {
      "cell_type": "markdown",
      "metadata": {
        "id": "zGb1kS6tQbBm"
      },
      "source": [
        "<div class=\"alert alert-block alert-warning\">\n",
        "\n",
        "In previous chapters, we moved the data onto the target device (for example, the GPU\n",
        "memory when device=\"cuda\") in the main training loop. Having this as part of the collate\n",
        "function offers the advantage of performing this device transfer process as a background\n",
        "process outside the training loop, preventing it from blocking the GPU during model\n",
        "training.\n",
        "\n",
        "</div>"
      ]
    },
    {
      "cell_type": "markdown",
      "metadata": {
        "id": "PaSWSotLQbBm"
      },
      "source": [
        "<div class=\"alert alert-block alert-success\">\n",
        "\n",
        "The following code initializes the device variable:\n",
        "</div>"
      ]
    },
    {
      "cell_type": "code",
      "execution_count": 27,
      "metadata": {
        "colab": {
          "base_uri": "https://localhost:8080/"
        },
        "id": "g1ghrbIZQbBm",
        "outputId": "8c37125e-a8d0-46f4-dccf-2713b7ffa370"
      },
      "outputs": [
        {
          "name": "stdout",
          "output_type": "stream",
          "text": [
            "Device: cuda\n"
          ]
        }
      ],
      "source": [
        "device = torch.device(\"cuda\" if torch.cuda.is_available() else \"cpu\")\n",
        "\n",
        "# Note:\n",
        "# Uncommenting the following lines will allow the code to run on Apple Silicon chips, if applicable,\n",
        "# which is much faster than on an Apple CPU (as measured on an M3 MacBook Air).\n",
        "# However, the resulting loss values may be slightly different.\n",
        "\n",
        "#if torch.cuda.is_available():\n",
        "#    device = torch.device(\"cuda\")\n",
        "#elif torch.backends.mps.is_available():\n",
        "#    device = torch.device(\"mps\")\n",
        "#else:\n",
        "#    device = torch.device(\"cpu\")\n",
        "\n",
        "print(\"Device:\", device)"
      ]
    },
    {
      "cell_type": "markdown",
      "metadata": {
        "id": "7qs68-IDQbBm"
      },
      "source": [
        "<div class=\"alert alert-block alert-success\">\n",
        "\n",
        "Next, to reuse the chosen device setting in custom_collate_fn when we plug it into the\n",
        "PyTorch DataLoader class later in this section, we use the partial function from Python's\n",
        "functools standard library to create a new version of the function with the device\n",
        "argument pre-filled.\n",
        "\n",
        "Additionally, we set the allowed_max_length to 1024, which truncates\n",
        "the data to the maximum context length supported by the GPT-2 model we finetune later in\n",
        "this chapter:\n",
        "</div>"
      ]
    },
    {
      "cell_type": "code",
      "execution_count": 28,
      "metadata": {
        "id": "vfePT7CuQbBm"
      },
      "outputs": [],
      "source": [
        "from functools import partial\n",
        "customized_collate_fn = partial(custom_collate_fn, device=device, allowed_max_length=1024)"
      ]
    },
    {
      "cell_type": "markdown",
      "metadata": {
        "id": "WpLsTKiIQbBm"
      },
      "source": [
        "<div class=\"alert alert-block alert-success\">\n",
        "\n",
        "Next, we can set up the data loaders as we did in previous chapters, but this time we will\n",
        "use our custom collate function for the batching process:\n",
        "</div>"
      ]
    },
    {
      "cell_type": "code",
      "execution_count": 29,
      "metadata": {
        "id": "QTTKwf7wQbBm"
      },
      "outputs": [],
      "source": [
        "from torch.utils.data import DataLoader\n",
        "\n",
        "\n",
        "num_workers = 0\n",
        "batch_size = 8\n",
        "\n",
        "torch.manual_seed(123)\n",
        "\n",
        "train_dataset = InstructionDataset(train_data, tokenizer)\n",
        "train_loader = DataLoader(\n",
        "    train_dataset,\n",
        "    batch_size=batch_size,\n",
        "    collate_fn=customized_collate_fn,\n",
        "    shuffle=True,\n",
        "    drop_last=True,\n",
        "    num_workers=num_workers\n",
        ")\n",
        "\n",
        "val_dataset = InstructionDataset(val_data, tokenizer)\n",
        "val_loader = DataLoader(\n",
        "    val_dataset,\n",
        "    batch_size=batch_size,\n",
        "    collate_fn=customized_collate_fn,\n",
        "    shuffle=False,\n",
        "    drop_last=False,\n",
        "    num_workers=num_workers\n",
        ")\n",
        "\n",
        "test_dataset = InstructionDataset(test_data, tokenizer)\n",
        "test_loader = DataLoader(\n",
        "    test_dataset,\n",
        "    batch_size=batch_size,\n",
        "    collate_fn=customized_collate_fn,\n",
        "    shuffle=False,\n",
        "    drop_last=False,\n",
        "    num_workers=num_workers\n",
        ")"
      ]
    },
    {
      "cell_type": "markdown",
      "metadata": {
        "id": "MxT_J5PiQbBm"
      },
      "source": [
        "<div class=\"alert alert-block alert-success\">\n",
        "\n",
        "Let's examine the dimensions of the input and target batches generated by the training\n",
        "loader:\n",
        "</div>"
      ]
    },
    {
      "cell_type": "code",
      "execution_count": 30,
      "metadata": {
        "colab": {
          "base_uri": "https://localhost:8080/"
        },
        "id": "AbqzIzGrQbBm",
        "outputId": "b2dcbf9d-0c5f-47c0-e9a5-9fff54498345"
      },
      "outputs": [
        {
          "name": "stdout",
          "output_type": "stream",
          "text": [
            "Train loader:\n",
            "torch.Size([8, 61]) torch.Size([8, 61])\n",
            "torch.Size([8, 76]) torch.Size([8, 76])\n",
            "torch.Size([8, 73]) torch.Size([8, 73])\n",
            "torch.Size([8, 68]) torch.Size([8, 68])\n",
            "torch.Size([8, 65]) torch.Size([8, 65])\n",
            "torch.Size([8, 72]) torch.Size([8, 72])\n",
            "torch.Size([8, 80]) torch.Size([8, 80])\n",
            "torch.Size([8, 67]) torch.Size([8, 67])\n",
            "torch.Size([8, 62]) torch.Size([8, 62])\n",
            "torch.Size([8, 75]) torch.Size([8, 75])\n",
            "torch.Size([8, 62]) torch.Size([8, 62])\n",
            "torch.Size([8, 68]) torch.Size([8, 68])\n",
            "torch.Size([8, 67]) torch.Size([8, 67])\n",
            "torch.Size([8, 77]) torch.Size([8, 77])\n",
            "torch.Size([8, 69]) torch.Size([8, 69])\n",
            "torch.Size([8, 79]) torch.Size([8, 79])\n",
            "torch.Size([8, 71]) torch.Size([8, 71])\n",
            "torch.Size([8, 66]) torch.Size([8, 66])\n",
            "torch.Size([8, 83]) torch.Size([8, 83])\n",
            "torch.Size([8, 68]) torch.Size([8, 68])\n",
            "torch.Size([8, 80]) torch.Size([8, 80])\n",
            "torch.Size([8, 71]) torch.Size([8, 71])\n",
            "torch.Size([8, 69]) torch.Size([8, 69])\n",
            "torch.Size([8, 65]) torch.Size([8, 65])\n",
            "torch.Size([8, 68]) torch.Size([8, 68])\n",
            "torch.Size([8, 60]) torch.Size([8, 60])\n",
            "torch.Size([8, 59]) torch.Size([8, 59])\n",
            "torch.Size([8, 69]) torch.Size([8, 69])\n",
            "torch.Size([8, 63]) torch.Size([8, 63])\n",
            "torch.Size([8, 65]) torch.Size([8, 65])\n",
            "torch.Size([8, 76]) torch.Size([8, 76])\n",
            "torch.Size([8, 66]) torch.Size([8, 66])\n",
            "torch.Size([8, 71]) torch.Size([8, 71])\n",
            "torch.Size([8, 91]) torch.Size([8, 91])\n",
            "torch.Size([8, 65]) torch.Size([8, 65])\n",
            "torch.Size([8, 64]) torch.Size([8, 64])\n",
            "torch.Size([8, 67]) torch.Size([8, 67])\n",
            "torch.Size([8, 66]) torch.Size([8, 66])\n",
            "torch.Size([8, 64]) torch.Size([8, 64])\n",
            "torch.Size([8, 65]) torch.Size([8, 65])\n",
            "torch.Size([8, 75]) torch.Size([8, 75])\n",
            "torch.Size([8, 89]) torch.Size([8, 89])\n",
            "torch.Size([8, 59]) torch.Size([8, 59])\n",
            "torch.Size([8, 88]) torch.Size([8, 88])\n",
            "torch.Size([8, 83]) torch.Size([8, 83])\n",
            "torch.Size([8, 83]) torch.Size([8, 83])\n",
            "torch.Size([8, 70]) torch.Size([8, 70])\n",
            "torch.Size([8, 65]) torch.Size([8, 65])\n",
            "torch.Size([8, 74]) torch.Size([8, 74])\n",
            "torch.Size([8, 76]) torch.Size([8, 76])\n",
            "torch.Size([8, 67]) torch.Size([8, 67])\n",
            "torch.Size([8, 75]) torch.Size([8, 75])\n",
            "torch.Size([8, 83]) torch.Size([8, 83])\n",
            "torch.Size([8, 69]) torch.Size([8, 69])\n",
            "torch.Size([8, 67]) torch.Size([8, 67])\n",
            "torch.Size([8, 60]) torch.Size([8, 60])\n",
            "torch.Size([8, 60]) torch.Size([8, 60])\n",
            "torch.Size([8, 66]) torch.Size([8, 66])\n",
            "torch.Size([8, 80]) torch.Size([8, 80])\n",
            "torch.Size([8, 71]) torch.Size([8, 71])\n",
            "torch.Size([8, 61]) torch.Size([8, 61])\n",
            "torch.Size([8, 58]) torch.Size([8, 58])\n",
            "torch.Size([8, 71]) torch.Size([8, 71])\n",
            "torch.Size([8, 67]) torch.Size([8, 67])\n",
            "torch.Size([8, 68]) torch.Size([8, 68])\n",
            "torch.Size([8, 63]) torch.Size([8, 63])\n",
            "torch.Size([8, 87]) torch.Size([8, 87])\n",
            "torch.Size([8, 68]) torch.Size([8, 68])\n",
            "torch.Size([8, 64]) torch.Size([8, 64])\n",
            "torch.Size([8, 68]) torch.Size([8, 68])\n",
            "torch.Size([8, 71]) torch.Size([8, 71])\n",
            "torch.Size([8, 68]) torch.Size([8, 68])\n",
            "torch.Size([8, 71]) torch.Size([8, 71])\n",
            "torch.Size([8, 61]) torch.Size([8, 61])\n",
            "torch.Size([8, 65]) torch.Size([8, 65])\n",
            "torch.Size([8, 67]) torch.Size([8, 67])\n",
            "torch.Size([8, 65]) torch.Size([8, 65])\n",
            "torch.Size([8, 64]) torch.Size([8, 64])\n",
            "torch.Size([8, 60]) torch.Size([8, 60])\n",
            "torch.Size([8, 72]) torch.Size([8, 72])\n",
            "torch.Size([8, 64]) torch.Size([8, 64])\n",
            "torch.Size([8, 70]) torch.Size([8, 70])\n",
            "torch.Size([8, 57]) torch.Size([8, 57])\n",
            "torch.Size([8, 72]) torch.Size([8, 72])\n",
            "torch.Size([8, 64]) torch.Size([8, 64])\n",
            "torch.Size([8, 68]) torch.Size([8, 68])\n",
            "torch.Size([8, 62]) torch.Size([8, 62])\n",
            "torch.Size([8, 74]) torch.Size([8, 74])\n",
            "torch.Size([8, 80]) torch.Size([8, 80])\n",
            "torch.Size([8, 68]) torch.Size([8, 68])\n",
            "torch.Size([8, 70]) torch.Size([8, 70])\n",
            "torch.Size([8, 91]) torch.Size([8, 91])\n",
            "torch.Size([8, 61]) torch.Size([8, 61])\n",
            "torch.Size([8, 66]) torch.Size([8, 66])\n",
            "torch.Size([8, 80]) torch.Size([8, 80])\n",
            "torch.Size([8, 81]) torch.Size([8, 81])\n",
            "torch.Size([8, 74]) torch.Size([8, 74])\n",
            "torch.Size([8, 82]) torch.Size([8, 82])\n",
            "torch.Size([8, 63]) torch.Size([8, 63])\n",
            "torch.Size([8, 83]) torch.Size([8, 83])\n",
            "torch.Size([8, 68]) torch.Size([8, 68])\n",
            "torch.Size([8, 67]) torch.Size([8, 67])\n",
            "torch.Size([8, 77]) torch.Size([8, 77])\n",
            "torch.Size([8, 91]) torch.Size([8, 91])\n",
            "torch.Size([8, 64]) torch.Size([8, 64])\n",
            "torch.Size([8, 61]) torch.Size([8, 61])\n",
            "torch.Size([8, 75]) torch.Size([8, 75])\n",
            "torch.Size([8, 64]) torch.Size([8, 64])\n",
            "torch.Size([8, 66]) torch.Size([8, 66])\n",
            "torch.Size([8, 78]) torch.Size([8, 78])\n",
            "torch.Size([8, 66]) torch.Size([8, 66])\n",
            "torch.Size([8, 64]) torch.Size([8, 64])\n",
            "torch.Size([8, 83]) torch.Size([8, 83])\n",
            "torch.Size([8, 66]) torch.Size([8, 66])\n",
            "torch.Size([8, 74]) torch.Size([8, 74])\n",
            "torch.Size([8, 69]) torch.Size([8, 69])\n"
          ]
        }
      ],
      "source": [
        "print(\"Train loader:\")\n",
        "for inputs, targets in train_loader:\n",
        "    print(inputs.shape, targets.shape)"
      ]
    },
    {
      "cell_type": "markdown",
      "metadata": {
        "id": "vQMYK9eOQbBn"
      },
      "source": [
        "<div class=\"alert alert-block alert-info\">\n",
        "    \n",
        "In the preceding output, we can see that the first input and target batch have dimensions\n",
        "8×61, where 8 represents the batch size, and 61 is the number of tokens in each training\n",
        "example in this batch.\n",
        "\n",
        "The second input and target batch have a different number of\n",
        "tokens, for instance, 76.\n",
        "\n",
        "\n",
        "As we saw in the preceding code output, thanks to our custom collate function, the data\n",
        "loader is able to create batches of different lengths.\n",
        "\n",
        "In the next section, we load a\n",
        "pretrained LLM that we can then finetune with this data loader.\n",
        "\n",
        "</div>"
      ]
    },
    {
      "cell_type": "markdown",
      "metadata": {
        "id": "YieRBC83QbBn"
      },
      "source": [
        "## STEP 4: LOADING A PRETRAINED LLM"
      ]
    },
    {
      "cell_type": "markdown",
      "metadata": {
        "id": "cUPp4T3cQbBn"
      },
      "source": [
        "<div class=\"alert alert-block alert-success\">\n",
        "\n",
        "Before beginning instruction finetuning, we first load a pretrained GPT model,\n",
        "</div>"
      ]
    },
    {
      "cell_type": "markdown",
      "metadata": {
        "id": "9qzGXiSOQbBn"
      },
      "source": [
        "<div class=\"alert alert-block alert-warning\">\n",
        "\n",
        "Instead of using the smallest 124 million\n",
        "parameter model as before, we load the medium-sized model with 355 million parameters.\n",
        "\n",
        "The reason for this choice is that the 124 million parameter model is too limited in capacity\n",
        "to achieve qualitatively satisfactory results via instruction finetuning.\n",
        "\n",
        "</div>"
      ]
    },
    {
      "cell_type": "markdown",
      "metadata": {
        "id": "yIIeSxHTQbBn"
      },
      "source": [
        "<div class=\"alert alert-block alert-warning\">\n",
        "\n",
        "This is done using the same code as in section 5.5 of chapter 5 and section 6.4 of\n",
        "the previous chapter, except that we now specify \"gpt2-medium (355M)\" instead of \"gpt2-small\n",
        "(124M)\".\n",
        "\n",
        "Please note that executing the code provided below will initiate the download of\n",
        "the medium-sized GPT model, which has a storage requirement of approximately 1.42\n",
        "gigabytes.\n",
        "\n",
        "This is roughly three times larger than the storage space needed for the small\n",
        "model:\n",
        "\n",
        "</div>"
      ]
    },
    {
      "cell_type": "code",
      "execution_count": 31,
      "metadata": {
        "colab": {
          "base_uri": "https://localhost:8080/"
        },
        "id": "8gWFrQApQbBn",
        "outputId": "ac34ebe2-5c3f-481c-dca3-bda1fb846c74"
      },
      "outputs": [
        {
          "name": "stderr",
          "output_type": "stream",
          "text": [
            "/usr/local/lib/python3.11/dist-packages/urllib3/connectionpool.py:1097: InsecureRequestWarning: Unverified HTTPS request is being made to host 'openaipublic.blob.core.windows.net'. Adding certificate verification is strongly advised. See: https://urllib3.readthedocs.io/en/latest/advanced-usage.html#tls-warnings\n",
            "  warnings.warn(\n",
            "checkpoint: 100%|██████████| 77.0/77.0 [00:00<00:00, 191kiB/s]\n",
            "/usr/local/lib/python3.11/dist-packages/urllib3/connectionpool.py:1097: InsecureRequestWarning: Unverified HTTPS request is being made to host 'openaipublic.blob.core.windows.net'. Adding certificate verification is strongly advised. See: https://urllib3.readthedocs.io/en/latest/advanced-usage.html#tls-warnings\n",
            "  warnings.warn(\n",
            "encoder.json: 100%|██████████| 1.04M/1.04M [00:00<00:00, 2.77MiB/s]\n",
            "/usr/local/lib/python3.11/dist-packages/urllib3/connectionpool.py:1097: InsecureRequestWarning: Unverified HTTPS request is being made to host 'openaipublic.blob.core.windows.net'. Adding certificate verification is strongly advised. See: https://urllib3.readthedocs.io/en/latest/advanced-usage.html#tls-warnings\n",
            "  warnings.warn(\n",
            "hparams.json: 100%|██████████| 91.0/91.0 [00:00<00:00, 172kiB/s]\n",
            "/usr/local/lib/python3.11/dist-packages/urllib3/connectionpool.py:1097: InsecureRequestWarning: Unverified HTTPS request is being made to host 'openaipublic.blob.core.windows.net'. Adding certificate verification is strongly advised. See: https://urllib3.readthedocs.io/en/latest/advanced-usage.html#tls-warnings\n",
            "  warnings.warn(\n",
            "model.ckpt.data-00000-of-00001: 100%|██████████| 1.42G/1.42G [01:48<00:00, 13.1MiB/s]\n",
            "/usr/local/lib/python3.11/dist-packages/urllib3/connectionpool.py:1097: InsecureRequestWarning: Unverified HTTPS request is being made to host 'openaipublic.blob.core.windows.net'. Adding certificate verification is strongly advised. See: https://urllib3.readthedocs.io/en/latest/advanced-usage.html#tls-warnings\n",
            "  warnings.warn(\n",
            "model.ckpt.index: 100%|██████████| 10.4k/10.4k [00:00<00:00, 13.8MiB/s]\n",
            "/usr/local/lib/python3.11/dist-packages/urllib3/connectionpool.py:1097: InsecureRequestWarning: Unverified HTTPS request is being made to host 'openaipublic.blob.core.windows.net'. Adding certificate verification is strongly advised. See: https://urllib3.readthedocs.io/en/latest/advanced-usage.html#tls-warnings\n",
            "  warnings.warn(\n",
            "model.ckpt.meta: 100%|██████████| 927k/927k [00:00<00:00, 2.46MiB/s]\n",
            "/usr/local/lib/python3.11/dist-packages/urllib3/connectionpool.py:1097: InsecureRequestWarning: Unverified HTTPS request is being made to host 'openaipublic.blob.core.windows.net'. Adding certificate verification is strongly advised. See: https://urllib3.readthedocs.io/en/latest/advanced-usage.html#tls-warnings\n",
            "  warnings.warn(\n",
            "vocab.bpe: 100%|██████████| 456k/456k [00:00<00:00, 1.40MiB/s]\n"
          ]
        }
      ],
      "source": [
        "from gpt_download3 import download_and_load_gpt2\n",
        "\n",
        "BASE_CONFIG = {\n",
        "    \"vocab_size\": 50257,     # Vocabulary size\n",
        "    \"context_length\": 1024,  # Context length\n",
        "    \"drop_rate\": 0.0,        # Dropout rate\n",
        "    \"qkv_bias\": True         # Query-key-value bias\n",
        "}\n",
        "\n",
        "model_configs = {\n",
        "    \"gpt2-small (124M)\": {\"emb_dim\": 768, \"n_layers\": 12, \"n_heads\": 12},\n",
        "    \"gpt2-medium (355M)\": {\"emb_dim\": 1024, \"n_layers\": 24, \"n_heads\": 16},\n",
        "    \"gpt2-large (774M)\": {\"emb_dim\": 1280, \"n_layers\": 36, \"n_heads\": 20},\n",
        "    \"gpt2-xl (1558M)\": {\"emb_dim\": 1600, \"n_layers\": 48, \"n_heads\": 25},\n",
        "}\n",
        "\n",
        "CHOOSE_MODEL = \"gpt2-medium (355M)\"\n",
        "\n",
        "BASE_CONFIG.update(model_configs[CHOOSE_MODEL])\n",
        "\n",
        "model_size = CHOOSE_MODEL.split(\" \")[-1].lstrip(\"(\").rstrip(\")\")\n",
        "settings, params = download_and_load_gpt2(\n",
        "    model_size=model_size,\n",
        "    models_dir=\"gpt2\"\n",
        ")\n",
        "\n",
        "model = GPTModel(BASE_CONFIG)\n",
        "load_weights_into_gpt(model, params)\n",
        "model.eval();"
      ]
    },
    {
      "cell_type": "markdown",
      "metadata": {
        "id": "cvTgLjF5QbBn"
      },
      "source": [
        "<div class=\"alert alert-block alert-success\">\n",
        "\n",
        "Before diving into finetuning the model in the next section, let's take a moment to assess\n",
        "the pretrained LLM's performance on one of the validation tasks by comparing its output to\n",
        "the expected response.\n",
        "\n",
        "This will give us a baseline understanding of how well the model\n",
        "performs on an instruction-following task right out of the box, prior to finetuning, and will\n",
        "help us appreciate the impact of finetuning later on.\n",
        "\n",
        "We use the first example from the\n",
        "validation set for this assessment:\n",
        "</div>"
      ]
    },
    {
      "cell_type": "code",
      "execution_count": 32,
      "metadata": {
        "colab": {
          "base_uri": "https://localhost:8080/"
        },
        "id": "Gu0mry0rQbBn",
        "outputId": "0deb4268-4a09-4ef3-a8f4-d02c49cf7fbe"
      },
      "outputs": [
        {
          "name": "stdout",
          "output_type": "stream",
          "text": [
            "Below is an instruction that describes a task. Write a response that appropriately completes the request.\n",
            "\n",
            "### Instruction:\n",
            "Convert the active sentence to passive: 'The chef cooks the meal every day.'\n"
          ]
        }
      ],
      "source": [
        "torch.manual_seed(123)\n",
        "input_text = format_input(val_data[0])\n",
        "print(input_text)"
      ]
    },
    {
      "cell_type": "code",
      "execution_count": 33,
      "metadata": {
        "id": "HSiOo6mbQbBn"
      },
      "outputs": [],
      "source": [
        "token_ids = generate(\n",
        "    model=model,\n",
        "    idx=text_to_token_ids(input_text, tokenizer),\n",
        "    max_new_tokens=35,\n",
        "    context_size=BASE_CONFIG[\"context_length\"],\n",
        "    eos_id=50256,\n",
        ")\n",
        "generated_text = token_ids_to_text(token_ids, tokenizer)"
      ]
    },
    {
      "cell_type": "code",
      "execution_count": null,
      "metadata": {
        "colab": {
          "base_uri": "https://localhost:8080/"
        },
        "id": "BVb-HGrGSPFR",
        "outputId": "bbf18880-56f1-439e-805c-d59eb538583f"
      },
<<<<<<< HEAD
=======
      "execution_count": 34,
>>>>>>> 94e0aecd78fc589b0adf9d346d5a1e1a3a1aa5d6
      "outputs": [
        {
          "name": "stdout",
          "output_type": "stream",
          "text": [
            "Below is an instruction that describes a task. Write a response that appropriately completes the request.\n",
            "\n",
            "### Instruction:\n",
            "Convert the active sentence to passive: 'The chef cooks the meal every day.'\n",
            "\n",
            "### Response:\n",
            "\n",
            "The chef cooks the meal every day.\n",
            "\n",
            "### Instruction:\n",
            "\n",
            "Convert the active sentence to passive: 'The chef cooks the\n"
          ]
        }
      ],
      "source": [
        "print(generated_text)"
      ]
    },
    {
      "cell_type": "markdown",
      "metadata": {
        "id": "vaBv4Wp9QbBn"
      },
      "source": [
        "<div class=\"alert alert-block alert-info\">\n",
        "    \n",
        "It's important to note that the generate function returns the combined input and output\n",
        "text.\n",
        "\n",
        "This behavior was convenient in previous chapters since pretrained LLMs are primarily\n",
        "designed as text-completion models, where the input and output are concatenated to\n",
        "create a coherent and legible text.\n",
        "\n",
        "However, when evaluating the model's performance on a\n",
        "specific task, we often want to focus solely on the model's generated response.\n",
        "\n",
        "</div>"
      ]
    },
    {
      "cell_type": "markdown",
      "metadata": {
        "id": "z0hLBEE7QbBn"
      },
      "source": [
        "<div class=\"alert alert-block alert-success\">\n",
        "\n",
        "To isolate the model's response text, we need to subtract the length of the input\n",
        "instruction from the start of the generated_text:\n",
        "\n",
        "</div>"
      ]
    },
    {
      "cell_type": "code",
      "execution_count": 35,
      "metadata": {
        "colab": {
          "base_uri": "https://localhost:8080/"
        },
        "id": "CsnaLTTlQbBn",
        "outputId": "0dabe255-9d6f-4691-9d51-f30ad1816689"
      },
      "outputs": [
        {
          "name": "stdout",
          "output_type": "stream",
          "text": [
            "### Response:\n",
            "\n",
            "The chef cooks the meal every day.\n",
            "\n",
            "### Instruction:\n",
            "\n",
            "Convert the active sentence to passive: 'The chef cooks the\n"
          ]
        }
      ],
      "source": [
        "response_text = generated_text[len(input_text):].strip()\n",
        "print(response_text)"
      ]
    },
    {
      "cell_type": "markdown",
      "metadata": {
        "id": "qHaF7twRQbBn"
      },
      "source": [
        "<div class=\"alert alert-block alert-info\">\n",
        "\n",
        "This code snippet removes the input text from the beginning of the generated_text,\n",
        "leaving us with only the model's generated response. The strip() function is then applied\n",
        "to remove any leading or trailing whitespace characters. The output is as follows:\n",
        "\n",
        "</div>"
      ]
    },
    {
      "cell_type": "markdown",
      "metadata": {
        "id": "5W_LBLFqQbBn"
      },
      "source": [
        "<div class=\"alert alert-block alert-info\">\n",
        "    \n",
        "As we can see from the output, the pretrained model is not yet capable of correctly\n",
        "following the given instruction.\n",
        "\n",
        "While it does create a \"Response\" section, it simply repeats\n",
        "the original input sentence and part of the instruction, failing to convert the active sentence\n",
        "to passive voice as requested.\n",
        "\n",
        "\n",
        "In the upcoming section, we implement the finetuning process to improve the model's\n",
        "ability to comprehend and appropriately respond to such requests.\n",
        "\n",
        "</div>"
      ]
    },
    {
      "cell_type": "markdown",
      "metadata": {
        "id": "LDbxx_8NQbBn"
      },
      "source": [
        "## STEP 5: FINETUNING THE LLM ON INSTRUCTION DATA"
      ]
    },
    {
      "cell_type": "markdown",
      "metadata": {
        "id": "pnUnztt2QbBn"
      },
      "source": [
        "<div class=\"alert alert-block alert-success\">\n",
        "\n",
        "We already did all the hard work when we implemented the\n",
        "instruction dataset processing at the beginning of this chapter.\n",
        "\n",
        "For the finetuning process\n",
        "itself, we can reuse the loss calculation and training functions implemented in chapter 5\n",
        "during the pretraining:\n",
        "</div>"
      ]
    },
    {
      "cell_type": "markdown",
      "metadata": {
        "id": "jFU2NC9PQbBn"
      },
      "source": [
        "<div class=\"alert alert-block alert-success\">\n",
        "\n",
        "Before we begin training, let's calculate the initial loss for the training and validation sets:\n",
        "</div>"
      ]
    },
    {
      "cell_type": "markdown",
      "metadata": {
        "id": "368zqQ_iQbBn"
      },
      "source": [
        "#### PREVIOUSLY DEFINED FUNCTIONS WHICH WE WILL REQUIRE"
      ]
    },
    {
      "cell_type": "code",
      "execution_count": 36,
      "metadata": {
        "id": "iBzaLVOKQbBn"
      },
      "outputs": [],
      "source": [
        "def calc_loss_batch(input_batch, target_batch, model, device):\n",
        "    input_batch, target_batch = input_batch.to(device), target_batch.to(device)\n",
        "    logits = model(input_batch)\n",
        "    loss = torch.nn.functional.cross_entropy(logits.flatten(0, 1), target_batch.flatten())\n",
        "    return loss\n",
        "\n",
        "\n",
        "def calc_loss_loader(data_loader, model, device, num_batches=None):\n",
        "    total_loss = 0.\n",
        "    if len(data_loader) == 0:\n",
        "        return float(\"nan\")\n",
        "    elif num_batches is None:\n",
        "        num_batches = len(data_loader)\n",
        "    else:\n",
        "        # Reduce the number of batches to match the total number of batches in the data loader\n",
        "        # if num_batches exceeds the number of batches in the data loader\n",
        "        num_batches = min(num_batches, len(data_loader))\n",
        "    for i, (input_batch, target_batch) in enumerate(data_loader):\n",
        "        if i < num_batches:\n",
        "            loss = calc_loss_batch(input_batch, target_batch, model, device)\n",
        "            total_loss += loss.item()\n",
        "        else:\n",
        "            break\n",
        "    return total_loss / num_batches\n",
        "\n",
        "def train_model_simple(model, train_loader, val_loader, optimizer, device, num_epochs,\n",
        "                       eval_freq, eval_iter, start_context, tokenizer):\n",
        "    # Initialize lists to track losses and tokens seen\n",
        "    train_losses, val_losses, track_tokens_seen = [], [], []\n",
        "    tokens_seen, global_step = 0, -1\n",
        "\n",
        "    # Main training loop\n",
        "    for epoch in range(num_epochs):\n",
        "        model.train()  # Set model to training mode\n",
        "\n",
        "        for input_batch, target_batch in train_loader:\n",
        "            optimizer.zero_grad() # Reset loss gradients from previous batch iteration\n",
        "            loss = calc_loss_batch(input_batch, target_batch, model, device)\n",
        "            loss.backward() # Calculate loss gradients\n",
        "            optimizer.step() # Update model weights using loss gradients\n",
        "            tokens_seen += input_batch.numel() # Returns the total number of elements (or tokens) in the input_batch.\n",
        "            global_step += 1\n",
        "\n",
        "            # Optional evaluation step\n",
        "            if global_step % eval_freq == 0:\n",
        "                train_loss, val_loss = evaluate_model(\n",
        "                    model, train_loader, val_loader, device, eval_iter)\n",
        "                train_losses.append(train_loss)\n",
        "                val_losses.append(val_loss)\n",
        "                track_tokens_seen.append(tokens_seen)\n",
        "                print(f\"Ep {epoch+1} (Step {global_step:06d}): \"\n",
        "                      f\"Train loss {train_loss:.3f}, Val loss {val_loss:.3f}\")\n",
        "\n",
        "        # Print a sample text after each epoch\n",
        "        generate_and_print_sample(\n",
        "            model, tokenizer, device, start_context\n",
        "        )\n",
        "\n",
        "    return train_losses, val_losses, track_tokens_seen\n"
      ]
    },
    {
      "cell_type": "code",
      "execution_count": 37,
      "metadata": {
        "colab": {
          "base_uri": "https://localhost:8080/"
        },
        "id": "2gDeZrarQbBo",
        "outputId": "1a83111f-697f-4404-f2fc-40d885690064"
      },
      "outputs": [
        {
          "name": "stdout",
          "output_type": "stream",
          "text": [
            "Training loss: 3.825909471511841\n",
            "Validation loss: 3.761934232711792\n"
          ]
        }
      ],
      "source": [
        "model.to(device)\n",
        "\n",
        "torch.manual_seed(123)\n",
        "\n",
        "with torch.no_grad():\n",
        "    train_loss = calc_loss_loader(train_loader, model, device, num_batches=5)\n",
        "    val_loss = calc_loss_loader(val_loader, model, device, num_batches=5)\n",
        "\n",
        "print(\"Training loss:\", train_loss)\n",
        "print(\"Validation loss:\", val_loss)"
      ]
    },
    {
      "cell_type": "markdown",
      "metadata": {
        "id": "nRqGcMJXQbBo"
      },
      "source": [
        "<div class=\"alert alert-block alert-success\">\n",
        "With the model and data loaders prepared, we can now proceed to train the model.\n",
        "\n",
        "The following code sets up the training process, including initializing the optimizer, setting the\n",
        "number of epochs, and defining the evaluation frequency and starting context to evaluate\n",
        "generated LLM responses during training based on the first validation set instruction\n",
        "(val_data[0]) we looked at earlier:\n",
        "\n",
        "</div>"
      ]
    },
    {
      "cell_type": "code",
      "execution_count": 38,
      "metadata": {
        "colab": {
          "base_uri": "https://localhost:8080/"
        },
        "id": "Ybi8tx1cQbBo",
        "outputId": "3e205e1d-992c-49fb-9241-573ad88e28c5"
      },
      "outputs": [
        {
          "name": "stdout",
          "output_type": "stream",
          "text": [
            "Ep 1 (Step 000000): Train loss 2.637, Val loss 2.626\n",
            "Ep 1 (Step 000005): Train loss 1.174, Val loss 1.103\n",
            "Ep 1 (Step 000010): Train loss 0.872, Val loss 0.944\n",
            "Ep 1 (Step 000015): Train loss 0.857, Val loss 0.906\n",
            "Ep 1 (Step 000020): Train loss 0.776, Val loss 0.881\n",
            "Ep 1 (Step 000025): Train loss 0.754, Val loss 0.859\n",
            "Ep 1 (Step 000030): Train loss 0.799, Val loss 0.836\n",
            "Ep 1 (Step 000035): Train loss 0.714, Val loss 0.808\n",
            "Ep 1 (Step 000040): Train loss 0.672, Val loss 0.806\n",
            "Ep 1 (Step 000045): Train loss 0.633, Val loss 0.789\n",
            "Ep 1 (Step 000050): Train loss 0.663, Val loss 0.783\n",
            "Ep 1 (Step 000055): Train loss 0.760, Val loss 0.763\n",
            "Ep 1 (Step 000060): Train loss 0.719, Val loss 0.743\n",
            "Ep 1 (Step 000065): Train loss 0.653, Val loss 0.735\n",
            "Ep 1 (Step 000070): Train loss 0.533, Val loss 0.729\n",
            "Ep 1 (Step 000075): Train loss 0.568, Val loss 0.729\n",
            "Ep 1 (Step 000080): Train loss 0.604, Val loss 0.725\n",
            "Ep 1 (Step 000085): Train loss 0.509, Val loss 0.710\n",
            "Ep 1 (Step 000090): Train loss 0.563, Val loss 0.691\n",
            "Ep 1 (Step 000095): Train loss 0.502, Val loss 0.681\n",
            "Ep 1 (Step 000100): Train loss 0.504, Val loss 0.677\n",
            "Ep 1 (Step 000105): Train loss 0.565, Val loss 0.670\n",
            "Ep 1 (Step 000110): Train loss 0.554, Val loss 0.666\n",
            "Ep 1 (Step 000115): Train loss 0.509, Val loss 0.663\n",
            "Below is an instruction that describes a task. Write a response that appropriately completes the request.  ### Instruction: Convert the active sentence to passive: 'The chef cooks the meal every day.'  ### Response: The meal is prepared every day by the chef.<|endoftext|>The following is an instruction that describes a task. Write a response that appropriately completes the request.  ### Instruction: Convert the active sentence to passive:\n",
            "Training completed in 1.71 minutes.\n"
          ]
        }
      ],
      "source": [
        "import time\n",
        "\n",
        "start_time = time.time()\n",
        "\n",
        "torch.manual_seed(123)\n",
        "\n",
        "optimizer = torch.optim.AdamW(model.parameters(), lr=0.00005, weight_decay=0.1)\n",
        "\n",
        "num_epochs = 1\n",
        "\n",
        "train_losses, val_losses, tokens_seen = train_model_simple(\n",
        "    model, train_loader, val_loader, optimizer, device,\n",
        "    num_epochs=num_epochs, eval_freq=5, eval_iter=5,\n",
        "    start_context=format_input(val_data[0]), tokenizer=tokenizer\n",
        ")\n",
        "\n",
        "end_time = time.time()\n",
        "execution_time_minutes = (end_time - start_time) / 60\n",
        "print(f\"Training completed in {execution_time_minutes:.2f} minutes.\")"
      ]
    },
    {
      "cell_type": "markdown",
      "metadata": {
        "id": "wy920q3bQbBo"
      },
      "source": [
        "<div class=\"alert alert-block alert-info\">\n",
        "\n",
        "\n",
        "As we can see based on the outputs above, the model trains well, as we can tell based on the decreasing training loss and validation loss values.\n",
        "    \n",
        "Furthermore, based on the response text printed after each epoch, we can see that the model almost correctly follows the instruction to convert the input sentence 'The chef cooks the meal every day.' into passive voice 'The meal is prepared every day by the chef.' (We will properly format and evaluate the responses in a later section.\n",
        "\n",
        "To get better results, we need to finetune the model for more epochs.\n",
        "\n",
        "Finally, let's take a look at the training and validation loss curves\n",
        "\n",
        "</div>"
      ]
    },
    {
      "cell_type": "code",
      "execution_count": 39,
      "metadata": {
        "id": "HMMyAjD7QbBo"
      },
      "outputs": [],
      "source": [
        "import matplotlib.pyplot as plt\n",
        "from matplotlib.ticker import MaxNLocator\n",
        "\n",
        "\n",
        "def plot_losses(epochs_seen, tokens_seen, train_losses, val_losses):\n",
        "    fig, ax1 = plt.subplots(figsize=(5, 3))\n",
        "\n",
        "    # Plot training and validation loss against epochs\n",
        "    ax1.plot(epochs_seen, train_losses, label=\"Training loss\")\n",
        "    ax1.plot(epochs_seen, val_losses, linestyle=\"-.\", label=\"Validation loss\")\n",
        "    ax1.set_xlabel(\"Epochs\")\n",
        "    ax1.set_ylabel(\"Loss\")\n",
        "    ax1.legend(loc=\"upper right\")\n",
        "    ax1.xaxis.set_major_locator(MaxNLocator(integer=True))  # only show integer labels on x-axis\n",
        "\n",
        "    # Create a second x-axis for tokens seen\n",
        "    ax2 = ax1.twiny()  # Create a second x-axis that shares the same y-axis\n",
        "    ax2.plot(tokens_seen, train_losses, alpha=0)  # Invisible plot for aligning ticks\n",
        "    ax2.set_xlabel(\"Tokens seen\")\n",
        "\n",
        "    fig.tight_layout()  # Adjust layout to make room\n",
        "    plt.savefig(\"loss-plot.pdf\")\n",
        "    plt.show()"
      ]
    },
    {
      "cell_type": "code",
      "execution_count": 40,
      "metadata": {
        "colab": {
          "base_uri": "https://localhost:8080/",
          "height": 307
        },
        "id": "xH7rSpUXQbBo",
        "outputId": "e99323a1-7c51-4511-9cea-db371a8f3155"
      },
      "outputs": [
        {
          "data": {
            "image/png": "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",
            "text/plain": [
              "<Figure size 500x300 with 2 Axes>"
            ]
          },
          "metadata": {},
          "output_type": "display_data"
        }
      ],
      "source": [
        "epochs_tensor = torch.linspace(0, num_epochs, len(train_losses))\n",
        "plot_losses(epochs_tensor, tokens_seen, train_losses, val_losses)"
      ]
    },
    {
      "cell_type": "markdown",
      "metadata": {
        "id": "2hBeXC4zQbBo"
      },
      "source": [
        "<div class=\"alert alert-block alert-info\">\n",
        "\n",
        "\n",
        "As we can see in the loss plot shown above, the model's performance on both the\n",
        "training and validation sets improves substantially over the course of training.\n",
        "\n",
        "The rapid\n",
        "decrease in losses during the initial phase indicates that the model is quickly learning\n",
        "meaningful patterns and representations from the data. Then, as training progresses to the\n",
        "second epoch, the losses continue to decrease but at a slower rate, suggesting that the\n",
        "model is finetuning its learned representations and converging to a stable solution.\n",
        "\n",
        "\n",
        "While the loss plot in figure 7.17 indicates that the model is training effectively, the most\n",
        "crucial aspect is its performance in terms of response quality and correctness. In the\n",
        "remaining sections of this chapter, we will extract the responses and store them in a format\n",
        "that allows us to evaluate and quantify the response quality.\n",
        "\n",
        "</div>"
      ]
    },
    {
      "cell_type": "markdown",
      "metadata": {
        "id": "Z1yETqdNQbBo"
      },
      "source": [
        "## STEP 6: EXTRACTING AND SAVING RESPONSES"
      ]
    },
    {
      "cell_type": "markdown",
      "metadata": {
        "id": "ofFNbmM7QbBo"
      },
      "source": [
        "<div class=\"alert alert-block alert-success\">\n",
        "\n",
        "After finetuning the LLM on the training portion of the instruction dataset as described in\n",
        "the previous section, we now proceed to evaluate its performance on the held-out test set.\n",
        "    \n",
        "To accomplish this, we first extract the model-generated responses for each input in the\n",
        "test dataset and collect them for manual analysis\n",
        "\n",
        "</div>"
      ]
    },
    {
      "cell_type": "markdown",
      "metadata": {
        "id": "lQG5W84SQbBo"
      },
      "source": [
        "<div class=\"alert alert-block alert-info\">\n",
        "\n",
        "\n",
        "Step 1: Iterate over the first 3 test set samples\n",
        "\n",
        "Step 2:  Use the generate function defined earlier\n",
        "\n",
        "</div>"
      ]
    },
    {
      "cell_type": "markdown",
      "metadata": {
        "id": "hjFfB70uQbBo"
      },
      "source": [
        "<div class=\"alert alert-block alert-warning\">\n",
        "\n",
        "As mentioned earlier, the generate function returns the combined input and output text, so\n",
        "we use slicing and the .replace() method on the generated_text contents to extract the\n",
        "model's response.\n",
        "\n",
        "The instructions, followed by the given test set response and model\n",
        "response are shown below:\n",
        "\n",
        "</div>"
      ]
    },
    {
      "cell_type": "code",
      "execution_count": 41,
      "metadata": {
        "colab": {
          "base_uri": "https://localhost:8080/"
        },
        "id": "xwLEDRjGQbBo",
        "outputId": "818547aa-165e-4450-cecb-c960075b05ed"
      },
      "outputs": [
        {
          "name": "stdout",
          "output_type": "stream",
          "text": [
            "Below is an instruction that describes a task. Write a response that appropriately completes the request.\n",
            "\n",
            "### Instruction:\n",
            "Rewrite the sentence using a simile.\n",
            "\n",
            "### Input:\n",
            "The car is very fast.\n",
            "\n",
            "Correct response:\n",
            ">> The car is as fast as lightning.\n",
            "\n",
            "Model response:\n",
            ">> The car is as fast as a bullet.\n",
            "-------------------------------------\n",
            "Below is an instruction that describes a task. Write a response that appropriately completes the request.\n",
            "\n",
            "### Instruction:\n",
            "What type of cloud is typically associated with thunderstorms?\n",
            "\n",
            "Correct response:\n",
            ">> The type of cloud typically associated with thunderstorms is cumulonimbus.\n",
            "\n",
            "Model response:\n",
            ">> A thunderstorm is a type of cloud that typically forms in the atmosphere over a region of high pressure. It typically produces a strong wind that blows across the area, creating a dense, dense cloud.\n",
            "-------------------------------------\n",
            "Below is an instruction that describes a task. Write a response that appropriately completes the request.\n",
            "\n",
            "### Instruction:\n",
            "Name the author of 'Pride and Prejudice'.\n",
            "\n",
            "Correct response:\n",
            ">> Jane Austen.\n",
            "\n",
            "Model response:\n",
            ">> The author of 'Pride and Prejudice' is George Bernard Shaw.\n",
            "-------------------------------------\n"
          ]
        }
      ],
      "source": [
        "torch.manual_seed(123)\n",
        "\n",
        "\n",
        "for entry in test_data[:3]:\n",
        "\n",
        "    input_text = format_input(entry)\n",
        "\n",
        "    token_ids = generate(\n",
        "        model=model,\n",
        "        idx=text_to_token_ids(input_text, tokenizer).to(device),\n",
        "        max_new_tokens=256,\n",
        "        context_size=BASE_CONFIG[\"context_length\"],\n",
        "        eos_id=50256\n",
        "    )\n",
        "    generated_text = token_ids_to_text(token_ids, tokenizer)\n",
        "    response_text = (\n",
        "        generated_text[len(input_text):]\n",
        "        .replace(\"### Response:\", \"\")\n",
        "        .strip()\n",
        ")\n",
        "\n",
        "    print(input_text)\n",
        "    print(f\"\\nCorrect response:\\n>> {entry['output']}\")\n",
        "    print(f\"\\nModel response:\\n>> {response_text.strip()}\")\n",
        "    print(\"-------------------------------------\")"
      ]
    },
    {
      "cell_type": "markdown",
      "metadata": {
        "id": "pglTlD9pQbBo"
      },
      "source": [
        "<div class=\"alert alert-block alert-info\">\n",
        "\n",
        "\n",
        "As we can see based on the test set instructions, given responses, and the model's\n",
        "responses, the model performs relatively well.\n",
        "\n",
        "The answers to the first instruction\n",
        "is clearly correct, while the second answer and the third answers are not correct.\n",
        "\n",
        "This is because we have done the fine-tuning for only 1 epoch due to hardware limitations. To get better results, we need to increase the epochs to at least 2.\n",
        "\n",
        "</div>"
      ]
    },
    {
      "cell_type": "markdown",
      "metadata": {
        "id": "TvrJREZdQbBo"
      },
      "source": [
        "<div class=\"alert alert-block alert-warning\">\n",
        "\n",
        "Most importantly, we can see that model evaluation is not as straightforward as in the\n",
        "previous chapter, where we simply calculated the percentage of correct spam/non-spam\n",
        "class labels to obtain the classification accuracy.\n",
        "\n",
        "In practice, instruction-finetuned LLMs\n",
        "such as chatbots are evaluated via multiple approaches:\n",
        "\n",
        "1. Short-answer and multiple choice benchmarks such as MMLU (\"Measuring\n",
        "Massive Multitask Language Understanding,\" https://arxiv.org/abs/2009.\n",
        "03300), which test the general knowledge of a model.\n",
        "\n",
        "2. Human preference comparison to other LLMs, such as LMSYS chatbot\n",
        "arena (https://arena.lmsys.org).\n",
        "\n",
        "3. Automated conversational benchmarks, where another LLM like GPT-4 is\n",
        "used to evaluate the responses, such as AlpacaEval (https://tatsulab.github.io/alpaca_eval/).\n",
        "completes the request.\n",
        "\n",
        "</div>"
      ]
    },
    {
      "cell_type": "markdown",
      "metadata": {
        "id": "P17tyKI8QbBo"
      },
      "source": [
        "<div class=\"alert alert-block alert-success\">\n",
        "\n",
        "Considering the scale of the task at hand, we will implement an approach similar to\n",
        "method 3, which involves evaluating the responses automatically using another LLM.\n",
        "\n",
        "This\n",
        "will allow us to efficiently assess the quality of the generated responses without the need\n",
        "for extensive human involvement, thereby saving time and resources while still obtaining\n",
        "meaningful performance indicators.\n",
        "</div>"
      ]
    },
    {
      "cell_type": "markdown",
      "metadata": {
        "id": "znuuwjwoQbBp"
      },
      "source": [
        "<div class=\"alert alert-block alert-success\">\n",
        "\n",
        "To prepare the responses for this evaluation process, we append the generated model\n",
        "responses to the test_set dictionary and save the updated data as an \"instructiondata-with-response.json\" file for record keeping.\n",
        "\n",
        "Additionally, by saving this file, we can\n",
        "easily load and analyze the responses in separate Python sessions later on if needed.\n",
        "</div>"
      ]
    },
    {
      "cell_type": "markdown",
      "metadata": {
        "id": "RVYjESQDQbBp"
      },
      "source": [
        "<div class=\"alert alert-block alert-success\">\n",
        "\n",
        "The following code uses the generate method in the same manner as before; however,\n",
        "we now iterate over the entire test_set.\n",
        "\n",
        "Also, instead of printing the model responses, we\n",
        "add them to the test_set dictionary:\n",
        "</div>"
      ]
    },
    {
      "cell_type": "code",
      "execution_count": 42,
      "metadata": {
        "colab": {
          "base_uri": "https://localhost:8080/"
        },
        "id": "MwjZUI-kQbBp",
        "outputId": "0677cfde-0873-4b22-a196-5bb9571a8490"
      },
      "outputs": [
        {
          "name": "stderr",
          "output_type": "stream",
          "text": [
            "100%|██████████| 110/110 [01:25<00:00,  1.29it/s]\n"
          ]
        }
      ],
      "source": [
        "from tqdm import tqdm\n",
        "\n",
        "for i, entry in tqdm(enumerate(test_data), total=len(test_data)):\n",
        "\n",
        "    input_text = format_input(entry)\n",
        "\n",
        "    token_ids = generate(\n",
        "        model=model,\n",
        "        idx=text_to_token_ids(input_text, tokenizer).to(device),\n",
        "        max_new_tokens=256,\n",
        "        context_size=BASE_CONFIG[\"context_length\"],\n",
        "        eos_id=50256\n",
        "    )\n",
        "    generated_text = token_ids_to_text(token_ids, tokenizer)\n",
        "    response_text = generated_text[len(input_text):].replace(\"### Response:\", \"\").strip()\n",
        "\n",
        "    test_data[i][\"model_response\"] = response_text\n",
        "\n",
        "\n",
        "with open(\"instruction-data-with-response.json\", \"w\") as file:\n",
        "    json.dump(test_data, file, indent=4)  # \"indent\" for pretty-printing"
      ]
    },
    {
      "cell_type": "markdown",
      "metadata": {
        "id": "Hrd65UKWQbBp"
      },
      "source": [
        "<div class=\"alert alert-block alert-success\">\n",
        "\n",
        "Let's verify that the responses have been correctly added to the test_set dictionary by\n",
        "examining one of the entries:\n",
        "</div>"
      ]
    },
    {
      "cell_type": "code",
      "execution_count": 43,
      "metadata": {
        "colab": {
          "base_uri": "https://localhost:8080/"
        },
        "id": "gT0HuEsVQbBp",
        "outputId": "14664cbf-5ba5-4d54-f93d-b7e03b533a9d"
      },
      "outputs": [
        {
          "name": "stdout",
          "output_type": "stream",
          "text": [
            "{'instruction': 'Rewrite the sentence using a simile.', 'input': 'The car is very fast.', 'output': 'The car is as fast as lightning.', 'model_response': 'The car is as fast as a bullet.'}\n"
          ]
        }
      ],
      "source": [
        "print(test_data[0])"
      ]
    },
    {
      "cell_type": "markdown",
      "metadata": {
        "id": "eCExAfDLQbBp"
      },
      "source": [
        "<div class=\"alert alert-block alert-info\">\n",
        "\n",
        "\n",
        "Based on the output, we can see that the model_response has been added correctly.\n",
        "\n",
        "</div>"
      ]
    },
    {
      "cell_type": "markdown",
      "metadata": {
        "id": "088vhpYzQbBp"
      },
      "source": [
        "<div class=\"alert alert-block alert-success\">\n",
        "\n",
        "Finally, we save the model as gpt2-medium355M-sft.pth file to be able to reuse it in future\n",
        "projects:\n",
        "</div>"
      ]
    },
    {
      "cell_type": "code",
      "execution_count": 44,
      "metadata": {
        "colab": {
          "base_uri": "https://localhost:8080/"
        },
        "id": "b9NBecRnQbBp",
        "outputId": "d6f2a34c-8474-464a-f35d-f8db3550844c"
      },
      "outputs": [
        {
          "name": "stdout",
          "output_type": "stream",
          "text": [
            "Model saved as gpt2-medium355M-sft.pth\n"
          ]
        }
      ],
      "source": [
        "import re\n",
        "\n",
        "\n",
        "file_name = f\"{re.sub(r'[ ()]', '', CHOOSE_MODEL) }-sft.pth\"\n",
        "torch.save(model.state_dict(), file_name)\n",
        "print(f\"Model saved as {file_name}\")\n",
        "\n",
        "# Load model via\n",
        "# model.load_state_dict(torch.load(\"gpt2-medium355M-sft.pth\"))"
      ]
    },
    {
      "cell_type": "markdown",
      "metadata": {
        "id": "a3bVwuPSQbBp"
      },
      "source": [
        "## STEP 7: EVALUATING THE FINE-TUNED LLM"
      ]
    },
    {
      "cell_type": "markdown",
      "metadata": {
        "id": "YJQwk6ahQbBp"
      },
      "source": [
        "<div class=\"alert alert-block alert-success\">\n",
        "\n",
        "Previously, we judged the performance of an instruction finetuned model by looking at its\n",
        "responses on 3 examples of the test set.\n",
        "\n",
        "While this gives us a rough idea of how well the\n",
        "model performs, this method does not really scale well to larger amounts of responses.\n",
        "\n",
        "So, in this section, we implement a method to automate the response evaluation of the finetuned LLM using another, larger LLM.\n",
        "</div>"
      ]
    },
    {
      "cell_type": "markdown",
      "metadata": {
        "id": "9_UAkAAQQbBp"
      },
      "source": [
        "<div class=\"alert alert-block alert-success\">\n",
        "\n",
        "To implement the evaluation step which involves evaluating test set responses in\n",
        "an automated fashion, we utilize an existing instruction-finetuned 8 billion parameter Llama\n",
        "3 model developed by Meta AI.\n",
        "\n",
        "This model can be run locally using the open-source Ollama\n",
        "application (https://ollama.com).\n",
        "</div>"
      ]
    },
    {
      "cell_type": "markdown",
      "metadata": {
        "id": "jxUSOY9ZQbBp"
      },
      "source": [
        "<div class=\"alert alert-block alert-warning\">\n",
        "\n",
        "Ollama is an efficient application for running LLMs on a laptop.\n",
        "\n",
        "It serves as a wrapper\n",
        "around the open-source llama.cpp library (https://github.com/ggerganov/llama.cpp), which\n",
        "implements LLMs in pure C/C++ to maximize efficiency.\n",
        "\n",
        "However, note that Ollama is only\n",
        "a tool for generating text using LLMs (inference) and does not support training or finetuning\n",
        "LLMs.\n",
        "\n",
        "</div>"
      ]
    },
    {
      "cell_type": "markdown",
      "metadata": {
        "id": "pILGyjIzQbBp"
      },
      "source": [
        "<div class=\"alert alert-block alert-success\">\n",
        "\n",
        "The following code verifies that the Ollama session is running properly before we use\n",
        "Ollama to evaluate the test set responses generated in the previous section:</div>"
      ]
    },
    {
      "cell_type": "code",
      "execution_count": 45,
      "metadata": {
        "id": "1g4qee-xQbBp",
        "outputId": "db6ebd4f-de17-4c09-91a7-2f8d03d82077",
        "colab": {
          "base_uri": "https://localhost:8080/",
          "height": 193
        }
      },
      "outputs": [
        {
          "output_type": "error",
          "ename": "RuntimeError",
          "evalue": "Ollama not running. Launch ollama before proceeding.",
          "traceback": [
            "\u001b[0;31m---------------------------------------------------------------------------\u001b[0m",
            "\u001b[0;31mRuntimeError\u001b[0m                              Traceback (most recent call last)",
            "\u001b[0;32m<ipython-input-45-aec0ff51705f>\u001b[0m in \u001b[0;36m<cell line: 0>\u001b[0;34m()\u001b[0m\n\u001b[1;32m     12\u001b[0m \u001b[0;34m\u001b[0m\u001b[0m\n\u001b[1;32m     13\u001b[0m \u001b[0;32mif\u001b[0m \u001b[0;32mnot\u001b[0m \u001b[0mollama_running\u001b[0m\u001b[0;34m:\u001b[0m\u001b[0;34m\u001b[0m\u001b[0;34m\u001b[0m\u001b[0m\n\u001b[0;32m---> 14\u001b[0;31m     \u001b[0;32mraise\u001b[0m \u001b[0mRuntimeError\u001b[0m\u001b[0;34m(\u001b[0m\u001b[0;34m\"Ollama not running. Launch ollama before proceeding.\"\u001b[0m\u001b[0;34m)\u001b[0m\u001b[0;34m\u001b[0m\u001b[0;34m\u001b[0m\u001b[0m\n\u001b[0m\u001b[1;32m     15\u001b[0m \u001b[0mprint\u001b[0m\u001b[0;34m(\u001b[0m\u001b[0;34m\"Ollama running:\"\u001b[0m\u001b[0;34m,\u001b[0m \u001b[0mcheck_if_running\u001b[0m\u001b[0;34m(\u001b[0m\u001b[0;34m\"ollama\"\u001b[0m\u001b[0;34m)\u001b[0m\u001b[0;34m)\u001b[0m\u001b[0;34m\u001b[0m\u001b[0;34m\u001b[0m\u001b[0m\n",
            "\u001b[0;31mRuntimeError\u001b[0m: Ollama not running. Launch ollama before proceeding."
          ]
        }
      ],
      "source": [
        "import psutil\n",
        "\n",
        "def check_if_running(process_name):\n",
        "    running = False\n",
        "    for proc in psutil.process_iter([\"name\"]):\n",
        "        if process_name in proc.info[\"name\"]:\n",
        "            running = True\n",
        "            break\n",
        "    return running\n",
        "\n",
        "ollama_running = check_if_running(\"ollama\")\n",
        "\n",
        "if not ollama_running:\n",
        "    raise RuntimeError(\"Ollama not running. Launch ollama before proceeding.\")\n",
        "print(\"Ollama running:\", check_if_running(\"ollama\"))"
      ]
    },
    {
      "cell_type": "markdown",
      "metadata": {
        "id": "vJmEgzatQbBp"
      },
      "source": [
        "<div class=\"alert alert-block alert-success\">\n",
        "\n",
        "An alternative to the ollama run command for interacting with the model is through its\n",
        "REST API using Python.\n",
        "\n",
        "The following query_model function demonstrates how to use the\n",
        "API:</div>"
      ]
    },
    {
      "cell_type": "markdown",
      "metadata": {
        "id": "ZbJDGSXIQbBp"
      },
      "source": [
        "<div class=\"alert alert-block alert-info\">\n",
        "\n",
        "\n",
        "Step 1: Create the data payload as a dictionary\n",
        "    \n",
        "Step 2: Convert the dictionary to a JSON formatted string and encode it to bytes\n",
        "    \n",
        "Step 3: Create a request object, setting the method to POST and adding necessary headers\n",
        "    \n",
        "Step 4: Send the request and capture the response\n",
        "    \n",
        "</div>"
      ]
    },
    {
      "cell_type": "code",
      "execution_count": null,
      "metadata": {
        "id": "um5WIy9XQbBp"
      },
      "outputs": [],
      "source": [
        "import urllib.request\n",
        "\n",
        "def query_model(\n",
        "    prompt,\n",
        "    model=\"llama3\",\n",
        "    url=\"http://localhost:11434/api/chat\"\n",
        "):\n",
        "    # Create the data payload as a dictionary\n",
        "    data = {\n",
        "        \"model\": model,\n",
        "        \"messages\": [\n",
        "            {\"role\": \"user\", \"content\": prompt}\n",
        "        ],\n",
        "        \"options\": {     # Settings below are required for deterministic responses\n",
        "            \"seed\": 123,\n",
        "            \"temperature\": 0,\n",
        "            \"num_ctx\": 2048\n",
        "        }\n",
        "    }\n",
        "\n",
        "\n",
        "    # Convert the dictionary to a JSON formatted string and encode it to bytes\n",
        "    payload = json.dumps(data).encode(\"utf-8\")\n",
        "\n",
        "    # Create a request object, setting the method to POST and adding necessary headers\n",
        "    request = urllib.request.Request(\n",
        "        url,\n",
        "        data=payload,\n",
        "        method=\"POST\"\n",
        "    )\n",
        "    request.add_header(\"Content-Type\", \"application/json\")\n",
        "\n",
        "    # Send the request and capture the response\n",
        "    response_data = \"\"\n",
        "    with urllib.request.urlopen(request) as response:\n",
        "        # Read and decode the response\n",
        "        while True:\n",
        "            line = response.readline().decode(\"utf-8\")\n",
        "            if not line:\n",
        "                break\n",
        "            response_json = json.loads(line)\n",
        "            response_data += response_json[\"message\"][\"content\"]\n",
        "\n",
        "    return response_data"
      ]
    },
    {
      "cell_type": "markdown",
      "metadata": {
        "id": "zdM7CT7NQbBp"
      },
      "source": [
        "<div class=\"alert alert-block alert-success\">\n",
        "\n",
        "Before running the subsequent code cells in this notebook, ensure that Ollama is still\n",
        "running. The previous code cells should print \"Ollama running: True\" to confirm that the\n",
        "model is active and ready to receive requests.\n",
        "</div>"
      ]
    },
    {
      "cell_type": "markdown",
      "metadata": {
        "id": "h-D9KQxJQbBp"
      },
      "source": [
        "<div class=\"alert alert-block alert-success\">\n",
        "\n",
        "Here's an example of how to use the query_llama function we just implemented:\n",
        "</div>"
      ]
    },
    {
      "cell_type": "code",
      "execution_count": null,
      "metadata": {
        "id": "e__tyjT6QbBq",
        "outputId": "da8b9de5-67e8-4c7e-efd5-c99e4a1d7134"
      },
      "outputs": [
        {
          "name": "stdout",
          "output_type": "stream",
          "text": [
            "Llamas are herbivores, which means they primarily feed on plant-based foods. Their diet typically consists of:\n",
            "\n",
            "1. Grasses: Llamas love to graze on various types of grasses, including tall grasses, short grasses, and even weeds.\n",
            "2. Hay: High-quality hay, such as alfalfa or timothy hay, is a staple in a llama's diet. They enjoy the sweet taste and texture of fresh hay.\n",
            "3. Grains: Llamas may receive grains like oats, barley, or corn as part of their daily ration. However, it's essential to provide these grains in moderation, as they can be high in calories.\n",
            "4. Fruits and vegetables: Llamas enjoy a variety of fruits and veggies, such as apples, carrots, sweet potatoes, and leafy greens like kale or spinach.\n",
            "5. Minerals: Llamas require access to mineral supplements, which help maintain their overall health and well-being.\n",
            "\n",
            "In the wild, llamas might also eat:\n",
            "\n",
            "1. Leaves: They'll munch on leaves from trees and shrubs, including plants like willow, alder, and birch.\n",
            "2. Bark: In some cases, llamas may eat the bark of certain trees, like aspen or cottonwood.\n",
            "3. Mosses and lichens: These non-vascular plants can be a tasty snack for llamas.\n",
            "\n",
            "In captivity, llama owners typically provide a balanced diet that includes a mix of hay, grains, and fruits/vegetables. It's essential to consult with a veterinarian or experienced llama breeder to determine the best feeding plan for your llama.\n"
          ]
        }
      ],
      "source": [
        "model = \"llama3\"\n",
        "result = query_model(\"What do Llamas eat?\", model)\n",
        "print(result)"
      ]
    },
    {
      "cell_type": "markdown",
      "metadata": {
        "id": "JM4onxTVQbBq"
      },
      "source": [
        "<div class=\"alert alert-block alert-success\">\n",
        "\n",
        "Using the query_model function defined earlier, we can evaluate the responses generated\n",
        "by our finetuned model with a prompt that prompts the Llama 3 model to rate our\n",
        "finetuned model's responses on a scale from 0 to 100 based on the given test set response\n",
        "as reference.\n",
        "</div>"
      ]
    },
    {
      "cell_type": "markdown",
      "metadata": {
        "id": "sGv7OouKQbBq"
      },
      "source": [
        "<div class=\"alert alert-block alert-success\">\n",
        "\n",
        "First, we apply this approach to the first three examples from the test set that we\n",
        "examined in a previous section:\n",
        "</div>"
      ]
    },
    {
      "cell_type": "code",
      "execution_count": null,
      "metadata": {
        "id": "QGfuYlwRQbBq",
        "outputId": "be7ba8d5-ff77-4884-d10e-4af78123904d"
      },
      "outputs": [
        {
          "name": "stdout",
          "output_type": "stream",
          "text": [
            "\n",
            "Dataset response:\n",
            ">> The car is as fast as lightning.\n",
            "\n",
            "Model response:\n",
            ">> The car is as fast as a bullet.\n",
            "\n",
            "Score:\n",
            ">> I'd rate the model response \"The car is as fast as a bullet.\" an 85 out of 100.\n",
            "\n",
            "Here's why:\n",
            "\n",
            "* The response uses a simile correctly, comparing the speed of the car to something else (in this case, a bullet).\n",
            "* The comparison is relevant and makes sense, as bullets are known for their high velocity.\n",
            "* The phrase \"as fast as\" is used correctly to introduce the simile.\n",
            "\n",
            "The only reason I wouldn't give it a perfect score is that some people might find the comparison slightly less vivid or evocative than others. For example, comparing something to lightning (as in the original response) can be more dramatic and attention-grabbing. However, \"as fast as a bullet\" is still a strong and effective simile that effectively conveys the idea of the car's speed.\n",
            "\n",
            "Overall, I think the model did a great job!\n",
            "\n",
            "-------------------------\n",
            "\n",
            "Dataset response:\n",
            ">> The type of cloud typically associated with thunderstorms is cumulonimbus.\n",
            "\n",
            "Model response:\n",
            ">> A thunderstorm is a type of cloud that typically forms in the atmosphere over a region of high pressure. It typically produces a strong wind that blows across the area, creating a dense, dense cloud.\n",
            "\n",
            "Score:\n",
            ">> I'd score this model response as 20 out of 100.\n",
            "\n",
            "Here's why:\n",
            "\n",
            "* The response doesn't directly answer the question about what type of cloud is typically associated with thunderstorms.\n",
            "* Instead, it provides a general description of thunderstorms, which is not relevant to the original question.\n",
            "* The response also contains some inaccuracies, such as stating that thunderstorms form over high pressure regions (thunderstorms can occur in various weather patterns).\n",
            "\n",
            "A good model response should directly answer the question, provide accurate and relevant information, and avoid unnecessary details. In this case, the response fails to meet these criteria, which is why I'd score it relatively low.\n",
            "\n",
            "-------------------------\n",
            "\n",
            "Dataset response:\n",
            ">> Jane Austen.\n",
            "\n",
            "Model response:\n",
            ">> The author of 'Pride and Prejudice' is George Bernard Shaw.\n",
            "\n",
            "Score:\n",
            ">> I'd rate this model response a 0 out of 100.\n",
            "\n",
            "Here's why:\n",
            "\n",
            "* The correct answer is Jane Austen, not George Bernard Shaw.\n",
            "* George Bernard Shaw was an Irish playwright and author, but he did not write 'Pride and Prejudice'.\n",
            "* The response is completely incorrect and does not provide any relevant information about the actual author of the book.\n",
            "\n",
            "Therefore, I would give this model response a score of 0 out of 100.\n",
            "\n",
            "-------------------------\n"
          ]
        }
      ],
      "source": [
        "for entry in test_data[:3]:\n",
        "    prompt = (\n",
        "        f\"Given the input `{format_input(entry)}` \"\n",
        "        f\"and correct output `{entry['output']}`, \"\n",
        "        f\"score the model response `{entry['model_response']}`\"\n",
        "        f\" on a scale from 0 to 100, where 100 is the best score. \"\n",
        "    )\n",
        "    print(\"\\nDataset response:\")\n",
        "    print(\">>\", entry['output'])\n",
        "    print(\"\\nModel response:\")\n",
        "    print(\">>\", entry[\"model_response\"])\n",
        "    print(\"\\nScore:\")\n",
        "    print(\">>\", query_model(prompt))\n",
        "    print(\"\\n-------------------------\")"
      ]
    },
    {
      "cell_type": "markdown",
      "metadata": {
        "id": "QsRBDlNnQbBq"
      },
      "source": [
        "<div class=\"alert alert-block alert-info\">\n",
        "\n",
        "\n",
        "Based on the generated responses, we can observe that the Llama 3 model provides\n",
        "reasonable evaluations and is capable of assigning partial points when a model's answer is\n",
        "not entirely correct.\n",
        "    \n",
        "</div>"
      ]
    },
    {
      "cell_type": "markdown",
      "metadata": {
        "id": "1GfFBwXgQbBq"
      },
      "source": [
        "<div class=\"alert alert-block alert-info\">\n",
        "\n",
        "\n",
        "The previous prompt returns highly detailed evaluations in addition to the score.\n",
        "\n",
        "We can\n",
        "modify the prompt to just generate integer scores ranging from 0 to 100, where 100\n",
        "represents the best possible score.\n",
        "\n",
        "This modification allows us to calculate an average score\n",
        "for our model, which serves as a more concise and quantitative assessment of its\n",
        "performance.\n",
        "</div>"
      ]
    },
    {
      "cell_type": "markdown",
      "metadata": {
        "id": "GWOHaV5PQbBq"
      },
      "source": [
        "<div class=\"alert alert-block alert-success\">\n",
        "\n",
        "The following generate_model_scores function uses a modified the prompt telling the\n",
        "model to \"Respond with the integer number only.\":\n",
        "</div>"
      ]
    },
    {
      "cell_type": "code",
      "execution_count": null,
      "metadata": {
        "id": "vwXhHEHQQbBq",
        "outputId": "73a70f62-6470-435f-b2cb-b4d461d111d4"
      },
      "outputs": [
        {
          "name": "stdout",
          "output_type": "stream",
          "text": [
            "\n",
            "Dataset response:\n",
            ">> The car is as fast as lightning.\n",
            "\n",
            "Model response:\n",
            ">> The car is as fast as a bullet.\n",
            "\n",
            "Score:\n",
            ">> 85\n",
            "\n",
            "-------------------------\n",
            "\n",
            "Dataset response:\n",
            ">> The type of cloud typically associated with thunderstorms is cumulonimbus.\n",
            "\n",
            "Model response:\n",
            ">> A thunderstorm is a type of cloud that typically forms in the atmosphere over a region of high pressure. It typically produces a strong wind that blows across the area, creating a dense, dense cloud.\n",
            "\n",
            "Score:\n",
            ">> 20\n",
            "\n",
            "-------------------------\n"
          ]
        }
      ],
      "source": [
        "for entry in test_data[:2]:\n",
        "    prompt = (\n",
        "            f\"Given the input `{format_input(entry)}` \"\n",
        "            f\"and correct output `{entry['output']}`, \"\n",
        "            f\"score the model response `{entry['model_response']}`\"\n",
        "            f\" on a scale from 0 to 100, where 100 is the best score. \"\n",
        "            f\"Respond with the integer number only.\"\n",
        "        )\n",
        "    score = query_model(prompt, model)\n",
        "    print(\"\\nDataset response:\")\n",
        "    print(\">>\", entry['output'])\n",
        "    print(\"\\nModel response:\")\n",
        "    print(\">>\", entry[\"model_response\"])\n",
        "    print(\"\\nScore:\")\n",
        "    print(\">>\", query_model(prompt, model))\n",
        "    print(\"\\n-------------------------\")"
      ]
    },
    {
      "cell_type": "code",
      "execution_count": null,
      "metadata": {
        "id": "obFtxdawQbBq"
      },
      "outputs": [],
      "source": [
        "def generate_model_scores(json_data, json_key, model=\"llama3\"):\n",
        "    scores = []\n",
        "    for entry in tqdm(json_data, desc=\"Scoring entries\"):\n",
        "        prompt = (\n",
        "            f\"Given the input `{format_input(entry)}` \"\n",
        "            f\"and correct output `{entry['output']}`, \"\n",
        "            f\"score the model response `{entry[json_key]}`\"\n",
        "            f\" on a scale from 0 to 100, where 100 is the best score. \"\n",
        "            f\"Respond with the integer number only.\"\n",
        "        )\n",
        "        score = query_model(prompt, model)\n",
        "        try:\n",
        "            scores.append(int(score))\n",
        "        except ValueError:\n",
        "            print(f\"Could not convert score: {score}\")\n",
        "            continue\n",
        "\n",
        "    return scores"
      ]
    },
    {
      "cell_type": "markdown",
      "metadata": {
        "id": "rbn-YzFpQbBq"
      },
      "source": [
        "<div class=\"alert alert-block alert-warning\">\n",
        "\n",
        "I am not running the above function because of hardware limitations. I am using a Macbook Air 2020.\n",
        "\n",
        "It takes about 1 min  on a M3 Macbook Air.\n",
        "</div>"
      ]
    },
    {
      "cell_type": "markdown",
      "metadata": {
        "id": "947Iu8j5QbBq"
      },
      "source": [
        "<div class=\"alert alert-block alert-info\">\n",
        "\n",
        "\n",
        "When you run the above code, you will see that the evaluation output shows that our finetuned model achieves an average score above 50,\n",
        "which provides a useful benchmark for comparison against other models or for\n",
        "experimenting with different training configurations to improve the model's performance.\n",
        "\n",
        "It's worth noting that Ollama is not entirely deterministic at the time of this writing,\n",
        "which means that the scores you obtain might slightly vary from the ones presented above.\n",
        "    \n",
        "To obtain more robust results, you can repeat the evaluation multiple times and average\n",
        "the resulting scores.\n",
        "</div>"
      ]
    },
    {
      "cell_type": "markdown",
      "metadata": {
        "id": "TWJL0CtCQbBq"
      },
      "source": [
        "<div class=\"alert alert-block alert-warning\">\n",
        "\n",
        "To further improve our model's performance, we can explore various strategies, such as:\n",
        "\n",
        "(1) Adjusting the hyperparameters during finetuning, such as the learning\n",
        "rate, batch size, or number of epochs.\n",
        "\n",
        "\n",
        "(2) Increasing the size of the training dataset or diversifying the examples to\n",
        "cover a broader range of topics and styles.\n",
        "\n",
        "\n",
        "(3) Experimenting with different prompts or instruction formats to guide the\n",
        "model's responses more effectively.\n",
        "\n",
        "\n",
        "(4) Considering the use of a larger pretrained model, which may have greater\n",
        "capacity to capture complex patterns and generate more accurate\n",
        "responses.\n",
        "\n",
        "(5) We can also use parameter efficient fine-tuning techniques like LoRA.\n",
        "</div>"
      ]
    },
    {
      "cell_type": "code",
      "execution_count": null,
      "metadata": {
        "id": "bk_J19hWQbBq"
      },
      "outputs": [],
      "source": [
        "## CONCLUSIONS"
      ]
    },
    {
      "cell_type": "code",
      "execution_count": null,
      "metadata": {
        "id": "-_mXXD-SQbBq"
      },
      "outputs": [],
      "source": []
    }
  ],
  "metadata": {
    "accelerator": "GPU",
    "colab": {
      "gpuType": "T4",
      "include_colab_link": true,
      "provenance": []
    },
    "kernelspec": {
      "display_name": "Python 3",
      "name": "python3"
    },
    "language_info": {
      "codemirror_mode": {
        "name": "ipython",
        "version": 3
      },
      "file_extension": ".py",
      "mimetype": "text/x-python",
      "name": "python",
      "nbconvert_exporter": "python",
      "pygments_lexer": "ipython3",
      "version": "3.12.2"
    }
  },
  "nbformat": 4,
  "nbformat_minor": 0
}
