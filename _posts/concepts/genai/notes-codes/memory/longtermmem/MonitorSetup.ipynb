{
 "cells": [
  {
   "cell_type": "code",
   "execution_count": null,
   "id": "11638b5c-9d7b-4d19-b7c9-d7e07adaa69e",
   "metadata": {},
   "outputs": [],
   "source": [
    "         1         2         3         4         5         6         7  \n",
    "#2345678901234567890123456789012345678901234567890123456789012345678901234567"
   ]
  },
  {
   "cell_type": "code",
   "execution_count": null,
   "id": "f9ff70b6-24a5-4063-aad8-74ca6f599b9e",
   "metadata": {},
   "outputs": [],
   "source": [
    "1"
   ]
  },
  {
   "cell_type": "code",
   "execution_count": null,
   "id": "41d1ce58-9d2e-4349-acbd-49227e37d31c",
   "metadata": {},
   "outputs": [],
   "source": [
    "2"
   ]
  },
  {
   "cell_type": "code",
   "execution_count": null,
   "id": "512fe011-1747-495b-9351-286b4e2f5c53",
   "metadata": {},
   "outputs": [],
   "source": [
    "3"
   ]
  },
  {
   "cell_type": "code",
   "execution_count": null,
   "id": "0f171b23-b3cc-48c9-a8ba-07358e271e63",
   "metadata": {},
   "outputs": [],
   "source": [
    "4"
   ]
  },
  {
   "cell_type": "code",
   "execution_count": null,
   "id": "9e00efd4-d48d-4dac-b629-ab6a4c198b73",
   "metadata": {},
   "outputs": [],
   "source": [
    "5"
   ]
  },
  {
   "cell_type": "code",
   "execution_count": null,
   "id": "f58e827a-8e2e-4f1d-8f8c-9486828f951d",
   "metadata": {},
   "outputs": [],
   "source": [
    "6"
   ]
  },
  {
   "cell_type": "code",
   "execution_count": null,
   "id": "c5dbcacb-b143-46d5-a649-27c0eb3b5cf6",
   "metadata": {},
   "outputs": [],
   "source": [
    "7"
   ]
  },
  {
   "cell_type": "code",
   "execution_count": null,
   "id": "c0c40819-7f38-40d1-b9fb-0314c4b7b98a",
   "metadata": {},
   "outputs": [],
   "source": [
    "8"
   ]
  },
  {
   "cell_type": "code",
   "execution_count": null,
   "id": "757d6849-f022-454e-903d-df1cdb5a0267",
   "metadata": {},
   "outputs": [],
   "source": [
    "9"
   ]
  },
  {
   "cell_type": "code",
   "execution_count": null,
   "id": "65447036-672c-4298-87fb-d321a22b8cac",
   "metadata": {},
   "outputs": [],
   "source": [
    "10"
   ]
  },
  {
   "cell_type": "code",
   "execution_count": null,
   "id": "91865a01-a13f-4af5-a273-4e8102b463ff",
   "metadata": {},
   "outputs": [],
   "source": [
    "11"
   ]
  },
  {
   "cell_type": "code",
   "execution_count": null,
   "id": "0cd8c94c-0982-4a83-8aa8-8bb01591a827",
   "metadata": {},
   "outputs": [],
   "source": [
    "12"
   ]
  },
  {
   "cell_type": "code",
   "execution_count": null,
   "id": "5a1497dc-7cf9-45c0-b250-69dd816639f8",
   "metadata": {},
   "outputs": [],
   "source": [
    "13"
   ]
  },
  {
   "cell_type": "code",
   "execution_count": null,
   "id": "681e2746-450d-4b67-bbba-59c6bfb8d755",
   "metadata": {},
   "outputs": [],
   "source": [
    "14"
   ]
  },
  {
   "cell_type": "code",
   "execution_count": null,
   "id": "7f532fb3-0c71-462a-a31d-b8901c5109f9",
   "metadata": {},
   "outputs": [],
   "source": [
    "15"
   ]
  },
  {
   "cell_type": "code",
   "execution_count": null,
   "id": "199adbf8-761c-4c5a-b49b-d9425b35728b",
   "metadata": {},
   "outputs": [],
   "source": [
    "16"
   ]
  },
  {
   "cell_type": "code",
   "execution_count": null,
   "id": "f5ae5149-c148-4102-876e-8fd27a4223c7",
   "metadata": {},
   "outputs": [],
   "source": [
    "17"
   ]
  },
  {
   "cell_type": "code",
   "execution_count": null,
   "id": "4f0067e7-164a-465f-b6ca-37eced0f95bd",
   "metadata": {},
   "outputs": [],
   "source": []
  },
  {
   "cell_type": "code",
   "execution_count": null,
   "id": "23505ed3-3019-4f04-87d1-a0f90a00d0b7",
   "metadata": {},
   "outputs": [],
   "source": []
  },
  {
   "cell_type": "code",
   "execution_count": null,
   "id": "e66377f7-b058-4712-b70d-15c5268d03ba",
   "metadata": {},
   "outputs": [],
   "source": []
  },
  {
   "cell_type": "code",
   "execution_count": null,
   "id": "a5051caa-af94-4ac1-9d0d-731dbe34001d",
   "metadata": {},
   "outputs": [],
   "source": []
  },
  {
   "cell_type": "code",
   "execution_count": null,
   "id": "b86bf2eb-cfc2-4b12-9b1e-cd782beacd11",
   "metadata": {},
   "outputs": [],
   "source": []
  }
 ],
 "metadata": {
  "kernelspec": {
   "display_name": "Python 3 (ipykernel)",
   "language": "python",
   "name": "python3"
  },
  "language_info": {
   "codemirror_mode": {
    "name": "ipython",
    "version": 3
   },
   "file_extension": ".py",
   "mimetype": "text/x-python",
   "name": "python",
   "nbconvert_exporter": "python",
   "pygments_lexer": "ipython3",
   "version": "3.11.6"
  }
 },
 "nbformat": 4,
 "nbformat_minor": 5
}
