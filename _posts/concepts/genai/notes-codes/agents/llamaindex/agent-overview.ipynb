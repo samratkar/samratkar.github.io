{
 "cells": [
  {
   "cell_type": "markdown",
   "id": "bc9347eb",
   "metadata": {},
   "source": [
    "### custom function tools "
   ]
  },
  {
   "cell_type": "code",
   "execution_count": 5,
   "id": "ece68b72",
   "metadata": {},
   "outputs": [],
   "source": [
    "import os\n",
    "from typing import List, Tuple, Dict, Any, Optional\n",
    "\n",
    "# For LlamaIndex components\n",
    "from llama_index.core import Settings, VectorStoreIndex, SimpleDirectoryReader, Document\n",
    "from llama_index.core.tools import FunctionTool, QueryEngineTool\n",
    "from llama_index.core.query_engine import SubQuestionQueryEngine\n",
    "from llama_index.llms.openai import OpenAI\n",
    "from llama_index.core.agent import ReActAgent\n",
    "from llama_index.core.callbacks import CallbackManager, LlamaDebugHandler\n"
   ]
  },
  {
   "cell_type": "code",
   "execution_count": 6,
   "id": "98e7dd73",
   "metadata": {},
   "outputs": [],
   "source": [
    "# Set up LlamaIndex global settings\n",
    "llama_debug = LlamaDebugHandler()\n",
    "Settings.callback_manager = CallbackManager([llama_debug])\n",
    "Settings.llm = OpenAI(model=\"gpt-4\")"
   ]
  },
  {
   "cell_type": "code",
   "execution_count": 7,
   "id": "aeab6150",
   "metadata": {},
   "outputs": [],
   "source": [
    "# Step 1: Create custom function tools for addition and subtraction\n",
    "\n",
    "def add_numbers(a: float, b: float) -> float:\n",
    "    \"\"\"Add two numbers together.\n",
    "    \n",
    "    Args:\n",
    "        a: The first number\n",
    "        b: The second number\n",
    "        \n",
    "    Returns:\n",
    "        The sum of a and b\n",
    "    \"\"\"\n",
    "    return a + b\n",
    "\n",
    "def subtract_numbers(a: float, b: float) -> float:\n",
    "    \"\"\"Subtract the second number from the first.\n",
    "    \n",
    "    Args:\n",
    "        a: The first number\n",
    "        b: The second number to subtract from the first\n",
    "        \n",
    "    Returns:\n",
    "        The result of a - b\n",
    "    \"\"\"\n",
    "    return a - b"
   ]
  },
  {
   "cell_type": "code",
   "execution_count": 9,
   "id": "04b8df51",
   "metadata": {},
   "outputs": [],
   "source": [
    "# Convert these functions to LlamaIndex FunctionTools\n",
    "add_tool = FunctionTool.from_defaults(\n",
    "    fn=add_numbers,\n",
    "    name=\"add\",\n",
    "    description=\"Add two numbers together\"\n",
    ")\n",
    "\n",
    "subtract_tool = FunctionTool.from_defaults(\n",
    "    fn=subtract_numbers,\n",
    "    name=\"subtract\",\n",
    "    description=\"Subtract the second number from the first\"\n",
    ")"
   ]
  },
  {
   "cell_type": "code",
   "execution_count": 10,
   "id": "bb46d48b",
   "metadata": {},
   "outputs": [],
   "source": [
    "# Sample documents for demonstration\n",
    "documents = [\n",
    "    Document(text=\"Machine learning is a field of study that gives computers the ability to learn without being explicitly programmed.\"),\n",
    "    Document(text=\"Natural language processing is a subfield of linguistics, computer science, and artificial intelligence concerned with the interactions between computers and human language.\"),\n",
    "    Document(text=\"Deep learning is part of a broader family of machine learning methods based on artificial neural networks with representation learning.\"),\n",
    "    Document(text=\"Reinforcement learning is an area of machine learning concerned with how intelligent agents ought to take actions in an environment in order to maximize the notion of cumulative reward.\")\n",
    "]"
   ]
  }
 ],
 "metadata": {
  "kernelspec": {
   "display_name": ".venv",
   "language": "python",
   "name": "python3"
  },
  "language_info": {
   "codemirror_mode": {
    "name": "ipython",
    "version": 3
   },
   "file_extension": ".py",
   "mimetype": "text/x-python",
   "name": "python",
   "nbconvert_exporter": "python",
   "pygments_lexer": "ipython3",
   "version": "3.12.10"
  }
 },
 "nbformat": 4,
 "nbformat_minor": 5
}
