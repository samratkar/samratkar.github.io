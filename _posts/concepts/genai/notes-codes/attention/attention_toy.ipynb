{
 "cells": [
  {
   "cell_type": "code",
   "execution_count": 37,
   "metadata": {},
   "outputs": [],
   "source": [
    "import torch\n",
    "w_q = torch.tensor([[1.0, 0.0, 0.0], [0.0, 1.0, 0.0], [0.0, 0.0, 1.0]])\n",
    "w_k = torch.tensor([[1.0, 0.0, 0.0], [0.0, 2.0, 0.0], [0.0, 0.0, 1.0]])\n",
    "x = torch.tensor([[0.9, 0.1, 0.1], [0.1, 0.9, 0.1], [0.5, 0.5, 0.1]])\n",
    "query = torch.mm(w_q,x)\n",
    "key = torch.mm(w_k,x)\n",
    "# dot product simulation\n",
    "# attention_score = torch.sum(query * key.T, dim=0)  # Sum along columns\n",
    "attention_score = (torch.mm(query, key.T)).softmax(dim=1)  # Matrix multiplication"
   ]
  },
  {
   "cell_type": "code",
   "execution_count": 38,
   "metadata": {},
   "outputs": [
    {
     "name": "stdout",
     "output_type": "stream",
     "text": [
      "x : tensor([[0.9000, 0.1000, 0.1000],\n",
      "        [0.1000, 0.9000, 0.1000],\n",
      "        [0.5000, 0.5000, 0.1000]])\n",
      "w_q : tensor([[1., 0., 0.],\n",
      "        [0., 1., 0.],\n",
      "        [0., 0., 1.]])\n",
      "w_k : tensor([[1., 0., 0.],\n",
      "        [0., 2., 0.],\n",
      "        [0., 0., 1.]])\n",
      "query : tensor([[0.9000, 0.1000, 0.1000],\n",
      "        [0.1000, 0.9000, 0.1000],\n",
      "        [0.5000, 0.5000, 0.1000]])\n",
      "key : tensor([[0.9000, 0.1000, 0.1000],\n",
      "        [0.2000, 1.8000, 0.2000],\n",
      "        [0.5000, 0.5000, 0.1000]])\n",
      "attention_score : tensor([[0.4231, 0.2697, 0.3072],\n",
      "        [0.1487, 0.6466, 0.2047],\n",
      "        [0.2728, 0.4543, 0.2728]])\n"
     ]
    }
   ],
   "source": [
    "\n",
    "print(\"x :\", x)\n",
    "print(\"w_q :\", w_q)\n",
    "print(\"w_k :\", w_k)\n",
    "print(\"query :\", query)\n",
    "print(\"key :\", key)\n",
    "print(\"attention_score :\", attention_score)"
   ]
  }
 ],
 "metadata": {
  "kernelspec": {
   "display_name": ".venv",
   "language": "python",
   "name": "python3"
  },
  "language_info": {
   "codemirror_mode": {
    "name": "ipython",
    "version": 3
   },
   "file_extension": ".py",
   "mimetype": "text/x-python",
   "name": "python",
   "nbconvert_exporter": "python",
   "pygments_lexer": "ipython3",
   "version": "3.12.9"
  }
 },
 "nbformat": 4,
 "nbformat_minor": 2
}
