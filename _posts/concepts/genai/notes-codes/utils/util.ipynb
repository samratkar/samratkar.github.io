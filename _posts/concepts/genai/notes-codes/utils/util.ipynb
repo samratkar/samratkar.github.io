{
 "cells": [
  {
   "cell_type": "code",
   "execution_count": 6,
   "metadata": {},
   "outputs": [
    {
     "name": "stdout",
     "output_type": "stream",
     "text": [
      "0 kali\n",
      "1 durga\n",
      "2 gayatri\n",
      "3 gowri\n",
      "4 saraswati\n"
     ]
    }
   ],
   "source": [
    "x = enumerate ([\"kali\", \"durga\", \"gayatri\", \"gowri\", \"saraswati\"])\n",
    "for i, name in x:\n",
    "    print (i, name) \n",
    "\n"
   ]
  },
  {
   "cell_type": "code",
   "execution_count": 7,
   "metadata": {},
   "outputs": [
    {
     "name": "stdout",
     "output_type": "stream",
     "text": [
      "{0: 'kali', 1: 'durga', 2: 'gayatri', 3: 'gowri', 4: 'saraswati'}\n"
     ]
    }
   ],
   "source": [
    "dict = {key:value for key, value in enumerate([\"kali\", \"durga\", \"gayatri\", \"gowri\", \"saraswati\"])}\n",
    "print (dict)"
   ]
  }
 ],
 "metadata": {
  "kernelspec": {
   "display_name": ".venv",
   "language": "python",
   "name": "python3"
  },
  "language_info": {
   "codemirror_mode": {
    "name": "ipython",
    "version": 3
   },
   "file_extension": ".py",
   "mimetype": "text/x-python",
   "name": "python",
   "nbconvert_exporter": "python",
   "pygments_lexer": "ipython3",
   "version": "3.12.9"
  }
 },
 "nbformat": 4,
 "nbformat_minor": 2
}
