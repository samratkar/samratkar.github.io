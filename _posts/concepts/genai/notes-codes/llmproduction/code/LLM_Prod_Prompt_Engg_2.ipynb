{
  "cells": [
    {
      "cell_type": "markdown",
      "metadata": {
        "id": "view-in-github",
        "colab_type": "text"
      },
      "source": [
        "<a href=\"https://colab.research.google.com/github/samratkar/samratkar.github.io/blob/main/Copy_of_LLM_Prod_Prompt_Engg_2.ipynb\" target=\"_parent\"><img src=\"https://colab.research.google.com/assets/colab-badge.svg\" alt=\"Open In Colab\"/></a>"
      ]
    },
    {
      "cell_type": "markdown",
      "metadata": {
        "id": "iR4aG9ll8j0v"
      },
      "source": [
        "# Self-Consistency and Multiple Paths of Reasoning Tutorial\n",
        "\n",
        "## Overview\n",
        "\n",
        "This tutorial explores the concept of self-consistency and multiple paths of reasoning in prompt engineering. We'll focus on techniques for generating diverse reasoning paths and aggregating results to improve the quality and reliability of AI-generated answers.\n",
        "\n",
        "## Motivation\n",
        "\n",
        "Large language models can sometimes produce inconsistent or unreliable outputs. By leveraging multiple reasoning paths and aggregating results, we can enhance the robustness and accuracy of AI-generated responses. This approach is particularly useful for complex problem-solving tasks where a single path of reasoning might be insufficient or prone to errors.\n",
        "\n",
        "## Key Components\n",
        "\n",
        "1. Generating multiple reasoning paths\n",
        "2. Aggregating results for better answers\n",
        "3. Implementing self-consistency checks\n",
        "4. Applying these techniques to various problem-solving scenarios\n",
        "\n",
        "## Method Details\n",
        "\n",
        "Our approach involves the following steps:\n",
        "\n",
        "1. Setting up the environment with necessary libraries (OpenAI and LangChain)\n",
        "2. Designing prompts that encourage diverse reasoning paths\n",
        "3. Generating multiple responses using these prompts\n",
        "4. Implementing aggregation methods to combine and analyze the generated responses\n",
        "5. Applying self-consistency checks to evaluate the reliability of the results\n",
        "6. Demonstrating the effectiveness of this approach on various problem types\n",
        "\n",
        "Throughout the tutorial, we'll use practical examples to illustrate how these techniques can be applied to enhance the quality and reliability of AI-generated answers.\n",
        "\n",
        "By the end of this tutorial, you'll have a solid understanding of how to implement self-consistency and multiple paths of reasoning in your prompt engineering workflows, leading to more robust and reliable AI-generated responses.\n",
        "\n",
        "## Conclusion\n",
        "\n",
        "This tutorial will equipped you with powerful techniques for enhancing the reliability and consistency of AI-generated responses through self-consistency and multiple paths of reasoning. By implementing these methods, you can:\n",
        "\n",
        "1. Generate diverse problem-solving approaches, reducing the risk of biased or narrow solutions.\n",
        "2. Aggregate multiple reasoning paths to arrive at more robust and reliable answers.\n",
        "3. Apply self-consistency checks to evaluate and improve the quality of AI-generated outputs.\n",
        "4. Adapt these techniques to various problem types, from factual queries to complex reasoning tasks.\n",
        "\n",
        "Mastering these skills will significantly improve your ability to leverage AI language models for more accurate and trustworthy results across a wide range of applications. As you continue to explore and refine these techniques, you'll be better equipped to handle complex problems and generate high-quality, consistent outputs in your AI-driven projects."
      ]
    },
    {
      "cell_type": "markdown",
      "metadata": {
        "id": "0zAnPQo58j0w"
      },
      "source": [
        "## Setup\n",
        "\n",
        "First, let's import the necessary libraries and set up our environment."
      ]
    },
    {
      "cell_type": "code",
      "source": [
        "!pip install -q langchain-openai python-dotenv\n"
      ],
      "metadata": {
        "colab": {
          "base_uri": "https://localhost:8080/"
        },
        "id": "2cuwliwW8t6g",
        "outputId": "597e9306-d8fc-49bc-be2e-cf1c47db26bf"
      },
      "execution_count": null,
      "outputs": [
        {
          "output_type": "stream",
          "name": "stdout",
          "text": [
            "\u001b[?25l   \u001b[90m━━━━━━━━━━━━━━━━━━━━━━━━━━━━━━━━━━━━━━━━\u001b[0m \u001b[32m0.0/74.4 kB\u001b[0m \u001b[31m?\u001b[0m eta \u001b[36m-:--:--\u001b[0m\r\u001b[2K   \u001b[90m━━━━━━━━━━━━━━━━━━━━━━━━━━━━━━━━━━━━━━━━\u001b[0m \u001b[32m74.4/74.4 kB\u001b[0m \u001b[31m4.8 MB/s\u001b[0m eta \u001b[36m0:00:00\u001b[0m\n",
            "\u001b[?25h"
          ]
        }
      ]
    },
    {
      "cell_type": "code",
      "execution_count": null,
      "metadata": {
        "id": "Jwj1H14t8j0w"
      },
      "outputs": [],
      "source": [
        "import os\n",
        "from langchain_openai import ChatOpenAI\n",
        "from langchain.prompts import PromptTemplate\n",
        "from dotenv import load_dotenv\n",
        "import random\n",
        "from collections import Counter\n",
        "\n",
        "# Load environment variables\n",
        "load_dotenv()\n",
        "\n",
        "# Set up OpenAI API key\n",
        "os.environ[\"OPENAI_API_KEY\"] = \"\"\n",
        "\n",
        "# Initialize the language model\n",
        "llm = ChatOpenAI(model=\"gpt-4o-mini\")"
      ]
    },
    {
      "cell_type": "markdown",
      "metadata": {
        "id": "2sLHsw9G8j0w"
      },
      "source": [
        "## Generating Multiple Reasoning Paths\n",
        "\n",
        "Let's create a function that generates multiple reasoning paths for a given problem."
      ]
    },
    {
      "cell_type": "code",
      "execution_count": null,
      "metadata": {
        "id": "1aHa981D8j0x"
      },
      "outputs": [],
      "source": [
        "def generate_multiple_paths(problem, num_paths=3):\n",
        "    \"\"\"\n",
        "    Generate multiple reasoning paths for a given problem.\n",
        "\n",
        "    Args:\n",
        "    problem (str): The problem statement.\n",
        "    num_paths (int): Number of reasoning paths to generate.\n",
        "\n",
        "    Returns:\n",
        "    list: A list of generated reasoning paths.\n",
        "    \"\"\"\n",
        "    prompt_template = PromptTemplate(\n",
        "        input_variables=[\"problem\", \"path_number\"],\n",
        "        template=\"\"\"Solve the following problem using a unique approach. This is reasoning path {path_number}.\n",
        "        Problem: {problem}\n",
        "        Reasoning path {path_number}:\"\"\"\n",
        "    )\n",
        "\n",
        "    paths = []\n",
        "    for i in range(num_paths):\n",
        "        chain = prompt_template | llm\n",
        "        response = chain.invoke({\"problem\": problem, \"path_number\": i+1}).content\n",
        "        paths.append(response)\n",
        "\n",
        "    return paths"
      ]
    },
    {
      "cell_type": "markdown",
      "metadata": {
        "id": "cRsb9HJM8j0x"
      },
      "source": [
        "Now, let's test our function with a sample problem."
      ]
    },
    {
      "cell_type": "code",
      "execution_count": null,
      "metadata": {
        "colab": {
          "base_uri": "https://localhost:8080/"
        },
        "id": "d3fAYzrt8j0x",
        "outputId": "a7fe4bb0-2b0d-48f4-8a70-929d4fd0dac4"
      },
      "outputs": [
        {
          "output_type": "stream",
          "name": "stdout",
          "text": [
            "Path 1:\n",
            "To solve the problem of how high a ball thrown upwards with an initial velocity of 20 m/s will go, we can use the principles of kinematics, specifically the equations of motion under uniform acceleration. \n",
            "\n",
            "We can define the following variables:\n",
            "- **Initial velocity (u)** = 20 m/s (upward)\n",
            "- **Final velocity (v)** = 0 m/s (at the highest point, the velocity is zero)\n",
            "- **Acceleration (a)** = -9.81 m/s² (this is the acceleration due to gravity acting downward)\n",
            "\n",
            "We will use the second equation of motion, which relates the initial velocity, final velocity, acceleration, and displacement (height in this case):\n",
            "\n",
            "\\[ v^2 = u^2 + 2as \\]\n",
            "\n",
            "Where:\n",
            "- \\( s \\) is the displacement (the maximum height we want to find)\n",
            "\n",
            "Plugging in our values:\n",
            "\n",
            "\\[ 0^2 = (20)^2 + 2(-9.81)s \\]\n",
            "\n",
            "Simplifying this:\n",
            "\n",
            "\\[ 0 = 400 - 19.62s \\]\n",
            "\n",
            "Rearranging gives:\n",
            "\n",
            "\\[ 19.62s = 400 \\]\n",
            "\n",
            "Now, solving for \\( s \\):\n",
            "\n",
            "\\[ s = \\frac{400}{19.62} \\]\n",
            "\n",
            "Calculating the right-hand side:\n",
            "\n",
            "\\[ s \\approx 20.39 \\text{ meters} \\]\n",
            "\n",
            "Thus, the maximum height the ball will reach is approximately **20.39 meters**. \n",
            "\n",
            "This problem can be solved using a straightforward application of the kinematic equations, ensuring all variables are defined clearly, with particular attention to the direction of acceleration (gravity acting downward), which is critical for calculating the maximum height achieved by the ball.\n",
            "\n",
            "Path 2:\n",
            "To solve the problem using \"Reasoning Path 2,\" let’s utilize the concept of energy conservation, which is often a unique approach compared to the standard kinematic equations.\n",
            "\n",
            "### Given:\n",
            "- Initial velocity (u) = 20 m/s\n",
            "- Final velocity (v) at the highest point = 0 m/s (the ball stops momentarily at its highest point)\n",
            "- Acceleration due to gravity (g) = -9.81 m/s² (the negative sign indicates that it is acting downwards)\n",
            "\n",
            "### Energy Conservation Approach:\n",
            "\n",
            "**Step 1: Initial Kinetic Energy**\n",
            "The kinetic energy (KE) at the moment the ball is thrown can be calculated using the formula:\n",
            "\\[\n",
            "KE = \\frac{1}{2} m v^2\n",
            "\\]\n",
            "Where:\n",
            "- \\(m\\) is the mass of the ball (which we can ignore as it will cancel out)\n",
            "- \\(v\\) is the initial velocity (20 m/s)\n",
            "\n",
            "**Step 2: Final Potential Energy**\n",
            "At the highest point, all of the kinetic energy will have been converted into potential energy (PE), which can be calculated using the formula:\n",
            "\\[\n",
            "PE = mgh\n",
            "\\]\n",
            "Where:\n",
            "- \\(h\\) is the height we want to find\n",
            "- \\(g\\) is the acceleration due to gravity (9.81 m/s²)\n",
            "\n",
            "**Step 3: Using Energy Conservation**  \n",
            "Set the initial kinetic energy equal to the potential energy at the highest point:\n",
            "\n",
            "\\[\n",
            "\\frac{1}{2} m v^2 = mgh\n",
            "\\]\n",
            "\n",
            "Since the mass \\(m\\) appears on both sides of the equation, we can cancel it out:\n",
            "\n",
            "\\[\n",
            "\\frac{1}{2} v^2 = gh\n",
            "\\]\n",
            "\n",
            "**Step 4: Solve for Height (h)**\n",
            "Now, substituting the known values:\n",
            "\n",
            "\\[\n",
            "\\frac{1}{2} (20)^2 = (9.81) h\n",
            "\\]\n",
            "\n",
            "\\[\n",
            "\\frac{1}{2} \\times 400 = 9.81h\n",
            "\\]\n",
            "\n",
            "\\[\n",
            "200 = 9.81h\n",
            "\\]\n",
            "\n",
            "Finally, solving for \\(h\\):\n",
            "\n",
            "\\[\n",
            "h = \\frac{200}{9.81} \\approx 20.39 \\text{ meters}\n",
            "\\]\n",
            "\n",
            "### Conclusion:\n",
            "Using the conservation of energy approach, the maximum height the ball will reach is approximately **20.39 meters**.\n",
            "\n",
            "Path 3:\n",
            "To solve for the maximum height reached by a ball thrown upwards with an initial velocity of 20 m/s, we can use the principles of kinematics. Specifically, we can apply the following equation of motion:\n",
            "\n",
            "\\[\n",
            "v^2 = u^2 + 2a s\n",
            "\\]\n",
            "\n",
            "where:\n",
            "- \\( v \\) = final velocity (at the maximum height, this is 0 m/s),\n",
            "- \\( u \\) = initial velocity (20 m/s),\n",
            "- \\( a \\) = acceleration (due to gravity; since it's acting downwards, this will be -9.81 m/s²),\n",
            "- \\( s \\) = displacement (which we want to find, representing the maximum height).\n",
            "\n",
            "We can rearrange the equation to solve for \\( s \\):\n",
            "\n",
            "\\[\n",
            "s = \\frac{v^2 - u^2}{2a}\n",
            "\\]\n",
            "\n",
            "Substituting the values into the equation:\n",
            "\n",
            "\\[\n",
            "s = \\frac{0^2 - (20)^2}{2 \\times -9.81}\n",
            "\\]\n",
            "\n",
            "Calculating \\( 20^2 \\):\n",
            "\n",
            "\\[\n",
            "s = \\frac{0 - 400}{-19.62}\n",
            "\\]\n",
            "\n",
            "This simplifies to:\n",
            "\n",
            "\\[\n",
            "s = \\frac{-400}{-19.62} \\approx 20.39 \\text{ m}\n",
            "\\]\n",
            "\n",
            "Thus, the maximum height the ball will reach is approximately **20.39 meters**.\n",
            "\n"
          ]
        }
      ],
      "source": [
        "problem = \"A ball is thrown upwards with an initial velocity of 20 m/s. How high will it go?\"\n",
        "paths = generate_multiple_paths(problem)\n",
        "\n",
        "for i, path in enumerate(paths, 1):\n",
        "    print(f\"Path {i}:\\n{path}\\n\")"
      ]
    },
    {
      "cell_type": "markdown",
      "metadata": {
        "id": "p1_rAOi78j0x"
      },
      "source": [
        "## Aggregating Results\n",
        "\n",
        "Now that we have multiple reasoning paths, let's create a function to aggregate the results and determine the most consistent answer."
      ]
    },
    {
      "cell_type": "code",
      "execution_count": null,
      "metadata": {
        "id": "LBbVeJCI8j0x"
      },
      "outputs": [],
      "source": [
        "def aggregate_results(paths):\n",
        "    \"\"\"\n",
        "    Aggregate results from multiple reasoning paths.\n",
        "\n",
        "    Args:\n",
        "    paths (list): List of reasoning paths.\n",
        "\n",
        "    Returns:\n",
        "    str: The most consistent answer.\n",
        "    \"\"\"\n",
        "    prompt_template = PromptTemplate(\n",
        "        input_variables=[\"paths\"],\n",
        "        template=\"\"\"Analyze the following reasoning paths and determine the most consistent answer. If there are discrepancies, explain why and provide the most likely correct answer.\n",
        "        Reasoning paths:\n",
        "        {paths}\n",
        "\n",
        "        Most consistent answer:\"\"\"\n",
        "    )\n",
        "\n",
        "    chain = prompt_template | llm\n",
        "    response = chain.invoke({\"paths\": \"\\n\".join(paths)}).content\n",
        "    return response"
      ]
    },
    {
      "cell_type": "markdown",
      "metadata": {
        "id": "baOy7JYa8j0x"
      },
      "source": [
        "Let's apply this aggregation function to our previous results."
      ]
    },
    {
      "cell_type": "code",
      "execution_count": null,
      "metadata": {
        "colab": {
          "base_uri": "https://localhost:8080/"
        },
        "id": "mx1ku6F98j0x",
        "outputId": "89712e6e-2a0a-4dc2-92c0-92be5421cd02"
      },
      "outputs": [
        {
          "output_type": "stream",
          "name": "stdout",
          "text": [
            "Aggregated Result:\n",
            " After analyzing the provided reasoning paths for determining the maximum height a ball reaches when thrown upwards with an initial velocity of 20 m/s, it is clear that all three reasoning paths arrive at the same conclusion: the maximum height is approximately **20.39 meters**.\n",
            "\n",
            "### Summary of Each Reasoning Path:\n",
            "1. **Kinematic Equation Approach**: Utilized the equation \\( v^2 = u^2 + 2as \\) and successfully derived \\( s = \\frac{400}{19.62} \\), leading to a maximum height of approximately 20.39 m.\n",
            "  \n",
            "2. **Energy Conservation Approach**: Used the conservation of kinetic and potential energy methods, establishing that the initial kinetic energy equals the potential energy at the highest point. Again, this led to \\( h = \\frac{200}{9.81} \\), which also resulted in approximately 20.39 m.\n",
            "\n",
            "3. **Alternate Kinematic Arrangement**: Utilized a rearranged form of the kinematic equation, also arriving at \\( s \\approx 20.39 \\) m with clear substitutions.\n",
            "\n",
            "### Consistency and Explanation:\n",
            "The fact that all three reasoning paths yield the same numerical result further supports the conclusion. This not only reinforces the correctness of the calculations but also highlights the reliability of both kinematics and energy conservation principles in solving classical mechanics problems like this.\n",
            "\n",
            "### Conclusion:\n",
            "Given the uniformity in results across different approaches, the most consistent answer to the problem is that the maximum height the ball will reach is approximately **20.39 meters**.\n"
          ]
        }
      ],
      "source": [
        "aggregated_result = aggregate_results(paths)\n",
        "print(\"Aggregated Result:\\n\", aggregated_result)"
      ]
    },
    {
      "cell_type": "markdown",
      "metadata": {
        "id": "pacKaMHu8j0x"
      },
      "source": [
        "## Self-Consistency Check\n",
        "\n",
        "To further improve our results, let's implement a self-consistency check that evaluates the reliability of our aggregated answer."
      ]
    },
    {
      "cell_type": "code",
      "execution_count": null,
      "metadata": {
        "id": "sfNGSTU08j0x"
      },
      "outputs": [],
      "source": [
        "def self_consistency_check(problem, aggregated_result):\n",
        "    \"\"\"\n",
        "    Perform a self-consistency check on the aggregated result.\n",
        "\n",
        "    Args:\n",
        "    problem (str): The original problem statement.\n",
        "    aggregated_result (str): The aggregated result to check.\n",
        "\n",
        "    Returns:\n",
        "    str: An evaluation of the result's consistency and reliability.\n",
        "    \"\"\"\n",
        "    prompt_template = PromptTemplate(\n",
        "        input_variables=[\"problem\", \"result\"],\n",
        "        template=\"\"\"Evaluate the consistency and reliability of the following result for the given problem.\n",
        "        Problem: {problem}\n",
        "        Result: {result}\n",
        "\n",
        "        Evaluation (consider factors like logical consistency, adherence to known facts, and potential biases):\"\"\"\n",
        "    )\n",
        "\n",
        "    chain = prompt_template | llm\n",
        "    response = chain.invoke({\"problem\": problem, \"result\": aggregated_result}).content\n",
        "    return response"
      ]
    },
    {
      "cell_type": "markdown",
      "metadata": {
        "id": "EL1RUyEK8j0x"
      },
      "source": [
        "Now, let's apply the self-consistency check to our aggregated result."
      ]
    },
    {
      "cell_type": "code",
      "execution_count": null,
      "metadata": {
        "colab": {
          "base_uri": "https://localhost:8080/"
        },
        "id": "Uj8o1xzm8j0x",
        "outputId": "0396750a-311f-43e6-8204-0a9c49f7d7fc"
      },
      "outputs": [
        {
          "output_type": "stream",
          "name": "stdout",
          "text": [
            "Self-Consistency Evaluation:\n",
            " To evaluate the consistency and reliability of the result that the maximum height reached by a ball thrown upwards with an initial velocity of 20 m/s is approximately **20.39 meters**, we can break down the analysis into several key factors.\n",
            "\n",
            "### 1. **Logical Consistency**:\n",
            "Each reasoning path presented uses appropriate formulas and follows coherent steps to derive the same result. \n",
            "\n",
            "- **Kinematic Equation Approach**: The use of \\( v^2 = u^2 + 2as \\) correctly identifies the final velocity (v = 0 m/s at the peak) and calculates the maximum height correctly. \n",
            "  \\[\n",
            "  s = \\frac{v^2 - u^2}{2a} = \\frac{0 - (20)^2}{2(-9.81)} \\approx 20.39 \\text{ meters}\n",
            "  \\]\n",
            "\n",
            "- **Energy Conservation Approach**: This method correctly applies the principle of conservation of energy, equating kinetic and potential energy.\n",
            "  \\[\n",
            "  \\text{Initial KE} = \\text{PE at height} \\implies \\frac{1}{2} mv^2 = mgh \\implies h = \\frac{v^2}{2g} \\approx 20.39 \\text{ meters}\n",
            "  \\]\n",
            "\n",
            "- **Alternate Kinematic Arrangement**: This path also accurately reflects the principles of kinematics, producing the same outcome with a different form of the approach.\n",
            "\n",
            "The uniformity in results across all paths indicates that the calculations and approaches are logically consistent.\n",
            "\n",
            "### 2. **Adherence to Known Facts**:\n",
            "The computations are based on established principles of physics, specifically:\n",
            "- Kinematic equations of motion under constant acceleration due to gravity.\n",
            "- The principle of conservation of energy.\n",
            "  \n",
            "These principles are well-validated in classical mechanics, which adds to the reliability of the results.\n",
            "\n",
            "### 3. **Potential Biases**:\n",
            "While potentially subjective bias is not directly evident in numerical analysis, it is important to consider that:\n",
            "- If the reasoning paths were limited to only one form of physics (e.g., only using energy conservation), there could be an inclination to favor methods that yield a conservative result. \n",
            "- However, since multiple independent approaches lead to the same conclusion, this limitation is mitigated.\n",
            "\n",
            "### 4. **Numerical Accuracy**:\n",
            "Calculating using different significant figures and expressions leads to minor variations, but the convergence to **20.39 meters** implies high precision in the calculations. Each reasoning path utilized \\( g \\approx 9.81 \\, \\text{m/s}^2 \\) accurately, reinforcing reliable results.\n",
            "\n",
            "### Conclusion:\n",
            "Based on evaluating logical consistency, adherence to known physical laws, and lack of significant bias in the approaches taken, we can conclude that the result of approximately **20.39 meters** for the maximum height the ball will reach is reliable and consistent. Thus, we can confidently accept it as the answer to the presented problem.\n"
          ]
        }
      ],
      "source": [
        "consistency_evaluation = self_consistency_check(problem, aggregated_result)\n",
        "print(\"Self-Consistency Evaluation:\\n\", consistency_evaluation)"
      ]
    },
    {
      "cell_type": "markdown",
      "metadata": {
        "id": "P__YKc308j0x"
      },
      "source": [
        "## Applying to Different Problem Types\n",
        "\n",
        "Let's demonstrate how this approach can be applied to different types of problems."
      ]
    },
    {
      "cell_type": "code",
      "execution_count": null,
      "metadata": {
        "colab": {
          "base_uri": "https://localhost:8080/"
        },
        "id": "zYIlmM7Q8j0y",
        "outputId": "8d9d9a7e-15eb-4fe4-c81f-60a81efb13eb"
      },
      "outputs": [
        {
          "output_type": "stream",
          "name": "stdout",
          "text": [
            "Problem: What is the capital of France?\n",
            "Aggregated Result:\n",
            " The most consistent answer across all three reasoning paths is that the capital of France is **Paris**. \n",
            "\n",
            "### Explanation of Consistency:\n",
            "1. **Reasoning Path 1**: This path establishes Paris as the capital through a straightforward process of identification based on geographical and cultural significance. It emphasizes Paris as the heart of France politically and culturally.\n",
            "\n",
            "2. **Reasoning Path 2**: This path also identifies Paris using geographical context, cultural landmarks, and historical significance. It discusses the importance of the capital in relation to governmental power and major historical events, reinforcing the idea that Paris serves these roles.\n",
            "\n",
            "3. **Reasoning Path 3**: By focusing on cultural influence, historical context, and geographical prominence, this path similarly concludes that Paris embodies the essence of France, guiding to the same conclusion about its status as the capital.\n",
            "\n",
            "### Summary of Discrepancies:\n",
            "- There are no significant discrepancies among the reasoning paths; all paths converge on the same conclusion: that Paris is the capital of France. Each path creatively utilizes different aspects—geography, culture, history—to arrive at this consistent answer, thus reinforcing the reliability of the conclusion.\n",
            "\n",
            "### Conclusion:\n",
            "Given that all reasoning paths coherently support the same conclusion without contradictions, the most consistent answer is that the capital of France is **Paris**.\n",
            "\n",
            "Consistency Evaluation:\n",
            " **Evaluation of Consistency and Reliability**\n",
            "\n",
            "1. **Logical Consistency**: \n",
            "   - All three reasoning paths arrive at the same conclusion that the capital of France is Paris. Since these paths employ different approaches—geographical identification, cultural significance, and historical context—this multi-faceted agreement reinforces the logical consistency of the result. There is no logical contradiction present, as they all support the same factual statement.\n",
            "\n",
            "2. **Adherence to Known Facts**:\n",
            "   - The answer that Paris is the capital of France is a well-established and verifiable fact. Historically and currently, Paris serves as the political, cultural, and administrative heart of France. The reasoning paths effectively validate this fact by discussing various elements that contribute to Paris’s status, such as its political buildings (e.g., the Élysée Palace), its role in history (e.g., major events like the French Revolution), and its cultural landmarks (e.g., the Eiffel Tower, Louvre Museum).\n",
            "\n",
            "3. **Potential Biases**:\n",
            "   - The reasoning paths appear to be objective and based on widely accepted knowledge. They do not show indication of bias towards any particular interpretation of Paris’s significance. Instead, each path seeks to provide a comprehensive justification for why Paris is the capital. Since the emphasis is placed solely on factual information without subjective opinions or unverified assertions, the reliability of the conclusion remains high.\n",
            "\n",
            "4. **Summary of Discrepancies**:\n",
            "   - The analysis indicates no significant discrepancies among the reasoning paths; they are all unified in their conclusion. This lack of divergence strengthens the reliability of the answer, as it suggests that the conclusion is robust across various lines of reasoning.\n",
            "\n",
            "### Conclusion:\n",
            "In summary, the evaluation reveals high consistency and reliability regarding the conclusion that \"the capital of France is Paris.\" The agreement across different reasoning paths, adherence to factual information, and absence of bias support this assertion. Therefore, the result can be deemed both accurate and dependable within the context of the given problem.\n",
            "\n",
            "--------------------------------------------------\n",
            "\n",
            "Problem: Explain the concept of supply and demand in economics.\n",
            "Aggregated Result:\n",
            " The most consistent answer draws from the collective understanding illustrated in all three reasoning paths, emphasizing the essential economic concepts of supply and demand through relatable, real-life scenarios. \n",
            "\n",
            "### Key Takeaways:\n",
            "1. **Basic Definitions**: Supply is the quantity that producers are willing to sell at varying prices, and demand is the quantity consumers are willing to buy at those prices. This foundational definition is consistent across all paths.\n",
            "\n",
            "2. **Illustrative Scenarios**: Each path employs unique narratives (the local farmer's market, the village market with Sam Supply and Daisy Demand, and the community garden) that effectively showcase how supply and demand interact:\n",
            "\n",
            "    - **Real-Life Examples**: The farmer's market scenario examines how changes in weather affect demand and how supply adjusts accordingly, demonstrating equilibrium concepts.\n",
            "    \n",
            "    - **Character Metaphors**: Sam and Daisy represent suppliers and consumers, illustrating the competition and negotiation that occurs in markets, emphasizing the need for balance between supply and demand.\n",
            "    \n",
            "    - **Community Garden**: This metaphor reinforces the idea of adjustment — gardeners react to the neighbors' desires, showcasing the dynamic nature of market interactions.\n",
            "\n",
            "3. **Market Equilibrium**: Each reasoning path effectively explains the concept of equilibrium as the point where supply meets demand. They illustrate that both suppliers (gardeners, farmers) and consumers (villagers, neighbors) alter their strategies based on the behavior of the other party.\n",
            "\n",
            "### Conclusion:\n",
            "While each reasoning path presents a slightly different framework—focusing on market conditions, character interactions, or community dynamics—they converge on the theme of balancing supply and demand in a marketplace. \n",
            "\n",
            "The key consistent answer points to the fundamental nature of economic interactions: effective supply and demand management leads to optimal market conditions, highlighting the necessity for both producers and consumers to adapt to ever-changing circumstances to achieve equilibrium. This adaptability is crucial for understanding economic principles in both theoretical and real-world contexts. \n",
            "\n",
            "Thus, the most consistent answer is that supply and demand are dynamic forces always responding to market conditions, and understanding their interaction through diverse scenarios helps clarify their essential role in economics.\n",
            "\n",
            "Consistency Evaluation:\n",
            " The evaluation of the provided result on the concept of supply and demand in economics reveals several key points in terms of logical consistency, adherence to known facts, and potential biases.\n",
            "\n",
            "### Logical Consistency\n",
            "\n",
            "1. **Coherence and Structure**: The result is logically structured, introducing basic definitions first and then building the explanation through related scenarios. The definitions of supply and demand are stated clearly and are universally accepted, establishing a solid foundation for the rest of the explanation.\n",
            "\n",
            "2. **Unified Themes**: Each illustrative scenario contributes to a cohesive understanding of supply and demand, emphasizing the relationship between producers and consumers. The transition from definitions to real-life examples illustrates a high degree of logical consistency, as all the examples are relevant to the supply-demand framework.\n",
            "\n",
            "3. **Market Equilibrium**: The explanation of market equilibrium connects the various narratives, reiterating the concept that supply and demand strive for balance. This reinforces the logical chain and reflects a core principle of economic theory.\n",
            "\n",
            "### Adherence to Known Facts\n",
            "\n",
            "1. **Economic Principles**: The result accurately highlights well-established principles in economics regarding supply, demand, and equilibrium. The explanations involving variables such as weather (affecting supply and demand) and the negotiation between characters (producers and consumers) are recognized factors in real-world market dynamics.\n",
            "\n",
            "2. **Relevance of Illustrative Scenarios**: The use of relatable examples like farmer markets, character metaphors (Sam Supply and Daisy Demand), and community gardens aligns with pedagogical approaches often used to teach these concepts. They effectively illustrate the fluidity and responsiveness of supply and demand to various market conditions, aligning with academic teachings.\n",
            "\n",
            "3. **Dynamic Nature of Markets**: The conclusion correctly emphasizes the dynamic aspect of supply and demand, which is a cornerstone of economic theory. This reflects an accurate understanding of how markets operate in real life.\n",
            "\n",
            "### Potential Biases\n",
            "\n",
            "1. **Simplification of Complex Concepts**: While the answer provides relatable contexts through examples, it may oversimplify some elements of supply and demand dynamics, particularly in more complex markets where numerous factors at play can influence interactions. Such simplifications can lead to a lack of depth in understanding market conditions.\n",
            "\n",
            "2. **Representation of Agents**: The narrative approach using characters may unintentionally anthropomorphize economic agents, which could mislead readers into thinking market behavior is always rational and predictable. In reality, consumer behavior can be influenced by irrational factors, biases, and externalities that are not captured in simple scenarios.\n",
            "\n",
            "3. **Variety in Market Types**: The scenarios predominantly focus on local or small-scale markets. While these are helpful for basic understanding, they may not represent larger markets or the global economy where supply and demand operate differently due to international trade, regulations, and other complexities.\n",
            "\n",
            "### Conclusion\n",
            "\n",
            "Overall, the result provides a consistent and reliable explanation of supply and demand in economics. It adheres to recognized economic principles, presents the information logically and coherently, and utilizes relatable examples to enhance understanding. However, it also presents a potential simplify complexity, and biases related to the representation of market agents and conditions may be noted. A more nuanced exploration of these concepts in various contexts could further enrich the explanation and ensure a broader understanding of supply and demand in economics.\n",
            "\n",
            "--------------------------------------------------\n",
            "\n",
            "Problem: If a train travels at 60 km/h, how long will it take to cover 180 km?\n",
            "Aggregated Result:\n",
            " The most consistent answer across all reasoning paths is **3 hours**. Each reasoning path effectively illustrates the relationship between speed, distance, and time using the formula:\n",
            "\n",
            "\\[\n",
            "\\text{Time} = \\frac{\\text{Distance}}{\\text{Speed}}\n",
            "\\]\n",
            "\n",
            "Here's a breakdown of why this answer emerges consistently from the reasoning:\n",
            "\n",
            "1. **Direct Application of the Formula**: All paths begin by identifying the relevant formula and substituting the known values (distance of 180 km and speed of 60 km/h). This yields:\n",
            "\n",
            "   \\[\n",
            "   \\text{Time} = \\frac{180 \\text{ km}}{60 \\text{ km/h}} = 3 \\text{ hours}\n",
            "   \\]\n",
            "\n",
            "2. **Conceptual Visualization**: The unique approach reasoning path solidifies understanding by breaking down the journey into hourly segments, explicitly showing that the train covers 60 km each hour for three hours to reach the total distance of 180 km. This method reinforces the same conclusion without ambiguity.\n",
            "\n",
            "3. **Logical Steps and Clarity**: The structured method applied in all paths enhances clarity—highlighting the relationship between speed, distance, and time—leading to the same conclusion.\n",
            "\n",
            "Thus, there are no discrepancies in reasoning; all approaches confidently arrive at the same consistent answer: **3 hours**.\n",
            "\n",
            "Consistency Evaluation:\n",
            " The evaluation of the result for the given problem demonstrates strong consistency and reliability. Here is a detailed breakdown based on various criteria:\n",
            "\n",
            "1. **Logical Consistency**: The reasoning follows a clear and logical structure by beginning with the fundamental equation relating speed, distance, and time. The application of the formula:\n",
            "\n",
            "   \\[\n",
            "   \\text{Time} = \\frac{\\text{Distance}}{\\text{Speed}}\n",
            "   \\]\n",
            "\n",
            "   is correctly executed by substituting the known values, which leads directly to the derived answer of 3 hours. The approach used in each reasoning path maintains internal consistency, as they all align with the same mathematical principles.\n",
            "\n",
            "2. **Adherence to Known Facts**: The solution adheres to basic principles of physics and mathematics concerning motion. The formula is well-established, and the values provided (velocity of 60 km/h and distance of 180 km) are correctly utilized. The calculations made (180 km divided by 60 km/h) are accurate and conform to mathematical norms.\n",
            "\n",
            "3. **Clarity of Explanation**: The explanation effectively communicates the reasoning through multiple perspectives. For instance, visualizing the journey in hourly segments enhances understanding and positively contributes to the reliability of the conclusion. This multi-faceted approach ensures that the reasoning is not only correct but also comprehensible.\n",
            "\n",
            "4. **Potential Biases**: The reasoning does not exhibit any apparent biases. There is a straightforward application of mathematical concepts, with no preference for particular methods of explanation or reasoning paths over others. The outcome remains the same regardless of the approach, which is a strong indicator of the robustness of the result.\n",
            "\n",
            "5. **Reproducibility**: The result can be easily replicated by anyone familiar with the concepts involved. Anyone performing the same calculations with the same inputs will arrive at the conclusion of 3 hours, indicating high reliability.\n",
            "\n",
            "6. **Absence of Alternative Outcomes**: The conclusion does not leave room for ambiguity or alternative interpretations; there is a singular, definitive answer supported by consistent reasoning.\n",
            "\n",
            "In summary, the evaluation confirms that the result of **3 hours** for the train to cover 180 km at 60 km/h is both consistent and reliable. The logical flow, adherence to established facts, clarity of explanation, absence of bias, and reproducibility all contribute to a strong validity of the conclusion.\n",
            "\n",
            "--------------------------------------------------\n",
            "\n"
          ]
        }
      ],
      "source": [
        "def solve_problem(problem):\n",
        "    \"\"\"\n",
        "    Solve a problem using multiple reasoning paths, aggregation, and self-consistency check.\n",
        "\n",
        "    Args:\n",
        "    problem (str): The problem statement.\n",
        "\n",
        "    Returns:\n",
        "    tuple: (aggregated_result, consistency_evaluation)\n",
        "    \"\"\"\n",
        "    paths = generate_multiple_paths(problem)\n",
        "    aggregated_result = aggregate_results(paths)\n",
        "    consistency_evaluation = self_consistency_check(problem, aggregated_result)\n",
        "    return aggregated_result, consistency_evaluation\n",
        "\n",
        "# Example problems\n",
        "problems = [\n",
        "    \"What is the capital of France?\",\n",
        "    \"Explain the concept of supply and demand in economics.\",\n",
        "    \"If a train travels at 60 km/h, how long will it take to cover 180 km?\"\n",
        "]\n",
        "\n",
        "for problem in problems:\n",
        "    print(f\"Problem: {problem}\")\n",
        "    result, evaluation = solve_problem(problem)\n",
        "    print(\"Aggregated Result:\\n\", result)\n",
        "    print(\"\\nConsistency Evaluation:\\n\", evaluation)\n",
        "    print(\"\\n\" + \"-\"*50 + \"\\n\")"
      ]
    }
  ],
  "metadata": {
    "kernelspec": {
      "display_name": ".venv",
      "language": "python",
      "name": "python3"
    },
    "language_info": {
      "codemirror_mode": {
        "name": "ipython",
        "version": 3
      },
      "file_extension": ".py",
      "mimetype": "text/x-python",
      "name": "python",
      "nbconvert_exporter": "python",
      "pygments_lexer": "ipython3",
      "version": "3.12.0"
    },
    "colab": {
      "provenance": [],
      "include_colab_link": true
    }
  },
  "nbformat": 4,
  "nbformat_minor": 0
}