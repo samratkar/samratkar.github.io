{
 "cells": [
  {
   "cell_type": "markdown",
   "metadata": {},
   "source": [
    "<iframe width=\"560\" height=\"315\" src=\"https://www.youtube.com/embed/vbeanwfm0Q4?si=Wv5wb0WS7z4Jbs9K\" title=\"YouTube video player\" frameborder=\"0\" allow=\"accelerometer; autoplay; clipboard-write; encrypted-media; gyroscope; picture-in-picture; web-share\" referrerpolicy=\"strict-origin-when-cross-origin\" allowfullscreen></iframe>"
   ]
  },
  {
   "cell_type": "code",
   "execution_count": null,
   "metadata": {},
   "outputs": [
    {
     "name": "stdout",
     "output_type": "stream",
     "text": [
      "2.3\n"
     ]
    }
   ],
   "source": [
    "# One neuron\n",
    "input = [1,2,3]\n",
    "weights = [0.2, 0.8, -0.5]\n",
    "bias = 2.0\n",
    "output = input[0]*weights[0] + input[1]*weights[1] + input[2]*weights[2] + bias\n",
    "print(output)"
   ]
  },
  {
   "cell_type": "markdown",
   "metadata": {},
   "source": [
    "<iframe width=\"560\" height=\"315\" src=\"https://www.youtube.com/embed/Uvngs6sWyBg?si=AjKHKXID42rcCIxi\" title=\"YouTube video player\" frameborder=\"0\" allow=\"accelerometer; autoplay; clipboard-write; encrypted-media; gyroscope; picture-in-picture; web-share\" referrerpolicy=\"strict-origin-when-cross-origin\" allowfullscreen></iframe>"
   ]
  },
  {
   "cell_type": "code",
   "execution_count": null,
   "metadata": {},
   "outputs": [
    {
     "name": "stdout",
     "output_type": "stream",
     "text": [
      "[4.800000000000001, 1.21, 2.385]\n"
     ]
    }
   ],
   "source": [
    "# Layer : 1\n",
    "# Inputs : 4 \n",
    "# Number of neurons in each layer : 3\n",
    "input = [1,2,3,2.5]\n",
    "# number of rows = number of neurons. number of columns = number of inputs\n",
    "# focus on the neuron, and consider it as a puller of strings of all inputs. So, all inputs need to be a list themselves.\n",
    "weights = [[0.2, 0.8, -0.5, 1.0],\n",
    "           [0.5, -0.91, 0.26, -0.5],\n",
    "           [-0.26, -0.27, 0.17, 0.87]]\n",
    "# biases = number of neurons in the layer\n",
    "biases = [2.0, 3.0, 0.5]\n",
    "output_l1 = []\n",
    "neuron_index = 0\n",
    "for neuron_index_w_list in weights:\n",
    "    # Calculate the dot product of inputs and weights for each neuron\n",
    "    s = sum(x * w for x, w in zip(input, neuron_index_w_list)) + biases[neuron_index]\n",
    "    output_l1.append(s)\n",
    "    neuron_index += 1\n",
    "print(output_l1)\n",
    "# Number of outputs = number of neurons in the layer.\n"
   ]
  },
  {
   "cell_type": "markdown",
   "metadata": {},
   "source": [
    "<iframe width=\"560\" height=\"315\" src=\"https://www.youtube.com/embed/z_fcBg6_bKU?si=C8b1hwy6x3RFArI6\" title=\"YouTube video player\" frameborder=\"0\" allow=\"accelerometer; autoplay; clipboard-write; encrypted-media; gyroscope; picture-in-picture; web-share\" referrerpolicy=\"strict-origin-when-cross-origin\" allowfullscreen></iframe>"
   ]
  },
  {
   "cell_type": "code",
   "execution_count": null,
   "metadata": {},
   "outputs": [],
   "source": [
    "# Dimensions : 1\n",
    "nodes = [3, 2, 5, 6] # 1 x 4 or just 4\n",
    "\n",
    "# Dimensions : 2\n",
    "nodes = [[3, 2, 5, 6],\n",
    "         [5,2,3, 8]] # 1 x 2 x 4 or just 2 x 4\n",
    "\n",
    "# Dimensions : 3\n",
    "nodes = [[[3, 2, 5, 6],\n",
    "          [5,2,3, 8]],\n",
    "         [[1,2,3,4],\n",
    "          [5,6,7,8]],\n",
    "         [[3,2,5,6],\n",
    "          [5,2,3,8]]] # 3 x 2 x 4"
   ]
  }
 ],
 "metadata": {
  "kernelspec": {
   "display_name": ".venv",
   "language": "python",
   "name": "python3"
  },
  "language_info": {
   "codemirror_mode": {
    "name": "ipython",
    "version": 3
   },
   "file_extension": ".py",
   "mimetype": "text/x-python",
   "name": "python",
   "nbconvert_exporter": "python",
   "pygments_lexer": "ipython3",
   "version": "3.12.9"
  }
 },
 "nbformat": 4,
 "nbformat_minor": 2
}
