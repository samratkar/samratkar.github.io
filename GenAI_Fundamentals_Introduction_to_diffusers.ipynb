{
  "cells": [
    {
      "cell_type": "markdown",
      "metadata": {
        "id": "view-in-github",
        "colab_type": "text"
      },
      "source": [
        "<a href=\"https://colab.research.google.com/github/samratkar/samratkar.github.io/blob/main/GenAI_Fundamentals_Introduction_to_diffusers.ipynb\" target=\"_parent\"><img src=\"https://colab.research.google.com/assets/colab-badge.svg\" alt=\"Open In Colab\"/></a>"
      ]
    },
    {
      "cell_type": "markdown",
      "metadata": {
        "id": "s7iq_p9RCron"
      },
      "source": [
        "# Introduction to 🤗 Diffusers\n",
        "\n",
        "![diffusers_library](https://github.com/huggingface/diffusers/raw/main/docs/source/en/imgs/diffusers_library.jpg)"
      ]
    },
    {
      "cell_type": "markdown",
      "metadata": {
        "id": "VIIZ7lbo1d2z"
      },
      "source": [
        "In this notebook, you'll train your first diffusion model to **generate images of butterflies 🦋.** Along the way, you'll learn about the core components of the 🤗 Diffusers library, which will provide a good foundation for the more advanced applications that we'll cover later in the course.\n",
        "\n",
        "Let's dive in!"
      ]
    },
    {
      "cell_type": "markdown",
      "metadata": {
        "id": "Uqw5IgeY1d20"
      },
      "source": [
        "## What You Will Learn\n",
        "\n",
        "In this notebook you will:\n",
        "\n",
        "- See a powerful custom diffusion model pipeline in action (with information on how to make your own version)\n",
        "- Create your own mini pipeline by:\n",
        "  - Recapping the core ideas behind diffusion models\n",
        "  - Loading in data from the Hub for training\n",
        "  - Exploring how we add noise to this data with a scheduler\n",
        "  - Creating and training the UNet model\n",
        "  - Putting the pieces together into a working pipeline\n"
      ]
    },
    {
      "cell_type": "markdown",
      "metadata": {
        "id": "zfA87mA93LLP"
      },
      "source": [
        "## Step 1: Setup"
      ]
    },
    {
      "cell_type": "markdown",
      "metadata": {
        "id": "pCoVNJtLI9KT"
      },
      "source": [
        "Run the following cell to install the diffusers library as well as a few other requirements:"
      ]
    },
    {
      "cell_type": "code",
      "execution_count": 1,
      "metadata": {
        "id": "Jw6-w4TB_7wg",
        "outputId": "e5082ffc-1ef1-454b-de6e-70c0f41f5fd3",
        "colab": {
          "base_uri": "https://localhost:8080/"
        }
      },
      "outputs": [
        {
          "output_type": "stream",
          "name": "stdout",
          "text": [
            "\u001b[?25l     \u001b[90m━━━━━━━━━━━━━━━━━━━━━━━━━━━━━━━━━━━━━━━━\u001b[0m \u001b[32m0.0/873.1 kB\u001b[0m \u001b[31m?\u001b[0m eta \u001b[36m-:--:--\u001b[0m\r\u001b[2K     \u001b[91m━━━━━━━━━━━━━━━━━━━━━━━━━━━━━━━━━━━━━━━\u001b[0m\u001b[91m╸\u001b[0m \u001b[32m870.4/873.1 kB\u001b[0m \u001b[31m39.2 MB/s\u001b[0m eta \u001b[36m0:00:01\u001b[0m\r\u001b[2K     \u001b[90m━━━━━━━━━━━━━━━━━━━━━━━━━━━━━━━━━━━━━━━━\u001b[0m \u001b[32m873.1/873.1 kB\u001b[0m \u001b[31m16.9 MB/s\u001b[0m eta \u001b[36m0:00:00\u001b[0m\n",
            "\u001b[?25h  Installing build dependencies ... \u001b[?25l\u001b[?25hdone\n",
            "  Getting requirements to build wheel ... \u001b[?25l\u001b[?25hdone\n",
            "  Preparing metadata (pyproject.toml) ... \u001b[?25l\u001b[?25hdone\n",
            "\u001b[2K   \u001b[90m━━━━━━━━━━━━━━━━━━━━━━━━━━━━━━━━━━━━━━━━\u001b[0m \u001b[32m507.1/507.1 kB\u001b[0m \u001b[31m39.4 MB/s\u001b[0m eta \u001b[36m0:00:00\u001b[0m\n",
            "\u001b[2K   \u001b[90m━━━━━━━━━━━━━━━━━━━━━━━━━━━━━━━━━━━━━━━━\u001b[0m \u001b[32m10.4/10.4 MB\u001b[0m \u001b[31m112.3 MB/s\u001b[0m eta \u001b[36m0:00:00\u001b[0m\n",
            "\u001b[2K   \u001b[90m━━━━━━━━━━━━━━━━━━━━━━━━━━━━━━━━━━━━━━━━\u001b[0m \u001b[32m354.7/354.7 kB\u001b[0m \u001b[31m28.3 MB/s\u001b[0m eta \u001b[36m0:00:00\u001b[0m\n",
            "\u001b[2K   \u001b[90m━━━━━━━━━━━━━━━━━━━━━━━━━━━━━━━━━━━━━━━━\u001b[0m \u001b[32m44.8/44.8 kB\u001b[0m \u001b[31m3.6 MB/s\u001b[0m eta \u001b[36m0:00:00\u001b[0m\n",
            "\u001b[2K   \u001b[90m━━━━━━━━━━━━━━━━━━━━━━━━━━━━━━━━━━━━━━━━\u001b[0m \u001b[32m115.3/115.3 kB\u001b[0m \u001b[31m10.1 MB/s\u001b[0m eta \u001b[36m0:00:00\u001b[0m\n",
            "\u001b[2K   \u001b[90m━━━━━━━━━━━━━━━━━━━━━━━━━━━━━━━━━━━━━━━━\u001b[0m \u001b[32m166.4/166.4 kB\u001b[0m \u001b[31m15.6 MB/s\u001b[0m eta \u001b[36m0:00:00\u001b[0m\n",
            "\u001b[2K   \u001b[90m━━━━━━━━━━━━━━━━━━━━━━━━━━━━━━━━━━━━━━━━\u001b[0m \u001b[32m363.4/363.4 MB\u001b[0m \u001b[31m4.1 MB/s\u001b[0m eta \u001b[36m0:00:00\u001b[0m\n",
            "\u001b[2K   \u001b[90m━━━━━━━━━━━━━━━━━━━━━━━━━━━━━━━━━━━━━━━━\u001b[0m \u001b[32m13.8/13.8 MB\u001b[0m \u001b[31m101.8 MB/s\u001b[0m eta \u001b[36m0:00:00\u001b[0m\n",
            "\u001b[2K   \u001b[90m━━━━━━━━━━━━━━━━━━━━━━━━━━━━━━━━━━━━━━━━\u001b[0m \u001b[32m24.6/24.6 MB\u001b[0m \u001b[31m80.0 MB/s\u001b[0m eta \u001b[36m0:00:00\u001b[0m\n",
            "\u001b[2K   \u001b[90m━━━━━━━━━━━━━━━━━━━━━━━━━━━━━━━━━━━━━━━━\u001b[0m \u001b[32m883.7/883.7 kB\u001b[0m \u001b[31m55.0 MB/s\u001b[0m eta \u001b[36m0:00:00\u001b[0m\n",
            "\u001b[2K   \u001b[90m━━━━━━━━━━━━━━━━━━━━━━━━━━━━━━━━━━━━━━━━\u001b[0m \u001b[32m664.8/664.8 MB\u001b[0m \u001b[31m2.0 MB/s\u001b[0m eta \u001b[36m0:00:00\u001b[0m\n",
            "\u001b[2K   \u001b[90m━━━━━━━━━━━━━━━━━━━━━━━━━━━━━━━━━━━━━━━━\u001b[0m \u001b[32m211.5/211.5 MB\u001b[0m \u001b[31m5.6 MB/s\u001b[0m eta \u001b[36m0:00:00\u001b[0m\n",
            "\u001b[2K   \u001b[90m━━━━━━━━━━━━━━━━━━━━━━━━━━━━━━━━━━━━━━━━\u001b[0m \u001b[32m56.3/56.3 MB\u001b[0m \u001b[31m14.5 MB/s\u001b[0m eta \u001b[36m0:00:00\u001b[0m\n",
            "\u001b[2K   \u001b[90m━━━━━━━━━━━━━━━━━━━━━━━━━━━━━━━━━━━━━━━━\u001b[0m \u001b[32m127.9/127.9 MB\u001b[0m \u001b[31m7.7 MB/s\u001b[0m eta \u001b[36m0:00:00\u001b[0m\n",
            "\u001b[2K   \u001b[90m━━━━━━━━━━━━━━━━━━━━━━━━━━━━━━━━━━━━━━━━\u001b[0m \u001b[32m207.5/207.5 MB\u001b[0m \u001b[31m5.7 MB/s\u001b[0m eta \u001b[36m0:00:00\u001b[0m\n",
            "\u001b[2K   \u001b[90m━━━━━━━━━━━━━━━━━━━━━━━━━━━━━━━━━━━━━━━━\u001b[0m \u001b[32m21.1/21.1 MB\u001b[0m \u001b[31m87.4 MB/s\u001b[0m eta \u001b[36m0:00:00\u001b[0m\n",
            "\u001b[2K   \u001b[90m━━━━━━━━━━━━━━━━━━━━━━━━━━━━━━━━━━━━━━━━\u001b[0m \u001b[32m135.4/135.4 kB\u001b[0m \u001b[31m13.0 MB/s\u001b[0m eta \u001b[36m0:00:00\u001b[0m\n",
            "\u001b[2K   \u001b[90m━━━━━━━━━━━━━━━━━━━━━━━━━━━━━━━━━━━━━━━━\u001b[0m \u001b[32m194.8/194.8 kB\u001b[0m \u001b[31m17.9 MB/s\u001b[0m eta \u001b[36m0:00:00\u001b[0m\n",
            "\u001b[?25h  \u001b[1;31merror\u001b[0m: \u001b[1msubprocess-exited-with-error\u001b[0m\n",
            "  \n",
            "  \u001b[31m×\u001b[0m \u001b[32mBuilding wheel for pyarrow \u001b[0m\u001b[1;32m(\u001b[0m\u001b[32mpyproject.toml\u001b[0m\u001b[1;32m)\u001b[0m did not run successfully.\n",
            "  \u001b[31m│\u001b[0m exit code: \u001b[1;36m1\u001b[0m\n",
            "  \u001b[31m╰─>\u001b[0m See above for output.\n",
            "  \n",
            "  \u001b[1;35mnote\u001b[0m: This error originates from a subprocess, and is likely not a problem with pip.\n",
            "  Building wheel for pyarrow (pyproject.toml) ... \u001b[?25l\u001b[?25herror\n",
            "\u001b[31m  ERROR: Failed building wheel for pyarrow\u001b[0m\u001b[31m\n",
            "\u001b[0m\u001b[31mERROR: ERROR: Failed to build installable wheels for some pyproject.toml based projects (pyarrow)\u001b[0m\u001b[31m\n",
            "\u001b[0m"
          ]
        }
      ],
      "source": [
        "%pip install -qq -U diffusers datasets transformers accelerate ftfy pyarrow==9.0.0"
      ]
    },
    {
      "cell_type": "markdown",
      "metadata": {
        "id": "QJfU9oqZDscp"
      },
      "source": [
        "Next, head over to https://huggingface.co/settings/tokens and create an access token with write permission if you don't already have one:"
      ]
    },
    {
      "cell_type": "markdown",
      "metadata": {
        "id": "oa0RbEt5D9sz"
      },
      "source": [
        "![Screenshot from 2022-11-10 12-23-34.png](data:image/png;base64,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)"
      ]
    },
    {
      "cell_type": "markdown",
      "metadata": {
        "id": "9CDekhLrETH2"
      },
      "source": [
        "You can login with this token using the command line (`huggingface-cli login`) or by running the following cell:"
      ]
    },
    {
      "cell_type": "code",
      "execution_count": 2,
      "metadata": {
        "colab": {
          "base_uri": "https://localhost:8080/",
          "height": 17,
          "referenced_widgets": [
            "2fa0f55b1a604a0e99b51aea1bc180c3",
            "d6e2c457abb847fcb8a1f3ae0178866b",
            "dec5d668733a4ee3b610c121542fdf38",
            "fff6efb3df184c84ba86d6e49295c4e5",
            "803b76ab1290498d9e963912dfee5441",
            "b2de8d14d7714c02946dd85aa324c1cf",
            "8a857d670a6f45b68acb4513e3b4977d",
            "2aeb2ed34792489fae338e1cbafbf289",
            "92aa8e1a27d542158640287ba20cada7",
            "1dddf98cd5c44a4aa7f77c665e32fedd",
            "d14240fcfd1e4d83ad50939d03ae33b5",
            "70903aac79934567b34b5cceed05269f",
            "a872eb0790c448619d7cfb55707fe3d7",
            "538c0f9b5cb14177a2dfc6c9460cfe88",
            "c45945ccc6984779bea7d636c428b424",
            "1ed1768212b04e529b6bf7e84b0a0b52",
            "6db7301af9064e29b6da3d337023be6e",
            "4958f8eab3c04204ac217b0ffe6c7846",
            "40d2626d068b4100b6c79f004fdc6e72",
            "eb71e4a4d8e145ba838ac151d3da0126"
          ]
        },
        "id": "FlX4eeECD9HO",
        "outputId": "f9cfe3c8-c45e-46e6-a6ae-17f6fba7fbdf"
      },
      "outputs": [
        {
          "output_type": "display_data",
          "data": {
            "text/plain": [
              "VBox(children=(HTML(value='<center> <img\\nsrc=https://huggingface.co/front/assets/huggingface_logo-noborder.sv…"
            ],
            "application/vnd.jupyter.widget-view+json": {
              "version_major": 2,
              "version_minor": 0,
              "model_id": "2fa0f55b1a604a0e99b51aea1bc180c3"
            }
          },
          "metadata": {}
        }
      ],
      "source": [
        "from huggingface_hub import notebook_login\n",
        "\n",
        "notebook_login()"
      ]
    },
    {
      "cell_type": "markdown",
      "metadata": {
        "id": "Wnl9AGwC1d28"
      },
      "source": [
        "Then you need to install Git-LFS to upload your model checkpoints:"
      ]
    },
    {
      "cell_type": "code",
      "execution_count": 3,
      "metadata": {
        "id": "-GU05YUq1d28"
      },
      "outputs": [],
      "source": [
        "%%capture\n",
        "!sudo apt -qq install git-lfs\n",
        "!git config --global credential.helper store"
      ]
    },
    {
      "cell_type": "markdown",
      "metadata": {
        "id": "9bR764bDIaDh"
      },
      "source": [
        "Finally, let's import the libraries we'll be using and define a few convenience functions which we'll use later in the notebook:"
      ]
    },
    {
      "cell_type": "code",
      "execution_count": 4,
      "metadata": {
        "id": "VXhqi_hNcpk_"
      },
      "outputs": [],
      "source": [
        "import numpy as np\n",
        "import torch\n",
        "import torch.nn.functional as F\n",
        "from matplotlib import pyplot as plt\n",
        "from PIL import Image\n",
        "\n",
        "\n",
        "def show_images(x):\n",
        "    \"\"\"Given a batch of images x, make a grid and convert to PIL\"\"\"\n",
        "    x = x * 0.5 + 0.5  # Map from (-1, 1) back to (0, 1)\n",
        "    grid = torchvision.utils.make_grid(x)\n",
        "    grid_im = grid.detach().cpu().permute(1, 2, 0).clip(0, 1) * 255\n",
        "    grid_im = Image.fromarray(np.array(grid_im).astype(np.uint8))\n",
        "    return grid_im\n",
        "\n",
        "\n",
        "def make_grid(images, size=64):\n",
        "    \"\"\"Given a list of PIL images, stack them together into a line for easy viewing\"\"\"\n",
        "    output_im = Image.new(\"RGB\", (size * len(images), size))\n",
        "    for i, im in enumerate(images):\n",
        "        output_im.paste(im.resize((size, size)), (i * size, 0))\n",
        "    return output_im\n",
        "\n",
        "\n",
        "# Mac users may need device = 'mps' (untested)\n",
        "device = torch.device(\"cuda\" if torch.cuda.is_available() else \"cpu\")"
      ]
    },
    {
      "cell_type": "markdown",
      "metadata": {
        "id": "cir1ABwMI2yI"
      },
      "source": [
        "OK, we're all set!"
      ]
    },
    {
      "cell_type": "markdown",
      "metadata": {
        "id": "s09TpWIAglM9"
      },
      "source": [
        "Let's take a look at how we can train a diffusion model from scratch."
      ]
    },
    {
      "cell_type": "markdown",
      "metadata": {
        "id": "QOvw1ej7suWg"
      },
      "source": [
        "## Step 2: Download a training dataset\n",
        "\n",
        "For this example, we'll use a dataset of images from the Hugging Face Hub. Specifically, [this collection of 1000 butterfly pictures](https://huggingface.co/datasets/huggan/smithsonian_butterflies_subset). This is a very small dataset, so we've also included commented out lines for a few larger options. If you'd prefer to use your own collection of images, you can also use the commented-out code example to load in pictures from a folder instead."
      ]
    },
    {
      "cell_type": "code",
      "execution_count": 5,
      "metadata": {
        "colab": {
          "base_uri": "https://localhost:8080/",
          "height": 1000,
          "referenced_widgets": [
            "8622740038bd457b9638d8eb41abc1a8",
            "eeac0a1c9b644516ab1205effccd0f7f",
            "2a56d15f41064ae19d5ac221aa2ba5bf",
            "c5d7ee14baed4cbab5176f013f6c310b",
            "cdbb471469bf419bb2896c31666a41b0",
            "0d565b3afe43413697037e9306faf67a",
            "4c406b8e5de14a6b98d41d3a9631131e",
            "fe5eb8228bd54981b9336f50cb9c5402",
            "39b40e59773c44c8ba2c88e24b8f5051",
            "a2db241d9abf4570b2430b9ba23109e6",
            "e9efc2c553f54854b1fb8fe888a9cb7c",
            "591d9d345fec42629fef2c7eb2f187c5",
            "33bdaecd97ba4b1abd442a086c0a0404",
            "0d70a883f00d4075b4f958a81c315294",
            "571d72dc27604ba1ad9c3b588d75d4da",
            "0c5b0a07cafb487d8e8d616614dd4996",
            "89680bf5604d466b84b0fda5118d4dd9",
            "e1b961814fb94eb9a845ecfc839a05d5",
            "8ed1d8715b724efa920fd487e2e3c0ef",
            "ed9c88b000214af595cb8dd3a67b09e2",
            "1f5e42c415fe42479e24a198fbe175d7",
            "6a5f332cc07a4ae4b26f67decaf8e23e",
            "24cb55cf0dde47fc93a32c481ae9f9bf",
            "ca99b2b994244cb9bd9aaeb9133636da",
            "939fec73bc884391a3fc772fd3b11655",
            "3308656091764835b0f167ba04fb3cbb",
            "7b76671f758e4f2fa4426d0430fcbc65",
            "4d84176bc5634509a71e8d010546fdec",
            "8669aed87b41441b91a46aac805ec641",
            "a6c8d91cec9047e4b69793d3911f83e4",
            "e06bb05a4f7448e29da120c15e901285",
            "ef857f2e65bd410297ffa38f3974e658",
            "5f2cf283e673434b859fb166a2354de2",
            "af784ee2337d4ddbb391be95e611cc37",
            "75aa978fd8564db592e4d8fa13b10c24",
            "2e3680bd913740dcbb0107d93357b40a",
            "12774d25280f4580afc2d6ecff89e8f5",
            "4553c020540e4c72a903e4646868f334",
            "3379d713f1df4fb1983e2a5ff5293d24",
            "cdcb0a1117b0490298be8bdd56c80cf8",
            "4d8a63d6929c439ab9fcdf6438facaa8",
            "43a94d860b5341b08ce591917e9644e3",
            "3aa109ff046e458da4a83e19b5f8a9c6",
            "7309011ac3794eeaa79c1d1dd5ca317e"
          ]
        },
        "id": "-yX-MZhSsxwp",
        "outputId": "802cfebd-8406-49d6-d823-3bd5e7180af9"
      },
      "outputs": [
        {
          "output_type": "stream",
          "name": "stdout",
          "text": [
            "Collecting datasets\n",
            "  Using cached datasets-3.5.0-py3-none-any.whl.metadata (19 kB)\n",
            "Requirement already satisfied: filelock in /usr/local/lib/python3.11/dist-packages (from datasets) (3.18.0)\n",
            "Requirement already satisfied: numpy>=1.17 in /usr/local/lib/python3.11/dist-packages (from datasets) (2.0.2)\n",
            "Requirement already satisfied: pyarrow>=15.0.0 in /usr/local/lib/python3.11/dist-packages (from datasets) (18.1.0)\n",
            "Collecting dill<0.3.9,>=0.3.0 (from datasets)\n",
            "  Downloading dill-0.3.8-py3-none-any.whl.metadata (10 kB)\n",
            "Requirement already satisfied: pandas in /usr/local/lib/python3.11/dist-packages (from datasets) (2.2.2)\n",
            "Requirement already satisfied: requests>=2.32.2 in /usr/local/lib/python3.11/dist-packages (from datasets) (2.32.3)\n",
            "Requirement already satisfied: tqdm>=4.66.3 in /usr/local/lib/python3.11/dist-packages (from datasets) (4.67.1)\n",
            "Collecting xxhash (from datasets)\n",
            "  Using cached xxhash-3.5.0-cp311-cp311-manylinux_2_17_x86_64.manylinux2014_x86_64.whl.metadata (12 kB)\n",
            "Collecting multiprocess<0.70.17 (from datasets)\n",
            "  Using cached multiprocess-0.70.16-py311-none-any.whl.metadata (7.2 kB)\n",
            "Collecting fsspec<=2024.12.0,>=2023.1.0 (from fsspec[http]<=2024.12.0,>=2023.1.0->datasets)\n",
            "  Downloading fsspec-2024.12.0-py3-none-any.whl.metadata (11 kB)\n",
            "Requirement already satisfied: aiohttp in /usr/local/lib/python3.11/dist-packages (from datasets) (3.11.15)\n",
            "Requirement already satisfied: huggingface-hub>=0.24.0 in /usr/local/lib/python3.11/dist-packages (from datasets) (0.30.1)\n",
            "Requirement already satisfied: packaging in /usr/local/lib/python3.11/dist-packages (from datasets) (24.2)\n",
            "Requirement already satisfied: pyyaml>=5.1 in /usr/local/lib/python3.11/dist-packages (from datasets) (6.0.2)\n",
            "Requirement already satisfied: aiohappyeyeballs>=2.3.0 in /usr/local/lib/python3.11/dist-packages (from aiohttp->datasets) (2.6.1)\n",
            "Requirement already satisfied: aiosignal>=1.1.2 in /usr/local/lib/python3.11/dist-packages (from aiohttp->datasets) (1.3.2)\n",
            "Requirement already satisfied: attrs>=17.3.0 in /usr/local/lib/python3.11/dist-packages (from aiohttp->datasets) (25.3.0)\n",
            "Requirement already satisfied: frozenlist>=1.1.1 in /usr/local/lib/python3.11/dist-packages (from aiohttp->datasets) (1.5.0)\n",
            "Requirement already satisfied: multidict<7.0,>=4.5 in /usr/local/lib/python3.11/dist-packages (from aiohttp->datasets) (6.3.1)\n",
            "Requirement already satisfied: propcache>=0.2.0 in /usr/local/lib/python3.11/dist-packages (from aiohttp->datasets) (0.3.1)\n",
            "Requirement already satisfied: yarl<2.0,>=1.17.0 in /usr/local/lib/python3.11/dist-packages (from aiohttp->datasets) (1.18.3)\n",
            "Requirement already satisfied: typing-extensions>=3.7.4.3 in /usr/local/lib/python3.11/dist-packages (from huggingface-hub>=0.24.0->datasets) (4.13.0)\n",
            "Requirement already satisfied: charset-normalizer<4,>=2 in /usr/local/lib/python3.11/dist-packages (from requests>=2.32.2->datasets) (3.4.1)\n",
            "Requirement already satisfied: idna<4,>=2.5 in /usr/local/lib/python3.11/dist-packages (from requests>=2.32.2->datasets) (3.10)\n",
            "Requirement already satisfied: urllib3<3,>=1.21.1 in /usr/local/lib/python3.11/dist-packages (from requests>=2.32.2->datasets) (2.3.0)\n",
            "Requirement already satisfied: certifi>=2017.4.17 in /usr/local/lib/python3.11/dist-packages (from requests>=2.32.2->datasets) (2025.1.31)\n",
            "Requirement already satisfied: python-dateutil>=2.8.2 in /usr/local/lib/python3.11/dist-packages (from pandas->datasets) (2.8.2)\n",
            "Requirement already satisfied: pytz>=2020.1 in /usr/local/lib/python3.11/dist-packages (from pandas->datasets) (2025.2)\n",
            "Requirement already satisfied: tzdata>=2022.7 in /usr/local/lib/python3.11/dist-packages (from pandas->datasets) (2025.2)\n",
            "Requirement already satisfied: six>=1.5 in /usr/local/lib/python3.11/dist-packages (from python-dateutil>=2.8.2->pandas->datasets) (1.17.0)\n",
            "Downloading datasets-3.5.0-py3-none-any.whl (491 kB)\n",
            "\u001b[2K   \u001b[90m━━━━━━━━━━━━━━━━━━━━━━━━━━━━━━━━━━━━━━━━\u001b[0m \u001b[32m491.2/491.2 kB\u001b[0m \u001b[31m11.6 MB/s\u001b[0m eta \u001b[36m0:00:00\u001b[0m\n",
            "\u001b[?25hDownloading dill-0.3.8-py3-none-any.whl (116 kB)\n",
            "\u001b[2K   \u001b[90m━━━━━━━━━━━━━━━━━━━━━━━━━━━━━━━━━━━━━━━━\u001b[0m \u001b[32m116.3/116.3 kB\u001b[0m \u001b[31m11.1 MB/s\u001b[0m eta \u001b[36m0:00:00\u001b[0m\n",
            "\u001b[?25hDownloading fsspec-2024.12.0-py3-none-any.whl (183 kB)\n",
            "\u001b[2K   \u001b[90m━━━━━━━━━━━━━━━━━━━━━━━━━━━━━━━━━━━━━━━━\u001b[0m \u001b[32m183.9/183.9 kB\u001b[0m \u001b[31m18.0 MB/s\u001b[0m eta \u001b[36m0:00:00\u001b[0m\n",
            "\u001b[?25hDownloading multiprocess-0.70.16-py311-none-any.whl (143 kB)\n",
            "\u001b[2K   \u001b[90m━━━━━━━━━━━━━━━━━━━━━━━━━━━━━━━━━━━━━━━━\u001b[0m \u001b[32m143.5/143.5 kB\u001b[0m \u001b[31m14.0 MB/s\u001b[0m eta \u001b[36m0:00:00\u001b[0m\n",
            "\u001b[?25hUsing cached xxhash-3.5.0-cp311-cp311-manylinux_2_17_x86_64.manylinux2014_x86_64.whl (194 kB)\n",
            "Installing collected packages: xxhash, fsspec, dill, multiprocess, datasets\n",
            "  Attempting uninstall: fsspec\n",
            "    Found existing installation: fsspec 2025.3.2\n",
            "    Uninstalling fsspec-2025.3.2:\n",
            "      Successfully uninstalled fsspec-2025.3.2\n",
            "\u001b[31mERROR: pip's dependency resolver does not currently take into account all the packages that are installed. This behaviour is the source of the following dependency conflicts.\n",
            "torch 2.6.0+cu124 requires nvidia-cublas-cu12==12.4.5.8; platform_system == \"Linux\" and platform_machine == \"x86_64\", but you have nvidia-cublas-cu12 12.5.3.2 which is incompatible.\n",
            "torch 2.6.0+cu124 requires nvidia-cuda-cupti-cu12==12.4.127; platform_system == \"Linux\" and platform_machine == \"x86_64\", but you have nvidia-cuda-cupti-cu12 12.5.82 which is incompatible.\n",
            "torch 2.6.0+cu124 requires nvidia-cuda-nvrtc-cu12==12.4.127; platform_system == \"Linux\" and platform_machine == \"x86_64\", but you have nvidia-cuda-nvrtc-cu12 12.5.82 which is incompatible.\n",
            "torch 2.6.0+cu124 requires nvidia-cuda-runtime-cu12==12.4.127; platform_system == \"Linux\" and platform_machine == \"x86_64\", but you have nvidia-cuda-runtime-cu12 12.5.82 which is incompatible.\n",
            "torch 2.6.0+cu124 requires nvidia-cudnn-cu12==9.1.0.70; platform_system == \"Linux\" and platform_machine == \"x86_64\", but you have nvidia-cudnn-cu12 9.3.0.75 which is incompatible.\n",
            "torch 2.6.0+cu124 requires nvidia-cufft-cu12==11.2.1.3; platform_system == \"Linux\" and platform_machine == \"x86_64\", but you have nvidia-cufft-cu12 11.2.3.61 which is incompatible.\n",
            "torch 2.6.0+cu124 requires nvidia-curand-cu12==10.3.5.147; platform_system == \"Linux\" and platform_machine == \"x86_64\", but you have nvidia-curand-cu12 10.3.6.82 which is incompatible.\n",
            "torch 2.6.0+cu124 requires nvidia-cusolver-cu12==11.6.1.9; platform_system == \"Linux\" and platform_machine == \"x86_64\", but you have nvidia-cusolver-cu12 11.6.3.83 which is incompatible.\n",
            "torch 2.6.0+cu124 requires nvidia-cusparse-cu12==12.3.1.170; platform_system == \"Linux\" and platform_machine == \"x86_64\", but you have nvidia-cusparse-cu12 12.5.1.3 which is incompatible.\n",
            "torch 2.6.0+cu124 requires nvidia-nvjitlink-cu12==12.4.127; platform_system == \"Linux\" and platform_machine == \"x86_64\", but you have nvidia-nvjitlink-cu12 12.5.82 which is incompatible.\n",
            "gcsfs 2025.3.2 requires fsspec==2025.3.2, but you have fsspec 2024.12.0 which is incompatible.\u001b[0m\u001b[31m\n",
            "\u001b[0mSuccessfully installed datasets-3.5.0 dill-0.3.8 fsspec-2024.12.0 multiprocess-0.70.16 xxhash-3.5.0\n"
          ]
        },
        {
          "output_type": "stream",
          "name": "stderr",
          "text": [
            "/usr/local/lib/python3.11/dist-packages/huggingface_hub/utils/_auth.py:94: UserWarning: \n",
            "The secret `HF_TOKEN` does not exist in your Colab secrets.\n",
            "To authenticate with the Hugging Face Hub, create a token in your settings tab (https://huggingface.co/settings/tokens), set it as secret in your Google Colab and restart your session.\n",
            "You will be able to reuse this secret in all of your notebooks.\n",
            "Please note that authentication is recommended but still optional to access public models or datasets.\n",
            "  warnings.warn(\n"
          ]
        },
        {
          "output_type": "display_data",
          "data": {
            "text/plain": [
              "README.md:   0%|          | 0.00/609 [00:00<?, ?B/s]"
            ],
            "application/vnd.jupyter.widget-view+json": {
              "version_major": 2,
              "version_minor": 0,
              "model_id": "8622740038bd457b9638d8eb41abc1a8"
            }
          },
          "metadata": {}
        },
        {
          "output_type": "stream",
          "name": "stderr",
          "text": [
            "Repo card metadata block was not found. Setting CardData to empty.\n",
            "WARNING:huggingface_hub.repocard:Repo card metadata block was not found. Setting CardData to empty.\n"
          ]
        },
        {
          "output_type": "display_data",
          "data": {
            "text/plain": [
              "dataset_infos.json:   0%|          | 0.00/1.65k [00:00<?, ?B/s]"
            ],
            "application/vnd.jupyter.widget-view+json": {
              "version_major": 2,
              "version_minor": 0,
              "model_id": "591d9d345fec42629fef2c7eb2f187c5"
            }
          },
          "metadata": {}
        },
        {
          "output_type": "display_data",
          "data": {
            "text/plain": [
              "train-00000-of-00001.parquet:   0%|          | 0.00/237M [00:00<?, ?B/s]"
            ],
            "application/vnd.jupyter.widget-view+json": {
              "version_major": 2,
              "version_minor": 0,
              "model_id": "24cb55cf0dde47fc93a32c481ae9f9bf"
            }
          },
          "metadata": {}
        },
        {
          "output_type": "display_data",
          "data": {
            "text/plain": [
              "Generating train split:   0%|          | 0/1000 [00:00<?, ? examples/s]"
            ],
            "application/vnd.jupyter.widget-view+json": {
              "version_major": 2,
              "version_minor": 0,
              "model_id": "af784ee2337d4ddbb391be95e611cc37"
            }
          },
          "metadata": {}
        }
      ],
      "source": [
        "import torchvision\n",
        "!pip install datasets\n",
        "\n",
        "from datasets import load_dataset\n",
        "from torchvision import transforms\n",
        "\n",
        "dataset = load_dataset(\"huggan/smithsonian_butterflies_subset\", split=\"train\")\n",
        "\n",
        "# Or load images from a local folder\n",
        "# dataset = load_dataset(\"imagefolder\", data_dir=\"path/to/folder\")\n",
        "\n",
        "# We'll train on 32-pixel square images, but you can try larger sizes too\n",
        "image_size = 32\n",
        "# You can lower your batch size if you're running out of GPU memory\n",
        "batch_size = 64\n",
        "\n",
        "# Define data augmentations\n",
        "preprocess = transforms.Compose(\n",
        "    [\n",
        "        transforms.Resize((image_size, image_size)),  # Resize\n",
        "        transforms.RandomHorizontalFlip(),  # Randomly flip (data augmentation)\n",
        "        transforms.ToTensor(),  # Convert to tensor (0, 1)\n",
        "        transforms.Normalize([0.5], [0.5]),  # Map to (-1, 1)\n",
        "    ]\n",
        ")\n",
        "\n",
        "\n",
        "def transform(examples):\n",
        "    images = [preprocess(image.convert(\"RGB\")) for image in examples[\"image\"]]\n",
        "    return {\"images\": images}\n",
        "\n",
        "\n",
        "dataset.set_transform(transform)\n",
        "\n",
        "# Create a dataloader from the dataset to serve up the transformed images in batches\n",
        "train_dataloader = torch.utils.data.DataLoader(\n",
        "    dataset, batch_size=batch_size, shuffle=True\n",
        ")"
      ]
    },
    {
      "cell_type": "markdown",
      "metadata": {
        "id": "-T5nDp9XN4FR"
      },
      "source": [
        "We can grab a batch of images and view some of them like so:"
      ]
    },
    {
      "cell_type": "code",
      "execution_count": 6,
      "metadata": {
        "colab": {
          "base_uri": "https://localhost:8080/",
          "height": 98
        },
        "id": "IEjN9CJpcrxd",
        "outputId": "aed8209a-19b5-45c4-cebd-202bfb88d27f"
      },
      "outputs": [
        {
          "output_type": "stream",
          "name": "stdout",
          "text": [
            "X shape: torch.Size([8, 3, 32, 32])\n"
          ]
        },
        {
          "output_type": "execute_result",
          "data": {
            "text/plain": [
              "<PIL.Image.Image image mode=RGB size=512x64>"
            ],
            "image/png": "[encoded data removed]",
            "image/jpeg": "[encoded data removed]"
          },
          "metadata": {},
          "execution_count": 6
        }
      ],
      "source": [
        "xb = next(iter(train_dataloader))[\"images\"].to(device)[:8]\n",
        "print(\"X shape:\", xb.shape)\n",
        "show_images(xb).resize((8 * 64, 64), resample=Image.NEAREST)"
      ]
    },
    {
      "cell_type": "markdown",
      "metadata": {
        "id": "FSPVe2DOOHXq"
      },
      "source": [
        "We're sticking to a small dataset with 32 pixel images to keep training times manageable in this notebook."
      ]
    },
    {
      "cell_type": "markdown",
      "metadata": {
        "id": "ZUImroTysoxp"
      },
      "source": [
        "## Step 3: Define the Scheduler\n",
        "\n",
        "Our plan for training is to take these input images and add noise to them, then feed the noisy images to the model. And during inference, we will use the model predictions to iteratively remove noise. In `diffusers`,  these processes are both handled by the **scheduler**.\n",
        "\n",
        "The noise schedule determines how much noise is added at different timesteps. Here's how we might create a scheduler using the default settings for 'DDPM' training and sampling (based on the paper [\"Denoising Diffusion Probabilistic Models\"](https://arxiv.org/abs/2006.11239)):"
      ]
    },
    {
      "cell_type": "code",
      "execution_count": 7,
      "metadata": {
        "id": "ETMq70tpyEtj"
      },
      "outputs": [],
      "source": [
        "from diffusers import DDPMScheduler\n",
        "\n",
        "noise_scheduler = DDPMScheduler(num_train_timesteps=1000)"
      ]
    },
    {
      "cell_type": "markdown",
      "metadata": {
        "id": "4995PVTlyIm1"
      },
      "source": [
        "The DDPM paper describes a corruption process that adds a small amount of noise for every 'timestep'. Given $x_{t-1}$ for some timestep, we can get the next (slightly more noisy) version $x_t$ with:<br><br>\n",
        "\n",
        "$q(\\mathbf{x}_t \\vert \\mathbf{x}_{t-1}) = \\mathbf{N}(\\mathbf{x}_t; \\sqrt{1 - \\beta_t} \\mathbf{x}_{t-1}, \\beta_t\\mathbf{I}) \\quad\n",
        "q(\\mathbf{x}_{1:T} \\vert \\mathbf{x}_0) = \\prod^T_{t=1} q(\\mathbf{x}_t \\vert \\mathbf{x}_{t-1})$<br><br>\n",
        "\n",
        "\n",
        "That is, we take $x_{t-1}$, scale it by $\\sqrt{1 - \\beta_t}$ and add noise scaled by $\\beta_t$. This $\\beta$ is defined for every t according to some schedule, and determines how much noise is added per timestep. Now, we don't necessarily want to do this operation 500 times to get $x_{500}$ so we have another formula to get $x_t$ for any t given $x_0$: <br><br>\n",
        "\n",
        "$\\begin{aligned}\n",
        "q(\\mathbf{x}_t \\vert \\mathbf{x}_0) &= \\mathbf{N}(\\mathbf{x}_t; \\sqrt{\\bar{\\alpha}_t} \\mathbf{x}_0, {(1 - \\bar{\\alpha}_t)} \\mathbf{I})\n",
        "\\end{aligned}$ where $\\bar{\\alpha}_t = \\prod_{i=1}^T \\alpha_i$ and $\\alpha_i = 1-\\beta_i$<br><br>\n",
        "\n",
        "The maths notation always looks scary! Luckily the scheduler handles all that for us. We can plot $\\sqrt{\\bar{\\alpha}_t}$ (labelled as `sqrt_alpha_prod`) and $\\sqrt{(1 - \\bar{\\alpha}_t)}$ (labelled as `sqrt_one_minus_alpha_prod`) to view how the input (x) and the noise are scaled and mixed across different timesteps:"
      ]
    },
    {
      "cell_type": "code",
      "execution_count": null,
      "metadata": {
        "colab": {
          "base_uri": "https://localhost:8080/",
          "height": 430
        },
        "id": "oP-rFQUzdx9h",
        "outputId": "2695d624-5aee-4325-e4a8-84f84bc3aaca"
      },
      "outputs": [
        {
          "output_type": "display_data",
          "data": {
            "text/plain": [
              "<Figure size 640x480 with 1 Axes>"
            ],
            "image/png": "[encoded data removed]"
          },
          "metadata": {}
        }
      ],
      "source": [
        "plt.plot(noise_scheduler.alphas_cumprod.cpu() ** 0.5, label=r\"${\\sqrt{\\bar{\\alpha}_t}}$\")\n",
        "plt.plot((1 - noise_scheduler.alphas_cumprod.cpu()) ** 0.5, label=r\"$\\sqrt{(1 - \\bar{\\alpha}_t)}$\")\n",
        "plt.legend(fontsize=\"x-large\");"
      ]
    },
    {
      "cell_type": "markdown",
      "metadata": {
        "id": "dRuwInQcyfSQ"
      },
      "source": [
        "**Exercise:** You can explore how this plot changes with different settings for beta_start, beta_end and beta_schedule by swapping in one of the commented-out options here:"
      ]
    },
    {
      "cell_type": "code",
      "execution_count": null,
      "metadata": {
        "id": "KXDGwKRJyK_s"
      },
      "outputs": [],
      "source": [
        "# One with too little noise added:\n",
        "# noise_scheduler = DDPMScheduler(num_train_timesteps=1000, beta_start=0.001, beta_end=0.004)\n",
        "# The 'cosine' schedule, which may be better for small image sizes:\n",
        "# noise_scheduler = DDPMScheduler(num_train_timesteps=1000, beta_schedule='squaredcos_cap_v2')"
      ]
    },
    {
      "cell_type": "markdown",
      "metadata": {
        "id": "D0uCdW7UzTvB"
      },
      "source": [
        "Whichever scheduler you've chosen, we can now use it to add noise in different amounts using the `noise_scheduler.add_noise` function like so:"
      ]
    },
    {
      "cell_type": "code",
      "execution_count": null,
      "metadata": {
        "colab": {
          "base_uri": "https://localhost:8080/",
          "height": 99
        },
        "id": "0IPVOilDdzVa",
        "outputId": "b28f32fd-d3b9-4763-d35e-ac1949eb9122"
      },
      "outputs": [
        {
          "output_type": "stream",
          "name": "stdout",
          "text": [
            "Noisy X shape torch.Size([8, 3, 32, 32])\n"
          ]
        },
        {
          "output_type": "execute_result",
          "data": {
            "text/plain": [
              "<PIL.Image.Image image mode=RGB size=512x64>"
            ],
            "image/png": "[encoded data removed]",
            "image/jpeg": "[encoded data removed]"
          },
          "metadata": {},
          "execution_count": 10
        }
      ],
      "source": [
        "timesteps = torch.linspace(0, 999, 8).long().to(device)\n",
        "noise = torch.randn_like(xb)\n",
        "noisy_xb = noise_scheduler.add_noise(xb, noise, timesteps)\n",
        "print(\"Noisy X shape\", noisy_xb.shape)\n",
        "show_images(noisy_xb).resize((8 * 64, 64), resample=Image.NEAREST)"
      ]
    },
    {
      "cell_type": "markdown",
      "metadata": {
        "id": "Q7hsX6nDZiYm"
      },
      "source": [
        "Again, explore the effect of using different noise schedules and parameters here. [This video](https://www.youtube.com/watch?v=fbLgFrlTnGU) does a great job explaining some of the maths above in more detail, and is a great introduction to some of these concepts."
      ]
    },
    {
      "cell_type": "markdown",
      "metadata": {
        "id": "o5RvxO2ss23-"
      },
      "source": [
        "## Step 4: Define the Model"
      ]
    },
    {
      "cell_type": "markdown",
      "metadata": {
        "id": "gHiMIrLRTk3K"
      },
      "source": [
        "Now we come to the core component: the model itself.\n",
        "\n",
        "Most diffusion models use architectures that are some variant of a [U-net](https://arxiv.org/abs/1505.04597) and that's what we'll use here.\n",
        "\n",
        "![](https://huggingface.co/datasets/huggingface/documentation-images/resolve/main/unet-model.png)\n",
        "\n",
        "In a nutshell:\n",
        "- the model has the input image go through several blocks of ResNet layers, each of which halves the image size by 2\n",
        "- then through the same number of blocks that upsample it again.\n",
        "- there are skip connections linking the features on the downsample path to the corresponding layers in the upsample path.\n",
        "\n",
        "A key feature of this model is that it predicts images of the same size as the input, which is exactly what we need here.\n",
        "\n",
        "Diffusers provides us a handy `UNet2DModel` class which creates the desired architecture in PyTorch.\n",
        "\n",
        "Let's create a U-net for our desired image size.\n",
        "Note that `down_block_types` correspond to the downsampling blocks (green on the diagram above), and `up_block_types` are the upsampling blocks (red on the diagram):"
      ]
    },
    {
      "cell_type": "code",
      "execution_count": null,
      "metadata": {
        "id": "fRGXiotOs4Mc"
      },
      "outputs": [],
      "source": [
        "from diffusers import UNet2DModel\n",
        "\n",
        "#The downsampling path captures global structure (e.g., overall layout of the image).\n",
        "\n",
        "#The upsampling path restores fine details: perfect for turning noisy blobs into structured, coherent images.\n",
        "\n",
        "# Create a model\n",
        "model = UNet2DModel(\n",
        "    sample_size=image_size,  # the target image resolution\n",
        "    in_channels=3,  # the number of input channels, 3 for RGB images\n",
        "    out_channels=3,  # the number of output channels\n",
        "    layers_per_block=2,  # how many ResNet layers to use per UNet block\n",
        "    block_out_channels=(64, 128, 128, 256),  # More channels -> more parameters\n",
        "    down_block_types=(\n",
        "        \"DownBlock2D\",  # a regular ResNet downsampling block\n",
        "        \"DownBlock2D\",\n",
        "        \"AttnDownBlock2D\",  # a ResNet downsampling block with spatial self-attention\n",
        "        \"AttnDownBlock2D\",\n",
        "    ),\n",
        "    up_block_types=(\n",
        "        \"AttnUpBlock2D\",\n",
        "        \"AttnUpBlock2D\",  # a ResNet upsampling block with spatial self-attention\n",
        "        \"UpBlock2D\",\n",
        "        \"UpBlock2D\",  # a regular ResNet upsampling block\n",
        "    ),\n",
        ")\n",
        "model.to(device);"
      ]
    },
    {
      "cell_type": "markdown",
      "metadata": {
        "id": "483LRBfs0C5_"
      },
      "source": [
        "We can check that passing in a batch of data and some random timesteps produces an output the same shape as the input data:"
      ]
    },
    {
      "cell_type": "code",
      "execution_count": null,
      "metadata": {
        "colab": {
          "base_uri": "https://localhost:8080/"
        },
        "id": "SmmxZJYM0KwA",
        "outputId": "854e7e41-9896-4dc3-d912-8dbaa4fb7be6"
      },
      "outputs": [
        {
          "output_type": "execute_result",
          "data": {
            "text/plain": [
              "torch.Size([8, 3, 32, 32])"
            ]
          },
          "metadata": {},
          "execution_count": 12
        }
      ],
      "source": [
        "with torch.no_grad():\n",
        "    model_prediction = model(noisy_xb, timesteps).sample\n",
        "model_prediction.shape"
      ]
    },
    {
      "cell_type": "markdown",
      "metadata": {
        "id": "mIhFUbFMZxj7"
      },
      "source": [
        "In the next section we'll see how to train this model."
      ]
    },
    {
      "cell_type": "markdown",
      "metadata": {
        "id": "vbcdWagYs7tc"
      },
      "source": [
        "## Step 5: Create a Training Loop"
      ]
    },
    {
      "cell_type": "markdown",
      "metadata": {
        "id": "EGQjvwOi64Sl"
      },
      "source": [
        "Time to train! Below is a typical optimization loop in PyTorch, where we run through the data batch by batch and update the parameters of our model each step using an optimizer - in this case the AdamW optimizer with a learning rate of 0.0004.\n",
        "\n",
        "For each batch of data, we\n",
        "- Sample some random timesteps\n",
        "- Noise the data accordingly\n",
        "- Feed the noisy data through the model\n",
        "- Compare the model predictions with the target (i.e. the noise in this case) using mean squared error as our loss function\n",
        "- Update the model parameters via `loss.backward()` and `optimizer.step()`\n",
        "\n",
        "During this process we also log the losses over time for later plotting.\n",
        "\n",
        "NB: This code takes nearly 10 minutes to run - feel free to skip these two cells and use the pretrained model if you are in a hurry. Alternatively, you can explore how reducing the number of channels in each layer via the model definition above can speed things up."
      ]
    },
    {
      "cell_type": "markdown",
      "metadata": {
        "id": "Waw8nGdO4S-O"
      },
      "source": [
        "The [official diffusers training example](https://colab.research.google.com/github/huggingface/notebooks/blob/main/diffusers/training_example.ipynb) trains a larger model on this dataset at higher resolution, and is a good reference for what a less minimal training loop looks like:"
      ]
    },
    {
      "cell_type": "code",
      "execution_count": null,
      "metadata": {
        "colab": {
          "base_uri": "https://localhost:8080/"
        },
        "id": "UFRXBcyGs_uO",
        "outputId": "8f3118c6-dac6-4167-8800-aefe3227af65"
      },
      "outputs": [
        {
          "output_type": "stream",
          "name": "stderr",
          "text": [
            "/usr/local/lib/python3.11/dist-packages/diffusers/configuration_utils.py:140: FutureWarning: Accessing config attribute `num_train_timesteps` directly via 'DDPMScheduler' object attribute is deprecated. Please access 'num_train_timesteps' over 'DDPMScheduler's config object instead, e.g. 'scheduler.config.num_train_timesteps'.\n",
            "  deprecate(\"direct config name access\", \"1.0.0\", deprecation_message, standard_warn=False)\n"
          ]
        },
        {
          "output_type": "stream",
          "name": "stdout",
          "text": [
            "Epoch:5, loss: 0.14843396609649062\n",
            "Epoch:10, loss: 0.11592416791245341\n",
            "Epoch:15, loss: 0.09653356531634927\n",
            "Epoch:20, loss: 0.08373374957591295\n",
            "Epoch:25, loss: 0.07920910720713437\n",
            "Epoch:30, loss: 0.07129328674636781\n"
          ]
        }
      ],
      "source": [
        "# Set the noise scheduler\n",
        "noise_scheduler = DDPMScheduler(\n",
        "    num_train_timesteps=1000, beta_schedule=\"squaredcos_cap_v2\"\n",
        ")\n",
        "\n",
        "# Training loop\n",
        "optimizer = torch.optim.AdamW(model.parameters(), lr=4e-4)\n",
        "\n",
        "losses = []\n",
        "\n",
        "for epoch in range(30):\n",
        "    for step, batch in enumerate(train_dataloader):\n",
        "        clean_images = batch[\"images\"].to(device)\n",
        "        # Sample noise to add to the images\n",
        "        noise = torch.randn(clean_images.shape).to(clean_images.device)\n",
        "        bs = clean_images.shape[0]\n",
        "\n",
        "        # Sample a random timestep for each image\n",
        "        timesteps = torch.randint(\n",
        "            0, noise_scheduler.num_train_timesteps, (bs,), device=clean_images.device\n",
        "        ).long()\n",
        "\n",
        "        # Add noise to the clean images according to the noise magnitude at each timestep\n",
        "        noisy_images = noise_scheduler.add_noise(clean_images, noise, timesteps)\n",
        "\n",
        "        # Get the model prediction\n",
        "        noise_pred = model(noisy_images, timesteps, return_dict=False)[0]\n",
        "\n",
        "        # Calculate the loss\n",
        "        loss = F.mse_loss(noise_pred, noise)\n",
        "        loss.backward(loss)\n",
        "        losses.append(loss.item())\n",
        "\n",
        "        # Update the model parameters with the optimizer\n",
        "        optimizer.step()\n",
        "        optimizer.zero_grad()\n",
        "\n",
        "    if (epoch + 1) % 5 == 0:\n",
        "        loss_last_epoch = sum(losses[-len(train_dataloader) :]) / len(train_dataloader)\n",
        "        print(f\"Epoch:{epoch+1}, loss: {loss_last_epoch}\")"
      ]
    },
    {
      "cell_type": "markdown",
      "metadata": {
        "id": "5g3B7J2y36o-"
      },
      "source": [
        "Plotting the loss, we see that the model rapidly improves initially and then continues to get better at a slower rate (which is more obvious if we use a log scale as shown on the right):"
      ]
    },
    {
      "cell_type": "code",
      "execution_count": null,
      "metadata": {
        "colab": {
          "base_uri": "https://localhost:8080/",
          "height": 368
        },
        "id": "DoZP2oHHfL3R",
        "outputId": "6677f410-a9b6-4714-dcd8-2d7093dd3caf"
      },
      "outputs": [
        {
          "output_type": "display_data",
          "data": {
            "text/plain": [
              "<Figure size 1200x400 with 2 Axes>"
            ],
            "image/png": "[encoded data removed]"
          },
          "metadata": {}
        }
      ],
      "source": [
        "fig, axs = plt.subplots(1, 2, figsize=(12, 4))\n",
        "axs[0].plot(losses)\n",
        "axs[1].plot(np.log(losses))\n",
        "plt.show()"
      ]
    },
    {
      "cell_type": "markdown",
      "metadata": {
        "id": "7woNwcna3gkU"
      },
      "source": [
        "As an alternative to running the training code above, you can use the model from the pipeline like so:"
      ]
    },
    {
      "cell_type": "code",
      "execution_count": null,
      "metadata": {
        "id": "IN21Roo5fVnB"
      },
      "outputs": [],
      "source": [
        "# Uncomment to instead load the model I trained earlier:\n",
        "# model = butterfly_pipeline.unet"
      ]
    },
    {
      "cell_type": "markdown",
      "metadata": {
        "id": "qVdGxVJOtBPb"
      },
      "source": [
        "## Step 6: Generate Images\n",
        "\n",
        "How do we get images with this model?"
      ]
    },
    {
      "cell_type": "markdown",
      "metadata": {
        "id": "LTBbByMl7ri3"
      },
      "source": [
        "### Option 1: Creating a pipeline:"
      ]
    },
    {
      "cell_type": "code",
      "execution_count": null,
      "metadata": {
        "id": "p3mJYitMtDeB"
      },
      "outputs": [],
      "source": [
        "from diffusers import DDPMPipeline\n",
        "\n",
        "image_pipe = DDPMPipeline(unet=model, scheduler=noise_scheduler)"
      ]
    },
    {
      "cell_type": "code",
      "execution_count": null,
      "metadata": {
        "colab": {
          "base_uri": "https://localhost:8080/",
          "height": 81,
          "referenced_widgets": [
            "c58db08363e14fdfa873119aa6fd13d7",
            "7c1d5ba30d8545b380e9f5511567d472",
            "efdd0bfebf0042988f001f0fa65d8d1c",
            "e9ccf96eaeb04d838b86cec00a19d06d",
            "7f48cd5d70f64a17a20899e789aab1fc",
            "de45f2cc285c4dc89ab0e685ea0c6cb8",
            "03e10e47dc6447d7b04018139210636d",
            "85a8a7e51a0d46b384dd4aab5bffef4d",
            "468f5a38b0534ca09b186a43f0eb1f2c",
            "f0ffa5e240af492daa2d3883160d3be5",
            "29238d73da8448b082e9457d879a5901"
          ]
        },
        "id": "Yl_dSb7OgHet",
        "outputId": "a9cfdabf-b6d0-4bd3-b244-1a6ae5c639fb"
      },
      "outputs": [
        {
          "output_type": "display_data",
          "data": {
            "text/plain": [
              "  0%|          | 0/1000 [00:00<?, ?it/s]"
            ],
            "application/vnd.jupyter.widget-view+json": {
              "version_major": 2,
              "version_minor": 0,
              "model_id": "c58db08363e14fdfa873119aa6fd13d7"
            }
          },
          "metadata": {}
        },
        {
          "output_type": "execute_result",
          "data": {
            "text/plain": [
              "<PIL.Image.Image image mode=RGB size=32x32>"
            ],
            "image/png": "[encoded data removed]",
            "image/jpeg": "[encoded data removed]"
          },
          "metadata": {},
          "execution_count": 16
        }
      ],
      "source": [
        "pipeline_output = image_pipe()\n",
        "pipeline_output.images[0]"
      ]
    },
    {
      "cell_type": "code",
      "source": [
        "img = pipeline_output.images[0]\n",
        "\n",
        "# Resize for display (e.g., to 256x256)\n",
        "large_img = img.resize((128, 128), resample=Image.NEAREST)\n",
        "\n",
        "from IPython.display import display\n",
        "\n",
        "display(large_img)"
      ],
      "metadata": {
        "colab": {
          "base_uri": "https://localhost:8080/",
          "height": 145
        },
        "id": "xTDEdRq8poIL",
        "outputId": "2d049739-1d4a-4c7d-8c62-0debd5463147"
      },
      "execution_count": null,
      "outputs": [
        {
          "output_type": "display_data",
          "data": {
            "text/plain": [
              "<PIL.Image.Image image mode=RGB size=128x128>"
            ],
            "image/png": "[encoded data removed]",
            "image/jpeg": "[encoded data removed]"
          },
          "metadata": {}
        }
      ]
    },
    {
      "cell_type": "markdown",
      "metadata": {
        "id": "UHvu25neFJHh"
      },
      "source": [
        "We can save a pipeline to a local folder like so:"
      ]
    },
    {
      "cell_type": "code",
      "execution_count": null,
      "metadata": {
        "id": "a8C0_2UVhiWb"
      },
      "outputs": [],
      "source": [
        "image_pipe.save_pretrained(\"my_pipeline\")"
      ]
    },
    {
      "cell_type": "markdown",
      "metadata": {
        "id": "DHgonGi3FN4J"
      },
      "source": [
        "Inspecting the folder contents:"
      ]
    },
    {
      "cell_type": "code",
      "execution_count": null,
      "metadata": {
        "colab": {
          "base_uri": "https://localhost:8080/"
        },
        "id": "F5hcwUSJhsnv",
        "outputId": "079e3fb1-c525-4188-f267-30a87b1359c4"
      },
      "outputs": [
        {
          "output_type": "stream",
          "name": "stdout",
          "text": [
            "model_index.json  scheduler  unet\n"
          ]
        }
      ],
      "source": [
        "!ls my_pipeline/"
      ]
    },
    {
      "cell_type": "markdown",
      "metadata": {
        "id": "vypV6Joh2vE7"
      },
      "source": [
        "The `scheduler` and `unet` subfolders contain everything needed to re-create those components. For example, inside the `unet` folder you'll find the model weights (`diffusion_pytorch_model.bin`) alongside a config file which specifies the UNet architecture."
      ]
    },
    {
      "cell_type": "code",
      "execution_count": null,
      "metadata": {
        "colab": {
          "base_uri": "https://localhost:8080/"
        },
        "id": "dbFq6QXJFUdD",
        "outputId": "517438b0-4d26-4a59-9065-46079c6034cb"
      },
      "outputs": [
        {
          "output_type": "stream",
          "name": "stdout",
          "text": [
            "config.json  diffusion_pytorch_model.safetensors\n"
          ]
        }
      ],
      "source": [
        "!ls my_pipeline/unet/"
      ]
    },
    {
      "cell_type": "markdown",
      "metadata": {
        "id": "L2_tiRgS7-qh"
      },
      "source": [
        "Together, these files contain everything needed to recreate the pipeline. You can manually upload them to the hub to share the pipeline with others, or check out the code to do this via the API in the next section."
      ]
    },
    {
      "cell_type": "markdown",
      "metadata": {
        "id": "wTWtm_4HFi5U"
      },
      "source": [
        "### Option 2: Writing a Sampling Loop"
      ]
    },
    {
      "cell_type": "markdown",
      "metadata": {
        "id": "Bj3tuUD6bMG8"
      },
      "source": [
        "We begin with random noise, and run through the scheduler timesteps from most to least noisy, removing a small amount of noise each step based on the model prediction:"
      ]
    },
    {
      "cell_type": "code",
      "execution_count": null,
      "metadata": {
        "colab": {
          "base_uri": "https://localhost:8080/",
          "height": 53
        },
        "id": "cAFFaVJ6tFbk",
        "outputId": "2d3ead81-18bb-49dc-bcc4-116109050970"
      },
      "outputs": [
        {
          "output_type": "execute_result",
          "data": {
            "text/plain": [
              "<PIL.Image.Image image mode=RGB size=274x36>"
            ],
            "image/png": "[encoded data removed]",
            "image/jpeg": "[encoded data removed]"
          },
          "metadata": {},
          "execution_count": 21
        }
      ],
      "source": [
        "# Random starting point (8 random images):\n",
        "sample = torch.randn(8, 3, 32, 32).to(device)\n",
        "\n",
        "for i, t in enumerate(noise_scheduler.timesteps):\n",
        "\n",
        "    # Get model pred\n",
        "    with torch.no_grad():\n",
        "        residual = model(sample, t).sample\n",
        "\n",
        "    # Update sample with step\n",
        "    sample = noise_scheduler.step(residual, t, sample).prev_sample\n",
        "\n",
        "show_images(sample)"
      ]
    },
    {
      "cell_type": "code",
      "source": [
        "import torch\n",
        "from torchvision.utils import make_grid\n",
        "from torchvision import transforms as T\n",
        "from PIL import Image\n",
        "from IPython.display import display\n",
        "\n",
        "# Random starting point (8 random images):\n",
        "sample = torch.randn(8, 3, 32, 32).to(device)\n",
        "\n",
        "# Reverse diffusion process\n",
        "for t in noise_scheduler.timesteps:\n",
        "    with torch.no_grad():\n",
        "        residual = model(sample, t).sample\n",
        "    sample = noise_scheduler.step(residual, t, sample).prev_sample\n",
        "\n",
        "# Convert final batch to a grid\n",
        "grid = make_grid(sample.cpu(), nrow=8)  # 8 images in one row\n",
        "\n",
        "# Convert to PIL image and resize to something larger (e.g., 512x64 or 1024x128)\n",
        "to_pil = T.ToPILImage()\n",
        "img = to_pil(grid)\n",
        "\n",
        "# Resize for display\n",
        "large_img = img.resize((8 * 64, 64), resample=Image.NEAREST)\n",
        "\n",
        "# Display in notebook\n",
        "display(large_img)\n"
      ],
      "metadata": {
        "colab": {
          "base_uri": "https://localhost:8080/",
          "height": 81
        },
        "id": "GVNH1iLtrc1r",
        "outputId": "29cc7ff7-7b4c-4695-d316-9cff508b3244"
      },
      "execution_count": null,
      "outputs": [
        {
          "output_type": "display_data",
          "data": {
            "text/plain": [
              "<PIL.Image.Image image mode=RGB size=512x64>"
            ],
            "image/png": "[encoded data removed]",
            "image/jpeg": "[encoded data removed]"
          },
          "metadata": {}
        }
      ]
    },
    {
      "cell_type": "markdown",
      "metadata": {
        "id": "70m_LsIVbhAe"
      },
      "source": [
        "The `noise_scheduler.step()` function does the maths required to update `sample` appropriately. There are a number of sampling methods - in the next unit we'll see how we can swap in a different sampler to speed up image generation with existing models, and talk more about the theory behind sampling from diffusion models."
      ]
    },
    {
      "cell_type": "markdown",
      "metadata": {
        "id": "DLMqLQmh1d3S"
      },
      "source": [
        "## Step 7: Push your model to the Hub\n",
        "\n",
        "In the example above we saved our pipeline to a local folder. To push our model to the Hub, we will need to model repository to push our files to. We'll determine the repository name from the model ID we want to give our model (feel free to replace the `model_name` with your own choice; it just needs to contain your username, which is what the function `get_full_repo_name()` does):"
      ]
    },
    {
      "cell_type": "code",
      "execution_count": null,
      "metadata": {
        "id": "l9teMlcK1d3S",
        "outputId": "fda7f675-477d-4f1d-f9d8-d4e684adabb4",
        "colab": {
          "base_uri": "https://localhost:8080/",
          "height": 35
        }
      },
      "outputs": [
        {
          "output_type": "execute_result",
          "data": {
            "text/plain": [
              "'VizuaraAI/sd-class-butterflies-32-copy-4'"
            ],
            "application/vnd.google.colaboratory.intrinsic+json": {
              "type": "string"
            }
          },
          "metadata": {},
          "execution_count": 30
        }
      ],
      "source": [
        "from huggingface_hub import get_full_repo_name\n",
        "\n",
        "model_name = \"sd-class-butterflies-32-copy-4\"\n",
        "hub_model_id = get_full_repo_name(model_name)\n",
        "hub_model_id"
      ]
    },
    {
      "cell_type": "markdown",
      "metadata": {
        "id": "cYu9zu2T1d3S"
      },
      "source": [
        "Next, create a model repository on the 🤗 Hub and push our model:"
      ]
    },
    {
      "cell_type": "code",
      "execution_count": null,
      "metadata": {
        "id": "xGCNchpSBAcS",
        "outputId": "34a93d55-ce18-4995-c7cc-71ab37ab06d0",
        "colab": {
          "base_uri": "https://localhost:8080/",
          "height": 120,
          "referenced_widgets": [
            "34e6034beb5a402ba1f0e9621f43a72e",
            "54934f0ea00c4603af94a47055cab032",
            "f799f1e384c24f7eb5b67c3438e9fe4f",
            "0f3b1b8adfec4f1cad40696203a0ffd9",
            "b7ddae0d34a84810875fd18d4350163b",
            "7c0fc0d3e3184cd49e759350109cef00",
            "b3416c4b5c1e4c3c89ebadc5221e270e",
            "75bc20bda1974883922b22de6d8425a0",
            "9af98faf4b90498196ab6db28cc51b3b",
            "db2da1e5c4ff4e27a5384c64a074b689",
            "08dae3468e0b4bc8b549c69323cf73cf"
          ]
        }
      },
      "outputs": [
        {
          "output_type": "display_data",
          "data": {
            "text/plain": [
              "diffusion_pytorch_model.safetensors:   0%|          | 0.00/74.2M [00:00<?, ?B/s]"
            ],
            "application/vnd.jupyter.widget-view+json": {
              "version_major": 2,
              "version_minor": 0,
              "model_id": "34e6034beb5a402ba1f0e9621f43a72e"
            }
          },
          "metadata": {}
        },
        {
          "output_type": "execute_result",
          "data": {
            "text/plain": [
              "CommitInfo(commit_url='https://huggingface.co/VizuaraAI/sd-class-butterflies-32-copy-4/commit/f831960102ca4992f6cb1096188802cdc4a3b052', commit_message='Upload model_index.json with huggingface_hub', commit_description='', oid='f831960102ca4992f6cb1096188802cdc4a3b052', pr_url=None, repo_url=RepoUrl('https://huggingface.co/VizuaraAI/sd-class-butterflies-32-copy-4', endpoint='https://huggingface.co', repo_type='model', repo_id='VizuaraAI/sd-class-butterflies-32-copy-4'), pr_revision=None, pr_num=None)"
            ],
            "application/vnd.google.colaboratory.intrinsic+json": {
              "type": "string"
            }
          },
          "metadata": {},
          "execution_count": 31
        }
      ],
      "source": [
        "from huggingface_hub import HfApi, create_repo\n",
        "\n",
        "create_repo(hub_model_id)\n",
        "api = HfApi()\n",
        "api.upload_folder(\n",
        "    folder_path=\"my_pipeline/scheduler\", path_in_repo=\"\", repo_id=hub_model_id\n",
        ")\n",
        "api.upload_folder(folder_path=\"my_pipeline/unet\", path_in_repo=\"\", repo_id=hub_model_id)\n",
        "api.upload_file(\n",
        "    path_or_fileobj=\"my_pipeline/model_index.json\",\n",
        "    path_in_repo=\"model_index.json\",\n",
        "    repo_id=hub_model_id,\n",
        ")"
      ]
    },
    {
      "cell_type": "markdown",
      "metadata": {
        "id": "Obb1QemW1d3S"
      },
      "source": [
        "The last thing to do is create a nice model card so that our butterfly generator can easily be found on the Hub (feel free to expand and edit the description!):"
      ]
    },
    {
      "cell_type": "code",
      "execution_count": null,
      "metadata": {
        "id": "Nd-RgJH01d3S",
        "outputId": "5d812fcf-26e8-4be0-b571-28b92a4be489",
        "colab": {
          "base_uri": "https://localhost:8080/",
          "height": 88
        }
      },
      "outputs": [
        {
          "output_type": "execute_result",
          "data": {
            "text/plain": [
              "CommitInfo(commit_url='https://huggingface.co/VizuaraAI/sd-class-butterflies-32-copy-4/commit/62820c37380f70f2fbe76233a25d33f57d2a5c51', commit_message='Upload README.md with huggingface_hub', commit_description='', oid='62820c37380f70f2fbe76233a25d33f57d2a5c51', pr_url=None, repo_url=RepoUrl('https://huggingface.co/VizuaraAI/sd-class-butterflies-32-copy-4', endpoint='https://huggingface.co', repo_type='model', repo_id='VizuaraAI/sd-class-butterflies-32-copy-4'), pr_revision=None, pr_num=None)"
            ],
            "application/vnd.google.colaboratory.intrinsic+json": {
              "type": "string"
            }
          },
          "metadata": {},
          "execution_count": 32
        }
      ],
      "source": [
        "from huggingface_hub import ModelCard\n",
        "\n",
        "content = f\"\"\"\n",
        "---\n",
        "license: mit\n",
        "tags:\n",
        "- pytorch\n",
        "- diffusers\n",
        "- unconditional-image-generation\n",
        "- diffusion-models-class\n",
        "---\n",
        "\n",
        "# Model Card for Unit 1 of the [Diffusion Models Class 🧨](https://github.com/huggingface/diffusion-models-class)\n",
        "\n",
        "This model is a diffusion model for unconditional image generation of cute 🦋.\n",
        "\n",
        "## Usage\n",
        "\n",
        "```python\n",
        "from diffusers import DDPMPipeline\n",
        "\n",
        "pipeline = DDPMPipeline.from_pretrained('{hub_model_id}')\n",
        "image = pipeline().images[0]\n",
        "image\n",
        "```\n",
        "\"\"\"\n",
        "\n",
        "card = ModelCard(content)\n",
        "card.push_to_hub(hub_model_id)"
      ]
    },
    {
      "cell_type": "markdown",
      "metadata": {
        "id": "nHIdXAmM1d3S"
      },
      "source": [
        "Now that the model is on the Hub, you can download it from anywhere and run it"
      ]
    },
    {
      "cell_type": "code",
      "source": [
        "from huggingface_hub import hf_hub_download\n",
        "import os\n",
        "\n",
        "# Create a directory to store the model\n",
        "os.makedirs(\"butterfly_model\", exist_ok=True)\n",
        "\n",
        "# Download model files\n",
        "model_file = hf_hub_download(\n",
        "    repo_id=\"VizuaraAI/sd-class-butterflies-32-copy-4\",\n",
        "    filename=\"diffusion_pytorch_model.safetensors\",\n",
        "    local_dir=\"butterfly_model\"\n",
        ")\n",
        "config_file = hf_hub_download(\n",
        "    repo_id=\"VizuaraAI/sd-class-butterflies-32-copy-4\",\n",
        "    filename=\"config.json\",\n",
        "    local_dir=\"butterfly_model\"\n",
        ")\n",
        "scheduler_file = hf_hub_download(\n",
        "    repo_id=\"VizuaraAI/sd-class-butterflies-32-copy-4\",\n",
        "    filename=\"scheduler_config.json\",\n",
        "    local_dir=\"butterfly_model\"\n",
        ")\n",
        "model_index = hf_hub_download(\n",
        "    repo_id=\"VizuaraAI/sd-class-butterflies-32-copy-4\",\n",
        "    filename=\"model_index.json\",\n",
        "    local_dir=\"butterfly_model\"\n",
        ")\n",
        "\n",
        "# Load from local directory\n",
        "from diffusers import DDPMPipeline\n",
        "\n",
        "pipeline = DDPMPipeline.from_pretrained(\"butterfly_model\", use_safetensors=True)\n",
        "image = pipeline().images[0]\n",
        "\n",
        "\n",
        "# Resize for display (e.g., to 256x256)\n",
        "large_img = image.resize((128, 128), resample=Image.NEAREST)\n",
        "\n",
        "from IPython.display import display\n",
        "\n",
        "display(large_img)"
      ],
      "metadata": {
        "id": "K2IKS9375KzX",
        "outputId": "510f67bc-9377-4f22-b719-0ff2f46adc1e",
        "colab": {
          "base_uri": "https://localhost:8080/",
          "height": 337,
          "referenced_widgets": [
            "5adda3b5cb714ebdb96d46093d6dfb6c",
            "845dfec12a1a4947acd438daf8cde0b0",
            "cce1ef5f698c4258bbdacbdbf2b7ecb0",
            "c4d1ed7403dd4b06aa4539a99dd84b6f",
            "3eb85c2fdef34dfe91fe4c83529b206c",
            "3fea3b2318ea465d91a0dbff426afb13",
            "020c7feed4c047a281a609334923b7f4",
            "9d8ccfb6bb734d7caad7b97a58f49abf",
            "8aad7275c6924c0cac39441fe777b31d",
            "d5101bd5d990425ca969522579bcc908",
            "665c5651f79b43869a9466f4e7aef340",
            "0461c500851945e1b096ee320c936e76",
            "ed192d07ecfa4cfb9947ef51987aacb3",
            "7220d1d3579f48348b4d9f32c0739145",
            "335f77e639f642f4be7913936ca8d6a1",
            "30b59986de074da89001b1cfcff2f12a",
            "754d13398dca4e57bec04f56276dc9eb",
            "465868d24b374ab0b94fec34f3b76fb3",
            "f56c2cb714704f6c99aabc2910e7c95e",
            "7762e5b7169d499ab659e1b99018d64f",
            "6da1c63ce4754e9baea835b985b87c8b",
            "52b9afb09ebf4fd28aef0f56e4ea05bd",
            "08bd6808bf4e4b3f9a7dbfe86ce4e269",
            "72d3afe594544bbf8a5c4e0062e60aec",
            "342ffc94094d450194e235d241569731",
            "5c11c8f96be148e9872e18a875ff94fc",
            "2c9e3d45ee6446e1ac2575d28e705dd1",
            "924e22a6ce104b1cac732f230ebf23c3",
            "56de755a7c964764a51eff47d9319481",
            "1c458c264c0d46969f13255ea6e42e31",
            "4a6f457a0b45452795e3cd314789ad32",
            "536967d8202b4134a63f68398ec5bb51",
            "3aa20fc835ff470682aa655ca2437ec4",
            "8f52ec8953c543249de740b93bc50c53",
            "902eb95173ae4030b22c242e5e7a22dd",
            "8c1381a082ee4ff393db0b9f78f7b271",
            "41c6f64828a04a199baeb2a68aed7f88",
            "69a76983654d42089e9b3cf4abb84919",
            "3b9dbb9befc94206a5ededa0ea9d3c91",
            "3a7e86c46f6c40d2bdb766c84a57fee3",
            "4415998eedd841279fd3f582050ba62a",
            "ba52c1c1db1f4690b6ff55dbbc726367",
            "110a23b6ae9545369a18e1882cc08a1f",
            "babe5cc7e1f043678db34c6347a63e75",
            "b43499143edf4ab4907be37626b8d262",
            "6b8a1fcf5f0d42308370ccf65e441c64",
            "683cb02ebf674d89831023778697186c",
            "ecec21632fd14abdb6d9681240d53400",
            "38da9d50ff7c463b88a43cbdc2befc0e",
            "ba12cc04a3cd45638aef799d4e63187f",
            "d848d645f6154ea6951b05c5a690bd95",
            "53f1724e24cd4cea96f0f279d029d169",
            "b2e20e10b964480db8b4bc975d880ebc",
            "091b0dabcbb143dcaab3149aebb2cdba",
            "45e2cb32206c4e0780b9516f8e2f5817",
            "03319fdaff614757bf21ddc377119002",
            "40fbc6a4c8e649da96b02c8b0b81d7e8",
            "33950b425ff547c98d829a32840037f0",
            "3a5582c42503434f8ceb0bb7f66268c6",
            "2c3d8a7a843e4ddc8fa2f052c3015012",
            "a5de1d54d9e847c0aa0c778b2877d505",
            "9cae56df48fc4d1784cb466e3f8b40d8",
            "35c1d63c44404b29a302f699565f4cfd",
            "e17415027e7a49b698a56cc7238ffb47",
            "b1c396d9b24046bca4d54a43a6fcb647",
            "e6e090073b834ab2992daaf683b23ef0"
          ]
        }
      },
      "execution_count": null,
      "outputs": [
        {
          "output_type": "display_data",
          "data": {
            "text/plain": [
              "diffusion_pytorch_model.safetensors:   0%|          | 0.00/74.2M [00:00<?, ?B/s]"
            ],
            "application/vnd.jupyter.widget-view+json": {
              "version_major": 2,
              "version_minor": 0,
              "model_id": "5adda3b5cb714ebdb96d46093d6dfb6c"
            }
          },
          "metadata": {}
        },
        {
          "output_type": "display_data",
          "data": {
            "text/plain": [
              "config.json:   0%|          | 0.00/991 [00:00<?, ?B/s]"
            ],
            "application/vnd.jupyter.widget-view+json": {
              "version_major": 2,
              "version_minor": 0,
              "model_id": "0461c500851945e1b096ee320c936e76"
            }
          },
          "metadata": {}
        },
        {
          "output_type": "display_data",
          "data": {
            "text/plain": [
              "scheduler_config.json:   0%|          | 0.00/508 [00:00<?, ?B/s]"
            ],
            "application/vnd.jupyter.widget-view+json": {
              "version_major": 2,
              "version_minor": 0,
              "model_id": "08bd6808bf4e4b3f9a7dbfe86ce4e269"
            }
          },
          "metadata": {}
        },
        {
          "output_type": "display_data",
          "data": {
            "text/plain": [
              "model_index.json:   0%|          | 0.00/181 [00:00<?, ?B/s]"
            ],
            "application/vnd.jupyter.widget-view+json": {
              "version_major": 2,
              "version_minor": 0,
              "model_id": "8f52ec8953c543249de740b93bc50c53"
            }
          },
          "metadata": {}
        },
        {
          "output_type": "display_data",
          "data": {
            "text/plain": [
              "Loading pipeline components...:   0%|          | 0/2 [00:00<?, ?it/s]"
            ],
            "application/vnd.jupyter.widget-view+json": {
              "version_major": 2,
              "version_minor": 0,
              "model_id": "b43499143edf4ab4907be37626b8d262"
            }
          },
          "metadata": {}
        },
        {
          "output_type": "display_data",
          "data": {
            "text/plain": [
              "  0%|          | 0/1000 [00:00<?, ?it/s]"
            ],
            "application/vnd.jupyter.widget-view+json": {
              "version_major": 2,
              "version_minor": 0,
              "model_id": "03319fdaff614757bf21ddc377119002"
            }
          },
          "metadata": {}
        },
        {
          "output_type": "display_data",
          "data": {
            "text/plain": [
              "<PIL.Image.Image image mode=RGB size=128x128>"
            ],
            "image/png": "[encoded data removed]",
            "image/jpeg": "[encoded data removed]"
          },
          "metadata": {}
        }
      ]
    },
    {
      "cell_type": "code",
      "source": [
        "plt.figure(figsize=(2, 2))\n",
        "plt.imshow(image)\n",
        "plt.axis(\"off\")"
      ],
      "metadata": {
        "id": "p7rt0MsK6cFO",
        "outputId": "3df863e8-859e-446c-d946-7326661f6dfb",
        "colab": {
          "base_uri": "https://localhost:8080/",
          "height": 209
        }
      },
      "execution_count": null,
      "outputs": [
        {
          "output_type": "execute_result",
          "data": {
            "text/plain": [
              "(np.float64(-0.5), np.float64(31.5), np.float64(31.5), np.float64(-0.5))"
            ]
          },
          "metadata": {},
          "execution_count": 34
        },
        {
          "output_type": "display_data",
          "data": {
            "text/plain": [
              "<Figure size 200x200 with 1 Axes>"
            ],
            "image/png": "[encoded data removed]"
          },
          "metadata": {}
        }
      ]
    }
  ],
  "metadata": {
    "accelerator": "GPU",
    "colab": {
      "provenance": [],
      "gpuType": "T4",
      "include_colab_link": true
    },
    "kernelspec": {
      "display_name": "Python 3",
      "name": "python3"
    },
    "language_info": {
      "codemirror_mode": {
        "name": "ipython",
        "version": 3
      },
      "file_extension": ".py",
      "mimetype": "text/x-python",
      "name": "python",
      "nbconvert_exporter": "python",
      "pygments_lexer": "ipython3",
      "version": "3.10.8"
    },
    "vscode": {
      "interpreter": {
        "hash": "31f2aee4e71d21fbe5cf8b01ff0e069b9275f58929596ceb00d14d90e3e16cd6"
      }
    },
    "widgets": {
      "application/vnd.jupyter.widget-state+json": {
        "c58db08363e14fdfa873119aa6fd13d7": {
          "model_module": "@jupyter-widgets/controls",
          "model_name": "HBoxModel",
          "model_module_version": "1.5.0",
          "state": {
            "_dom_classes": [],
            "_model_module": "@jupyter-widgets/controls",
            "_model_module_version": "1.5.0",
            "_model_name": "HBoxModel",
            "_view_count": null,
            "_view_module": "@jupyter-widgets/controls",
            "_view_module_version": "1.5.0",
            "_view_name": "HBoxView",
            "box_style": "",
            "children": [
              "IPY_MODEL_7c1d5ba30d8545b380e9f5511567d472",
              "IPY_MODEL_efdd0bfebf0042988f001f0fa65d8d1c",
              "IPY_MODEL_e9ccf96eaeb04d838b86cec00a19d06d"
            ],
            "layout": "IPY_MODEL_7f48cd5d70f64a17a20899e789aab1fc"
          }
        },
        "7c1d5ba30d8545b380e9f5511567d472": {
          "model_module": "@jupyter-widgets/controls",
          "model_name": "HTMLModel",
          "model_module_version": "1.5.0",
          "state": {
            "_dom_classes": [],
            "_model_module": "@jupyter-widgets/controls",
            "_model_module_version": "1.5.0",
            "_model_name": "HTMLModel",
            "_view_count": null,
            "_view_module": "@jupyter-widgets/controls",
            "_view_module_version": "1.5.0",
            "_view_name": "HTMLView",
            "description": "",
            "description_tooltip": null,
            "layout": "IPY_MODEL_de45f2cc285c4dc89ab0e685ea0c6cb8",
            "placeholder": "​",
            "style": "IPY_MODEL_03e10e47dc6447d7b04018139210636d",
            "value": "100%"
          }
        },
        "efdd0bfebf0042988f001f0fa65d8d1c": {
          "model_module": "@jupyter-widgets/controls",
          "model_name": "FloatProgressModel",
          "model_module_version": "1.5.0",
          "state": {
            "_dom_classes": [],
            "_model_module": "@jupyter-widgets/controls",
            "_model_module_version": "1.5.0",
            "_model_name": "FloatProgressModel",
            "_view_count": null,
            "_view_module": "@jupyter-widgets/controls",
            "_view_module_version": "1.5.0",
            "_view_name": "ProgressView",
            "bar_style": "success",
            "description": "",
            "description_tooltip": null,
            "layout": "IPY_MODEL_85a8a7e51a0d46b384dd4aab5bffef4d",
            "max": 1000,
            "min": 0,
            "orientation": "horizontal",
            "style": "IPY_MODEL_468f5a38b0534ca09b186a43f0eb1f2c",
            "value": 1000
          }
        },
        "e9ccf96eaeb04d838b86cec00a19d06d": {
          "model_module": "@jupyter-widgets/controls",
          "model_name": "HTMLModel",
          "model_module_version": "1.5.0",
          "state": {
            "_dom_classes": [],
            "_model_module": "@jupyter-widgets/controls",
            "_model_module_version": "1.5.0",
            "_model_name": "HTMLModel",
            "_view_count": null,
            "_view_module": "@jupyter-widgets/controls",
            "_view_module_version": "1.5.0",
            "_view_name": "HTMLView",
            "description": "",
            "description_tooltip": null,
            "layout": "IPY_MODEL_f0ffa5e240af492daa2d3883160d3be5",
            "placeholder": "​",
            "style": "IPY_MODEL_29238d73da8448b082e9457d879a5901",
            "value": " 1000/1000 [00:23&lt;00:00, 46.10it/s]"
          }
        },
        "7f48cd5d70f64a17a20899e789aab1fc": {
          "model_module": "@jupyter-widgets/base",
          "model_name": "LayoutModel",
          "model_module_version": "1.2.0",
          "state": {
            "_model_module": "@jupyter-widgets/base",
            "_model_module_version": "1.2.0",
            "_model_name": "LayoutModel",
            "_view_count": null,
            "_view_module": "@jupyter-widgets/base",
            "_view_module_version": "1.2.0",
            "_view_name": "LayoutView",
            "align_content": null,
            "align_items": null,
            "align_self": null,
            "border": null,
            "bottom": null,
            "display": null,
            "flex": null,
            "flex_flow": null,
            "grid_area": null,
            "grid_auto_columns": null,
            "grid_auto_flow": null,
            "grid_auto_rows": null,
            "grid_column": null,
            "grid_gap": null,
            "grid_row": null,
            "grid_template_areas": null,
            "grid_template_columns": null,
            "grid_template_rows": null,
            "height": null,
            "justify_content": null,
            "justify_items": null,
            "left": null,
            "margin": null,
            "max_height": null,
            "max_width": null,
            "min_height": null,
            "min_width": null,
            "object_fit": null,
            "object_position": null,
            "order": null,
            "overflow": null,
            "overflow_x": null,
            "overflow_y": null,
            "padding": null,
            "right": null,
            "top": null,
            "visibility": null,
            "width": null
          }
        },
        "de45f2cc285c4dc89ab0e685ea0c6cb8": {
          "model_module": "@jupyter-widgets/base",
          "model_name": "LayoutModel",
          "model_module_version": "1.2.0",
          "state": {
            "_model_module": "@jupyter-widgets/base",
            "_model_module_version": "1.2.0",
            "_model_name": "LayoutModel",
            "_view_count": null,
            "_view_module": "@jupyter-widgets/base",
            "_view_module_version": "1.2.0",
            "_view_name": "LayoutView",
            "align_content": null,
            "align_items": null,
            "align_self": null,
            "border": null,
            "bottom": null,
            "display": null,
            "flex": null,
            "flex_flow": null,
            "grid_area": null,
            "grid_auto_columns": null,
            "grid_auto_flow": null,
            "grid_auto_rows": null,
            "grid_column": null,
            "grid_gap": null,
            "grid_row": null,
            "grid_template_areas": null,
            "grid_template_columns": null,
            "grid_template_rows": null,
            "height": null,
            "justify_content": null,
            "justify_items": null,
            "left": null,
            "margin": null,
            "max_height": null,
            "max_width": null,
            "min_height": null,
            "min_width": null,
            "object_fit": null,
            "object_position": null,
            "order": null,
            "overflow": null,
            "overflow_x": null,
            "overflow_y": null,
            "padding": null,
            "right": null,
            "top": null,
            "visibility": null,
            "width": null
          }
        },
        "03e10e47dc6447d7b04018139210636d": {
          "model_module": "@jupyter-widgets/controls",
          "model_name": "DescriptionStyleModel",
          "model_module_version": "1.5.0",
          "state": {
            "_model_module": "@jupyter-widgets/controls",
            "_model_module_version": "1.5.0",
            "_model_name": "DescriptionStyleModel",
            "_view_count": null,
            "_view_module": "@jupyter-widgets/base",
            "_view_module_version": "1.2.0",
            "_view_name": "StyleView",
            "description_width": ""
          }
        },
        "85a8a7e51a0d46b384dd4aab5bffef4d": {
          "model_module": "@jupyter-widgets/base",
          "model_name": "LayoutModel",
          "model_module_version": "1.2.0",
          "state": {
            "_model_module": "@jupyter-widgets/base",
            "_model_module_version": "1.2.0",
            "_model_name": "LayoutModel",
            "_view_count": null,
            "_view_module": "@jupyter-widgets/base",
            "_view_module_version": "1.2.0",
            "_view_name": "LayoutView",
            "align_content": null,
            "align_items": null,
            "align_self": null,
            "border": null,
            "bottom": null,
            "display": null,
            "flex": null,
            "flex_flow": null,
            "grid_area": null,
            "grid_auto_columns": null,
            "grid_auto_flow": null,
            "grid_auto_rows": null,
            "grid_column": null,
            "grid_gap": null,
            "grid_row": null,
            "grid_template_areas": null,
            "grid_template_columns": null,
            "grid_template_rows": null,
            "height": null,
            "justify_content": null,
            "justify_items": null,
            "left": null,
            "margin": null,
            "max_height": null,
            "max_width": null,
            "min_height": null,
            "min_width": null,
            "object_fit": null,
            "object_position": null,
            "order": null,
            "overflow": null,
            "overflow_x": null,
            "overflow_y": null,
            "padding": null,
            "right": null,
            "top": null,
            "visibility": null,
            "width": null
          }
        },
        "468f5a38b0534ca09b186a43f0eb1f2c": {
          "model_module": "@jupyter-widgets/controls",
          "model_name": "ProgressStyleModel",
          "model_module_version": "1.5.0",
          "state": {
            "_model_module": "@jupyter-widgets/controls",
            "_model_module_version": "1.5.0",
            "_model_name": "ProgressStyleModel",
            "_view_count": null,
            "_view_module": "@jupyter-widgets/base",
            "_view_module_version": "1.2.0",
            "_view_name": "StyleView",
            "bar_color": null,
            "description_width": ""
          }
        },
        "f0ffa5e240af492daa2d3883160d3be5": {
          "model_module": "@jupyter-widgets/base",
          "model_name": "LayoutModel",
          "model_module_version": "1.2.0",
          "state": {
            "_model_module": "@jupyter-widgets/base",
            "_model_module_version": "1.2.0",
            "_model_name": "LayoutModel",
            "_view_count": null,
            "_view_module": "@jupyter-widgets/base",
            "_view_module_version": "1.2.0",
            "_view_name": "LayoutView",
            "align_content": null,
            "align_items": null,
            "align_self": null,
            "border": null,
            "bottom": null,
            "display": null,
            "flex": null,
            "flex_flow": null,
            "grid_area": null,
            "grid_auto_columns": null,
            "grid_auto_flow": null,
            "grid_auto_rows": null,
            "grid_column": null,
            "grid_gap": null,
            "grid_row": null,
            "grid_template_areas": null,
            "grid_template_columns": null,
            "grid_template_rows": null,
            "height": null,
            "justify_content": null,
            "justify_items": null,
            "left": null,
            "margin": null,
            "max_height": null,
            "max_width": null,
            "min_height": null,
            "min_width": null,
            "object_fit": null,
            "object_position": null,
            "order": null,
            "overflow": null,
            "overflow_x": null,
            "overflow_y": null,
            "padding": null,
            "right": null,
            "top": null,
            "visibility": null,
            "width": null
          }
        },
        "29238d73da8448b082e9457d879a5901": {
          "model_module": "@jupyter-widgets/controls",
          "model_name": "DescriptionStyleModel",
          "model_module_version": "1.5.0",
          "state": {
            "_model_module": "@jupyter-widgets/controls",
            "_model_module_version": "1.5.0",
            "_model_name": "DescriptionStyleModel",
            "_view_count": null,
            "_view_module": "@jupyter-widgets/base",
            "_view_module_version": "1.2.0",
            "_view_name": "StyleView",
            "description_width": ""
          }
        },
        "34e6034beb5a402ba1f0e9621f43a72e": {
          "model_module": "@jupyter-widgets/controls",
          "model_name": "HBoxModel",
          "model_module_version": "1.5.0",
          "state": {
            "_dom_classes": [],
            "_model_module": "@jupyter-widgets/controls",
            "_model_module_version": "1.5.0",
            "_model_name": "HBoxModel",
            "_view_count": null,
            "_view_module": "@jupyter-widgets/controls",
            "_view_module_version": "1.5.0",
            "_view_name": "HBoxView",
            "box_style": "",
            "children": [
              "IPY_MODEL_54934f0ea00c4603af94a47055cab032",
              "IPY_MODEL_f799f1e384c24f7eb5b67c3438e9fe4f",
              "IPY_MODEL_0f3b1b8adfec4f1cad40696203a0ffd9"
            ],
            "layout": "IPY_MODEL_b7ddae0d34a84810875fd18d4350163b"
          }
        },
        "54934f0ea00c4603af94a47055cab032": {
          "model_module": "@jupyter-widgets/controls",
          "model_name": "HTMLModel",
          "model_module_version": "1.5.0",
          "state": {
            "_dom_classes": [],
            "_model_module": "@jupyter-widgets/controls",
            "_model_module_version": "1.5.0",
            "_model_name": "HTMLModel",
            "_view_count": null,
            "_view_module": "@jupyter-widgets/controls",
            "_view_module_version": "1.5.0",
            "_view_name": "HTMLView",
            "description": "",
            "description_tooltip": null,
            "layout": "IPY_MODEL_7c0fc0d3e3184cd49e759350109cef00",
            "placeholder": "​",
            "style": "IPY_MODEL_b3416c4b5c1e4c3c89ebadc5221e270e",
            "value": "diffusion_pytorch_model.safetensors: 100%"
          }
        },
        "f799f1e384c24f7eb5b67c3438e9fe4f": {
          "model_module": "@jupyter-widgets/controls",
          "model_name": "FloatProgressModel",
          "model_module_version": "1.5.0",
          "state": {
            "_dom_classes": [],
            "_model_module": "@jupyter-widgets/controls",
            "_model_module_version": "1.5.0",
            "_model_name": "FloatProgressModel",
            "_view_count": null,
            "_view_module": "@jupyter-widgets/controls",
            "_view_module_version": "1.5.0",
            "_view_name": "ProgressView",
            "bar_style": "success",
            "description": "",
            "description_tooltip": null,
            "layout": "IPY_MODEL_75bc20bda1974883922b22de6d8425a0",
            "max": 74185252,
            "min": 0,
            "orientation": "horizontal",
            "style": "IPY_MODEL_9af98faf4b90498196ab6db28cc51b3b",
            "value": 74185252
          }
        },
        "0f3b1b8adfec4f1cad40696203a0ffd9": {
          "model_module": "@jupyter-widgets/controls",
          "model_name": "HTMLModel",
          "model_module_version": "1.5.0",
          "state": {
            "_dom_classes": [],
            "_model_module": "@jupyter-widgets/controls",
            "_model_module_version": "1.5.0",
            "_model_name": "HTMLModel",
            "_view_count": null,
            "_view_module": "@jupyter-widgets/controls",
            "_view_module_version": "1.5.0",
            "_view_name": "HTMLView",
            "description": "",
            "description_tooltip": null,
            "layout": "IPY_MODEL_db2da1e5c4ff4e27a5384c64a074b689",
            "placeholder": "​",
            "style": "IPY_MODEL_08dae3468e0b4bc8b549c69323cf73cf",
            "value": " 74.2M/74.2M [00:04&lt;00:00, 22.0MB/s]"
          }
        },
        "b7ddae0d34a84810875fd18d4350163b": {
          "model_module": "@jupyter-widgets/base",
          "model_name": "LayoutModel",
          "model_module_version": "1.2.0",
          "state": {
            "_model_module": "@jupyter-widgets/base",
            "_model_module_version": "1.2.0",
            "_model_name": "LayoutModel",
            "_view_count": null,
            "_view_module": "@jupyter-widgets/base",
            "_view_module_version": "1.2.0",
            "_view_name": "LayoutView",
            "align_content": null,
            "align_items": null,
            "align_self": null,
            "border": null,
            "bottom": null,
            "display": null,
            "flex": null,
            "flex_flow": null,
            "grid_area": null,
            "grid_auto_columns": null,
            "grid_auto_flow": null,
            "grid_auto_rows": null,
            "grid_column": null,
            "grid_gap": null,
            "grid_row": null,
            "grid_template_areas": null,
            "grid_template_columns": null,
            "grid_template_rows": null,
            "height": null,
            "justify_content": null,
            "justify_items": null,
            "left": null,
            "margin": null,
            "max_height": null,
            "max_width": null,
            "min_height": null,
            "min_width": null,
            "object_fit": null,
            "object_position": null,
            "order": null,
            "overflow": null,
            "overflow_x": null,
            "overflow_y": null,
            "padding": null,
            "right": null,
            "top": null,
            "visibility": null,
            "width": null
          }
        },
        "7c0fc0d3e3184cd49e759350109cef00": {
          "model_module": "@jupyter-widgets/base",
          "model_name": "LayoutModel",
          "model_module_version": "1.2.0",
          "state": {
            "_model_module": "@jupyter-widgets/base",
            "_model_module_version": "1.2.0",
            "_model_name": "LayoutModel",
            "_view_count": null,
            "_view_module": "@jupyter-widgets/base",
            "_view_module_version": "1.2.0",
            "_view_name": "LayoutView",
            "align_content": null,
            "align_items": null,
            "align_self": null,
            "border": null,
            "bottom": null,
            "display": null,
            "flex": null,
            "flex_flow": null,
            "grid_area": null,
            "grid_auto_columns": null,
            "grid_auto_flow": null,
            "grid_auto_rows": null,
            "grid_column": null,
            "grid_gap": null,
            "grid_row": null,
            "grid_template_areas": null,
            "grid_template_columns": null,
            "grid_template_rows": null,
            "height": null,
            "justify_content": null,
            "justify_items": null,
            "left": null,
            "margin": null,
            "max_height": null,
            "max_width": null,
            "min_height": null,
            "min_width": null,
            "object_fit": null,
            "object_position": null,
            "order": null,
            "overflow": null,
            "overflow_x": null,
            "overflow_y": null,
            "padding": null,
            "right": null,
            "top": null,
            "visibility": null,
            "width": null
          }
        },
        "b3416c4b5c1e4c3c89ebadc5221e270e": {
          "model_module": "@jupyter-widgets/controls",
          "model_name": "DescriptionStyleModel",
          "model_module_version": "1.5.0",
          "state": {
            "_model_module": "@jupyter-widgets/controls",
            "_model_module_version": "1.5.0",
            "_model_name": "DescriptionStyleModel",
            "_view_count": null,
            "_view_module": "@jupyter-widgets/base",
            "_view_module_version": "1.2.0",
            "_view_name": "StyleView",
            "description_width": ""
          }
        },
        "75bc20bda1974883922b22de6d8425a0": {
          "model_module": "@jupyter-widgets/base",
          "model_name": "LayoutModel",
          "model_module_version": "1.2.0",
          "state": {
            "_model_module": "@jupyter-widgets/base",
            "_model_module_version": "1.2.0",
            "_model_name": "LayoutModel",
            "_view_count": null,
            "_view_module": "@jupyter-widgets/base",
            "_view_module_version": "1.2.0",
            "_view_name": "LayoutView",
            "align_content": null,
            "align_items": null,
            "align_self": null,
            "border": null,
            "bottom": null,
            "display": null,
            "flex": null,
            "flex_flow": null,
            "grid_area": null,
            "grid_auto_columns": null,
            "grid_auto_flow": null,
            "grid_auto_rows": null,
            "grid_column": null,
            "grid_gap": null,
            "grid_row": null,
            "grid_template_areas": null,
            "grid_template_columns": null,
            "grid_template_rows": null,
            "height": null,
            "justify_content": null,
            "justify_items": null,
            "left": null,
            "margin": null,
            "max_height": null,
            "max_width": null,
            "min_height": null,
            "min_width": null,
            "object_fit": null,
            "object_position": null,
            "order": null,
            "overflow": null,
            "overflow_x": null,
            "overflow_y": null,
            "padding": null,
            "right": null,
            "top": null,
            "visibility": null,
            "width": null
          }
        },
        "9af98faf4b90498196ab6db28cc51b3b": {
          "model_module": "@jupyter-widgets/controls",
          "model_name": "ProgressStyleModel",
          "model_module_version": "1.5.0",
          "state": {
            "_model_module": "@jupyter-widgets/controls",
            "_model_module_version": "1.5.0",
            "_model_name": "ProgressStyleModel",
            "_view_count": null,
            "_view_module": "@jupyter-widgets/base",
            "_view_module_version": "1.2.0",
            "_view_name": "StyleView",
            "bar_color": null,
            "description_width": ""
          }
        },
        "db2da1e5c4ff4e27a5384c64a074b689": {
          "model_module": "@jupyter-widgets/base",
          "model_name": "LayoutModel",
          "model_module_version": "1.2.0",
          "state": {
            "_model_module": "@jupyter-widgets/base",
            "_model_module_version": "1.2.0",
            "_model_name": "LayoutModel",
            "_view_count": null,
            "_view_module": "@jupyter-widgets/base",
            "_view_module_version": "1.2.0",
            "_view_name": "LayoutView",
            "align_content": null,
            "align_items": null,
            "align_self": null,
            "border": null,
            "bottom": null,
            "display": null,
            "flex": null,
            "flex_flow": null,
            "grid_area": null,
            "grid_auto_columns": null,
            "grid_auto_flow": null,
            "grid_auto_rows": null,
            "grid_column": null,
            "grid_gap": null,
            "grid_row": null,
            "grid_template_areas": null,
            "grid_template_columns": null,
            "grid_template_rows": null,
            "height": null,
            "justify_content": null,
            "justify_items": null,
            "left": null,
            "margin": null,
            "max_height": null,
            "max_width": null,
            "min_height": null,
            "min_width": null,
            "object_fit": null,
            "object_position": null,
            "order": null,
            "overflow": null,
            "overflow_x": null,
            "overflow_y": null,
            "padding": null,
            "right": null,
            "top": null,
            "visibility": null,
            "width": null
          }
        },
        "08dae3468e0b4bc8b549c69323cf73cf": {
          "model_module": "@jupyter-widgets/controls",
          "model_name": "DescriptionStyleModel",
          "model_module_version": "1.5.0",
          "state": {
            "_model_module": "@jupyter-widgets/controls",
            "_model_module_version": "1.5.0",
            "_model_name": "DescriptionStyleModel",
            "_view_count": null,
            "_view_module": "@jupyter-widgets/base",
            "_view_module_version": "1.2.0",
            "_view_name": "StyleView",
            "description_width": ""
          }
        },
        "5adda3b5cb714ebdb96d46093d6dfb6c": {
          "model_module": "@jupyter-widgets/controls",
          "model_name": "HBoxModel",
          "model_module_version": "1.5.0",
          "state": {
            "_dom_classes": [],
            "_model_module": "@jupyter-widgets/controls",
            "_model_module_version": "1.5.0",
            "_model_name": "HBoxModel",
            "_view_count": null,
            "_view_module": "@jupyter-widgets/controls",
            "_view_module_version": "1.5.0",
            "_view_name": "HBoxView",
            "box_style": "",
            "children": [
              "IPY_MODEL_845dfec12a1a4947acd438daf8cde0b0",
              "IPY_MODEL_cce1ef5f698c4258bbdacbdbf2b7ecb0",
              "IPY_MODEL_c4d1ed7403dd4b06aa4539a99dd84b6f"
            ],
            "layout": "IPY_MODEL_3eb85c2fdef34dfe91fe4c83529b206c"
          }
        },
        "845dfec12a1a4947acd438daf8cde0b0": {
          "model_module": "@jupyter-widgets/controls",
          "model_name": "HTMLModel",
          "model_module_version": "1.5.0",
          "state": {
            "_dom_classes": [],
            "_model_module": "@jupyter-widgets/controls",
            "_model_module_version": "1.5.0",
            "_model_name": "HTMLModel",
            "_view_count": null,
            "_view_module": "@jupyter-widgets/controls",
            "_view_module_version": "1.5.0",
            "_view_name": "HTMLView",
            "description": "",
            "description_tooltip": null,
            "layout": "IPY_MODEL_3fea3b2318ea465d91a0dbff426afb13",
            "placeholder": "​",
            "style": "IPY_MODEL_020c7feed4c047a281a609334923b7f4",
            "value": "diffusion_pytorch_model.safetensors: 100%"
          }
        },
        "cce1ef5f698c4258bbdacbdbf2b7ecb0": {
          "model_module": "@jupyter-widgets/controls",
          "model_name": "FloatProgressModel",
          "model_module_version": "1.5.0",
          "state": {
            "_dom_classes": [],
            "_model_module": "@jupyter-widgets/controls",
            "_model_module_version": "1.5.0",
            "_model_name": "FloatProgressModel",
            "_view_count": null,
            "_view_module": "@jupyter-widgets/controls",
            "_view_module_version": "1.5.0",
            "_view_name": "ProgressView",
            "bar_style": "success",
            "description": "",
            "description_tooltip": null,
            "layout": "IPY_MODEL_9d8ccfb6bb734d7caad7b97a58f49abf",
            "max": 74185252,
            "min": 0,
            "orientation": "horizontal",
            "style": "IPY_MODEL_8aad7275c6924c0cac39441fe777b31d",
            "value": 74185252
          }
        },
        "c4d1ed7403dd4b06aa4539a99dd84b6f": {
          "model_module": "@jupyter-widgets/controls",
          "model_name": "HTMLModel",
          "model_module_version": "1.5.0",
          "state": {
            "_dom_classes": [],
            "_model_module": "@jupyter-widgets/controls",
            "_model_module_version": "1.5.0",
            "_model_name": "HTMLModel",
            "_view_count": null,
            "_view_module": "@jupyter-widgets/controls",
            "_view_module_version": "1.5.0",
            "_view_name": "HTMLView",
            "description": "",
            "description_tooltip": null,
            "layout": "IPY_MODEL_d5101bd5d990425ca969522579bcc908",
            "placeholder": "​",
            "style": "IPY_MODEL_665c5651f79b43869a9466f4e7aef340",
            "value": " 74.2M/74.2M [00:01&lt;00:00, 57.2MB/s]"
          }
        },
        "3eb85c2fdef34dfe91fe4c83529b206c": {
          "model_module": "@jupyter-widgets/base",
          "model_name": "LayoutModel",
          "model_module_version": "1.2.0",
          "state": {
            "_model_module": "@jupyter-widgets/base",
            "_model_module_version": "1.2.0",
            "_model_name": "LayoutModel",
            "_view_count": null,
            "_view_module": "@jupyter-widgets/base",
            "_view_module_version": "1.2.0",
            "_view_name": "LayoutView",
            "align_content": null,
            "align_items": null,
            "align_self": null,
            "border": null,
            "bottom": null,
            "display": null,
            "flex": null,
            "flex_flow": null,
            "grid_area": null,
            "grid_auto_columns": null,
            "grid_auto_flow": null,
            "grid_auto_rows": null,
            "grid_column": null,
            "grid_gap": null,
            "grid_row": null,
            "grid_template_areas": null,
            "grid_template_columns": null,
            "grid_template_rows": null,
            "height": null,
            "justify_content": null,
            "justify_items": null,
            "left": null,
            "margin": null,
            "max_height": null,
            "max_width": null,
            "min_height": null,
            "min_width": null,
            "object_fit": null,
            "object_position": null,
            "order": null,
            "overflow": null,
            "overflow_x": null,
            "overflow_y": null,
            "padding": null,
            "right": null,
            "top": null,
            "visibility": null,
            "width": null
          }
        },
        "3fea3b2318ea465d91a0dbff426afb13": {
          "model_module": "@jupyter-widgets/base",
          "model_name": "LayoutModel",
          "model_module_version": "1.2.0",
          "state": {
            "_model_module": "@jupyter-widgets/base",
            "_model_module_version": "1.2.0",
            "_model_name": "LayoutModel",
            "_view_count": null,
            "_view_module": "@jupyter-widgets/base",
            "_view_module_version": "1.2.0",
            "_view_name": "LayoutView",
            "align_content": null,
            "align_items": null,
            "align_self": null,
            "border": null,
            "bottom": null,
            "display": null,
            "flex": null,
            "flex_flow": null,
            "grid_area": null,
            "grid_auto_columns": null,
            "grid_auto_flow": null,
            "grid_auto_rows": null,
            "grid_column": null,
            "grid_gap": null,
            "grid_row": null,
            "grid_template_areas": null,
            "grid_template_columns": null,
            "grid_template_rows": null,
            "height": null,
            "justify_content": null,
            "justify_items": null,
            "left": null,
            "margin": null,
            "max_height": null,
            "max_width": null,
            "min_height": null,
            "min_width": null,
            "object_fit": null,
            "object_position": null,
            "order": null,
            "overflow": null,
            "overflow_x": null,
            "overflow_y": null,
            "padding": null,
            "right": null,
            "top": null,
            "visibility": null,
            "width": null
          }
        },
        "020c7feed4c047a281a609334923b7f4": {
          "model_module": "@jupyter-widgets/controls",
          "model_name": "DescriptionStyleModel",
          "model_module_version": "1.5.0",
          "state": {
            "_model_module": "@jupyter-widgets/controls",
            "_model_module_version": "1.5.0",
            "_model_name": "DescriptionStyleModel",
            "_view_count": null,
            "_view_module": "@jupyter-widgets/base",
            "_view_module_version": "1.2.0",
            "_view_name": "StyleView",
            "description_width": ""
          }
        },
        "9d8ccfb6bb734d7caad7b97a58f49abf": {
          "model_module": "@jupyter-widgets/base",
          "model_name": "LayoutModel",
          "model_module_version": "1.2.0",
          "state": {
            "_model_module": "@jupyter-widgets/base",
            "_model_module_version": "1.2.0",
            "_model_name": "LayoutModel",
            "_view_count": null,
            "_view_module": "@jupyter-widgets/base",
            "_view_module_version": "1.2.0",
            "_view_name": "LayoutView",
            "align_content": null,
            "align_items": null,
            "align_self": null,
            "border": null,
            "bottom": null,
            "display": null,
            "flex": null,
            "flex_flow": null,
            "grid_area": null,
            "grid_auto_columns": null,
            "grid_auto_flow": null,
            "grid_auto_rows": null,
            "grid_column": null,
            "grid_gap": null,
            "grid_row": null,
            "grid_template_areas": null,
            "grid_template_columns": null,
            "grid_template_rows": null,
            "height": null,
            "justify_content": null,
            "justify_items": null,
            "left": null,
            "margin": null,
            "max_height": null,
            "max_width": null,
            "min_height": null,
            "min_width": null,
            "object_fit": null,
            "object_position": null,
            "order": null,
            "overflow": null,
            "overflow_x": null,
            "overflow_y": null,
            "padding": null,
            "right": null,
            "top": null,
            "visibility": null,
            "width": null
          }
        },
        "8aad7275c6924c0cac39441fe777b31d": {
          "model_module": "@jupyter-widgets/controls",
          "model_name": "ProgressStyleModel",
          "model_module_version": "1.5.0",
          "state": {
            "_model_module": "@jupyter-widgets/controls",
            "_model_module_version": "1.5.0",
            "_model_name": "ProgressStyleModel",
            "_view_count": null,
            "_view_module": "@jupyter-widgets/base",
            "_view_module_version": "1.2.0",
            "_view_name": "StyleView",
            "bar_color": null,
            "description_width": ""
          }
        },
        "d5101bd5d990425ca969522579bcc908": {
          "model_module": "@jupyter-widgets/base",
          "model_name": "LayoutModel",
          "model_module_version": "1.2.0",
          "state": {
            "_model_module": "@jupyter-widgets/base",
            "_model_module_version": "1.2.0",
            "_model_name": "LayoutModel",
            "_view_count": null,
            "_view_module": "@jupyter-widgets/base",
            "_view_module_version": "1.2.0",
            "_view_name": "LayoutView",
            "align_content": null,
            "align_items": null,
            "align_self": null,
            "border": null,
            "bottom": null,
            "display": null,
            "flex": null,
            "flex_flow": null,
            "grid_area": null,
            "grid_auto_columns": null,
            "grid_auto_flow": null,
            "grid_auto_rows": null,
            "grid_column": null,
            "grid_gap": null,
            "grid_row": null,
            "grid_template_areas": null,
            "grid_template_columns": null,
            "grid_template_rows": null,
            "height": null,
            "justify_content": null,
            "justify_items": null,
            "left": null,
            "margin": null,
            "max_height": null,
            "max_width": null,
            "min_height": null,
            "min_width": null,
            "object_fit": null,
            "object_position": null,
            "order": null,
            "overflow": null,
            "overflow_x": null,
            "overflow_y": null,
            "padding": null,
            "right": null,
            "top": null,
            "visibility": null,
            "width": null
          }
        },
        "665c5651f79b43869a9466f4e7aef340": {
          "model_module": "@jupyter-widgets/controls",
          "model_name": "DescriptionStyleModel",
          "model_module_version": "1.5.0",
          "state": {
            "_model_module": "@jupyter-widgets/controls",
            "_model_module_version": "1.5.0",
            "_model_name": "DescriptionStyleModel",
            "_view_count": null,
            "_view_module": "@jupyter-widgets/base",
            "_view_module_version": "1.2.0",
            "_view_name": "StyleView",
            "description_width": ""
          }
        },
        "0461c500851945e1b096ee320c936e76": {
          "model_module": "@jupyter-widgets/controls",
          "model_name": "HBoxModel",
          "model_module_version": "1.5.0",
          "state": {
            "_dom_classes": [],
            "_model_module": "@jupyter-widgets/controls",
            "_model_module_version": "1.5.0",
            "_model_name": "HBoxModel",
            "_view_count": null,
            "_view_module": "@jupyter-widgets/controls",
            "_view_module_version": "1.5.0",
            "_view_name": "HBoxView",
            "box_style": "",
            "children": [
              "IPY_MODEL_ed192d07ecfa4cfb9947ef51987aacb3",
              "IPY_MODEL_7220d1d3579f48348b4d9f32c0739145",
              "IPY_MODEL_335f77e639f642f4be7913936ca8d6a1"
            ],
            "layout": "IPY_MODEL_30b59986de074da89001b1cfcff2f12a"
          }
        },
        "ed192d07ecfa4cfb9947ef51987aacb3": {
          "model_module": "@jupyter-widgets/controls",
          "model_name": "HTMLModel",
          "model_module_version": "1.5.0",
          "state": {
            "_dom_classes": [],
            "_model_module": "@jupyter-widgets/controls",
            "_model_module_version": "1.5.0",
            "_model_name": "HTMLModel",
            "_view_count": null,
            "_view_module": "@jupyter-widgets/controls",
            "_view_module_version": "1.5.0",
            "_view_name": "HTMLView",
            "description": "",
            "description_tooltip": null,
            "layout": "IPY_MODEL_754d13398dca4e57bec04f56276dc9eb",
            "placeholder": "​",
            "style": "IPY_MODEL_465868d24b374ab0b94fec34f3b76fb3",
            "value": "config.json: 100%"
          }
        },
        "7220d1d3579f48348b4d9f32c0739145": {
          "model_module": "@jupyter-widgets/controls",
          "model_name": "FloatProgressModel",
          "model_module_version": "1.5.0",
          "state": {
            "_dom_classes": [],
            "_model_module": "@jupyter-widgets/controls",
            "_model_module_version": "1.5.0",
            "_model_name": "FloatProgressModel",
            "_view_count": null,
            "_view_module": "@jupyter-widgets/controls",
            "_view_module_version": "1.5.0",
            "_view_name": "ProgressView",
            "bar_style": "success",
            "description": "",
            "description_tooltip": null,
            "layout": "IPY_MODEL_f56c2cb714704f6c99aabc2910e7c95e",
            "max": 991,
            "min": 0,
            "orientation": "horizontal",
            "style": "IPY_MODEL_7762e5b7169d499ab659e1b99018d64f",
            "value": 991
          }
        },
        "335f77e639f642f4be7913936ca8d6a1": {
          "model_module": "@jupyter-widgets/controls",
          "model_name": "HTMLModel",
          "model_module_version": "1.5.0",
          "state": {
            "_dom_classes": [],
            "_model_module": "@jupyter-widgets/controls",
            "_model_module_version": "1.5.0",
            "_model_name": "HTMLModel",
            "_view_count": null,
            "_view_module": "@jupyter-widgets/controls",
            "_view_module_version": "1.5.0",
            "_view_name": "HTMLView",
            "description": "",
            "description_tooltip": null,
            "layout": "IPY_MODEL_6da1c63ce4754e9baea835b985b87c8b",
            "placeholder": "​",
            "style": "IPY_MODEL_52b9afb09ebf4fd28aef0f56e4ea05bd",
            "value": " 991/991 [00:00&lt;00:00, 95.4kB/s]"
          }
        },
        "30b59986de074da89001b1cfcff2f12a": {
          "model_module": "@jupyter-widgets/base",
          "model_name": "LayoutModel",
          "model_module_version": "1.2.0",
          "state": {
            "_model_module": "@jupyter-widgets/base",
            "_model_module_version": "1.2.0",
            "_model_name": "LayoutModel",
            "_view_count": null,
            "_view_module": "@jupyter-widgets/base",
            "_view_module_version": "1.2.0",
            "_view_name": "LayoutView",
            "align_content": null,
            "align_items": null,
            "align_self": null,
            "border": null,
            "bottom": null,
            "display": null,
            "flex": null,
            "flex_flow": null,
            "grid_area": null,
            "grid_auto_columns": null,
            "grid_auto_flow": null,
            "grid_auto_rows": null,
            "grid_column": null,
            "grid_gap": null,
            "grid_row": null,
            "grid_template_areas": null,
            "grid_template_columns": null,
            "grid_template_rows": null,
            "height": null,
            "justify_content": null,
            "justify_items": null,
            "left": null,
            "margin": null,
            "max_height": null,
            "max_width": null,
            "min_height": null,
            "min_width": null,
            "object_fit": null,
            "object_position": null,
            "order": null,
            "overflow": null,
            "overflow_x": null,
            "overflow_y": null,
            "padding": null,
            "right": null,
            "top": null,
            "visibility": null,
            "width": null
          }
        },
        "754d13398dca4e57bec04f56276dc9eb": {
          "model_module": "@jupyter-widgets/base",
          "model_name": "LayoutModel",
          "model_module_version": "1.2.0",
          "state": {
            "_model_module": "@jupyter-widgets/base",
            "_model_module_version": "1.2.0",
            "_model_name": "LayoutModel",
            "_view_count": null,
            "_view_module": "@jupyter-widgets/base",
            "_view_module_version": "1.2.0",
            "_view_name": "LayoutView",
            "align_content": null,
            "align_items": null,
            "align_self": null,
            "border": null,
            "bottom": null,
            "display": null,
            "flex": null,
            "flex_flow": null,
            "grid_area": null,
            "grid_auto_columns": null,
            "grid_auto_flow": null,
            "grid_auto_rows": null,
            "grid_column": null,
            "grid_gap": null,
            "grid_row": null,
            "grid_template_areas": null,
            "grid_template_columns": null,
            "grid_template_rows": null,
            "height": null,
            "justify_content": null,
            "justify_items": null,
            "left": null,
            "margin": null,
            "max_height": null,
            "max_width": null,
            "min_height": null,
            "min_width": null,
            "object_fit": null,
            "object_position": null,
            "order": null,
            "overflow": null,
            "overflow_x": null,
            "overflow_y": null,
            "padding": null,
            "right": null,
            "top": null,
            "visibility": null,
            "width": null
          }
        },
        "465868d24b374ab0b94fec34f3b76fb3": {
          "model_module": "@jupyter-widgets/controls",
          "model_name": "DescriptionStyleModel",
          "model_module_version": "1.5.0",
          "state": {
            "_model_module": "@jupyter-widgets/controls",
            "_model_module_version": "1.5.0",
            "_model_name": "DescriptionStyleModel",
            "_view_count": null,
            "_view_module": "@jupyter-widgets/base",
            "_view_module_version": "1.2.0",
            "_view_name": "StyleView",
            "description_width": ""
          }
        },
        "f56c2cb714704f6c99aabc2910e7c95e": {
          "model_module": "@jupyter-widgets/base",
          "model_name": "LayoutModel",
          "model_module_version": "1.2.0",
          "state": {
            "_model_module": "@jupyter-widgets/base",
            "_model_module_version": "1.2.0",
            "_model_name": "LayoutModel",
            "_view_count": null,
            "_view_module": "@jupyter-widgets/base",
            "_view_module_version": "1.2.0",
            "_view_name": "LayoutView",
            "align_content": null,
            "align_items": null,
            "align_self": null,
            "border": null,
            "bottom": null,
            "display": null,
            "flex": null,
            "flex_flow": null,
            "grid_area": null,
            "grid_auto_columns": null,
            "grid_auto_flow": null,
            "grid_auto_rows": null,
            "grid_column": null,
            "grid_gap": null,
            "grid_row": null,
            "grid_template_areas": null,
            "grid_template_columns": null,
            "grid_template_rows": null,
            "height": null,
            "justify_content": null,
            "justify_items": null,
            "left": null,
            "margin": null,
            "max_height": null,
            "max_width": null,
            "min_height": null,
            "min_width": null,
            "object_fit": null,
            "object_position": null,
            "order": null,
            "overflow": null,
            "overflow_x": null,
            "overflow_y": null,
            "padding": null,
            "right": null,
            "top": null,
            "visibility": null,
            "width": null
          }
        },
        "7762e5b7169d499ab659e1b99018d64f": {
          "model_module": "@jupyter-widgets/controls",
          "model_name": "ProgressStyleModel",
          "model_module_version": "1.5.0",
          "state": {
            "_model_module": "@jupyter-widgets/controls",
            "_model_module_version": "1.5.0",
            "_model_name": "ProgressStyleModel",
            "_view_count": null,
            "_view_module": "@jupyter-widgets/base",
            "_view_module_version": "1.2.0",
            "_view_name": "StyleView",
            "bar_color": null,
            "description_width": ""
          }
        },
        "6da1c63ce4754e9baea835b985b87c8b": {
          "model_module": "@jupyter-widgets/base",
          "model_name": "LayoutModel",
          "model_module_version": "1.2.0",
          "state": {
            "_model_module": "@jupyter-widgets/base",
            "_model_module_version": "1.2.0",
            "_model_name": "LayoutModel",
            "_view_count": null,
            "_view_module": "@jupyter-widgets/base",
            "_view_module_version": "1.2.0",
            "_view_name": "LayoutView",
            "align_content": null,
            "align_items": null,
            "align_self": null,
            "border": null,
            "bottom": null,
            "display": null,
            "flex": null,
            "flex_flow": null,
            "grid_area": null,
            "grid_auto_columns": null,
            "grid_auto_flow": null,
            "grid_auto_rows": null,
            "grid_column": null,
            "grid_gap": null,
            "grid_row": null,
            "grid_template_areas": null,
            "grid_template_columns": null,
            "grid_template_rows": null,
            "height": null,
            "justify_content": null,
            "justify_items": null,
            "left": null,
            "margin": null,
            "max_height": null,
            "max_width": null,
            "min_height": null,
            "min_width": null,
            "object_fit": null,
            "object_position": null,
            "order": null,
            "overflow": null,
            "overflow_x": null,
            "overflow_y": null,
            "padding": null,
            "right": null,
            "top": null,
            "visibility": null,
            "width": null
          }
        },
        "52b9afb09ebf4fd28aef0f56e4ea05bd": {
          "model_module": "@jupyter-widgets/controls",
          "model_name": "DescriptionStyleModel",
          "model_module_version": "1.5.0",
          "state": {
            "_model_module": "@jupyter-widgets/controls",
            "_model_module_version": "1.5.0",
            "_model_name": "DescriptionStyleModel",
            "_view_count": null,
            "_view_module": "@jupyter-widgets/base",
            "_view_module_version": "1.2.0",
            "_view_name": "StyleView",
            "description_width": ""
          }
        },
        "08bd6808bf4e4b3f9a7dbfe86ce4e269": {
          "model_module": "@jupyter-widgets/controls",
          "model_name": "HBoxModel",
          "model_module_version": "1.5.0",
          "state": {
            "_dom_classes": [],
            "_model_module": "@jupyter-widgets/controls",
            "_model_module_version": "1.5.0",
            "_model_name": "HBoxModel",
            "_view_count": null,
            "_view_module": "@jupyter-widgets/controls",
            "_view_module_version": "1.5.0",
            "_view_name": "HBoxView",
            "box_style": "",
            "children": [
              "IPY_MODEL_72d3afe594544bbf8a5c4e0062e60aec",
              "IPY_MODEL_342ffc94094d450194e235d241569731",
              "IPY_MODEL_5c11c8f96be148e9872e18a875ff94fc"
            ],
            "layout": "IPY_MODEL_2c9e3d45ee6446e1ac2575d28e705dd1"
          }
        },
        "72d3afe594544bbf8a5c4e0062e60aec": {
          "model_module": "@jupyter-widgets/controls",
          "model_name": "HTMLModel",
          "model_module_version": "1.5.0",
          "state": {
            "_dom_classes": [],
            "_model_module": "@jupyter-widgets/controls",
            "_model_module_version": "1.5.0",
            "_model_name": "HTMLModel",
            "_view_count": null,
            "_view_module": "@jupyter-widgets/controls",
            "_view_module_version": "1.5.0",
            "_view_name": "HTMLView",
            "description": "",
            "description_tooltip": null,
            "layout": "IPY_MODEL_924e22a6ce104b1cac732f230ebf23c3",
            "placeholder": "​",
            "style": "IPY_MODEL_56de755a7c964764a51eff47d9319481",
            "value": "scheduler_config.json: 100%"
          }
        },
        "342ffc94094d450194e235d241569731": {
          "model_module": "@jupyter-widgets/controls",
          "model_name": "FloatProgressModel",
          "model_module_version": "1.5.0",
          "state": {
            "_dom_classes": [],
            "_model_module": "@jupyter-widgets/controls",
            "_model_module_version": "1.5.0",
            "_model_name": "FloatProgressModel",
            "_view_count": null,
            "_view_module": "@jupyter-widgets/controls",
            "_view_module_version": "1.5.0",
            "_view_name": "ProgressView",
            "bar_style": "success",
            "description": "",
            "description_tooltip": null,
            "layout": "IPY_MODEL_1c458c264c0d46969f13255ea6e42e31",
            "max": 508,
            "min": 0,
            "orientation": "horizontal",
            "style": "IPY_MODEL_4a6f457a0b45452795e3cd314789ad32",
            "value": 508
          }
        },
        "5c11c8f96be148e9872e18a875ff94fc": {
          "model_module": "@jupyter-widgets/controls",
          "model_name": "HTMLModel",
          "model_module_version": "1.5.0",
          "state": {
            "_dom_classes": [],
            "_model_module": "@jupyter-widgets/controls",
            "_model_module_version": "1.5.0",
            "_model_name": "HTMLModel",
            "_view_count": null,
            "_view_module": "@jupyter-widgets/controls",
            "_view_module_version": "1.5.0",
            "_view_name": "HTMLView",
            "description": "",
            "description_tooltip": null,
            "layout": "IPY_MODEL_536967d8202b4134a63f68398ec5bb51",
            "placeholder": "​",
            "style": "IPY_MODEL_3aa20fc835ff470682aa655ca2437ec4",
            "value": " 508/508 [00:00&lt;00:00, 54.6kB/s]"
          }
        },
        "2c9e3d45ee6446e1ac2575d28e705dd1": {
          "model_module": "@jupyter-widgets/base",
          "model_name": "LayoutModel",
          "model_module_version": "1.2.0",
          "state": {
            "_model_module": "@jupyter-widgets/base",
            "_model_module_version": "1.2.0",
            "_model_name": "LayoutModel",
            "_view_count": null,
            "_view_module": "@jupyter-widgets/base",
            "_view_module_version": "1.2.0",
            "_view_name": "LayoutView",
            "align_content": null,
            "align_items": null,
            "align_self": null,
            "border": null,
            "bottom": null,
            "display": null,
            "flex": null,
            "flex_flow": null,
            "grid_area": null,
            "grid_auto_columns": null,
            "grid_auto_flow": null,
            "grid_auto_rows": null,
            "grid_column": null,
            "grid_gap": null,
            "grid_row": null,
            "grid_template_areas": null,
            "grid_template_columns": null,
            "grid_template_rows": null,
            "height": null,
            "justify_content": null,
            "justify_items": null,
            "left": null,
            "margin": null,
            "max_height": null,
            "max_width": null,
            "min_height": null,
            "min_width": null,
            "object_fit": null,
            "object_position": null,
            "order": null,
            "overflow": null,
            "overflow_x": null,
            "overflow_y": null,
            "padding": null,
            "right": null,
            "top": null,
            "visibility": null,
            "width": null
          }
        },
        "924e22a6ce104b1cac732f230ebf23c3": {
          "model_module": "@jupyter-widgets/base",
          "model_name": "LayoutModel",
          "model_module_version": "1.2.0",
          "state": {
            "_model_module": "@jupyter-widgets/base",
            "_model_module_version": "1.2.0",
            "_model_name": "LayoutModel",
            "_view_count": null,
            "_view_module": "@jupyter-widgets/base",
            "_view_module_version": "1.2.0",
            "_view_name": "LayoutView",
            "align_content": null,
            "align_items": null,
            "align_self": null,
            "border": null,
            "bottom": null,
            "display": null,
            "flex": null,
            "flex_flow": null,
            "grid_area": null,
            "grid_auto_columns": null,
            "grid_auto_flow": null,
            "grid_auto_rows": null,
            "grid_column": null,
            "grid_gap": null,
            "grid_row": null,
            "grid_template_areas": null,
            "grid_template_columns": null,
            "grid_template_rows": null,
            "height": null,
            "justify_content": null,
            "justify_items": null,
            "left": null,
            "margin": null,
            "max_height": null,
            "max_width": null,
            "min_height": null,
            "min_width": null,
            "object_fit": null,
            "object_position": null,
            "order": null,
            "overflow": null,
            "overflow_x": null,
            "overflow_y": null,
            "padding": null,
            "right": null,
            "top": null,
            "visibility": null,
            "width": null
          }
        },
        "56de755a7c964764a51eff47d9319481": {
          "model_module": "@jupyter-widgets/controls",
          "model_name": "DescriptionStyleModel",
          "model_module_version": "1.5.0",
          "state": {
            "_model_module": "@jupyter-widgets/controls",
            "_model_module_version": "1.5.0",
            "_model_name": "DescriptionStyleModel",
            "_view_count": null,
            "_view_module": "@jupyter-widgets/base",
            "_view_module_version": "1.2.0",
            "_view_name": "StyleView",
            "description_width": ""
          }
        },
        "1c458c264c0d46969f13255ea6e42e31": {
          "model_module": "@jupyter-widgets/base",
          "model_name": "LayoutModel",
          "model_module_version": "1.2.0",
          "state": {
            "_model_module": "@jupyter-widgets/base",
            "_model_module_version": "1.2.0",
            "_model_name": "LayoutModel",
            "_view_count": null,
            "_view_module": "@jupyter-widgets/base",
            "_view_module_version": "1.2.0",
            "_view_name": "LayoutView",
            "align_content": null,
            "align_items": null,
            "align_self": null,
            "border": null,
            "bottom": null,
            "display": null,
            "flex": null,
            "flex_flow": null,
            "grid_area": null,
            "grid_auto_columns": null,
            "grid_auto_flow": null,
            "grid_auto_rows": null,
            "grid_column": null,
            "grid_gap": null,
            "grid_row": null,
            "grid_template_areas": null,
            "grid_template_columns": null,
            "grid_template_rows": null,
            "height": null,
            "justify_content": null,
            "justify_items": null,
            "left": null,
            "margin": null,
            "max_height": null,
            "max_width": null,
            "min_height": null,
            "min_width": null,
            "object_fit": null,
            "object_position": null,
            "order": null,
            "overflow": null,
            "overflow_x": null,
            "overflow_y": null,
            "padding": null,
            "right": null,
            "top": null,
            "visibility": null,
            "width": null
          }
        },
        "4a6f457a0b45452795e3cd314789ad32": {
          "model_module": "@jupyter-widgets/controls",
          "model_name": "ProgressStyleModel",
          "model_module_version": "1.5.0",
          "state": {
            "_model_module": "@jupyter-widgets/controls",
            "_model_module_version": "1.5.0",
            "_model_name": "ProgressStyleModel",
            "_view_count": null,
            "_view_module": "@jupyter-widgets/base",
            "_view_module_version": "1.2.0",
            "_view_name": "StyleView",
            "bar_color": null,
            "description_width": ""
          }
        },
        "536967d8202b4134a63f68398ec5bb51": {
          "model_module": "@jupyter-widgets/base",
          "model_name": "LayoutModel",
          "model_module_version": "1.2.0",
          "state": {
            "_model_module": "@jupyter-widgets/base",
            "_model_module_version": "1.2.0",
            "_model_name": "LayoutModel",
            "_view_count": null,
            "_view_module": "@jupyter-widgets/base",
            "_view_module_version": "1.2.0",
            "_view_name": "LayoutView",
            "align_content": null,
            "align_items": null,
            "align_self": null,
            "border": null,
            "bottom": null,
            "display": null,
            "flex": null,
            "flex_flow": null,
            "grid_area": null,
            "grid_auto_columns": null,
            "grid_auto_flow": null,
            "grid_auto_rows": null,
            "grid_column": null,
            "grid_gap": null,
            "grid_row": null,
            "grid_template_areas": null,
            "grid_template_columns": null,
            "grid_template_rows": null,
            "height": null,
            "justify_content": null,
            "justify_items": null,
            "left": null,
            "margin": null,
            "max_height": null,
            "max_width": null,
            "min_height": null,
            "min_width": null,
            "object_fit": null,
            "object_position": null,
            "order": null,
            "overflow": null,
            "overflow_x": null,
            "overflow_y": null,
            "padding": null,
            "right": null,
            "top": null,
            "visibility": null,
            "width": null
          }
        },
        "3aa20fc835ff470682aa655ca2437ec4": {
          "model_module": "@jupyter-widgets/controls",
          "model_name": "DescriptionStyleModel",
          "model_module_version": "1.5.0",
          "state": {
            "_model_module": "@jupyter-widgets/controls",
            "_model_module_version": "1.5.0",
            "_model_name": "DescriptionStyleModel",
            "_view_count": null,
            "_view_module": "@jupyter-widgets/base",
            "_view_module_version": "1.2.0",
            "_view_name": "StyleView",
            "description_width": ""
          }
        },
        "8f52ec8953c543249de740b93bc50c53": {
          "model_module": "@jupyter-widgets/controls",
          "model_name": "HBoxModel",
          "model_module_version": "1.5.0",
          "state": {
            "_dom_classes": [],
            "_model_module": "@jupyter-widgets/controls",
            "_model_module_version": "1.5.0",
            "_model_name": "HBoxModel",
            "_view_count": null,
            "_view_module": "@jupyter-widgets/controls",
            "_view_module_version": "1.5.0",
            "_view_name": "HBoxView",
            "box_style": "",
            "children": [
              "IPY_MODEL_902eb95173ae4030b22c242e5e7a22dd",
              "IPY_MODEL_8c1381a082ee4ff393db0b9f78f7b271",
              "IPY_MODEL_41c6f64828a04a199baeb2a68aed7f88"
            ],
            "layout": "IPY_MODEL_69a76983654d42089e9b3cf4abb84919"
          }
        },
        "902eb95173ae4030b22c242e5e7a22dd": {
          "model_module": "@jupyter-widgets/controls",
          "model_name": "HTMLModel",
          "model_module_version": "1.5.0",
          "state": {
            "_dom_classes": [],
            "_model_module": "@jupyter-widgets/controls",
            "_model_module_version": "1.5.0",
            "_model_name": "HTMLModel",
            "_view_count": null,
            "_view_module": "@jupyter-widgets/controls",
            "_view_module_version": "1.5.0",
            "_view_name": "HTMLView",
            "description": "",
            "description_tooltip": null,
            "layout": "IPY_MODEL_3b9dbb9befc94206a5ededa0ea9d3c91",
            "placeholder": "​",
            "style": "IPY_MODEL_3a7e86c46f6c40d2bdb766c84a57fee3",
            "value": "model_index.json: 100%"
          }
        },
        "8c1381a082ee4ff393db0b9f78f7b271": {
          "model_module": "@jupyter-widgets/controls",
          "model_name": "FloatProgressModel",
          "model_module_version": "1.5.0",
          "state": {
            "_dom_classes": [],
            "_model_module": "@jupyter-widgets/controls",
            "_model_module_version": "1.5.0",
            "_model_name": "FloatProgressModel",
            "_view_count": null,
            "_view_module": "@jupyter-widgets/controls",
            "_view_module_version": "1.5.0",
            "_view_name": "ProgressView",
            "bar_style": "success",
            "description": "",
            "description_tooltip": null,
            "layout": "IPY_MODEL_4415998eedd841279fd3f582050ba62a",
            "max": 181,
            "min": 0,
            "orientation": "horizontal",
            "style": "IPY_MODEL_ba52c1c1db1f4690b6ff55dbbc726367",
            "value": 181
          }
        },
        "41c6f64828a04a199baeb2a68aed7f88": {
          "model_module": "@jupyter-widgets/controls",
          "model_name": "HTMLModel",
          "model_module_version": "1.5.0",
          "state": {
            "_dom_classes": [],
            "_model_module": "@jupyter-widgets/controls",
            "_model_module_version": "1.5.0",
            "_model_name": "HTMLModel",
            "_view_count": null,
            "_view_module": "@jupyter-widgets/controls",
            "_view_module_version": "1.5.0",
            "_view_name": "HTMLView",
            "description": "",
            "description_tooltip": null,
            "layout": "IPY_MODEL_110a23b6ae9545369a18e1882cc08a1f",
            "placeholder": "​",
            "style": "IPY_MODEL_babe5cc7e1f043678db34c6347a63e75",
            "value": " 181/181 [00:00&lt;00:00, 20.6kB/s]"
          }
        },
        "69a76983654d42089e9b3cf4abb84919": {
          "model_module": "@jupyter-widgets/base",
          "model_name": "LayoutModel",
          "model_module_version": "1.2.0",
          "state": {
            "_model_module": "@jupyter-widgets/base",
            "_model_module_version": "1.2.0",
            "_model_name": "LayoutModel",
            "_view_count": null,
            "_view_module": "@jupyter-widgets/base",
            "_view_module_version": "1.2.0",
            "_view_name": "LayoutView",
            "align_content": null,
            "align_items": null,
            "align_self": null,
            "border": null,
            "bottom": null,
            "display": null,
            "flex": null,
            "flex_flow": null,
            "grid_area": null,
            "grid_auto_columns": null,
            "grid_auto_flow": null,
            "grid_auto_rows": null,
            "grid_column": null,
            "grid_gap": null,
            "grid_row": null,
            "grid_template_areas": null,
            "grid_template_columns": null,
            "grid_template_rows": null,
            "height": null,
            "justify_content": null,
            "justify_items": null,
            "left": null,
            "margin": null,
            "max_height": null,
            "max_width": null,
            "min_height": null,
            "min_width": null,
            "object_fit": null,
            "object_position": null,
            "order": null,
            "overflow": null,
            "overflow_x": null,
            "overflow_y": null,
            "padding": null,
            "right": null,
            "top": null,
            "visibility": null,
            "width": null
          }
        },
        "3b9dbb9befc94206a5ededa0ea9d3c91": {
          "model_module": "@jupyter-widgets/base",
          "model_name": "LayoutModel",
          "model_module_version": "1.2.0",
          "state": {
            "_model_module": "@jupyter-widgets/base",
            "_model_module_version": "1.2.0",
            "_model_name": "LayoutModel",
            "_view_count": null,
            "_view_module": "@jupyter-widgets/base",
            "_view_module_version": "1.2.0",
            "_view_name": "LayoutView",
            "align_content": null,
            "align_items": null,
            "align_self": null,
            "border": null,
            "bottom": null,
            "display": null,
            "flex": null,
            "flex_flow": null,
            "grid_area": null,
            "grid_auto_columns": null,
            "grid_auto_flow": null,
            "grid_auto_rows": null,
            "grid_column": null,
            "grid_gap": null,
            "grid_row": null,
            "grid_template_areas": null,
            "grid_template_columns": null,
            "grid_template_rows": null,
            "height": null,
            "justify_content": null,
            "justify_items": null,
            "left": null,
            "margin": null,
            "max_height": null,
            "max_width": null,
            "min_height": null,
            "min_width": null,
            "object_fit": null,
            "object_position": null,
            "order": null,
            "overflow": null,
            "overflow_x": null,
            "overflow_y": null,
            "padding": null,
            "right": null,
            "top": null,
            "visibility": null,
            "width": null
          }
        },
        "3a7e86c46f6c40d2bdb766c84a57fee3": {
          "model_module": "@jupyter-widgets/controls",
          "model_name": "DescriptionStyleModel",
          "model_module_version": "1.5.0",
          "state": {
            "_model_module": "@jupyter-widgets/controls",
            "_model_module_version": "1.5.0",
            "_model_name": "DescriptionStyleModel",
            "_view_count": null,
            "_view_module": "@jupyter-widgets/base",
            "_view_module_version": "1.2.0",
            "_view_name": "StyleView",
            "description_width": ""
          }
        },
        "4415998eedd841279fd3f582050ba62a": {
          "model_module": "@jupyter-widgets/base",
          "model_name": "LayoutModel",
          "model_module_version": "1.2.0",
          "state": {
            "_model_module": "@jupyter-widgets/base",
            "_model_module_version": "1.2.0",
            "_model_name": "LayoutModel",
            "_view_count": null,
            "_view_module": "@jupyter-widgets/base",
            "_view_module_version": "1.2.0",
            "_view_name": "LayoutView",
            "align_content": null,
            "align_items": null,
            "align_self": null,
            "border": null,
            "bottom": null,
            "display": null,
            "flex": null,
            "flex_flow": null,
            "grid_area": null,
            "grid_auto_columns": null,
            "grid_auto_flow": null,
            "grid_auto_rows": null,
            "grid_column": null,
            "grid_gap": null,
            "grid_row": null,
            "grid_template_areas": null,
            "grid_template_columns": null,
            "grid_template_rows": null,
            "height": null,
            "justify_content": null,
            "justify_items": null,
            "left": null,
            "margin": null,
            "max_height": null,
            "max_width": null,
            "min_height": null,
            "min_width": null,
            "object_fit": null,
            "object_position": null,
            "order": null,
            "overflow": null,
            "overflow_x": null,
            "overflow_y": null,
            "padding": null,
            "right": null,
            "top": null,
            "visibility": null,
            "width": null
          }
        },
        "ba52c1c1db1f4690b6ff55dbbc726367": {
          "model_module": "@jupyter-widgets/controls",
          "model_name": "ProgressStyleModel",
          "model_module_version": "1.5.0",
          "state": {
            "_model_module": "@jupyter-widgets/controls",
            "_model_module_version": "1.5.0",
            "_model_name": "ProgressStyleModel",
            "_view_count": null,
            "_view_module": "@jupyter-widgets/base",
            "_view_module_version": "1.2.0",
            "_view_name": "StyleView",
            "bar_color": null,
            "description_width": ""
          }
        },
        "110a23b6ae9545369a18e1882cc08a1f": {
          "model_module": "@jupyter-widgets/base",
          "model_name": "LayoutModel",
          "model_module_version": "1.2.0",
          "state": {
            "_model_module": "@jupyter-widgets/base",
            "_model_module_version": "1.2.0",
            "_model_name": "LayoutModel",
            "_view_count": null,
            "_view_module": "@jupyter-widgets/base",
            "_view_module_version": "1.2.0",
            "_view_name": "LayoutView",
            "align_content": null,
            "align_items": null,
            "align_self": null,
            "border": null,
            "bottom": null,
            "display": null,
            "flex": null,
            "flex_flow": null,
            "grid_area": null,
            "grid_auto_columns": null,
            "grid_auto_flow": null,
            "grid_auto_rows": null,
            "grid_column": null,
            "grid_gap": null,
            "grid_row": null,
            "grid_template_areas": null,
            "grid_template_columns": null,
            "grid_template_rows": null,
            "height": null,
            "justify_content": null,
            "justify_items": null,
            "left": null,
            "margin": null,
            "max_height": null,
            "max_width": null,
            "min_height": null,
            "min_width": null,
            "object_fit": null,
            "object_position": null,
            "order": null,
            "overflow": null,
            "overflow_x": null,
            "overflow_y": null,
            "padding": null,
            "right": null,
            "top": null,
            "visibility": null,
            "width": null
          }
        },
        "babe5cc7e1f043678db34c6347a63e75": {
          "model_module": "@jupyter-widgets/controls",
          "model_name": "DescriptionStyleModel",
          "model_module_version": "1.5.0",
          "state": {
            "_model_module": "@jupyter-widgets/controls",
            "_model_module_version": "1.5.0",
            "_model_name": "DescriptionStyleModel",
            "_view_count": null,
            "_view_module": "@jupyter-widgets/base",
            "_view_module_version": "1.2.0",
            "_view_name": "StyleView",
            "description_width": ""
          }
        },
        "b43499143edf4ab4907be37626b8d262": {
          "model_module": "@jupyter-widgets/controls",
          "model_name": "HBoxModel",
          "model_module_version": "1.5.0",
          "state": {
            "_dom_classes": [],
            "_model_module": "@jupyter-widgets/controls",
            "_model_module_version": "1.5.0",
            "_model_name": "HBoxModel",
            "_view_count": null,
            "_view_module": "@jupyter-widgets/controls",
            "_view_module_version": "1.5.0",
            "_view_name": "HBoxView",
            "box_style": "",
            "children": [
              "IPY_MODEL_6b8a1fcf5f0d42308370ccf65e441c64",
              "IPY_MODEL_683cb02ebf674d89831023778697186c",
              "IPY_MODEL_ecec21632fd14abdb6d9681240d53400"
            ],
            "layout": "IPY_MODEL_38da9d50ff7c463b88a43cbdc2befc0e"
          }
        },
        "6b8a1fcf5f0d42308370ccf65e441c64": {
          "model_module": "@jupyter-widgets/controls",
          "model_name": "HTMLModel",
          "model_module_version": "1.5.0",
          "state": {
            "_dom_classes": [],
            "_model_module": "@jupyter-widgets/controls",
            "_model_module_version": "1.5.0",
            "_model_name": "HTMLModel",
            "_view_count": null,
            "_view_module": "@jupyter-widgets/controls",
            "_view_module_version": "1.5.0",
            "_view_name": "HTMLView",
            "description": "",
            "description_tooltip": null,
            "layout": "IPY_MODEL_ba12cc04a3cd45638aef799d4e63187f",
            "placeholder": "​",
            "style": "IPY_MODEL_d848d645f6154ea6951b05c5a690bd95",
            "value": "Loading pipeline components...: 100%"
          }
        },
        "683cb02ebf674d89831023778697186c": {
          "model_module": "@jupyter-widgets/controls",
          "model_name": "FloatProgressModel",
          "model_module_version": "1.5.0",
          "state": {
            "_dom_classes": [],
            "_model_module": "@jupyter-widgets/controls",
            "_model_module_version": "1.5.0",
            "_model_name": "FloatProgressModel",
            "_view_count": null,
            "_view_module": "@jupyter-widgets/controls",
            "_view_module_version": "1.5.0",
            "_view_name": "ProgressView",
            "bar_style": "success",
            "description": "",
            "description_tooltip": null,
            "layout": "IPY_MODEL_53f1724e24cd4cea96f0f279d029d169",
            "max": 2,
            "min": 0,
            "orientation": "horizontal",
            "style": "IPY_MODEL_b2e20e10b964480db8b4bc975d880ebc",
            "value": 2
          }
        },
        "ecec21632fd14abdb6d9681240d53400": {
          "model_module": "@jupyter-widgets/controls",
          "model_name": "HTMLModel",
          "model_module_version": "1.5.0",
          "state": {
            "_dom_classes": [],
            "_model_module": "@jupyter-widgets/controls",
            "_model_module_version": "1.5.0",
            "_model_name": "HTMLModel",
            "_view_count": null,
            "_view_module": "@jupyter-widgets/controls",
            "_view_module_version": "1.5.0",
            "_view_name": "HTMLView",
            "description": "",
            "description_tooltip": null,
            "layout": "IPY_MODEL_091b0dabcbb143dcaab3149aebb2cdba",
            "placeholder": "​",
            "style": "IPY_MODEL_45e2cb32206c4e0780b9516f8e2f5817",
            "value": " 2/2 [00:00&lt;00:00,  8.28it/s]"
          }
        },
        "38da9d50ff7c463b88a43cbdc2befc0e": {
          "model_module": "@jupyter-widgets/base",
          "model_name": "LayoutModel",
          "model_module_version": "1.2.0",
          "state": {
            "_model_module": "@jupyter-widgets/base",
            "_model_module_version": "1.2.0",
            "_model_name": "LayoutModel",
            "_view_count": null,
            "_view_module": "@jupyter-widgets/base",
            "_view_module_version": "1.2.0",
            "_view_name": "LayoutView",
            "align_content": null,
            "align_items": null,
            "align_self": null,
            "border": null,
            "bottom": null,
            "display": null,
            "flex": null,
            "flex_flow": null,
            "grid_area": null,
            "grid_auto_columns": null,
            "grid_auto_flow": null,
            "grid_auto_rows": null,
            "grid_column": null,
            "grid_gap": null,
            "grid_row": null,
            "grid_template_areas": null,
            "grid_template_columns": null,
            "grid_template_rows": null,
            "height": null,
            "justify_content": null,
            "justify_items": null,
            "left": null,
            "margin": null,
            "max_height": null,
            "max_width": null,
            "min_height": null,
            "min_width": null,
            "object_fit": null,
            "object_position": null,
            "order": null,
            "overflow": null,
            "overflow_x": null,
            "overflow_y": null,
            "padding": null,
            "right": null,
            "top": null,
            "visibility": null,
            "width": null
          }
        },
        "ba12cc04a3cd45638aef799d4e63187f": {
          "model_module": "@jupyter-widgets/base",
          "model_name": "LayoutModel",
          "model_module_version": "1.2.0",
          "state": {
            "_model_module": "@jupyter-widgets/base",
            "_model_module_version": "1.2.0",
            "_model_name": "LayoutModel",
            "_view_count": null,
            "_view_module": "@jupyter-widgets/base",
            "_view_module_version": "1.2.0",
            "_view_name": "LayoutView",
            "align_content": null,
            "align_items": null,
            "align_self": null,
            "border": null,
            "bottom": null,
            "display": null,
            "flex": null,
            "flex_flow": null,
            "grid_area": null,
            "grid_auto_columns": null,
            "grid_auto_flow": null,
            "grid_auto_rows": null,
            "grid_column": null,
            "grid_gap": null,
            "grid_row": null,
            "grid_template_areas": null,
            "grid_template_columns": null,
            "grid_template_rows": null,
            "height": null,
            "justify_content": null,
            "justify_items": null,
            "left": null,
            "margin": null,
            "max_height": null,
            "max_width": null,
            "min_height": null,
            "min_width": null,
            "object_fit": null,
            "object_position": null,
            "order": null,
            "overflow": null,
            "overflow_x": null,
            "overflow_y": null,
            "padding": null,
            "right": null,
            "top": null,
            "visibility": null,
            "width": null
          }
        },
        "d848d645f6154ea6951b05c5a690bd95": {
          "model_module": "@jupyter-widgets/controls",
          "model_name": "DescriptionStyleModel",
          "model_module_version": "1.5.0",
          "state": {
            "_model_module": "@jupyter-widgets/controls",
            "_model_module_version": "1.5.0",
            "_model_name": "DescriptionStyleModel",
            "_view_count": null,
            "_view_module": "@jupyter-widgets/base",
            "_view_module_version": "1.2.0",
            "_view_name": "StyleView",
            "description_width": ""
          }
        },
        "53f1724e24cd4cea96f0f279d029d169": {
          "model_module": "@jupyter-widgets/base",
          "model_name": "LayoutModel",
          "model_module_version": "1.2.0",
          "state": {
            "_model_module": "@jupyter-widgets/base",
            "_model_module_version": "1.2.0",
            "_model_name": "LayoutModel",
            "_view_count": null,
            "_view_module": "@jupyter-widgets/base",
            "_view_module_version": "1.2.0",
            "_view_name": "LayoutView",
            "align_content": null,
            "align_items": null,
            "align_self": null,
            "border": null,
            "bottom": null,
            "display": null,
            "flex": null,
            "flex_flow": null,
            "grid_area": null,
            "grid_auto_columns": null,
            "grid_auto_flow": null,
            "grid_auto_rows": null,
            "grid_column": null,
            "grid_gap": null,
            "grid_row": null,
            "grid_template_areas": null,
            "grid_template_columns": null,
            "grid_template_rows": null,
            "height": null,
            "justify_content": null,
            "justify_items": null,
            "left": null,
            "margin": null,
            "max_height": null,
            "max_width": null,
            "min_height": null,
            "min_width": null,
            "object_fit": null,
            "object_position": null,
            "order": null,
            "overflow": null,
            "overflow_x": null,
            "overflow_y": null,
            "padding": null,
            "right": null,
            "top": null,
            "visibility": null,
            "width": null
          }
        },
        "b2e20e10b964480db8b4bc975d880ebc": {
          "model_module": "@jupyter-widgets/controls",
          "model_name": "ProgressStyleModel",
          "model_module_version": "1.5.0",
          "state": {
            "_model_module": "@jupyter-widgets/controls",
            "_model_module_version": "1.5.0",
            "_model_name": "ProgressStyleModel",
            "_view_count": null,
            "_view_module": "@jupyter-widgets/base",
            "_view_module_version": "1.2.0",
            "_view_name": "StyleView",
            "bar_color": null,
            "description_width": ""
          }
        },
        "091b0dabcbb143dcaab3149aebb2cdba": {
          "model_module": "@jupyter-widgets/base",
          "model_name": "LayoutModel",
          "model_module_version": "1.2.0",
          "state": {
            "_model_module": "@jupyter-widgets/base",
            "_model_module_version": "1.2.0",
            "_model_name": "LayoutModel",
            "_view_count": null,
            "_view_module": "@jupyter-widgets/base",
            "_view_module_version": "1.2.0",
            "_view_name": "LayoutView",
            "align_content": null,
            "align_items": null,
            "align_self": null,
            "border": null,
            "bottom": null,
            "display": null,
            "flex": null,
            "flex_flow": null,
            "grid_area": null,
            "grid_auto_columns": null,
            "grid_auto_flow": null,
            "grid_auto_rows": null,
            "grid_column": null,
            "grid_gap": null,
            "grid_row": null,
            "grid_template_areas": null,
            "grid_template_columns": null,
            "grid_template_rows": null,
            "height": null,
            "justify_content": null,
            "justify_items": null,
            "left": null,
            "margin": null,
            "max_height": null,
            "max_width": null,
            "min_height": null,
            "min_width": null,
            "object_fit": null,
            "object_position": null,
            "order": null,
            "overflow": null,
            "overflow_x": null,
            "overflow_y": null,
            "padding": null,
            "right": null,
            "top": null,
            "visibility": null,
            "width": null
          }
        },
        "45e2cb32206c4e0780b9516f8e2f5817": {
          "model_module": "@jupyter-widgets/controls",
          "model_name": "DescriptionStyleModel",
          "model_module_version": "1.5.0",
          "state": {
            "_model_module": "@jupyter-widgets/controls",
            "_model_module_version": "1.5.0",
            "_model_name": "DescriptionStyleModel",
            "_view_count": null,
            "_view_module": "@jupyter-widgets/base",
            "_view_module_version": "1.2.0",
            "_view_name": "StyleView",
            "description_width": ""
          }
        },
        "03319fdaff614757bf21ddc377119002": {
          "model_module": "@jupyter-widgets/controls",
          "model_name": "HBoxModel",
          "model_module_version": "1.5.0",
          "state": {
            "_dom_classes": [],
            "_model_module": "@jupyter-widgets/controls",
            "_model_module_version": "1.5.0",
            "_model_name": "HBoxModel",
            "_view_count": null,
            "_view_module": "@jupyter-widgets/controls",
            "_view_module_version": "1.5.0",
            "_view_name": "HBoxView",
            "box_style": "",
            "children": [
              "IPY_MODEL_40fbc6a4c8e649da96b02c8b0b81d7e8",
              "IPY_MODEL_33950b425ff547c98d829a32840037f0",
              "IPY_MODEL_3a5582c42503434f8ceb0bb7f66268c6"
            ],
            "layout": "IPY_MODEL_2c3d8a7a843e4ddc8fa2f052c3015012"
          }
        },
        "40fbc6a4c8e649da96b02c8b0b81d7e8": {
          "model_module": "@jupyter-widgets/controls",
          "model_name": "HTMLModel",
          "model_module_version": "1.5.0",
          "state": {
            "_dom_classes": [],
            "_model_module": "@jupyter-widgets/controls",
            "_model_module_version": "1.5.0",
            "_model_name": "HTMLModel",
            "_view_count": null,
            "_view_module": "@jupyter-widgets/controls",
            "_view_module_version": "1.5.0",
            "_view_name": "HTMLView",
            "description": "",
            "description_tooltip": null,
            "layout": "IPY_MODEL_a5de1d54d9e847c0aa0c778b2877d505",
            "placeholder": "​",
            "style": "IPY_MODEL_9cae56df48fc4d1784cb466e3f8b40d8",
            "value": "100%"
          }
        },
        "33950b425ff547c98d829a32840037f0": {
          "model_module": "@jupyter-widgets/controls",
          "model_name": "FloatProgressModel",
          "model_module_version": "1.5.0",
          "state": {
            "_dom_classes": [],
            "_model_module": "@jupyter-widgets/controls",
            "_model_module_version": "1.5.0",
            "_model_name": "FloatProgressModel",
            "_view_count": null,
            "_view_module": "@jupyter-widgets/controls",
            "_view_module_version": "1.5.0",
            "_view_name": "ProgressView",
            "bar_style": "success",
            "description": "",
            "description_tooltip": null,
            "layout": "IPY_MODEL_35c1d63c44404b29a302f699565f4cfd",
            "max": 1000,
            "min": 0,
            "orientation": "horizontal",
            "style": "IPY_MODEL_e17415027e7a49b698a56cc7238ffb47",
            "value": 1000
          }
        },
        "3a5582c42503434f8ceb0bb7f66268c6": {
          "model_module": "@jupyter-widgets/controls",
          "model_name": "HTMLModel",
          "model_module_version": "1.5.0",
          "state": {
            "_dom_classes": [],
            "_model_module": "@jupyter-widgets/controls",
            "_model_module_version": "1.5.0",
            "_model_name": "HTMLModel",
            "_view_count": null,
            "_view_module": "@jupyter-widgets/controls",
            "_view_module_version": "1.5.0",
            "_view_name": "HTMLView",
            "description": "",
            "description_tooltip": null,
            "layout": "IPY_MODEL_b1c396d9b24046bca4d54a43a6fcb647",
            "placeholder": "​",
            "style": "IPY_MODEL_e6e090073b834ab2992daaf683b23ef0",
            "value": " 1000/1000 [01:38&lt;00:00, 11.32it/s]"
          }
        },
        "2c3d8a7a843e4ddc8fa2f052c3015012": {
          "model_module": "@jupyter-widgets/base",
          "model_name": "LayoutModel",
          "model_module_version": "1.2.0",
          "state": {
            "_model_module": "@jupyter-widgets/base",
            "_model_module_version": "1.2.0",
            "_model_name": "LayoutModel",
            "_view_count": null,
            "_view_module": "@jupyter-widgets/base",
            "_view_module_version": "1.2.0",
            "_view_name": "LayoutView",
            "align_content": null,
            "align_items": null,
            "align_self": null,
            "border": null,
            "bottom": null,
            "display": null,
            "flex": null,
            "flex_flow": null,
            "grid_area": null,
            "grid_auto_columns": null,
            "grid_auto_flow": null,
            "grid_auto_rows": null,
            "grid_column": null,
            "grid_gap": null,
            "grid_row": null,
            "grid_template_areas": null,
            "grid_template_columns": null,
            "grid_template_rows": null,
            "height": null,
            "justify_content": null,
            "justify_items": null,
            "left": null,
            "margin": null,
            "max_height": null,
            "max_width": null,
            "min_height": null,
            "min_width": null,
            "object_fit": null,
            "object_position": null,
            "order": null,
            "overflow": null,
            "overflow_x": null,
            "overflow_y": null,
            "padding": null,
            "right": null,
            "top": null,
            "visibility": null,
            "width": null
          }
        },
        "a5de1d54d9e847c0aa0c778b2877d505": {
          "model_module": "@jupyter-widgets/base",
          "model_name": "LayoutModel",
          "model_module_version": "1.2.0",
          "state": {
            "_model_module": "@jupyter-widgets/base",
            "_model_module_version": "1.2.0",
            "_model_name": "LayoutModel",
            "_view_count": null,
            "_view_module": "@jupyter-widgets/base",
            "_view_module_version": "1.2.0",
            "_view_name": "LayoutView",
            "align_content": null,
            "align_items": null,
            "align_self": null,
            "border": null,
            "bottom": null,
            "display": null,
            "flex": null,
            "flex_flow": null,
            "grid_area": null,
            "grid_auto_columns": null,
            "grid_auto_flow": null,
            "grid_auto_rows": null,
            "grid_column": null,
            "grid_gap": null,
            "grid_row": null,
            "grid_template_areas": null,
            "grid_template_columns": null,
            "grid_template_rows": null,
            "height": null,
            "justify_content": null,
            "justify_items": null,
            "left": null,
            "margin": null,
            "max_height": null,
            "max_width": null,
            "min_height": null,
            "min_width": null,
            "object_fit": null,
            "object_position": null,
            "order": null,
            "overflow": null,
            "overflow_x": null,
            "overflow_y": null,
            "padding": null,
            "right": null,
            "top": null,
            "visibility": null,
            "width": null
          }
        },
        "9cae56df48fc4d1784cb466e3f8b40d8": {
          "model_module": "@jupyter-widgets/controls",
          "model_name": "DescriptionStyleModel",
          "model_module_version": "1.5.0",
          "state": {
            "_model_module": "@jupyter-widgets/controls",
            "_model_module_version": "1.5.0",
            "_model_name": "DescriptionStyleModel",
            "_view_count": null,
            "_view_module": "@jupyter-widgets/base",
            "_view_module_version": "1.2.0",
            "_view_name": "StyleView",
            "description_width": ""
          }
        },
        "35c1d63c44404b29a302f699565f4cfd": {
          "model_module": "@jupyter-widgets/base",
          "model_name": "LayoutModel",
          "model_module_version": "1.2.0",
          "state": {
            "_model_module": "@jupyter-widgets/base",
            "_model_module_version": "1.2.0",
            "_model_name": "LayoutModel",
            "_view_count": null,
            "_view_module": "@jupyter-widgets/base",
            "_view_module_version": "1.2.0",
            "_view_name": "LayoutView",
            "align_content": null,
            "align_items": null,
            "align_self": null,
            "border": null,
            "bottom": null,
            "display": null,
            "flex": null,
            "flex_flow": null,
            "grid_area": null,
            "grid_auto_columns": null,
            "grid_auto_flow": null,
            "grid_auto_rows": null,
            "grid_column": null,
            "grid_gap": null,
            "grid_row": null,
            "grid_template_areas": null,
            "grid_template_columns": null,
            "grid_template_rows": null,
            "height": null,
            "justify_content": null,
            "justify_items": null,
            "left": null,
            "margin": null,
            "max_height": null,
            "max_width": null,
            "min_height": null,
            "min_width": null,
            "object_fit": null,
            "object_position": null,
            "order": null,
            "overflow": null,
            "overflow_x": null,
            "overflow_y": null,
            "padding": null,
            "right": null,
            "top": null,
            "visibility": null,
            "width": null
          }
        },
        "e17415027e7a49b698a56cc7238ffb47": {
          "model_module": "@jupyter-widgets/controls",
          "model_name": "ProgressStyleModel",
          "model_module_version": "1.5.0",
          "state": {
            "_model_module": "@jupyter-widgets/controls",
            "_model_module_version": "1.5.0",
            "_model_name": "ProgressStyleModel",
            "_view_count": null,
            "_view_module": "@jupyter-widgets/base",
            "_view_module_version": "1.2.0",
            "_view_name": "StyleView",
            "bar_color": null,
            "description_width": ""
          }
        },
        "b1c396d9b24046bca4d54a43a6fcb647": {
          "model_module": "@jupyter-widgets/base",
          "model_name": "LayoutModel",
          "model_module_version": "1.2.0",
          "state": {
            "_model_module": "@jupyter-widgets/base",
            "_model_module_version": "1.2.0",
            "_model_name": "LayoutModel",
            "_view_count": null,
            "_view_module": "@jupyter-widgets/base",
            "_view_module_version": "1.2.0",
            "_view_name": "LayoutView",
            "align_content": null,
            "align_items": null,
            "align_self": null,
            "border": null,
            "bottom": null,
            "display": null,
            "flex": null,
            "flex_flow": null,
            "grid_area": null,
            "grid_auto_columns": null,
            "grid_auto_flow": null,
            "grid_auto_rows": null,
            "grid_column": null,
            "grid_gap": null,
            "grid_row": null,
            "grid_template_areas": null,
            "grid_template_columns": null,
            "grid_template_rows": null,
            "height": null,
            "justify_content": null,
            "justify_items": null,
            "left": null,
            "margin": null,
            "max_height": null,
            "max_width": null,
            "min_height": null,
            "min_width": null,
            "object_fit": null,
            "object_position": null,
            "order": null,
            "overflow": null,
            "overflow_x": null,
            "overflow_y": null,
            "padding": null,
            "right": null,
            "top": null,
            "visibility": null,
            "width": null
          }
        },
        "e6e090073b834ab2992daaf683b23ef0": {
          "model_module": "@jupyter-widgets/controls",
          "model_name": "DescriptionStyleModel",
          "model_module_version": "1.5.0",
          "state": {
            "_model_module": "@jupyter-widgets/controls",
            "_model_module_version": "1.5.0",
            "_model_name": "DescriptionStyleModel",
            "_view_count": null,
            "_view_module": "@jupyter-widgets/base",
            "_view_module_version": "1.2.0",
            "_view_name": "StyleView",
            "description_width": ""
          }
        },
        "2fa0f55b1a604a0e99b51aea1bc180c3": {
          "model_module": "@jupyter-widgets/controls",
          "model_name": "VBoxModel",
          "model_module_version": "1.5.0",
          "state": {
            "_dom_classes": [],
            "_model_module": "@jupyter-widgets/controls",
            "_model_module_version": "1.5.0",
            "_model_name": "VBoxModel",
            "_view_count": null,
            "_view_module": "@jupyter-widgets/controls",
            "_view_module_version": "1.5.0",
            "_view_name": "VBoxView",
            "box_style": "",
            "children": [],
            "layout": "IPY_MODEL_8a857d670a6f45b68acb4513e3b4977d"
          }
        },
        "d6e2c457abb847fcb8a1f3ae0178866b": {
          "model_module": "@jupyter-widgets/controls",
          "model_name": "HTMLModel",
          "model_module_version": "1.5.0",
          "state": {
            "_dom_classes": [],
            "_model_module": "@jupyter-widgets/controls",
            "_model_module_version": "1.5.0",
            "_model_name": "HTMLModel",
            "_view_count": null,
            "_view_module": "@jupyter-widgets/controls",
            "_view_module_version": "1.5.0",
            "_view_name": "HTMLView",
            "description": "",
            "description_tooltip": null,
            "layout": "IPY_MODEL_2aeb2ed34792489fae338e1cbafbf289",
            "placeholder": "​",
            "style": "IPY_MODEL_92aa8e1a27d542158640287ba20cada7",
            "value": "<center> <img\nsrc=https://huggingface.co/front/assets/huggingface_logo-noborder.svg\nalt='Hugging Face'> <br> Copy a token from <a\nhref=\"https://huggingface.co/settings/tokens\" target=\"_blank\">your Hugging Face\ntokens page</a> and paste it below. <br> Immediately click login after copying\nyour token or it might be stored in plain text in this notebook file. </center>"
          }
        },
        "dec5d668733a4ee3b610c121542fdf38": {
          "model_module": "@jupyter-widgets/controls",
          "model_name": "PasswordModel",
          "model_module_version": "1.5.0",
          "state": {
            "_dom_classes": [],
            "_model_module": "@jupyter-widgets/controls",
            "_model_module_version": "1.5.0",
            "_model_name": "PasswordModel",
            "_view_count": null,
            "_view_module": "@jupyter-widgets/controls",
            "_view_module_version": "1.5.0",
            "_view_name": "PasswordView",
            "continuous_update": true,
            "description": "Token:",
            "description_tooltip": null,
            "disabled": false,
            "layout": "IPY_MODEL_1dddf98cd5c44a4aa7f77c665e32fedd",
            "placeholder": "​",
            "style": "IPY_MODEL_d14240fcfd1e4d83ad50939d03ae33b5",
            "value": ""
          }
        },
        "fff6efb3df184c84ba86d6e49295c4e5": {
          "model_module": "@jupyter-widgets/controls",
          "model_name": "CheckboxModel",
          "model_module_version": "1.5.0",
          "state": {
            "_dom_classes": [],
            "_model_module": "@jupyter-widgets/controls",
            "_model_module_version": "1.5.0",
            "_model_name": "CheckboxModel",
            "_view_count": null,
            "_view_module": "@jupyter-widgets/controls",
            "_view_module_version": "1.5.0",
            "_view_name": "CheckboxView",
            "description": "Add token as git credential?",
            "description_tooltip": null,
            "disabled": false,
            "indent": true,
            "layout": "IPY_MODEL_70903aac79934567b34b5cceed05269f",
            "style": "IPY_MODEL_a872eb0790c448619d7cfb55707fe3d7",
            "value": true
          }
        },
        "803b76ab1290498d9e963912dfee5441": {
          "model_module": "@jupyter-widgets/controls",
          "model_name": "ButtonModel",
          "model_module_version": "1.5.0",
          "state": {
            "_dom_classes": [],
            "_model_module": "@jupyter-widgets/controls",
            "_model_module_version": "1.5.0",
            "_model_name": "ButtonModel",
            "_view_count": null,
            "_view_module": "@jupyter-widgets/controls",
            "_view_module_version": "1.5.0",
            "_view_name": "ButtonView",
            "button_style": "",
            "description": "Login",
            "disabled": false,
            "icon": "",
            "layout": "IPY_MODEL_538c0f9b5cb14177a2dfc6c9460cfe88",
            "style": "IPY_MODEL_c45945ccc6984779bea7d636c428b424",
            "tooltip": ""
          }
        },
        "b2de8d14d7714c02946dd85aa324c1cf": {
          "model_module": "@jupyter-widgets/controls",
          "model_name": "HTMLModel",
          "model_module_version": "1.5.0",
          "state": {
            "_dom_classes": [],
            "_model_module": "@jupyter-widgets/controls",
            "_model_module_version": "1.5.0",
            "_model_name": "HTMLModel",
            "_view_count": null,
            "_view_module": "@jupyter-widgets/controls",
            "_view_module_version": "1.5.0",
            "_view_name": "HTMLView",
            "description": "",
            "description_tooltip": null,
            "layout": "IPY_MODEL_1ed1768212b04e529b6bf7e84b0a0b52",
            "placeholder": "​",
            "style": "IPY_MODEL_6db7301af9064e29b6da3d337023be6e",
            "value": "\n<b>Pro Tip:</b> If you don't already have one, you can create a dedicated\n'notebooks' token with 'write' access, that you can then easily reuse for all\nnotebooks. </center>"
          }
        },
        "8a857d670a6f45b68acb4513e3b4977d": {
          "model_module": "@jupyter-widgets/base",
          "model_name": "LayoutModel",
          "model_module_version": "1.2.0",
          "state": {
            "_model_module": "@jupyter-widgets/base",
            "_model_module_version": "1.2.0",
            "_model_name": "LayoutModel",
            "_view_count": null,
            "_view_module": "@jupyter-widgets/base",
            "_view_module_version": "1.2.0",
            "_view_name": "LayoutView",
            "align_content": null,
            "align_items": "center",
            "align_self": null,
            "border": null,
            "bottom": null,
            "display": "flex",
            "flex": null,
            "flex_flow": "column",
            "grid_area": null,
            "grid_auto_columns": null,
            "grid_auto_flow": null,
            "grid_auto_rows": null,
            "grid_column": null,
            "grid_gap": null,
            "grid_row": null,
            "grid_template_areas": null,
            "grid_template_columns": null,
            "grid_template_rows": null,
            "height": null,
            "justify_content": null,
            "justify_items": null,
            "left": null,
            "margin": null,
            "max_height": null,
            "max_width": null,
            "min_height": null,
            "min_width": null,
            "object_fit": null,
            "object_position": null,
            "order": null,
            "overflow": null,
            "overflow_x": null,
            "overflow_y": null,
            "padding": null,
            "right": null,
            "top": null,
            "visibility": null,
            "width": "50%"
          }
        },
        "2aeb2ed34792489fae338e1cbafbf289": {
          "model_module": "@jupyter-widgets/base",
          "model_name": "LayoutModel",
          "model_module_version": "1.2.0",
          "state": {
            "_model_module": "@jupyter-widgets/base",
            "_model_module_version": "1.2.0",
            "_model_name": "LayoutModel",
            "_view_count": null,
            "_view_module": "@jupyter-widgets/base",
            "_view_module_version": "1.2.0",
            "_view_name": "LayoutView",
            "align_content": null,
            "align_items": null,
            "align_self": null,
            "border": null,
            "bottom": null,
            "display": null,
            "flex": null,
            "flex_flow": null,
            "grid_area": null,
            "grid_auto_columns": null,
            "grid_auto_flow": null,
            "grid_auto_rows": null,
            "grid_column": null,
            "grid_gap": null,
            "grid_row": null,
            "grid_template_areas": null,
            "grid_template_columns": null,
            "grid_template_rows": null,
            "height": null,
            "justify_content": null,
            "justify_items": null,
            "left": null,
            "margin": null,
            "max_height": null,
            "max_width": null,
            "min_height": null,
            "min_width": null,
            "object_fit": null,
            "object_position": null,
            "order": null,
            "overflow": null,
            "overflow_x": null,
            "overflow_y": null,
            "padding": null,
            "right": null,
            "top": null,
            "visibility": null,
            "width": null
          }
        },
        "92aa8e1a27d542158640287ba20cada7": {
          "model_module": "@jupyter-widgets/controls",
          "model_name": "DescriptionStyleModel",
          "model_module_version": "1.5.0",
          "state": {
            "_model_module": "@jupyter-widgets/controls",
            "_model_module_version": "1.5.0",
            "_model_name": "DescriptionStyleModel",
            "_view_count": null,
            "_view_module": "@jupyter-widgets/base",
            "_view_module_version": "1.2.0",
            "_view_name": "StyleView",
            "description_width": ""
          }
        },
        "1dddf98cd5c44a4aa7f77c665e32fedd": {
          "model_module": "@jupyter-widgets/base",
          "model_name": "LayoutModel",
          "model_module_version": "1.2.0",
          "state": {
            "_model_module": "@jupyter-widgets/base",
            "_model_module_version": "1.2.0",
            "_model_name": "LayoutModel",
            "_view_count": null,
            "_view_module": "@jupyter-widgets/base",
            "_view_module_version": "1.2.0",
            "_view_name": "LayoutView",
            "align_content": null,
            "align_items": null,
            "align_self": null,
            "border": null,
            "bottom": null,
            "display": null,
            "flex": null,
            "flex_flow": null,
            "grid_area": null,
            "grid_auto_columns": null,
            "grid_auto_flow": null,
            "grid_auto_rows": null,
            "grid_column": null,
            "grid_gap": null,
            "grid_row": null,
            "grid_template_areas": null,
            "grid_template_columns": null,
            "grid_template_rows": null,
            "height": null,
            "justify_content": null,
            "justify_items": null,
            "left": null,
            "margin": null,
            "max_height": null,
            "max_width": null,
            "min_height": null,
            "min_width": null,
            "object_fit": null,
            "object_position": null,
            "order": null,
            "overflow": null,
            "overflow_x": null,
            "overflow_y": null,
            "padding": null,
            "right": null,
            "top": null,
            "visibility": null,
            "width": null
          }
        },
        "d14240fcfd1e4d83ad50939d03ae33b5": {
          "model_module": "@jupyter-widgets/controls",
          "model_name": "DescriptionStyleModel",
          "model_module_version": "1.5.0",
          "state": {
            "_model_module": "@jupyter-widgets/controls",
            "_model_module_version": "1.5.0",
            "_model_name": "DescriptionStyleModel",
            "_view_count": null,
            "_view_module": "@jupyter-widgets/base",
            "_view_module_version": "1.2.0",
            "_view_name": "StyleView",
            "description_width": ""
          }
        },
        "70903aac79934567b34b5cceed05269f": {
          "model_module": "@jupyter-widgets/base",
          "model_name": "LayoutModel",
          "model_module_version": "1.2.0",
          "state": {
            "_model_module": "@jupyter-widgets/base",
            "_model_module_version": "1.2.0",
            "_model_name": "LayoutModel",
            "_view_count": null,
            "_view_module": "@jupyter-widgets/base",
            "_view_module_version": "1.2.0",
            "_view_name": "LayoutView",
            "align_content": null,
            "align_items": null,
            "align_self": null,
            "border": null,
            "bottom": null,
            "display": null,
            "flex": null,
            "flex_flow": null,
            "grid_area": null,
            "grid_auto_columns": null,
            "grid_auto_flow": null,
            "grid_auto_rows": null,
            "grid_column": null,
            "grid_gap": null,
            "grid_row": null,
            "grid_template_areas": null,
            "grid_template_columns": null,
            "grid_template_rows": null,
            "height": null,
            "justify_content": null,
            "justify_items": null,
            "left": null,
            "margin": null,
            "max_height": null,
            "max_width": null,
            "min_height": null,
            "min_width": null,
            "object_fit": null,
            "object_position": null,
            "order": null,
            "overflow": null,
            "overflow_x": null,
            "overflow_y": null,
            "padding": null,
            "right": null,
            "top": null,
            "visibility": null,
            "width": null
          }
        },
        "a872eb0790c448619d7cfb55707fe3d7": {
          "model_module": "@jupyter-widgets/controls",
          "model_name": "DescriptionStyleModel",
          "model_module_version": "1.5.0",
          "state": {
            "_model_module": "@jupyter-widgets/controls",
            "_model_module_version": "1.5.0",
            "_model_name": "DescriptionStyleModel",
            "_view_count": null,
            "_view_module": "@jupyter-widgets/base",
            "_view_module_version": "1.2.0",
            "_view_name": "StyleView",
            "description_width": ""
          }
        },
        "538c0f9b5cb14177a2dfc6c9460cfe88": {
          "model_module": "@jupyter-widgets/base",
          "model_name": "LayoutModel",
          "model_module_version": "1.2.0",
          "state": {
            "_model_module": "@jupyter-widgets/base",
            "_model_module_version": "1.2.0",
            "_model_name": "LayoutModel",
            "_view_count": null,
            "_view_module": "@jupyter-widgets/base",
            "_view_module_version": "1.2.0",
            "_view_name": "LayoutView",
            "align_content": null,
            "align_items": null,
            "align_self": null,
            "border": null,
            "bottom": null,
            "display": null,
            "flex": null,
            "flex_flow": null,
            "grid_area": null,
            "grid_auto_columns": null,
            "grid_auto_flow": null,
            "grid_auto_rows": null,
            "grid_column": null,
            "grid_gap": null,
            "grid_row": null,
            "grid_template_areas": null,
            "grid_template_columns": null,
            "grid_template_rows": null,
            "height": null,
            "justify_content": null,
            "justify_items": null,
            "left": null,
            "margin": null,
            "max_height": null,
            "max_width": null,
            "min_height": null,
            "min_width": null,
            "object_fit": null,
            "object_position": null,
            "order": null,
            "overflow": null,
            "overflow_x": null,
            "overflow_y": null,
            "padding": null,
            "right": null,
            "top": null,
            "visibility": null,
            "width": null
          }
        },
        "c45945ccc6984779bea7d636c428b424": {
          "model_module": "@jupyter-widgets/controls",
          "model_name": "ButtonStyleModel",
          "model_module_version": "1.5.0",
          "state": {
            "_model_module": "@jupyter-widgets/controls",
            "_model_module_version": "1.5.0",
            "_model_name": "ButtonStyleModel",
            "_view_count": null,
            "_view_module": "@jupyter-widgets/base",
            "_view_module_version": "1.2.0",
            "_view_name": "StyleView",
            "button_color": null,
            "font_weight": ""
          }
        },
        "1ed1768212b04e529b6bf7e84b0a0b52": {
          "model_module": "@jupyter-widgets/base",
          "model_name": "LayoutModel",
          "model_module_version": "1.2.0",
          "state": {
            "_model_module": "@jupyter-widgets/base",
            "_model_module_version": "1.2.0",
            "_model_name": "LayoutModel",
            "_view_count": null,
            "_view_module": "@jupyter-widgets/base",
            "_view_module_version": "1.2.0",
            "_view_name": "LayoutView",
            "align_content": null,
            "align_items": null,
            "align_self": null,
            "border": null,
            "bottom": null,
            "display": null,
            "flex": null,
            "flex_flow": null,
            "grid_area": null,
            "grid_auto_columns": null,
            "grid_auto_flow": null,
            "grid_auto_rows": null,
            "grid_column": null,
            "grid_gap": null,
            "grid_row": null,
            "grid_template_areas": null,
            "grid_template_columns": null,
            "grid_template_rows": null,
            "height": null,
            "justify_content": null,
            "justify_items": null,
            "left": null,
            "margin": null,
            "max_height": null,
            "max_width": null,
            "min_height": null,
            "min_width": null,
            "object_fit": null,
            "object_position": null,
            "order": null,
            "overflow": null,
            "overflow_x": null,
            "overflow_y": null,
            "padding": null,
            "right": null,
            "top": null,
            "visibility": null,
            "width": null
          }
        },
        "6db7301af9064e29b6da3d337023be6e": {
          "model_module": "@jupyter-widgets/controls",
          "model_name": "DescriptionStyleModel",
          "model_module_version": "1.5.0",
          "state": {
            "_model_module": "@jupyter-widgets/controls",
            "_model_module_version": "1.5.0",
            "_model_name": "DescriptionStyleModel",
            "_view_count": null,
            "_view_module": "@jupyter-widgets/base",
            "_view_module_version": "1.2.0",
            "_view_name": "StyleView",
            "description_width": ""
          }
        },
        "4958f8eab3c04204ac217b0ffe6c7846": {
          "model_module": "@jupyter-widgets/controls",
          "model_name": "LabelModel",
          "model_module_version": "1.5.0",
          "state": {
            "_dom_classes": [],
            "_model_module": "@jupyter-widgets/controls",
            "_model_module_version": "1.5.0",
            "_model_name": "LabelModel",
            "_view_count": null,
            "_view_module": "@jupyter-widgets/controls",
            "_view_module_version": "1.5.0",
            "_view_name": "LabelView",
            "description": "",
            "description_tooltip": null,
            "layout": "IPY_MODEL_40d2626d068b4100b6c79f004fdc6e72",
            "placeholder": "​",
            "style": "IPY_MODEL_eb71e4a4d8e145ba838ac151d3da0126",
            "value": "Connecting..."
          }
        },
        "40d2626d068b4100b6c79f004fdc6e72": {
          "model_module": "@jupyter-widgets/base",
          "model_name": "LayoutModel",
          "model_module_version": "1.2.0",
          "state": {
            "_model_module": "@jupyter-widgets/base",
            "_model_module_version": "1.2.0",
            "_model_name": "LayoutModel",
            "_view_count": null,
            "_view_module": "@jupyter-widgets/base",
            "_view_module_version": "1.2.0",
            "_view_name": "LayoutView",
            "align_content": null,
            "align_items": null,
            "align_self": null,
            "border": null,
            "bottom": null,
            "display": null,
            "flex": null,
            "flex_flow": null,
            "grid_area": null,
            "grid_auto_columns": null,
            "grid_auto_flow": null,
            "grid_auto_rows": null,
            "grid_column": null,
            "grid_gap": null,
            "grid_row": null,
            "grid_template_areas": null,
            "grid_template_columns": null,
            "grid_template_rows": null,
            "height": null,
            "justify_content": null,
            "justify_items": null,
            "left": null,
            "margin": null,
            "max_height": null,
            "max_width": null,
            "min_height": null,
            "min_width": null,
            "object_fit": null,
            "object_position": null,
            "order": null,
            "overflow": null,
            "overflow_x": null,
            "overflow_y": null,
            "padding": null,
            "right": null,
            "top": null,
            "visibility": null,
            "width": null
          }
        },
        "eb71e4a4d8e145ba838ac151d3da0126": {
          "model_module": "@jupyter-widgets/controls",
          "model_name": "DescriptionStyleModel",
          "model_module_version": "1.5.0",
          "state": {
            "_model_module": "@jupyter-widgets/controls",
            "_model_module_version": "1.5.0",
            "_model_name": "DescriptionStyleModel",
            "_view_count": null,
            "_view_module": "@jupyter-widgets/base",
            "_view_module_version": "1.2.0",
            "_view_name": "StyleView",
            "description_width": ""
          }
        },
        "8622740038bd457b9638d8eb41abc1a8": {
          "model_module": "@jupyter-widgets/controls",
          "model_name": "HBoxModel",
          "model_module_version": "1.5.0",
          "state": {
            "_dom_classes": [],
            "_model_module": "@jupyter-widgets/controls",
            "_model_module_version": "1.5.0",
            "_model_name": "HBoxModel",
            "_view_count": null,
            "_view_module": "@jupyter-widgets/controls",
            "_view_module_version": "1.5.0",
            "_view_name": "HBoxView",
            "box_style": "",
            "children": [
              "IPY_MODEL_eeac0a1c9b644516ab1205effccd0f7f",
              "IPY_MODEL_2a56d15f41064ae19d5ac221aa2ba5bf",
              "IPY_MODEL_c5d7ee14baed4cbab5176f013f6c310b"
            ],
            "layout": "IPY_MODEL_cdbb471469bf419bb2896c31666a41b0"
          }
        },
        "eeac0a1c9b644516ab1205effccd0f7f": {
          "model_module": "@jupyter-widgets/controls",
          "model_name": "HTMLModel",
          "model_module_version": "1.5.0",
          "state": {
            "_dom_classes": [],
            "_model_module": "@jupyter-widgets/controls",
            "_model_module_version": "1.5.0",
            "_model_name": "HTMLModel",
            "_view_count": null,
            "_view_module": "@jupyter-widgets/controls",
            "_view_module_version": "1.5.0",
            "_view_name": "HTMLView",
            "description": "",
            "description_tooltip": null,
            "layout": "IPY_MODEL_0d565b3afe43413697037e9306faf67a",
            "placeholder": "​",
            "style": "IPY_MODEL_4c406b8e5de14a6b98d41d3a9631131e",
            "value": "README.md: 100%"
          }
        },
        "2a56d15f41064ae19d5ac221aa2ba5bf": {
          "model_module": "@jupyter-widgets/controls",
          "model_name": "FloatProgressModel",
          "model_module_version": "1.5.0",
          "state": {
            "_dom_classes": [],
            "_model_module": "@jupyter-widgets/controls",
            "_model_module_version": "1.5.0",
            "_model_name": "FloatProgressModel",
            "_view_count": null,
            "_view_module": "@jupyter-widgets/controls",
            "_view_module_version": "1.5.0",
            "_view_name": "ProgressView",
            "bar_style": "success",
            "description": "",
            "description_tooltip": null,
            "layout": "IPY_MODEL_fe5eb8228bd54981b9336f50cb9c5402",
            "max": 609,
            "min": 0,
            "orientation": "horizontal",
            "style": "IPY_MODEL_39b40e59773c44c8ba2c88e24b8f5051",
            "value": 609
          }
        },
        "c5d7ee14baed4cbab5176f013f6c310b": {
          "model_module": "@jupyter-widgets/controls",
          "model_name": "HTMLModel",
          "model_module_version": "1.5.0",
          "state": {
            "_dom_classes": [],
            "_model_module": "@jupyter-widgets/controls",
            "_model_module_version": "1.5.0",
            "_model_name": "HTMLModel",
            "_view_count": null,
            "_view_module": "@jupyter-widgets/controls",
            "_view_module_version": "1.5.0",
            "_view_name": "HTMLView",
            "description": "",
            "description_tooltip": null,
            "layout": "IPY_MODEL_a2db241d9abf4570b2430b9ba23109e6",
            "placeholder": "​",
            "style": "IPY_MODEL_e9efc2c553f54854b1fb8fe888a9cb7c",
            "value": " 609/609 [00:00&lt;00:00, 48.6kB/s]"
          }
        },
        "cdbb471469bf419bb2896c31666a41b0": {
          "model_module": "@jupyter-widgets/base",
          "model_name": "LayoutModel",
          "model_module_version": "1.2.0",
          "state": {
            "_model_module": "@jupyter-widgets/base",
            "_model_module_version": "1.2.0",
            "_model_name": "LayoutModel",
            "_view_count": null,
            "_view_module": "@jupyter-widgets/base",
            "_view_module_version": "1.2.0",
            "_view_name": "LayoutView",
            "align_content": null,
            "align_items": null,
            "align_self": null,
            "border": null,
            "bottom": null,
            "display": null,
            "flex": null,
            "flex_flow": null,
            "grid_area": null,
            "grid_auto_columns": null,
            "grid_auto_flow": null,
            "grid_auto_rows": null,
            "grid_column": null,
            "grid_gap": null,
            "grid_row": null,
            "grid_template_areas": null,
            "grid_template_columns": null,
            "grid_template_rows": null,
            "height": null,
            "justify_content": null,
            "justify_items": null,
            "left": null,
            "margin": null,
            "max_height": null,
            "max_width": null,
            "min_height": null,
            "min_width": null,
            "object_fit": null,
            "object_position": null,
            "order": null,
            "overflow": null,
            "overflow_x": null,
            "overflow_y": null,
            "padding": null,
            "right": null,
            "top": null,
            "visibility": null,
            "width": null
          }
        },
        "0d565b3afe43413697037e9306faf67a": {
          "model_module": "@jupyter-widgets/base",
          "model_name": "LayoutModel",
          "model_module_version": "1.2.0",
          "state": {
            "_model_module": "@jupyter-widgets/base",
            "_model_module_version": "1.2.0",
            "_model_name": "LayoutModel",
            "_view_count": null,
            "_view_module": "@jupyter-widgets/base",
            "_view_module_version": "1.2.0",
            "_view_name": "LayoutView",
            "align_content": null,
            "align_items": null,
            "align_self": null,
            "border": null,
            "bottom": null,
            "display": null,
            "flex": null,
            "flex_flow": null,
            "grid_area": null,
            "grid_auto_columns": null,
            "grid_auto_flow": null,
            "grid_auto_rows": null,
            "grid_column": null,
            "grid_gap": null,
            "grid_row": null,
            "grid_template_areas": null,
            "grid_template_columns": null,
            "grid_template_rows": null,
            "height": null,
            "justify_content": null,
            "justify_items": null,
            "left": null,
            "margin": null,
            "max_height": null,
            "max_width": null,
            "min_height": null,
            "min_width": null,
            "object_fit": null,
            "object_position": null,
            "order": null,
            "overflow": null,
            "overflow_x": null,
            "overflow_y": null,
            "padding": null,
            "right": null,
            "top": null,
            "visibility": null,
            "width": null
          }
        },
        "4c406b8e5de14a6b98d41d3a9631131e": {
          "model_module": "@jupyter-widgets/controls",
          "model_name": "DescriptionStyleModel",
          "model_module_version": "1.5.0",
          "state": {
            "_model_module": "@jupyter-widgets/controls",
            "_model_module_version": "1.5.0",
            "_model_name": "DescriptionStyleModel",
            "_view_count": null,
            "_view_module": "@jupyter-widgets/base",
            "_view_module_version": "1.2.0",
            "_view_name": "StyleView",
            "description_width": ""
          }
        },
        "fe5eb8228bd54981b9336f50cb9c5402": {
          "model_module": "@jupyter-widgets/base",
          "model_name": "LayoutModel",
          "model_module_version": "1.2.0",
          "state": {
            "_model_module": "@jupyter-widgets/base",
            "_model_module_version": "1.2.0",
            "_model_name": "LayoutModel",
            "_view_count": null,
            "_view_module": "@jupyter-widgets/base",
            "_view_module_version": "1.2.0",
            "_view_name": "LayoutView",
            "align_content": null,
            "align_items": null,
            "align_self": null,
            "border": null,
            "bottom": null,
            "display": null,
            "flex": null,
            "flex_flow": null,
            "grid_area": null,
            "grid_auto_columns": null,
            "grid_auto_flow": null,
            "grid_auto_rows": null,
            "grid_column": null,
            "grid_gap": null,
            "grid_row": null,
            "grid_template_areas": null,
            "grid_template_columns": null,
            "grid_template_rows": null,
            "height": null,
            "justify_content": null,
            "justify_items": null,
            "left": null,
            "margin": null,
            "max_height": null,
            "max_width": null,
            "min_height": null,
            "min_width": null,
            "object_fit": null,
            "object_position": null,
            "order": null,
            "overflow": null,
            "overflow_x": null,
            "overflow_y": null,
            "padding": null,
            "right": null,
            "top": null,
            "visibility": null,
            "width": null
          }
        },
        "39b40e59773c44c8ba2c88e24b8f5051": {
          "model_module": "@jupyter-widgets/controls",
          "model_name": "ProgressStyleModel",
          "model_module_version": "1.5.0",
          "state": {
            "_model_module": "@jupyter-widgets/controls",
            "_model_module_version": "1.5.0",
            "_model_name": "ProgressStyleModel",
            "_view_count": null,
            "_view_module": "@jupyter-widgets/base",
            "_view_module_version": "1.2.0",
            "_view_name": "StyleView",
            "bar_color": null,
            "description_width": ""
          }
        },
        "a2db241d9abf4570b2430b9ba23109e6": {
          "model_module": "@jupyter-widgets/base",
          "model_name": "LayoutModel",
          "model_module_version": "1.2.0",
          "state": {
            "_model_module": "@jupyter-widgets/base",
            "_model_module_version": "1.2.0",
            "_model_name": "LayoutModel",
            "_view_count": null,
            "_view_module": "@jupyter-widgets/base",
            "_view_module_version": "1.2.0",
            "_view_name": "LayoutView",
            "align_content": null,
            "align_items": null,
            "align_self": null,
            "border": null,
            "bottom": null,
            "display": null,
            "flex": null,
            "flex_flow": null,
            "grid_area": null,
            "grid_auto_columns": null,
            "grid_auto_flow": null,
            "grid_auto_rows": null,
            "grid_column": null,
            "grid_gap": null,
            "grid_row": null,
            "grid_template_areas": null,
            "grid_template_columns": null,
            "grid_template_rows": null,
            "height": null,
            "justify_content": null,
            "justify_items": null,
            "left": null,
            "margin": null,
            "max_height": null,
            "max_width": null,
            "min_height": null,
            "min_width": null,
            "object_fit": null,
            "object_position": null,
            "order": null,
            "overflow": null,
            "overflow_x": null,
            "overflow_y": null,
            "padding": null,
            "right": null,
            "top": null,
            "visibility": null,
            "width": null
          }
        },
        "e9efc2c553f54854b1fb8fe888a9cb7c": {
          "model_module": "@jupyter-widgets/controls",
          "model_name": "DescriptionStyleModel",
          "model_module_version": "1.5.0",
          "state": {
            "_model_module": "@jupyter-widgets/controls",
            "_model_module_version": "1.5.0",
            "_model_name": "DescriptionStyleModel",
            "_view_count": null,
            "_view_module": "@jupyter-widgets/base",
            "_view_module_version": "1.2.0",
            "_view_name": "StyleView",
            "description_width": ""
          }
        },
        "591d9d345fec42629fef2c7eb2f187c5": {
          "model_module": "@jupyter-widgets/controls",
          "model_name": "HBoxModel",
          "model_module_version": "1.5.0",
          "state": {
            "_dom_classes": [],
            "_model_module": "@jupyter-widgets/controls",
            "_model_module_version": "1.5.0",
            "_model_name": "HBoxModel",
            "_view_count": null,
            "_view_module": "@jupyter-widgets/controls",
            "_view_module_version": "1.5.0",
            "_view_name": "HBoxView",
            "box_style": "",
            "children": [
              "IPY_MODEL_33bdaecd97ba4b1abd442a086c0a0404",
              "IPY_MODEL_0d70a883f00d4075b4f958a81c315294",
              "IPY_MODEL_571d72dc27604ba1ad9c3b588d75d4da"
            ],
            "layout": "IPY_MODEL_0c5b0a07cafb487d8e8d616614dd4996"
          }
        },
        "33bdaecd97ba4b1abd442a086c0a0404": {
          "model_module": "@jupyter-widgets/controls",
          "model_name": "HTMLModel",
          "model_module_version": "1.5.0",
          "state": {
            "_dom_classes": [],
            "_model_module": "@jupyter-widgets/controls",
            "_model_module_version": "1.5.0",
            "_model_name": "HTMLModel",
            "_view_count": null,
            "_view_module": "@jupyter-widgets/controls",
            "_view_module_version": "1.5.0",
            "_view_name": "HTMLView",
            "description": "",
            "description_tooltip": null,
            "layout": "IPY_MODEL_89680bf5604d466b84b0fda5118d4dd9",
            "placeholder": "​",
            "style": "IPY_MODEL_e1b961814fb94eb9a845ecfc839a05d5",
            "value": "dataset_infos.json: 100%"
          }
        },
        "0d70a883f00d4075b4f958a81c315294": {
          "model_module": "@jupyter-widgets/controls",
          "model_name": "FloatProgressModel",
          "model_module_version": "1.5.0",
          "state": {
            "_dom_classes": [],
            "_model_module": "@jupyter-widgets/controls",
            "_model_module_version": "1.5.0",
            "_model_name": "FloatProgressModel",
            "_view_count": null,
            "_view_module": "@jupyter-widgets/controls",
            "_view_module_version": "1.5.0",
            "_view_name": "ProgressView",
            "bar_style": "success",
            "description": "",
            "description_tooltip": null,
            "layout": "IPY_MODEL_8ed1d8715b724efa920fd487e2e3c0ef",
            "max": 1654,
            "min": 0,
            "orientation": "horizontal",
            "style": "IPY_MODEL_ed9c88b000214af595cb8dd3a67b09e2",
            "value": 1654
          }
        },
        "571d72dc27604ba1ad9c3b588d75d4da": {
          "model_module": "@jupyter-widgets/controls",
          "model_name": "HTMLModel",
          "model_module_version": "1.5.0",
          "state": {
            "_dom_classes": [],
            "_model_module": "@jupyter-widgets/controls",
            "_model_module_version": "1.5.0",
            "_model_name": "HTMLModel",
            "_view_count": null,
            "_view_module": "@jupyter-widgets/controls",
            "_view_module_version": "1.5.0",
            "_view_name": "HTMLView",
            "description": "",
            "description_tooltip": null,
            "layout": "IPY_MODEL_1f5e42c415fe42479e24a198fbe175d7",
            "placeholder": "​",
            "style": "IPY_MODEL_6a5f332cc07a4ae4b26f67decaf8e23e",
            "value": " 1.65k/1.65k [00:00&lt;00:00, 138kB/s]"
          }
        },
        "0c5b0a07cafb487d8e8d616614dd4996": {
          "model_module": "@jupyter-widgets/base",
          "model_name": "LayoutModel",
          "model_module_version": "1.2.0",
          "state": {
            "_model_module": "@jupyter-widgets/base",
            "_model_module_version": "1.2.0",
            "_model_name": "LayoutModel",
            "_view_count": null,
            "_view_module": "@jupyter-widgets/base",
            "_view_module_version": "1.2.0",
            "_view_name": "LayoutView",
            "align_content": null,
            "align_items": null,
            "align_self": null,
            "border": null,
            "bottom": null,
            "display": null,
            "flex": null,
            "flex_flow": null,
            "grid_area": null,
            "grid_auto_columns": null,
            "grid_auto_flow": null,
            "grid_auto_rows": null,
            "grid_column": null,
            "grid_gap": null,
            "grid_row": null,
            "grid_template_areas": null,
            "grid_template_columns": null,
            "grid_template_rows": null,
            "height": null,
            "justify_content": null,
            "justify_items": null,
            "left": null,
            "margin": null,
            "max_height": null,
            "max_width": null,
            "min_height": null,
            "min_width": null,
            "object_fit": null,
            "object_position": null,
            "order": null,
            "overflow": null,
            "overflow_x": null,
            "overflow_y": null,
            "padding": null,
            "right": null,
            "top": null,
            "visibility": null,
            "width": null
          }
        },
        "89680bf5604d466b84b0fda5118d4dd9": {
          "model_module": "@jupyter-widgets/base",
          "model_name": "LayoutModel",
          "model_module_version": "1.2.0",
          "state": {
            "_model_module": "@jupyter-widgets/base",
            "_model_module_version": "1.2.0",
            "_model_name": "LayoutModel",
            "_view_count": null,
            "_view_module": "@jupyter-widgets/base",
            "_view_module_version": "1.2.0",
            "_view_name": "LayoutView",
            "align_content": null,
            "align_items": null,
            "align_self": null,
            "border": null,
            "bottom": null,
            "display": null,
            "flex": null,
            "flex_flow": null,
            "grid_area": null,
            "grid_auto_columns": null,
            "grid_auto_flow": null,
            "grid_auto_rows": null,
            "grid_column": null,
            "grid_gap": null,
            "grid_row": null,
            "grid_template_areas": null,
            "grid_template_columns": null,
            "grid_template_rows": null,
            "height": null,
            "justify_content": null,
            "justify_items": null,
            "left": null,
            "margin": null,
            "max_height": null,
            "max_width": null,
            "min_height": null,
            "min_width": null,
            "object_fit": null,
            "object_position": null,
            "order": null,
            "overflow": null,
            "overflow_x": null,
            "overflow_y": null,
            "padding": null,
            "right": null,
            "top": null,
            "visibility": null,
            "width": null
          }
        },
        "e1b961814fb94eb9a845ecfc839a05d5": {
          "model_module": "@jupyter-widgets/controls",
          "model_name": "DescriptionStyleModel",
          "model_module_version": "1.5.0",
          "state": {
            "_model_module": "@jupyter-widgets/controls",
            "_model_module_version": "1.5.0",
            "_model_name": "DescriptionStyleModel",
            "_view_count": null,
            "_view_module": "@jupyter-widgets/base",
            "_view_module_version": "1.2.0",
            "_view_name": "StyleView",
            "description_width": ""
          }
        },
        "8ed1d8715b724efa920fd487e2e3c0ef": {
          "model_module": "@jupyter-widgets/base",
          "model_name": "LayoutModel",
          "model_module_version": "1.2.0",
          "state": {
            "_model_module": "@jupyter-widgets/base",
            "_model_module_version": "1.2.0",
            "_model_name": "LayoutModel",
            "_view_count": null,
            "_view_module": "@jupyter-widgets/base",
            "_view_module_version": "1.2.0",
            "_view_name": "LayoutView",
            "align_content": null,
            "align_items": null,
            "align_self": null,
            "border": null,
            "bottom": null,
            "display": null,
            "flex": null,
            "flex_flow": null,
            "grid_area": null,
            "grid_auto_columns": null,
            "grid_auto_flow": null,
            "grid_auto_rows": null,
            "grid_column": null,
            "grid_gap": null,
            "grid_row": null,
            "grid_template_areas": null,
            "grid_template_columns": null,
            "grid_template_rows": null,
            "height": null,
            "justify_content": null,
            "justify_items": null,
            "left": null,
            "margin": null,
            "max_height": null,
            "max_width": null,
            "min_height": null,
            "min_width": null,
            "object_fit": null,
            "object_position": null,
            "order": null,
            "overflow": null,
            "overflow_x": null,
            "overflow_y": null,
            "padding": null,
            "right": null,
            "top": null,
            "visibility": null,
            "width": null
          }
        },
        "ed9c88b000214af595cb8dd3a67b09e2": {
          "model_module": "@jupyter-widgets/controls",
          "model_name": "ProgressStyleModel",
          "model_module_version": "1.5.0",
          "state": {
            "_model_module": "@jupyter-widgets/controls",
            "_model_module_version": "1.5.0",
            "_model_name": "ProgressStyleModel",
            "_view_count": null,
            "_view_module": "@jupyter-widgets/base",
            "_view_module_version": "1.2.0",
            "_view_name": "StyleView",
            "bar_color": null,
            "description_width": ""
          }
        },
        "1f5e42c415fe42479e24a198fbe175d7": {
          "model_module": "@jupyter-widgets/base",
          "model_name": "LayoutModel",
          "model_module_version": "1.2.0",
          "state": {
            "_model_module": "@jupyter-widgets/base",
            "_model_module_version": "1.2.0",
            "_model_name": "LayoutModel",
            "_view_count": null,
            "_view_module": "@jupyter-widgets/base",
            "_view_module_version": "1.2.0",
            "_view_name": "LayoutView",
            "align_content": null,
            "align_items": null,
            "align_self": null,
            "border": null,
            "bottom": null,
            "display": null,
            "flex": null,
            "flex_flow": null,
            "grid_area": null,
            "grid_auto_columns": null,
            "grid_auto_flow": null,
            "grid_auto_rows": null,
            "grid_column": null,
            "grid_gap": null,
            "grid_row": null,
            "grid_template_areas": null,
            "grid_template_columns": null,
            "grid_template_rows": null,
            "height": null,
            "justify_content": null,
            "justify_items": null,
            "left": null,
            "margin": null,
            "max_height": null,
            "max_width": null,
            "min_height": null,
            "min_width": null,
            "object_fit": null,
            "object_position": null,
            "order": null,
            "overflow": null,
            "overflow_x": null,
            "overflow_y": null,
            "padding": null,
            "right": null,
            "top": null,
            "visibility": null,
            "width": null
          }
        },
        "6a5f332cc07a4ae4b26f67decaf8e23e": {
          "model_module": "@jupyter-widgets/controls",
          "model_name": "DescriptionStyleModel",
          "model_module_version": "1.5.0",
          "state": {
            "_model_module": "@jupyter-widgets/controls",
            "_model_module_version": "1.5.0",
            "_model_name": "DescriptionStyleModel",
            "_view_count": null,
            "_view_module": "@jupyter-widgets/base",
            "_view_module_version": "1.2.0",
            "_view_name": "StyleView",
            "description_width": ""
          }
        },
        "24cb55cf0dde47fc93a32c481ae9f9bf": {
          "model_module": "@jupyter-widgets/controls",
          "model_name": "HBoxModel",
          "model_module_version": "1.5.0",
          "state": {
            "_dom_classes": [],
            "_model_module": "@jupyter-widgets/controls",
            "_model_module_version": "1.5.0",
            "_model_name": "HBoxModel",
            "_view_count": null,
            "_view_module": "@jupyter-widgets/controls",
            "_view_module_version": "1.5.0",
            "_view_name": "HBoxView",
            "box_style": "",
            "children": [
              "IPY_MODEL_ca99b2b994244cb9bd9aaeb9133636da",
              "IPY_MODEL_939fec73bc884391a3fc772fd3b11655",
              "IPY_MODEL_3308656091764835b0f167ba04fb3cbb"
            ],
            "layout": "IPY_MODEL_7b76671f758e4f2fa4426d0430fcbc65"
          }
        },
        "ca99b2b994244cb9bd9aaeb9133636da": {
          "model_module": "@jupyter-widgets/controls",
          "model_name": "HTMLModel",
          "model_module_version": "1.5.0",
          "state": {
            "_dom_classes": [],
            "_model_module": "@jupyter-widgets/controls",
            "_model_module_version": "1.5.0",
            "_model_name": "HTMLModel",
            "_view_count": null,
            "_view_module": "@jupyter-widgets/controls",
            "_view_module_version": "1.5.0",
            "_view_name": "HTMLView",
            "description": "",
            "description_tooltip": null,
            "layout": "IPY_MODEL_4d84176bc5634509a71e8d010546fdec",
            "placeholder": "​",
            "style": "IPY_MODEL_8669aed87b41441b91a46aac805ec641",
            "value": "train-00000-of-00001.parquet: 100%"
          }
        },
        "939fec73bc884391a3fc772fd3b11655": {
          "model_module": "@jupyter-widgets/controls",
          "model_name": "FloatProgressModel",
          "model_module_version": "1.5.0",
          "state": {
            "_dom_classes": [],
            "_model_module": "@jupyter-widgets/controls",
            "_model_module_version": "1.5.0",
            "_model_name": "FloatProgressModel",
            "_view_count": null,
            "_view_module": "@jupyter-widgets/controls",
            "_view_module_version": "1.5.0",
            "_view_name": "ProgressView",
            "bar_style": "success",
            "description": "",
            "description_tooltip": null,
            "layout": "IPY_MODEL_a6c8d91cec9047e4b69793d3911f83e4",
            "max": 237451415,
            "min": 0,
            "orientation": "horizontal",
            "style": "IPY_MODEL_e06bb05a4f7448e29da120c15e901285",
            "value": 237451415
          }
        },
        "3308656091764835b0f167ba04fb3cbb": {
          "model_module": "@jupyter-widgets/controls",
          "model_name": "HTMLModel",
          "model_module_version": "1.5.0",
          "state": {
            "_dom_classes": [],
            "_model_module": "@jupyter-widgets/controls",
            "_model_module_version": "1.5.0",
            "_model_name": "HTMLModel",
            "_view_count": null,
            "_view_module": "@jupyter-widgets/controls",
            "_view_module_version": "1.5.0",
            "_view_name": "HTMLView",
            "description": "",
            "description_tooltip": null,
            "layout": "IPY_MODEL_ef857f2e65bd410297ffa38f3974e658",
            "placeholder": "​",
            "style": "IPY_MODEL_5f2cf283e673434b859fb166a2354de2",
            "value": " 237M/237M [00:01&lt;00:00, 220MB/s]"
          }
        },
        "7b76671f758e4f2fa4426d0430fcbc65": {
          "model_module": "@jupyter-widgets/base",
          "model_name": "LayoutModel",
          "model_module_version": "1.2.0",
          "state": {
            "_model_module": "@jupyter-widgets/base",
            "_model_module_version": "1.2.0",
            "_model_name": "LayoutModel",
            "_view_count": null,
            "_view_module": "@jupyter-widgets/base",
            "_view_module_version": "1.2.0",
            "_view_name": "LayoutView",
            "align_content": null,
            "align_items": null,
            "align_self": null,
            "border": null,
            "bottom": null,
            "display": null,
            "flex": null,
            "flex_flow": null,
            "grid_area": null,
            "grid_auto_columns": null,
            "grid_auto_flow": null,
            "grid_auto_rows": null,
            "grid_column": null,
            "grid_gap": null,
            "grid_row": null,
            "grid_template_areas": null,
            "grid_template_columns": null,
            "grid_template_rows": null,
            "height": null,
            "justify_content": null,
            "justify_items": null,
            "left": null,
            "margin": null,
            "max_height": null,
            "max_width": null,
            "min_height": null,
            "min_width": null,
            "object_fit": null,
            "object_position": null,
            "order": null,
            "overflow": null,
            "overflow_x": null,
            "overflow_y": null,
            "padding": null,
            "right": null,
            "top": null,
            "visibility": null,
            "width": null
          }
        },
        "4d84176bc5634509a71e8d010546fdec": {
          "model_module": "@jupyter-widgets/base",
          "model_name": "LayoutModel",
          "model_module_version": "1.2.0",
          "state": {
            "_model_module": "@jupyter-widgets/base",
            "_model_module_version": "1.2.0",
            "_model_name": "LayoutModel",
            "_view_count": null,
            "_view_module": "@jupyter-widgets/base",
            "_view_module_version": "1.2.0",
            "_view_name": "LayoutView",
            "align_content": null,
            "align_items": null,
            "align_self": null,
            "border": null,
            "bottom": null,
            "display": null,
            "flex": null,
            "flex_flow": null,
            "grid_area": null,
            "grid_auto_columns": null,
            "grid_auto_flow": null,
            "grid_auto_rows": null,
            "grid_column": null,
            "grid_gap": null,
            "grid_row": null,
            "grid_template_areas": null,
            "grid_template_columns": null,
            "grid_template_rows": null,
            "height": null,
            "justify_content": null,
            "justify_items": null,
            "left": null,
            "margin": null,
            "max_height": null,
            "max_width": null,
            "min_height": null,
            "min_width": null,
            "object_fit": null,
            "object_position": null,
            "order": null,
            "overflow": null,
            "overflow_x": null,
            "overflow_y": null,
            "padding": null,
            "right": null,
            "top": null,
            "visibility": null,
            "width": null
          }
        },
        "8669aed87b41441b91a46aac805ec641": {
          "model_module": "@jupyter-widgets/controls",
          "model_name": "DescriptionStyleModel",
          "model_module_version": "1.5.0",
          "state": {
            "_model_module": "@jupyter-widgets/controls",
            "_model_module_version": "1.5.0",
            "_model_name": "DescriptionStyleModel",
            "_view_count": null,
            "_view_module": "@jupyter-widgets/base",
            "_view_module_version": "1.2.0",
            "_view_name": "StyleView",
            "description_width": ""
          }
        },
        "a6c8d91cec9047e4b69793d3911f83e4": {
          "model_module": "@jupyter-widgets/base",
          "model_name": "LayoutModel",
          "model_module_version": "1.2.0",
          "state": {
            "_model_module": "@jupyter-widgets/base",
            "_model_module_version": "1.2.0",
            "_model_name": "LayoutModel",
            "_view_count": null,
            "_view_module": "@jupyter-widgets/base",
            "_view_module_version": "1.2.0",
            "_view_name": "LayoutView",
            "align_content": null,
            "align_items": null,
            "align_self": null,
            "border": null,
            "bottom": null,
            "display": null,
            "flex": null,
            "flex_flow": null,
            "grid_area": null,
            "grid_auto_columns": null,
            "grid_auto_flow": null,
            "grid_auto_rows": null,
            "grid_column": null,
            "grid_gap": null,
            "grid_row": null,
            "grid_template_areas": null,
            "grid_template_columns": null,
            "grid_template_rows": null,
            "height": null,
            "justify_content": null,
            "justify_items": null,
            "left": null,
            "margin": null,
            "max_height": null,
            "max_width": null,
            "min_height": null,
            "min_width": null,
            "object_fit": null,
            "object_position": null,
            "order": null,
            "overflow": null,
            "overflow_x": null,
            "overflow_y": null,
            "padding": null,
            "right": null,
            "top": null,
            "visibility": null,
            "width": null
          }
        },
        "e06bb05a4f7448e29da120c15e901285": {
          "model_module": "@jupyter-widgets/controls",
          "model_name": "ProgressStyleModel",
          "model_module_version": "1.5.0",
          "state": {
            "_model_module": "@jupyter-widgets/controls",
            "_model_module_version": "1.5.0",
            "_model_name": "ProgressStyleModel",
            "_view_count": null,
            "_view_module": "@jupyter-widgets/base",
            "_view_module_version": "1.2.0",
            "_view_name": "StyleView",
            "bar_color": null,
            "description_width": ""
          }
        },
        "ef857f2e65bd410297ffa38f3974e658": {
          "model_module": "@jupyter-widgets/base",
          "model_name": "LayoutModel",
          "model_module_version": "1.2.0",
          "state": {
            "_model_module": "@jupyter-widgets/base",
            "_model_module_version": "1.2.0",
            "_model_name": "LayoutModel",
            "_view_count": null,
            "_view_module": "@jupyter-widgets/base",
            "_view_module_version": "1.2.0",
            "_view_name": "LayoutView",
            "align_content": null,
            "align_items": null,
            "align_self": null,
            "border": null,
            "bottom": null,
            "display": null,
            "flex": null,
            "flex_flow": null,
            "grid_area": null,
            "grid_auto_columns": null,
            "grid_auto_flow": null,
            "grid_auto_rows": null,
            "grid_column": null,
            "grid_gap": null,
            "grid_row": null,
            "grid_template_areas": null,
            "grid_template_columns": null,
            "grid_template_rows": null,
            "height": null,
            "justify_content": null,
            "justify_items": null,
            "left": null,
            "margin": null,
            "max_height": null,
            "max_width": null,
            "min_height": null,
            "min_width": null,
            "object_fit": null,
            "object_position": null,
            "order": null,
            "overflow": null,
            "overflow_x": null,
            "overflow_y": null,
            "padding": null,
            "right": null,
            "top": null,
            "visibility": null,
            "width": null
          }
        },
        "5f2cf283e673434b859fb166a2354de2": {
          "model_module": "@jupyter-widgets/controls",
          "model_name": "DescriptionStyleModel",
          "model_module_version": "1.5.0",
          "state": {
            "_model_module": "@jupyter-widgets/controls",
            "_model_module_version": "1.5.0",
            "_model_name": "DescriptionStyleModel",
            "_view_count": null,
            "_view_module": "@jupyter-widgets/base",
            "_view_module_version": "1.2.0",
            "_view_name": "StyleView",
            "description_width": ""
          }
        },
        "af784ee2337d4ddbb391be95e611cc37": {
          "model_module": "@jupyter-widgets/controls",
          "model_name": "HBoxModel",
          "model_module_version": "1.5.0",
          "state": {
            "_dom_classes": [],
            "_model_module": "@jupyter-widgets/controls",
            "_model_module_version": "1.5.0",
            "_model_name": "HBoxModel",
            "_view_count": null,
            "_view_module": "@jupyter-widgets/controls",
            "_view_module_version": "1.5.0",
            "_view_name": "HBoxView",
            "box_style": "",
            "children": [
              "IPY_MODEL_75aa978fd8564db592e4d8fa13b10c24",
              "IPY_MODEL_2e3680bd913740dcbb0107d93357b40a",
              "IPY_MODEL_12774d25280f4580afc2d6ecff89e8f5"
            ],
            "layout": "IPY_MODEL_4553c020540e4c72a903e4646868f334"
          }
        },
        "75aa978fd8564db592e4d8fa13b10c24": {
          "model_module": "@jupyter-widgets/controls",
          "model_name": "HTMLModel",
          "model_module_version": "1.5.0",
          "state": {
            "_dom_classes": [],
            "_model_module": "@jupyter-widgets/controls",
            "_model_module_version": "1.5.0",
            "_model_name": "HTMLModel",
            "_view_count": null,
            "_view_module": "@jupyter-widgets/controls",
            "_view_module_version": "1.5.0",
            "_view_name": "HTMLView",
            "description": "",
            "description_tooltip": null,
            "layout": "IPY_MODEL_3379d713f1df4fb1983e2a5ff5293d24",
            "placeholder": "​",
            "style": "IPY_MODEL_cdcb0a1117b0490298be8bdd56c80cf8",
            "value": "Generating train split: 100%"
          }
        },
        "2e3680bd913740dcbb0107d93357b40a": {
          "model_module": "@jupyter-widgets/controls",
          "model_name": "FloatProgressModel",
          "model_module_version": "1.5.0",
          "state": {
            "_dom_classes": [],
            "_model_module": "@jupyter-widgets/controls",
            "_model_module_version": "1.5.0",
            "_model_name": "FloatProgressModel",
            "_view_count": null,
            "_view_module": "@jupyter-widgets/controls",
            "_view_module_version": "1.5.0",
            "_view_name": "ProgressView",
            "bar_style": "success",
            "description": "",
            "description_tooltip": null,
            "layout": "IPY_MODEL_4d8a63d6929c439ab9fcdf6438facaa8",
            "max": 1000,
            "min": 0,
            "orientation": "horizontal",
            "style": "IPY_MODEL_43a94d860b5341b08ce591917e9644e3",
            "value": 1000
          }
        },
        "12774d25280f4580afc2d6ecff89e8f5": {
          "model_module": "@jupyter-widgets/controls",
          "model_name": "HTMLModel",
          "model_module_version": "1.5.0",
          "state": {
            "_dom_classes": [],
            "_model_module": "@jupyter-widgets/controls",
            "_model_module_version": "1.5.0",
            "_model_name": "HTMLModel",
            "_view_count": null,
            "_view_module": "@jupyter-widgets/controls",
            "_view_module_version": "1.5.0",
            "_view_name": "HTMLView",
            "description": "",
            "description_tooltip": null,
            "layout": "IPY_MODEL_3aa109ff046e458da4a83e19b5f8a9c6",
            "placeholder": "​",
            "style": "IPY_MODEL_7309011ac3794eeaa79c1d1dd5ca317e",
            "value": " 1000/1000 [00:01&lt;00:00, 813.30 examples/s]"
          }
        },
        "4553c020540e4c72a903e4646868f334": {
          "model_module": "@jupyter-widgets/base",
          "model_name": "LayoutModel",
          "model_module_version": "1.2.0",
          "state": {
            "_model_module": "@jupyter-widgets/base",
            "_model_module_version": "1.2.0",
            "_model_name": "LayoutModel",
            "_view_count": null,
            "_view_module": "@jupyter-widgets/base",
            "_view_module_version": "1.2.0",
            "_view_name": "LayoutView",
            "align_content": null,
            "align_items": null,
            "align_self": null,
            "border": null,
            "bottom": null,
            "display": null,
            "flex": null,
            "flex_flow": null,
            "grid_area": null,
            "grid_auto_columns": null,
            "grid_auto_flow": null,
            "grid_auto_rows": null,
            "grid_column": null,
            "grid_gap": null,
            "grid_row": null,
            "grid_template_areas": null,
            "grid_template_columns": null,
            "grid_template_rows": null,
            "height": null,
            "justify_content": null,
            "justify_items": null,
            "left": null,
            "margin": null,
            "max_height": null,
            "max_width": null,
            "min_height": null,
            "min_width": null,
            "object_fit": null,
            "object_position": null,
            "order": null,
            "overflow": null,
            "overflow_x": null,
            "overflow_y": null,
            "padding": null,
            "right": null,
            "top": null,
            "visibility": null,
            "width": null
          }
        },
        "3379d713f1df4fb1983e2a5ff5293d24": {
          "model_module": "@jupyter-widgets/base",
          "model_name": "LayoutModel",
          "model_module_version": "1.2.0",
          "state": {
            "_model_module": "@jupyter-widgets/base",
            "_model_module_version": "1.2.0",
            "_model_name": "LayoutModel",
            "_view_count": null,
            "_view_module": "@jupyter-widgets/base",
            "_view_module_version": "1.2.0",
            "_view_name": "LayoutView",
            "align_content": null,
            "align_items": null,
            "align_self": null,
            "border": null,
            "bottom": null,
            "display": null,
            "flex": null,
            "flex_flow": null,
            "grid_area": null,
            "grid_auto_columns": null,
            "grid_auto_flow": null,
            "grid_auto_rows": null,
            "grid_column": null,
            "grid_gap": null,
            "grid_row": null,
            "grid_template_areas": null,
            "grid_template_columns": null,
            "grid_template_rows": null,
            "height": null,
            "justify_content": null,
            "justify_items": null,
            "left": null,
            "margin": null,
            "max_height": null,
            "max_width": null,
            "min_height": null,
            "min_width": null,
            "object_fit": null,
            "object_position": null,
            "order": null,
            "overflow": null,
            "overflow_x": null,
            "overflow_y": null,
            "padding": null,
            "right": null,
            "top": null,
            "visibility": null,
            "width": null
          }
        },
        "cdcb0a1117b0490298be8bdd56c80cf8": {
          "model_module": "@jupyter-widgets/controls",
          "model_name": "DescriptionStyleModel",
          "model_module_version": "1.5.0",
          "state": {
            "_model_module": "@jupyter-widgets/controls",
            "_model_module_version": "1.5.0",
            "_model_name": "DescriptionStyleModel",
            "_view_count": null,
            "_view_module": "@jupyter-widgets/base",
            "_view_module_version": "1.2.0",
            "_view_name": "StyleView",
            "description_width": ""
          }
        },
        "4d8a63d6929c439ab9fcdf6438facaa8": {
          "model_module": "@jupyter-widgets/base",
          "model_name": "LayoutModel",
          "model_module_version": "1.2.0",
          "state": {
            "_model_module": "@jupyter-widgets/base",
            "_model_module_version": "1.2.0",
            "_model_name": "LayoutModel",
            "_view_count": null,
            "_view_module": "@jupyter-widgets/base",
            "_view_module_version": "1.2.0",
            "_view_name": "LayoutView",
            "align_content": null,
            "align_items": null,
            "align_self": null,
            "border": null,
            "bottom": null,
            "display": null,
            "flex": null,
            "flex_flow": null,
            "grid_area": null,
            "grid_auto_columns": null,
            "grid_auto_flow": null,
            "grid_auto_rows": null,
            "grid_column": null,
            "grid_gap": null,
            "grid_row": null,
            "grid_template_areas": null,
            "grid_template_columns": null,
            "grid_template_rows": null,
            "height": null,
            "justify_content": null,
            "justify_items": null,
            "left": null,
            "margin": null,
            "max_height": null,
            "max_width": null,
            "min_height": null,
            "min_width": null,
            "object_fit": null,
            "object_position": null,
            "order": null,
            "overflow": null,
            "overflow_x": null,
            "overflow_y": null,
            "padding": null,
            "right": null,
            "top": null,
            "visibility": null,
            "width": null
          }
        },
        "43a94d860b5341b08ce591917e9644e3": {
          "model_module": "@jupyter-widgets/controls",
          "model_name": "ProgressStyleModel",
          "model_module_version": "1.5.0",
          "state": {
            "_model_module": "@jupyter-widgets/controls",
            "_model_module_version": "1.5.0",
            "_model_name": "ProgressStyleModel",
            "_view_count": null,
            "_view_module": "@jupyter-widgets/base",
            "_view_module_version": "1.2.0",
            "_view_name": "StyleView",
            "bar_color": null,
            "description_width": ""
          }
        },
        "3aa109ff046e458da4a83e19b5f8a9c6": {
          "model_module": "@jupyter-widgets/base",
          "model_name": "LayoutModel",
          "model_module_version": "1.2.0",
          "state": {
            "_model_module": "@jupyter-widgets/base",
            "_model_module_version": "1.2.0",
            "_model_name": "LayoutModel",
            "_view_count": null,
            "_view_module": "@jupyter-widgets/base",
            "_view_module_version": "1.2.0",
            "_view_name": "LayoutView",
            "align_content": null,
            "align_items": null,
            "align_self": null,
            "border": null,
            "bottom": null,
            "display": null,
            "flex": null,
            "flex_flow": null,
            "grid_area": null,
            "grid_auto_columns": null,
            "grid_auto_flow": null,
            "grid_auto_rows": null,
            "grid_column": null,
            "grid_gap": null,
            "grid_row": null,
            "grid_template_areas": null,
            "grid_template_columns": null,
            "grid_template_rows": null,
            "height": null,
            "justify_content": null,
            "justify_items": null,
            "left": null,
            "margin": null,
            "max_height": null,
            "max_width": null,
            "min_height": null,
            "min_width": null,
            "object_fit": null,
            "object_position": null,
            "order": null,
            "overflow": null,
            "overflow_x": null,
            "overflow_y": null,
            "padding": null,
            "right": null,
            "top": null,
            "visibility": null,
            "width": null
          }
        },
        "7309011ac3794eeaa79c1d1dd5ca317e": {
          "model_module": "@jupyter-widgets/controls",
          "model_name": "DescriptionStyleModel",
          "model_module_version": "1.5.0",
          "state": {
            "_model_module": "@jupyter-widgets/controls",
            "_model_module_version": "1.5.0",
            "_model_name": "DescriptionStyleModel",
            "_view_count": null,
            "_view_module": "@jupyter-widgets/base",
            "_view_module_version": "1.2.0",
            "_view_name": "StyleView",
            "description_width": ""
          }
        }
      }
    }
  },
  "nbformat": 4,
  "nbformat_minor": 0
}